{
  "cells": [
    {
      "cell_type": "markdown",
      "id": "d5a29734",
      "metadata": {
        "id": "d5a29734"
      },
      "source": [
        "### Leia o arquivo dos dados da Receita Federal e cruze eles com os dados da CEAP"
      ]
    },
    {
      "cell_type": "code",
      "source": [
        "import pandas as pd\n",
        "import requests"
      ],
      "metadata": {
        "id": "uOtAb6WVayvt"
      },
      "id": "uOtAb6WVayvt",
      "execution_count": 2,
      "outputs": []
    },
    {
      "cell_type": "markdown",
      "source": [
        "CEAP"
      ],
      "metadata": {
        "id": "8hNZssEvh6pn"
      },
      "id": "8hNZssEvh6pn"
    },
    {
      "cell_type": "code",
      "execution_count": 8,
      "id": "44e86205",
      "metadata": {
        "id": "44e86205"
      },
      "outputs": [],
      "source": [
        "# fazendo o download do conteúdo do arquivo da CEAP\n",
        "url = f\"http://www.camara.leg.br/cotas/Ano-2019.csv.zip\"\n",
        "\n",
        "r = requests.get(url)\n",
        "\n",
        "with open(f\"Ano-2019.csv.zip\", \"wb\") as code:\n",
        "   code.write(r.content)"
      ]
    },
    {
      "cell_type": "code",
      "source": [
        "# Descompactando o arquivo zip da CEAP\n",
        "from zipfile import ZipFile\n",
        "\n",
        "# Descompactando arquivo\n",
        "arquivo = ZipFile(f\"Ano-2019.csv.zip\", \"r\")\n",
        "\n",
        "lista_itens_arquivo = arquivo.namelist()\n",
        "\n",
        "arquivo.extract(member=lista_itens_arquivo[0], path=f\"reembolso-2019\")\n",
        "\n",
        "arquivo.close()"
      ],
      "metadata": {
        "id": "tktz5FzKfVcF"
      },
      "id": "tktz5FzKfVcF",
      "execution_count": 10,
      "outputs": []
    },
    {
      "cell_type": "code",
      "source": [
        "# Lendo os dados da CEAP\n",
        "df_ceap_completo = pd.read_csv(\"reembolso-2019/Ano-2019.csv\", sep=\";\")\n",
        "\n",
        "df_ceap_completo.head()"
      ],
      "metadata": {
        "id": "1mY0_nyUiKJh"
      },
      "id": "1mY0_nyUiKJh",
      "execution_count": null,
      "outputs": []
    },
    {
      "cell_type": "markdown",
      "source": [
        "RECEITA FEDERAL"
      ],
      "metadata": {
        "id": "SnsXbcW7h7fF"
      },
      "id": "SnsXbcW7h7fF"
    },
    {
      "cell_type": "code",
      "source": [
        "# fazendo o download do conteúdo do arquivo da Receita Federal\n",
        "import requests\n",
        "\n",
        "url = \"https://serenata-de-amor-data.nyc3.digitaloceanspaces.com/2019-11-19-companies.csv.xz\"\n",
        "\n",
        "r = requests.get(url)\n",
        "\n",
        "# abrindo um arquivo no seu computador\n",
        "file = open(\"2019-11-19-companies.csv.xz\", \"wb\")\n",
        "\n",
        "# escrever o conteúdo\n",
        "file.write(r.content)\n",
        "file.close()"
      ],
      "metadata": {
        "id": "KlC1Oeu_h8lL"
      },
      "id": "KlC1Oeu_h8lL",
      "execution_count": 13,
      "outputs": []
    },
    {
      "cell_type": "code",
      "source": [
        "# Lendo os dados da Receita\n",
        "\n",
        "DTYPE = {\n",
        "    'cnpj': str,\n",
        "}\n",
        "\n",
        "df_receita_completo = pd.read_csv(\n",
        "    '2019-11-19-companies.csv.xz', # .xz é um arquivo compactado\n",
        "    compression='xz',\n",
        "    dtype=DTYPE,\n",
        ")\n",
        "df_receita_completo.head(1)"
      ],
      "metadata": {
        "id": "7GCWXxUDjzWT"
      },
      "id": "7GCWXxUDjzWT",
      "execution_count": null,
      "outputs": []
    },
    {
      "cell_type": "markdown",
      "source": [
        "CRUZANDO OS DADOS DA CEAP COM OS DA RECEITA"
      ],
      "metadata": {
        "id": "rnGUmep8kqMh"
      },
      "id": "rnGUmep8kqMh"
    },
    {
      "cell_type": "code",
      "source": [
        "df_final = df_ceap_completo.merge(\n",
        "    df_receita_completo,\n",
        "    how='left',\n",
        "    left_on='txtCNPJCPF',\n",
        "    right_on='cnpj'\n",
        ")"
      ],
      "metadata": {
        "id": "Tqp2ielOks5Y"
      },
      "id": "Tqp2ielOks5Y",
      "execution_count": 16,
      "outputs": []
    },
    {
      "cell_type": "code",
      "source": [
        "# Exportando o cruzamento de dados para um arquivo csv\n",
        "df_final.to_csv(\"reembolso-2019-completo.csv\")"
      ],
      "metadata": {
        "id": "pzLt570XlA6j"
      },
      "id": "pzLt570XlA6j",
      "execution_count": 18,
      "outputs": []
    },
    {
      "cell_type": "markdown",
      "id": "8d638f74",
      "metadata": {
        "id": "8d638f74"
      },
      "source": [
        "### Some o total da coluna `vlrLiquido` agrupando por `txtCNPJCPF` e `txtFornecedor`"
      ]
    },
    {
      "cell_type": "code",
      "source": [
        "df_final[\"vlrLiquido\"].head()"
      ],
      "metadata": {
        "id": "6rleVHY6ye13",
        "outputId": "bfcc9a13-f3e8-4f0c-a02a-30a9157a1d94",
        "colab": {
          "base_uri": "https://localhost:8080/"
        }
      },
      "id": "6rleVHY6ye13",
      "execution_count": 30,
      "outputs": [
        {
          "output_type": "execute_result",
          "data": {
            "text/plain": [
              "0    2100.0\n",
              "1    1200.0\n",
              "2    1650.0\n",
              "3    1200.0\n",
              "4    1200.0\n",
              "Name: vlrLiquido, dtype: float64"
            ]
          },
          "metadata": {},
          "execution_count": 30
        }
      ]
    },
    {
      "cell_type": "code",
      "source": [
        "df_final[\"vlrLiquido\"].sum()"
      ],
      "metadata": {
        "id": "F17iTCCwzVJE",
        "outputId": "c36cad7d-3af1-408f-f80b-70b8dd5d4c92",
        "colab": {
          "base_uri": "https://localhost:8080/"
        }
      },
      "id": "F17iTCCwzVJE",
      "execution_count": 32,
      "outputs": [
        {
          "output_type": "execute_result",
          "data": {
            "text/plain": [
              "150646293.36"
            ]
          },
          "metadata": {},
          "execution_count": 32
        }
      ]
    },
    {
      "cell_type": "code",
      "source": [
        "df_final[\"vlrLiquido\"].head().sum()"
      ],
      "metadata": {
        "id": "oqo4jV0YyOB5",
        "outputId": "e7eab160-5308-435d-b293-0fa6c5453d25",
        "colab": {
          "base_uri": "https://localhost:8080/"
        }
      },
      "id": "oqo4jV0YyOB5",
      "execution_count": 29,
      "outputs": [
        {
          "output_type": "execute_result",
          "data": {
            "text/plain": [
              "7350.0"
            ]
          },
          "metadata": {},
          "execution_count": 29
        }
      ]
    },
    {
      "cell_type": "code",
      "execution_count": 41,
      "id": "8517c3e0",
      "metadata": {
        "id": "8517c3e0",
        "outputId": "4fd5a9ab-4854-42b8-96d6-57d5d14bb96f",
        "colab": {
          "base_uri": "https://localhost:8080/"
        }
      },
      "outputs": [
        {
          "output_type": "execute_result",
          "data": {
            "text/plain": [
              "txtCNPJCPF          txtFornecedor                                \n",
              "000.000.000/0000-0  GLOBAL LUXURY SUITES AT KENDALL WEST              4771.51\n",
              "                    PREFEITURA MUNICIPAL DE FORTALEZA                   78.00\n",
              "                    sheraton montevieo                                 432.93\n",
              "000.000.000/0001-0  1919 TAXI CELERITAS                                 32.97\n",
              "                    ADOBE SYSTEMS SOFTWARE                             348.00\n",
              "                                                                       ...   \n",
              "985.911.420/0017-5  Radio Venancio Aires Ltda                         1420.00\n",
              "985.977.190/0015-6  EMPRESA JORNALISTICA FOLHA DO MATE LTDA - EPP      115.00\n",
              "986.706.560/0011-6  RESTAURANTE FARINA LTDA                             27.00\n",
              "991.121.599/72  -   DANYELA LONDERO BERNARDI                           180.00\n",
              "999.200.001/59  -   Franscielle Maria de Souza                       13500.00\n",
              "Name: vlrLiquido, Length: 24047, dtype: float64"
            ]
          },
          "metadata": {},
          "execution_count": 41
        }
      ],
      "source": [
        "df_final.groupby([\"txtCNPJCPF\",\"txtFornecedor\"])[\"vlrLiquido\"].sum()"
      ]
    },
    {
      "cell_type": "code",
      "source": [
        "# Ordenando de forma crescente\n",
        "df_final.groupby([\"txtCNPJCPF\",\"txtFornecedor\"])[\"vlrLiquido\"].sum().sort_values(ascending=True)"
      ],
      "metadata": {
        "id": "mUCUYMSv64Ec",
        "outputId": "71e2f87e-2eab-4761-94fc-69840fd214b0",
        "colab": {
          "base_uri": "https://localhost:8080/"
        }
      },
      "id": "mUCUYMSv64Ec",
      "execution_count": 42,
      "outputs": [
        {
          "output_type": "execute_result",
          "data": {
            "text/plain": [
              "txtCNPJCPF          txtFornecedor                                                  \n",
              "301.590.080/0016-6  PAPELARIA E BAZAR SANTA LUZIA                                            2.20\n",
              "738.300.690/0011-6  J.V. COMÉRCIO DE PETRÓLEO LTDA.                                          2.55\n",
              "185.722.250/0026-9  Concessionária das Rodovias Centrais do Brasil  S/A                      3.30\n",
              "046.992.000/0013-5  W P PARK ESTACIONAMENTO LTDA ME                                          3.60\n",
              "024.154.080/0015-0  CONCESSIONARIA DE RODOVIAS DO OESTE DE SAO PAULO - VIAOESTE S/A          3.80\n",
              "                                                                                          ...    \n",
              "026.102.350/0012-0  DMD Gestão Administrativa LTDA - ME                                 805000.00\n",
              "025.581.570/0016-2  TELEFÔNICA BRASIL S.A. VIVO                                         860813.15\n",
              "237.210.170/0013-3  T2 COMUNICACAO, VIDEO E PRODUCOES EIRELI - EPP                     1097334.00\n",
              "020.128.620/0016-0  TAM LINHAS AEREAS S/A.                                             1172126.78\n",
              "073.193.230/0019-1  PANTANAL VEÍCULOS LTDA                                             2181274.52\n",
              "Name: vlrLiquido, Length: 24047, dtype: float64"
            ]
          },
          "metadata": {},
          "execution_count": 42
        }
      ]
    },
    {
      "cell_type": "markdown",
      "id": "722d01d0",
      "metadata": {
        "id": "722d01d0"
      },
      "source": [
        "### Ordene os dados da consulta anterior de forma decrescente"
      ]
    },
    {
      "cell_type": "code",
      "execution_count": 43,
      "id": "c154660e",
      "metadata": {
        "id": "c154660e",
        "outputId": "19149b05-5e6e-43b4-f886-3eb22cceab39",
        "colab": {
          "base_uri": "https://localhost:8080/"
        }
      },
      "outputs": [
        {
          "output_type": "execute_result",
          "data": {
            "text/plain": [
              "txtCNPJCPF          txtFornecedor                                                  \n",
              "073.193.230/0019-1  PANTANAL VEÍCULOS LTDA                                             2181274.52\n",
              "020.128.620/0016-0  TAM LINHAS AEREAS S/A.                                             1172126.78\n",
              "237.210.170/0013-3  T2 COMUNICACAO, VIDEO E PRODUCOES EIRELI - EPP                     1097334.00\n",
              "025.581.570/0016-2  TELEFÔNICA BRASIL S.A. VIVO                                         860813.15\n",
              "026.102.350/0012-0  DMD Gestão Administrativa LTDA - ME                                 805000.00\n",
              "                                                                                          ...    \n",
              "024.154.080/0015-0  CONCESSIONARIA DE RODOVIAS DO OESTE DE SAO PAULO - VIAOESTE S/A          3.80\n",
              "046.992.000/0013-5  W P PARK ESTACIONAMENTO LTDA ME                                          3.60\n",
              "185.722.250/0026-9  Concessionária das Rodovias Centrais do Brasil  S/A                      3.30\n",
              "738.300.690/0011-6  J.V. COMÉRCIO DE PETRÓLEO LTDA.                                          2.55\n",
              "301.590.080/0016-6  PAPELARIA E BAZAR SANTA LUZIA                                            2.20\n",
              "Name: vlrLiquido, Length: 24047, dtype: float64"
            ]
          },
          "metadata": {},
          "execution_count": 43
        }
      ],
      "source": [
        "df_final.groupby([\"txtCNPJCPF\",\"txtFornecedor\"])[\"vlrLiquido\"].sum().sort_values(ascending=False)"
      ]
    },
    {
      "cell_type": "markdown",
      "id": "12fc64d4",
      "metadata": {
        "id": "12fc64d4"
      },
      "source": [
        "### Consulte se houveram gastos reembolsados associados a empresas que na época estavam com status `08`\n",
        "\n",
        "\n",
        "status == 8 significa `BAIXADA` (*a empresa foi extinta, seja por solicitação dos sócios ou por ação da Receita*)"
      ]
    },
    {
      "cell_type": "code",
      "source": [
        "df_final.head()"
      ],
      "metadata": {
        "id": "M1qmqq8lAiwx",
        "outputId": "f4cbf4ce-0413-4187-c408-e10a31c2abdd",
        "colab": {
          "base_uri": "https://localhost:8080/",
          "height": 647
        }
      },
      "id": "M1qmqq8lAiwx",
      "execution_count": 47,
      "outputs": [
        {
          "output_type": "execute_result",
          "data": {
            "text/plain": [
              "  txNomeParlamentar  cpf  ideCadastro  nuCarteiraParlamentar  nuLegislatura  \\\n",
              "0            AVANTE  NaN          NaN                    NaN           2019   \n",
              "1            AVANTE  NaN          NaN                    NaN           2019   \n",
              "2            AVANTE  NaN          NaN                    NaN           2019   \n",
              "3            AVANTE  NaN          NaN                    NaN           2019   \n",
              "4            AVANTE  NaN          NaN                    NaN           2019   \n",
              "\n",
              "  sgUF sgPartido  codLegislatura  numSubCota  \\\n",
              "0  NaN       NaN              56          13   \n",
              "1  NaN       NaN              56          13   \n",
              "2  NaN       NaN              56          13   \n",
              "3  NaN       NaN              56          13   \n",
              "4  NaN       NaN              56          13   \n",
              "\n",
              "                                 txtDescricao  ...  simples size  \\\n",
              "0  FORNECIMENTO DE ALIMENTAÇÃO DO PARLAMENTAR  ...      NaN  NaN   \n",
              "1  FORNECIMENTO DE ALIMENTAÇÃO DO PARLAMENTAR  ...      NaN  NaN   \n",
              "2  FORNECIMENTO DE ALIMENTAÇÃO DO PARLAMENTAR  ...      NaN  NaN   \n",
              "3  FORNECIMENTO DE ALIMENTAÇÃO DO PARLAMENTAR  ...      NaN  NaN   \n",
              "4  FORNECIMENTO DE ALIMENTAÇÃO DO PARLAMENTAR  ...      NaN  NaN   \n",
              "\n",
              "  administrative_person_category name situation  special_situation phone  \\\n",
              "0                            NaN  NaN       NaN                NaN   NaN   \n",
              "1                            NaN  NaN       NaN                NaN   NaN   \n",
              "2                            NaN  NaN       NaN                NaN   NaN   \n",
              "3                            NaN  NaN       NaN                NaN   NaN   \n",
              "4                            NaN  NaN       NaN                NaN   NaN   \n",
              "\n",
              "   type  state  last_updated  \n",
              "0   NaN    NaN           NaN  \n",
              "1   NaN    NaN           NaN  \n",
              "2   NaN    NaN           NaN  \n",
              "3   NaN    NaN           NaN  \n",
              "4   NaN    NaN           NaN  \n",
              "\n",
              "[5 rows x 75 columns]"
            ],
            "text/html": [
              "\n",
              "\n",
              "  <div id=\"df-d2128a75-f713-43b6-a071-cf29f4016100\">\n",
              "    <div class=\"colab-df-container\">\n",
              "      <div>\n",
              "<style scoped>\n",
              "    .dataframe tbody tr th:only-of-type {\n",
              "        vertical-align: middle;\n",
              "    }\n",
              "\n",
              "    .dataframe tbody tr th {\n",
              "        vertical-align: top;\n",
              "    }\n",
              "\n",
              "    .dataframe thead th {\n",
              "        text-align: right;\n",
              "    }\n",
              "</style>\n",
              "<table border=\"1\" class=\"dataframe\">\n",
              "  <thead>\n",
              "    <tr style=\"text-align: right;\">\n",
              "      <th></th>\n",
              "      <th>txNomeParlamentar</th>\n",
              "      <th>cpf</th>\n",
              "      <th>ideCadastro</th>\n",
              "      <th>nuCarteiraParlamentar</th>\n",
              "      <th>nuLegislatura</th>\n",
              "      <th>sgUF</th>\n",
              "      <th>sgPartido</th>\n",
              "      <th>codLegislatura</th>\n",
              "      <th>numSubCota</th>\n",
              "      <th>txtDescricao</th>\n",
              "      <th>...</th>\n",
              "      <th>simples</th>\n",
              "      <th>size</th>\n",
              "      <th>administrative_person_category</th>\n",
              "      <th>name</th>\n",
              "      <th>situation</th>\n",
              "      <th>special_situation</th>\n",
              "      <th>phone</th>\n",
              "      <th>type</th>\n",
              "      <th>state</th>\n",
              "      <th>last_updated</th>\n",
              "    </tr>\n",
              "  </thead>\n",
              "  <tbody>\n",
              "    <tr>\n",
              "      <th>0</th>\n",
              "      <td>AVANTE</td>\n",
              "      <td>NaN</td>\n",
              "      <td>NaN</td>\n",
              "      <td>NaN</td>\n",
              "      <td>2019</td>\n",
              "      <td>NaN</td>\n",
              "      <td>NaN</td>\n",
              "      <td>56</td>\n",
              "      <td>13</td>\n",
              "      <td>FORNECIMENTO DE ALIMENTAÇÃO DO PARLAMENTAR</td>\n",
              "      <td>...</td>\n",
              "      <td>NaN</td>\n",
              "      <td>NaN</td>\n",
              "      <td>NaN</td>\n",
              "      <td>NaN</td>\n",
              "      <td>NaN</td>\n",
              "      <td>NaN</td>\n",
              "      <td>NaN</td>\n",
              "      <td>NaN</td>\n",
              "      <td>NaN</td>\n",
              "      <td>NaN</td>\n",
              "    </tr>\n",
              "    <tr>\n",
              "      <th>1</th>\n",
              "      <td>AVANTE</td>\n",
              "      <td>NaN</td>\n",
              "      <td>NaN</td>\n",
              "      <td>NaN</td>\n",
              "      <td>2019</td>\n",
              "      <td>NaN</td>\n",
              "      <td>NaN</td>\n",
              "      <td>56</td>\n",
              "      <td>13</td>\n",
              "      <td>FORNECIMENTO DE ALIMENTAÇÃO DO PARLAMENTAR</td>\n",
              "      <td>...</td>\n",
              "      <td>NaN</td>\n",
              "      <td>NaN</td>\n",
              "      <td>NaN</td>\n",
              "      <td>NaN</td>\n",
              "      <td>NaN</td>\n",
              "      <td>NaN</td>\n",
              "      <td>NaN</td>\n",
              "      <td>NaN</td>\n",
              "      <td>NaN</td>\n",
              "      <td>NaN</td>\n",
              "    </tr>\n",
              "    <tr>\n",
              "      <th>2</th>\n",
              "      <td>AVANTE</td>\n",
              "      <td>NaN</td>\n",
              "      <td>NaN</td>\n",
              "      <td>NaN</td>\n",
              "      <td>2019</td>\n",
              "      <td>NaN</td>\n",
              "      <td>NaN</td>\n",
              "      <td>56</td>\n",
              "      <td>13</td>\n",
              "      <td>FORNECIMENTO DE ALIMENTAÇÃO DO PARLAMENTAR</td>\n",
              "      <td>...</td>\n",
              "      <td>NaN</td>\n",
              "      <td>NaN</td>\n",
              "      <td>NaN</td>\n",
              "      <td>NaN</td>\n",
              "      <td>NaN</td>\n",
              "      <td>NaN</td>\n",
              "      <td>NaN</td>\n",
              "      <td>NaN</td>\n",
              "      <td>NaN</td>\n",
              "      <td>NaN</td>\n",
              "    </tr>\n",
              "    <tr>\n",
              "      <th>3</th>\n",
              "      <td>AVANTE</td>\n",
              "      <td>NaN</td>\n",
              "      <td>NaN</td>\n",
              "      <td>NaN</td>\n",
              "      <td>2019</td>\n",
              "      <td>NaN</td>\n",
              "      <td>NaN</td>\n",
              "      <td>56</td>\n",
              "      <td>13</td>\n",
              "      <td>FORNECIMENTO DE ALIMENTAÇÃO DO PARLAMENTAR</td>\n",
              "      <td>...</td>\n",
              "      <td>NaN</td>\n",
              "      <td>NaN</td>\n",
              "      <td>NaN</td>\n",
              "      <td>NaN</td>\n",
              "      <td>NaN</td>\n",
              "      <td>NaN</td>\n",
              "      <td>NaN</td>\n",
              "      <td>NaN</td>\n",
              "      <td>NaN</td>\n",
              "      <td>NaN</td>\n",
              "    </tr>\n",
              "    <tr>\n",
              "      <th>4</th>\n",
              "      <td>AVANTE</td>\n",
              "      <td>NaN</td>\n",
              "      <td>NaN</td>\n",
              "      <td>NaN</td>\n",
              "      <td>2019</td>\n",
              "      <td>NaN</td>\n",
              "      <td>NaN</td>\n",
              "      <td>56</td>\n",
              "      <td>13</td>\n",
              "      <td>FORNECIMENTO DE ALIMENTAÇÃO DO PARLAMENTAR</td>\n",
              "      <td>...</td>\n",
              "      <td>NaN</td>\n",
              "      <td>NaN</td>\n",
              "      <td>NaN</td>\n",
              "      <td>NaN</td>\n",
              "      <td>NaN</td>\n",
              "      <td>NaN</td>\n",
              "      <td>NaN</td>\n",
              "      <td>NaN</td>\n",
              "      <td>NaN</td>\n",
              "      <td>NaN</td>\n",
              "    </tr>\n",
              "  </tbody>\n",
              "</table>\n",
              "<p>5 rows × 75 columns</p>\n",
              "</div>\n",
              "      <button class=\"colab-df-convert\" onclick=\"convertToInteractive('df-d2128a75-f713-43b6-a071-cf29f4016100')\"\n",
              "              title=\"Convert this dataframe to an interactive table.\"\n",
              "              style=\"display:none;\">\n",
              "\n",
              "  <svg xmlns=\"http://www.w3.org/2000/svg\" height=\"24px\"viewBox=\"0 0 24 24\"\n",
              "       width=\"24px\">\n",
              "    <path d=\"M0 0h24v24H0V0z\" fill=\"none\"/>\n",
              "    <path d=\"M18.56 5.44l.94 2.06.94-2.06 2.06-.94-2.06-.94-.94-2.06-.94 2.06-2.06.94zm-11 1L8.5 8.5l.94-2.06 2.06-.94-2.06-.94L8.5 2.5l-.94 2.06-2.06.94zm10 10l.94 2.06.94-2.06 2.06-.94-2.06-.94-.94-2.06-.94 2.06-2.06.94z\"/><path d=\"M17.41 7.96l-1.37-1.37c-.4-.4-.92-.59-1.43-.59-.52 0-1.04.2-1.43.59L10.3 9.45l-7.72 7.72c-.78.78-.78 2.05 0 2.83L4 21.41c.39.39.9.59 1.41.59.51 0 1.02-.2 1.41-.59l7.78-7.78 2.81-2.81c.8-.78.8-2.07 0-2.86zM5.41 20L4 18.59l7.72-7.72 1.47 1.35L5.41 20z\"/>\n",
              "  </svg>\n",
              "      </button>\n",
              "\n",
              "\n",
              "\n",
              "    <div id=\"df-2f94525a-690c-4e96-b337-16e7a6ee999a\">\n",
              "      <button class=\"colab-df-quickchart\" onclick=\"quickchart('df-2f94525a-690c-4e96-b337-16e7a6ee999a')\"\n",
              "              title=\"Suggest charts.\"\n",
              "              style=\"display:none;\">\n",
              "\n",
              "<svg xmlns=\"http://www.w3.org/2000/svg\" height=\"24px\"viewBox=\"0 0 24 24\"\n",
              "     width=\"24px\">\n",
              "    <g>\n",
              "        <path d=\"M19 3H5c-1.1 0-2 .9-2 2v14c0 1.1.9 2 2 2h14c1.1 0 2-.9 2-2V5c0-1.1-.9-2-2-2zM9 17H7v-7h2v7zm4 0h-2V7h2v10zm4 0h-2v-4h2v4z\"/>\n",
              "    </g>\n",
              "</svg>\n",
              "      </button>\n",
              "    </div>\n",
              "\n",
              "<style>\n",
              "  .colab-df-quickchart {\n",
              "    background-color: #E8F0FE;\n",
              "    border: none;\n",
              "    border-radius: 50%;\n",
              "    cursor: pointer;\n",
              "    display: none;\n",
              "    fill: #1967D2;\n",
              "    height: 32px;\n",
              "    padding: 0 0 0 0;\n",
              "    width: 32px;\n",
              "  }\n",
              "\n",
              "  .colab-df-quickchart:hover {\n",
              "    background-color: #E2EBFA;\n",
              "    box-shadow: 0px 1px 2px rgba(60, 64, 67, 0.3), 0px 1px 3px 1px rgba(60, 64, 67, 0.15);\n",
              "    fill: #174EA6;\n",
              "  }\n",
              "\n",
              "  [theme=dark] .colab-df-quickchart {\n",
              "    background-color: #3B4455;\n",
              "    fill: #D2E3FC;\n",
              "  }\n",
              "\n",
              "  [theme=dark] .colab-df-quickchart:hover {\n",
              "    background-color: #434B5C;\n",
              "    box-shadow: 0px 1px 3px 1px rgba(0, 0, 0, 0.15);\n",
              "    filter: drop-shadow(0px 1px 2px rgba(0, 0, 0, 0.3));\n",
              "    fill: #FFFFFF;\n",
              "  }\n",
              "</style>\n",
              "\n",
              "    <script>\n",
              "      async function quickchart(key) {\n",
              "        const containerElement = document.querySelector('#' + key);\n",
              "        const charts = await google.colab.kernel.invokeFunction(\n",
              "            'suggestCharts', [key], {});\n",
              "      }\n",
              "    </script>\n",
              "\n",
              "      <script>\n",
              "\n",
              "function displayQuickchartButton(domScope) {\n",
              "  let quickchartButtonEl =\n",
              "    domScope.querySelector('#df-2f94525a-690c-4e96-b337-16e7a6ee999a button.colab-df-quickchart');\n",
              "  quickchartButtonEl.style.display =\n",
              "    google.colab.kernel.accessAllowed ? 'block' : 'none';\n",
              "}\n",
              "\n",
              "        displayQuickchartButton(document);\n",
              "      </script>\n",
              "      <style>\n",
              "    .colab-df-container {\n",
              "      display:flex;\n",
              "      flex-wrap:wrap;\n",
              "      gap: 12px;\n",
              "    }\n",
              "\n",
              "    .colab-df-convert {\n",
              "      background-color: #E8F0FE;\n",
              "      border: none;\n",
              "      border-radius: 50%;\n",
              "      cursor: pointer;\n",
              "      display: none;\n",
              "      fill: #1967D2;\n",
              "      height: 32px;\n",
              "      padding: 0 0 0 0;\n",
              "      width: 32px;\n",
              "    }\n",
              "\n",
              "    .colab-df-convert:hover {\n",
              "      background-color: #E2EBFA;\n",
              "      box-shadow: 0px 1px 2px rgba(60, 64, 67, 0.3), 0px 1px 3px 1px rgba(60, 64, 67, 0.15);\n",
              "      fill: #174EA6;\n",
              "    }\n",
              "\n",
              "    [theme=dark] .colab-df-convert {\n",
              "      background-color: #3B4455;\n",
              "      fill: #D2E3FC;\n",
              "    }\n",
              "\n",
              "    [theme=dark] .colab-df-convert:hover {\n",
              "      background-color: #434B5C;\n",
              "      box-shadow: 0px 1px 3px 1px rgba(0, 0, 0, 0.15);\n",
              "      filter: drop-shadow(0px 1px 2px rgba(0, 0, 0, 0.3));\n",
              "      fill: #FFFFFF;\n",
              "    }\n",
              "  </style>\n",
              "\n",
              "      <script>\n",
              "        const buttonEl =\n",
              "          document.querySelector('#df-d2128a75-f713-43b6-a071-cf29f4016100 button.colab-df-convert');\n",
              "        buttonEl.style.display =\n",
              "          google.colab.kernel.accessAllowed ? 'block' : 'none';\n",
              "\n",
              "        async function convertToInteractive(key) {\n",
              "          const element = document.querySelector('#df-d2128a75-f713-43b6-a071-cf29f4016100');\n",
              "          const dataTable =\n",
              "            await google.colab.kernel.invokeFunction('convertToInteractive',\n",
              "                                                     [key], {});\n",
              "          if (!dataTable) return;\n",
              "\n",
              "          const docLinkHtml = 'Like what you see? Visit the ' +\n",
              "            '<a target=\"_blank\" href=https://colab.research.google.com/notebooks/data_table.ipynb>data table notebook</a>'\n",
              "            + ' to learn more about interactive tables.';\n",
              "          element.innerHTML = '';\n",
              "          dataTable['output_type'] = 'display_data';\n",
              "          await google.colab.output.renderOutput(dataTable, element);\n",
              "          const docLink = document.createElement('div');\n",
              "          docLink.innerHTML = docLinkHtml;\n",
              "          element.appendChild(docLink);\n",
              "        }\n",
              "      </script>\n",
              "    </div>\n",
              "  </div>\n"
            ]
          },
          "metadata": {},
          "execution_count": 47
        }
      ]
    },
    {
      "cell_type": "code",
      "execution_count": 46,
      "id": "ec3b6710",
      "metadata": {
        "id": "ec3b6710",
        "outputId": "0d6b9ed5-77fa-494f-daf3-8c0a61000a65",
        "colab": {
          "base_uri": "https://localhost:8080/",
          "height": 502
        }
      },
      "outputs": [
        {
          "output_type": "error",
          "ename": "KeyError",
          "evalue": "ignored",
          "traceback": [
            "\u001b[0;31m---------------------------------------------------------------------------\u001b[0m",
            "\u001b[0;31mKeyError\u001b[0m                                  Traceback (most recent call last)",
            "\u001b[0;32m/usr/local/lib/python3.10/dist-packages/pandas/core/indexes/base.py\u001b[0m in \u001b[0;36mget_loc\u001b[0;34m(self, key, method, tolerance)\u001b[0m\n\u001b[1;32m   3801\u001b[0m             \u001b[0;32mtry\u001b[0m\u001b[0;34m:\u001b[0m\u001b[0;34m\u001b[0m\u001b[0;34m\u001b[0m\u001b[0m\n\u001b[0;32m-> 3802\u001b[0;31m                 \u001b[0;32mreturn\u001b[0m \u001b[0mself\u001b[0m\u001b[0;34m.\u001b[0m\u001b[0m_engine\u001b[0m\u001b[0;34m.\u001b[0m\u001b[0mget_loc\u001b[0m\u001b[0;34m(\u001b[0m\u001b[0mcasted_key\u001b[0m\u001b[0;34m)\u001b[0m\u001b[0;34m\u001b[0m\u001b[0;34m\u001b[0m\u001b[0m\n\u001b[0m\u001b[1;32m   3803\u001b[0m             \u001b[0;32mexcept\u001b[0m \u001b[0mKeyError\u001b[0m \u001b[0;32mas\u001b[0m \u001b[0merr\u001b[0m\u001b[0;34m:\u001b[0m\u001b[0;34m\u001b[0m\u001b[0;34m\u001b[0m\u001b[0m\n",
            "\u001b[0;32m/usr/local/lib/python3.10/dist-packages/pandas/_libs/index.pyx\u001b[0m in \u001b[0;36mpandas._libs.index.IndexEngine.get_loc\u001b[0;34m()\u001b[0m\n",
            "\u001b[0;32m/usr/local/lib/python3.10/dist-packages/pandas/_libs/index.pyx\u001b[0m in \u001b[0;36mpandas._libs.index.IndexEngine.get_loc\u001b[0;34m()\u001b[0m\n",
            "\u001b[0;32mpandas/_libs/hashtable_class_helper.pxi\u001b[0m in \u001b[0;36mpandas._libs.hashtable.PyObjectHashTable.get_item\u001b[0;34m()\u001b[0m\n",
            "\u001b[0;32mpandas/_libs/hashtable_class_helper.pxi\u001b[0m in \u001b[0;36mpandas._libs.hashtable.PyObjectHashTable.get_item\u001b[0;34m()\u001b[0m\n",
            "\u001b[0;31mKeyError\u001b[0m: False",
            "\nThe above exception was the direct cause of the following exception:\n",
            "\u001b[0;31mKeyError\u001b[0m                                  Traceback (most recent call last)",
            "\u001b[0;32m<ipython-input-46-a2c1fca235a3>\u001b[0m in \u001b[0;36m<cell line: 1>\u001b[0;34m()\u001b[0m\n\u001b[0;32m----> 1\u001b[0;31m \u001b[0mdf_final\u001b[0m\u001b[0;34m[\u001b[0m\u001b[0mdf_final\u001b[0m\u001b[0;34m[\u001b[0m\u001b[0;34m\"status\"\u001b[0m \u001b[0;34m==\u001b[0m \u001b[0;36m8\u001b[0m\u001b[0;34m]\u001b[0m\u001b[0;34m]\u001b[0m\u001b[0;34m.\u001b[0m\u001b[0mhead\u001b[0m\u001b[0;34m(\u001b[0m\u001b[0;34m)\u001b[0m\u001b[0;34m\u001b[0m\u001b[0;34m\u001b[0m\u001b[0m\n\u001b[0m",
            "\u001b[0;32m/usr/local/lib/python3.10/dist-packages/pandas/core/frame.py\u001b[0m in \u001b[0;36m__getitem__\u001b[0;34m(self, key)\u001b[0m\n\u001b[1;32m   3805\u001b[0m             \u001b[0;32mif\u001b[0m \u001b[0mself\u001b[0m\u001b[0;34m.\u001b[0m\u001b[0mcolumns\u001b[0m\u001b[0;34m.\u001b[0m\u001b[0mnlevels\u001b[0m \u001b[0;34m>\u001b[0m \u001b[0;36m1\u001b[0m\u001b[0;34m:\u001b[0m\u001b[0;34m\u001b[0m\u001b[0;34m\u001b[0m\u001b[0m\n\u001b[1;32m   3806\u001b[0m                 \u001b[0;32mreturn\u001b[0m \u001b[0mself\u001b[0m\u001b[0;34m.\u001b[0m\u001b[0m_getitem_multilevel\u001b[0m\u001b[0;34m(\u001b[0m\u001b[0mkey\u001b[0m\u001b[0;34m)\u001b[0m\u001b[0;34m\u001b[0m\u001b[0;34m\u001b[0m\u001b[0m\n\u001b[0;32m-> 3807\u001b[0;31m             \u001b[0mindexer\u001b[0m \u001b[0;34m=\u001b[0m \u001b[0mself\u001b[0m\u001b[0;34m.\u001b[0m\u001b[0mcolumns\u001b[0m\u001b[0;34m.\u001b[0m\u001b[0mget_loc\u001b[0m\u001b[0;34m(\u001b[0m\u001b[0mkey\u001b[0m\u001b[0;34m)\u001b[0m\u001b[0;34m\u001b[0m\u001b[0;34m\u001b[0m\u001b[0m\n\u001b[0m\u001b[1;32m   3808\u001b[0m             \u001b[0;32mif\u001b[0m \u001b[0mis_integer\u001b[0m\u001b[0;34m(\u001b[0m\u001b[0mindexer\u001b[0m\u001b[0;34m)\u001b[0m\u001b[0;34m:\u001b[0m\u001b[0;34m\u001b[0m\u001b[0;34m\u001b[0m\u001b[0m\n\u001b[1;32m   3809\u001b[0m                 \u001b[0mindexer\u001b[0m \u001b[0;34m=\u001b[0m \u001b[0;34m[\u001b[0m\u001b[0mindexer\u001b[0m\u001b[0;34m]\u001b[0m\u001b[0;34m\u001b[0m\u001b[0;34m\u001b[0m\u001b[0m\n",
            "\u001b[0;32m/usr/local/lib/python3.10/dist-packages/pandas/core/indexes/base.py\u001b[0m in \u001b[0;36mget_loc\u001b[0;34m(self, key, method, tolerance)\u001b[0m\n\u001b[1;32m   3802\u001b[0m                 \u001b[0;32mreturn\u001b[0m \u001b[0mself\u001b[0m\u001b[0;34m.\u001b[0m\u001b[0m_engine\u001b[0m\u001b[0;34m.\u001b[0m\u001b[0mget_loc\u001b[0m\u001b[0;34m(\u001b[0m\u001b[0mcasted_key\u001b[0m\u001b[0;34m)\u001b[0m\u001b[0;34m\u001b[0m\u001b[0;34m\u001b[0m\u001b[0m\n\u001b[1;32m   3803\u001b[0m             \u001b[0;32mexcept\u001b[0m \u001b[0mKeyError\u001b[0m \u001b[0;32mas\u001b[0m \u001b[0merr\u001b[0m\u001b[0;34m:\u001b[0m\u001b[0;34m\u001b[0m\u001b[0;34m\u001b[0m\u001b[0m\n\u001b[0;32m-> 3804\u001b[0;31m                 \u001b[0;32mraise\u001b[0m \u001b[0mKeyError\u001b[0m\u001b[0;34m(\u001b[0m\u001b[0mkey\u001b[0m\u001b[0;34m)\u001b[0m \u001b[0;32mfrom\u001b[0m \u001b[0merr\u001b[0m\u001b[0;34m\u001b[0m\u001b[0;34m\u001b[0m\u001b[0m\n\u001b[0m\u001b[1;32m   3805\u001b[0m             \u001b[0;32mexcept\u001b[0m \u001b[0mTypeError\u001b[0m\u001b[0;34m:\u001b[0m\u001b[0;34m\u001b[0m\u001b[0;34m\u001b[0m\u001b[0m\n\u001b[1;32m   3806\u001b[0m                 \u001b[0;31m# If we have a listlike key, _check_indexing_error will raise\u001b[0m\u001b[0;34m\u001b[0m\u001b[0;34m\u001b[0m\u001b[0m\n",
            "\u001b[0;31mKeyError\u001b[0m: False"
          ]
        }
      ],
      "source": [
        "df_final[df_final[\"status\" == 8]].head()"
      ]
    },
    {
      "cell_type": "markdown",
      "id": "a9f6370a",
      "metadata": {
        "id": "a9f6370a"
      },
      "source": [
        "### Desafio extra\n",
        "\n",
        "Esse desafio traz algumas ideias de análises. Fique a vontade para tentar encontrar essas respostas :)\n",
        "\n",
        "- Qual o total gasto nos finais de semana?\n",
        "\n",
        "- Agrupando por parlamentar e filtrando por finais de semana, qual o parlamentar que mais gastou em um final de semana?\n",
        "\n",
        "- Tente filtrar os reembolsos envolvendo alimentação, agrupar por fornecedor, e verificar os fornecedores mais frequentados. Poderíamos analisar se existiram gastos com alto desvio padrão considerando os reembolsos de um restaurante em específico. Se você tem o grupo de gastos feitos em um local X, é possível encontrar a média de gasto feito por deputados nesse local X, e de repente encontrar qual teve um gasto muito acima desse valor.\n",
        "\n",
        "- Podemos tentar encontrar se houve parlamentar que teve alta frequência de reembolsos associados a empresas que já estavam com status `Baixada`."
      ]
    }
  ],
  "metadata": {
    "colab": {
      "name": "desafio1.ipynb",
      "provenance": []
    },
    "kernelspec": {
      "display_name": "Python 3 (ipykernel)",
      "language": "python",
      "name": "python3"
    },
    "language_info": {
      "codemirror_mode": {
        "name": "ipython",
        "version": 3
      },
      "file_extension": ".py",
      "mimetype": "text/x-python",
      "name": "python",
      "nbconvert_exporter": "python",
      "pygments_lexer": "ipython3",
      "version": "3.9.16"
    }
  },
  "nbformat": 4,
  "nbformat_minor": 5
}