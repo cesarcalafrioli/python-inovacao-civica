{
  "cells": [
    {
      "cell_type": "markdown",
      "id": "4914c7df",
      "metadata": {
        "id": "4914c7df"
      },
      "source": [
        "# Escola de Dados - Python para inovação cívica\n",
        "\n",
        "## Módulo 2: Análise exporatória de dados do Legislativo\n",
        "\n",
        "* [Aula 02: Acessando os dados da CEAP via API](#Aula-02:-Acessando-os-dados-da-CEAP-via-API)\n",
        "* [Aula 03: Lendo os dados com Pandas](#Aula-03:-Lendo-os-dados-com-Pandas)\n",
        "    * [Dicionário de dados](#Dicionário-de-Dados)\n",
        "* [Aula 04: Organizando e visualizando os dados](#Aula-04:-Organizando-e-visualizando-os-dados)\n",
        "    * [Preenchendo valores nulos](#Preenchendo-valores-nulos)\n",
        "    * [Informando tipos na leitura dos dados](#Informando-tipos-na-leitura-dos-dados)\n",
        "    * [as type](#astype)\n",
        "    * [to_datetime](#to_datetime)\n",
        "    * [completando, substituindo e reformatando](#completando,-substituindo-e-reformatando)\n",
        "* [Aula 07: Dados da Receita Federal](#Aula-07:-Dados-da-Receita-Federal)\n",
        "* [Aula 08: Receita Federal e CEAP](#Aula-8:-Receita-Federal-e-CEAP)"
      ]
    },
    {
      "cell_type": "markdown",
      "id": "eec2c925",
      "metadata": {
        "id": "eec2c925"
      },
      "source": [
        "### Aula 02: Acessando os dados da CEAP via API"
      ]
    },
    {
      "cell_type": "markdown",
      "id": "8b0ee316",
      "metadata": {
        "id": "8b0ee316"
      },
      "source": [
        "Para baixar os arquivos das despesas pela Cota para Exercício da Atividade Parlamentar, podemos utilizar a API da Câmara Legislativa. Os arquivos de cada ano estão disponíveis via URLs no formato `http://www.camara.leg.br/cotas/Ano-{ano}.{formato}[.zip]`.\n",
        "\n",
        "Você pode encontrar mais detalhes na [documentação dos dados sobre Despesas pela Cota para Exercício da Atividade Parlamentar](https://dadosabertos.camara.leg.br/swagger/api.html#staticfile).\n",
        "\n",
        "Há diversas formas de fazer o download dos arquivos usando Python. Para esse tutorial, vamos usar o pacote `requests`."
      ]
    },
    {
      "cell_type": "code",
      "execution_count": 1,
      "id": "55c3f455",
      "metadata": {
        "id": "55c3f455"
      },
      "outputs": [],
      "source": [
        "url = f\"http://www.camara.leg.br/cotas/Ano-2019.csv.zip\""
      ]
    },
    {
      "cell_type": "code",
      "execution_count": 2,
      "id": "e335c8c7",
      "metadata": {
        "id": "e335c8c7"
      },
      "outputs": [],
      "source": [
        "import requests\n",
        "\n",
        "# fazendo o download do conteúdo do arquivo\n",
        "r = requests.get(url)"
      ]
    },
    {
      "cell_type": "code",
      "execution_count": 3,
      "id": "a80fbd1c",
      "metadata": {
        "id": "a80fbd1c"
      },
      "outputs": [],
      "source": [
        "# abrindo um arquivo no seu computador\n",
        "file = open(f\"Ano-2019.csv.zip\", \"wb\")\n",
        "\n",
        "# escrever o conteúdo\n",
        "file.write(r.content)\n",
        "file.close()"
      ]
    },
    {
      "cell_type": "code",
      "execution_count": 4,
      "id": "4407d92a",
      "metadata": {
        "id": "4407d92a"
      },
      "outputs": [],
      "source": [
        "# outra forma de criar arquivos, e escrever conteúdo\n",
        "\n",
        "# with open(f\"Ano-{year}.csv.zip\", \"wb\") as code:\n",
        "#    code.write(r.content)"
      ]
    },
    {
      "cell_type": "markdown",
      "id": "4c1d34dc",
      "metadata": {
        "id": "4c1d34dc"
      },
      "source": [
        "Como o arquivo baixado pela API é um arquivo zip, vamos precisar descompatar. Vamos usar o `zipfile`, um módulo que nos dá ferramentas para diversas manipulações de arquivos zipados."
      ]
    },
    {
      "cell_type": "code",
      "execution_count": 5,
      "id": "db445c34",
      "metadata": {
        "id": "db445c34"
      },
      "outputs": [],
      "source": [
        "from zipfile import ZipFile"
      ]
    },
    {
      "cell_type": "code",
      "execution_count": 6,
      "id": "a75fb247",
      "metadata": {
        "id": "a75fb247"
      },
      "outputs": [],
      "source": [
        "zip_file = ZipFile(f\"Ano-2019.csv.zip\", 'r')"
      ]
    },
    {
      "cell_type": "code",
      "execution_count": 7,
      "id": "ba5a3fe0",
      "metadata": {
        "colab": {
          "base_uri": "https://localhost:8080/"
        },
        "id": "ba5a3fe0",
        "outputId": "e37f1cb2-d8e5-41f4-f8aa-a483bfbb2a63"
      },
      "outputs": [
        {
          "output_type": "execute_result",
          "data": {
            "text/plain": [
              "['Ano-2019.csv']"
            ]
          },
          "metadata": {},
          "execution_count": 7
        }
      ],
      "source": [
        "zip_file.namelist()"
      ]
    },
    {
      "cell_type": "code",
      "execution_count": 8,
      "id": "835aaa1a",
      "metadata": {
        "colab": {
          "base_uri": "https://localhost:8080/",
          "height": 36
        },
        "id": "835aaa1a",
        "outputId": "79758946-1836-4f47-f3d6-35b0e2a96eeb"
      },
      "outputs": [
        {
          "output_type": "execute_result",
          "data": {
            "text/plain": [
              "'reembolso-2019/Ano-2019.csv'"
            ],
            "application/vnd.google.colaboratory.intrinsic+json": {
              "type": "string"
            }
          },
          "metadata": {},
          "execution_count": 8
        }
      ],
      "source": [
        "zip_file.extract(member=f\"Ano-2019.csv\", path=f\"reembolso-2019\")"
      ]
    },
    {
      "cell_type": "code",
      "execution_count": null,
      "id": "aea63be7",
      "metadata": {
        "id": "aea63be7"
      },
      "outputs": [],
      "source": [
        "# caso a gente queira extrair todo o conteúdo do arquivo zip\n",
        "\n",
        "# zip_file.extractall(path=f\"reimbursements-{year}\")"
      ]
    },
    {
      "cell_type": "code",
      "execution_count": 9,
      "id": "3a113e58",
      "metadata": {
        "id": "3a113e58"
      },
      "outputs": [],
      "source": [
        "zip_file.close()"
      ]
    },
    {
      "cell_type": "markdown",
      "id": "e7244afa",
      "metadata": {
        "id": "e7244afa"
      },
      "source": [
        "### Aula 03: Lendo os dados com Pandas"
      ]
    },
    {
      "cell_type": "code",
      "execution_count": 10,
      "id": "55880b49",
      "metadata": {
        "id": "55880b49",
        "scrolled": true
      },
      "outputs": [],
      "source": [
        "import pandas as pd"
      ]
    },
    {
      "cell_type": "code",
      "execution_count": 13,
      "id": "88ab1cb1",
      "metadata": {
        "colab": {
          "base_uri": "https://localhost:8080/",
          "height": 233
        },
        "id": "88ab1cb1",
        "outputId": "88dcb91e-2891-4e72-e72b-8a03e307302e",
        "scrolled": false
      },
      "outputs": [
        {
          "output_type": "error",
          "ename": "ParserError",
          "evalue": "ignored",
          "traceback": [
            "\u001b[0;31m---------------------------------------------------------------------------\u001b[0m",
            "\u001b[0;31mParserError\u001b[0m                               Traceback (most recent call last)",
            "\u001b[0;32m<ipython-input-13-da86862ef50b>\u001b[0m in \u001b[0;36m<cell line: 1>\u001b[0;34m()\u001b[0m\n\u001b[0;32m----> 1\u001b[0;31m \u001b[0mpd\u001b[0m\u001b[0;34m.\u001b[0m\u001b[0mread_csv\u001b[0m\u001b[0;34m(\u001b[0m\u001b[0;34m\"reembolso-2019/Ano-2019.csv\"\u001b[0m\u001b[0;34m)\u001b[0m\u001b[0;34m\u001b[0m\u001b[0;34m\u001b[0m\u001b[0m\n\u001b[0m",
            "\u001b[0;32m/usr/local/lib/python3.10/dist-packages/pandas/util/_decorators.py\u001b[0m in \u001b[0;36mwrapper\u001b[0;34m(*args, **kwargs)\u001b[0m\n\u001b[1;32m    209\u001b[0m                 \u001b[0;32melse\u001b[0m\u001b[0;34m:\u001b[0m\u001b[0;34m\u001b[0m\u001b[0;34m\u001b[0m\u001b[0m\n\u001b[1;32m    210\u001b[0m                     \u001b[0mkwargs\u001b[0m\u001b[0;34m[\u001b[0m\u001b[0mnew_arg_name\u001b[0m\u001b[0;34m]\u001b[0m \u001b[0;34m=\u001b[0m \u001b[0mnew_arg_value\u001b[0m\u001b[0;34m\u001b[0m\u001b[0;34m\u001b[0m\u001b[0m\n\u001b[0;32m--> 211\u001b[0;31m             \u001b[0;32mreturn\u001b[0m \u001b[0mfunc\u001b[0m\u001b[0;34m(\u001b[0m\u001b[0;34m*\u001b[0m\u001b[0margs\u001b[0m\u001b[0;34m,\u001b[0m \u001b[0;34m**\u001b[0m\u001b[0mkwargs\u001b[0m\u001b[0;34m)\u001b[0m\u001b[0;34m\u001b[0m\u001b[0;34m\u001b[0m\u001b[0m\n\u001b[0m\u001b[1;32m    212\u001b[0m \u001b[0;34m\u001b[0m\u001b[0m\n\u001b[1;32m    213\u001b[0m         \u001b[0;32mreturn\u001b[0m \u001b[0mcast\u001b[0m\u001b[0;34m(\u001b[0m\u001b[0mF\u001b[0m\u001b[0;34m,\u001b[0m \u001b[0mwrapper\u001b[0m\u001b[0;34m)\u001b[0m\u001b[0;34m\u001b[0m\u001b[0;34m\u001b[0m\u001b[0m\n",
            "\u001b[0;32m/usr/local/lib/python3.10/dist-packages/pandas/util/_decorators.py\u001b[0m in \u001b[0;36mwrapper\u001b[0;34m(*args, **kwargs)\u001b[0m\n\u001b[1;32m    329\u001b[0m                     \u001b[0mstacklevel\u001b[0m\u001b[0;34m=\u001b[0m\u001b[0mfind_stack_level\u001b[0m\u001b[0;34m(\u001b[0m\u001b[0;34m)\u001b[0m\u001b[0;34m,\u001b[0m\u001b[0;34m\u001b[0m\u001b[0;34m\u001b[0m\u001b[0m\n\u001b[1;32m    330\u001b[0m                 )\n\u001b[0;32m--> 331\u001b[0;31m             \u001b[0;32mreturn\u001b[0m \u001b[0mfunc\u001b[0m\u001b[0;34m(\u001b[0m\u001b[0;34m*\u001b[0m\u001b[0margs\u001b[0m\u001b[0;34m,\u001b[0m \u001b[0;34m**\u001b[0m\u001b[0mkwargs\u001b[0m\u001b[0;34m)\u001b[0m\u001b[0;34m\u001b[0m\u001b[0;34m\u001b[0m\u001b[0m\n\u001b[0m\u001b[1;32m    332\u001b[0m \u001b[0;34m\u001b[0m\u001b[0m\n\u001b[1;32m    333\u001b[0m         \u001b[0;31m# error: \"Callable[[VarArg(Any), KwArg(Any)], Any]\" has no\u001b[0m\u001b[0;34m\u001b[0m\u001b[0;34m\u001b[0m\u001b[0m\n",
            "\u001b[0;32m/usr/local/lib/python3.10/dist-packages/pandas/io/parsers/readers.py\u001b[0m in \u001b[0;36mread_csv\u001b[0;34m(filepath_or_buffer, sep, delimiter, header, names, index_col, usecols, squeeze, prefix, mangle_dupe_cols, dtype, engine, converters, true_values, false_values, skipinitialspace, skiprows, skipfooter, nrows, na_values, keep_default_na, na_filter, verbose, skip_blank_lines, parse_dates, infer_datetime_format, keep_date_col, date_parser, dayfirst, cache_dates, iterator, chunksize, compression, thousands, decimal, lineterminator, quotechar, quoting, doublequote, escapechar, comment, encoding, encoding_errors, dialect, error_bad_lines, warn_bad_lines, on_bad_lines, delim_whitespace, low_memory, memory_map, float_precision, storage_options)\u001b[0m\n\u001b[1;32m    948\u001b[0m     \u001b[0mkwds\u001b[0m\u001b[0;34m.\u001b[0m\u001b[0mupdate\u001b[0m\u001b[0;34m(\u001b[0m\u001b[0mkwds_defaults\u001b[0m\u001b[0;34m)\u001b[0m\u001b[0;34m\u001b[0m\u001b[0;34m\u001b[0m\u001b[0m\n\u001b[1;32m    949\u001b[0m \u001b[0;34m\u001b[0m\u001b[0m\n\u001b[0;32m--> 950\u001b[0;31m     \u001b[0;32mreturn\u001b[0m \u001b[0m_read\u001b[0m\u001b[0;34m(\u001b[0m\u001b[0mfilepath_or_buffer\u001b[0m\u001b[0;34m,\u001b[0m \u001b[0mkwds\u001b[0m\u001b[0;34m)\u001b[0m\u001b[0;34m\u001b[0m\u001b[0;34m\u001b[0m\u001b[0m\n\u001b[0m\u001b[1;32m    951\u001b[0m \u001b[0;34m\u001b[0m\u001b[0m\n\u001b[1;32m    952\u001b[0m \u001b[0;34m\u001b[0m\u001b[0m\n",
            "\u001b[0;32m/usr/local/lib/python3.10/dist-packages/pandas/io/parsers/readers.py\u001b[0m in \u001b[0;36m_read\u001b[0;34m(filepath_or_buffer, kwds)\u001b[0m\n\u001b[1;32m    609\u001b[0m \u001b[0;34m\u001b[0m\u001b[0m\n\u001b[1;32m    610\u001b[0m     \u001b[0;32mwith\u001b[0m \u001b[0mparser\u001b[0m\u001b[0;34m:\u001b[0m\u001b[0;34m\u001b[0m\u001b[0;34m\u001b[0m\u001b[0m\n\u001b[0;32m--> 611\u001b[0;31m         \u001b[0;32mreturn\u001b[0m \u001b[0mparser\u001b[0m\u001b[0;34m.\u001b[0m\u001b[0mread\u001b[0m\u001b[0;34m(\u001b[0m\u001b[0mnrows\u001b[0m\u001b[0;34m)\u001b[0m\u001b[0;34m\u001b[0m\u001b[0;34m\u001b[0m\u001b[0m\n\u001b[0m\u001b[1;32m    612\u001b[0m \u001b[0;34m\u001b[0m\u001b[0m\n\u001b[1;32m    613\u001b[0m \u001b[0;34m\u001b[0m\u001b[0m\n",
            "\u001b[0;32m/usr/local/lib/python3.10/dist-packages/pandas/io/parsers/readers.py\u001b[0m in \u001b[0;36mread\u001b[0;34m(self, nrows)\u001b[0m\n\u001b[1;32m   1776\u001b[0m                     \u001b[0mcolumns\u001b[0m\u001b[0;34m,\u001b[0m\u001b[0;34m\u001b[0m\u001b[0;34m\u001b[0m\u001b[0m\n\u001b[1;32m   1777\u001b[0m                     \u001b[0mcol_dict\u001b[0m\u001b[0;34m,\u001b[0m\u001b[0;34m\u001b[0m\u001b[0;34m\u001b[0m\u001b[0m\n\u001b[0;32m-> 1778\u001b[0;31m                 \u001b[0;34m)\u001b[0m \u001b[0;34m=\u001b[0m \u001b[0mself\u001b[0m\u001b[0;34m.\u001b[0m\u001b[0m_engine\u001b[0m\u001b[0;34m.\u001b[0m\u001b[0mread\u001b[0m\u001b[0;34m(\u001b[0m  \u001b[0;31m# type: ignore[attr-defined]\u001b[0m\u001b[0;34m\u001b[0m\u001b[0;34m\u001b[0m\u001b[0m\n\u001b[0m\u001b[1;32m   1779\u001b[0m                     \u001b[0mnrows\u001b[0m\u001b[0;34m\u001b[0m\u001b[0;34m\u001b[0m\u001b[0m\n\u001b[1;32m   1780\u001b[0m                 )\n",
            "\u001b[0;32m/usr/local/lib/python3.10/dist-packages/pandas/io/parsers/c_parser_wrapper.py\u001b[0m in \u001b[0;36mread\u001b[0;34m(self, nrows)\u001b[0m\n\u001b[1;32m    228\u001b[0m         \u001b[0;32mtry\u001b[0m\u001b[0;34m:\u001b[0m\u001b[0;34m\u001b[0m\u001b[0;34m\u001b[0m\u001b[0m\n\u001b[1;32m    229\u001b[0m             \u001b[0;32mif\u001b[0m \u001b[0mself\u001b[0m\u001b[0;34m.\u001b[0m\u001b[0mlow_memory\u001b[0m\u001b[0;34m:\u001b[0m\u001b[0;34m\u001b[0m\u001b[0;34m\u001b[0m\u001b[0m\n\u001b[0;32m--> 230\u001b[0;31m                 \u001b[0mchunks\u001b[0m \u001b[0;34m=\u001b[0m \u001b[0mself\u001b[0m\u001b[0;34m.\u001b[0m\u001b[0m_reader\u001b[0m\u001b[0;34m.\u001b[0m\u001b[0mread_low_memory\u001b[0m\u001b[0;34m(\u001b[0m\u001b[0mnrows\u001b[0m\u001b[0;34m)\u001b[0m\u001b[0;34m\u001b[0m\u001b[0;34m\u001b[0m\u001b[0m\n\u001b[0m\u001b[1;32m    231\u001b[0m                 \u001b[0;31m# destructive to chunks\u001b[0m\u001b[0;34m\u001b[0m\u001b[0;34m\u001b[0m\u001b[0m\n\u001b[1;32m    232\u001b[0m                 \u001b[0mdata\u001b[0m \u001b[0;34m=\u001b[0m \u001b[0m_concatenate_chunks\u001b[0m\u001b[0;34m(\u001b[0m\u001b[0mchunks\u001b[0m\u001b[0;34m)\u001b[0m\u001b[0;34m\u001b[0m\u001b[0;34m\u001b[0m\u001b[0m\n",
            "\u001b[0;32m/usr/local/lib/python3.10/dist-packages/pandas/_libs/parsers.pyx\u001b[0m in \u001b[0;36mpandas._libs.parsers.TextReader.read_low_memory\u001b[0;34m()\u001b[0m\n",
            "\u001b[0;32m/usr/local/lib/python3.10/dist-packages/pandas/_libs/parsers.pyx\u001b[0m in \u001b[0;36mpandas._libs.parsers.TextReader._read_rows\u001b[0;34m()\u001b[0m\n",
            "\u001b[0;32m/usr/local/lib/python3.10/dist-packages/pandas/_libs/parsers.pyx\u001b[0m in \u001b[0;36mpandas._libs.parsers.TextReader._tokenize_rows\u001b[0;34m()\u001b[0m\n",
            "\u001b[0;32m/usr/local/lib/python3.10/dist-packages/pandas/_libs/parsers.pyx\u001b[0m in \u001b[0;36mpandas._libs.parsers.raise_parser_error\u001b[0;34m()\u001b[0m\n",
            "\u001b[0;31mParserError\u001b[0m: Error tokenizing data. C error: Expected 1 fields in line 116, saw 2\n"
          ]
        }
      ],
      "source": [
        "pd.read_csv(\"reembolso-2019/Ano-2019.csv\")"
      ]
    },
    {
      "cell_type": "markdown",
      "id": "135892df",
      "metadata": {
        "id": "135892df"
      },
      "source": [
        "Opa! Erro na leitura do nosso arquivo. Quando encontramos esse erro na leitura de um arquivo, existe algumas possíveis causas mais comuns, uma delas é que o caracter que separa as colunas pode não ser o que o `read_csv` espera.\n",
        "\n",
        "Encontre na [documentação do read_csv](https://pandas.pydata.org/docs/reference/api/pandas.read_csv.html) qual o separador considerado padrão e depois confira no arquivo qual o separador que é utilizado.\n",
        "\n",
        "Agora, modifique a próxima célula com o que você acha que deve ser feito para que a leitura do csv aconteça sem erros."
      ]
    },
    {
      "cell_type": "code",
      "execution_count": 14,
      "id": "f4f74532",
      "metadata": {
        "id": "f4f74532",
        "scrolled": true
      },
      "outputs": [],
      "source": [
        "df_reimbursements = pd.read_csv(\"reembolso-2019/Ano-2019.csv\", sep=\";\")\n",
        "# sep == delimiter"
      ]
    },
    {
      "cell_type": "markdown",
      "id": "dfabdc7f",
      "metadata": {
        "id": "dfabdc7f"
      },
      "source": [
        "Vamos visualizar as 5 primeiras linhas do nosso Dataframe."
      ]
    },
    {
      "cell_type": "code",
      "execution_count": 15,
      "id": "6972f3d7",
      "metadata": {
        "id": "6972f3d7",
        "outputId": "7a97064b-ddeb-4273-8e37-07e7eaf8fab7",
        "colab": {
          "base_uri": "https://localhost:8080/",
          "height": 646
        }
      },
      "outputs": [
        {
          "output_type": "execute_result",
          "data": {
            "text/plain": [
              "  txNomeParlamentar  cpf  ideCadastro  nuCarteiraParlamentar  nuLegislatura  \\\n",
              "0        LID.GOV-CD  NaN          NaN                    NaN           2015   \n",
              "1        LID.GOV-CD  NaN          NaN                    NaN           2019   \n",
              "2        LID.GOV-CD  NaN          NaN                    NaN           2019   \n",
              "3        LID.GOV-CD  NaN          NaN                    NaN           2019   \n",
              "4        LID.GOV-CD  NaN          NaN                    NaN           2019   \n",
              "\n",
              "  sgUF sgPartido  codLegislatura  numSubCota  \\\n",
              "0  NaN       NaN              55          13   \n",
              "1  NaN       NaN              56          13   \n",
              "2  NaN       NaN              56          13   \n",
              "3  NaN       NaN              56          13   \n",
              "4  NaN       NaN              56          13   \n",
              "\n",
              "                                 txtDescricao  ...  numParcela txtPassageiro  \\\n",
              "0  FORNECIMENTO DE ALIMENTAÇÃO DO PARLAMENTAR  ...           0           NaN   \n",
              "1  FORNECIMENTO DE ALIMENTAÇÃO DO PARLAMENTAR  ...           0           NaN   \n",
              "2  FORNECIMENTO DE ALIMENTAÇÃO DO PARLAMENTAR  ...           0           NaN   \n",
              "3  FORNECIMENTO DE ALIMENTAÇÃO DO PARLAMENTAR  ...           0           NaN   \n",
              "4  FORNECIMENTO DE ALIMENTAÇÃO DO PARLAMENTAR  ...           0           NaN   \n",
              "\n",
              "  txtTrecho  numLote numRessarcimento  datPagamentoRestituicao vlrRestituicao  \\\n",
              "0       NaN  1554246              NaN                      NaN            NaN   \n",
              "1       NaN  1570078              NaN                      NaN            NaN   \n",
              "2       NaN  1570503              NaN                      NaN            NaN   \n",
              "3       NaN  1579375              NaN                      NaN            NaN   \n",
              "4       NaN  1590980              NaN                      NaN            NaN   \n",
              "\n",
              "   nuDeputadoId  ideDocumento  \\\n",
              "0          2812       6738121   \n",
              "1          2812       6769606   \n",
              "2          2812       6771099   \n",
              "3          2812       6793690   \n",
              "4          2812       6821674   \n",
              "\n",
              "                                        urlDocumento  \n",
              "0  https://www.camara.leg.br/cota-parlamentar/not...  \n",
              "1  https://www.camara.leg.br/cota-parlamentar/not...  \n",
              "2  https://www.camara.leg.br/cota-parlamentar/not...  \n",
              "3  https://www.camara.leg.br/cota-parlamentar/not...  \n",
              "4  https://www.camara.leg.br/cota-parlamentar/not...  \n",
              "\n",
              "[5 rows x 32 columns]"
            ],
            "text/html": [
              "\n",
              "  <div id=\"df-690cef66-868d-4d93-ae5e-97bf53868086\">\n",
              "    <div class=\"colab-df-container\">\n",
              "      <div>\n",
              "<style scoped>\n",
              "    .dataframe tbody tr th:only-of-type {\n",
              "        vertical-align: middle;\n",
              "    }\n",
              "\n",
              "    .dataframe tbody tr th {\n",
              "        vertical-align: top;\n",
              "    }\n",
              "\n",
              "    .dataframe thead th {\n",
              "        text-align: right;\n",
              "    }\n",
              "</style>\n",
              "<table border=\"1\" class=\"dataframe\">\n",
              "  <thead>\n",
              "    <tr style=\"text-align: right;\">\n",
              "      <th></th>\n",
              "      <th>txNomeParlamentar</th>\n",
              "      <th>cpf</th>\n",
              "      <th>ideCadastro</th>\n",
              "      <th>nuCarteiraParlamentar</th>\n",
              "      <th>nuLegislatura</th>\n",
              "      <th>sgUF</th>\n",
              "      <th>sgPartido</th>\n",
              "      <th>codLegislatura</th>\n",
              "      <th>numSubCota</th>\n",
              "      <th>txtDescricao</th>\n",
              "      <th>...</th>\n",
              "      <th>numParcela</th>\n",
              "      <th>txtPassageiro</th>\n",
              "      <th>txtTrecho</th>\n",
              "      <th>numLote</th>\n",
              "      <th>numRessarcimento</th>\n",
              "      <th>datPagamentoRestituicao</th>\n",
              "      <th>vlrRestituicao</th>\n",
              "      <th>nuDeputadoId</th>\n",
              "      <th>ideDocumento</th>\n",
              "      <th>urlDocumento</th>\n",
              "    </tr>\n",
              "  </thead>\n",
              "  <tbody>\n",
              "    <tr>\n",
              "      <th>0</th>\n",
              "      <td>LID.GOV-CD</td>\n",
              "      <td>NaN</td>\n",
              "      <td>NaN</td>\n",
              "      <td>NaN</td>\n",
              "      <td>2015</td>\n",
              "      <td>NaN</td>\n",
              "      <td>NaN</td>\n",
              "      <td>55</td>\n",
              "      <td>13</td>\n",
              "      <td>FORNECIMENTO DE ALIMENTAÇÃO DO PARLAMENTAR</td>\n",
              "      <td>...</td>\n",
              "      <td>0</td>\n",
              "      <td>NaN</td>\n",
              "      <td>NaN</td>\n",
              "      <td>1554246</td>\n",
              "      <td>NaN</td>\n",
              "      <td>NaN</td>\n",
              "      <td>NaN</td>\n",
              "      <td>2812</td>\n",
              "      <td>6738121</td>\n",
              "      <td>https://www.camara.leg.br/cota-parlamentar/not...</td>\n",
              "    </tr>\n",
              "    <tr>\n",
              "      <th>1</th>\n",
              "      <td>LID.GOV-CD</td>\n",
              "      <td>NaN</td>\n",
              "      <td>NaN</td>\n",
              "      <td>NaN</td>\n",
              "      <td>2019</td>\n",
              "      <td>NaN</td>\n",
              "      <td>NaN</td>\n",
              "      <td>56</td>\n",
              "      <td>13</td>\n",
              "      <td>FORNECIMENTO DE ALIMENTAÇÃO DO PARLAMENTAR</td>\n",
              "      <td>...</td>\n",
              "      <td>0</td>\n",
              "      <td>NaN</td>\n",
              "      <td>NaN</td>\n",
              "      <td>1570078</td>\n",
              "      <td>NaN</td>\n",
              "      <td>NaN</td>\n",
              "      <td>NaN</td>\n",
              "      <td>2812</td>\n",
              "      <td>6769606</td>\n",
              "      <td>https://www.camara.leg.br/cota-parlamentar/not...</td>\n",
              "    </tr>\n",
              "    <tr>\n",
              "      <th>2</th>\n",
              "      <td>LID.GOV-CD</td>\n",
              "      <td>NaN</td>\n",
              "      <td>NaN</td>\n",
              "      <td>NaN</td>\n",
              "      <td>2019</td>\n",
              "      <td>NaN</td>\n",
              "      <td>NaN</td>\n",
              "      <td>56</td>\n",
              "      <td>13</td>\n",
              "      <td>FORNECIMENTO DE ALIMENTAÇÃO DO PARLAMENTAR</td>\n",
              "      <td>...</td>\n",
              "      <td>0</td>\n",
              "      <td>NaN</td>\n",
              "      <td>NaN</td>\n",
              "      <td>1570503</td>\n",
              "      <td>NaN</td>\n",
              "      <td>NaN</td>\n",
              "      <td>NaN</td>\n",
              "      <td>2812</td>\n",
              "      <td>6771099</td>\n",
              "      <td>https://www.camara.leg.br/cota-parlamentar/not...</td>\n",
              "    </tr>\n",
              "    <tr>\n",
              "      <th>3</th>\n",
              "      <td>LID.GOV-CD</td>\n",
              "      <td>NaN</td>\n",
              "      <td>NaN</td>\n",
              "      <td>NaN</td>\n",
              "      <td>2019</td>\n",
              "      <td>NaN</td>\n",
              "      <td>NaN</td>\n",
              "      <td>56</td>\n",
              "      <td>13</td>\n",
              "      <td>FORNECIMENTO DE ALIMENTAÇÃO DO PARLAMENTAR</td>\n",
              "      <td>...</td>\n",
              "      <td>0</td>\n",
              "      <td>NaN</td>\n",
              "      <td>NaN</td>\n",
              "      <td>1579375</td>\n",
              "      <td>NaN</td>\n",
              "      <td>NaN</td>\n",
              "      <td>NaN</td>\n",
              "      <td>2812</td>\n",
              "      <td>6793690</td>\n",
              "      <td>https://www.camara.leg.br/cota-parlamentar/not...</td>\n",
              "    </tr>\n",
              "    <tr>\n",
              "      <th>4</th>\n",
              "      <td>LID.GOV-CD</td>\n",
              "      <td>NaN</td>\n",
              "      <td>NaN</td>\n",
              "      <td>NaN</td>\n",
              "      <td>2019</td>\n",
              "      <td>NaN</td>\n",
              "      <td>NaN</td>\n",
              "      <td>56</td>\n",
              "      <td>13</td>\n",
              "      <td>FORNECIMENTO DE ALIMENTAÇÃO DO PARLAMENTAR</td>\n",
              "      <td>...</td>\n",
              "      <td>0</td>\n",
              "      <td>NaN</td>\n",
              "      <td>NaN</td>\n",
              "      <td>1590980</td>\n",
              "      <td>NaN</td>\n",
              "      <td>NaN</td>\n",
              "      <td>NaN</td>\n",
              "      <td>2812</td>\n",
              "      <td>6821674</td>\n",
              "      <td>https://www.camara.leg.br/cota-parlamentar/not...</td>\n",
              "    </tr>\n",
              "  </tbody>\n",
              "</table>\n",
              "<p>5 rows × 32 columns</p>\n",
              "</div>\n",
              "      <button class=\"colab-df-convert\" onclick=\"convertToInteractive('df-690cef66-868d-4d93-ae5e-97bf53868086')\"\n",
              "              title=\"Convert this dataframe to an interactive table.\"\n",
              "              style=\"display:none;\">\n",
              "        \n",
              "  <svg xmlns=\"http://www.w3.org/2000/svg\" height=\"24px\"viewBox=\"0 0 24 24\"\n",
              "       width=\"24px\">\n",
              "    <path d=\"M0 0h24v24H0V0z\" fill=\"none\"/>\n",
              "    <path d=\"M18.56 5.44l.94 2.06.94-2.06 2.06-.94-2.06-.94-.94-2.06-.94 2.06-2.06.94zm-11 1L8.5 8.5l.94-2.06 2.06-.94-2.06-.94L8.5 2.5l-.94 2.06-2.06.94zm10 10l.94 2.06.94-2.06 2.06-.94-2.06-.94-.94-2.06-.94 2.06-2.06.94z\"/><path d=\"M17.41 7.96l-1.37-1.37c-.4-.4-.92-.59-1.43-.59-.52 0-1.04.2-1.43.59L10.3 9.45l-7.72 7.72c-.78.78-.78 2.05 0 2.83L4 21.41c.39.39.9.59 1.41.59.51 0 1.02-.2 1.41-.59l7.78-7.78 2.81-2.81c.8-.78.8-2.07 0-2.86zM5.41 20L4 18.59l7.72-7.72 1.47 1.35L5.41 20z\"/>\n",
              "  </svg>\n",
              "      </button>\n",
              "      \n",
              "  <style>\n",
              "    .colab-df-container {\n",
              "      display:flex;\n",
              "      flex-wrap:wrap;\n",
              "      gap: 12px;\n",
              "    }\n",
              "\n",
              "    .colab-df-convert {\n",
              "      background-color: #E8F0FE;\n",
              "      border: none;\n",
              "      border-radius: 50%;\n",
              "      cursor: pointer;\n",
              "      display: none;\n",
              "      fill: #1967D2;\n",
              "      height: 32px;\n",
              "      padding: 0 0 0 0;\n",
              "      width: 32px;\n",
              "    }\n",
              "\n",
              "    .colab-df-convert:hover {\n",
              "      background-color: #E2EBFA;\n",
              "      box-shadow: 0px 1px 2px rgba(60, 64, 67, 0.3), 0px 1px 3px 1px rgba(60, 64, 67, 0.15);\n",
              "      fill: #174EA6;\n",
              "    }\n",
              "\n",
              "    [theme=dark] .colab-df-convert {\n",
              "      background-color: #3B4455;\n",
              "      fill: #D2E3FC;\n",
              "    }\n",
              "\n",
              "    [theme=dark] .colab-df-convert:hover {\n",
              "      background-color: #434B5C;\n",
              "      box-shadow: 0px 1px 3px 1px rgba(0, 0, 0, 0.15);\n",
              "      filter: drop-shadow(0px 1px 2px rgba(0, 0, 0, 0.3));\n",
              "      fill: #FFFFFF;\n",
              "    }\n",
              "  </style>\n",
              "\n",
              "      <script>\n",
              "        const buttonEl =\n",
              "          document.querySelector('#df-690cef66-868d-4d93-ae5e-97bf53868086 button.colab-df-convert');\n",
              "        buttonEl.style.display =\n",
              "          google.colab.kernel.accessAllowed ? 'block' : 'none';\n",
              "\n",
              "        async function convertToInteractive(key) {\n",
              "          const element = document.querySelector('#df-690cef66-868d-4d93-ae5e-97bf53868086');\n",
              "          const dataTable =\n",
              "            await google.colab.kernel.invokeFunction('convertToInteractive',\n",
              "                                                     [key], {});\n",
              "          if (!dataTable) return;\n",
              "\n",
              "          const docLinkHtml = 'Like what you see? Visit the ' +\n",
              "            '<a target=\"_blank\" href=https://colab.research.google.com/notebooks/data_table.ipynb>data table notebook</a>'\n",
              "            + ' to learn more about interactive tables.';\n",
              "          element.innerHTML = '';\n",
              "          dataTable['output_type'] = 'display_data';\n",
              "          await google.colab.output.renderOutput(dataTable, element);\n",
              "          const docLink = document.createElement('div');\n",
              "          docLink.innerHTML = docLinkHtml;\n",
              "          element.appendChild(docLink);\n",
              "        }\n",
              "      </script>\n",
              "    </div>\n",
              "  </div>\n",
              "  "
            ]
          },
          "metadata": {},
          "execution_count": 15
        }
      ],
      "source": [
        "df_reimbursements.head()"
      ]
    },
    {
      "cell_type": "markdown",
      "id": "06bae264",
      "metadata": {
        "id": "06bae264"
      },
      "source": [
        "## Como podemos fazer para visualizar as 10 primeiras linhas?\n",
        "\n",
        "Escreva e rode o código na célula abaixo."
      ]
    },
    {
      "cell_type": "code",
      "execution_count": null,
      "id": "6cdc90f5",
      "metadata": {
        "id": "6cdc90f5"
      },
      "outputs": [],
      "source": []
    },
    {
      "cell_type": "markdown",
      "id": "e34e98e9",
      "metadata": {
        "id": "e34e98e9"
      },
      "source": [
        "Podemos também recuperar uma amosta aleatória do nosso Dataframe. Para isso, usamos o [`sample`](https://pandas.pydata.org/pandas-docs/stable/reference/api/pandas.DataFrame.sample.html)."
      ]
    },
    {
      "cell_type": "code",
      "execution_count": null,
      "id": "ed4d422d",
      "metadata": {
        "id": "ed4d422d"
      },
      "outputs": [],
      "source": [
        "df_reimbursements.sample()"
      ]
    },
    {
      "cell_type": "markdown",
      "id": "04ac3026",
      "metadata": {
        "id": "04ac3026"
      },
      "source": [
        "## Como podemos fazer para visualizar 5 amostras aleatórias?"
      ]
    },
    {
      "cell_type": "code",
      "execution_count": null,
      "id": "fbde4877",
      "metadata": {
        "id": "fbde4877"
      },
      "outputs": [],
      "source": []
    },
    {
      "cell_type": "markdown",
      "id": "be0725bb",
      "metadata": {
        "id": "be0725bb"
      },
      "source": [
        "#### Dicionário de Dados"
      ]
    },
    {
      "cell_type": "markdown",
      "id": "792b06d1",
      "metadata": {
        "id": "792b06d1"
      },
      "source": [
        "Um passo importante para dar antes de começar a análisar é entender os dados que estamos manipulando.\n",
        "\n",
        "*Sempre procure o significado dos campos, procure entender quais os tipos de dados preenchem aquele campo. São dados numéricos? São caracteres? Não palavras usadas para categorizar/classificar os dados?*"
      ]
    },
    {
      "cell_type": "markdown",
      "id": "18d86a62",
      "metadata": {
        "id": "18d86a62"
      },
      "source": [
        "| Elemento de Dado          | Nome do Dado                           | Definição do Dado                                                                                                                                                                                                                                                                                                                                                                                                                   |   |   |\n",
        "|---------------------------|----------------------------------------|-------------------------------------------------------------------------------------------------------------------------------------------------------------------------------------------------------------------------------------------------------------------------------------------------------------------------------------------------------------------------------------------------------------------------------------|---|---|\n",
        "| txNomeParlamentar         | Nome Parlamentar                       | Nome adotado pelo Parlamentar ao tomar posse do seu mandato. Compõe-se de dois elementos: um prenome e o nome; dois nomes; ou dois prenomes, salvo, a juízo do Presidente da Casa legislativa, que poderá alterar essa regra para que não ocorram confusões.                                                                                                                                                                        |   |   |\n",
        "| ideCadastro               | Identificador Único do Parlamentar     | Número que identifica unicamente um deputado federal na CD.                                                                                                                                                                                                                                                                                                                                                                         |   |   |\n",
        "| nuCarteiraParlamentar     | Número da  Carteira Parlamentar        | Documento usado para identificar um deputado federal na CD. Pode alterar a cada Legislatura nova.                                                                                                                                                                                                                                                                                                                                   |   |   |\n",
        "| nuLegislatura             | Número da  Legislatura                 | No contexto da cota CEAP, representa o ano base de início da legislatura e é utilizado para compor a Carteira Parlamentar, pois esta poderá ser alterada à medida que se muda de Legislatura.                                                                                                                                     |   |   |\n",
        "| sgUF                      | Sigla da UF                            | No contexto da cota CEAP, representa a unidade da federação pela qual o deputado foi eleito e é utilizada para definir o valor da cota a que o deputado tem.                                                                                                                                                                                                                                                                        |   |   |\n",
        "| sgPartido                 | Sigla do Partido                       | O seu conteúdo representa a sigla de um partido. Tem personalidade jurídica de direito privado e goza de autonomia e liberdade no que diz respeito à criação, organização e funcionamento, observados os princípios e preceitos constitucionais. |   |   |\n",
        "| codLegislatura            | Código da Legislatura                  | No contexto da cota CEAP, o seu conteúdo representa o código identificador da Legislatura, que um número ordinal sequencial, alterado de um em um, a cada início de uma nova Legislatura (por exemplo, a Legislatura que iniciou em 2011 é a 54ª Legislatura).                                                                    |   |   |\n",
        "| numSubCota                | Número da Subcota                      | No contexto da Cota CEAP, o conteúdo deste dado representa o código do Tipo de Despesa referente à despesa realizada pelo deputado e comprovada por meio da emissão de um documento fiscal, a qual é debitada na cota do deputado.                                                                                                                                                                                                  |   |   |\n",
        "| txtDescricao              | Descrição da Subcota                   | O seu conteúdo é a descrição do Tipo de Despesa relativo à despesa em questão.                                                                                                                                                                                                                                                                                                                                                      |   |   |\n",
        "| numEspecificacaoSubCota   | Número da Especificação da Subcota     | No contexto da Cota CEAP, há despesas cujo Tipo de Despesa necessita ter uma especificação mais detalhada (por exemplo, “Combustível”). O conteúdo deste dado representa o código desta especificação mais detalhada.                                                                                                                                                                                                               |   |   |\n",
        "| txtDescricaoEspecificacao | Descrição da Especificação da Subcota  | Representa a descrição  especificação mais detalhada de um referido Tipo de Despesa.                                                                                                                                                                                                                                                                                                                                                |   |   |\n",
        "| txtFornecedor             | Fornecedor                             | O conteúdo deste dado representa o nome do fornecedor do produto ou serviço presente no documento fiscal                                                                                                                                                                                                                                                                                                                            |   |   |\n",
        "| txtCNPJCPF                | CNPJ/CPF                               | O conteúdo deste dado representa o CNPJ ou o CPF do emitente do documento fiscal, quando se tratar do uso da cota em razão do reembolso despesas comprovadas pela emissão de documentos fiscais.                                                                                                                                                                                                                                    |   |   |\n",
        "| txtNumero                 | Número do Documento                    | O conteúdo deste dado representa o número de face do documento fiscal emitido ou o número do documento que deu causa à despesa debitada na cota do deputado.                                                                                                                                                                                                                                                                        |   |   |\n",
        "| indTipoDocumento          | Indicativo de Tipo de Documento Fiscal | Este dado representa o tipo de documento do fiscal – 0 (Zero), para Nota Fiscal; 1 (um), para Recibo; e 2, para Despesa no Exterior.                                                                                                                                                                                                                                                                                                |   |   |\n",
        "| datEmissao                | Data de Emissão                        | O conteúdo deste dado é a data de emissão do documento fiscal ou a data do documento que tenha dado causa à despesa.                                                                                                                                                                                                                                                                                                                |   |   |\n",
        "| vlrDocumento              | Valor do Documento                     | O seu conteúdo é o valor de face do documento fiscal ou o valor do documento que deu causa à despesa. Quando se tratar de bilhete aéreo, esse valor poderá ser negativo, significando que o referido bilhete é um bilhete de compensação, pois compensa um outro bilhete emitido e não utilizado pelo deputado (idem para o dado vlrLiquido abaixo).                                                                                |   |   |\n",
        "| vlrGlosa                  | Valor da Glosa                         | O seu conteúdo representa o valor da glosa do documento fiscal que incidirá sobre o Valor do Documento, ou o valor da glosa do documento que deu causa à despesa.                                                                                                                                                                                                                                                                   |   |   |\n",
        "| vlrLiquido                | Valor Líquido                          | O seu conteúdo representa o valor líquido do documento fiscal ou do documento que deu causa à despesa e será calculado pela diferença entre o Valor do Documento e o Valor da Glosa. É este valor que será debitado da cota do deputado. Caso o débito seja do Tipo Telefonia e o valor seja igual a zero, significa que a despesa foi franqueada.                                                                                  |   |   |\n",
        "| numMes                    | Mês                                    | O seu conteúdo representa o Mês da competência financeira do documento fiscal ou do documento que deu causa à despesa. É utilizado, junto com o ano, para determinar em que período o débito gerará efeito financeiro sobre a cota.                                                                                                                                                                                                 |   |   |\n",
        "| numAno                    | Ano                                    | O seu conteúdo representa o Ano da competência financeira do documento fiscal ou do documento que deu causa à despesa. É utilizado, junto com o mês, para determinar em que período o débito gerará efeito financeiro sobre a cota.                                                                                                                                                                                                 |   |   |\n",
        "| numParcela                | Número da Parcela                      | O seu conteúdo representa o número da parcela do documento fiscal. Ocorre quando o documento tem de ser reembolsado de forma parcelada.                                                                                                                                                                                                                                                                                             |   |   |\n",
        "| txtPassageiro             | Passageiro                             | O conteúdo deste dado representa o nome do passageiro, quando o documento que deu causa à despesa se tratar de emissão de bilhete aéreo.                                                                                                                                                                                                                                                                                            |   |   |\n",
        "| txtTrecho                 | Trecho                                 | O conteúdo deste dado representa o trecho da viagem, quando o documento que deu causa à despesa se tratar de emissão de bilhete aéreo.                                                                                                                                                                                                                                                                                              |   |   |\n",
        "| numLote                   | Número do Lote                         | No contexto da Cota CEAP, o Número do Lote representa uma capa de lote que agrupa os documentos que serão entregues à Câmara para serem ressarcidos. Este dado, juntamente com o Número do Ressarcimento, auxilia a localização do documento no Arquivo da Casa.                                                                                                                                                                    |   |   |\n",
        "| numRessarcimento          | Número do Ressarcimento                | No contexto da Cota CEAP, o Número do Ressarcimento indica o ressarcimento do qual o documento fez parte por ocasião do processamento do seu reembolso. Este dado, juntamente com o Valor da Restituição, auxilia a localização do documento no Arquivo da Casa.                                                                                                                                                                 |   |   |\n",
        "|  vlrRestituicao           |  Valor da Restituição                  |  O seu conteúdo representa o valor restituído do documento fiscal que incidirá sobre o Valor do Documento.                                                                                                                                                                                                                                                                                                                          |   |   |\n",
        "| nuDeputadoId              | Identificador do Solicitante           | Número que identifica um Parlamentar ou Liderança na Transparência da Cota para Exercício da Atividade Parlamentar.                                                                                                                                                                                                                                                                                                                 |   |   |\n",
        "\n",
        "\n",
        "Legislatura: Período de quatro anos coincidente com o mandato parlamentar dos Deputados Federais.\n",
        "\n",
        "Definição de partido: é uma organização formada por pessoas com interesse ou ideologia comuns, que se associam com o fim de assumir o poder para implantar um programa de governo.\n",
        "\n",
        "*Fonte*: [EXPLICAÇÕES SOBRE O FORMATO DOS ARQUIVOS XML](https://www2.camara.leg.br/transparencia/cota-para-exercicio-da-atividade-parlamentar/explicacoes-sobre-o-formato-dos-arquivos-xml)"
      ]
    },
    {
      "cell_type": "markdown",
      "id": "571f663b",
      "metadata": {
        "id": "571f663b"
      },
      "source": [
        "### Aula 04: Organizando e visualizando os dados"
      ]
    },
    {
      "cell_type": "markdown",
      "id": "ec281944",
      "metadata": {
        "id": "ec281944"
      },
      "source": [
        "Vamos conhecer mais algumas operações que podem nos ajudar a visualizar e entender nossos dados."
      ]
    },
    {
      "cell_type": "code",
      "execution_count": 16,
      "id": "012f95e4",
      "metadata": {
        "id": "012f95e4",
        "outputId": "19fd1459-1472-43d0-c437-253074c9d13d",
        "colab": {
          "base_uri": "https://localhost:8080/",
          "height": 473
        }
      },
      "outputs": [
        {
          "output_type": "execute_result",
          "data": {
            "text/plain": [
              "       txNomeParlamentar           cpf  ideCadastro  nuCarteiraParlamentar  \\\n",
              "289448       Dr. Gonçalo  5.461154e+09     212625.0                  548.0   \n",
              "289449      Marcão Gomes  9.300886e+09     212749.0                  551.0   \n",
              "289450      Marcão Gomes  9.300886e+09     212749.0                  551.0   \n",
              "289451      Marcão Gomes  9.300886e+09     212749.0                  551.0   \n",
              "289452      Marcão Gomes  9.300886e+09     212749.0                  551.0   \n",
              "\n",
              "        nuLegislatura sgUF     sgPartido  codLegislatura  numSubCota  \\\n",
              "289448           2019   MA  REPUBLICANOS              56         999   \n",
              "289449           2019   RJ            PL              56           1   \n",
              "289450           2019   RJ            PL              56           9   \n",
              "289451           2019   RJ            PL              56          10   \n",
              "289452           2019   RJ            PL              56         120   \n",
              "\n",
              "                                             txtDescricao  ...  numParcela  \\\n",
              "289448                               PASSAGEM AÉREA - RPA  ...           0   \n",
              "289449  MANUTENÇÃO DE ESCRITÓRIO DE APOIO À ATIVIDADE ...  ...           0   \n",
              "289450                         PASSAGEM AÉREA - REEMBOLSO  ...           0   \n",
              "289451                                          TELEFONIA  ...           0   \n",
              "289452      LOCAÇÃO OU FRETAMENTO DE VEÍCULOS AUTOMOTORES  ...           0   \n",
              "\n",
              "       txtPassageiro txtTrecho  numLote numRessarcimento  \\\n",
              "289448   Dr. Gonçalo   BSB/THE        0              0.0   \n",
              "289449           NaN       NaN  1686035              NaN   \n",
              "289450           NaN       NaN  1667677              NaN   \n",
              "289451           NaN       NaN        0              0.0   \n",
              "289452           NaN       NaN  1680650              NaN   \n",
              "\n",
              "        datPagamentoRestituicao vlrRestituicao  nuDeputadoId  ideDocumento  \\\n",
              "289448                      NaN            NaN          3463       1722569   \n",
              "289449                      NaN            NaN          3465       7035691   \n",
              "289450                      NaN            NaN          3465       6995992   \n",
              "289451                      NaN            NaN          3465             0   \n",
              "289452                      NaN            NaN          3465       7022622   \n",
              "\n",
              "                                             urlDocumento  \n",
              "289448                                                NaN  \n",
              "289449  https://www.camara.leg.br/cota-parlamentar/doc...  \n",
              "289450  https://www.camara.leg.br/cota-parlamentar/doc...  \n",
              "289451                                                NaN  \n",
              "289452  https://www.camara.leg.br/cota-parlamentar/doc...  \n",
              "\n",
              "[5 rows x 32 columns]"
            ],
            "text/html": [
              "\n",
              "  <div id=\"df-9229fc73-95fc-4d90-94c6-df62e94ec5cf\">\n",
              "    <div class=\"colab-df-container\">\n",
              "      <div>\n",
              "<style scoped>\n",
              "    .dataframe tbody tr th:only-of-type {\n",
              "        vertical-align: middle;\n",
              "    }\n",
              "\n",
              "    .dataframe tbody tr th {\n",
              "        vertical-align: top;\n",
              "    }\n",
              "\n",
              "    .dataframe thead th {\n",
              "        text-align: right;\n",
              "    }\n",
              "</style>\n",
              "<table border=\"1\" class=\"dataframe\">\n",
              "  <thead>\n",
              "    <tr style=\"text-align: right;\">\n",
              "      <th></th>\n",
              "      <th>txNomeParlamentar</th>\n",
              "      <th>cpf</th>\n",
              "      <th>ideCadastro</th>\n",
              "      <th>nuCarteiraParlamentar</th>\n",
              "      <th>nuLegislatura</th>\n",
              "      <th>sgUF</th>\n",
              "      <th>sgPartido</th>\n",
              "      <th>codLegislatura</th>\n",
              "      <th>numSubCota</th>\n",
              "      <th>txtDescricao</th>\n",
              "      <th>...</th>\n",
              "      <th>numParcela</th>\n",
              "      <th>txtPassageiro</th>\n",
              "      <th>txtTrecho</th>\n",
              "      <th>numLote</th>\n",
              "      <th>numRessarcimento</th>\n",
              "      <th>datPagamentoRestituicao</th>\n",
              "      <th>vlrRestituicao</th>\n",
              "      <th>nuDeputadoId</th>\n",
              "      <th>ideDocumento</th>\n",
              "      <th>urlDocumento</th>\n",
              "    </tr>\n",
              "  </thead>\n",
              "  <tbody>\n",
              "    <tr>\n",
              "      <th>289448</th>\n",
              "      <td>Dr. Gonçalo</td>\n",
              "      <td>5.461154e+09</td>\n",
              "      <td>212625.0</td>\n",
              "      <td>548.0</td>\n",
              "      <td>2019</td>\n",
              "      <td>MA</td>\n",
              "      <td>REPUBLICANOS</td>\n",
              "      <td>56</td>\n",
              "      <td>999</td>\n",
              "      <td>PASSAGEM AÉREA - RPA</td>\n",
              "      <td>...</td>\n",
              "      <td>0</td>\n",
              "      <td>Dr. Gonçalo</td>\n",
              "      <td>BSB/THE</td>\n",
              "      <td>0</td>\n",
              "      <td>0.0</td>\n",
              "      <td>NaN</td>\n",
              "      <td>NaN</td>\n",
              "      <td>3463</td>\n",
              "      <td>1722569</td>\n",
              "      <td>NaN</td>\n",
              "    </tr>\n",
              "    <tr>\n",
              "      <th>289449</th>\n",
              "      <td>Marcão Gomes</td>\n",
              "      <td>9.300886e+09</td>\n",
              "      <td>212749.0</td>\n",
              "      <td>551.0</td>\n",
              "      <td>2019</td>\n",
              "      <td>RJ</td>\n",
              "      <td>PL</td>\n",
              "      <td>56</td>\n",
              "      <td>1</td>\n",
              "      <td>MANUTENÇÃO DE ESCRITÓRIO DE APOIO À ATIVIDADE ...</td>\n",
              "      <td>...</td>\n",
              "      <td>0</td>\n",
              "      <td>NaN</td>\n",
              "      <td>NaN</td>\n",
              "      <td>1686035</td>\n",
              "      <td>NaN</td>\n",
              "      <td>NaN</td>\n",
              "      <td>NaN</td>\n",
              "      <td>3465</td>\n",
              "      <td>7035691</td>\n",
              "      <td>https://www.camara.leg.br/cota-parlamentar/doc...</td>\n",
              "    </tr>\n",
              "    <tr>\n",
              "      <th>289450</th>\n",
              "      <td>Marcão Gomes</td>\n",
              "      <td>9.300886e+09</td>\n",
              "      <td>212749.0</td>\n",
              "      <td>551.0</td>\n",
              "      <td>2019</td>\n",
              "      <td>RJ</td>\n",
              "      <td>PL</td>\n",
              "      <td>56</td>\n",
              "      <td>9</td>\n",
              "      <td>PASSAGEM AÉREA - REEMBOLSO</td>\n",
              "      <td>...</td>\n",
              "      <td>0</td>\n",
              "      <td>NaN</td>\n",
              "      <td>NaN</td>\n",
              "      <td>1667677</td>\n",
              "      <td>NaN</td>\n",
              "      <td>NaN</td>\n",
              "      <td>NaN</td>\n",
              "      <td>3465</td>\n",
              "      <td>6995992</td>\n",
              "      <td>https://www.camara.leg.br/cota-parlamentar/doc...</td>\n",
              "    </tr>\n",
              "    <tr>\n",
              "      <th>289451</th>\n",
              "      <td>Marcão Gomes</td>\n",
              "      <td>9.300886e+09</td>\n",
              "      <td>212749.0</td>\n",
              "      <td>551.0</td>\n",
              "      <td>2019</td>\n",
              "      <td>RJ</td>\n",
              "      <td>PL</td>\n",
              "      <td>56</td>\n",
              "      <td>10</td>\n",
              "      <td>TELEFONIA</td>\n",
              "      <td>...</td>\n",
              "      <td>0</td>\n",
              "      <td>NaN</td>\n",
              "      <td>NaN</td>\n",
              "      <td>0</td>\n",
              "      <td>0.0</td>\n",
              "      <td>NaN</td>\n",
              "      <td>NaN</td>\n",
              "      <td>3465</td>\n",
              "      <td>0</td>\n",
              "      <td>NaN</td>\n",
              "    </tr>\n",
              "    <tr>\n",
              "      <th>289452</th>\n",
              "      <td>Marcão Gomes</td>\n",
              "      <td>9.300886e+09</td>\n",
              "      <td>212749.0</td>\n",
              "      <td>551.0</td>\n",
              "      <td>2019</td>\n",
              "      <td>RJ</td>\n",
              "      <td>PL</td>\n",
              "      <td>56</td>\n",
              "      <td>120</td>\n",
              "      <td>LOCAÇÃO OU FRETAMENTO DE VEÍCULOS AUTOMOTORES</td>\n",
              "      <td>...</td>\n",
              "      <td>0</td>\n",
              "      <td>NaN</td>\n",
              "      <td>NaN</td>\n",
              "      <td>1680650</td>\n",
              "      <td>NaN</td>\n",
              "      <td>NaN</td>\n",
              "      <td>NaN</td>\n",
              "      <td>3465</td>\n",
              "      <td>7022622</td>\n",
              "      <td>https://www.camara.leg.br/cota-parlamentar/doc...</td>\n",
              "    </tr>\n",
              "  </tbody>\n",
              "</table>\n",
              "<p>5 rows × 32 columns</p>\n",
              "</div>\n",
              "      <button class=\"colab-df-convert\" onclick=\"convertToInteractive('df-9229fc73-95fc-4d90-94c6-df62e94ec5cf')\"\n",
              "              title=\"Convert this dataframe to an interactive table.\"\n",
              "              style=\"display:none;\">\n",
              "        \n",
              "  <svg xmlns=\"http://www.w3.org/2000/svg\" height=\"24px\"viewBox=\"0 0 24 24\"\n",
              "       width=\"24px\">\n",
              "    <path d=\"M0 0h24v24H0V0z\" fill=\"none\"/>\n",
              "    <path d=\"M18.56 5.44l.94 2.06.94-2.06 2.06-.94-2.06-.94-.94-2.06-.94 2.06-2.06.94zm-11 1L8.5 8.5l.94-2.06 2.06-.94-2.06-.94L8.5 2.5l-.94 2.06-2.06.94zm10 10l.94 2.06.94-2.06 2.06-.94-2.06-.94-.94-2.06-.94 2.06-2.06.94z\"/><path d=\"M17.41 7.96l-1.37-1.37c-.4-.4-.92-.59-1.43-.59-.52 0-1.04.2-1.43.59L10.3 9.45l-7.72 7.72c-.78.78-.78 2.05 0 2.83L4 21.41c.39.39.9.59 1.41.59.51 0 1.02-.2 1.41-.59l7.78-7.78 2.81-2.81c.8-.78.8-2.07 0-2.86zM5.41 20L4 18.59l7.72-7.72 1.47 1.35L5.41 20z\"/>\n",
              "  </svg>\n",
              "      </button>\n",
              "      \n",
              "  <style>\n",
              "    .colab-df-container {\n",
              "      display:flex;\n",
              "      flex-wrap:wrap;\n",
              "      gap: 12px;\n",
              "    }\n",
              "\n",
              "    .colab-df-convert {\n",
              "      background-color: #E8F0FE;\n",
              "      border: none;\n",
              "      border-radius: 50%;\n",
              "      cursor: pointer;\n",
              "      display: none;\n",
              "      fill: #1967D2;\n",
              "      height: 32px;\n",
              "      padding: 0 0 0 0;\n",
              "      width: 32px;\n",
              "    }\n",
              "\n",
              "    .colab-df-convert:hover {\n",
              "      background-color: #E2EBFA;\n",
              "      box-shadow: 0px 1px 2px rgba(60, 64, 67, 0.3), 0px 1px 3px 1px rgba(60, 64, 67, 0.15);\n",
              "      fill: #174EA6;\n",
              "    }\n",
              "\n",
              "    [theme=dark] .colab-df-convert {\n",
              "      background-color: #3B4455;\n",
              "      fill: #D2E3FC;\n",
              "    }\n",
              "\n",
              "    [theme=dark] .colab-df-convert:hover {\n",
              "      background-color: #434B5C;\n",
              "      box-shadow: 0px 1px 3px 1px rgba(0, 0, 0, 0.15);\n",
              "      filter: drop-shadow(0px 1px 2px rgba(0, 0, 0, 0.3));\n",
              "      fill: #FFFFFF;\n",
              "    }\n",
              "  </style>\n",
              "\n",
              "      <script>\n",
              "        const buttonEl =\n",
              "          document.querySelector('#df-9229fc73-95fc-4d90-94c6-df62e94ec5cf button.colab-df-convert');\n",
              "        buttonEl.style.display =\n",
              "          google.colab.kernel.accessAllowed ? 'block' : 'none';\n",
              "\n",
              "        async function convertToInteractive(key) {\n",
              "          const element = document.querySelector('#df-9229fc73-95fc-4d90-94c6-df62e94ec5cf');\n",
              "          const dataTable =\n",
              "            await google.colab.kernel.invokeFunction('convertToInteractive',\n",
              "                                                     [key], {});\n",
              "          if (!dataTable) return;\n",
              "\n",
              "          const docLinkHtml = 'Like what you see? Visit the ' +\n",
              "            '<a target=\"_blank\" href=https://colab.research.google.com/notebooks/data_table.ipynb>data table notebook</a>'\n",
              "            + ' to learn more about interactive tables.';\n",
              "          element.innerHTML = '';\n",
              "          dataTable['output_type'] = 'display_data';\n",
              "          await google.colab.output.renderOutput(dataTable, element);\n",
              "          const docLink = document.createElement('div');\n",
              "          docLink.innerHTML = docLinkHtml;\n",
              "          element.appendChild(docLink);\n",
              "        }\n",
              "      </script>\n",
              "    </div>\n",
              "  </div>\n",
              "  "
            ]
          },
          "metadata": {},
          "execution_count": 16
        }
      ],
      "source": [
        "df_reimbursements.tail()"
      ]
    },
    {
      "cell_type": "code",
      "execution_count": 17,
      "id": "b353d004",
      "metadata": {
        "id": "b353d004",
        "outputId": "16c33ca7-a166-48ad-97ec-e5365b59a0bf",
        "colab": {
          "base_uri": "https://localhost:8080/"
        }
      },
      "outputs": [
        {
          "output_type": "execute_result",
          "data": {
            "text/plain": [
              "(289453, 32)"
            ]
          },
          "metadata": {},
          "execution_count": 17
        }
      ],
      "source": [
        "df_reimbursements.shape"
      ]
    },
    {
      "cell_type": "code",
      "execution_count": 18,
      "id": "7a9dfa57",
      "metadata": {
        "id": "7a9dfa57",
        "outputId": "d5b9c5a6-9a56-42e2-e130-c68256639e14",
        "colab": {
          "base_uri": "https://localhost:8080/"
        }
      },
      "outputs": [
        {
          "output_type": "stream",
          "name": "stdout",
          "text": [
            "<class 'pandas.core.frame.DataFrame'>\n",
            "RangeIndex: 289453 entries, 0 to 289452\n",
            "Data columns (total 32 columns):\n",
            " #   Column                     Non-Null Count   Dtype  \n",
            "---  ------                     --------------   -----  \n",
            " 0   txNomeParlamentar          289453 non-null  object \n",
            " 1   cpf                        288449 non-null  float64\n",
            " 2   ideCadastro                288548 non-null  float64\n",
            " 3   nuCarteiraParlamentar      288548 non-null  float64\n",
            " 4   nuLegislatura              289453 non-null  int64  \n",
            " 5   sgUF                       288548 non-null  object \n",
            " 6   sgPartido                  288548 non-null  object \n",
            " 7   codLegislatura             289453 non-null  int64  \n",
            " 8   numSubCota                 289453 non-null  int64  \n",
            " 9   txtDescricao               289453 non-null  object \n",
            " 10  numEspecificacaoSubCota    289453 non-null  int64  \n",
            " 11  txtDescricaoEspecificacao  64765 non-null   object \n",
            " 12  txtFornecedor              289438 non-null  object \n",
            " 13  txtCNPJCPF                 285380 non-null  object \n",
            " 14  txtNumero                  289453 non-null  object \n",
            " 15  indTipoDocumento           289453 non-null  int64  \n",
            " 16  datEmissao                 283281 non-null  object \n",
            " 17  vlrDocumento               289453 non-null  float64\n",
            " 18  vlrGlosa                   289453 non-null  float64\n",
            " 19  vlrLiquido                 289453 non-null  float64\n",
            " 20  numMes                     289453 non-null  int64  \n",
            " 21  numAno                     289453 non-null  int64  \n",
            " 22  numParcela                 289453 non-null  int64  \n",
            " 23  txtPassageiro              86363 non-null   object \n",
            " 24  txtTrecho                  85655 non-null   object \n",
            " 25  numLote                    289453 non-null  int64  \n",
            " 26  numRessarcimento           111948 non-null  float64\n",
            " 27  datPagamentoRestituicao    222 non-null     object \n",
            " 28  vlrRestituicao             257 non-null     float64\n",
            " 29  nuDeputadoId               289453 non-null  int64  \n",
            " 30  ideDocumento               289453 non-null  int64  \n",
            " 31  urlDocumento               167781 non-null  object \n",
            "dtypes: float64(8), int64(11), object(13)\n",
            "memory usage: 70.7+ MB\n"
          ]
        }
      ],
      "source": [
        "df_reimbursements.info()"
      ]
    },
    {
      "cell_type": "code",
      "execution_count": 19,
      "id": "33def82f",
      "metadata": {
        "id": "33def82f",
        "outputId": "61548c9b-77ac-4d5d-bcc8-293773dd9446",
        "colab": {
          "base_uri": "https://localhost:8080/"
        }
      },
      "outputs": [
        {
          "output_type": "execute_result",
          "data": {
            "text/plain": [
              "Index(['txNomeParlamentar', 'cpf', 'ideCadastro', 'nuCarteiraParlamentar',\n",
              "       'nuLegislatura', 'sgUF', 'sgPartido', 'codLegislatura', 'numSubCota',\n",
              "       'txtDescricao', 'numEspecificacaoSubCota', 'txtDescricaoEspecificacao',\n",
              "       'txtFornecedor', 'txtCNPJCPF', 'txtNumero', 'indTipoDocumento',\n",
              "       'datEmissao', 'vlrDocumento', 'vlrGlosa', 'vlrLiquido', 'numMes',\n",
              "       'numAno', 'numParcela', 'txtPassageiro', 'txtTrecho', 'numLote',\n",
              "       'numRessarcimento', 'datPagamentoRestituicao', 'vlrRestituicao',\n",
              "       'nuDeputadoId', 'ideDocumento', 'urlDocumento'],\n",
              "      dtype='object')"
            ]
          },
          "metadata": {},
          "execution_count": 19
        }
      ],
      "source": [
        "df_reimbursements.columns"
      ]
    },
    {
      "cell_type": "markdown",
      "id": "6f9c817f",
      "metadata": {
        "id": "6f9c817f"
      },
      "source": [
        "#### Preenchendo valores nulos"
      ]
    },
    {
      "cell_type": "code",
      "execution_count": 20,
      "id": "08d71122",
      "metadata": {
        "colab": {
          "base_uri": "https://localhost:8080/",
          "height": 646
        },
        "id": "08d71122",
        "outputId": "9053464c-e3d5-42b8-94cb-c733796648f2"
      },
      "outputs": [
        {
          "output_type": "execute_result",
          "data": {
            "text/plain": [
              "  txNomeParlamentar            cpf    ideCadastro nuCarteiraParlamentar  \\\n",
              "0        LID.GOV-CD  Não se aplica  Não se aplica         Não se aplica   \n",
              "1        LID.GOV-CD  Não se aplica  Não se aplica         Não se aplica   \n",
              "2        LID.GOV-CD  Não se aplica  Não se aplica         Não se aplica   \n",
              "3        LID.GOV-CD  Não se aplica  Não se aplica         Não se aplica   \n",
              "4        LID.GOV-CD  Não se aplica  Não se aplica         Não se aplica   \n",
              "\n",
              "   nuLegislatura           sgUF      sgPartido  codLegislatura  numSubCota  \\\n",
              "0           2015  Não se aplica  Não se aplica              55          13   \n",
              "1           2019  Não se aplica  Não se aplica              56          13   \n",
              "2           2019  Não se aplica  Não se aplica              56          13   \n",
              "3           2019  Não se aplica  Não se aplica              56          13   \n",
              "4           2019  Não se aplica  Não se aplica              56          13   \n",
              "\n",
              "                                 txtDescricao  ...  numParcela  txtPassageiro  \\\n",
              "0  FORNECIMENTO DE ALIMENTAÇÃO DO PARLAMENTAR  ...           0  Não se aplica   \n",
              "1  FORNECIMENTO DE ALIMENTAÇÃO DO PARLAMENTAR  ...           0  Não se aplica   \n",
              "2  FORNECIMENTO DE ALIMENTAÇÃO DO PARLAMENTAR  ...           0  Não se aplica   \n",
              "3  FORNECIMENTO DE ALIMENTAÇÃO DO PARLAMENTAR  ...           0  Não se aplica   \n",
              "4  FORNECIMENTO DE ALIMENTAÇÃO DO PARLAMENTAR  ...           0  Não se aplica   \n",
              "\n",
              "       txtTrecho  numLote numRessarcimento  datPagamentoRestituicao  \\\n",
              "0  Não se aplica  1554246    Não se aplica            Não se aplica   \n",
              "1  Não se aplica  1570078    Não se aplica            Não se aplica   \n",
              "2  Não se aplica  1570503    Não se aplica            Não se aplica   \n",
              "3  Não se aplica  1579375    Não se aplica            Não se aplica   \n",
              "4  Não se aplica  1590980    Não se aplica            Não se aplica   \n",
              "\n",
              "  vlrRestituicao  nuDeputadoId  ideDocumento  \\\n",
              "0  Não se aplica          2812       6738121   \n",
              "1  Não se aplica          2812       6769606   \n",
              "2  Não se aplica          2812       6771099   \n",
              "3  Não se aplica          2812       6793690   \n",
              "4  Não se aplica          2812       6821674   \n",
              "\n",
              "                                        urlDocumento  \n",
              "0  https://www.camara.leg.br/cota-parlamentar/not...  \n",
              "1  https://www.camara.leg.br/cota-parlamentar/not...  \n",
              "2  https://www.camara.leg.br/cota-parlamentar/not...  \n",
              "3  https://www.camara.leg.br/cota-parlamentar/not...  \n",
              "4  https://www.camara.leg.br/cota-parlamentar/not...  \n",
              "\n",
              "[5 rows x 32 columns]"
            ],
            "text/html": [
              "\n",
              "  <div id=\"df-5a718861-f848-4b20-a8f0-95dc14818b82\">\n",
              "    <div class=\"colab-df-container\">\n",
              "      <div>\n",
              "<style scoped>\n",
              "    .dataframe tbody tr th:only-of-type {\n",
              "        vertical-align: middle;\n",
              "    }\n",
              "\n",
              "    .dataframe tbody tr th {\n",
              "        vertical-align: top;\n",
              "    }\n",
              "\n",
              "    .dataframe thead th {\n",
              "        text-align: right;\n",
              "    }\n",
              "</style>\n",
              "<table border=\"1\" class=\"dataframe\">\n",
              "  <thead>\n",
              "    <tr style=\"text-align: right;\">\n",
              "      <th></th>\n",
              "      <th>txNomeParlamentar</th>\n",
              "      <th>cpf</th>\n",
              "      <th>ideCadastro</th>\n",
              "      <th>nuCarteiraParlamentar</th>\n",
              "      <th>nuLegislatura</th>\n",
              "      <th>sgUF</th>\n",
              "      <th>sgPartido</th>\n",
              "      <th>codLegislatura</th>\n",
              "      <th>numSubCota</th>\n",
              "      <th>txtDescricao</th>\n",
              "      <th>...</th>\n",
              "      <th>numParcela</th>\n",
              "      <th>txtPassageiro</th>\n",
              "      <th>txtTrecho</th>\n",
              "      <th>numLote</th>\n",
              "      <th>numRessarcimento</th>\n",
              "      <th>datPagamentoRestituicao</th>\n",
              "      <th>vlrRestituicao</th>\n",
              "      <th>nuDeputadoId</th>\n",
              "      <th>ideDocumento</th>\n",
              "      <th>urlDocumento</th>\n",
              "    </tr>\n",
              "  </thead>\n",
              "  <tbody>\n",
              "    <tr>\n",
              "      <th>0</th>\n",
              "      <td>LID.GOV-CD</td>\n",
              "      <td>Não se aplica</td>\n",
              "      <td>Não se aplica</td>\n",
              "      <td>Não se aplica</td>\n",
              "      <td>2015</td>\n",
              "      <td>Não se aplica</td>\n",
              "      <td>Não se aplica</td>\n",
              "      <td>55</td>\n",
              "      <td>13</td>\n",
              "      <td>FORNECIMENTO DE ALIMENTAÇÃO DO PARLAMENTAR</td>\n",
              "      <td>...</td>\n",
              "      <td>0</td>\n",
              "      <td>Não se aplica</td>\n",
              "      <td>Não se aplica</td>\n",
              "      <td>1554246</td>\n",
              "      <td>Não se aplica</td>\n",
              "      <td>Não se aplica</td>\n",
              "      <td>Não se aplica</td>\n",
              "      <td>2812</td>\n",
              "      <td>6738121</td>\n",
              "      <td>https://www.camara.leg.br/cota-parlamentar/not...</td>\n",
              "    </tr>\n",
              "    <tr>\n",
              "      <th>1</th>\n",
              "      <td>LID.GOV-CD</td>\n",
              "      <td>Não se aplica</td>\n",
              "      <td>Não se aplica</td>\n",
              "      <td>Não se aplica</td>\n",
              "      <td>2019</td>\n",
              "      <td>Não se aplica</td>\n",
              "      <td>Não se aplica</td>\n",
              "      <td>56</td>\n",
              "      <td>13</td>\n",
              "      <td>FORNECIMENTO DE ALIMENTAÇÃO DO PARLAMENTAR</td>\n",
              "      <td>...</td>\n",
              "      <td>0</td>\n",
              "      <td>Não se aplica</td>\n",
              "      <td>Não se aplica</td>\n",
              "      <td>1570078</td>\n",
              "      <td>Não se aplica</td>\n",
              "      <td>Não se aplica</td>\n",
              "      <td>Não se aplica</td>\n",
              "      <td>2812</td>\n",
              "      <td>6769606</td>\n",
              "      <td>https://www.camara.leg.br/cota-parlamentar/not...</td>\n",
              "    </tr>\n",
              "    <tr>\n",
              "      <th>2</th>\n",
              "      <td>LID.GOV-CD</td>\n",
              "      <td>Não se aplica</td>\n",
              "      <td>Não se aplica</td>\n",
              "      <td>Não se aplica</td>\n",
              "      <td>2019</td>\n",
              "      <td>Não se aplica</td>\n",
              "      <td>Não se aplica</td>\n",
              "      <td>56</td>\n",
              "      <td>13</td>\n",
              "      <td>FORNECIMENTO DE ALIMENTAÇÃO DO PARLAMENTAR</td>\n",
              "      <td>...</td>\n",
              "      <td>0</td>\n",
              "      <td>Não se aplica</td>\n",
              "      <td>Não se aplica</td>\n",
              "      <td>1570503</td>\n",
              "      <td>Não se aplica</td>\n",
              "      <td>Não se aplica</td>\n",
              "      <td>Não se aplica</td>\n",
              "      <td>2812</td>\n",
              "      <td>6771099</td>\n",
              "      <td>https://www.camara.leg.br/cota-parlamentar/not...</td>\n",
              "    </tr>\n",
              "    <tr>\n",
              "      <th>3</th>\n",
              "      <td>LID.GOV-CD</td>\n",
              "      <td>Não se aplica</td>\n",
              "      <td>Não se aplica</td>\n",
              "      <td>Não se aplica</td>\n",
              "      <td>2019</td>\n",
              "      <td>Não se aplica</td>\n",
              "      <td>Não se aplica</td>\n",
              "      <td>56</td>\n",
              "      <td>13</td>\n",
              "      <td>FORNECIMENTO DE ALIMENTAÇÃO DO PARLAMENTAR</td>\n",
              "      <td>...</td>\n",
              "      <td>0</td>\n",
              "      <td>Não se aplica</td>\n",
              "      <td>Não se aplica</td>\n",
              "      <td>1579375</td>\n",
              "      <td>Não se aplica</td>\n",
              "      <td>Não se aplica</td>\n",
              "      <td>Não se aplica</td>\n",
              "      <td>2812</td>\n",
              "      <td>6793690</td>\n",
              "      <td>https://www.camara.leg.br/cota-parlamentar/not...</td>\n",
              "    </tr>\n",
              "    <tr>\n",
              "      <th>4</th>\n",
              "      <td>LID.GOV-CD</td>\n",
              "      <td>Não se aplica</td>\n",
              "      <td>Não se aplica</td>\n",
              "      <td>Não se aplica</td>\n",
              "      <td>2019</td>\n",
              "      <td>Não se aplica</td>\n",
              "      <td>Não se aplica</td>\n",
              "      <td>56</td>\n",
              "      <td>13</td>\n",
              "      <td>FORNECIMENTO DE ALIMENTAÇÃO DO PARLAMENTAR</td>\n",
              "      <td>...</td>\n",
              "      <td>0</td>\n",
              "      <td>Não se aplica</td>\n",
              "      <td>Não se aplica</td>\n",
              "      <td>1590980</td>\n",
              "      <td>Não se aplica</td>\n",
              "      <td>Não se aplica</td>\n",
              "      <td>Não se aplica</td>\n",
              "      <td>2812</td>\n",
              "      <td>6821674</td>\n",
              "      <td>https://www.camara.leg.br/cota-parlamentar/not...</td>\n",
              "    </tr>\n",
              "  </tbody>\n",
              "</table>\n",
              "<p>5 rows × 32 columns</p>\n",
              "</div>\n",
              "      <button class=\"colab-df-convert\" onclick=\"convertToInteractive('df-5a718861-f848-4b20-a8f0-95dc14818b82')\"\n",
              "              title=\"Convert this dataframe to an interactive table.\"\n",
              "              style=\"display:none;\">\n",
              "        \n",
              "  <svg xmlns=\"http://www.w3.org/2000/svg\" height=\"24px\"viewBox=\"0 0 24 24\"\n",
              "       width=\"24px\">\n",
              "    <path d=\"M0 0h24v24H0V0z\" fill=\"none\"/>\n",
              "    <path d=\"M18.56 5.44l.94 2.06.94-2.06 2.06-.94-2.06-.94-.94-2.06-.94 2.06-2.06.94zm-11 1L8.5 8.5l.94-2.06 2.06-.94-2.06-.94L8.5 2.5l-.94 2.06-2.06.94zm10 10l.94 2.06.94-2.06 2.06-.94-2.06-.94-.94-2.06-.94 2.06-2.06.94z\"/><path d=\"M17.41 7.96l-1.37-1.37c-.4-.4-.92-.59-1.43-.59-.52 0-1.04.2-1.43.59L10.3 9.45l-7.72 7.72c-.78.78-.78 2.05 0 2.83L4 21.41c.39.39.9.59 1.41.59.51 0 1.02-.2 1.41-.59l7.78-7.78 2.81-2.81c.8-.78.8-2.07 0-2.86zM5.41 20L4 18.59l7.72-7.72 1.47 1.35L5.41 20z\"/>\n",
              "  </svg>\n",
              "      </button>\n",
              "      \n",
              "  <style>\n",
              "    .colab-df-container {\n",
              "      display:flex;\n",
              "      flex-wrap:wrap;\n",
              "      gap: 12px;\n",
              "    }\n",
              "\n",
              "    .colab-df-convert {\n",
              "      background-color: #E8F0FE;\n",
              "      border: none;\n",
              "      border-radius: 50%;\n",
              "      cursor: pointer;\n",
              "      display: none;\n",
              "      fill: #1967D2;\n",
              "      height: 32px;\n",
              "      padding: 0 0 0 0;\n",
              "      width: 32px;\n",
              "    }\n",
              "\n",
              "    .colab-df-convert:hover {\n",
              "      background-color: #E2EBFA;\n",
              "      box-shadow: 0px 1px 2px rgba(60, 64, 67, 0.3), 0px 1px 3px 1px rgba(60, 64, 67, 0.15);\n",
              "      fill: #174EA6;\n",
              "    }\n",
              "\n",
              "    [theme=dark] .colab-df-convert {\n",
              "      background-color: #3B4455;\n",
              "      fill: #D2E3FC;\n",
              "    }\n",
              "\n",
              "    [theme=dark] .colab-df-convert:hover {\n",
              "      background-color: #434B5C;\n",
              "      box-shadow: 0px 1px 3px 1px rgba(0, 0, 0, 0.15);\n",
              "      filter: drop-shadow(0px 1px 2px rgba(0, 0, 0, 0.3));\n",
              "      fill: #FFFFFF;\n",
              "    }\n",
              "  </style>\n",
              "\n",
              "      <script>\n",
              "        const buttonEl =\n",
              "          document.querySelector('#df-5a718861-f848-4b20-a8f0-95dc14818b82 button.colab-df-convert');\n",
              "        buttonEl.style.display =\n",
              "          google.colab.kernel.accessAllowed ? 'block' : 'none';\n",
              "\n",
              "        async function convertToInteractive(key) {\n",
              "          const element = document.querySelector('#df-5a718861-f848-4b20-a8f0-95dc14818b82');\n",
              "          const dataTable =\n",
              "            await google.colab.kernel.invokeFunction('convertToInteractive',\n",
              "                                                     [key], {});\n",
              "          if (!dataTable) return;\n",
              "\n",
              "          const docLinkHtml = 'Like what you see? Visit the ' +\n",
              "            '<a target=\"_blank\" href=https://colab.research.google.com/notebooks/data_table.ipynb>data table notebook</a>'\n",
              "            + ' to learn more about interactive tables.';\n",
              "          element.innerHTML = '';\n",
              "          dataTable['output_type'] = 'display_data';\n",
              "          await google.colab.output.renderOutput(dataTable, element);\n",
              "          const docLink = document.createElement('div');\n",
              "          docLink.innerHTML = docLinkHtml;\n",
              "          element.appendChild(docLink);\n",
              "        }\n",
              "      </script>\n",
              "    </div>\n",
              "  </div>\n",
              "  "
            ]
          },
          "metadata": {},
          "execution_count": 20
        }
      ],
      "source": [
        "df_reimbursements.fillna(value=\"Não se aplica\").head()"
      ]
    },
    {
      "cell_type": "code",
      "execution_count": 21,
      "id": "bcb39dca",
      "metadata": {
        "id": "bcb39dca",
        "outputId": "3995587d-1391-4b62-9b00-a3854802e1aa",
        "colab": {
          "base_uri": "https://localhost:8080/",
          "height": 1000
        }
      },
      "outputs": [
        {
          "output_type": "execute_result",
          "data": {
            "text/plain": [
              "    txNomeParlamentar  cpf  ideCadastro  nuCarteiraParlamentar  nuLegislatura  \\\n",
              "0          LID.GOV-CD  NaN          NaN                    NaN           2015   \n",
              "1          LID.GOV-CD  NaN          NaN                    NaN           2019   \n",
              "2          LID.GOV-CD  NaN          NaN                    NaN           2019   \n",
              "3          LID.GOV-CD  NaN          NaN                    NaN           2019   \n",
              "4          LID.GOV-CD  NaN          NaN                    NaN           2019   \n",
              "..                ...  ...          ...                    ...            ...   \n",
              "900            LIDMIN  NaN          NaN                    NaN           2019   \n",
              "901            LIDMIN  NaN          NaN                    NaN           2019   \n",
              "902            LIDMIN  NaN          NaN                    NaN           2019   \n",
              "903            LIDMIN  NaN          NaN                    NaN           2019   \n",
              "904            LIDMIN  NaN          NaN                    NaN           2019   \n",
              "\n",
              "    sgUF sgPartido  codLegislatura  numSubCota  \\\n",
              "0    NaN       NaN              55          13   \n",
              "1    NaN       NaN              56          13   \n",
              "2    NaN       NaN              56          13   \n",
              "3    NaN       NaN              56          13   \n",
              "4    NaN       NaN              56          13   \n",
              "..   ...       ...             ...         ...   \n",
              "900  NaN       NaN              56          13   \n",
              "901  NaN       NaN              56          13   \n",
              "902  NaN       NaN              56          13   \n",
              "903  NaN       NaN              56          13   \n",
              "904  NaN       NaN              56          13   \n",
              "\n",
              "                                   txtDescricao  ...  numParcela  \\\n",
              "0    FORNECIMENTO DE ALIMENTAÇÃO DO PARLAMENTAR  ...           0   \n",
              "1    FORNECIMENTO DE ALIMENTAÇÃO DO PARLAMENTAR  ...           0   \n",
              "2    FORNECIMENTO DE ALIMENTAÇÃO DO PARLAMENTAR  ...           0   \n",
              "3    FORNECIMENTO DE ALIMENTAÇÃO DO PARLAMENTAR  ...           0   \n",
              "4    FORNECIMENTO DE ALIMENTAÇÃO DO PARLAMENTAR  ...           0   \n",
              "..                                          ...  ...         ...   \n",
              "900  FORNECIMENTO DE ALIMENTAÇÃO DO PARLAMENTAR  ...           0   \n",
              "901  FORNECIMENTO DE ALIMENTAÇÃO DO PARLAMENTAR  ...           0   \n",
              "902  FORNECIMENTO DE ALIMENTAÇÃO DO PARLAMENTAR  ...           0   \n",
              "903  FORNECIMENTO DE ALIMENTAÇÃO DO PARLAMENTAR  ...           0   \n",
              "904  FORNECIMENTO DE ALIMENTAÇÃO DO PARLAMENTAR  ...           0   \n",
              "\n",
              "    txtPassageiro txtTrecho  numLote numRessarcimento  \\\n",
              "0             NaN       NaN  1554246              NaN   \n",
              "1             NaN       NaN  1570078              NaN   \n",
              "2             NaN       NaN  1570503              NaN   \n",
              "3             NaN       NaN  1579375              NaN   \n",
              "4             NaN       NaN  1590980              NaN   \n",
              "..            ...       ...      ...              ...   \n",
              "900           NaN       NaN  1618189              NaN   \n",
              "901           NaN       NaN  1658394              NaN   \n",
              "902           NaN       NaN  1658383              NaN   \n",
              "903           NaN       NaN  1658375              NaN   \n",
              "904           NaN       NaN  1652795              NaN   \n",
              "\n",
              "     datPagamentoRestituicao vlrRestituicao  nuDeputadoId  ideDocumento  \\\n",
              "0                        NaN            NaN          2812       6738121   \n",
              "1                        NaN            NaN          2812       6769606   \n",
              "2                        NaN            NaN          2812       6771099   \n",
              "3                        NaN            NaN          2812       6793690   \n",
              "4                        NaN            NaN          2812       6821674   \n",
              "..                       ...            ...           ...           ...   \n",
              "900                      NaN            NaN          2806       6884032   \n",
              "901                      NaN            NaN          2806       6976028   \n",
              "902                      NaN            NaN          2806       6975999   \n",
              "903                      NaN            NaN          2806       6975967   \n",
              "904                      NaN            NaN          2806       6962818   \n",
              "\n",
              "                                          urlDocumento  \n",
              "0    https://www.camara.leg.br/cota-parlamentar/not...  \n",
              "1    https://www.camara.leg.br/cota-parlamentar/not...  \n",
              "2    https://www.camara.leg.br/cota-parlamentar/not...  \n",
              "3    https://www.camara.leg.br/cota-parlamentar/not...  \n",
              "4    https://www.camara.leg.br/cota-parlamentar/not...  \n",
              "..                                                 ...  \n",
              "900  https://www.camara.leg.br/cota-parlamentar/not...  \n",
              "901  https://www.camara.leg.br/cota-parlamentar/doc...  \n",
              "902  https://www.camara.leg.br/cota-parlamentar/doc...  \n",
              "903  https://www.camara.leg.br/cota-parlamentar/doc...  \n",
              "904  https://www.camara.leg.br/cota-parlamentar/not...  \n",
              "\n",
              "[905 rows x 32 columns]"
            ],
            "text/html": [
              "\n",
              "  <div id=\"df-6725afaf-02ed-409a-9869-5a4e71973936\">\n",
              "    <div class=\"colab-df-container\">\n",
              "      <div>\n",
              "<style scoped>\n",
              "    .dataframe tbody tr th:only-of-type {\n",
              "        vertical-align: middle;\n",
              "    }\n",
              "\n",
              "    .dataframe tbody tr th {\n",
              "        vertical-align: top;\n",
              "    }\n",
              "\n",
              "    .dataframe thead th {\n",
              "        text-align: right;\n",
              "    }\n",
              "</style>\n",
              "<table border=\"1\" class=\"dataframe\">\n",
              "  <thead>\n",
              "    <tr style=\"text-align: right;\">\n",
              "      <th></th>\n",
              "      <th>txNomeParlamentar</th>\n",
              "      <th>cpf</th>\n",
              "      <th>ideCadastro</th>\n",
              "      <th>nuCarteiraParlamentar</th>\n",
              "      <th>nuLegislatura</th>\n",
              "      <th>sgUF</th>\n",
              "      <th>sgPartido</th>\n",
              "      <th>codLegislatura</th>\n",
              "      <th>numSubCota</th>\n",
              "      <th>txtDescricao</th>\n",
              "      <th>...</th>\n",
              "      <th>numParcela</th>\n",
              "      <th>txtPassageiro</th>\n",
              "      <th>txtTrecho</th>\n",
              "      <th>numLote</th>\n",
              "      <th>numRessarcimento</th>\n",
              "      <th>datPagamentoRestituicao</th>\n",
              "      <th>vlrRestituicao</th>\n",
              "      <th>nuDeputadoId</th>\n",
              "      <th>ideDocumento</th>\n",
              "      <th>urlDocumento</th>\n",
              "    </tr>\n",
              "  </thead>\n",
              "  <tbody>\n",
              "    <tr>\n",
              "      <th>0</th>\n",
              "      <td>LID.GOV-CD</td>\n",
              "      <td>NaN</td>\n",
              "      <td>NaN</td>\n",
              "      <td>NaN</td>\n",
              "      <td>2015</td>\n",
              "      <td>NaN</td>\n",
              "      <td>NaN</td>\n",
              "      <td>55</td>\n",
              "      <td>13</td>\n",
              "      <td>FORNECIMENTO DE ALIMENTAÇÃO DO PARLAMENTAR</td>\n",
              "      <td>...</td>\n",
              "      <td>0</td>\n",
              "      <td>NaN</td>\n",
              "      <td>NaN</td>\n",
              "      <td>1554246</td>\n",
              "      <td>NaN</td>\n",
              "      <td>NaN</td>\n",
              "      <td>NaN</td>\n",
              "      <td>2812</td>\n",
              "      <td>6738121</td>\n",
              "      <td>https://www.camara.leg.br/cota-parlamentar/not...</td>\n",
              "    </tr>\n",
              "    <tr>\n",
              "      <th>1</th>\n",
              "      <td>LID.GOV-CD</td>\n",
              "      <td>NaN</td>\n",
              "      <td>NaN</td>\n",
              "      <td>NaN</td>\n",
              "      <td>2019</td>\n",
              "      <td>NaN</td>\n",
              "      <td>NaN</td>\n",
              "      <td>56</td>\n",
              "      <td>13</td>\n",
              "      <td>FORNECIMENTO DE ALIMENTAÇÃO DO PARLAMENTAR</td>\n",
              "      <td>...</td>\n",
              "      <td>0</td>\n",
              "      <td>NaN</td>\n",
              "      <td>NaN</td>\n",
              "      <td>1570078</td>\n",
              "      <td>NaN</td>\n",
              "      <td>NaN</td>\n",
              "      <td>NaN</td>\n",
              "      <td>2812</td>\n",
              "      <td>6769606</td>\n",
              "      <td>https://www.camara.leg.br/cota-parlamentar/not...</td>\n",
              "    </tr>\n",
              "    <tr>\n",
              "      <th>2</th>\n",
              "      <td>LID.GOV-CD</td>\n",
              "      <td>NaN</td>\n",
              "      <td>NaN</td>\n",
              "      <td>NaN</td>\n",
              "      <td>2019</td>\n",
              "      <td>NaN</td>\n",
              "      <td>NaN</td>\n",
              "      <td>56</td>\n",
              "      <td>13</td>\n",
              "      <td>FORNECIMENTO DE ALIMENTAÇÃO DO PARLAMENTAR</td>\n",
              "      <td>...</td>\n",
              "      <td>0</td>\n",
              "      <td>NaN</td>\n",
              "      <td>NaN</td>\n",
              "      <td>1570503</td>\n",
              "      <td>NaN</td>\n",
              "      <td>NaN</td>\n",
              "      <td>NaN</td>\n",
              "      <td>2812</td>\n",
              "      <td>6771099</td>\n",
              "      <td>https://www.camara.leg.br/cota-parlamentar/not...</td>\n",
              "    </tr>\n",
              "    <tr>\n",
              "      <th>3</th>\n",
              "      <td>LID.GOV-CD</td>\n",
              "      <td>NaN</td>\n",
              "      <td>NaN</td>\n",
              "      <td>NaN</td>\n",
              "      <td>2019</td>\n",
              "      <td>NaN</td>\n",
              "      <td>NaN</td>\n",
              "      <td>56</td>\n",
              "      <td>13</td>\n",
              "      <td>FORNECIMENTO DE ALIMENTAÇÃO DO PARLAMENTAR</td>\n",
              "      <td>...</td>\n",
              "      <td>0</td>\n",
              "      <td>NaN</td>\n",
              "      <td>NaN</td>\n",
              "      <td>1579375</td>\n",
              "      <td>NaN</td>\n",
              "      <td>NaN</td>\n",
              "      <td>NaN</td>\n",
              "      <td>2812</td>\n",
              "      <td>6793690</td>\n",
              "      <td>https://www.camara.leg.br/cota-parlamentar/not...</td>\n",
              "    </tr>\n",
              "    <tr>\n",
              "      <th>4</th>\n",
              "      <td>LID.GOV-CD</td>\n",
              "      <td>NaN</td>\n",
              "      <td>NaN</td>\n",
              "      <td>NaN</td>\n",
              "      <td>2019</td>\n",
              "      <td>NaN</td>\n",
              "      <td>NaN</td>\n",
              "      <td>56</td>\n",
              "      <td>13</td>\n",
              "      <td>FORNECIMENTO DE ALIMENTAÇÃO DO PARLAMENTAR</td>\n",
              "      <td>...</td>\n",
              "      <td>0</td>\n",
              "      <td>NaN</td>\n",
              "      <td>NaN</td>\n",
              "      <td>1590980</td>\n",
              "      <td>NaN</td>\n",
              "      <td>NaN</td>\n",
              "      <td>NaN</td>\n",
              "      <td>2812</td>\n",
              "      <td>6821674</td>\n",
              "      <td>https://www.camara.leg.br/cota-parlamentar/not...</td>\n",
              "    </tr>\n",
              "    <tr>\n",
              "      <th>...</th>\n",
              "      <td>...</td>\n",
              "      <td>...</td>\n",
              "      <td>...</td>\n",
              "      <td>...</td>\n",
              "      <td>...</td>\n",
              "      <td>...</td>\n",
              "      <td>...</td>\n",
              "      <td>...</td>\n",
              "      <td>...</td>\n",
              "      <td>...</td>\n",
              "      <td>...</td>\n",
              "      <td>...</td>\n",
              "      <td>...</td>\n",
              "      <td>...</td>\n",
              "      <td>...</td>\n",
              "      <td>...</td>\n",
              "      <td>...</td>\n",
              "      <td>...</td>\n",
              "      <td>...</td>\n",
              "      <td>...</td>\n",
              "      <td>...</td>\n",
              "    </tr>\n",
              "    <tr>\n",
              "      <th>900</th>\n",
              "      <td>LIDMIN</td>\n",
              "      <td>NaN</td>\n",
              "      <td>NaN</td>\n",
              "      <td>NaN</td>\n",
              "      <td>2019</td>\n",
              "      <td>NaN</td>\n",
              "      <td>NaN</td>\n",
              "      <td>56</td>\n",
              "      <td>13</td>\n",
              "      <td>FORNECIMENTO DE ALIMENTAÇÃO DO PARLAMENTAR</td>\n",
              "      <td>...</td>\n",
              "      <td>0</td>\n",
              "      <td>NaN</td>\n",
              "      <td>NaN</td>\n",
              "      <td>1618189</td>\n",
              "      <td>NaN</td>\n",
              "      <td>NaN</td>\n",
              "      <td>NaN</td>\n",
              "      <td>2806</td>\n",
              "      <td>6884032</td>\n",
              "      <td>https://www.camara.leg.br/cota-parlamentar/not...</td>\n",
              "    </tr>\n",
              "    <tr>\n",
              "      <th>901</th>\n",
              "      <td>LIDMIN</td>\n",
              "      <td>NaN</td>\n",
              "      <td>NaN</td>\n",
              "      <td>NaN</td>\n",
              "      <td>2019</td>\n",
              "      <td>NaN</td>\n",
              "      <td>NaN</td>\n",
              "      <td>56</td>\n",
              "      <td>13</td>\n",
              "      <td>FORNECIMENTO DE ALIMENTAÇÃO DO PARLAMENTAR</td>\n",
              "      <td>...</td>\n",
              "      <td>0</td>\n",
              "      <td>NaN</td>\n",
              "      <td>NaN</td>\n",
              "      <td>1658394</td>\n",
              "      <td>NaN</td>\n",
              "      <td>NaN</td>\n",
              "      <td>NaN</td>\n",
              "      <td>2806</td>\n",
              "      <td>6976028</td>\n",
              "      <td>https://www.camara.leg.br/cota-parlamentar/doc...</td>\n",
              "    </tr>\n",
              "    <tr>\n",
              "      <th>902</th>\n",
              "      <td>LIDMIN</td>\n",
              "      <td>NaN</td>\n",
              "      <td>NaN</td>\n",
              "      <td>NaN</td>\n",
              "      <td>2019</td>\n",
              "      <td>NaN</td>\n",
              "      <td>NaN</td>\n",
              "      <td>56</td>\n",
              "      <td>13</td>\n",
              "      <td>FORNECIMENTO DE ALIMENTAÇÃO DO PARLAMENTAR</td>\n",
              "      <td>...</td>\n",
              "      <td>0</td>\n",
              "      <td>NaN</td>\n",
              "      <td>NaN</td>\n",
              "      <td>1658383</td>\n",
              "      <td>NaN</td>\n",
              "      <td>NaN</td>\n",
              "      <td>NaN</td>\n",
              "      <td>2806</td>\n",
              "      <td>6975999</td>\n",
              "      <td>https://www.camara.leg.br/cota-parlamentar/doc...</td>\n",
              "    </tr>\n",
              "    <tr>\n",
              "      <th>903</th>\n",
              "      <td>LIDMIN</td>\n",
              "      <td>NaN</td>\n",
              "      <td>NaN</td>\n",
              "      <td>NaN</td>\n",
              "      <td>2019</td>\n",
              "      <td>NaN</td>\n",
              "      <td>NaN</td>\n",
              "      <td>56</td>\n",
              "      <td>13</td>\n",
              "      <td>FORNECIMENTO DE ALIMENTAÇÃO DO PARLAMENTAR</td>\n",
              "      <td>...</td>\n",
              "      <td>0</td>\n",
              "      <td>NaN</td>\n",
              "      <td>NaN</td>\n",
              "      <td>1658375</td>\n",
              "      <td>NaN</td>\n",
              "      <td>NaN</td>\n",
              "      <td>NaN</td>\n",
              "      <td>2806</td>\n",
              "      <td>6975967</td>\n",
              "      <td>https://www.camara.leg.br/cota-parlamentar/doc...</td>\n",
              "    </tr>\n",
              "    <tr>\n",
              "      <th>904</th>\n",
              "      <td>LIDMIN</td>\n",
              "      <td>NaN</td>\n",
              "      <td>NaN</td>\n",
              "      <td>NaN</td>\n",
              "      <td>2019</td>\n",
              "      <td>NaN</td>\n",
              "      <td>NaN</td>\n",
              "      <td>56</td>\n",
              "      <td>13</td>\n",
              "      <td>FORNECIMENTO DE ALIMENTAÇÃO DO PARLAMENTAR</td>\n",
              "      <td>...</td>\n",
              "      <td>0</td>\n",
              "      <td>NaN</td>\n",
              "      <td>NaN</td>\n",
              "      <td>1652795</td>\n",
              "      <td>NaN</td>\n",
              "      <td>NaN</td>\n",
              "      <td>NaN</td>\n",
              "      <td>2806</td>\n",
              "      <td>6962818</td>\n",
              "      <td>https://www.camara.leg.br/cota-parlamentar/not...</td>\n",
              "    </tr>\n",
              "  </tbody>\n",
              "</table>\n",
              "<p>905 rows × 32 columns</p>\n",
              "</div>\n",
              "      <button class=\"colab-df-convert\" onclick=\"convertToInteractive('df-6725afaf-02ed-409a-9869-5a4e71973936')\"\n",
              "              title=\"Convert this dataframe to an interactive table.\"\n",
              "              style=\"display:none;\">\n",
              "        \n",
              "  <svg xmlns=\"http://www.w3.org/2000/svg\" height=\"24px\"viewBox=\"0 0 24 24\"\n",
              "       width=\"24px\">\n",
              "    <path d=\"M0 0h24v24H0V0z\" fill=\"none\"/>\n",
              "    <path d=\"M18.56 5.44l.94 2.06.94-2.06 2.06-.94-2.06-.94-.94-2.06-.94 2.06-2.06.94zm-11 1L8.5 8.5l.94-2.06 2.06-.94-2.06-.94L8.5 2.5l-.94 2.06-2.06.94zm10 10l.94 2.06.94-2.06 2.06-.94-2.06-.94-.94-2.06-.94 2.06-2.06.94z\"/><path d=\"M17.41 7.96l-1.37-1.37c-.4-.4-.92-.59-1.43-.59-.52 0-1.04.2-1.43.59L10.3 9.45l-7.72 7.72c-.78.78-.78 2.05 0 2.83L4 21.41c.39.39.9.59 1.41.59.51 0 1.02-.2 1.41-.59l7.78-7.78 2.81-2.81c.8-.78.8-2.07 0-2.86zM5.41 20L4 18.59l7.72-7.72 1.47 1.35L5.41 20z\"/>\n",
              "  </svg>\n",
              "      </button>\n",
              "      \n",
              "  <style>\n",
              "    .colab-df-container {\n",
              "      display:flex;\n",
              "      flex-wrap:wrap;\n",
              "      gap: 12px;\n",
              "    }\n",
              "\n",
              "    .colab-df-convert {\n",
              "      background-color: #E8F0FE;\n",
              "      border: none;\n",
              "      border-radius: 50%;\n",
              "      cursor: pointer;\n",
              "      display: none;\n",
              "      fill: #1967D2;\n",
              "      height: 32px;\n",
              "      padding: 0 0 0 0;\n",
              "      width: 32px;\n",
              "    }\n",
              "\n",
              "    .colab-df-convert:hover {\n",
              "      background-color: #E2EBFA;\n",
              "      box-shadow: 0px 1px 2px rgba(60, 64, 67, 0.3), 0px 1px 3px 1px rgba(60, 64, 67, 0.15);\n",
              "      fill: #174EA6;\n",
              "    }\n",
              "\n",
              "    [theme=dark] .colab-df-convert {\n",
              "      background-color: #3B4455;\n",
              "      fill: #D2E3FC;\n",
              "    }\n",
              "\n",
              "    [theme=dark] .colab-df-convert:hover {\n",
              "      background-color: #434B5C;\n",
              "      box-shadow: 0px 1px 3px 1px rgba(0, 0, 0, 0.15);\n",
              "      filter: drop-shadow(0px 1px 2px rgba(0, 0, 0, 0.3));\n",
              "      fill: #FFFFFF;\n",
              "    }\n",
              "  </style>\n",
              "\n",
              "      <script>\n",
              "        const buttonEl =\n",
              "          document.querySelector('#df-6725afaf-02ed-409a-9869-5a4e71973936 button.colab-df-convert');\n",
              "        buttonEl.style.display =\n",
              "          google.colab.kernel.accessAllowed ? 'block' : 'none';\n",
              "\n",
              "        async function convertToInteractive(key) {\n",
              "          const element = document.querySelector('#df-6725afaf-02ed-409a-9869-5a4e71973936');\n",
              "          const dataTable =\n",
              "            await google.colab.kernel.invokeFunction('convertToInteractive',\n",
              "                                                     [key], {});\n",
              "          if (!dataTable) return;\n",
              "\n",
              "          const docLinkHtml = 'Like what you see? Visit the ' +\n",
              "            '<a target=\"_blank\" href=https://colab.research.google.com/notebooks/data_table.ipynb>data table notebook</a>'\n",
              "            + ' to learn more about interactive tables.';\n",
              "          element.innerHTML = '';\n",
              "          dataTable['output_type'] = 'display_data';\n",
              "          await google.colab.output.renderOutput(dataTable, element);\n",
              "          const docLink = document.createElement('div');\n",
              "          docLink.innerHTML = docLinkHtml;\n",
              "          element.appendChild(docLink);\n",
              "        }\n",
              "      </script>\n",
              "    </div>\n",
              "  </div>\n",
              "  "
            ]
          },
          "metadata": {},
          "execution_count": 21
        }
      ],
      "source": [
        "df_reimbursements[df_reimbursements.sgPartido.isna()]"
      ]
    },
    {
      "cell_type": "code",
      "execution_count": 22,
      "id": "345ec402",
      "metadata": {
        "id": "345ec402",
        "outputId": "58fc73b6-a1b7-4087-837e-58a71cf01c98",
        "colab": {
          "base_uri": "https://localhost:8080/",
          "height": 143
        }
      },
      "outputs": [
        {
          "output_type": "execute_result",
          "data": {
            "text/plain": [
              "Empty DataFrame\n",
              "Columns: [txNomeParlamentar, cpf, ideCadastro, nuCarteiraParlamentar, nuLegislatura, sgUF, sgPartido, codLegislatura, numSubCota, txtDescricao, numEspecificacaoSubCota, txtDescricaoEspecificacao, txtFornecedor, txtCNPJCPF, txtNumero, indTipoDocumento, datEmissao, vlrDocumento, vlrGlosa, vlrLiquido, numMes, numAno, numParcela, txtPassageiro, txtTrecho, numLote, numRessarcimento, datPagamentoRestituicao, vlrRestituicao, nuDeputadoId, ideDocumento, urlDocumento]\n",
              "Index: []\n",
              "\n",
              "[0 rows x 32 columns]"
            ],
            "text/html": [
              "\n",
              "  <div id=\"df-22e6f71b-8a08-4e5b-b6ef-4ec19a574f7a\">\n",
              "    <div class=\"colab-df-container\">\n",
              "      <div>\n",
              "<style scoped>\n",
              "    .dataframe tbody tr th:only-of-type {\n",
              "        vertical-align: middle;\n",
              "    }\n",
              "\n",
              "    .dataframe tbody tr th {\n",
              "        vertical-align: top;\n",
              "    }\n",
              "\n",
              "    .dataframe thead th {\n",
              "        text-align: right;\n",
              "    }\n",
              "</style>\n",
              "<table border=\"1\" class=\"dataframe\">\n",
              "  <thead>\n",
              "    <tr style=\"text-align: right;\">\n",
              "      <th></th>\n",
              "      <th>txNomeParlamentar</th>\n",
              "      <th>cpf</th>\n",
              "      <th>ideCadastro</th>\n",
              "      <th>nuCarteiraParlamentar</th>\n",
              "      <th>nuLegislatura</th>\n",
              "      <th>sgUF</th>\n",
              "      <th>sgPartido</th>\n",
              "      <th>codLegislatura</th>\n",
              "      <th>numSubCota</th>\n",
              "      <th>txtDescricao</th>\n",
              "      <th>...</th>\n",
              "      <th>numParcela</th>\n",
              "      <th>txtPassageiro</th>\n",
              "      <th>txtTrecho</th>\n",
              "      <th>numLote</th>\n",
              "      <th>numRessarcimento</th>\n",
              "      <th>datPagamentoRestituicao</th>\n",
              "      <th>vlrRestituicao</th>\n",
              "      <th>nuDeputadoId</th>\n",
              "      <th>ideDocumento</th>\n",
              "      <th>urlDocumento</th>\n",
              "    </tr>\n",
              "  </thead>\n",
              "  <tbody>\n",
              "  </tbody>\n",
              "</table>\n",
              "<p>0 rows × 32 columns</p>\n",
              "</div>\n",
              "      <button class=\"colab-df-convert\" onclick=\"convertToInteractive('df-22e6f71b-8a08-4e5b-b6ef-4ec19a574f7a')\"\n",
              "              title=\"Convert this dataframe to an interactive table.\"\n",
              "              style=\"display:none;\">\n",
              "        \n",
              "  <svg xmlns=\"http://www.w3.org/2000/svg\" height=\"24px\"viewBox=\"0 0 24 24\"\n",
              "       width=\"24px\">\n",
              "    <path d=\"M0 0h24v24H0V0z\" fill=\"none\"/>\n",
              "    <path d=\"M18.56 5.44l.94 2.06.94-2.06 2.06-.94-2.06-.94-.94-2.06-.94 2.06-2.06.94zm-11 1L8.5 8.5l.94-2.06 2.06-.94-2.06-.94L8.5 2.5l-.94 2.06-2.06.94zm10 10l.94 2.06.94-2.06 2.06-.94-2.06-.94-.94-2.06-.94 2.06-2.06.94z\"/><path d=\"M17.41 7.96l-1.37-1.37c-.4-.4-.92-.59-1.43-.59-.52 0-1.04.2-1.43.59L10.3 9.45l-7.72 7.72c-.78.78-.78 2.05 0 2.83L4 21.41c.39.39.9.59 1.41.59.51 0 1.02-.2 1.41-.59l7.78-7.78 2.81-2.81c.8-.78.8-2.07 0-2.86zM5.41 20L4 18.59l7.72-7.72 1.47 1.35L5.41 20z\"/>\n",
              "  </svg>\n",
              "      </button>\n",
              "      \n",
              "  <style>\n",
              "    .colab-df-container {\n",
              "      display:flex;\n",
              "      flex-wrap:wrap;\n",
              "      gap: 12px;\n",
              "    }\n",
              "\n",
              "    .colab-df-convert {\n",
              "      background-color: #E8F0FE;\n",
              "      border: none;\n",
              "      border-radius: 50%;\n",
              "      cursor: pointer;\n",
              "      display: none;\n",
              "      fill: #1967D2;\n",
              "      height: 32px;\n",
              "      padding: 0 0 0 0;\n",
              "      width: 32px;\n",
              "    }\n",
              "\n",
              "    .colab-df-convert:hover {\n",
              "      background-color: #E2EBFA;\n",
              "      box-shadow: 0px 1px 2px rgba(60, 64, 67, 0.3), 0px 1px 3px 1px rgba(60, 64, 67, 0.15);\n",
              "      fill: #174EA6;\n",
              "    }\n",
              "\n",
              "    [theme=dark] .colab-df-convert {\n",
              "      background-color: #3B4455;\n",
              "      fill: #D2E3FC;\n",
              "    }\n",
              "\n",
              "    [theme=dark] .colab-df-convert:hover {\n",
              "      background-color: #434B5C;\n",
              "      box-shadow: 0px 1px 3px 1px rgba(0, 0, 0, 0.15);\n",
              "      filter: drop-shadow(0px 1px 2px rgba(0, 0, 0, 0.3));\n",
              "      fill: #FFFFFF;\n",
              "    }\n",
              "  </style>\n",
              "\n",
              "      <script>\n",
              "        const buttonEl =\n",
              "          document.querySelector('#df-22e6f71b-8a08-4e5b-b6ef-4ec19a574f7a button.colab-df-convert');\n",
              "        buttonEl.style.display =\n",
              "          google.colab.kernel.accessAllowed ? 'block' : 'none';\n",
              "\n",
              "        async function convertToInteractive(key) {\n",
              "          const element = document.querySelector('#df-22e6f71b-8a08-4e5b-b6ef-4ec19a574f7a');\n",
              "          const dataTable =\n",
              "            await google.colab.kernel.invokeFunction('convertToInteractive',\n",
              "                                                     [key], {});\n",
              "          if (!dataTable) return;\n",
              "\n",
              "          const docLinkHtml = 'Like what you see? Visit the ' +\n",
              "            '<a target=\"_blank\" href=https://colab.research.google.com/notebooks/data_table.ipynb>data table notebook</a>'\n",
              "            + ' to learn more about interactive tables.';\n",
              "          element.innerHTML = '';\n",
              "          dataTable['output_type'] = 'display_data';\n",
              "          await google.colab.output.renderOutput(dataTable, element);\n",
              "          const docLink = document.createElement('div');\n",
              "          docLink.innerHTML = docLinkHtml;\n",
              "          element.appendChild(docLink);\n",
              "        }\n",
              "      </script>\n",
              "    </div>\n",
              "  </div>\n",
              "  "
            ]
          },
          "metadata": {},
          "execution_count": 22
        }
      ],
      "source": [
        "df_reimbursements[df_reimbursements['ideDocumento'].isnull()]"
      ]
    },
    {
      "cell_type": "markdown",
      "id": "d338eea5",
      "metadata": {
        "id": "d338eea5"
      },
      "source": [
        "#### Informando tipos na leitura dos dados\n",
        "\n",
        "Quando trabalhamos com pandas, é sempre interessante entender que tipos de dados estão contidos em cada coluna. Na leitura do arquivo podemos aproveitar para deixar isso configurado.\n",
        "\n",
        "Isso pode ser extramamente útil quando estamos lendo dados que contém informação sobre documentos, como CPF. Nesses casos podemos ter algo como `091777777`, se esse valor por lido como um número, ele vai virar `91777777`, já que não existe número que inicie com 0. Esse é um ótimo exemplo de dado que deve ser lido como um string, para que ele seja preservado ao máximo.\n",
        "\n",
        "Agora, sabendo quais dados nosso dataframe possui, vamos definir o tipo para cada um."
      ]
    },
    {
      "cell_type": "code",
      "execution_count": 23,
      "id": "c022f1c8",
      "metadata": {
        "id": "c022f1c8"
      },
      "outputs": [],
      "source": [
        "DTYPE = {\n",
        "    'txNomeParlamentar': str,\n",
        "    'ideCadastro': str,\n",
        "    'nuCarteiraParlamentar': str,\n",
        "    'nuLegislatura': str,\n",
        "    'sgUF': str,\n",
        "    'sgPartido': str,\n",
        "    'codLegislatura': str,\n",
        "    'numSubCota': str,\n",
        "    'txtDescricao': str,\n",
        "    'numEspecificacaoSubCota': str,\n",
        "    'txtDescricaoEspecificacao': str,\n",
        "    'txtFornecedor': str,\n",
        "    'txtCNPJCPF': str,\n",
        "    'txtNumero': str,\n",
        "    'indTipoDocumento': str,\n",
        "    'datEmissao': str,\n",
        "    'vlrDocumento': float,\n",
        "    'vlrGlosa': str,\n",
        "    'vlrLiquido': float,\n",
        "    'numMes': str,\n",
        "    'numAno': str,\n",
        "    'numParcela': str,\n",
        "    'txtPassageiro': str,\n",
        "    'txtTrecho': str,\n",
        "    'numLote': str,\n",
        "    'numRessarcimento': str,\n",
        "    'nuDeputadoId': str,\n",
        "    'ideDocumento': str,\n",
        "}\n",
        "\n",
        "df_reimbursements = pd.read_csv(\n",
        "    \"reembolso-2019/Ano-2019.csv\",\n",
        "    delimiter=\";\",\n",
        "    dtype=DTYPE,\n",
        "    low_memory=False\n",
        ")"
      ]
    },
    {
      "cell_type": "markdown",
      "id": "b5377bd8",
      "metadata": {
        "id": "b5377bd8"
      },
      "source": [
        "Opa! Você lembra qual método podemos usar para conferir os tipos de cada coluna?\n",
        "**dica**: já passamos por esse método..."
      ]
    },
    {
      "cell_type": "code",
      "execution_count": null,
      "id": "e02c7464",
      "metadata": {
        "id": "e02c7464"
      },
      "outputs": [],
      "source": []
    },
    {
      "cell_type": "markdown",
      "id": "f048cb6e",
      "metadata": {
        "id": "f048cb6e"
      },
      "source": [
        "#### astype"
      ]
    },
    {
      "cell_type": "code",
      "execution_count": null,
      "id": "a68a72f8",
      "metadata": {
        "id": "a68a72f8"
      },
      "outputs": [],
      "source": [
        "# df_reimbursements[\"ideCadastro\"] = df_reimbursements[\"ideCadastro\"].astype('string')"
      ]
    },
    {
      "cell_type": "markdown",
      "id": "51e672ae",
      "metadata": {
        "id": "51e672ae"
      },
      "source": [
        "#### to_datetime\n",
        "\n",
        "Por default, o `to_datetime()` vai converter string no formato `MM/DD`, `MMDD` ou `MM-DD`. No nosso caso, as datas estão em um formato diferente, por isso, vamos passar como argumento do `format`o valor `%Y-%m-%d`, informando que as datas possuem primeiro o *ano* completo (ex.: 2020), *mês (ex.: 05), e dia (ex.: 12)."
      ]
    },
    {
      "cell_type": "code",
      "execution_count": 24,
      "id": "8bf65f61",
      "metadata": {
        "scrolled": false,
        "id": "8bf65f61"
      },
      "outputs": [],
      "source": [
        "df_reimbursements[\"datEmissao\"] = pd.to_datetime(\n",
        "    df_reimbursements.datEmissao,\n",
        "    format='%Y-%m-%d'\n",
        ")"
      ]
    },
    {
      "cell_type": "markdown",
      "id": "ede6366c",
      "metadata": {
        "id": "ede6366c"
      },
      "source": [
        "Caso essa conversão gere algum erro, você pode informar ao pandas como ele deve lidar com isso. O `to_datetime()` possue o argumento `errors`, que pode receber `ignore` caso você queria que os erros sejam ignorados, ou `coerce` caso você queria que os valores inválidos recebam `NaT`."
      ]
    },
    {
      "cell_type": "markdown",
      "id": "c942b33f",
      "metadata": {
        "id": "c942b33f"
      },
      "source": [
        "##### Para quem quiser saber mais!\n",
        "\n",
        "Você deve estar se perguntando o porquê dessa conversão utilizando o `to_datetime`. _O que ganhamos com isso?_ Existem várias vantagens do Pandas entender que uma coluna é uma data. Uma dessas vantagens é que você vai poder trabalhar com os dados como uma série temporal, ou seja, um conjunto de registros ao longo do tempo.\n",
        "\n",
        "Os reembolsos se encaixam bem nisso... pense só, nossos dados são um conjunto de pedidos de reembolsos solicitados ao longo de um ano. Quando convertemos o dados para um datetime, podemos realizar algumas operações que só são possíveis com datas. Por exemplo, podemos selecionar uma janela de tempo:"
      ]
    },
    {
      "cell_type": "code",
      "execution_count": null,
      "id": "f19fbf56",
      "metadata": {
        "id": "f19fbf56"
      },
      "outputs": [],
      "source": [
        "df_reimbursements.set_index(\"datEmissao\").loc[\"2020-01-01\":\"2020-04-30\"]"
      ]
    },
    {
      "cell_type": "markdown",
      "id": "2cf004ba",
      "metadata": {
        "id": "2cf004ba"
      },
      "source": [
        "Outras coisas são possíveis, como encontrar o dia da semana de cada uma dessas datas, calcular a média móvel, calcular quantos anos se passaram, ou agrupar os dados por janelas de tempo."
      ]
    },
    {
      "cell_type": "markdown",
      "id": "e8bb3954",
      "metadata": {
        "id": "e8bb3954"
      },
      "source": [
        "#### Completando, substituindo e reformatando"
      ]
    },
    {
      "cell_type": "code",
      "execution_count": 27,
      "id": "72548aa5",
      "metadata": {
        "id": "72548aa5"
      },
      "outputs": [],
      "source": [
        "# vamos trocar qualquer caracter que não seja um dígito número por '', essa operação remove os dígitos\n",
        "df_reimbursements[\"txtCNPJCPF\"] = df_reimbursements[\"txtCNPJCPF\"].str.replace(r'\\D', '', regex=True)"
      ]
    },
    {
      "cell_type": "code",
      "execution_count": 28,
      "id": "7c31b966",
      "metadata": {
        "id": "7c31b966",
        "outputId": "2490d353-9c98-490f-a088-0f0856f240bc",
        "colab": {
          "base_uri": "https://localhost:8080/"
        }
      },
      "outputs": [
        {
          "output_type": "execute_result",
          "data": {
            "text/plain": [
              "array(['4', '0', '1', '3', '2'], dtype=object)"
            ]
          },
          "metadata": {},
          "execution_count": 28
        }
      ],
      "source": [
        "# Este dado representa o tipo de documento do fiscal –\n",
        "# 0 (Zero), para Nota Fiscal; 1 (um), para Recibo; e 2, para Despesa no Exterior.\n",
        "\n",
        "df_reimbursements.indTipoDocumento.unique()"
      ]
    },
    {
      "cell_type": "code",
      "execution_count": 29,
      "id": "5166905a",
      "metadata": {
        "id": "5166905a",
        "outputId": "97abfaef-e4c1-4294-bdde-312180f5f26a",
        "colab": {
          "base_uri": "https://localhost:8080/"
        }
      },
      "outputs": [
        {
          "output_type": "execute_result",
          "data": {
            "text/plain": [
              "{'0': 'nota_fiscal', '1': 'recibo', '2': 'despesa_exterior', '4': None}"
            ]
          },
          "metadata": {},
          "execution_count": 29
        }
      ],
      "source": [
        "converters = {\n",
        "    \"0\": 'nota_fiscal',\n",
        "    \"1\": 'recibo',\n",
        "    \"2\": 'despesa_exterior',\n",
        "    \"4\": None\n",
        "}\n",
        "\n",
        "converters"
      ]
    },
    {
      "cell_type": "code",
      "execution_count": 30,
      "id": "0b7a82b2",
      "metadata": {
        "id": "0b7a82b2"
      },
      "outputs": [],
      "source": [
        "df_reimbursements.indTipoDocumento.replace(converters, inplace=True)"
      ]
    },
    {
      "cell_type": "code",
      "execution_count": 31,
      "id": "f521b74b",
      "metadata": {
        "id": "f521b74b",
        "outputId": "098e5443-dc73-4897-b6e0-a3d43097792f",
        "colab": {
          "base_uri": "https://localhost:8080/"
        }
      },
      "outputs": [
        {
          "output_type": "execute_result",
          "data": {
            "text/plain": [
              "array([None, 'nota_fiscal', 'recibo', '3', 'despesa_exterior'],\n",
              "      dtype=object)"
            ]
          },
          "metadata": {},
          "execution_count": 31
        }
      ],
      "source": [
        "df_reimbursements.indTipoDocumento.unique()"
      ]
    },
    {
      "cell_type": "markdown",
      "id": "644512e6",
      "metadata": {
        "id": "644512e6"
      },
      "source": [
        "### Aula 07: Dados da Receita Federal"
      ]
    },
    {
      "cell_type": "markdown",
      "id": "3e91ef9d",
      "metadata": {
        "id": "3e91ef9d"
      },
      "source": [
        "Referencias:\n",
        "\n",
        "- http://receita.economia.gov.br/sobre/acordos-e-convenios/compartilhamento-de-bases-de-dados-2013-decreto-no-8-789-2016/leiaute-das-bases/dados-da-base-cnpj\n",
        "- http://200.152.38.155/CNPJ/LAYOUT_DADOS_ABERTOS_CNPJ.pdf\n",
        "\n",
        "\n",
        "situation (Situação cadastral)\n",
        "\n",
        "    1 – NULA: o CNPJ torna-se inválido, seja por inconformidade de dados, fraudes ou outros motivos.\n",
        "    2 – ATIVA: significa que a empresa está em dia com todas as suas pendências, não há nenhuma irregularidade e os pagamentos estão em dia;\n",
        "    3 – SUSPENSA: a empresa tem pendências com a Receita Federal, não cumpriu com suas obrigações ou pagamentos ou está sendo investigada por possível fraude;\n",
        "    4 – INAPTA: a empresa está a dois anos ou mais com suspensão e não apresentou os devidos dados contábeis;\n",
        "    8 – BAIXADA: a empresa foi extinta, seja por solicitação dos sócios ou por ação da Receita;\n",
        "    \n",
        "    \n",
        "situation_date (Data da situação cadastral): DATA DO EVENTO DA SITUACAO CADASTRAL"
      ]
    },
    {
      "cell_type": "code",
      "execution_count": 32,
      "id": "8bd54633",
      "metadata": {
        "id": "8bd54633",
        "outputId": "fecaac46-434c-4b14-d46c-3283edb748b1",
        "colab": {
          "base_uri": "https://localhost:8080/",
          "height": 399
        }
      },
      "outputs": [
        {
          "output_type": "error",
          "ename": "FileNotFoundError",
          "evalue": "ignored",
          "traceback": [
            "\u001b[0;31m---------------------------------------------------------------------------\u001b[0m",
            "\u001b[0;31mFileNotFoundError\u001b[0m                         Traceback (most recent call last)",
            "\u001b[0;32m<ipython-input-32-1ef72d89d1aa>\u001b[0m in \u001b[0;36m<cell line: 5>\u001b[0;34m()\u001b[0m\n\u001b[1;32m      3\u001b[0m }\n\u001b[1;32m      4\u001b[0m \u001b[0;34m\u001b[0m\u001b[0m\n\u001b[0;32m----> 5\u001b[0;31m df_empresas = pd.read_csv(\n\u001b[0m\u001b[1;32m      6\u001b[0m     \u001b[0;34m'2019-11-19-companies.csv.xz'\u001b[0m\u001b[0;34m,\u001b[0m \u001b[0;31m# .xz é um arquivo compactado\u001b[0m\u001b[0;34m\u001b[0m\u001b[0;34m\u001b[0m\u001b[0m\n\u001b[1;32m      7\u001b[0m     \u001b[0mcompression\u001b[0m\u001b[0;34m=\u001b[0m\u001b[0;34m'xz'\u001b[0m\u001b[0;34m,\u001b[0m\u001b[0;34m\u001b[0m\u001b[0;34m\u001b[0m\u001b[0m\n",
            "\u001b[0;32m/usr/local/lib/python3.10/dist-packages/pandas/util/_decorators.py\u001b[0m in \u001b[0;36mwrapper\u001b[0;34m(*args, **kwargs)\u001b[0m\n\u001b[1;32m    209\u001b[0m                 \u001b[0;32melse\u001b[0m\u001b[0;34m:\u001b[0m\u001b[0;34m\u001b[0m\u001b[0;34m\u001b[0m\u001b[0m\n\u001b[1;32m    210\u001b[0m                     \u001b[0mkwargs\u001b[0m\u001b[0;34m[\u001b[0m\u001b[0mnew_arg_name\u001b[0m\u001b[0;34m]\u001b[0m \u001b[0;34m=\u001b[0m \u001b[0mnew_arg_value\u001b[0m\u001b[0;34m\u001b[0m\u001b[0;34m\u001b[0m\u001b[0m\n\u001b[0;32m--> 211\u001b[0;31m             \u001b[0;32mreturn\u001b[0m \u001b[0mfunc\u001b[0m\u001b[0;34m(\u001b[0m\u001b[0;34m*\u001b[0m\u001b[0margs\u001b[0m\u001b[0;34m,\u001b[0m \u001b[0;34m**\u001b[0m\u001b[0mkwargs\u001b[0m\u001b[0;34m)\u001b[0m\u001b[0;34m\u001b[0m\u001b[0;34m\u001b[0m\u001b[0m\n\u001b[0m\u001b[1;32m    212\u001b[0m \u001b[0;34m\u001b[0m\u001b[0m\n\u001b[1;32m    213\u001b[0m         \u001b[0;32mreturn\u001b[0m \u001b[0mcast\u001b[0m\u001b[0;34m(\u001b[0m\u001b[0mF\u001b[0m\u001b[0;34m,\u001b[0m \u001b[0mwrapper\u001b[0m\u001b[0;34m)\u001b[0m\u001b[0;34m\u001b[0m\u001b[0;34m\u001b[0m\u001b[0m\n",
            "\u001b[0;32m/usr/local/lib/python3.10/dist-packages/pandas/util/_decorators.py\u001b[0m in \u001b[0;36mwrapper\u001b[0;34m(*args, **kwargs)\u001b[0m\n\u001b[1;32m    329\u001b[0m                     \u001b[0mstacklevel\u001b[0m\u001b[0;34m=\u001b[0m\u001b[0mfind_stack_level\u001b[0m\u001b[0;34m(\u001b[0m\u001b[0;34m)\u001b[0m\u001b[0;34m,\u001b[0m\u001b[0;34m\u001b[0m\u001b[0;34m\u001b[0m\u001b[0m\n\u001b[1;32m    330\u001b[0m                 )\n\u001b[0;32m--> 331\u001b[0;31m             \u001b[0;32mreturn\u001b[0m \u001b[0mfunc\u001b[0m\u001b[0;34m(\u001b[0m\u001b[0;34m*\u001b[0m\u001b[0margs\u001b[0m\u001b[0;34m,\u001b[0m \u001b[0;34m**\u001b[0m\u001b[0mkwargs\u001b[0m\u001b[0;34m)\u001b[0m\u001b[0;34m\u001b[0m\u001b[0;34m\u001b[0m\u001b[0m\n\u001b[0m\u001b[1;32m    332\u001b[0m \u001b[0;34m\u001b[0m\u001b[0m\n\u001b[1;32m    333\u001b[0m         \u001b[0;31m# error: \"Callable[[VarArg(Any), KwArg(Any)], Any]\" has no\u001b[0m\u001b[0;34m\u001b[0m\u001b[0;34m\u001b[0m\u001b[0m\n",
            "\u001b[0;32m/usr/local/lib/python3.10/dist-packages/pandas/io/parsers/readers.py\u001b[0m in \u001b[0;36mread_csv\u001b[0;34m(filepath_or_buffer, sep, delimiter, header, names, index_col, usecols, squeeze, prefix, mangle_dupe_cols, dtype, engine, converters, true_values, false_values, skipinitialspace, skiprows, skipfooter, nrows, na_values, keep_default_na, na_filter, verbose, skip_blank_lines, parse_dates, infer_datetime_format, keep_date_col, date_parser, dayfirst, cache_dates, iterator, chunksize, compression, thousands, decimal, lineterminator, quotechar, quoting, doublequote, escapechar, comment, encoding, encoding_errors, dialect, error_bad_lines, warn_bad_lines, on_bad_lines, delim_whitespace, low_memory, memory_map, float_precision, storage_options)\u001b[0m\n\u001b[1;32m    948\u001b[0m     \u001b[0mkwds\u001b[0m\u001b[0;34m.\u001b[0m\u001b[0mupdate\u001b[0m\u001b[0;34m(\u001b[0m\u001b[0mkwds_defaults\u001b[0m\u001b[0;34m)\u001b[0m\u001b[0;34m\u001b[0m\u001b[0;34m\u001b[0m\u001b[0m\n\u001b[1;32m    949\u001b[0m \u001b[0;34m\u001b[0m\u001b[0m\n\u001b[0;32m--> 950\u001b[0;31m     \u001b[0;32mreturn\u001b[0m \u001b[0m_read\u001b[0m\u001b[0;34m(\u001b[0m\u001b[0mfilepath_or_buffer\u001b[0m\u001b[0;34m,\u001b[0m \u001b[0mkwds\u001b[0m\u001b[0;34m)\u001b[0m\u001b[0;34m\u001b[0m\u001b[0;34m\u001b[0m\u001b[0m\n\u001b[0m\u001b[1;32m    951\u001b[0m \u001b[0;34m\u001b[0m\u001b[0m\n\u001b[1;32m    952\u001b[0m \u001b[0;34m\u001b[0m\u001b[0m\n",
            "\u001b[0;32m/usr/local/lib/python3.10/dist-packages/pandas/io/parsers/readers.py\u001b[0m in \u001b[0;36m_read\u001b[0;34m(filepath_or_buffer, kwds)\u001b[0m\n\u001b[1;32m    603\u001b[0m \u001b[0;34m\u001b[0m\u001b[0m\n\u001b[1;32m    604\u001b[0m     \u001b[0;31m# Create the parser.\u001b[0m\u001b[0;34m\u001b[0m\u001b[0;34m\u001b[0m\u001b[0m\n\u001b[0;32m--> 605\u001b[0;31m     \u001b[0mparser\u001b[0m \u001b[0;34m=\u001b[0m \u001b[0mTextFileReader\u001b[0m\u001b[0;34m(\u001b[0m\u001b[0mfilepath_or_buffer\u001b[0m\u001b[0;34m,\u001b[0m \u001b[0;34m**\u001b[0m\u001b[0mkwds\u001b[0m\u001b[0;34m)\u001b[0m\u001b[0;34m\u001b[0m\u001b[0;34m\u001b[0m\u001b[0m\n\u001b[0m\u001b[1;32m    606\u001b[0m \u001b[0;34m\u001b[0m\u001b[0m\n\u001b[1;32m    607\u001b[0m     \u001b[0;32mif\u001b[0m \u001b[0mchunksize\u001b[0m \u001b[0;32mor\u001b[0m \u001b[0miterator\u001b[0m\u001b[0;34m:\u001b[0m\u001b[0;34m\u001b[0m\u001b[0;34m\u001b[0m\u001b[0m\n",
            "\u001b[0;32m/usr/local/lib/python3.10/dist-packages/pandas/io/parsers/readers.py\u001b[0m in \u001b[0;36m__init__\u001b[0;34m(self, f, engine, **kwds)\u001b[0m\n\u001b[1;32m   1440\u001b[0m \u001b[0;34m\u001b[0m\u001b[0m\n\u001b[1;32m   1441\u001b[0m         \u001b[0mself\u001b[0m\u001b[0;34m.\u001b[0m\u001b[0mhandles\u001b[0m\u001b[0;34m:\u001b[0m \u001b[0mIOHandles\u001b[0m \u001b[0;34m|\u001b[0m \u001b[0;32mNone\u001b[0m \u001b[0;34m=\u001b[0m \u001b[0;32mNone\u001b[0m\u001b[0;34m\u001b[0m\u001b[0;34m\u001b[0m\u001b[0m\n\u001b[0;32m-> 1442\u001b[0;31m         \u001b[0mself\u001b[0m\u001b[0;34m.\u001b[0m\u001b[0m_engine\u001b[0m \u001b[0;34m=\u001b[0m \u001b[0mself\u001b[0m\u001b[0;34m.\u001b[0m\u001b[0m_make_engine\u001b[0m\u001b[0;34m(\u001b[0m\u001b[0mf\u001b[0m\u001b[0;34m,\u001b[0m \u001b[0mself\u001b[0m\u001b[0;34m.\u001b[0m\u001b[0mengine\u001b[0m\u001b[0;34m)\u001b[0m\u001b[0;34m\u001b[0m\u001b[0;34m\u001b[0m\u001b[0m\n\u001b[0m\u001b[1;32m   1443\u001b[0m \u001b[0;34m\u001b[0m\u001b[0m\n\u001b[1;32m   1444\u001b[0m     \u001b[0;32mdef\u001b[0m \u001b[0mclose\u001b[0m\u001b[0;34m(\u001b[0m\u001b[0mself\u001b[0m\u001b[0;34m)\u001b[0m \u001b[0;34m->\u001b[0m \u001b[0;32mNone\u001b[0m\u001b[0;34m:\u001b[0m\u001b[0;34m\u001b[0m\u001b[0;34m\u001b[0m\u001b[0m\n",
            "\u001b[0;32m/usr/local/lib/python3.10/dist-packages/pandas/io/parsers/readers.py\u001b[0m in \u001b[0;36m_make_engine\u001b[0;34m(self, f, engine)\u001b[0m\n\u001b[1;32m   1733\u001b[0m                 \u001b[0;32mif\u001b[0m \u001b[0;34m\"b\"\u001b[0m \u001b[0;32mnot\u001b[0m \u001b[0;32min\u001b[0m \u001b[0mmode\u001b[0m\u001b[0;34m:\u001b[0m\u001b[0;34m\u001b[0m\u001b[0;34m\u001b[0m\u001b[0m\n\u001b[1;32m   1734\u001b[0m                     \u001b[0mmode\u001b[0m \u001b[0;34m+=\u001b[0m \u001b[0;34m\"b\"\u001b[0m\u001b[0;34m\u001b[0m\u001b[0;34m\u001b[0m\u001b[0m\n\u001b[0;32m-> 1735\u001b[0;31m             self.handles = get_handle(\n\u001b[0m\u001b[1;32m   1736\u001b[0m                 \u001b[0mf\u001b[0m\u001b[0;34m,\u001b[0m\u001b[0;34m\u001b[0m\u001b[0;34m\u001b[0m\u001b[0m\n\u001b[1;32m   1737\u001b[0m                 \u001b[0mmode\u001b[0m\u001b[0;34m,\u001b[0m\u001b[0;34m\u001b[0m\u001b[0;34m\u001b[0m\u001b[0m\n",
            "\u001b[0;32m/usr/local/lib/python3.10/dist-packages/pandas/io/common.py\u001b[0m in \u001b[0;36mget_handle\u001b[0;34m(path_or_buf, mode, encoding, compression, memory_map, is_text, errors, storage_options)\u001b[0m\n\u001b[1;32m    826\u001b[0m             \u001b[0;31m# BaseBuffer]\"; expected \"Optional[Union[Union[str, bytes, PathLike[str],\u001b[0m\u001b[0;34m\u001b[0m\u001b[0;34m\u001b[0m\u001b[0m\n\u001b[1;32m    827\u001b[0m             \u001b[0;31m# PathLike[bytes]], IO[bytes]]]\"\u001b[0m\u001b[0;34m\u001b[0m\u001b[0;34m\u001b[0m\u001b[0m\n\u001b[0;32m--> 828\u001b[0;31m             \u001b[0mhandle\u001b[0m \u001b[0;34m=\u001b[0m \u001b[0mget_lzma_file\u001b[0m\u001b[0;34m(\u001b[0m\u001b[0;34m)\u001b[0m\u001b[0;34m(\u001b[0m\u001b[0mhandle\u001b[0m\u001b[0;34m,\u001b[0m \u001b[0mioargs\u001b[0m\u001b[0;34m.\u001b[0m\u001b[0mmode\u001b[0m\u001b[0;34m)\u001b[0m  \u001b[0;31m# type: ignore[arg-type]\u001b[0m\u001b[0;34m\u001b[0m\u001b[0;34m\u001b[0m\u001b[0m\n\u001b[0m\u001b[1;32m    829\u001b[0m \u001b[0;34m\u001b[0m\u001b[0m\n\u001b[1;32m    830\u001b[0m         \u001b[0;31m# Zstd Compression\u001b[0m\u001b[0;34m\u001b[0m\u001b[0;34m\u001b[0m\u001b[0m\n",
            "\u001b[0;32m/usr/lib/python3.10/lzma.py\u001b[0m in \u001b[0;36m__init__\u001b[0;34m(self, filename, mode, format, check, preset, filters)\u001b[0m\n\u001b[1;32m    118\u001b[0m             \u001b[0;32mif\u001b[0m \u001b[0;34m\"b\"\u001b[0m \u001b[0;32mnot\u001b[0m \u001b[0;32min\u001b[0m \u001b[0mmode\u001b[0m\u001b[0;34m:\u001b[0m\u001b[0;34m\u001b[0m\u001b[0;34m\u001b[0m\u001b[0m\n\u001b[1;32m    119\u001b[0m                 \u001b[0mmode\u001b[0m \u001b[0;34m+=\u001b[0m \u001b[0;34m\"b\"\u001b[0m\u001b[0;34m\u001b[0m\u001b[0;34m\u001b[0m\u001b[0m\n\u001b[0;32m--> 120\u001b[0;31m             \u001b[0mself\u001b[0m\u001b[0;34m.\u001b[0m\u001b[0m_fp\u001b[0m \u001b[0;34m=\u001b[0m \u001b[0mbuiltins\u001b[0m\u001b[0;34m.\u001b[0m\u001b[0mopen\u001b[0m\u001b[0;34m(\u001b[0m\u001b[0mfilename\u001b[0m\u001b[0;34m,\u001b[0m \u001b[0mmode\u001b[0m\u001b[0;34m)\u001b[0m\u001b[0;34m\u001b[0m\u001b[0;34m\u001b[0m\u001b[0m\n\u001b[0m\u001b[1;32m    121\u001b[0m             \u001b[0mself\u001b[0m\u001b[0;34m.\u001b[0m\u001b[0m_closefp\u001b[0m \u001b[0;34m=\u001b[0m \u001b[0;32mTrue\u001b[0m\u001b[0;34m\u001b[0m\u001b[0;34m\u001b[0m\u001b[0m\n\u001b[1;32m    122\u001b[0m             \u001b[0mself\u001b[0m\u001b[0;34m.\u001b[0m\u001b[0m_mode\u001b[0m \u001b[0;34m=\u001b[0m \u001b[0mmode_code\u001b[0m\u001b[0;34m\u001b[0m\u001b[0;34m\u001b[0m\u001b[0m\n",
            "\u001b[0;31mFileNotFoundError\u001b[0m: [Errno 2] No such file or directory: '2019-11-19-companies.csv.xz'"
          ]
        }
      ],
      "source": [
        "DTYPE = {\n",
        "    'cnpj': str,\n",
        "}\n",
        "\n",
        "df_empresas = pd.read_csv(\n",
        "    '2019-11-19-companies.csv.xz', # .xz é um arquivo compactado\n",
        "    compression='xz',\n",
        "    dtype=DTYPE,\n",
        ")\n",
        "df_empresas.head(1)"
      ]
    },
    {
      "cell_type": "code",
      "execution_count": null,
      "id": "b37a6a71",
      "metadata": {
        "id": "b37a6a71"
      },
      "outputs": [],
      "source": [
        "df_empresas['situation_date'] = pd.to_datetime(\n",
        "    df_empresas['situation_date'],\n",
        "    format=\"%Y-%m-%d\"\n",
        ")"
      ]
    },
    {
      "cell_type": "code",
      "execution_count": null,
      "id": "fe66149b",
      "metadata": {
        "id": "fe66149b"
      },
      "outputs": [],
      "source": [
        "df_empresas[\"cnpj\"] = df_empresas[\"cnpj\"].str.replace(r'\\D', '', regex=True)"
      ]
    },
    {
      "cell_type": "markdown",
      "id": "ce90ab8d",
      "metadata": {
        "id": "ce90ab8d"
      },
      "source": [
        "### Aula 8: Receita Federal e CEAP"
      ]
    },
    {
      "cell_type": "code",
      "execution_count": null,
      "id": "7b86ed96",
      "metadata": {
        "id": "7b86ed96"
      },
      "outputs": [],
      "source": [
        "df_final = df_reimbursements.merge(\n",
        "    df_empresas,\n",
        "    how='left',\n",
        "    left_on='txtCNPJCPF',\n",
        "    right_on='cnpj'\n",
        ")"
      ]
    },
    {
      "cell_type": "markdown",
      "id": "f4f63b07",
      "metadata": {
        "id": "f4f63b07"
      },
      "source": [
        "### Exportando o resultado"
      ]
    },
    {
      "cell_type": "code",
      "execution_count": null,
      "id": "8cd4db3d",
      "metadata": {
        "id": "8cd4db3d"
      },
      "outputs": [],
      "source": [
        "df_reimbursements.to_csv('reembolso-2019-completo.csv')"
      ]
    }
  ],
  "metadata": {
    "kernelspec": {
      "display_name": "Python 3 (ipykernel)",
      "language": "python",
      "name": "python3"
    },
    "language_info": {
      "codemirror_mode": {
        "name": "ipython",
        "version": 3
      },
      "file_extension": ".py",
      "mimetype": "text/x-python",
      "name": "python",
      "nbconvert_exporter": "python",
      "pygments_lexer": "ipython3",
      "version": "3.8.2"
    },
    "toc": {
      "base_numbering": 1,
      "nav_menu": {},
      "number_sections": true,
      "sideBar": true,
      "skip_h1_title": false,
      "title_cell": "Table of Contents",
      "title_sidebar": "Contents",
      "toc_cell": false,
      "toc_position": {
        "height": "calc(100% - 180px)",
        "left": "10px",
        "top": "150px",
        "width": "165px"
      },
      "toc_section_display": true,
      "toc_window_display": true
    },
    "colab": {
      "provenance": []
    }
  },
  "nbformat": 4,
  "nbformat_minor": 5
}