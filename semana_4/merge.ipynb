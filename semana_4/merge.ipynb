{
  "cells": [
    {
      "cell_type": "markdown",
      "id": "4914c7df",
      "metadata": {
        "id": "4914c7df"
      },
      "source": [
        "# Escola de Dados - Python para inovação cívica\n",
        "\n",
        "## Módulo 2: Análise exporatória de dados do Legislativo\n",
        "\n",
        "* [Aula 02: Acessando os dados da CEAP via API](#Aula-02:-Acessando-os-dados-da-CEAP-via-API)\n",
        "* [Aula 03: Lendo os dados com Pandas](#Aula-03:-Lendo-os-dados-com-Pandas)\n",
        "    * [Dicionário de dados](#Dicionário-de-Dados)\n",
        "* [Aula 04: Organizando e visualizando os dados](#Aula-04:-Organizando-e-visualizando-os-dados)\n",
        "    * [Preenchendo valores nulos](#Preenchendo-valores-nulos)\n",
        "    * [Informando tipos na leitura dos dados](#Informando-tipos-na-leitura-dos-dados)\n",
        "    * [as type](#astype)\n",
        "    * [to_datetime](#to_datetime)\n",
        "    * [completando, substituindo e reformatando](#completando,-substituindo-e-reformatando)\n",
        "* [Aula 07: Dados da Receita Federal](#Aula-07:-Dados-da-Receita-Federal)\n",
        "* [Aula 08: Receita Federal e CEAP](#Aula-8:-Receita-Federal-e-CEAP)"
      ]
    },
    {
      "cell_type": "markdown",
      "id": "eec2c925",
      "metadata": {
        "id": "eec2c925"
      },
      "source": [
        "### Aula 02: Acessando os dados da CEAP via API"
      ]
    },
    {
      "cell_type": "markdown",
      "id": "8b0ee316",
      "metadata": {
        "id": "8b0ee316"
      },
      "source": [
        "Para baixar os arquivos das despesas pela Cota para Exercício da Atividade Parlamentar, podemos utilizar a API da Câmara Legislativa. Os arquivos de cada ano estão disponíveis via URLs no formato `http://www.camara.leg.br/cotas/Ano-{ano}.{formato}[.zip]`.\n",
        "\n",
        "Você pode encontrar mais detalhes na [documentação dos dados sobre Despesas pela Cota para Exercício da Atividade Parlamentar](https://dadosabertos.camara.leg.br/swagger/api.html#staticfile).\n",
        "\n",
        "Há diversas formas de fazer o download dos arquivos usando Python. Para esse tutorial, vamos usar o pacote `requests`."
      ]
    },
    {
      "cell_type": "code",
      "execution_count": 1,
      "id": "55c3f455",
      "metadata": {
        "id": "55c3f455"
      },
      "outputs": [],
      "source": [
        "url = f\"http://www.camara.leg.br/cotas/Ano-2019.csv.zip\""
      ]
    },
    {
      "cell_type": "code",
      "execution_count": 2,
      "id": "e335c8c7",
      "metadata": {
        "id": "e335c8c7"
      },
      "outputs": [],
      "source": [
        "import requests\n",
        "\n",
        "# fazendo o download do conteúdo do arquivo\n",
        "r = requests.get(url)"
      ]
    },
    {
      "cell_type": "code",
      "execution_count": 3,
      "id": "a80fbd1c",
      "metadata": {
        "id": "a80fbd1c"
      },
      "outputs": [],
      "source": [
        "# abrindo um arquivo no seu computador\n",
        "file = open(f\"Ano-2019.csv.zip\", \"wb\")\n",
        "\n",
        "# escrever o conteúdo\n",
        "file.write(r.content)\n",
        "file.close()"
      ]
    },
    {
      "cell_type": "code",
      "execution_count": 4,
      "id": "4407d92a",
      "metadata": {
        "id": "4407d92a"
      },
      "outputs": [],
      "source": [
        "# outra forma de criar arquivos, e escrever conteúdo\n",
        "\n",
        "# with open(f\"Ano-{year}.csv.zip\", \"wb\") as code:\n",
        "#    code.write(r.content)"
      ]
    },
    {
      "cell_type": "markdown",
      "id": "4c1d34dc",
      "metadata": {
        "id": "4c1d34dc"
      },
      "source": [
        "Como o arquivo baixado pela API é um arquivo zip, vamos precisar descompatar. Vamos usar o `zipfile`, um módulo que nos dá ferramentas para diversas manipulações de arquivos zipados."
      ]
    },
    {
      "cell_type": "code",
      "execution_count": 5,
      "id": "db445c34",
      "metadata": {
        "id": "db445c34"
      },
      "outputs": [],
      "source": [
        "from zipfile import ZipFile"
      ]
    },
    {
      "cell_type": "code",
      "execution_count": 6,
      "id": "a75fb247",
      "metadata": {
        "id": "a75fb247"
      },
      "outputs": [],
      "source": [
        "zip_file = ZipFile(f\"Ano-2019.csv.zip\", 'r')"
      ]
    },
    {
      "cell_type": "code",
      "execution_count": 7,
      "id": "ba5a3fe0",
      "metadata": {
        "colab": {
          "base_uri": "https://localhost:8080/"
        },
        "id": "ba5a3fe0",
        "outputId": "21b61c0b-e14b-4027-f11a-6ea3ead58603"
      },
      "outputs": [
        {
          "output_type": "execute_result",
          "data": {
            "text/plain": [
              "['Ano-2019.csv']"
            ]
          },
          "metadata": {},
          "execution_count": 7
        }
      ],
      "source": [
        "zip_file.namelist()"
      ]
    },
    {
      "cell_type": "code",
      "execution_count": 8,
      "id": "835aaa1a",
      "metadata": {
        "colab": {
          "base_uri": "https://localhost:8080/",
          "height": 36
        },
        "id": "835aaa1a",
        "outputId": "79d25c3e-83c1-4ba4-f8bd-3f432041b6b9"
      },
      "outputs": [
        {
          "output_type": "execute_result",
          "data": {
            "text/plain": [
              "'reembolso-2019/Ano-2019.csv'"
            ],
            "application/vnd.google.colaboratory.intrinsic+json": {
              "type": "string"
            }
          },
          "metadata": {},
          "execution_count": 8
        }
      ],
      "source": [
        "zip_file.extract(member=f\"Ano-2019.csv\", path=f\"reembolso-2019\")"
      ]
    },
    {
      "cell_type": "code",
      "execution_count": null,
      "id": "aea63be7",
      "metadata": {
        "id": "aea63be7"
      },
      "outputs": [],
      "source": [
        "# caso a gente queira extrair todo o conteúdo do arquivo zip\n",
        "\n",
        "# zip_file.extractall(path=f\"reimbursements-{year}\")"
      ]
    },
    {
      "cell_type": "code",
      "execution_count": 9,
      "id": "3a113e58",
      "metadata": {
        "id": "3a113e58"
      },
      "outputs": [],
      "source": [
        "zip_file.close()"
      ]
    },
    {
      "cell_type": "markdown",
      "id": "e7244afa",
      "metadata": {
        "id": "e7244afa"
      },
      "source": [
        "### Aula 03: Lendo os dados com Pandas"
      ]
    },
    {
      "cell_type": "code",
      "execution_count": 10,
      "id": "55880b49",
      "metadata": {
        "id": "55880b49",
        "scrolled": true
      },
      "outputs": [],
      "source": [
        "import pandas as pd"
      ]
    },
    {
      "cell_type": "code",
      "execution_count": null,
      "id": "88ab1cb1",
      "metadata": {
        "id": "88ab1cb1",
        "scrolled": false
      },
      "outputs": [],
      "source": [
        "pd.read_csv(\"reembolso-2019/Ano-2019.csv\")"
      ]
    },
    {
      "cell_type": "markdown",
      "id": "135892df",
      "metadata": {
        "id": "135892df"
      },
      "source": [
        "Opa! Erro na leitura do nosso arquivo. Quando encontramos esse erro na leitura de um arquivo, existe algumas possíveis causas mais comuns, uma delas é que o caracter que separa as colunas pode não ser o que o `read_csv` espera.\n",
        "\n",
        "Encontre na [documentação do read_csv](https://pandas.pydata.org/docs/reference/api/pandas.read_csv.html) qual o separador considerado padrão e depois confira no arquivo qual o separador que é utilizado.\n",
        "\n",
        "Agora, modifique a próxima célula com o que você acha que deve ser feito para que a leitura do csv aconteça sem erros."
      ]
    },
    {
      "cell_type": "code",
      "execution_count": 13,
      "id": "f4f74532",
      "metadata": {
        "id": "f4f74532",
        "scrolled": true
      },
      "outputs": [],
      "source": [
        "df_reimbursements = pd.read_csv(\"reembolso-2019/Ano-2019.csv\", sep=\";\")\n",
        "# sep == delimiter"
      ]
    },
    {
      "cell_type": "markdown",
      "id": "dfabdc7f",
      "metadata": {
        "id": "dfabdc7f"
      },
      "source": [
        "Vamos visualizar as 5 primeiras linhas do nosso Dataframe."
      ]
    },
    {
      "cell_type": "code",
      "execution_count": null,
      "id": "6972f3d7",
      "metadata": {
        "id": "6972f3d7"
      },
      "outputs": [],
      "source": [
        "df_reimbursements.head()"
      ]
    },
    {
      "cell_type": "markdown",
      "id": "06bae264",
      "metadata": {
        "id": "06bae264"
      },
      "source": [
        "## Como podemos fazer para visualizar as 10 primeiras linhas?\n",
        "\n",
        "Escreva e rode o código na célula abaixo."
      ]
    },
    {
      "cell_type": "code",
      "execution_count": null,
      "id": "6cdc90f5",
      "metadata": {
        "id": "6cdc90f5"
      },
      "outputs": [],
      "source": [
        "df_reimbursements.head(10)"
      ]
    },
    {
      "cell_type": "markdown",
      "id": "e34e98e9",
      "metadata": {
        "id": "e34e98e9"
      },
      "source": [
        "Podemos também recuperar uma amosta aleatória do nosso Dataframe. Para isso, usamos o [`sample`](https://pandas.pydata.org/pandas-docs/stable/reference/api/pandas.DataFrame.sample.html)."
      ]
    },
    {
      "cell_type": "code",
      "execution_count": null,
      "id": "ed4d422d",
      "metadata": {
        "id": "ed4d422d"
      },
      "outputs": [],
      "source": [
        "df_reimbursements.sample()"
      ]
    },
    {
      "cell_type": "markdown",
      "id": "04ac3026",
      "metadata": {
        "id": "04ac3026"
      },
      "source": [
        "## Como podemos fazer para visualizar 5 amostras aleatórias?"
      ]
    },
    {
      "cell_type": "code",
      "execution_count": null,
      "id": "fbde4877",
      "metadata": {
        "id": "fbde4877"
      },
      "outputs": [],
      "source": [
        "df_reimbursements.sample(5)"
      ]
    },
    {
      "cell_type": "markdown",
      "id": "be0725bb",
      "metadata": {
        "id": "be0725bb"
      },
      "source": [
        "#### Dicionário de Dados"
      ]
    },
    {
      "cell_type": "markdown",
      "id": "792b06d1",
      "metadata": {
        "id": "792b06d1"
      },
      "source": [
        "Um passo importante para dar antes de começar a análisar é entender os dados que estamos manipulando.\n",
        "\n",
        "*Sempre procure o significado dos campos, procure entender quais os tipos de dados preenchem aquele campo. São dados numéricos? São caracteres? Não palavras usadas para categorizar/classificar os dados?*"
      ]
    },
    {
      "cell_type": "markdown",
      "id": "18d86a62",
      "metadata": {
        "id": "18d86a62"
      },
      "source": [
        "| Elemento de Dado          | Nome do Dado                           | Definição do Dado                                                                                                                                                                                                                                                                                                                                                                                                                   |   |   |\n",
        "|---------------------------|----------------------------------------|-------------------------------------------------------------------------------------------------------------------------------------------------------------------------------------------------------------------------------------------------------------------------------------------------------------------------------------------------------------------------------------------------------------------------------------|---|---|\n",
        "| txNomeParlamentar         | Nome Parlamentar                       | Nome adotado pelo Parlamentar ao tomar posse do seu mandato. Compõe-se de dois elementos: um prenome e o nome; dois nomes; ou dois prenomes, salvo, a juízo do Presidente da Casa legislativa, que poderá alterar essa regra para que não ocorram confusões.                                                                                                                                                                        |   |   |\n",
        "| ideCadastro               | Identificador Único do Parlamentar     | Número que identifica unicamente um deputado federal na CD.                                                                                                                                                                                                                                                                                                                                                                         |   |   |\n",
        "| nuCarteiraParlamentar     | Número da  Carteira Parlamentar        | Documento usado para identificar um deputado federal na CD. Pode alterar a cada Legislatura nova.                                                                                                                                                                                                                                                                                                                                   |   |   |\n",
        "| nuLegislatura             | Número da  Legislatura                 | No contexto da cota CEAP, representa o ano base de início da legislatura e é utilizado para compor a Carteira Parlamentar, pois esta poderá ser alterada à medida que se muda de Legislatura.                                                                                                                                     |   |   |\n",
        "| sgUF                      | Sigla da UF                            | No contexto da cota CEAP, representa a unidade da federação pela qual o deputado foi eleito e é utilizada para definir o valor da cota a que o deputado tem.                                                                                                                                                                                                                                                                        |   |   |\n",
        "| sgPartido                 | Sigla do Partido                       | O seu conteúdo representa a sigla de um partido. Tem personalidade jurídica de direito privado e goza de autonomia e liberdade no que diz respeito à criação, organização e funcionamento, observados os princípios e preceitos constitucionais. |   |   |\n",
        "| codLegislatura            | Código da Legislatura                  | No contexto da cota CEAP, o seu conteúdo representa o código identificador da Legislatura, que um número ordinal sequencial, alterado de um em um, a cada início de uma nova Legislatura (por exemplo, a Legislatura que iniciou em 2011 é a 54ª Legislatura).                                                                    |   |   |\n",
        "| numSubCota                | Número da Subcota                      | No contexto da Cota CEAP, o conteúdo deste dado representa o código do Tipo de Despesa referente à despesa realizada pelo deputado e comprovada por meio da emissão de um documento fiscal, a qual é debitada na cota do deputado.                                                                                                                                                                                                  |   |   |\n",
        "| txtDescricao              | Descrição da Subcota                   | O seu conteúdo é a descrição do Tipo de Despesa relativo à despesa em questão.                                                                                                                                                                                                                                                                                                                                                      |   |   |\n",
        "| numEspecificacaoSubCota   | Número da Especificação da Subcota     | No contexto da Cota CEAP, há despesas cujo Tipo de Despesa necessita ter uma especificação mais detalhada (por exemplo, “Combustível”). O conteúdo deste dado representa o código desta especificação mais detalhada.                                                                                                                                                                                                               |   |   |\n",
        "| txtDescricaoEspecificacao | Descrição da Especificação da Subcota  | Representa a descrição  especificação mais detalhada de um referido Tipo de Despesa.                                                                                                                                                                                                                                                                                                                                                |   |   |\n",
        "| txtFornecedor             | Fornecedor                             | O conteúdo deste dado representa o nome do fornecedor do produto ou serviço presente no documento fiscal                                                                                                                                                                                                                                                                                                                            |   |   |\n",
        "| txtCNPJCPF                | CNPJ/CPF                               | O conteúdo deste dado representa o CNPJ ou o CPF do emitente do documento fiscal, quando se tratar do uso da cota em razão do reembolso despesas comprovadas pela emissão de documentos fiscais.                                                                                                                                                                                                                                    |   |   |\n",
        "| txtNumero                 | Número do Documento                    | O conteúdo deste dado representa o número de face do documento fiscal emitido ou o número do documento que deu causa à despesa debitada na cota do deputado.                                                                                                                                                                                                                                                                        |   |   |\n",
        "| indTipoDocumento          | Indicativo de Tipo de Documento Fiscal | Este dado representa o tipo de documento do fiscal – 0 (Zero), para Nota Fiscal; 1 (um), para Recibo; e 2, para Despesa no Exterior.                                                                                                                                                                                                                                                                                                |   |   |\n",
        "| datEmissao                | Data de Emissão                        | O conteúdo deste dado é a data de emissão do documento fiscal ou a data do documento que tenha dado causa à despesa.                                                                                                                                                                                                                                                                                                                |   |   |\n",
        "| vlrDocumento              | Valor do Documento                     | O seu conteúdo é o valor de face do documento fiscal ou o valor do documento que deu causa à despesa. Quando se tratar de bilhete aéreo, esse valor poderá ser negativo, significando que o referido bilhete é um bilhete de compensação, pois compensa um outro bilhete emitido e não utilizado pelo deputado (idem para o dado vlrLiquido abaixo).                                                                                |   |   |\n",
        "| vlrGlosa                  | Valor da Glosa                         | O seu conteúdo representa o valor da glosa do documento fiscal que incidirá sobre o Valor do Documento, ou o valor da glosa do documento que deu causa à despesa.                                                                                                                                                                                                                                                                   |   |   |\n",
        "| vlrLiquido                | Valor Líquido                          | O seu conteúdo representa o valor líquido do documento fiscal ou do documento que deu causa à despesa e será calculado pela diferença entre o Valor do Documento e o Valor da Glosa. É este valor que será debitado da cota do deputado. Caso o débito seja do Tipo Telefonia e o valor seja igual a zero, significa que a despesa foi franqueada.                                                                                  |   |   |\n",
        "| numMes                    | Mês                                    | O seu conteúdo representa o Mês da competência financeira do documento fiscal ou do documento que deu causa à despesa. É utilizado, junto com o ano, para determinar em que período o débito gerará efeito financeiro sobre a cota.                                                                                                                                                                                                 |   |   |\n",
        "| numAno                    | Ano                                    | O seu conteúdo representa o Ano da competência financeira do documento fiscal ou do documento que deu causa à despesa. É utilizado, junto com o mês, para determinar em que período o débito gerará efeito financeiro sobre a cota.                                                                                                                                                                                                 |   |   |\n",
        "| numParcela                | Número da Parcela                      | O seu conteúdo representa o número da parcela do documento fiscal. Ocorre quando o documento tem de ser reembolsado de forma parcelada.                                                                                                                                                                                                                                                                                             |   |   |\n",
        "| txtPassageiro             | Passageiro                             | O conteúdo deste dado representa o nome do passageiro, quando o documento que deu causa à despesa se tratar de emissão de bilhete aéreo.                                                                                                                                                                                                                                                                                            |   |   |\n",
        "| txtTrecho                 | Trecho                                 | O conteúdo deste dado representa o trecho da viagem, quando o documento que deu causa à despesa se tratar de emissão de bilhete aéreo.                                                                                                                                                                                                                                                                                              |   |   |\n",
        "| numLote                   | Número do Lote                         | No contexto da Cota CEAP, o Número do Lote representa uma capa de lote que agrupa os documentos que serão entregues à Câmara para serem ressarcidos. Este dado, juntamente com o Número do Ressarcimento, auxilia a localização do documento no Arquivo da Casa.                                                                                                                                                                    |   |   |\n",
        "| numRessarcimento          | Número do Ressarcimento                | No contexto da Cota CEAP, o Número do Ressarcimento indica o ressarcimento do qual o documento fez parte por ocasião do processamento do seu reembolso. Este dado, juntamente com o Valor da Restituição, auxilia a localização do documento no Arquivo da Casa.                                                                                                                                                                 |   |   |\n",
        "|  vlrRestituicao           |  Valor da Restituição                  |  O seu conteúdo representa o valor restituído do documento fiscal que incidirá sobre o Valor do Documento.                                                                                                                                                                                                                                                                                                                          |   |   |\n",
        "| nuDeputadoId              | Identificador do Solicitante           | Número que identifica um Parlamentar ou Liderança na Transparência da Cota para Exercício da Atividade Parlamentar.                                                                                                                                                                                                                                                                                                                 |   |   |\n",
        "\n",
        "\n",
        "Legislatura: Período de quatro anos coincidente com o mandato parlamentar dos Deputados Federais.\n",
        "\n",
        "Definição de partido: é uma organização formada por pessoas com interesse ou ideologia comuns, que se associam com o fim de assumir o poder para implantar um programa de governo.\n",
        "\n",
        "*Fonte*: [EXPLICAÇÕES SOBRE O FORMATO DOS ARQUIVOS XML](https://www2.camara.leg.br/transparencia/cota-para-exercicio-da-atividade-parlamentar/explicacoes-sobre-o-formato-dos-arquivos-xml)"
      ]
    },
    {
      "cell_type": "markdown",
      "id": "571f663b",
      "metadata": {
        "id": "571f663b"
      },
      "source": [
        "### Aula 04: Organizando e visualizando os dados"
      ]
    },
    {
      "cell_type": "markdown",
      "id": "ec281944",
      "metadata": {
        "id": "ec281944"
      },
      "source": [
        "Vamos conhecer mais algumas operações que podem nos ajudar a visualizar e entender nossos dados."
      ]
    },
    {
      "cell_type": "code",
      "source": [
        "DTYPE = {\n",
        "    \"txNomeParlamentar\": str,\n",
        "    \"ideCadastro\": str,\n",
        "    \"nuCarteiraParlamentar\": str,\n",
        "    \"nuLegislatura\": str,\n",
        "    \"sgUF\": str,\n",
        "    \"sgPartido\": str,\n",
        "    \"codLegislatura\": str,\n",
        "    \"numSubCota\": str,\n",
        "    \"txtDescricao\": str,\n",
        "    \"numEspecificacaoSubCota\": str,\n",
        "    \"txtDescricaoEspecificacao\": str,\n",
        "    \"txtFornecedor\": str,\n",
        "    \"txtCNPJCPF\": str,\n",
        "    \"txtNumero\": str,\n",
        "    \"indTipoDocumento\": str,\n",
        "    \"datEmissao\": str,\n",
        "    \"vlrDocumento\": float,\n",
        "    \"vlrGlosa\": str,\n",
        "    \"vlrLiquido\": float,\n",
        "    \"numMes\": str,\n",
        "    \"numAno\": str,\n",
        "    \"numParcela\": str,\n",
        "    \"txtPassageiro\": str,\n",
        "    \"txtTrecho\": str,\n",
        "    \"numLote\": str,\n",
        "    \"numRessarcimento\": str,\n",
        "    \"nuDeputadoId\": str,\n",
        "    \"ideDocumento\": str,\n",
        "}\n",
        "\n",
        "df_reembolso = pd.read_csv(\n",
        "    \"reembolso-2019/Ano-2019.csv\", delimiter=\";\", dtype=DTYPE, low_memory=False\n",
        ")"
      ],
      "metadata": {
        "id": "rBNkEoQTSTCI"
      },
      "id": "rBNkEoQTSTCI",
      "execution_count": 40,
      "outputs": []
    },
    {
      "cell_type": "code",
      "execution_count": null,
      "id": "012f95e4",
      "metadata": {
        "id": "012f95e4"
      },
      "outputs": [],
      "source": [
        "df_reimbursements.tail()"
      ]
    },
    {
      "cell_type": "code",
      "execution_count": null,
      "id": "b353d004",
      "metadata": {
        "id": "b353d004",
        "outputId": "c0cad608-b36c-408d-e10b-cd2e51e8b0c2",
        "colab": {
          "base_uri": "https://localhost:8080/"
        }
      },
      "outputs": [
        {
          "output_type": "execute_result",
          "data": {
            "text/plain": [
              "(289453, 32)"
            ]
          },
          "metadata": {},
          "execution_count": 17
        }
      ],
      "source": [
        "df_reimbursements.shape"
      ]
    },
    {
      "cell_type": "code",
      "execution_count": 18,
      "id": "7a9dfa57",
      "metadata": {
        "id": "7a9dfa57",
        "outputId": "1504152e-cef8-40c7-eb00-d58a7f7362dc",
        "colab": {
          "base_uri": "https://localhost:8080/"
        }
      },
      "outputs": [
        {
          "output_type": "stream",
          "name": "stdout",
          "text": [
            "<class 'pandas.core.frame.DataFrame'>\n",
            "RangeIndex: 289453 entries, 0 to 289452\n",
            "Data columns (total 32 columns):\n",
            " #   Column                     Non-Null Count   Dtype  \n",
            "---  ------                     --------------   -----  \n",
            " 0   txNomeParlamentar          289453 non-null  object \n",
            " 1   cpf                        288449 non-null  float64\n",
            " 2   ideCadastro                288548 non-null  float64\n",
            " 3   nuCarteiraParlamentar      288548 non-null  float64\n",
            " 4   nuLegislatura              289453 non-null  int64  \n",
            " 5   sgUF                       288548 non-null  object \n",
            " 6   sgPartido                  288548 non-null  object \n",
            " 7   codLegislatura             289453 non-null  int64  \n",
            " 8   numSubCota                 289453 non-null  int64  \n",
            " 9   txtDescricao               289453 non-null  object \n",
            " 10  numEspecificacaoSubCota    289453 non-null  int64  \n",
            " 11  txtDescricaoEspecificacao  64765 non-null   object \n",
            " 12  txtFornecedor              289438 non-null  object \n",
            " 13  txtCNPJCPF                 285380 non-null  object \n",
            " 14  txtNumero                  289453 non-null  object \n",
            " 15  indTipoDocumento           289453 non-null  int64  \n",
            " 16  datEmissao                 283281 non-null  object \n",
            " 17  vlrDocumento               289453 non-null  float64\n",
            " 18  vlrGlosa                   289453 non-null  float64\n",
            " 19  vlrLiquido                 289453 non-null  float64\n",
            " 20  numMes                     289453 non-null  int64  \n",
            " 21  numAno                     289453 non-null  int64  \n",
            " 22  numParcela                 289453 non-null  int64  \n",
            " 23  txtPassageiro              86363 non-null   object \n",
            " 24  txtTrecho                  85655 non-null   object \n",
            " 25  numLote                    289453 non-null  int64  \n",
            " 26  numRessarcimento           111948 non-null  float64\n",
            " 27  datPagamentoRestituicao    222 non-null     object \n",
            " 28  vlrRestituicao             257 non-null     float64\n",
            " 29  nuDeputadoId               289453 non-null  int64  \n",
            " 30  ideDocumento               289453 non-null  int64  \n",
            " 31  urlDocumento               167781 non-null  object \n",
            "dtypes: float64(8), int64(11), object(13)\n",
            "memory usage: 70.7+ MB\n"
          ]
        }
      ],
      "source": [
        "df_reimbursements.info()"
      ]
    },
    {
      "cell_type": "markdown",
      "source": [
        "astype"
      ],
      "metadata": {
        "id": "XJuE5YkES2nJ"
      },
      "id": "XJuE5YkES2nJ"
    },
    {
      "cell_type": "code",
      "source": [
        "\n",
        "# df_reembolso[\"ideCadastro\"] = df_reembolso[\"ideCadastro\"].astype('string')"
      ],
      "metadata": {
        "id": "Hu7mA_wuS0Hg"
      },
      "id": "Hu7mA_wuS0Hg",
      "execution_count": null,
      "outputs": []
    },
    {
      "cell_type": "code",
      "execution_count": 19,
      "id": "33def82f",
      "metadata": {
        "id": "33def82f",
        "outputId": "8747e5be-8659-4afd-d726-d8a96f2a2d34",
        "colab": {
          "base_uri": "https://localhost:8080/"
        }
      },
      "outputs": [
        {
          "output_type": "execute_result",
          "data": {
            "text/plain": [
              "Index(['txNomeParlamentar', 'cpf', 'ideCadastro', 'nuCarteiraParlamentar',\n",
              "       'nuLegislatura', 'sgUF', 'sgPartido', 'codLegislatura', 'numSubCota',\n",
              "       'txtDescricao', 'numEspecificacaoSubCota', 'txtDescricaoEspecificacao',\n",
              "       'txtFornecedor', 'txtCNPJCPF', 'txtNumero', 'indTipoDocumento',\n",
              "       'datEmissao', 'vlrDocumento', 'vlrGlosa', 'vlrLiquido', 'numMes',\n",
              "       'numAno', 'numParcela', 'txtPassageiro', 'txtTrecho', 'numLote',\n",
              "       'numRessarcimento', 'datPagamentoRestituicao', 'vlrRestituicao',\n",
              "       'nuDeputadoId', 'ideDocumento', 'urlDocumento'],\n",
              "      dtype='object')"
            ]
          },
          "metadata": {},
          "execution_count": 19
        }
      ],
      "source": [
        "df_reimbursements.columns"
      ]
    },
    {
      "cell_type": "markdown",
      "id": "6f9c817f",
      "metadata": {
        "id": "6f9c817f"
      },
      "source": [
        "#### Preenchendo valores nulos"
      ]
    },
    {
      "cell_type": "code",
      "source": [
        "# TESTE MEU : PREENCHER APENAS CAMPOS NÚLOS DE UMA DETERMINADA COLUNA\n",
        "df_reembolso[\"vlrRestituicao\"] = df_reembolso[\"vlrRestituicao\"].fillna(\"Indisponível\")\n",
        "df_reembolso.head()"
      ],
      "metadata": {
        "id": "WV51npN-S82g"
      },
      "id": "WV51npN-S82g",
      "execution_count": null,
      "outputs": []
    },
    {
      "cell_type": "code",
      "execution_count": null,
      "id": "08d71122",
      "metadata": {
        "id": "08d71122"
      },
      "outputs": [],
      "source": [
        "df_reimbursements.fillna(value=\"Não se aplica\").head()"
      ]
    },
    {
      "cell_type": "code",
      "source": [
        "# Caso deseje aplicar a sugestão de transformação, execute:\n",
        "# df_reembolso = df_reembolso.fillna(value=\"Não se aplica\")"
      ],
      "metadata": {
        "id": "YIXBFNNnTFDp"
      },
      "id": "YIXBFNNnTFDp",
      "execution_count": null,
      "outputs": []
    },
    {
      "cell_type": "code",
      "execution_count": 44,
      "id": "bcb39dca",
      "metadata": {
        "id": "bcb39dca",
        "outputId": "3a2a68f1-3605-4c38-fa77-fb0990dba9e7",
        "colab": {
          "base_uri": "https://localhost:8080/",
          "height": 1000
        }
      },
      "outputs": [
        {
          "output_type": "execute_result",
          "data": {
            "text/plain": [
              "    txNomeParlamentar  cpf ideCadastro nuCarteiraParlamentar nuLegislatura  \\\n",
              "0          LID.GOV-CD  NaN         NaN                   NaN          2015   \n",
              "1          LID.GOV-CD  NaN         NaN                   NaN          2019   \n",
              "2          LID.GOV-CD  NaN         NaN                   NaN          2019   \n",
              "3          LID.GOV-CD  NaN         NaN                   NaN          2019   \n",
              "4          LID.GOV-CD  NaN         NaN                   NaN          2019   \n",
              "..                ...  ...         ...                   ...           ...   \n",
              "900            LIDMIN  NaN         NaN                   NaN          2019   \n",
              "901            LIDMIN  NaN         NaN                   NaN          2019   \n",
              "902            LIDMIN  NaN         NaN                   NaN          2019   \n",
              "903            LIDMIN  NaN         NaN                   NaN          2019   \n",
              "904            LIDMIN  NaN         NaN                   NaN          2019   \n",
              "\n",
              "    sgUF sgPartido codLegislatura numSubCota  \\\n",
              "0    NaN       NaN             55         13   \n",
              "1    NaN       NaN             56         13   \n",
              "2    NaN       NaN             56         13   \n",
              "3    NaN       NaN             56         13   \n",
              "4    NaN       NaN             56         13   \n",
              "..   ...       ...            ...        ...   \n",
              "900  NaN       NaN             56         13   \n",
              "901  NaN       NaN             56         13   \n",
              "902  NaN       NaN             56         13   \n",
              "903  NaN       NaN             56         13   \n",
              "904  NaN       NaN             56         13   \n",
              "\n",
              "                                   txtDescricao  ... numParcela txtPassageiro  \\\n",
              "0    FORNECIMENTO DE ALIMENTAÇÃO DO PARLAMENTAR  ...          0           NaN   \n",
              "1    FORNECIMENTO DE ALIMENTAÇÃO DO PARLAMENTAR  ...          0           NaN   \n",
              "2    FORNECIMENTO DE ALIMENTAÇÃO DO PARLAMENTAR  ...          0           NaN   \n",
              "3    FORNECIMENTO DE ALIMENTAÇÃO DO PARLAMENTAR  ...          0           NaN   \n",
              "4    FORNECIMENTO DE ALIMENTAÇÃO DO PARLAMENTAR  ...          0           NaN   \n",
              "..                                          ...  ...        ...           ...   \n",
              "900  FORNECIMENTO DE ALIMENTAÇÃO DO PARLAMENTAR  ...          0           NaN   \n",
              "901  FORNECIMENTO DE ALIMENTAÇÃO DO PARLAMENTAR  ...          0           NaN   \n",
              "902  FORNECIMENTO DE ALIMENTAÇÃO DO PARLAMENTAR  ...          0           NaN   \n",
              "903  FORNECIMENTO DE ALIMENTAÇÃO DO PARLAMENTAR  ...          0           NaN   \n",
              "904  FORNECIMENTO DE ALIMENTAÇÃO DO PARLAMENTAR  ...          0           NaN   \n",
              "\n",
              "    txtTrecho  numLote numRessarcimento datPagamentoRestituicao  \\\n",
              "0         NaN  1554246              NaN                     NaN   \n",
              "1         NaN  1570078              NaN                     NaN   \n",
              "2         NaN  1570503              NaN                     NaN   \n",
              "3         NaN  1579375              NaN                     NaN   \n",
              "4         NaN  1590980              NaN                     NaN   \n",
              "..        ...      ...              ...                     ...   \n",
              "900       NaN  1618189              NaN                     NaN   \n",
              "901       NaN  1658394              NaN                     NaN   \n",
              "902       NaN  1658383              NaN                     NaN   \n",
              "903       NaN  1658375              NaN                     NaN   \n",
              "904       NaN  1652795              NaN                     NaN   \n",
              "\n",
              "    vlrRestituicao  nuDeputadoId ideDocumento  \\\n",
              "0              NaN          2812      6738121   \n",
              "1              NaN          2812      6769606   \n",
              "2              NaN          2812      6771099   \n",
              "3              NaN          2812      6793690   \n",
              "4              NaN          2812      6821674   \n",
              "..             ...           ...          ...   \n",
              "900            NaN          2806      6884032   \n",
              "901            NaN          2806      6976028   \n",
              "902            NaN          2806      6975999   \n",
              "903            NaN          2806      6975967   \n",
              "904            NaN          2806      6962818   \n",
              "\n",
              "                                          urlDocumento  \n",
              "0    https://www.camara.leg.br/cota-parlamentar/not...  \n",
              "1    https://www.camara.leg.br/cota-parlamentar/not...  \n",
              "2    https://www.camara.leg.br/cota-parlamentar/not...  \n",
              "3    https://www.camara.leg.br/cota-parlamentar/not...  \n",
              "4    https://www.camara.leg.br/cota-parlamentar/not...  \n",
              "..                                                 ...  \n",
              "900  https://www.camara.leg.br/cota-parlamentar/not...  \n",
              "901  https://www.camara.leg.br/cota-parlamentar/doc...  \n",
              "902  https://www.camara.leg.br/cota-parlamentar/doc...  \n",
              "903  https://www.camara.leg.br/cota-parlamentar/doc...  \n",
              "904  https://www.camara.leg.br/cota-parlamentar/not...  \n",
              "\n",
              "[905 rows x 32 columns]"
            ],
            "text/html": [
              "\n",
              "\n",
              "  <div id=\"df-1a2e0618-5f15-4ecd-bc4a-180fa3ad3b9a\">\n",
              "    <div class=\"colab-df-container\">\n",
              "      <div>\n",
              "<style scoped>\n",
              "    .dataframe tbody tr th:only-of-type {\n",
              "        vertical-align: middle;\n",
              "    }\n",
              "\n",
              "    .dataframe tbody tr th {\n",
              "        vertical-align: top;\n",
              "    }\n",
              "\n",
              "    .dataframe thead th {\n",
              "        text-align: right;\n",
              "    }\n",
              "</style>\n",
              "<table border=\"1\" class=\"dataframe\">\n",
              "  <thead>\n",
              "    <tr style=\"text-align: right;\">\n",
              "      <th></th>\n",
              "      <th>txNomeParlamentar</th>\n",
              "      <th>cpf</th>\n",
              "      <th>ideCadastro</th>\n",
              "      <th>nuCarteiraParlamentar</th>\n",
              "      <th>nuLegislatura</th>\n",
              "      <th>sgUF</th>\n",
              "      <th>sgPartido</th>\n",
              "      <th>codLegislatura</th>\n",
              "      <th>numSubCota</th>\n",
              "      <th>txtDescricao</th>\n",
              "      <th>...</th>\n",
              "      <th>numParcela</th>\n",
              "      <th>txtPassageiro</th>\n",
              "      <th>txtTrecho</th>\n",
              "      <th>numLote</th>\n",
              "      <th>numRessarcimento</th>\n",
              "      <th>datPagamentoRestituicao</th>\n",
              "      <th>vlrRestituicao</th>\n",
              "      <th>nuDeputadoId</th>\n",
              "      <th>ideDocumento</th>\n",
              "      <th>urlDocumento</th>\n",
              "    </tr>\n",
              "  </thead>\n",
              "  <tbody>\n",
              "    <tr>\n",
              "      <th>0</th>\n",
              "      <td>LID.GOV-CD</td>\n",
              "      <td>NaN</td>\n",
              "      <td>NaN</td>\n",
              "      <td>NaN</td>\n",
              "      <td>2015</td>\n",
              "      <td>NaN</td>\n",
              "      <td>NaN</td>\n",
              "      <td>55</td>\n",
              "      <td>13</td>\n",
              "      <td>FORNECIMENTO DE ALIMENTAÇÃO DO PARLAMENTAR</td>\n",
              "      <td>...</td>\n",
              "      <td>0</td>\n",
              "      <td>NaN</td>\n",
              "      <td>NaN</td>\n",
              "      <td>1554246</td>\n",
              "      <td>NaN</td>\n",
              "      <td>NaN</td>\n",
              "      <td>NaN</td>\n",
              "      <td>2812</td>\n",
              "      <td>6738121</td>\n",
              "      <td>https://www.camara.leg.br/cota-parlamentar/not...</td>\n",
              "    </tr>\n",
              "    <tr>\n",
              "      <th>1</th>\n",
              "      <td>LID.GOV-CD</td>\n",
              "      <td>NaN</td>\n",
              "      <td>NaN</td>\n",
              "      <td>NaN</td>\n",
              "      <td>2019</td>\n",
              "      <td>NaN</td>\n",
              "      <td>NaN</td>\n",
              "      <td>56</td>\n",
              "      <td>13</td>\n",
              "      <td>FORNECIMENTO DE ALIMENTAÇÃO DO PARLAMENTAR</td>\n",
              "      <td>...</td>\n",
              "      <td>0</td>\n",
              "      <td>NaN</td>\n",
              "      <td>NaN</td>\n",
              "      <td>1570078</td>\n",
              "      <td>NaN</td>\n",
              "      <td>NaN</td>\n",
              "      <td>NaN</td>\n",
              "      <td>2812</td>\n",
              "      <td>6769606</td>\n",
              "      <td>https://www.camara.leg.br/cota-parlamentar/not...</td>\n",
              "    </tr>\n",
              "    <tr>\n",
              "      <th>2</th>\n",
              "      <td>LID.GOV-CD</td>\n",
              "      <td>NaN</td>\n",
              "      <td>NaN</td>\n",
              "      <td>NaN</td>\n",
              "      <td>2019</td>\n",
              "      <td>NaN</td>\n",
              "      <td>NaN</td>\n",
              "      <td>56</td>\n",
              "      <td>13</td>\n",
              "      <td>FORNECIMENTO DE ALIMENTAÇÃO DO PARLAMENTAR</td>\n",
              "      <td>...</td>\n",
              "      <td>0</td>\n",
              "      <td>NaN</td>\n",
              "      <td>NaN</td>\n",
              "      <td>1570503</td>\n",
              "      <td>NaN</td>\n",
              "      <td>NaN</td>\n",
              "      <td>NaN</td>\n",
              "      <td>2812</td>\n",
              "      <td>6771099</td>\n",
              "      <td>https://www.camara.leg.br/cota-parlamentar/not...</td>\n",
              "    </tr>\n",
              "    <tr>\n",
              "      <th>3</th>\n",
              "      <td>LID.GOV-CD</td>\n",
              "      <td>NaN</td>\n",
              "      <td>NaN</td>\n",
              "      <td>NaN</td>\n",
              "      <td>2019</td>\n",
              "      <td>NaN</td>\n",
              "      <td>NaN</td>\n",
              "      <td>56</td>\n",
              "      <td>13</td>\n",
              "      <td>FORNECIMENTO DE ALIMENTAÇÃO DO PARLAMENTAR</td>\n",
              "      <td>...</td>\n",
              "      <td>0</td>\n",
              "      <td>NaN</td>\n",
              "      <td>NaN</td>\n",
              "      <td>1579375</td>\n",
              "      <td>NaN</td>\n",
              "      <td>NaN</td>\n",
              "      <td>NaN</td>\n",
              "      <td>2812</td>\n",
              "      <td>6793690</td>\n",
              "      <td>https://www.camara.leg.br/cota-parlamentar/not...</td>\n",
              "    </tr>\n",
              "    <tr>\n",
              "      <th>4</th>\n",
              "      <td>LID.GOV-CD</td>\n",
              "      <td>NaN</td>\n",
              "      <td>NaN</td>\n",
              "      <td>NaN</td>\n",
              "      <td>2019</td>\n",
              "      <td>NaN</td>\n",
              "      <td>NaN</td>\n",
              "      <td>56</td>\n",
              "      <td>13</td>\n",
              "      <td>FORNECIMENTO DE ALIMENTAÇÃO DO PARLAMENTAR</td>\n",
              "      <td>...</td>\n",
              "      <td>0</td>\n",
              "      <td>NaN</td>\n",
              "      <td>NaN</td>\n",
              "      <td>1590980</td>\n",
              "      <td>NaN</td>\n",
              "      <td>NaN</td>\n",
              "      <td>NaN</td>\n",
              "      <td>2812</td>\n",
              "      <td>6821674</td>\n",
              "      <td>https://www.camara.leg.br/cota-parlamentar/not...</td>\n",
              "    </tr>\n",
              "    <tr>\n",
              "      <th>...</th>\n",
              "      <td>...</td>\n",
              "      <td>...</td>\n",
              "      <td>...</td>\n",
              "      <td>...</td>\n",
              "      <td>...</td>\n",
              "      <td>...</td>\n",
              "      <td>...</td>\n",
              "      <td>...</td>\n",
              "      <td>...</td>\n",
              "      <td>...</td>\n",
              "      <td>...</td>\n",
              "      <td>...</td>\n",
              "      <td>...</td>\n",
              "      <td>...</td>\n",
              "      <td>...</td>\n",
              "      <td>...</td>\n",
              "      <td>...</td>\n",
              "      <td>...</td>\n",
              "      <td>...</td>\n",
              "      <td>...</td>\n",
              "      <td>...</td>\n",
              "    </tr>\n",
              "    <tr>\n",
              "      <th>900</th>\n",
              "      <td>LIDMIN</td>\n",
              "      <td>NaN</td>\n",
              "      <td>NaN</td>\n",
              "      <td>NaN</td>\n",
              "      <td>2019</td>\n",
              "      <td>NaN</td>\n",
              "      <td>NaN</td>\n",
              "      <td>56</td>\n",
              "      <td>13</td>\n",
              "      <td>FORNECIMENTO DE ALIMENTAÇÃO DO PARLAMENTAR</td>\n",
              "      <td>...</td>\n",
              "      <td>0</td>\n",
              "      <td>NaN</td>\n",
              "      <td>NaN</td>\n",
              "      <td>1618189</td>\n",
              "      <td>NaN</td>\n",
              "      <td>NaN</td>\n",
              "      <td>NaN</td>\n",
              "      <td>2806</td>\n",
              "      <td>6884032</td>\n",
              "      <td>https://www.camara.leg.br/cota-parlamentar/not...</td>\n",
              "    </tr>\n",
              "    <tr>\n",
              "      <th>901</th>\n",
              "      <td>LIDMIN</td>\n",
              "      <td>NaN</td>\n",
              "      <td>NaN</td>\n",
              "      <td>NaN</td>\n",
              "      <td>2019</td>\n",
              "      <td>NaN</td>\n",
              "      <td>NaN</td>\n",
              "      <td>56</td>\n",
              "      <td>13</td>\n",
              "      <td>FORNECIMENTO DE ALIMENTAÇÃO DO PARLAMENTAR</td>\n",
              "      <td>...</td>\n",
              "      <td>0</td>\n",
              "      <td>NaN</td>\n",
              "      <td>NaN</td>\n",
              "      <td>1658394</td>\n",
              "      <td>NaN</td>\n",
              "      <td>NaN</td>\n",
              "      <td>NaN</td>\n",
              "      <td>2806</td>\n",
              "      <td>6976028</td>\n",
              "      <td>https://www.camara.leg.br/cota-parlamentar/doc...</td>\n",
              "    </tr>\n",
              "    <tr>\n",
              "      <th>902</th>\n",
              "      <td>LIDMIN</td>\n",
              "      <td>NaN</td>\n",
              "      <td>NaN</td>\n",
              "      <td>NaN</td>\n",
              "      <td>2019</td>\n",
              "      <td>NaN</td>\n",
              "      <td>NaN</td>\n",
              "      <td>56</td>\n",
              "      <td>13</td>\n",
              "      <td>FORNECIMENTO DE ALIMENTAÇÃO DO PARLAMENTAR</td>\n",
              "      <td>...</td>\n",
              "      <td>0</td>\n",
              "      <td>NaN</td>\n",
              "      <td>NaN</td>\n",
              "      <td>1658383</td>\n",
              "      <td>NaN</td>\n",
              "      <td>NaN</td>\n",
              "      <td>NaN</td>\n",
              "      <td>2806</td>\n",
              "      <td>6975999</td>\n",
              "      <td>https://www.camara.leg.br/cota-parlamentar/doc...</td>\n",
              "    </tr>\n",
              "    <tr>\n",
              "      <th>903</th>\n",
              "      <td>LIDMIN</td>\n",
              "      <td>NaN</td>\n",
              "      <td>NaN</td>\n",
              "      <td>NaN</td>\n",
              "      <td>2019</td>\n",
              "      <td>NaN</td>\n",
              "      <td>NaN</td>\n",
              "      <td>56</td>\n",
              "      <td>13</td>\n",
              "      <td>FORNECIMENTO DE ALIMENTAÇÃO DO PARLAMENTAR</td>\n",
              "      <td>...</td>\n",
              "      <td>0</td>\n",
              "      <td>NaN</td>\n",
              "      <td>NaN</td>\n",
              "      <td>1658375</td>\n",
              "      <td>NaN</td>\n",
              "      <td>NaN</td>\n",
              "      <td>NaN</td>\n",
              "      <td>2806</td>\n",
              "      <td>6975967</td>\n",
              "      <td>https://www.camara.leg.br/cota-parlamentar/doc...</td>\n",
              "    </tr>\n",
              "    <tr>\n",
              "      <th>904</th>\n",
              "      <td>LIDMIN</td>\n",
              "      <td>NaN</td>\n",
              "      <td>NaN</td>\n",
              "      <td>NaN</td>\n",
              "      <td>2019</td>\n",
              "      <td>NaN</td>\n",
              "      <td>NaN</td>\n",
              "      <td>56</td>\n",
              "      <td>13</td>\n",
              "      <td>FORNECIMENTO DE ALIMENTAÇÃO DO PARLAMENTAR</td>\n",
              "      <td>...</td>\n",
              "      <td>0</td>\n",
              "      <td>NaN</td>\n",
              "      <td>NaN</td>\n",
              "      <td>1652795</td>\n",
              "      <td>NaN</td>\n",
              "      <td>NaN</td>\n",
              "      <td>NaN</td>\n",
              "      <td>2806</td>\n",
              "      <td>6962818</td>\n",
              "      <td>https://www.camara.leg.br/cota-parlamentar/not...</td>\n",
              "    </tr>\n",
              "  </tbody>\n",
              "</table>\n",
              "<p>905 rows × 32 columns</p>\n",
              "</div>\n",
              "      <button class=\"colab-df-convert\" onclick=\"convertToInteractive('df-1a2e0618-5f15-4ecd-bc4a-180fa3ad3b9a')\"\n",
              "              title=\"Convert this dataframe to an interactive table.\"\n",
              "              style=\"display:none;\">\n",
              "\n",
              "  <svg xmlns=\"http://www.w3.org/2000/svg\" height=\"24px\"viewBox=\"0 0 24 24\"\n",
              "       width=\"24px\">\n",
              "    <path d=\"M0 0h24v24H0V0z\" fill=\"none\"/>\n",
              "    <path d=\"M18.56 5.44l.94 2.06.94-2.06 2.06-.94-2.06-.94-.94-2.06-.94 2.06-2.06.94zm-11 1L8.5 8.5l.94-2.06 2.06-.94-2.06-.94L8.5 2.5l-.94 2.06-2.06.94zm10 10l.94 2.06.94-2.06 2.06-.94-2.06-.94-.94-2.06-.94 2.06-2.06.94z\"/><path d=\"M17.41 7.96l-1.37-1.37c-.4-.4-.92-.59-1.43-.59-.52 0-1.04.2-1.43.59L10.3 9.45l-7.72 7.72c-.78.78-.78 2.05 0 2.83L4 21.41c.39.39.9.59 1.41.59.51 0 1.02-.2 1.41-.59l7.78-7.78 2.81-2.81c.8-.78.8-2.07 0-2.86zM5.41 20L4 18.59l7.72-7.72 1.47 1.35L5.41 20z\"/>\n",
              "  </svg>\n",
              "      </button>\n",
              "\n",
              "\n",
              "\n",
              "    <div id=\"df-44e31086-7ee3-43e5-9923-0419d7737843\">\n",
              "      <button class=\"colab-df-quickchart\" onclick=\"quickchart('df-44e31086-7ee3-43e5-9923-0419d7737843')\"\n",
              "              title=\"Suggest charts.\"\n",
              "              style=\"display:none;\">\n",
              "\n",
              "<svg xmlns=\"http://www.w3.org/2000/svg\" height=\"24px\"viewBox=\"0 0 24 24\"\n",
              "     width=\"24px\">\n",
              "    <g>\n",
              "        <path d=\"M19 3H5c-1.1 0-2 .9-2 2v14c0 1.1.9 2 2 2h14c1.1 0 2-.9 2-2V5c0-1.1-.9-2-2-2zM9 17H7v-7h2v7zm4 0h-2V7h2v10zm4 0h-2v-4h2v4z\"/>\n",
              "    </g>\n",
              "</svg>\n",
              "      </button>\n",
              "    </div>\n",
              "\n",
              "<style>\n",
              "  .colab-df-quickchart {\n",
              "    background-color: #E8F0FE;\n",
              "    border: none;\n",
              "    border-radius: 50%;\n",
              "    cursor: pointer;\n",
              "    display: none;\n",
              "    fill: #1967D2;\n",
              "    height: 32px;\n",
              "    padding: 0 0 0 0;\n",
              "    width: 32px;\n",
              "  }\n",
              "\n",
              "  .colab-df-quickchart:hover {\n",
              "    background-color: #E2EBFA;\n",
              "    box-shadow: 0px 1px 2px rgba(60, 64, 67, 0.3), 0px 1px 3px 1px rgba(60, 64, 67, 0.15);\n",
              "    fill: #174EA6;\n",
              "  }\n",
              "\n",
              "  [theme=dark] .colab-df-quickchart {\n",
              "    background-color: #3B4455;\n",
              "    fill: #D2E3FC;\n",
              "  }\n",
              "\n",
              "  [theme=dark] .colab-df-quickchart:hover {\n",
              "    background-color: #434B5C;\n",
              "    box-shadow: 0px 1px 3px 1px rgba(0, 0, 0, 0.15);\n",
              "    filter: drop-shadow(0px 1px 2px rgba(0, 0, 0, 0.3));\n",
              "    fill: #FFFFFF;\n",
              "  }\n",
              "</style>\n",
              "\n",
              "    <script>\n",
              "      async function quickchart(key) {\n",
              "        const containerElement = document.querySelector('#' + key);\n",
              "        const charts = await google.colab.kernel.invokeFunction(\n",
              "            'suggestCharts', [key], {});\n",
              "      }\n",
              "    </script>\n",
              "\n",
              "      <script>\n",
              "\n",
              "function displayQuickchartButton(domScope) {\n",
              "  let quickchartButtonEl =\n",
              "    domScope.querySelector('#df-44e31086-7ee3-43e5-9923-0419d7737843 button.colab-df-quickchart');\n",
              "  quickchartButtonEl.style.display =\n",
              "    google.colab.kernel.accessAllowed ? 'block' : 'none';\n",
              "}\n",
              "\n",
              "        displayQuickchartButton(document);\n",
              "      </script>\n",
              "      <style>\n",
              "    .colab-df-container {\n",
              "      display:flex;\n",
              "      flex-wrap:wrap;\n",
              "      gap: 12px;\n",
              "    }\n",
              "\n",
              "    .colab-df-convert {\n",
              "      background-color: #E8F0FE;\n",
              "      border: none;\n",
              "      border-radius: 50%;\n",
              "      cursor: pointer;\n",
              "      display: none;\n",
              "      fill: #1967D2;\n",
              "      height: 32px;\n",
              "      padding: 0 0 0 0;\n",
              "      width: 32px;\n",
              "    }\n",
              "\n",
              "    .colab-df-convert:hover {\n",
              "      background-color: #E2EBFA;\n",
              "      box-shadow: 0px 1px 2px rgba(60, 64, 67, 0.3), 0px 1px 3px 1px rgba(60, 64, 67, 0.15);\n",
              "      fill: #174EA6;\n",
              "    }\n",
              "\n",
              "    [theme=dark] .colab-df-convert {\n",
              "      background-color: #3B4455;\n",
              "      fill: #D2E3FC;\n",
              "    }\n",
              "\n",
              "    [theme=dark] .colab-df-convert:hover {\n",
              "      background-color: #434B5C;\n",
              "      box-shadow: 0px 1px 3px 1px rgba(0, 0, 0, 0.15);\n",
              "      filter: drop-shadow(0px 1px 2px rgba(0, 0, 0, 0.3));\n",
              "      fill: #FFFFFF;\n",
              "    }\n",
              "  </style>\n",
              "\n",
              "      <script>\n",
              "        const buttonEl =\n",
              "          document.querySelector('#df-1a2e0618-5f15-4ecd-bc4a-180fa3ad3b9a button.colab-df-convert');\n",
              "        buttonEl.style.display =\n",
              "          google.colab.kernel.accessAllowed ? 'block' : 'none';\n",
              "\n",
              "        async function convertToInteractive(key) {\n",
              "          const element = document.querySelector('#df-1a2e0618-5f15-4ecd-bc4a-180fa3ad3b9a');\n",
              "          const dataTable =\n",
              "            await google.colab.kernel.invokeFunction('convertToInteractive',\n",
              "                                                     [key], {});\n",
              "          if (!dataTable) return;\n",
              "\n",
              "          const docLinkHtml = 'Like what you see? Visit the ' +\n",
              "            '<a target=\"_blank\" href=https://colab.research.google.com/notebooks/data_table.ipynb>data table notebook</a>'\n",
              "            + ' to learn more about interactive tables.';\n",
              "          element.innerHTML = '';\n",
              "          dataTable['output_type'] = 'display_data';\n",
              "          await google.colab.output.renderOutput(dataTable, element);\n",
              "          const docLink = document.createElement('div');\n",
              "          docLink.innerHTML = docLinkHtml;\n",
              "          element.appendChild(docLink);\n",
              "        }\n",
              "      </script>\n",
              "    </div>\n",
              "  </div>\n"
            ]
          },
          "metadata": {},
          "execution_count": 44
        }
      ],
      "source": [
        "df_reimbursements[df_reimbursements.sgPartido.isna()]"
      ]
    },
    {
      "cell_type": "code",
      "execution_count": 45,
      "id": "345ec402",
      "metadata": {
        "id": "345ec402",
        "outputId": "1b3ce7f5-6dec-4778-a050-c9a44c57e113",
        "colab": {
          "base_uri": "https://localhost:8080/",
          "height": 143
        }
      },
      "outputs": [
        {
          "output_type": "execute_result",
          "data": {
            "text/plain": [
              "Empty DataFrame\n",
              "Columns: [txNomeParlamentar, cpf, ideCadastro, nuCarteiraParlamentar, nuLegislatura, sgUF, sgPartido, codLegislatura, numSubCota, txtDescricao, numEspecificacaoSubCota, txtDescricaoEspecificacao, txtFornecedor, txtCNPJCPF, txtNumero, indTipoDocumento, datEmissao, vlrDocumento, vlrGlosa, vlrLiquido, numMes, numAno, numParcela, txtPassageiro, txtTrecho, numLote, numRessarcimento, datPagamentoRestituicao, vlrRestituicao, nuDeputadoId, ideDocumento, urlDocumento]\n",
              "Index: []\n",
              "\n",
              "[0 rows x 32 columns]"
            ],
            "text/html": [
              "\n",
              "\n",
              "  <div id=\"df-48469863-d198-4119-bfb7-53eb371a7895\">\n",
              "    <div class=\"colab-df-container\">\n",
              "      <div>\n",
              "<style scoped>\n",
              "    .dataframe tbody tr th:only-of-type {\n",
              "        vertical-align: middle;\n",
              "    }\n",
              "\n",
              "    .dataframe tbody tr th {\n",
              "        vertical-align: top;\n",
              "    }\n",
              "\n",
              "    .dataframe thead th {\n",
              "        text-align: right;\n",
              "    }\n",
              "</style>\n",
              "<table border=\"1\" class=\"dataframe\">\n",
              "  <thead>\n",
              "    <tr style=\"text-align: right;\">\n",
              "      <th></th>\n",
              "      <th>txNomeParlamentar</th>\n",
              "      <th>cpf</th>\n",
              "      <th>ideCadastro</th>\n",
              "      <th>nuCarteiraParlamentar</th>\n",
              "      <th>nuLegislatura</th>\n",
              "      <th>sgUF</th>\n",
              "      <th>sgPartido</th>\n",
              "      <th>codLegislatura</th>\n",
              "      <th>numSubCota</th>\n",
              "      <th>txtDescricao</th>\n",
              "      <th>...</th>\n",
              "      <th>numParcela</th>\n",
              "      <th>txtPassageiro</th>\n",
              "      <th>txtTrecho</th>\n",
              "      <th>numLote</th>\n",
              "      <th>numRessarcimento</th>\n",
              "      <th>datPagamentoRestituicao</th>\n",
              "      <th>vlrRestituicao</th>\n",
              "      <th>nuDeputadoId</th>\n",
              "      <th>ideDocumento</th>\n",
              "      <th>urlDocumento</th>\n",
              "    </tr>\n",
              "  </thead>\n",
              "  <tbody>\n",
              "  </tbody>\n",
              "</table>\n",
              "<p>0 rows × 32 columns</p>\n",
              "</div>\n",
              "      <button class=\"colab-df-convert\" onclick=\"convertToInteractive('df-48469863-d198-4119-bfb7-53eb371a7895')\"\n",
              "              title=\"Convert this dataframe to an interactive table.\"\n",
              "              style=\"display:none;\">\n",
              "\n",
              "  <svg xmlns=\"http://www.w3.org/2000/svg\" height=\"24px\"viewBox=\"0 0 24 24\"\n",
              "       width=\"24px\">\n",
              "    <path d=\"M0 0h24v24H0V0z\" fill=\"none\"/>\n",
              "    <path d=\"M18.56 5.44l.94 2.06.94-2.06 2.06-.94-2.06-.94-.94-2.06-.94 2.06-2.06.94zm-11 1L8.5 8.5l.94-2.06 2.06-.94-2.06-.94L8.5 2.5l-.94 2.06-2.06.94zm10 10l.94 2.06.94-2.06 2.06-.94-2.06-.94-.94-2.06-.94 2.06-2.06.94z\"/><path d=\"M17.41 7.96l-1.37-1.37c-.4-.4-.92-.59-1.43-.59-.52 0-1.04.2-1.43.59L10.3 9.45l-7.72 7.72c-.78.78-.78 2.05 0 2.83L4 21.41c.39.39.9.59 1.41.59.51 0 1.02-.2 1.41-.59l7.78-7.78 2.81-2.81c.8-.78.8-2.07 0-2.86zM5.41 20L4 18.59l7.72-7.72 1.47 1.35L5.41 20z\"/>\n",
              "  </svg>\n",
              "      </button>\n",
              "\n",
              "\n",
              "\n",
              "    <div id=\"df-28e978e3-d861-4f4e-94b2-06e3ebcddb9d\">\n",
              "      <button class=\"colab-df-quickchart\" onclick=\"quickchart('df-28e978e3-d861-4f4e-94b2-06e3ebcddb9d')\"\n",
              "              title=\"Suggest charts.\"\n",
              "              style=\"display:none;\">\n",
              "\n",
              "<svg xmlns=\"http://www.w3.org/2000/svg\" height=\"24px\"viewBox=\"0 0 24 24\"\n",
              "     width=\"24px\">\n",
              "    <g>\n",
              "        <path d=\"M19 3H5c-1.1 0-2 .9-2 2v14c0 1.1.9 2 2 2h14c1.1 0 2-.9 2-2V5c0-1.1-.9-2-2-2zM9 17H7v-7h2v7zm4 0h-2V7h2v10zm4 0h-2v-4h2v4z\"/>\n",
              "    </g>\n",
              "</svg>\n",
              "      </button>\n",
              "    </div>\n",
              "\n",
              "<style>\n",
              "  .colab-df-quickchart {\n",
              "    background-color: #E8F0FE;\n",
              "    border: none;\n",
              "    border-radius: 50%;\n",
              "    cursor: pointer;\n",
              "    display: none;\n",
              "    fill: #1967D2;\n",
              "    height: 32px;\n",
              "    padding: 0 0 0 0;\n",
              "    width: 32px;\n",
              "  }\n",
              "\n",
              "  .colab-df-quickchart:hover {\n",
              "    background-color: #E2EBFA;\n",
              "    box-shadow: 0px 1px 2px rgba(60, 64, 67, 0.3), 0px 1px 3px 1px rgba(60, 64, 67, 0.15);\n",
              "    fill: #174EA6;\n",
              "  }\n",
              "\n",
              "  [theme=dark] .colab-df-quickchart {\n",
              "    background-color: #3B4455;\n",
              "    fill: #D2E3FC;\n",
              "  }\n",
              "\n",
              "  [theme=dark] .colab-df-quickchart:hover {\n",
              "    background-color: #434B5C;\n",
              "    box-shadow: 0px 1px 3px 1px rgba(0, 0, 0, 0.15);\n",
              "    filter: drop-shadow(0px 1px 2px rgba(0, 0, 0, 0.3));\n",
              "    fill: #FFFFFF;\n",
              "  }\n",
              "</style>\n",
              "\n",
              "    <script>\n",
              "      async function quickchart(key) {\n",
              "        const containerElement = document.querySelector('#' + key);\n",
              "        const charts = await google.colab.kernel.invokeFunction(\n",
              "            'suggestCharts', [key], {});\n",
              "      }\n",
              "    </script>\n",
              "\n",
              "      <script>\n",
              "\n",
              "function displayQuickchartButton(domScope) {\n",
              "  let quickchartButtonEl =\n",
              "    domScope.querySelector('#df-28e978e3-d861-4f4e-94b2-06e3ebcddb9d button.colab-df-quickchart');\n",
              "  quickchartButtonEl.style.display =\n",
              "    google.colab.kernel.accessAllowed ? 'block' : 'none';\n",
              "}\n",
              "\n",
              "        displayQuickchartButton(document);\n",
              "      </script>\n",
              "      <style>\n",
              "    .colab-df-container {\n",
              "      display:flex;\n",
              "      flex-wrap:wrap;\n",
              "      gap: 12px;\n",
              "    }\n",
              "\n",
              "    .colab-df-convert {\n",
              "      background-color: #E8F0FE;\n",
              "      border: none;\n",
              "      border-radius: 50%;\n",
              "      cursor: pointer;\n",
              "      display: none;\n",
              "      fill: #1967D2;\n",
              "      height: 32px;\n",
              "      padding: 0 0 0 0;\n",
              "      width: 32px;\n",
              "    }\n",
              "\n",
              "    .colab-df-convert:hover {\n",
              "      background-color: #E2EBFA;\n",
              "      box-shadow: 0px 1px 2px rgba(60, 64, 67, 0.3), 0px 1px 3px 1px rgba(60, 64, 67, 0.15);\n",
              "      fill: #174EA6;\n",
              "    }\n",
              "\n",
              "    [theme=dark] .colab-df-convert {\n",
              "      background-color: #3B4455;\n",
              "      fill: #D2E3FC;\n",
              "    }\n",
              "\n",
              "    [theme=dark] .colab-df-convert:hover {\n",
              "      background-color: #434B5C;\n",
              "      box-shadow: 0px 1px 3px 1px rgba(0, 0, 0, 0.15);\n",
              "      filter: drop-shadow(0px 1px 2px rgba(0, 0, 0, 0.3));\n",
              "      fill: #FFFFFF;\n",
              "    }\n",
              "  </style>\n",
              "\n",
              "      <script>\n",
              "        const buttonEl =\n",
              "          document.querySelector('#df-48469863-d198-4119-bfb7-53eb371a7895 button.colab-df-convert');\n",
              "        buttonEl.style.display =\n",
              "          google.colab.kernel.accessAllowed ? 'block' : 'none';\n",
              "\n",
              "        async function convertToInteractive(key) {\n",
              "          const element = document.querySelector('#df-48469863-d198-4119-bfb7-53eb371a7895');\n",
              "          const dataTable =\n",
              "            await google.colab.kernel.invokeFunction('convertToInteractive',\n",
              "                                                     [key], {});\n",
              "          if (!dataTable) return;\n",
              "\n",
              "          const docLinkHtml = 'Like what you see? Visit the ' +\n",
              "            '<a target=\"_blank\" href=https://colab.research.google.com/notebooks/data_table.ipynb>data table notebook</a>'\n",
              "            + ' to learn more about interactive tables.';\n",
              "          element.innerHTML = '';\n",
              "          dataTable['output_type'] = 'display_data';\n",
              "          await google.colab.output.renderOutput(dataTable, element);\n",
              "          const docLink = document.createElement('div');\n",
              "          docLink.innerHTML = docLinkHtml;\n",
              "          element.appendChild(docLink);\n",
              "        }\n",
              "      </script>\n",
              "    </div>\n",
              "  </div>\n"
            ]
          },
          "metadata": {},
          "execution_count": 45
        }
      ],
      "source": [
        "df_reimbursements[df_reimbursements['ideDocumento'].isnull()]"
      ]
    },
    {
      "cell_type": "markdown",
      "id": "d338eea5",
      "metadata": {
        "id": "d338eea5"
      },
      "source": [
        "#### Informando tipos na leitura dos dados\n",
        "\n",
        "Quando trabalhamos com pandas, é sempre interessante entender que tipos de dados estão contidos em cada coluna. Na leitura do arquivo podemos aproveitar para deixar isso configurado.\n",
        "\n",
        "Isso pode ser extramamente útil quando estamos lendo dados que contém informação sobre documentos, como CPF. Nesses casos podemos ter algo como `091777777`, se esse valor por lido como um número, ele vai virar `91777777`, já que não existe número que inicie com 0. Esse é um ótimo exemplo de dado que deve ser lido como um string, para que ele seja preservado ao máximo.\n",
        "\n",
        "Agora, sabendo quais dados nosso dataframe possui, vamos definir o tipo para cada um."
      ]
    },
    {
      "cell_type": "code",
      "execution_count": 46,
      "id": "c022f1c8",
      "metadata": {
        "id": "c022f1c8"
      },
      "outputs": [],
      "source": [
        "DTYPE = {\n",
        "    'txNomeParlamentar': str,\n",
        "    'ideCadastro': str,\n",
        "    'nuCarteiraParlamentar': str,\n",
        "    'nuLegislatura': str,\n",
        "    'sgUF': str,\n",
        "    'sgPartido': str,\n",
        "    'codLegislatura': str,\n",
        "    'numSubCota': str,\n",
        "    'txtDescricao': str,\n",
        "    'numEspecificacaoSubCota': str,\n",
        "    'txtDescricaoEspecificacao': str,\n",
        "    'txtFornecedor': str,\n",
        "    'txtCNPJCPF': str,\n",
        "    'txtNumero': str,\n",
        "    'indTipoDocumento': str,\n",
        "    'datEmissao': str,\n",
        "    'vlrDocumento': float,\n",
        "    'vlrGlosa': str,\n",
        "    'vlrLiquido': float,\n",
        "    'numMes': str,\n",
        "    'numAno': str,\n",
        "    'numParcela': str,\n",
        "    'txtPassageiro': str,\n",
        "    'txtTrecho': str,\n",
        "    'numLote': str,\n",
        "    'numRessarcimento': str,\n",
        "    'nuDeputadoId': str,\n",
        "    'ideDocumento': str,\n",
        "}\n",
        "\n",
        "df_reimbursements = pd.read_csv(\n",
        "    \"reembolso-2019/Ano-2019.csv\",\n",
        "    delimiter=\";\",\n",
        "    dtype=DTYPE,\n",
        "    low_memory=False\n",
        ")"
      ]
    },
    {
      "cell_type": "markdown",
      "id": "b5377bd8",
      "metadata": {
        "id": "b5377bd8"
      },
      "source": [
        "Opa! Você lembra qual método podemos usar para conferir os tipos de cada coluna?\n",
        "**dica**: já passamos por esse método..."
      ]
    },
    {
      "cell_type": "code",
      "execution_count": 47,
      "id": "e02c7464",
      "metadata": {
        "id": "e02c7464",
        "outputId": "d4c9e20c-37f0-45df-e0e4-3a6b3d821dcf",
        "colab": {
          "base_uri": "https://localhost:8080/"
        }
      },
      "outputs": [
        {
          "output_type": "stream",
          "name": "stdout",
          "text": [
            "<class 'pandas.core.frame.DataFrame'>\n",
            "RangeIndex: 289453 entries, 0 to 289452\n",
            "Data columns (total 32 columns):\n",
            " #   Column                     Non-Null Count   Dtype  \n",
            "---  ------                     --------------   -----  \n",
            " 0   txNomeParlamentar          289453 non-null  object \n",
            " 1   cpf                        288449 non-null  float64\n",
            " 2   ideCadastro                288548 non-null  object \n",
            " 3   nuCarteiraParlamentar      288548 non-null  object \n",
            " 4   nuLegislatura              289453 non-null  object \n",
            " 5   sgUF                       288548 non-null  object \n",
            " 6   sgPartido                  288548 non-null  object \n",
            " 7   codLegislatura             289453 non-null  object \n",
            " 8   numSubCota                 289453 non-null  object \n",
            " 9   txtDescricao               289453 non-null  object \n",
            " 10  numEspecificacaoSubCota    289453 non-null  object \n",
            " 11  txtDescricaoEspecificacao  64765 non-null   object \n",
            " 12  txtFornecedor              289438 non-null  object \n",
            " 13  txtCNPJCPF                 285380 non-null  object \n",
            " 14  txtNumero                  289453 non-null  object \n",
            " 15  indTipoDocumento           289453 non-null  object \n",
            " 16  datEmissao                 283281 non-null  object \n",
            " 17  vlrDocumento               289453 non-null  float64\n",
            " 18  vlrGlosa                   289453 non-null  object \n",
            " 19  vlrLiquido                 289453 non-null  float64\n",
            " 20  numMes                     289453 non-null  object \n",
            " 21  numAno                     289453 non-null  object \n",
            " 22  numParcela                 289453 non-null  object \n",
            " 23  txtPassageiro              86363 non-null   object \n",
            " 24  txtTrecho                  85655 non-null   object \n",
            " 25  numLote                    289453 non-null  object \n",
            " 26  numRessarcimento           111948 non-null  object \n",
            " 27  datPagamentoRestituicao    222 non-null     object \n",
            " 28  vlrRestituicao             257 non-null     float64\n",
            " 29  nuDeputadoId               289453 non-null  object \n",
            " 30  ideDocumento               289453 non-null  object \n",
            " 31  urlDocumento               167781 non-null  object \n",
            "dtypes: float64(4), object(28)\n",
            "memory usage: 70.7+ MB\n"
          ]
        }
      ],
      "source": [
        "df_reimbursements.info()"
      ]
    },
    {
      "cell_type": "markdown",
      "id": "f048cb6e",
      "metadata": {
        "id": "f048cb6e"
      },
      "source": [
        "#### astype"
      ]
    },
    {
      "cell_type": "code",
      "execution_count": null,
      "id": "a68a72f8",
      "metadata": {
        "id": "a68a72f8"
      },
      "outputs": [],
      "source": [
        "# df_reimbursements[\"ideCadastro\"] = df_reimbursements[\"ideCadastro\"].astype('string')"
      ]
    },
    {
      "cell_type": "markdown",
      "id": "51e672ae",
      "metadata": {
        "id": "51e672ae"
      },
      "source": [
        "#### to_datetime\n",
        "\n",
        "Por default, o `to_datetime()` vai converter string no formato `MM/DD`, `MMDD` ou `MM-DD`. No nosso caso, as datas estão em um formato diferente, por isso, vamos passar como argumento do `format`o valor `%Y-%m-%d`, informando que as datas possuem primeiro o *ano* completo (ex.: 2020), *mês (ex.: 05), e dia (ex.: 12)."
      ]
    },
    {
      "cell_type": "code",
      "execution_count": 48,
      "id": "8bf65f61",
      "metadata": {
        "scrolled": false,
        "id": "8bf65f61"
      },
      "outputs": [],
      "source": [
        "df_reimbursements[\"datEmissao\"] = pd.to_datetime(\n",
        "    df_reimbursements.datEmissao,\n",
        "    format='%Y-%m-%d'\n",
        ")"
      ]
    },
    {
      "cell_type": "markdown",
      "id": "ede6366c",
      "metadata": {
        "id": "ede6366c"
      },
      "source": [
        "Caso essa conversão gere algum erro, você pode informar ao pandas como ele deve lidar com isso. O `to_datetime()` possue o argumento `errors`, que pode receber `ignore` caso você queria que os erros sejam ignorados, ou `coerce` caso você queria que os valores inválidos recebam `NaT`."
      ]
    },
    {
      "cell_type": "markdown",
      "id": "c942b33f",
      "metadata": {
        "id": "c942b33f"
      },
      "source": [
        "##### Para quem quiser saber mais!\n",
        "\n",
        "Você deve estar se perguntando o porquê dessa conversão utilizando o `to_datetime`. _O que ganhamos com isso?_ Existem várias vantagens do Pandas entender que uma coluna é uma data. Uma dessas vantagens é que você vai poder trabalhar com os dados como uma série temporal, ou seja, um conjunto de registros ao longo do tempo.\n",
        "\n",
        "Os reembolsos se encaixam bem nisso... pense só, nossos dados são um conjunto de pedidos de reembolsos solicitados ao longo de um ano. Quando convertemos o dados para um datetime, podemos realizar algumas operações que só são possíveis com datas. Por exemplo, podemos selecionar uma janela de tempo:"
      ]
    },
    {
      "cell_type": "code",
      "execution_count": 26,
      "id": "f19fbf56",
      "metadata": {
        "id": "f19fbf56",
        "outputId": "a238a2ec-b138-4473-e127-af48caf25494",
        "colab": {
          "base_uri": "https://localhost:8080/",
          "height": 848
        }
      },
      "outputs": [
        {
          "output_type": "execute_result",
          "data": {
            "text/plain": [
              "                  txNomeParlamentar           cpf ideCadastro  \\\n",
              "datEmissao                                                      \n",
              "2020-01-10  LIDERANÇA DO DEMOCRATAS           NaN         NaN   \n",
              "2020-01-02     LIDERANÇA DO PODEMOS           NaN         NaN   \n",
              "2020-01-04          LIDERANÇA DO PT           NaN         NaN   \n",
              "2020-01-31          LIDERANÇA DO PT           NaN         NaN   \n",
              "2020-01-07          LIDERANÇA DO PT           NaN         NaN   \n",
              "...                             ...           ...         ...   \n",
              "2020-01-01              Enéias Reis  9.450581e+10      207309   \n",
              "2020-01-03           Fernando Borja  5.267385e+10      212504   \n",
              "2020-02-28           Fernando Borja  5.267385e+10      212504   \n",
              "2020-01-08              Dr. Gonçalo  5.461154e+09      212625   \n",
              "2020-01-31             Marcão Gomes  9.300886e+09      212749   \n",
              "\n",
              "           nuCarteiraParlamentar nuLegislatura sgUF     sgPartido  \\\n",
              "datEmissao                                                          \n",
              "2020-01-10                   NaN          2019  NaN           NaN   \n",
              "2020-01-02                   NaN          2019  NaN           NaN   \n",
              "2020-01-04                   NaN          2019  NaN           NaN   \n",
              "2020-01-31                   NaN          2019  NaN           NaN   \n",
              "2020-01-07                   NaN          2019  NaN           NaN   \n",
              "...                          ...           ...  ...           ...   \n",
              "2020-01-01                   533          2019   MG         UNIÃO   \n",
              "2020-01-03                   547          2019   MG        AVANTE   \n",
              "2020-02-28                   547          2019   MG        AVANTE   \n",
              "2020-01-08                   548          2019   MA  REPUBLICANOS   \n",
              "2020-01-31                   551          2019   RJ            PL   \n",
              "\n",
              "           codLegislatura numSubCota  \\\n",
              "datEmissao                             \n",
              "2020-01-10             56         12   \n",
              "2020-01-02             56          5   \n",
              "2020-01-04             56          1   \n",
              "2020-01-31             56          5   \n",
              "2020-01-07             56        120   \n",
              "...                   ...        ...   \n",
              "2020-01-01             56         10   \n",
              "2020-01-03             56          5   \n",
              "2020-02-28             56         10   \n",
              "2020-01-08             56          4   \n",
              "2020-01-31             56        120   \n",
              "\n",
              "                                                 txtDescricao  ... numParcela  \\\n",
              "datEmissao                                                     ...              \n",
              "2020-01-10                          ASSINATURA DE PUBLICAÇÕES  ...          0   \n",
              "2020-01-02               DIVULGAÇÃO DA ATIVIDADE PARLAMENTAR.  ...          0   \n",
              "2020-01-04  MANUTENÇÃO DE ESCRITÓRIO DE APOIO À ATIVIDADE ...  ...          0   \n",
              "2020-01-31               DIVULGAÇÃO DA ATIVIDADE PARLAMENTAR.  ...          0   \n",
              "2020-01-07      LOCAÇÃO OU FRETAMENTO DE VEÍCULOS AUTOMOTORES  ...          0   \n",
              "...                                                       ...  ...        ...   \n",
              "2020-01-01                                          TELEFONIA  ...          0   \n",
              "2020-01-03               DIVULGAÇÃO DA ATIVIDADE PARLAMENTAR.  ...          0   \n",
              "2020-02-28                                          TELEFONIA  ...          0   \n",
              "2020-01-08      CONSULTORIAS, PESQUISAS E TRABALHOS TÉCNICOS.  ...          0   \n",
              "2020-01-31      LOCAÇÃO OU FRETAMENTO DE VEÍCULOS AUTOMOTORES  ...          0   \n",
              "\n",
              "           txtPassageiro txtTrecho  numLote numRessarcimento  \\\n",
              "datEmissao                                                     \n",
              "2020-01-10           NaN       NaN  1667101              NaN   \n",
              "2020-01-02           NaN       NaN  1669984              NaN   \n",
              "2020-01-04           NaN       NaN  1667165              NaN   \n",
              "2020-01-31           NaN       NaN  1670191              NaN   \n",
              "2020-01-07           NaN       NaN  1667166              NaN   \n",
              "...                  ...       ...      ...              ...   \n",
              "2020-01-01           NaN       NaN  1669485              NaN   \n",
              "2020-01-03           NaN       NaN  1675071              NaN   \n",
              "2020-02-28           NaN       NaN        0                0   \n",
              "2020-01-08           NaN       NaN  1666704              NaN   \n",
              "2020-01-31           NaN       NaN  1680650              NaN   \n",
              "\n",
              "           datPagamentoRestituicao  vlrRestituicao nuDeputadoId  ideDocumento  \\\n",
              "datEmissao                                                                      \n",
              "2020-01-10                     NaN             NaN         2713       6994538   \n",
              "2020-01-02                     NaN             NaN         3172       7000670   \n",
              "2020-01-04                     NaN             NaN         2439       6994687   \n",
              "2020-01-31                     NaN             NaN         2439       7001237   \n",
              "2020-01-07                     NaN             NaN         2439       6994688   \n",
              "...                            ...             ...          ...           ...   \n",
              "2020-01-01                     NaN             NaN         3446       6999178   \n",
              "2020-01-03                     NaN             NaN         3462       7012146   \n",
              "2020-02-28                     NaN             NaN         3462             0   \n",
              "2020-01-08                     NaN             NaN         3463       6993447   \n",
              "2020-01-31                     NaN             NaN         3465       7022622   \n",
              "\n",
              "                                                 urlDocumento  \n",
              "datEmissao                                                     \n",
              "2020-01-10  https://www.camara.leg.br/cota-parlamentar/not...  \n",
              "2020-01-02  https://www.camara.leg.br/cota-parlamentar/not...  \n",
              "2020-01-04  https://www.camara.leg.br/cota-parlamentar/doc...  \n",
              "2020-01-31  https://www.camara.leg.br/cota-parlamentar/not...  \n",
              "2020-01-07  https://www.camara.leg.br/cota-parlamentar/not...  \n",
              "...                                                       ...  \n",
              "2020-01-01                                                NaN  \n",
              "2020-01-03  https://www.camara.leg.br/cota-parlamentar/doc...  \n",
              "2020-02-28                                                NaN  \n",
              "2020-01-08  https://www.camara.leg.br/cota-parlamentar/doc...  \n",
              "2020-01-31  https://www.camara.leg.br/cota-parlamentar/doc...  \n",
              "\n",
              "[1898 rows x 31 columns]"
            ],
            "text/html": [
              "\n",
              "\n",
              "  <div id=\"df-fbbaae06-056c-4252-bec7-fdc4b455aaaa\">\n",
              "    <div class=\"colab-df-container\">\n",
              "      <div>\n",
              "<style scoped>\n",
              "    .dataframe tbody tr th:only-of-type {\n",
              "        vertical-align: middle;\n",
              "    }\n",
              "\n",
              "    .dataframe tbody tr th {\n",
              "        vertical-align: top;\n",
              "    }\n",
              "\n",
              "    .dataframe thead th {\n",
              "        text-align: right;\n",
              "    }\n",
              "</style>\n",
              "<table border=\"1\" class=\"dataframe\">\n",
              "  <thead>\n",
              "    <tr style=\"text-align: right;\">\n",
              "      <th></th>\n",
              "      <th>txNomeParlamentar</th>\n",
              "      <th>cpf</th>\n",
              "      <th>ideCadastro</th>\n",
              "      <th>nuCarteiraParlamentar</th>\n",
              "      <th>nuLegislatura</th>\n",
              "      <th>sgUF</th>\n",
              "      <th>sgPartido</th>\n",
              "      <th>codLegislatura</th>\n",
              "      <th>numSubCota</th>\n",
              "      <th>txtDescricao</th>\n",
              "      <th>...</th>\n",
              "      <th>numParcela</th>\n",
              "      <th>txtPassageiro</th>\n",
              "      <th>txtTrecho</th>\n",
              "      <th>numLote</th>\n",
              "      <th>numRessarcimento</th>\n",
              "      <th>datPagamentoRestituicao</th>\n",
              "      <th>vlrRestituicao</th>\n",
              "      <th>nuDeputadoId</th>\n",
              "      <th>ideDocumento</th>\n",
              "      <th>urlDocumento</th>\n",
              "    </tr>\n",
              "    <tr>\n",
              "      <th>datEmissao</th>\n",
              "      <th></th>\n",
              "      <th></th>\n",
              "      <th></th>\n",
              "      <th></th>\n",
              "      <th></th>\n",
              "      <th></th>\n",
              "      <th></th>\n",
              "      <th></th>\n",
              "      <th></th>\n",
              "      <th></th>\n",
              "      <th></th>\n",
              "      <th></th>\n",
              "      <th></th>\n",
              "      <th></th>\n",
              "      <th></th>\n",
              "      <th></th>\n",
              "      <th></th>\n",
              "      <th></th>\n",
              "      <th></th>\n",
              "      <th></th>\n",
              "      <th></th>\n",
              "    </tr>\n",
              "  </thead>\n",
              "  <tbody>\n",
              "    <tr>\n",
              "      <th>2020-01-10</th>\n",
              "      <td>LIDERANÇA DO DEMOCRATAS</td>\n",
              "      <td>NaN</td>\n",
              "      <td>NaN</td>\n",
              "      <td>NaN</td>\n",
              "      <td>2019</td>\n",
              "      <td>NaN</td>\n",
              "      <td>NaN</td>\n",
              "      <td>56</td>\n",
              "      <td>12</td>\n",
              "      <td>ASSINATURA DE PUBLICAÇÕES</td>\n",
              "      <td>...</td>\n",
              "      <td>0</td>\n",
              "      <td>NaN</td>\n",
              "      <td>NaN</td>\n",
              "      <td>1667101</td>\n",
              "      <td>NaN</td>\n",
              "      <td>NaN</td>\n",
              "      <td>NaN</td>\n",
              "      <td>2713</td>\n",
              "      <td>6994538</td>\n",
              "      <td>https://www.camara.leg.br/cota-parlamentar/not...</td>\n",
              "    </tr>\n",
              "    <tr>\n",
              "      <th>2020-01-02</th>\n",
              "      <td>LIDERANÇA DO PODEMOS</td>\n",
              "      <td>NaN</td>\n",
              "      <td>NaN</td>\n",
              "      <td>NaN</td>\n",
              "      <td>2019</td>\n",
              "      <td>NaN</td>\n",
              "      <td>NaN</td>\n",
              "      <td>56</td>\n",
              "      <td>5</td>\n",
              "      <td>DIVULGAÇÃO DA ATIVIDADE PARLAMENTAR.</td>\n",
              "      <td>...</td>\n",
              "      <td>0</td>\n",
              "      <td>NaN</td>\n",
              "      <td>NaN</td>\n",
              "      <td>1669984</td>\n",
              "      <td>NaN</td>\n",
              "      <td>NaN</td>\n",
              "      <td>NaN</td>\n",
              "      <td>3172</td>\n",
              "      <td>7000670</td>\n",
              "      <td>https://www.camara.leg.br/cota-parlamentar/not...</td>\n",
              "    </tr>\n",
              "    <tr>\n",
              "      <th>2020-01-04</th>\n",
              "      <td>LIDERANÇA DO PT</td>\n",
              "      <td>NaN</td>\n",
              "      <td>NaN</td>\n",
              "      <td>NaN</td>\n",
              "      <td>2019</td>\n",
              "      <td>NaN</td>\n",
              "      <td>NaN</td>\n",
              "      <td>56</td>\n",
              "      <td>1</td>\n",
              "      <td>MANUTENÇÃO DE ESCRITÓRIO DE APOIO À ATIVIDADE ...</td>\n",
              "      <td>...</td>\n",
              "      <td>0</td>\n",
              "      <td>NaN</td>\n",
              "      <td>NaN</td>\n",
              "      <td>1667165</td>\n",
              "      <td>NaN</td>\n",
              "      <td>NaN</td>\n",
              "      <td>NaN</td>\n",
              "      <td>2439</td>\n",
              "      <td>6994687</td>\n",
              "      <td>https://www.camara.leg.br/cota-parlamentar/doc...</td>\n",
              "    </tr>\n",
              "    <tr>\n",
              "      <th>2020-01-31</th>\n",
              "      <td>LIDERANÇA DO PT</td>\n",
              "      <td>NaN</td>\n",
              "      <td>NaN</td>\n",
              "      <td>NaN</td>\n",
              "      <td>2019</td>\n",
              "      <td>NaN</td>\n",
              "      <td>NaN</td>\n",
              "      <td>56</td>\n",
              "      <td>5</td>\n",
              "      <td>DIVULGAÇÃO DA ATIVIDADE PARLAMENTAR.</td>\n",
              "      <td>...</td>\n",
              "      <td>0</td>\n",
              "      <td>NaN</td>\n",
              "      <td>NaN</td>\n",
              "      <td>1670191</td>\n",
              "      <td>NaN</td>\n",
              "      <td>NaN</td>\n",
              "      <td>NaN</td>\n",
              "      <td>2439</td>\n",
              "      <td>7001237</td>\n",
              "      <td>https://www.camara.leg.br/cota-parlamentar/not...</td>\n",
              "    </tr>\n",
              "    <tr>\n",
              "      <th>2020-01-07</th>\n",
              "      <td>LIDERANÇA DO PT</td>\n",
              "      <td>NaN</td>\n",
              "      <td>NaN</td>\n",
              "      <td>NaN</td>\n",
              "      <td>2019</td>\n",
              "      <td>NaN</td>\n",
              "      <td>NaN</td>\n",
              "      <td>56</td>\n",
              "      <td>120</td>\n",
              "      <td>LOCAÇÃO OU FRETAMENTO DE VEÍCULOS AUTOMOTORES</td>\n",
              "      <td>...</td>\n",
              "      <td>0</td>\n",
              "      <td>NaN</td>\n",
              "      <td>NaN</td>\n",
              "      <td>1667166</td>\n",
              "      <td>NaN</td>\n",
              "      <td>NaN</td>\n",
              "      <td>NaN</td>\n",
              "      <td>2439</td>\n",
              "      <td>6994688</td>\n",
              "      <td>https://www.camara.leg.br/cota-parlamentar/not...</td>\n",
              "    </tr>\n",
              "    <tr>\n",
              "      <th>...</th>\n",
              "      <td>...</td>\n",
              "      <td>...</td>\n",
              "      <td>...</td>\n",
              "      <td>...</td>\n",
              "      <td>...</td>\n",
              "      <td>...</td>\n",
              "      <td>...</td>\n",
              "      <td>...</td>\n",
              "      <td>...</td>\n",
              "      <td>...</td>\n",
              "      <td>...</td>\n",
              "      <td>...</td>\n",
              "      <td>...</td>\n",
              "      <td>...</td>\n",
              "      <td>...</td>\n",
              "      <td>...</td>\n",
              "      <td>...</td>\n",
              "      <td>...</td>\n",
              "      <td>...</td>\n",
              "      <td>...</td>\n",
              "      <td>...</td>\n",
              "    </tr>\n",
              "    <tr>\n",
              "      <th>2020-01-01</th>\n",
              "      <td>Enéias Reis</td>\n",
              "      <td>9.450581e+10</td>\n",
              "      <td>207309</td>\n",
              "      <td>533</td>\n",
              "      <td>2019</td>\n",
              "      <td>MG</td>\n",
              "      <td>UNIÃO</td>\n",
              "      <td>56</td>\n",
              "      <td>10</td>\n",
              "      <td>TELEFONIA</td>\n",
              "      <td>...</td>\n",
              "      <td>0</td>\n",
              "      <td>NaN</td>\n",
              "      <td>NaN</td>\n",
              "      <td>1669485</td>\n",
              "      <td>NaN</td>\n",
              "      <td>NaN</td>\n",
              "      <td>NaN</td>\n",
              "      <td>3446</td>\n",
              "      <td>6999178</td>\n",
              "      <td>NaN</td>\n",
              "    </tr>\n",
              "    <tr>\n",
              "      <th>2020-01-03</th>\n",
              "      <td>Fernando Borja</td>\n",
              "      <td>5.267385e+10</td>\n",
              "      <td>212504</td>\n",
              "      <td>547</td>\n",
              "      <td>2019</td>\n",
              "      <td>MG</td>\n",
              "      <td>AVANTE</td>\n",
              "      <td>56</td>\n",
              "      <td>5</td>\n",
              "      <td>DIVULGAÇÃO DA ATIVIDADE PARLAMENTAR.</td>\n",
              "      <td>...</td>\n",
              "      <td>0</td>\n",
              "      <td>NaN</td>\n",
              "      <td>NaN</td>\n",
              "      <td>1675071</td>\n",
              "      <td>NaN</td>\n",
              "      <td>NaN</td>\n",
              "      <td>NaN</td>\n",
              "      <td>3462</td>\n",
              "      <td>7012146</td>\n",
              "      <td>https://www.camara.leg.br/cota-parlamentar/doc...</td>\n",
              "    </tr>\n",
              "    <tr>\n",
              "      <th>2020-02-28</th>\n",
              "      <td>Fernando Borja</td>\n",
              "      <td>5.267385e+10</td>\n",
              "      <td>212504</td>\n",
              "      <td>547</td>\n",
              "      <td>2019</td>\n",
              "      <td>MG</td>\n",
              "      <td>AVANTE</td>\n",
              "      <td>56</td>\n",
              "      <td>10</td>\n",
              "      <td>TELEFONIA</td>\n",
              "      <td>...</td>\n",
              "      <td>0</td>\n",
              "      <td>NaN</td>\n",
              "      <td>NaN</td>\n",
              "      <td>0</td>\n",
              "      <td>0</td>\n",
              "      <td>NaN</td>\n",
              "      <td>NaN</td>\n",
              "      <td>3462</td>\n",
              "      <td>0</td>\n",
              "      <td>NaN</td>\n",
              "    </tr>\n",
              "    <tr>\n",
              "      <th>2020-01-08</th>\n",
              "      <td>Dr. Gonçalo</td>\n",
              "      <td>5.461154e+09</td>\n",
              "      <td>212625</td>\n",
              "      <td>548</td>\n",
              "      <td>2019</td>\n",
              "      <td>MA</td>\n",
              "      <td>REPUBLICANOS</td>\n",
              "      <td>56</td>\n",
              "      <td>4</td>\n",
              "      <td>CONSULTORIAS, PESQUISAS E TRABALHOS TÉCNICOS.</td>\n",
              "      <td>...</td>\n",
              "      <td>0</td>\n",
              "      <td>NaN</td>\n",
              "      <td>NaN</td>\n",
              "      <td>1666704</td>\n",
              "      <td>NaN</td>\n",
              "      <td>NaN</td>\n",
              "      <td>NaN</td>\n",
              "      <td>3463</td>\n",
              "      <td>6993447</td>\n",
              "      <td>https://www.camara.leg.br/cota-parlamentar/doc...</td>\n",
              "    </tr>\n",
              "    <tr>\n",
              "      <th>2020-01-31</th>\n",
              "      <td>Marcão Gomes</td>\n",
              "      <td>9.300886e+09</td>\n",
              "      <td>212749</td>\n",
              "      <td>551</td>\n",
              "      <td>2019</td>\n",
              "      <td>RJ</td>\n",
              "      <td>PL</td>\n",
              "      <td>56</td>\n",
              "      <td>120</td>\n",
              "      <td>LOCAÇÃO OU FRETAMENTO DE VEÍCULOS AUTOMOTORES</td>\n",
              "      <td>...</td>\n",
              "      <td>0</td>\n",
              "      <td>NaN</td>\n",
              "      <td>NaN</td>\n",
              "      <td>1680650</td>\n",
              "      <td>NaN</td>\n",
              "      <td>NaN</td>\n",
              "      <td>NaN</td>\n",
              "      <td>3465</td>\n",
              "      <td>7022622</td>\n",
              "      <td>https://www.camara.leg.br/cota-parlamentar/doc...</td>\n",
              "    </tr>\n",
              "  </tbody>\n",
              "</table>\n",
              "<p>1898 rows × 31 columns</p>\n",
              "</div>\n",
              "      <button class=\"colab-df-convert\" onclick=\"convertToInteractive('df-fbbaae06-056c-4252-bec7-fdc4b455aaaa')\"\n",
              "              title=\"Convert this dataframe to an interactive table.\"\n",
              "              style=\"display:none;\">\n",
              "\n",
              "  <svg xmlns=\"http://www.w3.org/2000/svg\" height=\"24px\"viewBox=\"0 0 24 24\"\n",
              "       width=\"24px\">\n",
              "    <path d=\"M0 0h24v24H0V0z\" fill=\"none\"/>\n",
              "    <path d=\"M18.56 5.44l.94 2.06.94-2.06 2.06-.94-2.06-.94-.94-2.06-.94 2.06-2.06.94zm-11 1L8.5 8.5l.94-2.06 2.06-.94-2.06-.94L8.5 2.5l-.94 2.06-2.06.94zm10 10l.94 2.06.94-2.06 2.06-.94-2.06-.94-.94-2.06-.94 2.06-2.06.94z\"/><path d=\"M17.41 7.96l-1.37-1.37c-.4-.4-.92-.59-1.43-.59-.52 0-1.04.2-1.43.59L10.3 9.45l-7.72 7.72c-.78.78-.78 2.05 0 2.83L4 21.41c.39.39.9.59 1.41.59.51 0 1.02-.2 1.41-.59l7.78-7.78 2.81-2.81c.8-.78.8-2.07 0-2.86zM5.41 20L4 18.59l7.72-7.72 1.47 1.35L5.41 20z\"/>\n",
              "  </svg>\n",
              "      </button>\n",
              "\n",
              "\n",
              "\n",
              "    <div id=\"df-237e1ace-1bb9-4330-8f70-3302257ccbc0\">\n",
              "      <button class=\"colab-df-quickchart\" onclick=\"quickchart('df-237e1ace-1bb9-4330-8f70-3302257ccbc0')\"\n",
              "              title=\"Suggest charts.\"\n",
              "              style=\"display:none;\">\n",
              "\n",
              "<svg xmlns=\"http://www.w3.org/2000/svg\" height=\"24px\"viewBox=\"0 0 24 24\"\n",
              "     width=\"24px\">\n",
              "    <g>\n",
              "        <path d=\"M19 3H5c-1.1 0-2 .9-2 2v14c0 1.1.9 2 2 2h14c1.1 0 2-.9 2-2V5c0-1.1-.9-2-2-2zM9 17H7v-7h2v7zm4 0h-2V7h2v10zm4 0h-2v-4h2v4z\"/>\n",
              "    </g>\n",
              "</svg>\n",
              "      </button>\n",
              "    </div>\n",
              "\n",
              "<style>\n",
              "  .colab-df-quickchart {\n",
              "    background-color: #E8F0FE;\n",
              "    border: none;\n",
              "    border-radius: 50%;\n",
              "    cursor: pointer;\n",
              "    display: none;\n",
              "    fill: #1967D2;\n",
              "    height: 32px;\n",
              "    padding: 0 0 0 0;\n",
              "    width: 32px;\n",
              "  }\n",
              "\n",
              "  .colab-df-quickchart:hover {\n",
              "    background-color: #E2EBFA;\n",
              "    box-shadow: 0px 1px 2px rgba(60, 64, 67, 0.3), 0px 1px 3px 1px rgba(60, 64, 67, 0.15);\n",
              "    fill: #174EA6;\n",
              "  }\n",
              "\n",
              "  [theme=dark] .colab-df-quickchart {\n",
              "    background-color: #3B4455;\n",
              "    fill: #D2E3FC;\n",
              "  }\n",
              "\n",
              "  [theme=dark] .colab-df-quickchart:hover {\n",
              "    background-color: #434B5C;\n",
              "    box-shadow: 0px 1px 3px 1px rgba(0, 0, 0, 0.15);\n",
              "    filter: drop-shadow(0px 1px 2px rgba(0, 0, 0, 0.3));\n",
              "    fill: #FFFFFF;\n",
              "  }\n",
              "</style>\n",
              "\n",
              "    <script>\n",
              "      async function quickchart(key) {\n",
              "        const containerElement = document.querySelector('#' + key);\n",
              "        const charts = await google.colab.kernel.invokeFunction(\n",
              "            'suggestCharts', [key], {});\n",
              "      }\n",
              "    </script>\n",
              "\n",
              "      <script>\n",
              "\n",
              "function displayQuickchartButton(domScope) {\n",
              "  let quickchartButtonEl =\n",
              "    domScope.querySelector('#df-237e1ace-1bb9-4330-8f70-3302257ccbc0 button.colab-df-quickchart');\n",
              "  quickchartButtonEl.style.display =\n",
              "    google.colab.kernel.accessAllowed ? 'block' : 'none';\n",
              "}\n",
              "\n",
              "        displayQuickchartButton(document);\n",
              "      </script>\n",
              "      <style>\n",
              "    .colab-df-container {\n",
              "      display:flex;\n",
              "      flex-wrap:wrap;\n",
              "      gap: 12px;\n",
              "    }\n",
              "\n",
              "    .colab-df-convert {\n",
              "      background-color: #E8F0FE;\n",
              "      border: none;\n",
              "      border-radius: 50%;\n",
              "      cursor: pointer;\n",
              "      display: none;\n",
              "      fill: #1967D2;\n",
              "      height: 32px;\n",
              "      padding: 0 0 0 0;\n",
              "      width: 32px;\n",
              "    }\n",
              "\n",
              "    .colab-df-convert:hover {\n",
              "      background-color: #E2EBFA;\n",
              "      box-shadow: 0px 1px 2px rgba(60, 64, 67, 0.3), 0px 1px 3px 1px rgba(60, 64, 67, 0.15);\n",
              "      fill: #174EA6;\n",
              "    }\n",
              "\n",
              "    [theme=dark] .colab-df-convert {\n",
              "      background-color: #3B4455;\n",
              "      fill: #D2E3FC;\n",
              "    }\n",
              "\n",
              "    [theme=dark] .colab-df-convert:hover {\n",
              "      background-color: #434B5C;\n",
              "      box-shadow: 0px 1px 3px 1px rgba(0, 0, 0, 0.15);\n",
              "      filter: drop-shadow(0px 1px 2px rgba(0, 0, 0, 0.3));\n",
              "      fill: #FFFFFF;\n",
              "    }\n",
              "  </style>\n",
              "\n",
              "      <script>\n",
              "        const buttonEl =\n",
              "          document.querySelector('#df-fbbaae06-056c-4252-bec7-fdc4b455aaaa button.colab-df-convert');\n",
              "        buttonEl.style.display =\n",
              "          google.colab.kernel.accessAllowed ? 'block' : 'none';\n",
              "\n",
              "        async function convertToInteractive(key) {\n",
              "          const element = document.querySelector('#df-fbbaae06-056c-4252-bec7-fdc4b455aaaa');\n",
              "          const dataTable =\n",
              "            await google.colab.kernel.invokeFunction('convertToInteractive',\n",
              "                                                     [key], {});\n",
              "          if (!dataTable) return;\n",
              "\n",
              "          const docLinkHtml = 'Like what you see? Visit the ' +\n",
              "            '<a target=\"_blank\" href=https://colab.research.google.com/notebooks/data_table.ipynb>data table notebook</a>'\n",
              "            + ' to learn more about interactive tables.';\n",
              "          element.innerHTML = '';\n",
              "          dataTable['output_type'] = 'display_data';\n",
              "          await google.colab.output.renderOutput(dataTable, element);\n",
              "          const docLink = document.createElement('div');\n",
              "          docLink.innerHTML = docLinkHtml;\n",
              "          element.appendChild(docLink);\n",
              "        }\n",
              "      </script>\n",
              "    </div>\n",
              "  </div>\n"
            ]
          },
          "metadata": {},
          "execution_count": 26
        }
      ],
      "source": [
        "df_reimbursements.set_index(\"datEmissao\").loc[\"2020-01-01\":\"2020-04-30\"]"
      ]
    },
    {
      "cell_type": "markdown",
      "id": "2cf004ba",
      "metadata": {
        "id": "2cf004ba"
      },
      "source": [
        "Outras coisas são possíveis, como encontrar o dia da semana de cada uma dessas datas, calcular a média móvel, calcular quantos anos se passaram, ou agrupar os dados por janelas de tempo."
      ]
    },
    {
      "cell_type": "markdown",
      "id": "e8bb3954",
      "metadata": {
        "id": "e8bb3954"
      },
      "source": [
        "#### Completando, substituindo e reformatando"
      ]
    },
    {
      "cell_type": "code",
      "execution_count": 27,
      "id": "72548aa5",
      "metadata": {
        "id": "72548aa5"
      },
      "outputs": [],
      "source": [
        "# vamos trocar qualquer caracter que não seja um dígito número por '', essa operação remove os dígitos\n",
        "df_reimbursements[\"txtCNPJCPF\"] = df_reimbursements[\"txtCNPJCPF\"].str.replace(r'\\D', '', regex=True)"
      ]
    },
    {
      "cell_type": "code",
      "execution_count": 28,
      "id": "7c31b966",
      "metadata": {
        "id": "7c31b966",
        "outputId": "60a3b2b7-a76b-40dc-accd-685da8d91262",
        "colab": {
          "base_uri": "https://localhost:8080/"
        }
      },
      "outputs": [
        {
          "output_type": "execute_result",
          "data": {
            "text/plain": [
              "array(['4', '0', '1', '3', '2'], dtype=object)"
            ]
          },
          "metadata": {},
          "execution_count": 28
        }
      ],
      "source": [
        "# Este dado representa o tipo de documento do fiscal –\n",
        "# 0 (Zero), para Nota Fiscal; 1 (um), para Recibo; e 2, para Despesa no Exterior.\n",
        "\n",
        "df_reimbursements.indTipoDocumento.unique()"
      ]
    },
    {
      "cell_type": "code",
      "execution_count": 29,
      "id": "5166905a",
      "metadata": {
        "id": "5166905a",
        "outputId": "0d47619c-37db-433e-9aa0-e1d7a4a9f678",
        "colab": {
          "base_uri": "https://localhost:8080/"
        }
      },
      "outputs": [
        {
          "output_type": "execute_result",
          "data": {
            "text/plain": [
              "{'0': 'nota_fiscal', '1': 'recibo', '2': 'despesa_exterior', '4': None}"
            ]
          },
          "metadata": {},
          "execution_count": 29
        }
      ],
      "source": [
        "converters = {\n",
        "    \"0\": 'nota_fiscal',\n",
        "    \"1\": 'recibo',\n",
        "    \"2\": 'despesa_exterior',\n",
        "    \"4\": None\n",
        "}\n",
        "\n",
        "converters"
      ]
    },
    {
      "cell_type": "code",
      "execution_count": 30,
      "id": "0b7a82b2",
      "metadata": {
        "id": "0b7a82b2"
      },
      "outputs": [],
      "source": [
        "df_reimbursements.indTipoDocumento.replace(converters, inplace=True)"
      ]
    },
    {
      "cell_type": "code",
      "execution_count": 31,
      "id": "f521b74b",
      "metadata": {
        "id": "f521b74b",
        "outputId": "eacba358-30a2-4df7-cebc-36a4ba77848e",
        "colab": {
          "base_uri": "https://localhost:8080/"
        }
      },
      "outputs": [
        {
          "output_type": "execute_result",
          "data": {
            "text/plain": [
              "array([None, 'nota_fiscal', 'recibo', '3', 'despesa_exterior'],\n",
              "      dtype=object)"
            ]
          },
          "metadata": {},
          "execution_count": 31
        }
      ],
      "source": [
        "df_reimbursements.indTipoDocumento.unique()"
      ]
    },
    {
      "cell_type": "markdown",
      "id": "644512e6",
      "metadata": {
        "id": "644512e6"
      },
      "source": [
        "### Aula 07: Dados da Receita Federal"
      ]
    },
    {
      "cell_type": "markdown",
      "id": "3e91ef9d",
      "metadata": {
        "id": "3e91ef9d"
      },
      "source": [
        "Referencias:\n",
        "\n",
        "- http://receita.economia.gov.br/sobre/acordos-e-convenios/compartilhamento-de-bases-de-dados-2013-decreto-no-8-789-2016/leiaute-das-bases/dados-da-base-cnpj\n",
        "- http://200.152.38.155/CNPJ/LAYOUT_DADOS_ABERTOS_CNPJ.pdf\n",
        "\n",
        "\n",
        "situation (Situação cadastral)\n",
        "\n",
        "    1 – NULA: o CNPJ torna-se inválido, seja por inconformidade de dados, fraudes ou outros motivos.\n",
        "    2 – ATIVA: significa que a empresa está em dia com todas as suas pendências, não há nenhuma irregularidade e os pagamentos estão em dia;\n",
        "    3 – SUSPENSA: a empresa tem pendências com a Receita Federal, não cumpriu com suas obrigações ou pagamentos ou está sendo investigada por possível fraude;\n",
        "    4 – INAPTA: a empresa está a dois anos ou mais com suspensão e não apresentou os devidos dados contábeis;\n",
        "    8 – BAIXADA: a empresa foi extinta, seja por solicitação dos sócios ou por ação da Receita;\n",
        "    \n",
        "    \n",
        "situation_date (Data da situação cadastral): DATA DO EVENTO DA SITUACAO CADASTRAL"
      ]
    },
    {
      "cell_type": "code",
      "source": [
        "import requests\n",
        "\n",
        "url = \"https://serenata-de-amor-data.nyc3.digitaloceanspaces.com/2019-11-19-companies.csv.xz\"\n",
        "\n",
        "# fazendo o download do conteúdo do arquivo\n",
        "r = requests.get(url)\n",
        "\n",
        "# abrindo um arquivo no seu computador\n",
        "file = open(\"2019-11-19-companies.csv.xz\", \"wb\")\n",
        "\n",
        "# escrever o conteúdo\n",
        "file.write(r.content)\n",
        "file.close()"
      ],
      "metadata": {
        "id": "M4fjkB8Tw1gF"
      },
      "id": "M4fjkB8Tw1gF",
      "execution_count": 32,
      "outputs": []
    },
    {
      "cell_type": "code",
      "execution_count": 33,
      "id": "8bd54633",
      "metadata": {
        "id": "8bd54633",
        "outputId": "24fa58c8-ffc2-447d-857e-703ea857fd19",
        "colab": {
          "base_uri": "https://localhost:8080/",
          "height": 278
        }
      },
      "outputs": [
        {
          "output_type": "execute_result",
          "data": {
            "text/plain": [
              "             cnpj                                           partners  \\\n",
              "0  08771105000156  [{\"id\": 2, \"name\": \"MARLY MORAIS DA GAMA\", \"cn...   \n",
              "\n",
              "   secondary_activities  latitude  longitude  opening  main_activity  \\\n",
              "0                   NaN       NaN        NaN      NaN            NaN   \n",
              "\n",
              "  neighborhood  share_capital    zip_code  ...  simples  size  \\\n",
              "0      REALEZA        10000.0  36900000.0  ...        0     1   \n",
              "\n",
              "   administrative_person_category                                name  \\\n",
              "0                              49  WERNER COMERCIAL DE ALIMENTOS LTDA   \n",
              "\n",
              "  situation special_situation phone type state last_updated  \n",
              "0         2               NaN   NaN  NaN    MG          NaN  \n",
              "\n",
              "[1 rows x 43 columns]"
            ],
            "text/html": [
              "\n",
              "\n",
              "  <div id=\"df-973272f8-38cd-47eb-a27d-2b5b59a8c0b6\">\n",
              "    <div class=\"colab-df-container\">\n",
              "      <div>\n",
              "<style scoped>\n",
              "    .dataframe tbody tr th:only-of-type {\n",
              "        vertical-align: middle;\n",
              "    }\n",
              "\n",
              "    .dataframe tbody tr th {\n",
              "        vertical-align: top;\n",
              "    }\n",
              "\n",
              "    .dataframe thead th {\n",
              "        text-align: right;\n",
              "    }\n",
              "</style>\n",
              "<table border=\"1\" class=\"dataframe\">\n",
              "  <thead>\n",
              "    <tr style=\"text-align: right;\">\n",
              "      <th></th>\n",
              "      <th>cnpj</th>\n",
              "      <th>partners</th>\n",
              "      <th>secondary_activities</th>\n",
              "      <th>latitude</th>\n",
              "      <th>longitude</th>\n",
              "      <th>opening</th>\n",
              "      <th>main_activity</th>\n",
              "      <th>neighborhood</th>\n",
              "      <th>share_capital</th>\n",
              "      <th>zip_code</th>\n",
              "      <th>...</th>\n",
              "      <th>simples</th>\n",
              "      <th>size</th>\n",
              "      <th>administrative_person_category</th>\n",
              "      <th>name</th>\n",
              "      <th>situation</th>\n",
              "      <th>special_situation</th>\n",
              "      <th>phone</th>\n",
              "      <th>type</th>\n",
              "      <th>state</th>\n",
              "      <th>last_updated</th>\n",
              "    </tr>\n",
              "  </thead>\n",
              "  <tbody>\n",
              "    <tr>\n",
              "      <th>0</th>\n",
              "      <td>08771105000156</td>\n",
              "      <td>[{\"id\": 2, \"name\": \"MARLY MORAIS DA GAMA\", \"cn...</td>\n",
              "      <td>NaN</td>\n",
              "      <td>NaN</td>\n",
              "      <td>NaN</td>\n",
              "      <td>NaN</td>\n",
              "      <td>NaN</td>\n",
              "      <td>REALEZA</td>\n",
              "      <td>10000.0</td>\n",
              "      <td>36900000.0</td>\n",
              "      <td>...</td>\n",
              "      <td>0</td>\n",
              "      <td>1</td>\n",
              "      <td>49</td>\n",
              "      <td>WERNER COMERCIAL DE ALIMENTOS LTDA</td>\n",
              "      <td>2</td>\n",
              "      <td>NaN</td>\n",
              "      <td>NaN</td>\n",
              "      <td>NaN</td>\n",
              "      <td>MG</td>\n",
              "      <td>NaN</td>\n",
              "    </tr>\n",
              "  </tbody>\n",
              "</table>\n",
              "<p>1 rows × 43 columns</p>\n",
              "</div>\n",
              "      <button class=\"colab-df-convert\" onclick=\"convertToInteractive('df-973272f8-38cd-47eb-a27d-2b5b59a8c0b6')\"\n",
              "              title=\"Convert this dataframe to an interactive table.\"\n",
              "              style=\"display:none;\">\n",
              "\n",
              "  <svg xmlns=\"http://www.w3.org/2000/svg\" height=\"24px\"viewBox=\"0 0 24 24\"\n",
              "       width=\"24px\">\n",
              "    <path d=\"M0 0h24v24H0V0z\" fill=\"none\"/>\n",
              "    <path d=\"M18.56 5.44l.94 2.06.94-2.06 2.06-.94-2.06-.94-.94-2.06-.94 2.06-2.06.94zm-11 1L8.5 8.5l.94-2.06 2.06-.94-2.06-.94L8.5 2.5l-.94 2.06-2.06.94zm10 10l.94 2.06.94-2.06 2.06-.94-2.06-.94-.94-2.06-.94 2.06-2.06.94z\"/><path d=\"M17.41 7.96l-1.37-1.37c-.4-.4-.92-.59-1.43-.59-.52 0-1.04.2-1.43.59L10.3 9.45l-7.72 7.72c-.78.78-.78 2.05 0 2.83L4 21.41c.39.39.9.59 1.41.59.51 0 1.02-.2 1.41-.59l7.78-7.78 2.81-2.81c.8-.78.8-2.07 0-2.86zM5.41 20L4 18.59l7.72-7.72 1.47 1.35L5.41 20z\"/>\n",
              "  </svg>\n",
              "      </button>\n",
              "\n",
              "\n",
              "\n",
              "    <div id=\"df-daf72e43-3fb5-4fa7-b596-bb98d96f2327\">\n",
              "      <button class=\"colab-df-quickchart\" onclick=\"quickchart('df-daf72e43-3fb5-4fa7-b596-bb98d96f2327')\"\n",
              "              title=\"Suggest charts.\"\n",
              "              style=\"display:none;\">\n",
              "\n",
              "<svg xmlns=\"http://www.w3.org/2000/svg\" height=\"24px\"viewBox=\"0 0 24 24\"\n",
              "     width=\"24px\">\n",
              "    <g>\n",
              "        <path d=\"M19 3H5c-1.1 0-2 .9-2 2v14c0 1.1.9 2 2 2h14c1.1 0 2-.9 2-2V5c0-1.1-.9-2-2-2zM9 17H7v-7h2v7zm4 0h-2V7h2v10zm4 0h-2v-4h2v4z\"/>\n",
              "    </g>\n",
              "</svg>\n",
              "      </button>\n",
              "    </div>\n",
              "\n",
              "<style>\n",
              "  .colab-df-quickchart {\n",
              "    background-color: #E8F0FE;\n",
              "    border: none;\n",
              "    border-radius: 50%;\n",
              "    cursor: pointer;\n",
              "    display: none;\n",
              "    fill: #1967D2;\n",
              "    height: 32px;\n",
              "    padding: 0 0 0 0;\n",
              "    width: 32px;\n",
              "  }\n",
              "\n",
              "  .colab-df-quickchart:hover {\n",
              "    background-color: #E2EBFA;\n",
              "    box-shadow: 0px 1px 2px rgba(60, 64, 67, 0.3), 0px 1px 3px 1px rgba(60, 64, 67, 0.15);\n",
              "    fill: #174EA6;\n",
              "  }\n",
              "\n",
              "  [theme=dark] .colab-df-quickchart {\n",
              "    background-color: #3B4455;\n",
              "    fill: #D2E3FC;\n",
              "  }\n",
              "\n",
              "  [theme=dark] .colab-df-quickchart:hover {\n",
              "    background-color: #434B5C;\n",
              "    box-shadow: 0px 1px 3px 1px rgba(0, 0, 0, 0.15);\n",
              "    filter: drop-shadow(0px 1px 2px rgba(0, 0, 0, 0.3));\n",
              "    fill: #FFFFFF;\n",
              "  }\n",
              "</style>\n",
              "\n",
              "    <script>\n",
              "      async function quickchart(key) {\n",
              "        const containerElement = document.querySelector('#' + key);\n",
              "        const charts = await google.colab.kernel.invokeFunction(\n",
              "            'suggestCharts', [key], {});\n",
              "      }\n",
              "    </script>\n",
              "\n",
              "      <script>\n",
              "\n",
              "function displayQuickchartButton(domScope) {\n",
              "  let quickchartButtonEl =\n",
              "    domScope.querySelector('#df-daf72e43-3fb5-4fa7-b596-bb98d96f2327 button.colab-df-quickchart');\n",
              "  quickchartButtonEl.style.display =\n",
              "    google.colab.kernel.accessAllowed ? 'block' : 'none';\n",
              "}\n",
              "\n",
              "        displayQuickchartButton(document);\n",
              "      </script>\n",
              "      <style>\n",
              "    .colab-df-container {\n",
              "      display:flex;\n",
              "      flex-wrap:wrap;\n",
              "      gap: 12px;\n",
              "    }\n",
              "\n",
              "    .colab-df-convert {\n",
              "      background-color: #E8F0FE;\n",
              "      border: none;\n",
              "      border-radius: 50%;\n",
              "      cursor: pointer;\n",
              "      display: none;\n",
              "      fill: #1967D2;\n",
              "      height: 32px;\n",
              "      padding: 0 0 0 0;\n",
              "      width: 32px;\n",
              "    }\n",
              "\n",
              "    .colab-df-convert:hover {\n",
              "      background-color: #E2EBFA;\n",
              "      box-shadow: 0px 1px 2px rgba(60, 64, 67, 0.3), 0px 1px 3px 1px rgba(60, 64, 67, 0.15);\n",
              "      fill: #174EA6;\n",
              "    }\n",
              "\n",
              "    [theme=dark] .colab-df-convert {\n",
              "      background-color: #3B4455;\n",
              "      fill: #D2E3FC;\n",
              "    }\n",
              "\n",
              "    [theme=dark] .colab-df-convert:hover {\n",
              "      background-color: #434B5C;\n",
              "      box-shadow: 0px 1px 3px 1px rgba(0, 0, 0, 0.15);\n",
              "      filter: drop-shadow(0px 1px 2px rgba(0, 0, 0, 0.3));\n",
              "      fill: #FFFFFF;\n",
              "    }\n",
              "  </style>\n",
              "\n",
              "      <script>\n",
              "        const buttonEl =\n",
              "          document.querySelector('#df-973272f8-38cd-47eb-a27d-2b5b59a8c0b6 button.colab-df-convert');\n",
              "        buttonEl.style.display =\n",
              "          google.colab.kernel.accessAllowed ? 'block' : 'none';\n",
              "\n",
              "        async function convertToInteractive(key) {\n",
              "          const element = document.querySelector('#df-973272f8-38cd-47eb-a27d-2b5b59a8c0b6');\n",
              "          const dataTable =\n",
              "            await google.colab.kernel.invokeFunction('convertToInteractive',\n",
              "                                                     [key], {});\n",
              "          if (!dataTable) return;\n",
              "\n",
              "          const docLinkHtml = 'Like what you see? Visit the ' +\n",
              "            '<a target=\"_blank\" href=https://colab.research.google.com/notebooks/data_table.ipynb>data table notebook</a>'\n",
              "            + ' to learn more about interactive tables.';\n",
              "          element.innerHTML = '';\n",
              "          dataTable['output_type'] = 'display_data';\n",
              "          await google.colab.output.renderOutput(dataTable, element);\n",
              "          const docLink = document.createElement('div');\n",
              "          docLink.innerHTML = docLinkHtml;\n",
              "          element.appendChild(docLink);\n",
              "        }\n",
              "      </script>\n",
              "    </div>\n",
              "  </div>\n"
            ]
          },
          "metadata": {},
          "execution_count": 33
        }
      ],
      "source": [
        "DTYPE = {\n",
        "    'cnpj': str,\n",
        "}\n",
        "\n",
        "df_empresas = pd.read_csv(\n",
        "    '2019-11-19-companies.csv.xz', # .xz é um arquivo compactado\n",
        "    compression='xz',\n",
        "    dtype=DTYPE,\n",
        ")\n",
        "df_empresas.head(1)"
      ]
    },
    {
      "cell_type": "code",
      "execution_count": 34,
      "id": "b37a6a71",
      "metadata": {
        "id": "b37a6a71"
      },
      "outputs": [],
      "source": [
        "df_empresas['situation_date'] = pd.to_datetime(\n",
        "    df_empresas['situation_date'],\n",
        "    format=\"%Y-%m-%d\"\n",
        ")"
      ]
    },
    {
      "cell_type": "code",
      "execution_count": 35,
      "id": "fe66149b",
      "metadata": {
        "id": "fe66149b"
      },
      "outputs": [],
      "source": [
        "df_empresas[\"cnpj\"] = df_empresas[\"cnpj\"].str.replace(r'\\D', '', regex=True)"
      ]
    },
    {
      "cell_type": "markdown",
      "id": "ce90ab8d",
      "metadata": {
        "id": "ce90ab8d"
      },
      "source": [
        "### Aula 8: Receita Federal e CEAP"
      ]
    },
    {
      "cell_type": "code",
      "execution_count": 36,
      "id": "7b86ed96",
      "metadata": {
        "id": "7b86ed96"
      },
      "outputs": [],
      "source": [
        "df_final = df_reimbursements.merge(\n",
        "    df_empresas,\n",
        "    how='left',\n",
        "    left_on='txtCNPJCPF',\n",
        "    right_on='cnpj'\n",
        ")"
      ]
    },
    {
      "cell_type": "markdown",
      "id": "f4f63b07",
      "metadata": {
        "id": "f4f63b07"
      },
      "source": [
        "### Exportando o resultado"
      ]
    },
    {
      "cell_type": "code",
      "execution_count": 37,
      "id": "8cd4db3d",
      "metadata": {
        "id": "8cd4db3d"
      },
      "outputs": [],
      "source": [
        "df_reimbursements.to_csv('reembolso-2019-completo.csv')"
      ]
    }
  ],
  "metadata": {
    "kernelspec": {
      "display_name": "Python 3 (ipykernel)",
      "language": "python",
      "name": "python3"
    },
    "language_info": {
      "codemirror_mode": {
        "name": "ipython",
        "version": 3
      },
      "file_extension": ".py",
      "mimetype": "text/x-python",
      "name": "python",
      "nbconvert_exporter": "python",
      "pygments_lexer": "ipython3",
      "version": "3.8.2"
    },
    "toc": {
      "base_numbering": 1,
      "nav_menu": {},
      "number_sections": true,
      "sideBar": true,
      "skip_h1_title": false,
      "title_cell": "Table of Contents",
      "title_sidebar": "Contents",
      "toc_cell": false,
      "toc_position": {
        "height": "calc(100% - 180px)",
        "left": "10px",
        "top": "150px",
        "width": "165px"
      },
      "toc_section_display": true,
      "toc_window_display": true
    },
    "colab": {
      "provenance": []
    }
  },
  "nbformat": 4,
  "nbformat_minor": 5
}