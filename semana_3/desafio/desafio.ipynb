{
  "cells": [
    {
      "cell_type": "markdown",
      "id": "4914c7df",
      "metadata": {
        "id": "4914c7df"
      },
      "source": [
        "# Desafio\n",
        "\n",
        "Tente se desafiar um pouco fazendo os desafios extras. Qualquer dúvida, é só falar no grupo, estamos por aqui o/"
      ]
    },
    {
      "cell_type": "markdown",
      "id": "4ac55729",
      "metadata": {
        "id": "4ac55729"
      },
      "source": [
        "### 1) Acesse a api da camara, e recupere os reembolsos do ano de 2018"
      ]
    },
    {
      "cell_type": "code",
      "source": [
        "url = f\"https://www.camara.leg.br/cotas/Ano-2018.csv.zip\""
      ],
      "metadata": {
        "id": "oyOvSlMhgJwc"
      },
      "id": "oyOvSlMhgJwc",
      "execution_count": 5,
      "outputs": []
    },
    {
      "cell_type": "code",
      "execution_count": 6,
      "id": "e335c8c7",
      "metadata": {
        "id": "e335c8c7"
      },
      "outputs": [],
      "source": [
        "import requests\n",
        "\n",
        "# fazendo o download do conteúdo do arquivo\n",
        "r = requests.get(url)"
      ]
    },
    {
      "cell_type": "code",
      "source": [
        "# Salvando o arquivo\n",
        "with open(f\"Ano-2018.csv.zip\", \"wb\") as code:\n",
        "    code.write(r.content)"
      ],
      "metadata": {
        "id": "cy6MfT-zg5M1"
      },
      "id": "cy6MfT-zg5M1",
      "execution_count": 11,
      "outputs": []
    },
    {
      "cell_type": "code",
      "source": [
        "from zipfile import ZipFile"
      ],
      "metadata": {
        "id": "uQYoegiljf11"
      },
      "id": "uQYoegiljf11",
      "execution_count": 12,
      "outputs": []
    },
    {
      "cell_type": "code",
      "source": [
        "# Descompactando arquivo\n",
        "arquivo = ZipFile(f\"Ano-2018.csv.zip\", \"r\")\n",
        "\n",
        "lista_itens_arquivo = arquivo.namelist()\n",
        "\n",
        "arquivo.extract(member=lista_itens_arquivo[0], path=f\"reembolso-2018\")"
      ],
      "metadata": {
        "id": "-6lT48oKi8u7"
      },
      "id": "-6lT48oKi8u7",
      "execution_count": null,
      "outputs": []
    },
    {
      "cell_type": "code",
      "source": [
        "# Para quem quer extrair todo o conteúdo do arquivo zip\n",
        "#arquivo.extractall(path=f\"reembolso-2018\")"
      ],
      "metadata": {
        "id": "psKdaKV5mVWL"
      },
      "id": "psKdaKV5mVWL",
      "execution_count": 26,
      "outputs": []
    },
    {
      "cell_type": "code",
      "source": [
        "arquivo.close()"
      ],
      "metadata": {
        "id": "fy52v837mgXj"
      },
      "id": "fy52v837mgXj",
      "execution_count": 27,
      "outputs": []
    },
    {
      "cell_type": "markdown",
      "id": "e7244afa",
      "metadata": {
        "id": "e7244afa"
      },
      "source": [
        "### 2) Leia o Arquivo csv"
      ]
    },
    {
      "cell_type": "code",
      "execution_count": 8,
      "id": "55880b49",
      "metadata": {
        "id": "55880b49",
        "scrolled": true
      },
      "outputs": [],
      "source": [
        "import pandas as pd"
      ]
    },
    {
      "cell_type": "code",
      "source": [
        "pd.set_option(\"display.max_columns\", None)"
      ],
      "metadata": {
        "id": "AgmDF1PgnaLr"
      },
      "id": "AgmDF1PgnaLr",
      "execution_count": 29,
      "outputs": []
    },
    {
      "cell_type": "code",
      "source": [
        "# Lendo o arquivo CSV\n",
        "df_completo = pd.read_csv(\"reembolso-2018/Ano-2018.csv\", sep=\";\")"
      ],
      "metadata": {
        "id": "-d0O6rnpgxF9"
      },
      "id": "-d0O6rnpgxF9",
      "execution_count": 30,
      "outputs": []
    },
    {
      "cell_type": "markdown",
      "id": "04ac3026",
      "metadata": {
        "id": "04ac3026"
      },
      "source": [
        "### 3) Visualize 10 linhas aleatórias"
      ]
    },
    {
      "cell_type": "code",
      "execution_count": 36,
      "id": "fbde4877",
      "metadata": {
        "id": "fbde4877",
        "outputId": "c34a8448-8cee-44aa-fbc9-431ce6dfc187",
        "colab": {
          "base_uri": "https://localhost:8080/",
          "height": 739
        }
      },
      "outputs": [
        {
          "output_type": "execute_result",
          "data": {
            "text/plain": [
              "            txNomeParlamentar           cpf  ideCadastro  \\\n",
              "265517          Heitor Schuch  4.547945e+10     178964.0   \n",
              "23762        Dilceu Sperafico  1.197922e+10      73768.0   \n",
              "95151         VALADARES FILHO  8.061629e+10     141384.0   \n",
              "127692        WALDIR MARANHÃO  6.482902e+09     141558.0   \n",
              "80721       Eduardo Bolsonaro  1.065537e+10      92346.0   \n",
              "226407  Rubens Pereira Júnior  4.415144e+08     178887.0   \n",
              "267713  JOÃO PAULO KLEINÜBING  9.014036e+10     178967.0   \n",
              "174206               Zé Silva  4.342278e+10     160632.0   \n",
              "237311   FRANCISCO CHAPADINHA  8.073961e+09     178907.0   \n",
              "103422            Fábio Faria  2.128728e+09     141428.0   \n",
              "\n",
              "        nuCarteiraParlamentar  nuLegislatura sgUF      sgPartido  \\\n",
              "265517                  504.0           2015   RS            PSB   \n",
              "23762                   452.0           2015   PR             PP   \n",
              "95151                   183.0           2015   SE            PSB   \n",
              "127692                   84.0           2015   MA           PSDB   \n",
              "80721                   352.0           2015   SP            PSL   \n",
              "226407                   81.0           2015   MA          PCdoB   \n",
              "267713                  485.0           2015   SC            DEM   \n",
              "174206                  271.0           2015   MG  SOLIDARIEDADE   \n",
              "237311                   28.0           2015   PA           PODE   \n",
              "103422                  119.0           2015   RN            PSD   \n",
              "\n",
              "        codLegislatura  numSubCota  \\\n",
              "265517              55          11   \n",
              "23762               55         999   \n",
              "95151               55         999   \n",
              "127692              55         999   \n",
              "80721               55           1   \n",
              "226407              55         999   \n",
              "267713              55          13   \n",
              "174206              55         999   \n",
              "237311              55         999   \n",
              "103422              55         999   \n",
              "\n",
              "                                             txtDescricao  \\\n",
              "265517                                   SERVIÇOS POSTAIS   \n",
              "23762                                PASSAGEM AÉREA - RPA   \n",
              "95151                                PASSAGEM AÉREA - RPA   \n",
              "127692                               PASSAGEM AÉREA - RPA   \n",
              "80721   MANUTENÇÃO DE ESCRITÓRIO DE APOIO À ATIVIDADE ...   \n",
              "226407                               PASSAGEM AÉREA - RPA   \n",
              "267713         FORNECIMENTO DE ALIMENTAÇÃO DO PARLAMENTAR   \n",
              "174206                               PASSAGEM AÉREA - RPA   \n",
              "237311                               PASSAGEM AÉREA - RPA   \n",
              "103422                               PASSAGEM AÉREA - RPA   \n",
              "\n",
              "        numEspecificacaoSubCota txtDescricaoEspecificacao  \\\n",
              "265517                        0                       NaN   \n",
              "23762                         0                       NaN   \n",
              "95151                         0                       NaN   \n",
              "127692                        0                       NaN   \n",
              "80721                         0                       NaN   \n",
              "226407                        0                       NaN   \n",
              "267713                        0                       NaN   \n",
              "174206                        0                       NaN   \n",
              "237311                        0                       NaN   \n",
              "103422                        0                       NaN   \n",
              "\n",
              "                                            txtFornecedor          txtCNPJCPF  \\\n",
              "265517  CORREIOS - MALA DIRETA ENDEREÇADA (POSTAL BÁSICA)  000.000.000/0000-7   \n",
              "23762                                     Cia Aérea - TAM  020.128.620/0016-0   \n",
              "95151                                     Cia Aérea - TAM  020.128.620/0016-0   \n",
              "127692                                    Cia Aérea - GOL  075.756.510/0015-9   \n",
              "80721          ELETROPAULO METROPOLITANA DE SÃO PAULO S/A  616.952.270/0019-3   \n",
              "226407                                    Cia Aérea - GOL  075.756.510/0015-9   \n",
              "267713                                    MOMA EIRELI EPP  166.009.300/0011-6   \n",
              "174206                                    Cia Aérea - GOL  075.756.510/0015-9   \n",
              "237311                                    Cia Aérea - TAM  020.128.620/0016-0   \n",
              "103422                                    Cia Aérea - TAM  020.128.620/0016-0   \n",
              "\n",
              "                       txtNumero  indTipoDocumento           datEmissao  \\\n",
              "265517             RSP : 2236072                 1  2018-02-22T10:14:52   \n",
              "23762   Bilhete: 957-4557.546058                 0  2018-02-22T00:00:00   \n",
              "95151   Bilhete: 957-2162.300544                 0  2018-02-21T00:00:00   \n",
              "127692           Bilhete: LP1UJK                 0  2018-12-26T00:00:00   \n",
              "80721                  063158213                 0  2018-09-11T00:00:00   \n",
              "226407               Comp-ODWS2L                 0  2018-07-08T00:00:00   \n",
              "267713                 000207753                 0  2018-10-09T00:00:00   \n",
              "174206           Bilhete: PGLVYF                 0  2018-03-16T00:00:00   \n",
              "237311  Bilhete: 957-2170.434057                 0  2018-06-18T00:00:00   \n",
              "103422  Bilhete: 957-2183.852268                 0  2018-11-16T00:00:00   \n",
              "\n",
              "        vlrDocumento  vlrGlosa  vlrLiquido  numMes  numAno  numParcela  \\\n",
              "265517         92.50       0.0       92.50       2    2018           0   \n",
              "23762         170.00       0.0      170.00       2    2018           0   \n",
              "95151        1758.93       0.0     1758.93       2    2018           0   \n",
              "127692       1182.17       0.0     1182.17      12    2018           0   \n",
              "80721          36.24       0.0       36.24       9    2018           0   \n",
              "226407       -640.00       0.0     -640.00       7    2018           0   \n",
              "267713         17.00       0.0       17.00      10    2018           0   \n",
              "174206       1106.03       0.0     1106.03       3    2018           0   \n",
              "237311        604.93       0.0      604.93       6    2018           0   \n",
              "103422       1285.39       0.0     1285.39      11    2018           0   \n",
              "\n",
              "                txtPassageiro    txtTrecho  numLote  numRessarcimento  \\\n",
              "265517                    NaN          NaN        0               0.0   \n",
              "23762        Dilceu Sperafico      BSB/BSB        0               0.0   \n",
              "95151         VALADARES FILHO      BSB/CGH        0               0.0   \n",
              "127692        WALDIR MARANHÃO  SLZ/GIG/CGH        0               0.0   \n",
              "80721                     NaN          NaN  1530894               NaN   \n",
              "226407  Rubens Pereira Júnior      SLZ/BSB        0               0.0   \n",
              "267713                    NaN          NaN  1531709               NaN   \n",
              "174206               Zé Silva      CNF/BSB        0               0.0   \n",
              "237311   FRANCISCO CHAPADINHA      BSB/BEL        0               0.0   \n",
              "103422        ANTONIO BEZERRA      BSB/NAT        0               0.0   \n",
              "\n",
              "       datPagamentoRestituicao  vlrRestituicao  nuDeputadoId  ideDocumento  \\\n",
              "265517                     NaN             NaN          3056             0   \n",
              "23762                      NaN             NaN          1001       1537594   \n",
              "95151                      NaN             NaN          1945       1537750   \n",
              "127692                     NaN             NaN          1954       1628388   \n",
              "80721                      NaN             NaN          2907       6676387   \n",
              "226407                     NaN             NaN          2902       1581359   \n",
              "267713                     NaN             NaN          3037       6678263   \n",
              "174206                     NaN             NaN          2231       1541740   \n",
              "237311                     NaN             NaN          2916       1582241   \n",
              "103422                     NaN             NaN          1829       1620045   \n",
              "\n",
              "                                             urlDocumento  \n",
              "265517                                                NaN  \n",
              "23762                                                 NaN  \n",
              "95151                                                 NaN  \n",
              "127692                                                NaN  \n",
              "80721   https://www.camara.leg.br/cota-parlamentar/doc...  \n",
              "226407                                                NaN  \n",
              "267713  https://www.camara.leg.br/cota-parlamentar/doc...  \n",
              "174206                                                NaN  \n",
              "237311                                                NaN  \n",
              "103422                                                NaN  "
            ],
            "text/html": [
              "\n",
              "\n",
              "  <div id=\"df-531e12dc-f092-4bfc-b07b-15682f08781b\">\n",
              "    <div class=\"colab-df-container\">\n",
              "      <div>\n",
              "<style scoped>\n",
              "    .dataframe tbody tr th:only-of-type {\n",
              "        vertical-align: middle;\n",
              "    }\n",
              "\n",
              "    .dataframe tbody tr th {\n",
              "        vertical-align: top;\n",
              "    }\n",
              "\n",
              "    .dataframe thead th {\n",
              "        text-align: right;\n",
              "    }\n",
              "</style>\n",
              "<table border=\"1\" class=\"dataframe\">\n",
              "  <thead>\n",
              "    <tr style=\"text-align: right;\">\n",
              "      <th></th>\n",
              "      <th>txNomeParlamentar</th>\n",
              "      <th>cpf</th>\n",
              "      <th>ideCadastro</th>\n",
              "      <th>nuCarteiraParlamentar</th>\n",
              "      <th>nuLegislatura</th>\n",
              "      <th>sgUF</th>\n",
              "      <th>sgPartido</th>\n",
              "      <th>codLegislatura</th>\n",
              "      <th>numSubCota</th>\n",
              "      <th>txtDescricao</th>\n",
              "      <th>numEspecificacaoSubCota</th>\n",
              "      <th>txtDescricaoEspecificacao</th>\n",
              "      <th>txtFornecedor</th>\n",
              "      <th>txtCNPJCPF</th>\n",
              "      <th>txtNumero</th>\n",
              "      <th>indTipoDocumento</th>\n",
              "      <th>datEmissao</th>\n",
              "      <th>vlrDocumento</th>\n",
              "      <th>vlrGlosa</th>\n",
              "      <th>vlrLiquido</th>\n",
              "      <th>numMes</th>\n",
              "      <th>numAno</th>\n",
              "      <th>numParcela</th>\n",
              "      <th>txtPassageiro</th>\n",
              "      <th>txtTrecho</th>\n",
              "      <th>numLote</th>\n",
              "      <th>numRessarcimento</th>\n",
              "      <th>datPagamentoRestituicao</th>\n",
              "      <th>vlrRestituicao</th>\n",
              "      <th>nuDeputadoId</th>\n",
              "      <th>ideDocumento</th>\n",
              "      <th>urlDocumento</th>\n",
              "    </tr>\n",
              "  </thead>\n",
              "  <tbody>\n",
              "    <tr>\n",
              "      <th>265517</th>\n",
              "      <td>Heitor Schuch</td>\n",
              "      <td>4.547945e+10</td>\n",
              "      <td>178964.0</td>\n",
              "      <td>504.0</td>\n",
              "      <td>2015</td>\n",
              "      <td>RS</td>\n",
              "      <td>PSB</td>\n",
              "      <td>55</td>\n",
              "      <td>11</td>\n",
              "      <td>SERVIÇOS POSTAIS</td>\n",
              "      <td>0</td>\n",
              "      <td>NaN</td>\n",
              "      <td>CORREIOS - MALA DIRETA ENDEREÇADA (POSTAL BÁSICA)</td>\n",
              "      <td>000.000.000/0000-7</td>\n",
              "      <td>RSP : 2236072</td>\n",
              "      <td>1</td>\n",
              "      <td>2018-02-22T10:14:52</td>\n",
              "      <td>92.50</td>\n",
              "      <td>0.0</td>\n",
              "      <td>92.50</td>\n",
              "      <td>2</td>\n",
              "      <td>2018</td>\n",
              "      <td>0</td>\n",
              "      <td>NaN</td>\n",
              "      <td>NaN</td>\n",
              "      <td>0</td>\n",
              "      <td>0.0</td>\n",
              "      <td>NaN</td>\n",
              "      <td>NaN</td>\n",
              "      <td>3056</td>\n",
              "      <td>0</td>\n",
              "      <td>NaN</td>\n",
              "    </tr>\n",
              "    <tr>\n",
              "      <th>23762</th>\n",
              "      <td>Dilceu Sperafico</td>\n",
              "      <td>1.197922e+10</td>\n",
              "      <td>73768.0</td>\n",
              "      <td>452.0</td>\n",
              "      <td>2015</td>\n",
              "      <td>PR</td>\n",
              "      <td>PP</td>\n",
              "      <td>55</td>\n",
              "      <td>999</td>\n",
              "      <td>PASSAGEM AÉREA - RPA</td>\n",
              "      <td>0</td>\n",
              "      <td>NaN</td>\n",
              "      <td>Cia Aérea - TAM</td>\n",
              "      <td>020.128.620/0016-0</td>\n",
              "      <td>Bilhete: 957-4557.546058</td>\n",
              "      <td>0</td>\n",
              "      <td>2018-02-22T00:00:00</td>\n",
              "      <td>170.00</td>\n",
              "      <td>0.0</td>\n",
              "      <td>170.00</td>\n",
              "      <td>2</td>\n",
              "      <td>2018</td>\n",
              "      <td>0</td>\n",
              "      <td>Dilceu Sperafico</td>\n",
              "      <td>BSB/BSB</td>\n",
              "      <td>0</td>\n",
              "      <td>0.0</td>\n",
              "      <td>NaN</td>\n",
              "      <td>NaN</td>\n",
              "      <td>1001</td>\n",
              "      <td>1537594</td>\n",
              "      <td>NaN</td>\n",
              "    </tr>\n",
              "    <tr>\n",
              "      <th>95151</th>\n",
              "      <td>VALADARES FILHO</td>\n",
              "      <td>8.061629e+10</td>\n",
              "      <td>141384.0</td>\n",
              "      <td>183.0</td>\n",
              "      <td>2015</td>\n",
              "      <td>SE</td>\n",
              "      <td>PSB</td>\n",
              "      <td>55</td>\n",
              "      <td>999</td>\n",
              "      <td>PASSAGEM AÉREA - RPA</td>\n",
              "      <td>0</td>\n",
              "      <td>NaN</td>\n",
              "      <td>Cia Aérea - TAM</td>\n",
              "      <td>020.128.620/0016-0</td>\n",
              "      <td>Bilhete: 957-2162.300544</td>\n",
              "      <td>0</td>\n",
              "      <td>2018-02-21T00:00:00</td>\n",
              "      <td>1758.93</td>\n",
              "      <td>0.0</td>\n",
              "      <td>1758.93</td>\n",
              "      <td>2</td>\n",
              "      <td>2018</td>\n",
              "      <td>0</td>\n",
              "      <td>VALADARES FILHO</td>\n",
              "      <td>BSB/CGH</td>\n",
              "      <td>0</td>\n",
              "      <td>0.0</td>\n",
              "      <td>NaN</td>\n",
              "      <td>NaN</td>\n",
              "      <td>1945</td>\n",
              "      <td>1537750</td>\n",
              "      <td>NaN</td>\n",
              "    </tr>\n",
              "    <tr>\n",
              "      <th>127692</th>\n",
              "      <td>WALDIR MARANHÃO</td>\n",
              "      <td>6.482902e+09</td>\n",
              "      <td>141558.0</td>\n",
              "      <td>84.0</td>\n",
              "      <td>2015</td>\n",
              "      <td>MA</td>\n",
              "      <td>PSDB</td>\n",
              "      <td>55</td>\n",
              "      <td>999</td>\n",
              "      <td>PASSAGEM AÉREA - RPA</td>\n",
              "      <td>0</td>\n",
              "      <td>NaN</td>\n",
              "      <td>Cia Aérea - GOL</td>\n",
              "      <td>075.756.510/0015-9</td>\n",
              "      <td>Bilhete: LP1UJK</td>\n",
              "      <td>0</td>\n",
              "      <td>2018-12-26T00:00:00</td>\n",
              "      <td>1182.17</td>\n",
              "      <td>0.0</td>\n",
              "      <td>1182.17</td>\n",
              "      <td>12</td>\n",
              "      <td>2018</td>\n",
              "      <td>0</td>\n",
              "      <td>WALDIR MARANHÃO</td>\n",
              "      <td>SLZ/GIG/CGH</td>\n",
              "      <td>0</td>\n",
              "      <td>0.0</td>\n",
              "      <td>NaN</td>\n",
              "      <td>NaN</td>\n",
              "      <td>1954</td>\n",
              "      <td>1628388</td>\n",
              "      <td>NaN</td>\n",
              "    </tr>\n",
              "    <tr>\n",
              "      <th>80721</th>\n",
              "      <td>Eduardo Bolsonaro</td>\n",
              "      <td>1.065537e+10</td>\n",
              "      <td>92346.0</td>\n",
              "      <td>352.0</td>\n",
              "      <td>2015</td>\n",
              "      <td>SP</td>\n",
              "      <td>PSL</td>\n",
              "      <td>55</td>\n",
              "      <td>1</td>\n",
              "      <td>MANUTENÇÃO DE ESCRITÓRIO DE APOIO À ATIVIDADE ...</td>\n",
              "      <td>0</td>\n",
              "      <td>NaN</td>\n",
              "      <td>ELETROPAULO METROPOLITANA DE SÃO PAULO S/A</td>\n",
              "      <td>616.952.270/0019-3</td>\n",
              "      <td>063158213</td>\n",
              "      <td>0</td>\n",
              "      <td>2018-09-11T00:00:00</td>\n",
              "      <td>36.24</td>\n",
              "      <td>0.0</td>\n",
              "      <td>36.24</td>\n",
              "      <td>9</td>\n",
              "      <td>2018</td>\n",
              "      <td>0</td>\n",
              "      <td>NaN</td>\n",
              "      <td>NaN</td>\n",
              "      <td>1530894</td>\n",
              "      <td>NaN</td>\n",
              "      <td>NaN</td>\n",
              "      <td>NaN</td>\n",
              "      <td>2907</td>\n",
              "      <td>6676387</td>\n",
              "      <td>https://www.camara.leg.br/cota-parlamentar/doc...</td>\n",
              "    </tr>\n",
              "    <tr>\n",
              "      <th>226407</th>\n",
              "      <td>Rubens Pereira Júnior</td>\n",
              "      <td>4.415144e+08</td>\n",
              "      <td>178887.0</td>\n",
              "      <td>81.0</td>\n",
              "      <td>2015</td>\n",
              "      <td>MA</td>\n",
              "      <td>PCdoB</td>\n",
              "      <td>55</td>\n",
              "      <td>999</td>\n",
              "      <td>PASSAGEM AÉREA - RPA</td>\n",
              "      <td>0</td>\n",
              "      <td>NaN</td>\n",
              "      <td>Cia Aérea - GOL</td>\n",
              "      <td>075.756.510/0015-9</td>\n",
              "      <td>Comp-ODWS2L</td>\n",
              "      <td>0</td>\n",
              "      <td>2018-07-08T00:00:00</td>\n",
              "      <td>-640.00</td>\n",
              "      <td>0.0</td>\n",
              "      <td>-640.00</td>\n",
              "      <td>7</td>\n",
              "      <td>2018</td>\n",
              "      <td>0</td>\n",
              "      <td>Rubens Pereira Júnior</td>\n",
              "      <td>SLZ/BSB</td>\n",
              "      <td>0</td>\n",
              "      <td>0.0</td>\n",
              "      <td>NaN</td>\n",
              "      <td>NaN</td>\n",
              "      <td>2902</td>\n",
              "      <td>1581359</td>\n",
              "      <td>NaN</td>\n",
              "    </tr>\n",
              "    <tr>\n",
              "      <th>267713</th>\n",
              "      <td>JOÃO PAULO KLEINÜBING</td>\n",
              "      <td>9.014036e+10</td>\n",
              "      <td>178967.0</td>\n",
              "      <td>485.0</td>\n",
              "      <td>2015</td>\n",
              "      <td>SC</td>\n",
              "      <td>DEM</td>\n",
              "      <td>55</td>\n",
              "      <td>13</td>\n",
              "      <td>FORNECIMENTO DE ALIMENTAÇÃO DO PARLAMENTAR</td>\n",
              "      <td>0</td>\n",
              "      <td>NaN</td>\n",
              "      <td>MOMA EIRELI EPP</td>\n",
              "      <td>166.009.300/0011-6</td>\n",
              "      <td>000207753</td>\n",
              "      <td>0</td>\n",
              "      <td>2018-10-09T00:00:00</td>\n",
              "      <td>17.00</td>\n",
              "      <td>0.0</td>\n",
              "      <td>17.00</td>\n",
              "      <td>10</td>\n",
              "      <td>2018</td>\n",
              "      <td>0</td>\n",
              "      <td>NaN</td>\n",
              "      <td>NaN</td>\n",
              "      <td>1531709</td>\n",
              "      <td>NaN</td>\n",
              "      <td>NaN</td>\n",
              "      <td>NaN</td>\n",
              "      <td>3037</td>\n",
              "      <td>6678263</td>\n",
              "      <td>https://www.camara.leg.br/cota-parlamentar/doc...</td>\n",
              "    </tr>\n",
              "    <tr>\n",
              "      <th>174206</th>\n",
              "      <td>Zé Silva</td>\n",
              "      <td>4.342278e+10</td>\n",
              "      <td>160632.0</td>\n",
              "      <td>271.0</td>\n",
              "      <td>2015</td>\n",
              "      <td>MG</td>\n",
              "      <td>SOLIDARIEDADE</td>\n",
              "      <td>55</td>\n",
              "      <td>999</td>\n",
              "      <td>PASSAGEM AÉREA - RPA</td>\n",
              "      <td>0</td>\n",
              "      <td>NaN</td>\n",
              "      <td>Cia Aérea - GOL</td>\n",
              "      <td>075.756.510/0015-9</td>\n",
              "      <td>Bilhete: PGLVYF</td>\n",
              "      <td>0</td>\n",
              "      <td>2018-03-16T00:00:00</td>\n",
              "      <td>1106.03</td>\n",
              "      <td>0.0</td>\n",
              "      <td>1106.03</td>\n",
              "      <td>3</td>\n",
              "      <td>2018</td>\n",
              "      <td>0</td>\n",
              "      <td>Zé Silva</td>\n",
              "      <td>CNF/BSB</td>\n",
              "      <td>0</td>\n",
              "      <td>0.0</td>\n",
              "      <td>NaN</td>\n",
              "      <td>NaN</td>\n",
              "      <td>2231</td>\n",
              "      <td>1541740</td>\n",
              "      <td>NaN</td>\n",
              "    </tr>\n",
              "    <tr>\n",
              "      <th>237311</th>\n",
              "      <td>FRANCISCO CHAPADINHA</td>\n",
              "      <td>8.073961e+09</td>\n",
              "      <td>178907.0</td>\n",
              "      <td>28.0</td>\n",
              "      <td>2015</td>\n",
              "      <td>PA</td>\n",
              "      <td>PODE</td>\n",
              "      <td>55</td>\n",
              "      <td>999</td>\n",
              "      <td>PASSAGEM AÉREA - RPA</td>\n",
              "      <td>0</td>\n",
              "      <td>NaN</td>\n",
              "      <td>Cia Aérea - TAM</td>\n",
              "      <td>020.128.620/0016-0</td>\n",
              "      <td>Bilhete: 957-2170.434057</td>\n",
              "      <td>0</td>\n",
              "      <td>2018-06-18T00:00:00</td>\n",
              "      <td>604.93</td>\n",
              "      <td>0.0</td>\n",
              "      <td>604.93</td>\n",
              "      <td>6</td>\n",
              "      <td>2018</td>\n",
              "      <td>0</td>\n",
              "      <td>FRANCISCO CHAPADINHA</td>\n",
              "      <td>BSB/BEL</td>\n",
              "      <td>0</td>\n",
              "      <td>0.0</td>\n",
              "      <td>NaN</td>\n",
              "      <td>NaN</td>\n",
              "      <td>2916</td>\n",
              "      <td>1582241</td>\n",
              "      <td>NaN</td>\n",
              "    </tr>\n",
              "    <tr>\n",
              "      <th>103422</th>\n",
              "      <td>Fábio Faria</td>\n",
              "      <td>2.128728e+09</td>\n",
              "      <td>141428.0</td>\n",
              "      <td>119.0</td>\n",
              "      <td>2015</td>\n",
              "      <td>RN</td>\n",
              "      <td>PSD</td>\n",
              "      <td>55</td>\n",
              "      <td>999</td>\n",
              "      <td>PASSAGEM AÉREA - RPA</td>\n",
              "      <td>0</td>\n",
              "      <td>NaN</td>\n",
              "      <td>Cia Aérea - TAM</td>\n",
              "      <td>020.128.620/0016-0</td>\n",
              "      <td>Bilhete: 957-2183.852268</td>\n",
              "      <td>0</td>\n",
              "      <td>2018-11-16T00:00:00</td>\n",
              "      <td>1285.39</td>\n",
              "      <td>0.0</td>\n",
              "      <td>1285.39</td>\n",
              "      <td>11</td>\n",
              "      <td>2018</td>\n",
              "      <td>0</td>\n",
              "      <td>ANTONIO BEZERRA</td>\n",
              "      <td>BSB/NAT</td>\n",
              "      <td>0</td>\n",
              "      <td>0.0</td>\n",
              "      <td>NaN</td>\n",
              "      <td>NaN</td>\n",
              "      <td>1829</td>\n",
              "      <td>1620045</td>\n",
              "      <td>NaN</td>\n",
              "    </tr>\n",
              "  </tbody>\n",
              "</table>\n",
              "</div>\n",
              "      <button class=\"colab-df-convert\" onclick=\"convertToInteractive('df-531e12dc-f092-4bfc-b07b-15682f08781b')\"\n",
              "              title=\"Convert this dataframe to an interactive table.\"\n",
              "              style=\"display:none;\">\n",
              "\n",
              "  <svg xmlns=\"http://www.w3.org/2000/svg\" height=\"24px\"viewBox=\"0 0 24 24\"\n",
              "       width=\"24px\">\n",
              "    <path d=\"M0 0h24v24H0V0z\" fill=\"none\"/>\n",
              "    <path d=\"M18.56 5.44l.94 2.06.94-2.06 2.06-.94-2.06-.94-.94-2.06-.94 2.06-2.06.94zm-11 1L8.5 8.5l.94-2.06 2.06-.94-2.06-.94L8.5 2.5l-.94 2.06-2.06.94zm10 10l.94 2.06.94-2.06 2.06-.94-2.06-.94-.94-2.06-.94 2.06-2.06.94z\"/><path d=\"M17.41 7.96l-1.37-1.37c-.4-.4-.92-.59-1.43-.59-.52 0-1.04.2-1.43.59L10.3 9.45l-7.72 7.72c-.78.78-.78 2.05 0 2.83L4 21.41c.39.39.9.59 1.41.59.51 0 1.02-.2 1.41-.59l7.78-7.78 2.81-2.81c.8-.78.8-2.07 0-2.86zM5.41 20L4 18.59l7.72-7.72 1.47 1.35L5.41 20z\"/>\n",
              "  </svg>\n",
              "      </button>\n",
              "\n",
              "\n",
              "\n",
              "    <div id=\"df-b879bf13-ee80-43aa-ae8a-c2c4971b90d9\">\n",
              "      <button class=\"colab-df-quickchart\" onclick=\"quickchart('df-b879bf13-ee80-43aa-ae8a-c2c4971b90d9')\"\n",
              "              title=\"Suggest charts.\"\n",
              "              style=\"display:none;\">\n",
              "\n",
              "<svg xmlns=\"http://www.w3.org/2000/svg\" height=\"24px\"viewBox=\"0 0 24 24\"\n",
              "     width=\"24px\">\n",
              "    <g>\n",
              "        <path d=\"M19 3H5c-1.1 0-2 .9-2 2v14c0 1.1.9 2 2 2h14c1.1 0 2-.9 2-2V5c0-1.1-.9-2-2-2zM9 17H7v-7h2v7zm4 0h-2V7h2v10zm4 0h-2v-4h2v4z\"/>\n",
              "    </g>\n",
              "</svg>\n",
              "      </button>\n",
              "    </div>\n",
              "\n",
              "<style>\n",
              "  .colab-df-quickchart {\n",
              "    background-color: #E8F0FE;\n",
              "    border: none;\n",
              "    border-radius: 50%;\n",
              "    cursor: pointer;\n",
              "    display: none;\n",
              "    fill: #1967D2;\n",
              "    height: 32px;\n",
              "    padding: 0 0 0 0;\n",
              "    width: 32px;\n",
              "  }\n",
              "\n",
              "  .colab-df-quickchart:hover {\n",
              "    background-color: #E2EBFA;\n",
              "    box-shadow: 0px 1px 2px rgba(60, 64, 67, 0.3), 0px 1px 3px 1px rgba(60, 64, 67, 0.15);\n",
              "    fill: #174EA6;\n",
              "  }\n",
              "\n",
              "  [theme=dark] .colab-df-quickchart {\n",
              "    background-color: #3B4455;\n",
              "    fill: #D2E3FC;\n",
              "  }\n",
              "\n",
              "  [theme=dark] .colab-df-quickchart:hover {\n",
              "    background-color: #434B5C;\n",
              "    box-shadow: 0px 1px 3px 1px rgba(0, 0, 0, 0.15);\n",
              "    filter: drop-shadow(0px 1px 2px rgba(0, 0, 0, 0.3));\n",
              "    fill: #FFFFFF;\n",
              "  }\n",
              "</style>\n",
              "\n",
              "    <script>\n",
              "      async function quickchart(key) {\n",
              "        const containerElement = document.querySelector('#' + key);\n",
              "        const charts = await google.colab.kernel.invokeFunction(\n",
              "            'suggestCharts', [key], {});\n",
              "      }\n",
              "    </script>\n",
              "\n",
              "      <script>\n",
              "\n",
              "function displayQuickchartButton(domScope) {\n",
              "  let quickchartButtonEl =\n",
              "    domScope.querySelector('#df-b879bf13-ee80-43aa-ae8a-c2c4971b90d9 button.colab-df-quickchart');\n",
              "  quickchartButtonEl.style.display =\n",
              "    google.colab.kernel.accessAllowed ? 'block' : 'none';\n",
              "}\n",
              "\n",
              "        displayQuickchartButton(document);\n",
              "      </script>\n",
              "      <style>\n",
              "    .colab-df-container {\n",
              "      display:flex;\n",
              "      flex-wrap:wrap;\n",
              "      gap: 12px;\n",
              "    }\n",
              "\n",
              "    .colab-df-convert {\n",
              "      background-color: #E8F0FE;\n",
              "      border: none;\n",
              "      border-radius: 50%;\n",
              "      cursor: pointer;\n",
              "      display: none;\n",
              "      fill: #1967D2;\n",
              "      height: 32px;\n",
              "      padding: 0 0 0 0;\n",
              "      width: 32px;\n",
              "    }\n",
              "\n",
              "    .colab-df-convert:hover {\n",
              "      background-color: #E2EBFA;\n",
              "      box-shadow: 0px 1px 2px rgba(60, 64, 67, 0.3), 0px 1px 3px 1px rgba(60, 64, 67, 0.15);\n",
              "      fill: #174EA6;\n",
              "    }\n",
              "\n",
              "    [theme=dark] .colab-df-convert {\n",
              "      background-color: #3B4455;\n",
              "      fill: #D2E3FC;\n",
              "    }\n",
              "\n",
              "    [theme=dark] .colab-df-convert:hover {\n",
              "      background-color: #434B5C;\n",
              "      box-shadow: 0px 1px 3px 1px rgba(0, 0, 0, 0.15);\n",
              "      filter: drop-shadow(0px 1px 2px rgba(0, 0, 0, 0.3));\n",
              "      fill: #FFFFFF;\n",
              "    }\n",
              "  </style>\n",
              "\n",
              "      <script>\n",
              "        const buttonEl =\n",
              "          document.querySelector('#df-531e12dc-f092-4bfc-b07b-15682f08781b button.colab-df-convert');\n",
              "        buttonEl.style.display =\n",
              "          google.colab.kernel.accessAllowed ? 'block' : 'none';\n",
              "\n",
              "        async function convertToInteractive(key) {\n",
              "          const element = document.querySelector('#df-531e12dc-f092-4bfc-b07b-15682f08781b');\n",
              "          const dataTable =\n",
              "            await google.colab.kernel.invokeFunction('convertToInteractive',\n",
              "                                                     [key], {});\n",
              "          if (!dataTable) return;\n",
              "\n",
              "          const docLinkHtml = 'Like what you see? Visit the ' +\n",
              "            '<a target=\"_blank\" href=https://colab.research.google.com/notebooks/data_table.ipynb>data table notebook</a>'\n",
              "            + ' to learn more about interactive tables.';\n",
              "          element.innerHTML = '';\n",
              "          dataTable['output_type'] = 'display_data';\n",
              "          await google.colab.output.renderOutput(dataTable, element);\n",
              "          const docLink = document.createElement('div');\n",
              "          docLink.innerHTML = docLinkHtml;\n",
              "          element.appendChild(docLink);\n",
              "        }\n",
              "      </script>\n",
              "    </div>\n",
              "  </div>\n"
            ]
          },
          "metadata": {},
          "execution_count": 36
        }
      ],
      "source": [
        "df_completo.sample(10)"
      ]
    },
    {
      "cell_type": "markdown",
      "id": "be0725bb",
      "metadata": {
        "id": "be0725bb"
      },
      "source": [
        "### 4) Existem registros com `ideDocumento` nulo?"
      ]
    },
    {
      "cell_type": "code",
      "execution_count": 41,
      "id": "bc915fec",
      "metadata": {
        "id": "bc915fec",
        "outputId": "4f4975b2-623c-4eaa-8013-f1d13cbcbc90",
        "colab": {
          "base_uri": "https://localhost:8080/"
        }
      },
      "outputs": [
        {
          "output_type": "execute_result",
          "data": {
            "text/plain": [
              "False"
            ]
          },
          "metadata": {},
          "execution_count": 41
        }
      ],
      "source": [
        "df_completo.ideDocumento.isnull().values.any()\n",
        "\n",
        "# Não existe"
      ]
    },
    {
      "cell_type": "markdown",
      "id": "f048cb6e",
      "metadata": {
        "id": "f048cb6e"
      },
      "source": [
        "### 5) Converta a coluna `datEmissao` para `datetime`, e descubra quantos reembolsos aconteram no primeiro semestre de 2018"
      ]
    },
    {
      "cell_type": "code",
      "execution_count": null,
      "id": "841f51c2",
      "metadata": {
        "id": "841f51c2"
      },
      "outputs": [],
      "source": []
    },
    {
      "cell_type": "markdown",
      "id": "f5f7801b",
      "metadata": {
        "id": "f5f7801b"
      },
      "source": [
        "#### [Desafio Extra] Existem registros com `datEmissao` nulos? Se sim, quantos?"
      ]
    },
    {
      "cell_type": "code",
      "execution_count": null,
      "id": "87026a4c",
      "metadata": {
        "id": "87026a4c"
      },
      "outputs": [],
      "source": []
    },
    {
      "cell_type": "markdown",
      "id": "5a2d2e56",
      "metadata": {
        "id": "5a2d2e56"
      },
      "source": [
        "#### [Desafio Extra] Existem registros de outros anos no arquivo de 2018? Se sim, quais anos e quantos registros há nessas datas?"
      ]
    },
    {
      "cell_type": "code",
      "execution_count": null,
      "id": "bd0f4fe8",
      "metadata": {
        "id": "bd0f4fe8"
      },
      "outputs": [],
      "source": []
    },
    {
      "cell_type": "markdown",
      "id": "c45d303f",
      "metadata": {
        "id": "c45d303f"
      },
      "source": [
        "### 6) Quais os meses que mais tem solicitação de reembolso?"
      ]
    },
    {
      "cell_type": "code",
      "execution_count": null,
      "id": "86c1ab12",
      "metadata": {
        "id": "86c1ab12"
      },
      "outputs": [],
      "source": []
    },
    {
      "cell_type": "markdown",
      "id": "cdf80d6c",
      "metadata": {
        "id": "cdf80d6c"
      },
      "source": [
        "#### [Desafio Extra] Como seria para agrupar os dados no formato `mes/ano` , ao invés de apenas mês?"
      ]
    },
    {
      "cell_type": "code",
      "execution_count": null,
      "id": "7c9b6a14",
      "metadata": {
        "id": "7c9b6a14"
      },
      "outputs": [],
      "source": []
    },
    {
      "cell_type": "markdown",
      "id": "a98577da",
      "metadata": {
        "id": "a98577da"
      },
      "source": [
        "### 7) Limpe a coluna `txtCNPJCPF`: ela deve conter somente dígitos numéricos"
      ]
    },
    {
      "cell_type": "code",
      "execution_count": null,
      "id": "72548aa5",
      "metadata": {
        "id": "72548aa5"
      },
      "outputs": [],
      "source": [
        "# vamos trocar qualquer caracter que não seja um dígito número por '', essa operação remove os dígitos\n",
        "df_reimbursements[\"txtCNPJCPF\"] = df_reimbursements..."
      ]
    },
    {
      "cell_type": "markdown",
      "id": "d5592506",
      "metadata": {
        "id": "d5592506"
      },
      "source": [
        "### 8) Quais são os valores únicos do campo `indTipoDocumento`? Substitua o conteúdo pela respectiva legenda\n",
        "\n",
        "*Dica*: 0 (Zero), para Nota Fiscal; 1 (um), para Recibo; e 2, para Despesa no Exterior."
      ]
    },
    {
      "cell_type": "code",
      "execution_count": null,
      "id": "1c9b5dcd",
      "metadata": {
        "id": "1c9b5dcd"
      },
      "outputs": [],
      "source": []
    },
    {
      "cell_type": "markdown",
      "id": "ce8402aa",
      "metadata": {
        "id": "ce8402aa"
      },
      "source": [
        "### [Desafio Extra] 9) Agrupe o valor total de despesas por fornecedor, mês e ano. Você encontrou algum padrão?"
      ]
    },
    {
      "cell_type": "code",
      "execution_count": null,
      "id": "edc06727",
      "metadata": {
        "id": "edc06727"
      },
      "outputs": [],
      "source": []
    },
    {
      "cell_type": "markdown",
      "id": "5cf22688",
      "metadata": {
        "id": "5cf22688"
      },
      "source": [
        "### [Desafio Extra] 10) Quais os 10 parlamentares que mais solicitaram reembolso?"
      ]
    },
    {
      "cell_type": "code",
      "execution_count": null,
      "id": "743e3925",
      "metadata": {
        "id": "743e3925"
      },
      "outputs": [],
      "source": []
    },
    {
      "cell_type": "markdown",
      "id": "ada7feda",
      "metadata": {
        "id": "ada7feda"
      },
      "source": [
        "#### [Desafio Extra] Como ficaria a resposta, caso queiramos saber quais os seus estados e partidos?"
      ]
    },
    {
      "cell_type": "code",
      "execution_count": null,
      "id": "054348d3",
      "metadata": {
        "id": "054348d3"
      },
      "outputs": [],
      "source": []
    },
    {
      "cell_type": "markdown",
      "id": "97afecd5",
      "metadata": {
        "id": "97afecd5"
      },
      "source": [
        "### [Desafio Extra] 11) Quais os partidos e os estados que mais solicitaram reembolso?"
      ]
    },
    {
      "cell_type": "code",
      "execution_count": null,
      "id": "6b8131d8",
      "metadata": {
        "id": "6b8131d8"
      },
      "outputs": [],
      "source": []
    },
    {
      "cell_type": "markdown",
      "id": "48b6dd88",
      "metadata": {
        "id": "48b6dd88"
      },
      "source": [
        "### [Desafio Extra] 12) Recupere os reembolsos de 2019 e acrescente aos dados de 2018"
      ]
    },
    {
      "cell_type": "code",
      "execution_count": null,
      "id": "cf275d82",
      "metadata": {
        "id": "cf275d82"
      },
      "outputs": [],
      "source": []
    },
    {
      "cell_type": "markdown",
      "id": "3956e033",
      "metadata": {
        "id": "3956e033"
      },
      "source": [
        "### [Desafio Extra] 13) Responda novamente as questões 9, 10 e 11. Houve alguma mudança nos resultados?"
      ]
    },
    {
      "cell_type": "code",
      "execution_count": null,
      "id": "913dd2a1",
      "metadata": {
        "id": "913dd2a1"
      },
      "outputs": [],
      "source": []
    }
  ],
  "metadata": {
    "kernelspec": {
      "display_name": "Python 3 (ipykernel)",
      "language": "python",
      "name": "python3"
    },
    "language_info": {
      "codemirror_mode": {
        "name": "ipython",
        "version": 3
      },
      "file_extension": ".py",
      "mimetype": "text/x-python",
      "name": "python",
      "nbconvert_exporter": "python",
      "pygments_lexer": "ipython3",
      "version": "3.8.11"
    },
    "toc": {
      "base_numbering": 1,
      "nav_menu": {},
      "number_sections": true,
      "sideBar": true,
      "skip_h1_title": false,
      "title_cell": "Table of Contents",
      "title_sidebar": "Contents",
      "toc_cell": false,
      "toc_position": {
        "height": "calc(100% - 180px)",
        "left": "10px",
        "top": "150px",
        "width": "165px"
      },
      "toc_section_display": true,
      "toc_window_display": true
    },
    "colab": {
      "provenance": []
    }
  },
  "nbformat": 4,
  "nbformat_minor": 5
}