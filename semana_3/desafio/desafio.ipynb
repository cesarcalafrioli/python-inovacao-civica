{
  "cells": [
    {
      "cell_type": "markdown",
      "id": "4914c7df",
      "metadata": {
        "id": "4914c7df"
      },
      "source": [
        "# Desafio\n",
        "\n",
        "Tente se desafiar um pouco fazendo os desafios extras. Qualquer dúvida, é só falar no grupo, estamos por aqui o/"
      ]
    },
    {
      "cell_type": "markdown",
      "id": "4ac55729",
      "metadata": {
        "id": "4ac55729"
      },
      "source": [
        "### 1) Acesse a api da camara, e recupere os reembolsos do ano de 2018"
      ]
    },
    {
      "cell_type": "code",
      "source": [
        "url = f\"https://www.camara.leg.br/cotas/Ano-2018.csv.zip\""
      ],
      "metadata": {
        "id": "oyOvSlMhgJwc"
      },
      "id": "oyOvSlMhgJwc",
      "execution_count": 1,
      "outputs": []
    },
    {
      "cell_type": "code",
      "execution_count": 3,
      "id": "e335c8c7",
      "metadata": {
        "id": "e335c8c7"
      },
      "outputs": [],
      "source": [
        "import requests\n",
        "\n",
        "# fazendo o download do conteúdo do arquivo\n",
        "r = requests.get(url)"
      ]
    },
    {
      "cell_type": "code",
      "source": [
        "# Salvando o arquivo\n",
        "with open(f\"Ano-2018.csv.zip\", \"wb\") as code:\n",
        "    code.write(r.content)"
      ],
      "metadata": {
        "id": "cy6MfT-zg5M1"
      },
      "id": "cy6MfT-zg5M1",
      "execution_count": 4,
      "outputs": []
    },
    {
      "cell_type": "code",
      "source": [
        "from zipfile import ZipFile"
      ],
      "metadata": {
        "id": "uQYoegiljf11"
      },
      "id": "uQYoegiljf11",
      "execution_count": 6,
      "outputs": []
    },
    {
      "cell_type": "code",
      "source": [
        "# Descompactando arquivo\n",
        "arquivo = ZipFile(f\"Ano-2018.csv.zip\", \"r\")\n",
        "\n",
        "lista_itens_arquivo = arquivo.namelist()\n",
        "\n",
        "arquivo.extract(member=lista_itens_arquivo[0], path=f\"reembolso-2018\")"
      ],
      "metadata": {
        "id": "-6lT48oKi8u7",
        "outputId": "81085839-eb46-430b-e62e-cf1369c5b3c0",
        "colab": {
          "base_uri": "https://localhost:8080/",
          "height": 36
        }
      },
      "id": "-6lT48oKi8u7",
      "execution_count": 7,
      "outputs": [
        {
          "output_type": "execute_result",
          "data": {
            "text/plain": [
              "'reembolso-2018/Ano-2018.csv'"
            ],
            "application/vnd.google.colaboratory.intrinsic+json": {
              "type": "string"
            }
          },
          "metadata": {},
          "execution_count": 7
        }
      ]
    },
    {
      "cell_type": "code",
      "source": [
        "# Para quem quer extrair todo o conteúdo do arquivo zip\n",
        "#arquivo.extractall(path=f\"reembolso-2018\")"
      ],
      "metadata": {
        "id": "psKdaKV5mVWL"
      },
      "id": "psKdaKV5mVWL",
      "execution_count": null,
      "outputs": []
    },
    {
      "cell_type": "code",
      "source": [
        "arquivo.close()"
      ],
      "metadata": {
        "id": "fy52v837mgXj"
      },
      "id": "fy52v837mgXj",
      "execution_count": 8,
      "outputs": []
    },
    {
      "cell_type": "markdown",
      "id": "e7244afa",
      "metadata": {
        "id": "e7244afa"
      },
      "source": [
        "### 2) Leia o Arquivo csv"
      ]
    },
    {
      "cell_type": "code",
      "execution_count": 9,
      "id": "55880b49",
      "metadata": {
        "id": "55880b49",
        "scrolled": true
      },
      "outputs": [],
      "source": [
        "import pandas as pd"
      ]
    },
    {
      "cell_type": "code",
      "source": [
        "pd.set_option(\"display.max_columns\", None)"
      ],
      "metadata": {
        "id": "AgmDF1PgnaLr"
      },
      "id": "AgmDF1PgnaLr",
      "execution_count": 10,
      "outputs": []
    },
    {
      "cell_type": "code",
      "source": [
        "# Lendo o arquivo CSV\n",
        "\n",
        "DTYPE = {\n",
        "    \"cpf\": str,\n",
        "    \"txtCNPJCPF\": str,\n",
        "    \"vlrDocumento\": float,\n",
        "    \"vlrLiuido\": float,\n",
        "    \"vlrGlosa\": float\n",
        "}\n",
        "\n",
        "df_completo = pd.read_csv(\"reembolso-2018/Ano-2018.csv\", sep=\";\", dtype=DTYPE)"
      ],
      "metadata": {
        "id": "-d0O6rnpgxF9"
      },
      "id": "-d0O6rnpgxF9",
      "execution_count": 13,
      "outputs": []
    },
    {
      "cell_type": "markdown",
      "id": "04ac3026",
      "metadata": {
        "id": "04ac3026"
      },
      "source": [
        "### 3) Visualize 10 linhas aleatórias"
      ]
    },
    {
      "cell_type": "code",
      "execution_count": null,
      "id": "fbde4877",
      "metadata": {
        "id": "fbde4877"
      },
      "outputs": [],
      "source": [
        "df_completo.sample(10)"
      ]
    },
    {
      "cell_type": "markdown",
      "id": "be0725bb",
      "metadata": {
        "id": "be0725bb"
      },
      "source": [
        "### 4) Existem registros com `ideDocumento` nulo?"
      ]
    },
    {
      "cell_type": "code",
      "source": [
        "if not df_completo.ideCadastro.isnull().values.any():\n",
        "    print(\"Não existes registros com ideCadastro Nulo\")\n",
        "else:\n",
        "    print(\"Sim! Existes registros com ideCadastro Nulo\")"
      ],
      "metadata": {
        "id": "bB_-v1QXQN8o",
        "outputId": "bc39fdec-b135-4612-a5b4-6c52989195f7",
        "colab": {
          "base_uri": "https://localhost:8080/"
        }
      },
      "id": "bB_-v1QXQN8o",
      "execution_count": 19,
      "outputs": [
        {
          "output_type": "stream",
          "name": "stdout",
          "text": [
            "Sim! Existes registros com ideCadastro Nulo\n"
          ]
        }
      ]
    },
    {
      "cell_type": "code",
      "execution_count": 17,
      "id": "bc915fec",
      "metadata": {
        "id": "bc915fec",
        "outputId": "62e66d7e-0bcf-42e3-aade-e49efe395a97",
        "colab": {
          "base_uri": "https://localhost:8080/"
        }
      },
      "outputs": [
        {
          "output_type": "stream",
          "name": "stdout",
          "text": [
            "Não existes registros com ideDocumento Nulo\n"
          ]
        }
      ],
      "source": [
        "if not df_completo.ideDocumento.isnull().values.any():\n",
        "    print(\"Não existes registros com ideDocumento Nulo\")\n",
        "else:\n",
        "    print(\"Sim! Existes registros com ideDocumento Nulo\")\n",
        "# Não existe"
      ]
    },
    {
      "cell_type": "code",
      "source": [
        "# OUTRA ALTERNATIVA PARA FILTRO DE REGISTROS COM IDEDOCUMENTO NULO\n",
        "filtro = df_completo.ideDocumento.isnull()\n",
        "df_completo[filtro]"
      ],
      "metadata": {
        "id": "pht0RMU3QpqV"
      },
      "id": "pht0RMU3QpqV",
      "execution_count": null,
      "outputs": []
    },
    {
      "cell_type": "markdown",
      "id": "f048cb6e",
      "metadata": {
        "id": "f048cb6e"
      },
      "source": [
        "### 5) Converta a coluna `datEmissao` para `datetime`, e descubra quantos reembolsos aconteram no primeiro semestre de 2018"
      ]
    },
    {
      "cell_type": "code",
      "execution_count": 23,
      "id": "841f51c2",
      "metadata": {
        "id": "841f51c2",
        "outputId": "36032e1b-3514-4c5a-8c6a-c6ba446deaac",
        "colab": {
          "base_uri": "https://localhost:8080/"
        }
      },
      "outputs": [
        {
          "output_type": "execute_result",
          "data": {
            "text/plain": [
              "0        2018-12-20\n",
              "1        2018-02-21\n",
              "2        2018-09-05\n",
              "3        2018-10-16\n",
              "4        2018-02-05\n",
              "            ...    \n",
              "292785          NaT\n",
              "292786   2018-12-20\n",
              "292787   2018-12-20\n",
              "292788   2019-01-08\n",
              "292789   2018-12-28\n",
              "Name: datEmissao, Length: 292790, dtype: datetime64[ns]"
            ]
          },
          "metadata": {},
          "execution_count": 23
        }
      ],
      "source": [
        "df_completo[\"datEmissao\"] = pd.to_datetime(df_completo.datEmissao, format=\"%Y-%m-%d\")\n",
        "df_completo[\"datEmissao\"]"
      ]
    },
    {
      "cell_type": "code",
      "source": [
        "df_completo = df_completo.set_index(\"datEmissao\")\n",
        "df_completo"
      ],
      "metadata": {
        "id": "hxWm7HUlSwa6"
      },
      "id": "hxWm7HUlSwa6",
      "execution_count": null,
      "outputs": []
    },
    {
      "cell_type": "code",
      "source": [
        "df_primeiro_semestre = df_completo.loc[\"2018-01-01\":\"2018-06-30\"]\n",
        "df_primeiro_semestre.shape"
      ],
      "metadata": {
        "id": "-F7jyTF0TFrn",
        "outputId": "cec88496-3fde-465d-fdbd-3fd5a474665e",
        "colab": {
          "base_uri": "https://localhost:8080/"
        }
      },
      "id": "-F7jyTF0TFrn",
      "execution_count": 29,
      "outputs": [
        {
          "output_type": "execute_result",
          "data": {
            "text/plain": [
              "(159694, 31)"
            ]
          },
          "metadata": {},
          "execution_count": 29
        }
      ]
    },
    {
      "cell_type": "code",
      "source": [
        "# Remove linhas duplicadas ( Se houver )\n",
        "df_primeiro_semestre.drop_duplicates().shape"
      ],
      "metadata": {
        "id": "3_7Iwa5YTt1z"
      },
      "id": "3_7Iwa5YTt1z",
      "execution_count": null,
      "outputs": []
    },
    {
      "cell_type": "markdown",
      "id": "f5f7801b",
      "metadata": {
        "id": "f5f7801b"
      },
      "source": [
        "#### [Desafio Extra] Existem registros com `datEmissao` nulos? Se sim, quantos?"
      ]
    },
    {
      "cell_type": "code",
      "execution_count": 25,
      "id": "87026a4c",
      "metadata": {
        "id": "87026a4c",
        "outputId": "f1c51ac7-ddcd-40f3-de03-2d2f8f5ffa31",
        "colab": {
          "base_uri": "https://localhost:8080/"
        }
      },
      "outputs": [
        {
          "output_type": "stream",
          "name": "stdout",
          "text": [
            "Sim! Existes registros com datEmissao Nulo\n"
          ]
        }
      ],
      "source": [
        "if not df_completo.datEmissao.isnull().values.any():\n",
        "    print(\"Não existes registros com datEmissao Nulo\")\n",
        "else:\n",
        "    print(\"Sim! Existes registros com datEmissao Nulo\")"
      ]
    },
    {
      "cell_type": "markdown",
      "id": "5a2d2e56",
      "metadata": {
        "id": "5a2d2e56"
      },
      "source": [
        "#### [Desafio Extra] Existem registros de outros anos no arquivo de 2018? Se sim, quais anos e quantos registros há nessas datas?"
      ]
    },
    {
      "cell_type": "code",
      "execution_count": 35,
      "id": "bd0f4fe8",
      "metadata": {
        "id": "bd0f4fe8",
        "outputId": "21729195-f75c-46be-dba2-c3c55409e217",
        "colab": {
          "base_uri": "https://localhost:8080/",
          "height": 172
        }
      },
      "outputs": [
        {
          "output_type": "error",
          "ename": "NameError",
          "evalue": "ignored",
          "traceback": [
            "\u001b[0;31m---------------------------------------------------------------------------\u001b[0m",
            "\u001b[0;31mNameError\u001b[0m                                 Traceback (most recent call last)",
            "\u001b[0;32m<ipython-input-35-9da3317cc2db>\u001b[0m in \u001b[0;36m<cell line: 1>\u001b[0;34m()\u001b[0m\n\u001b[0;32m----> 1\u001b[0;31m \u001b[0mdt_completo\u001b[0m\u001b[0;34m.\u001b[0m\u001b[0mdatEmissao\u001b[0m\u001b[0;34m.\u001b[0m\u001b[0mdt\u001b[0m\u001b[0;34m.\u001b[0m\u001b[0myear\u001b[0m\u001b[0;34m.\u001b[0m\u001b[0munique\u001b[0m\u001b[0;34m(\u001b[0m\u001b[0;34m)\u001b[0m\u001b[0;34m\u001b[0m\u001b[0;34m\u001b[0m\u001b[0m\n\u001b[0m",
            "\u001b[0;31mNameError\u001b[0m: name 'dt_completo' is not defined"
          ]
        }
      ],
      "source": [
        "dt_completo.datEmissao.dt.year.unique()"
      ]
    },
    {
      "cell_type": "code",
      "source": [
        "df_completo.numAno.unique()"
      ],
      "metadata": {
        "id": "7zT6tsciW3ZZ",
        "outputId": "3135d19c-60a1-4094-9c95-11a22c48d638",
        "colab": {
          "base_uri": "https://localhost:8080/"
        }
      },
      "id": "7zT6tsciW3ZZ",
      "execution_count": 37,
      "outputs": [
        {
          "output_type": "execute_result",
          "data": {
            "text/plain": [
              "array([2018])"
            ]
          },
          "metadata": {},
          "execution_count": 37
        }
      ]
    },
    {
      "cell_type": "markdown",
      "id": "c45d303f",
      "metadata": {
        "id": "c45d303f"
      },
      "source": [
        "### 6) Quais os meses que mais tem solicitação de reembolso?"
      ]
    },
    {
      "cell_type": "code",
      "execution_count": 38,
      "id": "86c1ab12",
      "metadata": {
        "id": "86c1ab12",
        "outputId": "49b8780a-f692-4a93-b5ea-380c73acfd62",
        "colab": {
          "base_uri": "https://localhost:8080/"
        }
      },
      "outputs": [
        {
          "output_type": "execute_result",
          "data": {
            "text/plain": [
              "{1: 20554,\n",
              " 2: 25608,\n",
              " 3: 32123,\n",
              " 4: 29998,\n",
              " 5: 31797,\n",
              " 6: 27799,\n",
              " 7: 25297,\n",
              " 8: 21067,\n",
              " 9: 11619,\n",
              " 10: 22101,\n",
              " 11: 24363,\n",
              " 12: 20464}"
            ]
          },
          "metadata": {},
          "execution_count": 38
        }
      ],
      "source": [
        "lst_mes = [\"Janeiro\",\"Fevereiro\",\"Março\",\"Abril\", \"\"]\n",
        "\n",
        "dict(df_completo.groupby(\"numMes\")[\"ideDocumento\"].count())"
      ]
    },
    {
      "cell_type": "code",
      "source": [],
      "metadata": {
        "id": "QrxUSlfoXJGV"
      },
      "id": "QrxUSlfoXJGV",
      "execution_count": null,
      "outputs": []
    },
    {
      "cell_type": "markdown",
      "id": "cdf80d6c",
      "metadata": {
        "id": "cdf80d6c"
      },
      "source": [
        "#### [Desafio Extra] Como seria para agrupar os dados no formato `mes/ano` , ao invés de apenas mês?"
      ]
    },
    {
      "cell_type": "code",
      "execution_count": null,
      "id": "7c9b6a14",
      "metadata": {
        "id": "7c9b6a14"
      },
      "outputs": [],
      "source": []
    },
    {
      "cell_type": "markdown",
      "id": "a98577da",
      "metadata": {
        "id": "a98577da"
      },
      "source": [
        "### 7) Limpe a coluna `txtCNPJCPF`: ela deve conter somente dígitos numéricos"
      ]
    },
    {
      "cell_type": "code",
      "execution_count": null,
      "id": "72548aa5",
      "metadata": {
        "id": "72548aa5"
      },
      "outputs": [],
      "source": [
        "# vamos trocar qualquer caracter que não seja um dígito número por '', essa operação remove os dígitos\n",
        "df_reimbursements[\"txtCNPJCPF\"] = df_reimbursements..."
      ]
    },
    {
      "cell_type": "markdown",
      "id": "d5592506",
      "metadata": {
        "id": "d5592506"
      },
      "source": [
        "### 8) Quais são os valores únicos do campo `indTipoDocumento`? Substitua o conteúdo pela respectiva legenda\n",
        "\n",
        "*Dica*: 0 (Zero), para Nota Fiscal; 1 (um), para Recibo; e 2, para Despesa no Exterior."
      ]
    },
    {
      "cell_type": "code",
      "execution_count": null,
      "id": "1c9b5dcd",
      "metadata": {
        "id": "1c9b5dcd"
      },
      "outputs": [],
      "source": []
    },
    {
      "cell_type": "markdown",
      "id": "ce8402aa",
      "metadata": {
        "id": "ce8402aa"
      },
      "source": [
        "### [Desafio Extra] 9) Agrupe o valor total de despesas por fornecedor, mês e ano. Você encontrou algum padrão?"
      ]
    },
    {
      "cell_type": "code",
      "execution_count": null,
      "id": "edc06727",
      "metadata": {
        "id": "edc06727"
      },
      "outputs": [],
      "source": []
    },
    {
      "cell_type": "markdown",
      "id": "5cf22688",
      "metadata": {
        "id": "5cf22688"
      },
      "source": [
        "### [Desafio Extra] 10) Quais os 10 parlamentares que mais solicitaram reembolso?"
      ]
    },
    {
      "cell_type": "code",
      "execution_count": null,
      "id": "743e3925",
      "metadata": {
        "id": "743e3925"
      },
      "outputs": [],
      "source": []
    },
    {
      "cell_type": "markdown",
      "id": "ada7feda",
      "metadata": {
        "id": "ada7feda"
      },
      "source": [
        "#### [Desafio Extra] Como ficaria a resposta, caso queiramos saber quais os seus estados e partidos?"
      ]
    },
    {
      "cell_type": "code",
      "execution_count": null,
      "id": "054348d3",
      "metadata": {
        "id": "054348d3"
      },
      "outputs": [],
      "source": []
    },
    {
      "cell_type": "markdown",
      "id": "97afecd5",
      "metadata": {
        "id": "97afecd5"
      },
      "source": [
        "### [Desafio Extra] 11) Quais os partidos e os estados que mais solicitaram reembolso?"
      ]
    },
    {
      "cell_type": "code",
      "execution_count": null,
      "id": "6b8131d8",
      "metadata": {
        "id": "6b8131d8"
      },
      "outputs": [],
      "source": []
    },
    {
      "cell_type": "markdown",
      "id": "48b6dd88",
      "metadata": {
        "id": "48b6dd88"
      },
      "source": [
        "### [Desafio Extra] 12) Recupere os reembolsos de 2019 e acrescente aos dados de 2018"
      ]
    },
    {
      "cell_type": "code",
      "execution_count": null,
      "id": "cf275d82",
      "metadata": {
        "id": "cf275d82"
      },
      "outputs": [],
      "source": []
    },
    {
      "cell_type": "markdown",
      "id": "3956e033",
      "metadata": {
        "id": "3956e033"
      },
      "source": [
        "### [Desafio Extra] 13) Responda novamente as questões 9, 10 e 11. Houve alguma mudança nos resultados?"
      ]
    },
    {
      "cell_type": "code",
      "execution_count": null,
      "id": "913dd2a1",
      "metadata": {
        "id": "913dd2a1"
      },
      "outputs": [],
      "source": []
    }
  ],
  "metadata": {
    "kernelspec": {
      "display_name": "Python 3 (ipykernel)",
      "language": "python",
      "name": "python3"
    },
    "language_info": {
      "codemirror_mode": {
        "name": "ipython",
        "version": 3
      },
      "file_extension": ".py",
      "mimetype": "text/x-python",
      "name": "python",
      "nbconvert_exporter": "python",
      "pygments_lexer": "ipython3",
      "version": "3.8.11"
    },
    "toc": {
      "base_numbering": 1,
      "nav_menu": {},
      "number_sections": true,
      "sideBar": true,
      "skip_h1_title": false,
      "title_cell": "Table of Contents",
      "title_sidebar": "Contents",
      "toc_cell": false,
      "toc_position": {
        "height": "calc(100% - 180px)",
        "left": "10px",
        "top": "150px",
        "width": "165px"
      },
      "toc_section_display": true,
      "toc_window_display": true
    },
    "colab": {
      "provenance": []
    }
  },
  "nbformat": 4,
  "nbformat_minor": 5
}