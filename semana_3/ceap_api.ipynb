{
  "cells": [
    {
      "cell_type": "markdown",
      "id": "4914c7df",
      "metadata": {
        "id": "4914c7df"
      },
      "source": [
        "# Escola de Dados - Python para inovação cívica\n",
        "\n",
        "## Semana 3: Análise exporatória de dados do Legislativo\n",
        "\n",
        "* [Aula 02: Acessando os dados da CEAP via API](#Aula-02:-Acessando-os-dados-da-CEAP-via-API)\n",
        "* [Aula 03: Lendo os dados com Pandas](#Aula-03:-Lendo-os-dados-com-Pandas)\n",
        "    * [Dicionário de dados](#Dicionário-de-Dados)\n",
        "* [Aula 04: Organizando e visualizando os dados](#Aula-04:-Organizando-e-visualizando-os-dados)\n",
        "    * [Informando tipos na leitura dos dados](#Informando-tipos-na-leitura-dos-dados)\n",
        "    * [Preenchendo valores nulos](#Preenchendo-valores-nulos)\n",
        "    * [Sugestões de transformações](#Sugestões-de-transformações)\n",
        "* [Aula 07: Dados da Receita Federal](#Aula-07:-Dados-da-Receita-Federal)"
      ]
    },
    {
      "cell_type": "markdown",
      "id": "923fd0c8",
      "metadata": {
        "id": "923fd0c8"
      },
      "source": [
        "---"
      ]
    },
    {
      "cell_type": "markdown",
      "id": "eec2c925",
      "metadata": {
        "id": "eec2c925",
        "tags": []
      },
      "source": [
        "## Aula 02: Acessando os dados da CEAP via API"
      ]
    },
    {
      "cell_type": "markdown",
      "id": "8b0ee316",
      "metadata": {
        "id": "8b0ee316"
      },
      "source": [
        "Para baixar os arquivos das despesas pela **Cota para Exercício da Atividade Parlamentar** (CEAP), podemos utilizar a API da Câmara Legislativa. Os arquivos de cada ano estão disponíveis via URLs no formato `http://www.camara.leg.br/cotas/Ano-{ano}.{formato}[.zip]`.\n",
        "\n",
        "Você pode encontrar mais detalhes na [documentação dos dados sobre Despesas pela Cota para Exercício da Atividade Parlamentar](https://dadosabertos.camara.leg.br/swagger/api.html#staticfile).\n",
        "\n",
        "Há diversas formas de fazer o download dos arquivos usando Python. Para esse tutorial, vamos usar o pacote `requests`."
      ]
    },
    {
      "cell_type": "code",
      "execution_count": null,
      "id": "55c3f455",
      "metadata": {
        "id": "55c3f455",
        "tags": []
      },
      "outputs": [],
      "source": [
        "url = f\"http://www.camara.leg.br/cotas/Ano-2019.csv.zip\""
      ]
    },
    {
      "cell_type": "code",
      "execution_count": null,
      "id": "e335c8c7",
      "metadata": {
        "id": "e335c8c7",
        "tags": []
      },
      "outputs": [],
      "source": [
        "import requests\n",
        "\n",
        "# fazendo o download do conteúdo do arquivo\n",
        "r = requests.get(url)"
      ]
    },
    {
      "cell_type": "code",
      "execution_count": null,
      "id": "a80fbd1c",
      "metadata": {
        "id": "a80fbd1c",
        "tags": []
      },
      "outputs": [],
      "source": [
        "# abrindo um arquivo no seu computador\n",
        "file = open(f\"Ano-2019.csv.zip\", \"wb\")\n",
        "\n",
        "# escrever o conteúdo\n",
        "file.write(r.content)\n",
        "file.close()"
      ]
    },
    {
      "cell_type": "code",
      "execution_count": null,
      "id": "4407d92a",
      "metadata": {
        "id": "4407d92a"
      },
      "outputs": [],
      "source": [
        "# outra forma de criar arquivos, e escrever conteúdo\n",
        "\n",
        "# with open(f\"Ano-{year}.csv.zip\", \"wb\") as code:\n",
        "#    code.write(r.content)"
      ]
    },
    {
      "cell_type": "markdown",
      "id": "4c1d34dc",
      "metadata": {
        "id": "4c1d34dc"
      },
      "source": [
        "Como o arquivo baixado pela API é um arquivo zip, vamos precisar descompatar. Vamos usar o `zipfile`, um módulo que nos dá ferramentas para diversas manipulações de arquivos zipados."
      ]
    },
    {
      "cell_type": "code",
      "execution_count": 4,
      "id": "db445c34",
      "metadata": {
        "id": "db445c34"
      },
      "outputs": [],
      "source": [
        "from zipfile import ZipFile"
      ]
    },
    {
      "cell_type": "code",
      "execution_count": 5,
      "id": "a75fb247",
      "metadata": {
        "id": "a75fb247"
      },
      "outputs": [],
      "source": [
        "# Lê o arquivo zip baixado\n",
        "zip_file = ZipFile(f\"Ano-2019.csv.zip\", \"r\")"
      ]
    },
    {
      "cell_type": "code",
      "execution_count": 8,
      "id": "ba5a3fe0",
      "metadata": {
        "colab": {
          "base_uri": "https://localhost:8080/"
        },
        "id": "ba5a3fe0",
        "outputId": "e07787ed-c759-4a32-9349-87801a74cd12"
      },
      "outputs": [
        {
          "output_type": "execute_result",
          "data": {
            "text/plain": [
              "['Ano-2019.csv']"
            ]
          },
          "metadata": {},
          "execution_count": 8
        }
      ],
      "source": [
        "# Lista os arquivos dentro do arquivo compactado .zip\n",
        "zip_file.namelist()"
      ]
    },
    {
      "cell_type": "code",
      "execution_count": null,
      "id": "835aaa1a",
      "metadata": {
        "id": "835aaa1a"
      },
      "outputs": [],
      "source": [
        "# Extrair o arquivo selecionado na propriedade member\n",
        "zip_file.extract(member=f\"Ano-2019.csv\", path=f\"reembolso-2019\")"
      ]
    },
    {
      "cell_type": "code",
      "execution_count": null,
      "id": "aea63be7",
      "metadata": {
        "id": "aea63be7",
        "tags": []
      },
      "outputs": [],
      "source": [
        "# caso a gente queira extrair todo o conteúdo do arquivo zip (descomentar a linha a seguir)\n",
        "\n",
        "# zip_file.extractall(path=f\"reimbursements-{year}\")"
      ]
    },
    {
      "cell_type": "code",
      "execution_count": 9,
      "id": "3a113e58",
      "metadata": {
        "id": "3a113e58"
      },
      "outputs": [],
      "source": [
        "zip_file.close()"
      ]
    },
    {
      "cell_type": "markdown",
      "id": "b398e285",
      "metadata": {
        "id": "b398e285"
      },
      "source": [
        "### Documentações para consulta\n",
        "\n",
        "1. requests - [Documentação](https://requests.readthedocs.io/en/latest/)\n",
        "2. zipfile - [Documentação](https://docs.python.org/pt-br/3/library/zipfile.html)"
      ]
    },
    {
      "cell_type": "markdown",
      "id": "e7244afa",
      "metadata": {
        "id": "e7244afa",
        "tags": []
      },
      "source": [
        "## Aula 03: Lendo os dados com Pandas"
      ]
    },
    {
      "cell_type": "code",
      "execution_count": null,
      "id": "55880b49",
      "metadata": {
        "id": "55880b49",
        "scrolled": true,
        "tags": []
      },
      "outputs": [],
      "source": [
        "import pandas as pd\n",
        "\n",
        "pd.set_option(\"display.max_columns\", None)  # Configuração para ajuda na legibilidade das tabelas"
      ]
    },
    {
      "cell_type": "code",
      "execution_count": null,
      "id": "88ab1cb1",
      "metadata": {
        "id": "88ab1cb1",
        "scrolled": true
      },
      "outputs": [],
      "source": [
        "pd.read_csv(\"reembolso-2019/Ano-2019.csv\")"
      ]
    },
    {
      "cell_type": "markdown",
      "id": "135892df",
      "metadata": {
        "id": "135892df"
      },
      "source": [
        "Opa! Erro na leitura do nosso arquivo. Quando encontramos esse erro na leitura de um arquivo, existe algumas possíveis causas mais comuns, uma delas é que o caracter que separa as colunas pode não ser o que o `read_csv` espera.\n",
        "\n",
        "Encontre na [documentação do read_csv](https://pandas.pydata.org/docs/reference/api/pandas.read_csv.html) qual o separador considerado padrão e depois confira no arquivo qual o separador que é utilizado.\n",
        "\n",
        "Agora, modifique a próxima célula com o que você acha que deve ser feito para que a leitura do csv aconteça sem erros."
      ]
    },
    {
      "cell_type": "code",
      "execution_count": null,
      "id": "f4f74532",
      "metadata": {
        "id": "f4f74532",
        "scrolled": true
      },
      "outputs": [],
      "source": [
        "df_reembolso = pd.read_csv(\"reembolso-2019/Ano-2019.csv\", sep=\"???\")\n",
        "# sep == delimiter"
      ]
    },
    {
      "cell_type": "markdown",
      "id": "dfabdc7f",
      "metadata": {
        "id": "dfabdc7f"
      },
      "source": [
        "Vamos visualizar as 5 primeiras linhas do nosso Dataframe."
      ]
    },
    {
      "cell_type": "code",
      "execution_count": null,
      "id": "6972f3d7",
      "metadata": {
        "id": "6972f3d7"
      },
      "outputs": [],
      "source": [
        "df_reembolso.head()"
      ]
    },
    {
      "cell_type": "markdown",
      "id": "06bae264",
      "metadata": {
        "id": "06bae264"
      },
      "source": [
        "#### Como podemos fazer para visualizar as 10 primeiras linhas?\n",
        "\n",
        "*Escreva e rode o código na célula abaixo.*"
      ]
    },
    {
      "cell_type": "code",
      "execution_count": null,
      "id": "6cdc90f5",
      "metadata": {
        "id": "6cdc90f5"
      },
      "outputs": [],
      "source": []
    },
    {
      "cell_type": "markdown",
      "id": "e34e98e9",
      "metadata": {
        "id": "e34e98e9"
      },
      "source": [
        "Podemos também recuperar uma amosta aleatória do nosso Dataframe. Para isso, usamos o [`sample`](https://pandas.pydata.org/pandas-docs/stable/reference/api/pandas.DataFrame.sample.html)."
      ]
    },
    {
      "cell_type": "code",
      "execution_count": null,
      "id": "ed4d422d",
      "metadata": {
        "id": "ed4d422d"
      },
      "outputs": [],
      "source": [
        "df_reembolso.sample()"
      ]
    },
    {
      "cell_type": "markdown",
      "id": "04ac3026",
      "metadata": {
        "id": "04ac3026"
      },
      "source": [
        "#### Como podemos fazer para visualizar 5 amostras aleatórias?\n",
        "\n",
        "*Escreva e rode o código na célula abaixo.*"
      ]
    },
    {
      "cell_type": "code",
      "execution_count": null,
      "id": "fbde4877",
      "metadata": {
        "id": "fbde4877"
      },
      "outputs": [],
      "source": []
    },
    {
      "cell_type": "markdown",
      "id": "be0725bb",
      "metadata": {
        "id": "be0725bb"
      },
      "source": [
        "### Dicionário de Dados"
      ]
    },
    {
      "cell_type": "markdown",
      "id": "792b06d1",
      "metadata": {
        "id": "792b06d1"
      },
      "source": [
        "Um passo importante para dar antes de começar a análisar é **entender os dados que estamos manipulando**.\n",
        "\n",
        "*Sempre procure o significado dos campos, procure entender quais os tipos de dados preenchem aquele campo. São dados numéricos? São caracteres? Não palavras usadas para categorizar/classificar os dados?*"
      ]
    },
    {
      "cell_type": "markdown",
      "id": "18d86a62",
      "metadata": {
        "id": "18d86a62"
      },
      "source": [
        "| Elemento de Dado          | Nome do Dado                           | Definição do Dado                                                                                                                                                                                                                                                                                                                                                                                                                   |   |   |\n",
        "|---------------------------|----------------------------------------|-------------------------------------------------------------------------------------------------------------------------------------------------------------------------------------------------------------------------------------------------------------------------------------------------------------------------------------------------------------------------------------------------------------------------------------|---|---|\n",
        "| txNomeParlamentar         | Nome Parlamentar                       | Nome adotado pelo Parlamentar ao tomar posse do seu mandato. Compõe-se de dois elementos: um prenome e o nome; dois nomes; ou dois prenomes, salvo, a juízo do Presidente da Casa legislativa, que poderá alterar essa regra para que não ocorram confusões.                                                                                                                                                                        |   |   |\n",
        "| ideCadastro               | Identificador Único do Parlamentar     | Número que identifica unicamente um deputado federal na CD.                                                                                                                                                                                                                                                                                                                                                                         |   |   |\n",
        "| nuCarteiraParlamentar     | Número da  Carteira Parlamentar        | Documento usado para identificar um deputado federal na CD. Pode alterar a cada Legislatura nova.                                                                                                                                                                                                                                                                                                                                   |   |   |\n",
        "| nuLegislatura             | Número da  Legislatura                 | No contexto da cota CEAP, representa o ano base de início da legislatura e é utilizado para compor a Carteira Parlamentar, pois esta poderá ser alterada à medida que se muda de Legislatura.                                                                                                                                     |   |   |\n",
        "| sgUF                      | Sigla da UF                            | No contexto da cota CEAP, representa a unidade da federação pela qual o deputado foi eleito e é utilizada para definir o valor da cota a que o deputado tem.                                                                                                                                                                                                                                                                        |   |   |\n",
        "| sgPartido                 | Sigla do Partido                       | O seu conteúdo representa a sigla de um partido. Tem personalidade jurídica de direito privado e goza de autonomia e liberdade no que diz respeito à criação, organização e funcionamento, observados os princípios e preceitos constitucionais. |   |   |\n",
        "| codLegislatura            | Código da Legislatura                  | No contexto da cota CEAP, o seu conteúdo representa o código identificador da Legislatura, que um número ordinal sequencial, alterado de um em um, a cada início de uma nova Legislatura (por exemplo, a Legislatura que iniciou em 2011 é a 54ª Legislatura).                                                                    |   |   |\n",
        "| numSubCota                | Número da Subcota                      | No contexto da Cota CEAP, o conteúdo deste dado representa o código do Tipo de Despesa referente à despesa realizada pelo deputado e comprovada por meio da emissão de um documento fiscal, a qual é debitada na cota do deputado.                                                                                                                                                                                                  |   |   |\n",
        "| txtDescricao              | Descrição da Subcota                   | O seu conteúdo é a descrição do Tipo de Despesa relativo à despesa em questão.                                                                                                                                                                                                                                                                                                                                                      |   |   |\n",
        "| numEspecificacaoSubCota   | Número da Especificação da Subcota     | No contexto da Cota CEAP, há despesas cujo Tipo de Despesa necessita ter uma especificação mais detalhada (por exemplo, “Combustível”). O conteúdo deste dado representa o código desta especificação mais detalhada.                                                                                                                                                                                                               |   |   |\n",
        "| txtDescricaoEspecificacao | Descrição da Especificação da Subcota  | Representa a descrição  especificação mais detalhada de um referido Tipo de Despesa.                                                                                                                                                                                                                                                                                                                                                |   |   |\n",
        "| txtFornecedor             | Fornecedor                             | O conteúdo deste dado representa o nome do fornecedor do produto ou serviço presente no documento fiscal                                                                                                                                                                                                                                                                                                                            |   |   |\n",
        "| txtCNPJCPF                | CNPJ/CPF                               | O conteúdo deste dado representa o CNPJ ou o CPF do emitente do documento fiscal, quando se tratar do uso da cota em razão do reembolso despesas comprovadas pela emissão de documentos fiscais.                                                                                                                                                                                                                                    |   |   |\n",
        "| txtNumero                 | Número do Documento                    | O conteúdo deste dado representa o número de face do documento fiscal emitido ou o número do documento que deu causa à despesa debitada na cota do deputado.                                                                                                                                                                                                                                                                        |   |   |\n",
        "| indTipoDocumento          | Indicativo de Tipo de Documento Fiscal | Este dado representa o tipo de documento do fiscal – 0 (Zero), para Nota Fiscal; 1 (um), para Recibo; e 2, para Despesa no Exterior.                                                                                                                                                                                                                                                                                                |   |   |\n",
        "| datEmissao                | Data de Emissão                        | O conteúdo deste dado é a data de emissão do documento fiscal ou a data do documento que tenha dado causa à despesa.                                                                                                                                                                                                                                                                                                                |   |   |\n",
        "| vlrDocumento              | Valor do Documento                     | O seu conteúdo é o valor de face do documento fiscal ou o valor do documento que deu causa à despesa. Quando se tratar de bilhete aéreo, esse valor poderá ser negativo, significando que o referido bilhete é um bilhete de compensação, pois compensa um outro bilhete emitido e não utilizado pelo deputado (idem para o dado vlrLiquido abaixo).                                                                                |   |   |\n",
        "| vlrGlosa                  | Valor da Glosa                         | O seu conteúdo representa o valor da glosa do documento fiscal que incidirá sobre o Valor do Documento, ou o valor da glosa do documento que deu causa à despesa.                                                                                                                                                                                                                                                                   |   |   |\n",
        "| vlrLiquido                | Valor Líquido                          | O seu conteúdo representa o valor líquido do documento fiscal ou do documento que deu causa à despesa e será calculado pela diferença entre o Valor do Documento e o Valor da Glosa. É este valor que será debitado da cota do deputado. Caso o débito seja do Tipo Telefonia e o valor seja igual a zero, significa que a despesa foi franqueada.                                                                                  |   |   |\n",
        "| numMes                    | Mês                                    | O seu conteúdo representa o Mês da competência financeira do documento fiscal ou do documento que deu causa à despesa. É utilizado, junto com o ano, para determinar em que período o débito gerará efeito financeiro sobre a cota.                                                                                                                                                                                                 |   |   |\n",
        "| numAno                    | Ano                                    | O seu conteúdo representa o Ano da competência financeira do documento fiscal ou do documento que deu causa à despesa. É utilizado, junto com o mês, para determinar em que período o débito gerará efeito financeiro sobre a cota.                                                                                                                                                                                                 |   |   |\n",
        "| numParcela                | Número da Parcela                      | O seu conteúdo representa o número da parcela do documento fiscal. Ocorre quando o documento tem de ser reembolsado de forma parcelada.                                                                                                                                                                                                                                                                                             |   |   |\n",
        "| txtPassageiro             | Passageiro                             | O conteúdo deste dado representa o nome do passageiro, quando o documento que deu causa à despesa se tratar de emissão de bilhete aéreo.                                                                                                                                                                                                                                                                                            |   |   |\n",
        "| txtTrecho                 | Trecho                                 | O conteúdo deste dado representa o trecho da viagem, quando o documento que deu causa à despesa se tratar de emissão de bilhete aéreo.                                                                                                                                                                                                                                                                                              |   |   |\n",
        "| numLote                   | Número do Lote                         | No contexto da Cota CEAP, o Número do Lote representa uma capa de lote que agrupa os documentos que serão entregues à Câmara para serem ressarcidos. Este dado, juntamente com o Número do Ressarcimento, auxilia a localização do documento no Arquivo da Casa.                                                                                                                                                                    |   |   |\n",
        "| numRessarcimento          | Número do Ressarcimento                | No contexto da Cota CEAP, o Número do Ressarcimento indica o ressarcimento do qual o documento fez parte por ocasião do processamento do seu reembolso. Este dado, juntamente com o Valor da Restituição, auxilia a localização do documento no Arquivo da Casa.                                                                                                                                                                 |   |   |\n",
        "|  vlrRestituicao           |  Valor da Restituição                  |  O seu conteúdo representa o valor restituído do documento fiscal que incidirá sobre o Valor do Documento.                                                                                                                                                                                                                                                                                                                          |   |   |\n",
        "| nuDeputadoId              | Identificador do Solicitante           | Número que identifica um Parlamentar ou Liderança na Transparência da Cota para Exercício da Atividade Parlamentar.                                                                                                                                                                                                                                                                                                                 |   |   |\n",
        "\n",
        "\n",
        "Legislatura: Período de quatro anos coincidente com o mandato parlamentar dos Deputados Federais.\n",
        "\n",
        "Definição de partido: é uma organização formada por pessoas com interesse ou ideologia comuns, que se associam com o fim de assumir o poder para implantar um programa de governo.\n",
        "\n",
        "*Fonte*: [EXPLICAÇÕES SOBRE O FORMATO DOS ARQUIVOS XML](https://www2.camara.leg.br/transparencia/cota-para-exercicio-da-atividade-parlamentar/explicacoes-sobre-o-formato-dos-arquivos-xml)"
      ]
    },
    {
      "cell_type": "markdown",
      "id": "3adec44f",
      "metadata": {
        "id": "3adec44f"
      },
      "source": [
        "> Quais perguntas poderíamos responder com esses dados? E quais campos poderíamos utilizar?\n",
        "Compartilhe com os outros alunos no grupo da disciplina no Discord."
      ]
    },
    {
      "cell_type": "markdown",
      "id": "571f663b",
      "metadata": {
        "id": "571f663b",
        "tags": []
      },
      "source": [
        "## Aula 04: Organizando e visualizando os dados"
      ]
    },
    {
      "cell_type": "markdown",
      "id": "d338eea5",
      "metadata": {
        "id": "d338eea5"
      },
      "source": [
        "### Informando tipos na leitura dos dados\n",
        "\n",
        "Quando trabalhamos com pandas, é sempre interessante entender que tipos de dados estão contidos em cada coluna. Na leitura do arquivo podemos aproveitar para deixar isso configurado.\n",
        "\n",
        "Isso pode ser extramamente útil quando estamos lendo dados que contém informação sobre documentos, como CPF. Nesses casos podemos ter algo como `091777777`, se esse valor por lido como um número, ele vai virar `91777777`, já que não existe número que inicie com 0. Esse é um ótimo exemplo de dado que deve ser lido como um string, para que ele seja preservado ao máximo.\n",
        "\n",
        "Agora, sabendo quais dados nosso dataframe possui, vamos definir o tipo para cada um."
      ]
    },
    {
      "cell_type": "code",
      "execution_count": null,
      "id": "c022f1c8",
      "metadata": {
        "id": "c022f1c8"
      },
      "outputs": [],
      "source": [
        "DTYPE = {\n",
        "    \"txNomeParlamentar\": str,\n",
        "    \"ideCadastro\": str,\n",
        "    \"nuCarteiraParlamentar\": str,\n",
        "    \"nuLegislatura\": str,\n",
        "    \"sgUF\": str,\n",
        "    \"sgPartido\": str,\n",
        "    \"codLegislatura\": str,\n",
        "    \"numSubCota\": str,\n",
        "    \"txtDescricao\": str,\n",
        "    \"numEspecificacaoSubCota\": str,\n",
        "    \"txtDescricaoEspecificacao\": str,\n",
        "    \"txtFornecedor\": str,\n",
        "    \"txtCNPJCPF\": str,\n",
        "    \"txtNumero\": str,\n",
        "    \"indTipoDocumento\": str,\n",
        "    \"datEmissao\": str,\n",
        "    \"vlrDocumento\": float,\n",
        "    \"vlrGlosa\": str,\n",
        "    \"vlrLiquido\": float,\n",
        "    \"numMes\": str,\n",
        "    \"numAno\": str,\n",
        "    \"numParcela\": str,\n",
        "    \"txtPassageiro\": str,\n",
        "    \"txtTrecho\": str,\n",
        "    \"numLote\": str,\n",
        "    \"numRessarcimento\": str,\n",
        "    \"nuDeputadoId\": str,\n",
        "    \"ideDocumento\": str,\n",
        "}\n",
        "\n",
        "df_reembolso = pd.read_csv(\n",
        "    \"reembolso-2019/Ano-2019.csv\", delimiter=\";\", dtype=DTYPE, low_memory=False\n",
        ")"
      ]
    },
    {
      "cell_type": "markdown",
      "id": "b5377bd8",
      "metadata": {
        "id": "b5377bd8"
      },
      "source": [
        "Opa! Você lembra qual método podemos usar para conferir os tipos de cada coluna?\n",
        "\n",
        "**dica**: já passamos por esse método..."
      ]
    },
    {
      "cell_type": "code",
      "execution_count": null,
      "id": "e02c7464",
      "metadata": {
        "id": "e02c7464"
      },
      "outputs": [],
      "source": []
    },
    {
      "cell_type": "markdown",
      "id": "f048cb6e",
      "metadata": {
        "id": "f048cb6e"
      },
      "source": [
        "#### astype"
      ]
    },
    {
      "cell_type": "code",
      "execution_count": null,
      "id": "a68a72f8",
      "metadata": {
        "id": "a68a72f8"
      },
      "outputs": [],
      "source": [
        "# df_reembolso[\"ideCadastro\"] = df_reembolso[\"ideCadastro\"].astype('string')"
      ]
    },
    {
      "cell_type": "markdown",
      "id": "71f17e53",
      "metadata": {
        "id": "71f17e53"
      },
      "source": [
        "Vamos conhecer mais algumas operações que podem nos ajudar a visualizar e entender nossos dados."
      ]
    },
    {
      "cell_type": "code",
      "execution_count": null,
      "id": "f0cb417d",
      "metadata": {
        "id": "f0cb417d"
      },
      "outputs": [],
      "source": [
        "df_reembolso.tail()"
      ]
    },
    {
      "cell_type": "code",
      "execution_count": null,
      "id": "70b43e5c",
      "metadata": {
        "id": "70b43e5c"
      },
      "outputs": [],
      "source": [
        "df_reembolso.shape"
      ]
    },
    {
      "cell_type": "code",
      "execution_count": null,
      "id": "3054e189",
      "metadata": {
        "id": "3054e189"
      },
      "outputs": [],
      "source": [
        "df_reembolso.info()"
      ]
    },
    {
      "cell_type": "code",
      "execution_count": null,
      "id": "5950673e",
      "metadata": {
        "id": "5950673e"
      },
      "outputs": [],
      "source": [
        "df_reembolso.columns"
      ]
    },
    {
      "cell_type": "markdown",
      "id": "da6b8ca1",
      "metadata": {
        "id": "da6b8ca1"
      },
      "source": [
        "### Preenchendo valores nulos"
      ]
    },
    {
      "cell_type": "markdown",
      "id": "25400fb6",
      "metadata": {
        "id": "25400fb6"
      },
      "source": [
        "#### 1. Substituir os valores nulos por \"Não se aplica\""
      ]
    },
    {
      "cell_type": "code",
      "execution_count": null,
      "id": "984526e5",
      "metadata": {
        "id": "984526e5"
      },
      "outputs": [],
      "source": [
        "df_reembolso.fillna(value=\"Não se aplica\").head()"
      ]
    },
    {
      "cell_type": "markdown",
      "id": "9e436f26",
      "metadata": {
        "id": "9e436f26"
      },
      "source": [
        "Caso deseje aplicar a sugestão de transformação, execute:"
      ]
    },
    {
      "cell_type": "code",
      "execution_count": null,
      "id": "e676382c",
      "metadata": {
        "id": "e676382c"
      },
      "outputs": [],
      "source": [
        "# df_reembolso = df_reembolso.fillna(value=\"Não se aplica\")"
      ]
    },
    {
      "cell_type": "markdown",
      "id": "593eb0d8",
      "metadata": {
        "id": "593eb0d8"
      },
      "source": [
        "#### 2. Filtrar por registros que estejam com a Sigla do Partido Nulos"
      ]
    },
    {
      "cell_type": "code",
      "execution_count": null,
      "id": "6276a7bf",
      "metadata": {
        "id": "6276a7bf"
      },
      "outputs": [],
      "source": [
        "df_reembolso[df_reembolso.sgPartido.isna()]"
      ]
    },
    {
      "cell_type": "markdown",
      "id": "d645fabb",
      "metadata": {
        "id": "d645fabb"
      },
      "source": [
        "Você pode nessa etapa decidir se gostaria de remover esses registros, renomear para outro valor com o `fillna`, entre outras coisas.\n",
        "\n",
        "Lembrando que essas verificações são importantes para conhecer mais os dados que você está trabalhando."
      ]
    },
    {
      "cell_type": "markdown",
      "id": "8dd5d487",
      "metadata": {
        "id": "8dd5d487"
      },
      "source": [
        "#### 3. Verificar se existem registros com o número de documento fiscal nulo"
      ]
    },
    {
      "cell_type": "code",
      "execution_count": null,
      "id": "41730b73",
      "metadata": {
        "id": "41730b73"
      },
      "outputs": [],
      "source": [
        "df_reembolso[df_reembolso[\"ideDocumento\"].isnull()]"
      ]
    },
    {
      "cell_type": "markdown",
      "id": "93826975",
      "metadata": {
        "id": "93826975"
      },
      "source": [
        "Caso tenha registros nulos, definir o que será feito.\n",
        "\n",
        "Ações que poderiam ser realizadas: remover valores nulos, renomear valores nulos, verificar se ocorreu algum erro na leitura dos dados e etc.\n",
        "\n",
        "Fazer essas verificações é importante para conhecer mais os dados que estão sendo trabalhos."
      ]
    },
    {
      "cell_type": "markdown",
      "id": "3022a0e5",
      "metadata": {
        "id": "3022a0e5"
      },
      "source": [
        "### Sugestões de transformações\n",
        "\n",
        "> As transformações são operações que fazemos que fazemos nos dados, para que eles fiquem utilizáveis."
      ]
    },
    {
      "cell_type": "markdown",
      "id": "51e672ae",
      "metadata": {
        "tags": [],
        "id": "51e672ae"
      },
      "source": [
        "#### 1. Converter a coluna de data de emissão que está como `str` para `datetime`\n",
        "\n",
        "Por default, o `to_datetime()` vai converter string no formato `MM/DD`, `MMDD` ou `MM-DD`. No nosso caso, as datas estão em um formato diferente, por isso, vamos passar como argumento do `format`o valor `%Y-%m-%d`, informando que as datas possuem primeiro o *ano* completo (ex.: 2020), *mês (ex.: 05), e dia (ex.: 12)."
      ]
    },
    {
      "cell_type": "code",
      "execution_count": null,
      "id": "8bf65f61",
      "metadata": {
        "id": "8bf65f61"
      },
      "outputs": [],
      "source": [
        "df_reembolso[\"datEmissao\"] = pd.to_datetime(df_reembolso.datEmissao, format=\"%Y-%m-%d\")"
      ]
    },
    {
      "cell_type": "markdown",
      "id": "ede6366c",
      "metadata": {
        "id": "ede6366c"
      },
      "source": [
        "Caso essa conversão gere algum erro, você pode informar ao pandas como ele deve lidar com isso. O `to_datetime()` possue o argumento `errors`, que pode receber `ignore` caso você queria que os erros sejam ignorados, ou `coerce` caso você queria que os valores inválidos recebam `NaT`."
      ]
    },
    {
      "cell_type": "markdown",
      "id": "c942b33f",
      "metadata": {
        "id": "c942b33f"
      },
      "source": [
        "##### Para quem quiser saber mais!\n",
        "\n",
        "Você deve estar se perguntando o porquê dessa conversão utilizando o `to_datetime`. _O que ganhamos com isso?_ Existem várias vantagens do Pandas entender que uma coluna é uma data. Uma dessas vantagens é que você vai poder trabalhar com os dados como uma série temporal, ou seja, um conjunto de registros ao longo do tempo.\n",
        "\n",
        "Os reembolsos se encaixam bem nisso... pense só, nossos dados são um conjunto de pedidos de reembolsos solicitados ao longo de um ano. Quando convertemos o dados para um datetime, podemos realizar algumas operações que só são possíveis com datas. Por exemplo, podemos selecionar uma janela de tempo:"
      ]
    },
    {
      "cell_type": "code",
      "execution_count": null,
      "id": "f19fbf56",
      "metadata": {
        "id": "f19fbf56"
      },
      "outputs": [],
      "source": [
        "df_reembolso.set_index(\"datEmissao\").loc[\"2020-01-01\":\"2020-04-30\"]"
      ]
    },
    {
      "cell_type": "markdown",
      "id": "2cf004ba",
      "metadata": {
        "id": "2cf004ba"
      },
      "source": [
        "Outras coisas são possíveis, como encontrar o dia da semana de cada uma dessas datas, calcular a média móvel, calcular quantos anos se passaram, ou agrupar os dados por janelas de tempo."
      ]
    },
    {
      "cell_type": "markdown",
      "id": "491ed14d",
      "metadata": {
        "id": "491ed14d"
      },
      "source": [
        "Também podemos verificar qual a data mais recente e mais antiga, por exemplo, executando:"
      ]
    },
    {
      "cell_type": "code",
      "execution_count": null,
      "id": "4622ccbb",
      "metadata": {
        "id": "4622ccbb"
      },
      "outputs": [],
      "source": [
        "df_reembolso.datEmissao.min()"
      ]
    },
    {
      "cell_type": "markdown",
      "id": "9f7cdff2",
      "metadata": {
        "tags": [],
        "id": "9f7cdff2"
      },
      "source": [
        "#### 2. Remover caracteres diferentes de números da coluna `txtCNPJCPF`"
      ]
    },
    {
      "cell_type": "markdown",
      "id": "456e01dc",
      "metadata": {
        "id": "456e01dc"
      },
      "source": [
        "A coluna `txtCNPJCPF` possuí inicialmente o seguinte padrão de valores:"
      ]
    },
    {
      "cell_type": "code",
      "execution_count": null,
      "id": "9c634691",
      "metadata": {
        "id": "9c634691"
      },
      "outputs": [],
      "source": [
        "df_reembolso[\"txtCNPJCPF\"].head()"
      ]
    },
    {
      "cell_type": "markdown",
      "id": "becfc2b7",
      "metadata": {
        "id": "becfc2b7"
      },
      "source": [
        "Iremos remover os caracteres diferentes de dígitos do conteúdo:"
      ]
    },
    {
      "cell_type": "code",
      "execution_count": null,
      "id": "f814a3a3",
      "metadata": {
        "id": "f814a3a3"
      },
      "outputs": [],
      "source": [
        "df_reembolso[\"txtCNPJCPF\"] = df_reembolso[\"txtCNPJCPF\"].str.replace(r\"\\D\", \"\", regex=True)"
      ]
    },
    {
      "cell_type": "code",
      "execution_count": null,
      "id": "d0081efa",
      "metadata": {
        "id": "d0081efa"
      },
      "outputs": [],
      "source": [
        "df_reembolso[\"txtCNPJCPF\"].head()"
      ]
    },
    {
      "cell_type": "markdown",
      "id": "e8bb3954",
      "metadata": {
        "tags": [],
        "id": "e8bb3954"
      },
      "source": [
        "#### 3. Refatorando a coluna de `indTipoDocumento`\n",
        "\n",
        "A coluna `indTipoDocumento` representa o tipo de documento do fiscal, podendo ser:\n",
        "- 0 (zero), para Nota Fiscal;\n",
        "- 1 (um), para Recibo;\n",
        "- 2 (dois), para Despesa no Exterior."
      ]
    },
    {
      "cell_type": "code",
      "execution_count": null,
      "id": "f97ca602",
      "metadata": {
        "id": "f97ca602"
      },
      "outputs": [],
      "source": [
        "df_reembolso[\"indTipoDocumento\"].head()"
      ]
    },
    {
      "cell_type": "code",
      "execution_count": null,
      "id": "7c31b966",
      "metadata": {
        "id": "7c31b966"
      },
      "outputs": [],
      "source": [
        "df_reembolso.indTipoDocumento.unique()"
      ]
    },
    {
      "cell_type": "markdown",
      "id": "5a048170",
      "metadata": {
        "id": "5a048170"
      },
      "source": [
        "Ficará mais legível converter esses números para texto.\n",
        "\n",
        "Iremos fazer isso a seguir:"
      ]
    },
    {
      "cell_type": "code",
      "execution_count": null,
      "id": "5166905a",
      "metadata": {
        "id": "5166905a"
      },
      "outputs": [],
      "source": [
        "converters = {\"0\": \"nota_fiscal\", \"1\": \"recibo\", \"2\": \"despesa_exterior\", \"4\": None}\n",
        "\n",
        "converters"
      ]
    },
    {
      "cell_type": "code",
      "execution_count": null,
      "id": "0b7a82b2",
      "metadata": {
        "id": "0b7a82b2"
      },
      "outputs": [],
      "source": [
        "df_reembolso.indTipoDocumento.replace(converters, inplace=True)"
      ]
    },
    {
      "cell_type": "code",
      "execution_count": null,
      "id": "f521b74b",
      "metadata": {
        "id": "f521b74b"
      },
      "outputs": [],
      "source": [
        "df_reembolso.indTipoDocumento.unique()"
      ]
    },
    {
      "cell_type": "markdown",
      "id": "8a71006d",
      "metadata": {
        "tags": [],
        "id": "8a71006d"
      },
      "source": [
        "## Aula 05: Analisando os dados da CEAP"
      ]
    },
    {
      "cell_type": "code",
      "execution_count": null,
      "id": "bb96ef95",
      "metadata": {
        "id": "bb96ef95"
      },
      "outputs": [],
      "source": [
        "df_reembolso = pd.read_csv(\"reembolso-2019/Ano-2019.csv\", delimiter=\";\", low_memory=False)"
      ]
    },
    {
      "cell_type": "markdown",
      "id": "0eadc74d",
      "metadata": {
        "id": "0eadc74d"
      },
      "source": [
        "### Exemplo de perguntas iniciais"
      ]
    },
    {
      "cell_type": "markdown",
      "id": "bd288a6b",
      "metadata": {
        "id": "bd288a6b"
      },
      "source": [
        "#### Quantos parlamentares solicitaram reembolso?\n",
        "\n",
        "Podemos contar a quantidade de registros únicos na coluna `txNomeParlamentar`.\n",
        "\n",
        "Mas é importante lembrar que em alguns casos o nome consta como `LIDERENÇA ...`."
      ]
    },
    {
      "cell_type": "code",
      "execution_count": null,
      "id": "a03621fa",
      "metadata": {
        "scrolled": true,
        "id": "a03621fa"
      },
      "outputs": [],
      "source": [
        "txNomeParlamentar = df_reembolso.txNomeParlamentar.apply(lambda x: x.upper()).unique()\n",
        "txNomeParlamentar"
      ]
    },
    {
      "cell_type": "code",
      "execution_count": null,
      "id": "cf503294",
      "metadata": {
        "id": "cf503294"
      },
      "outputs": [],
      "source": [
        "len(txNomeParlamentar)"
      ]
    },
    {
      "cell_type": "markdown",
      "id": "b99ccb02",
      "metadata": {
        "id": "b99ccb02"
      },
      "source": [
        "#### Quais os 10 parlamentares mais citados?\n",
        "\n",
        "Para responder essa pergunta, precisamos verificar a frequência em que os nomes dos parlamentares aparecem no dataset."
      ]
    },
    {
      "cell_type": "code",
      "execution_count": null,
      "id": "821375b7",
      "metadata": {
        "id": "821375b7"
      },
      "outputs": [],
      "source": [
        "df_reembolso.txNomeParlamentar.value_counts().sort_values(ascending=False).to_frame().head(10)"
      ]
    },
    {
      "cell_type": "markdown",
      "id": "63925cae",
      "metadata": {
        "id": "63925cae"
      },
      "source": [
        "#### Quais os gastos mais frequentes?\n",
        "\n",
        "Podemos aplicar o `values_counts` na coluna `txtDescricao`, para identificar a frequência dos tipos de gastos."
      ]
    },
    {
      "cell_type": "code",
      "execution_count": null,
      "id": "9a93f6ad",
      "metadata": {
        "id": "9a93f6ad"
      },
      "outputs": [],
      "source": [
        "df_reembolso.txtDescricao.value_counts()  # normalize=True"
      ]
    },
    {
      "cell_type": "markdown",
      "id": "b3b3cd45",
      "metadata": {
        "id": "b3b3cd45"
      },
      "source": [
        "#### Qual o maior gasto com alimentação foi registrado?\n",
        "\n",
        "Filtrando por tipo de descrição e acessando o valor máximo, podemos saber isso."
      ]
    },
    {
      "cell_type": "code",
      "execution_count": null,
      "id": "98231029",
      "metadata": {
        "id": "98231029"
      },
      "outputs": [],
      "source": [
        "df_reembolso[df_reembolso.txtDescricao == \"FORNECIMENTO DE ALIMENTAÇÃO DO PARLAMENTAR\"][\n",
        "    \"vlrLiquido\"\n",
        "].max()"
      ]
    },
    {
      "cell_type": "markdown",
      "id": "8b205484",
      "metadata": {
        "id": "8b205484"
      },
      "source": [
        "#### Qual ou quais parlamentares foram responsáveis por solicitar esse reembolso com gasto de alimentação?\n",
        "\n",
        "Para saber isso, vamos precisar pegar o valor máximo registrado na categoria `FORNECIMENTO DE ALIMENTAÇÃO DO PARLAMENTAR`, depois vamos precisar filtrar apenas por registros presentes nessa categoria. Porque assim, evitamos pegar registros com o mesmo valor mas que estão relacionados com outras categorias."
      ]
    },
    {
      "cell_type": "code",
      "execution_count": null,
      "id": "c9f7a010",
      "metadata": {
        "id": "c9f7a010"
      },
      "outputs": [],
      "source": [
        "gasto_alimentacao = df_reembolso.txtDescricao == \"FORNECIMENTO DE ALIMENTAÇÃO DO PARLAMENTAR\"\n",
        "\n",
        "alimentacao_max = df_reembolso[\n",
        "    df_reembolso.txtDescricao == \"FORNECIMENTO DE ALIMENTAÇÃO DO PARLAMENTAR\"\n",
        "][\"vlrLiquido\"].max()\n",
        "\n",
        "df_reembolso[gasto_alimentacao & (df_reembolso.vlrLiquido == alimentacao_max)]"
      ]
    },
    {
      "cell_type": "markdown",
      "id": "fee4e991",
      "metadata": {
        "id": "fee4e991"
      },
      "source": [
        "#### Qual o parlamentar com o maior valor de reembolso?\n",
        "\n",
        "Uma forma de saber isso, é comparando o valor da nota de reembolso com o valor máximo presente na base."
      ]
    },
    {
      "cell_type": "code",
      "execution_count": null,
      "id": "53fa667a",
      "metadata": {
        "id": "53fa667a"
      },
      "outputs": [],
      "source": [
        "df_reembolso[df_reembolso.vlrLiquido == df_reembolso.vlrLiquido.max()]"
      ]
    },
    {
      "cell_type": "markdown",
      "id": "1e3de6c9",
      "metadata": {
        "id": "1e3de6c9"
      },
      "source": [
        "#### Quais parlamentares gastaram mais de R$ 100.000,00?\n",
        "\n",
        "Independente do valor desejado, o filtro do pandas permite a gente responder essa pergunta."
      ]
    },
    {
      "cell_type": "code",
      "execution_count": null,
      "id": "08f81f4c",
      "metadata": {
        "id": "08f81f4c"
      },
      "outputs": [],
      "source": [
        "df_reembolso[df_reembolso.vlrLiquido > 100000]"
      ]
    },
    {
      "cell_type": "markdown",
      "id": "d5ebb6b7",
      "metadata": {
        "id": "d5ebb6b7"
      },
      "source": [
        "#### Qual a média de gastos dos parlamentares?\n",
        "\n",
        "A função `mean` pode nós ajudar com isso."
      ]
    },
    {
      "cell_type": "code",
      "execution_count": null,
      "id": "d95395cb",
      "metadata": {
        "id": "d95395cb"
      },
      "outputs": [],
      "source": [
        "df_reembolso[\"vlrLiquido\"].mean()"
      ]
    },
    {
      "cell_type": "markdown",
      "id": "6874036c",
      "metadata": {
        "id": "6874036c"
      },
      "source": [
        "### Explorando mais o campo `vlrLiquido`"
      ]
    },
    {
      "cell_type": "markdown",
      "id": "9cedb7ba",
      "metadata": {
        "id": "9cedb7ba"
      },
      "source": [
        "#### Soma total:"
      ]
    },
    {
      "cell_type": "code",
      "execution_count": null,
      "id": "f0a9848b",
      "metadata": {
        "id": "f0a9848b"
      },
      "outputs": [],
      "source": [
        "df_reembolso[\"vlrLiquido\"].sum()"
      ]
    },
    {
      "cell_type": "markdown",
      "id": "e7ceacf0",
      "metadata": {
        "id": "e7ceacf0"
      },
      "source": [
        "#### Utilizando gráficos para explorar os dados"
      ]
    },
    {
      "cell_type": "code",
      "execution_count": null,
      "id": "c9ef4c4e",
      "metadata": {
        "id": "c9ef4c4e"
      },
      "outputs": [],
      "source": [
        "import matplotlib.pyplot as plt"
      ]
    },
    {
      "cell_type": "code",
      "execution_count": null,
      "id": "036f3c63",
      "metadata": {
        "id": "036f3c63"
      },
      "outputs": [],
      "source": [
        "plt.title(\"valor liquido\")\n",
        "\n",
        "plt.scatter(x=df_reembolso.index, y=df_reembolso[\"vlrLiquido\"], s=5)\n",
        "plt.hlines(y=df_reembolso[\"vlrLiquido\"].mean(), xmin=0, xmax=df[\"vlrLiquido\"].count(), color=\"red\");"
      ]
    },
    {
      "cell_type": "markdown",
      "id": "7a9fd85b",
      "metadata": {
        "id": "7a9fd85b"
      },
      "source": [
        "#### Descrição dos dados"
      ]
    },
    {
      "cell_type": "code",
      "execution_count": null,
      "id": "20676651",
      "metadata": {
        "id": "20676651"
      },
      "outputs": [],
      "source": [
        "df_reembolso[\"vlrLiquido\"].describe()"
      ]
    },
    {
      "cell_type": "markdown",
      "id": "c81c62eb",
      "metadata": {
        "id": "c81c62eb"
      },
      "source": [
        "Aqui nós podemos ver que temos valores negativos. Esse valores são referentes a bilhetes de compensação, bilhete de compensação é o bilhete aéreo não voado, que foi reembolsado à Câmara dos Deputados. Portanto, o valor relativo aos bilhetes compensados (não voados) são reembolsados/devolvidos à Casa, deduzindo-se as taxas de cancelamento e de no-show, de acordo com as regras tarifárias da companhia aérea respectiva.\n",
        "\n",
        "Esse crédito pode voltar para a conta corrente do parlamentar mantida na companhia aérea para ser utilizado com nova emissão de passagem aérea ou poderá voltar para a CEAP do respectivo parlamentar, ficando disponível para utilização com as demais despesas.\n",
        "\n",
        "Para entender mais, vejam a thread: https://github.com/okfn-brasil/serenata-de-amor/issues/29"
      ]
    },
    {
      "cell_type": "markdown",
      "id": "a4008baa",
      "metadata": {
        "id": "a4008baa"
      },
      "source": [
        "#### Explorando mais o caso dos valores negativos"
      ]
    },
    {
      "cell_type": "markdown",
      "id": "4270c1fc",
      "metadata": {
        "id": "4270c1fc"
      },
      "source": [
        "Para entender melhor sobre esses valores, vamos recuperar todos os valores negativos."
      ]
    },
    {
      "cell_type": "code",
      "execution_count": null,
      "id": "68c94c14",
      "metadata": {
        "id": "68c94c14"
      },
      "outputs": [],
      "source": [
        "negative_documents = df_reembolso[df_reembolso[\"vlrLiquido\"] < 0]\n",
        "len(negative_documents)"
      ]
    },
    {
      "cell_type": "markdown",
      "id": "24fdaebe",
      "metadata": {
        "id": "24fdaebe"
      },
      "source": [
        "Em teoria, para cada documento negativo, vamos ter outro documento positivo relacionado."
      ]
    },
    {
      "cell_type": "code",
      "execution_count": null,
      "id": "5dafd7d9",
      "metadata": {
        "id": "5dafd7d9"
      },
      "outputs": [],
      "source": [
        "positive_documents = df_reembolso[\n",
        "    (df_reembolso[\"ideDocumento\"].isin(negative_documents[\"ideDocumento\"]))\n",
        "    & (df_reembolso[\"vlrLiquido\"] > 0)\n",
        "]"
      ]
    },
    {
      "cell_type": "code",
      "execution_count": null,
      "id": "27954569",
      "metadata": {
        "scrolled": true,
        "id": "27954569"
      },
      "outputs": [],
      "source": [
        "positive_documents.iloc[0].to_frame()"
      ]
    },
    {
      "cell_type": "markdown",
      "id": "cba1cfac",
      "metadata": {
        "id": "cba1cfac"
      },
      "source": [
        "Pegando o id do documento desse gasto positivo, podemos encontrar o documento com gasto negativo relacionado."
      ]
    },
    {
      "cell_type": "code",
      "execution_count": null,
      "id": "3be8daff",
      "metadata": {
        "id": "3be8daff"
      },
      "outputs": [],
      "source": [
        "negative_documents[negative_documents[\"ideDocumento\"] == positive_documents.iloc[0].ideDocumento]"
      ]
    },
    {
      "cell_type": "code",
      "execution_count": null,
      "id": "3467e485",
      "metadata": {
        "id": "3467e485"
      },
      "outputs": [],
      "source": [
        "len(positive_documents), len(negative_documents)"
      ]
    },
    {
      "cell_type": "code",
      "execution_count": null,
      "id": "e582599f",
      "metadata": {
        "id": "e582599f"
      },
      "outputs": [],
      "source": [
        "sample = negative_documents[negative_documents.duplicated(subset=\"ideDocumento\")].iloc[\n",
        "    1\n",
        "]  # , keep = {‘last’, ‘first’, ‘false’)"
      ]
    },
    {
      "cell_type": "code",
      "execution_count": null,
      "id": "c8c22e18",
      "metadata": {
        "id": "c8c22e18"
      },
      "outputs": [],
      "source": [
        "df_reembolso[df_reembolso[\"ideDocumento\"] == sample[\"ideDocumento\"]]"
      ]
    },
    {
      "cell_type": "markdown",
      "id": "3e6e8979",
      "metadata": {
        "id": "3e6e8979"
      },
      "source": [
        "Usando o `std` podemos entender o quanto nosso dado se desvia do 'esperado'."
      ]
    },
    {
      "cell_type": "code",
      "execution_count": null,
      "id": "ca79ef8c",
      "metadata": {
        "id": "ca79ef8c"
      },
      "outputs": [],
      "source": [
        "df_reembolso[\"vlrLiquido\"].std()"
      ]
    },
    {
      "cell_type": "markdown",
      "id": "9ecc6a42",
      "metadata": {
        "id": "9ecc6a42"
      },
      "source": [
        "### Trabalhando com dados agrupados"
      ]
    },
    {
      "cell_type": "markdown",
      "id": "e7a914db",
      "metadata": {
        "id": "e7a914db"
      },
      "source": [
        "Antes de tudo precisaremos converter o campo `datEmissao` para o formato `datetime` (como já fizemos anteriormente)"
      ]
    },
    {
      "cell_type": "code",
      "execution_count": null,
      "id": "13c90dae",
      "metadata": {
        "id": "13c90dae"
      },
      "outputs": [],
      "source": [
        "df_reembolso[\"datEmissao\"] = pd.to_datetime(df_reembolso.datEmissao, format=\"%Y-%m-%d\")"
      ]
    },
    {
      "cell_type": "markdown",
      "id": "ef16e8e6",
      "metadata": {
        "id": "ef16e8e6"
      },
      "source": [
        "Algumas coisas que podemos é agrupar os registros por datas, para isso iremos utilizar o `groupby` do pandas.\n",
        "\n",
        "Após isso, poderemos realizar diversos cálculos, como por exemplo, **somar todos os registros presentes em uma data especifica**."
      ]
    },
    {
      "cell_type": "code",
      "execution_count": null,
      "id": "2f3beca9",
      "metadata": {
        "id": "2f3beca9"
      },
      "outputs": [],
      "source": [
        "df_reembolso.groupby(\"datEmissao\")[\"vlrLiquido\"].sum().to_frame()"
      ]
    },
    {
      "cell_type": "markdown",
      "id": "7b4ebd48",
      "metadata": {
        "id": "7b4ebd48"
      },
      "source": [
        "O que mais podemos fazer com esse dados agrupados, é encontrar a **média** da soma diária de documentos fiscais:"
      ]
    },
    {
      "cell_type": "code",
      "execution_count": null,
      "id": "976eb8bb",
      "metadata": {
        "id": "976eb8bb"
      },
      "outputs": [],
      "source": [
        "df_reembolso.groupby(\"datEmissao\")[\"vlrLiquido\"].sum().mean()"
      ]
    },
    {
      "cell_type": "markdown",
      "id": "19846c0f",
      "metadata": {
        "id": "19846c0f"
      },
      "source": [
        "Outros agrupamentos podem ser realizados, como o a seguir:"
      ]
    },
    {
      "cell_type": "code",
      "execution_count": null,
      "id": "531c7e4b",
      "metadata": {
        "id": "531c7e4b"
      },
      "outputs": [],
      "source": [
        "df_reembolso.groupby(\"txtDescricao\")[\"vlrLiquido\"].sum().to_frame()"
      ]
    },
    {
      "cell_type": "markdown",
      "id": "8a56141c",
      "metadata": {
        "id": "8a56141c"
      },
      "source": [
        "Nesse agrupamento, encontramos qual o valor líquido total dos documentos, agrupados por descrição."
      ]
    },
    {
      "cell_type": "markdown",
      "id": "3eccf6ae",
      "metadata": {
        "id": "3eccf6ae"
      },
      "source": [
        "Perguntas mais complexas, como \"Quais os parlamentares que mais gastaram, a qual partido e a qual estado eles pertencem?\", também pode ser respondido agrupando os dados."
      ]
    },
    {
      "cell_type": "code",
      "execution_count": null,
      "id": "367862cc",
      "metadata": {
        "id": "367862cc"
      },
      "outputs": [],
      "source": [
        "import numpy as np\n",
        "\n",
        "df_reembolso.groupby([\"sgPartido\", \"sgUF\", \"txNomeParlamentar\"], as_index=False).aggregate(\n",
        "    {\"vlrLiquido\": np.sum}\n",
        ").sort_values(by=\"vlrLiquido\", ascending=False).head()"
      ]
    },
    {
      "cell_type": "markdown",
      "id": "3373d850",
      "metadata": {
        "id": "3373d850"
      },
      "source": [
        "Por fim, último exemplo que podemos ver hoje é o caso de quais são os fornecedores mais presentes nas solicitações de reembolso."
      ]
    },
    {
      "cell_type": "code",
      "execution_count": null,
      "id": "2e8d0602",
      "metadata": {
        "id": "2e8d0602"
      },
      "outputs": [],
      "source": [
        "df_reembolso.groupby([\"txtCNPJCPF\", \"txtFornecedor\"], as_index=False).agg(\n",
        "    {\"vlrLiquido\": np.nansum}\n",
        ").sort_values(by=\"vlrLiquido\", ascending=False)[0:20]"
      ]
    },
    {
      "cell_type": "markdown",
      "id": "644512e6",
      "metadata": {
        "id": "644512e6"
      },
      "source": [
        "## Aula 07: Dados da Receita Federal"
      ]
    },
    {
      "cell_type": "markdown",
      "id": "3e91ef9d",
      "metadata": {
        "id": "3e91ef9d"
      },
      "source": [
        "Referencias:\n",
        "\n",
        "- https://www.gov.br/receitafederal/pt-br/assuntos/orientacao-tributaria/cadastros/consultas/dados-publicos-cnpj\n",
        "- http://200.152.38.155/CNPJ/LAYOUT_DADOS_ABERTOS_CNPJ.pdf\n",
        "\n",
        "\n",
        "situation (Situação cadastral)\n",
        "\n",
        "    1 – NULA: o CNPJ torna-se inválido, seja por inconformidade de dados, fraudes ou outros motivos.\n",
        "    2 – ATIVA: significa que a empresa está em dia com todas as suas pendências, não há nenhuma irregularidade e os pagamentos estão em dia;\n",
        "    3 – SUSPENSA: a empresa tem pendências com a Receita Federal, não cumpriu com suas obrigações ou pagamentos ou está sendo investigada por possível fraude;\n",
        "    4 – INAPTA: a empresa está a dois anos ou mais com suspensão e não apresentou os devidos dados contábeis;\n",
        "    8 – BAIXADA: a empresa foi extinta, seja por solicitação dos sócios ou por ação da Receita;\n",
        "    \n",
        "    \n",
        "situation_date (Data da situação cadastral): DATA DO EVENTO DA SITUACAO CADASTRAL"
      ]
    },
    {
      "cell_type": "code",
      "execution_count": null,
      "id": "06bdd9b9",
      "metadata": {
        "id": "06bdd9b9"
      },
      "outputs": [],
      "source": [
        "import requests\n",
        "\n",
        "url = \"https://serenata-de-amor-data.nyc3.digitaloceanspaces.com/2019-11-19-companies.csv.xz\"\n",
        "\n",
        "# fazendo o download do conteúdo do arquivo\n",
        "r = requests.get(url)\n",
        "\n",
        "# abrindo um arquivo no seu computador\n",
        "file = open(\"2019-11-19-companies.csv.xz\", \"wb\")\n",
        "\n",
        "# escrever o conteúdo\n",
        "file.write(r.content)\n",
        "file.close()"
      ]
    },
    {
      "cell_type": "code",
      "execution_count": null,
      "id": "8bd54633",
      "metadata": {
        "id": "8bd54633"
      },
      "outputs": [],
      "source": [
        "import pandas as pd\n",
        "\n",
        "DTYPE = {\n",
        "    \"cnpj\": str,\n",
        "}\n",
        "\n",
        "df_empresas = pd.read_csv(\n",
        "    \"2019-11-19-companies.csv.xz\",\n",
        "    compression=\"xz\",\n",
        "    dtype=DTYPE,\n",
        ")\n",
        "df_empresas.head(1)"
      ]
    },
    {
      "cell_type": "code",
      "execution_count": null,
      "id": "b37a6a71",
      "metadata": {
        "id": "b37a6a71"
      },
      "outputs": [],
      "source": [
        "df_empresas[\"situation_date\"] = pd.to_datetime(df_empresas[\"situation_date\"], format=\"%Y-%m-%d\")"
      ]
    },
    {
      "cell_type": "code",
      "execution_count": null,
      "id": "fe66149b",
      "metadata": {
        "id": "fe66149b"
      },
      "outputs": [],
      "source": [
        "df_empresas[\"cnpj\"] = df_empresas[\"cnpj\"].str.replace(r\"\\D\", \"\", regex=True)"
      ]
    },
    {
      "cell_type": "code",
      "execution_count": null,
      "id": "e940d49a",
      "metadata": {
        "id": "e940d49a"
      },
      "outputs": [],
      "source": [
        "df_empresas.head(5)"
      ]
    },
    {
      "cell_type": "code",
      "execution_count": null,
      "id": "7b86ed96",
      "metadata": {
        "id": "7b86ed96"
      },
      "outputs": [],
      "source": [
        "df_final = df_reembolso.merge(df_empresas, how=\"left\", left_on=\"txtCNPJCPF\", right_on=\"cnpj\")"
      ]
    },
    {
      "cell_type": "code",
      "execution_count": null,
      "id": "0d41723e",
      "metadata": {
        "id": "0d41723e"
      },
      "outputs": [],
      "source": [
        "df_final.head(5)"
      ]
    },
    {
      "cell_type": "markdown",
      "id": "f4f63b07",
      "metadata": {
        "id": "f4f63b07"
      },
      "source": [
        "### Exportando o resultado"
      ]
    },
    {
      "cell_type": "code",
      "execution_count": null,
      "id": "8cd4db3d",
      "metadata": {
        "id": "8cd4db3d"
      },
      "outputs": [],
      "source": [
        "df_reembolso.to_csv(\"reembolso-2019-completo.csv\")"
      ]
    }
  ],
  "metadata": {
    "kernelspec": {
      "display_name": "Python 3 (ipykernel)",
      "language": "python",
      "name": "python3"
    },
    "language_info": {
      "codemirror_mode": {
        "name": "ipython",
        "version": 3
      },
      "file_extension": ".py",
      "mimetype": "text/x-python",
      "name": "python",
      "nbconvert_exporter": "python",
      "pygments_lexer": "ipython3",
      "version": "3.9.16"
    },
    "toc": {
      "base_numbering": 1,
      "nav_menu": {},
      "number_sections": true,
      "sideBar": true,
      "skip_h1_title": false,
      "title_cell": "Table of Contents",
      "title_sidebar": "Contents",
      "toc_cell": false,
      "toc_position": {
        "height": "calc(100% - 180px)",
        "left": "10px",
        "top": "150px",
        "width": "165px"
      },
      "toc_section_display": true,
      "toc_window_display": true
    },
    "colab": {
      "provenance": []
    }
  },
  "nbformat": 4,
  "nbformat_minor": 5
}