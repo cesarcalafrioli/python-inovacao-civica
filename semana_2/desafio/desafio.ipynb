{
  "cells": [
    {
      "cell_type": "markdown",
      "id": "0badcac0",
      "metadata": {
        "id": "0badcac0"
      },
      "source": [
        "# Limpeza de dados e estatística descritiva\n",
        "\n",
        "Neste desafio colocaremos em prática alguns conceitos apresentado nas aulas. Para isso, usaremos o conjunto de dados [Prestação de contas eleitorais - 2020](https://dadosabertos.tse.jus.br/dataset/prestacao-de-contas-eleitorais-2020) disponível no Portal de Dados Abertos do Tribunal Superior Eleitoral.\n",
        "\n",
        "Os dados também podem ser encontrados na pasta \"Dados\" deste repositório.\n",
        "\n",
        "Preencha as lacunas abaixo para completar o desafio."
      ]
    },
    {
      "cell_type": "markdown",
      "id": "0c16060f",
      "metadata": {
        "id": "0c16060f"
      },
      "source": [
        "# Importe os pacotes necessários"
      ]
    },
    {
      "cell_type": "code",
      "execution_count": 2,
      "id": "4e8e21b1",
      "metadata": {
        "id": "4e8e21b1"
      },
      "outputs": [],
      "source": [
        "import pandas as pd\n",
        "import numpy as np"
      ]
    },
    {
      "cell_type": "markdown",
      "id": "bf75d21a",
      "metadata": {
        "id": "bf75d21a"
      },
      "source": [
        "# Leia o arquivo \"receitas_orgaos_partidarios_2020_NORTE.csv\" que está na pasta dados desse repositório, usando o Pandas\n",
        "\n",
        "Na aula `1.10 - Outliers e valores faltantes`, vimos como utilizar o método `replace` para substituir valores em certos colunas do nosso dataframe e trocar o texto (string) `#NULO#` pela representação padrão do Pandas para valores nulos.\n",
        "\n",
        "Aqui, vamos utilizar um outro método, onde definimos quais strings serão considerados valores nulos já na importação do arquivo.\n",
        "\n",
        "Edite as células abaixo e inclua:\n",
        "\n",
        "* O nome do arquivo que queremos importar\n",
        "* O separador utilizado\n",
        "* Insira uma lista no parâmetro `na_values` que contenha o texto a ser ignorado.\n",
        "\n",
        "Experimente rodar os comandos primeiro sem e depois com o parâmetro `na_values`, então, compare a diferença. Observe, por exemplo, o campo `CD_CNAE_DOADOR`."
      ]
    },
    {
      "cell_type": "code",
      "execution_count": null,
      "id": "0b8e6b56",
      "metadata": {
        "id": "0b8e6b56"
      },
      "outputs": [],
      "source": [
        "filename = \"receitas_orgaos_partidarios_2020_NORTE.csv\"\n",
        "df = pd.read_csv(filename,sep=\";\")\n",
        "\n",
        "df.info()"
      ]
    },
    {
      "cell_type": "code",
      "execution_count": null,
      "id": "a81ccab4",
      "metadata": {
        "id": "a81ccab4"
      },
      "outputs": [],
      "source": [
        "filename = \"receitas_orgaos_partidarios_2020_NORTE.csv\"\n",
        "df = pd.read_csv(filename,sep=\";\",na_values=\"#NULO#\")\n",
        "\n",
        "df.info()"
      ]
    },
    {
      "cell_type": "markdown",
      "id": "aec7cfce",
      "metadata": {
        "id": "aec7cfce"
      },
      "source": [
        "# Filtre apenas os registros que sejam da prestação de contas final\n"
      ]
    },
    {
      "cell_type": "code",
      "execution_count": 6,
      "id": "110f8562",
      "metadata": {
        "id": "110f8562",
        "outputId": "df1ee5f7-5143-4f57-bfc3-e4cb06c9f1ee",
        "colab": {
          "base_uri": "https://localhost:8080/"
        }
      },
      "outputs": [
        {
          "output_type": "execute_result",
          "data": {
            "text/plain": [
              "array(['Final', 'Parcial', 'Relatório Financeiro',\n",
              "       'Regularização da Omissão'], dtype=object)"
            ]
          },
          "metadata": {},
          "execution_count": 6
        }
      ],
      "source": [
        "# Primeiro vamos ver os valores únicos da coluna TP_PRESTACAO_CONTAS\n",
        "df[\"TP_PRESTACAO_CONTAS\"].unique()"
      ]
    },
    {
      "cell_type": "code",
      "execution_count": 7,
      "id": "60f1ce27",
      "metadata": {
        "id": "60f1ce27",
        "outputId": "063e637c-cc2e-49e7-8e4f-08d102020b84",
        "colab": {
          "base_uri": "https://localhost:8080/"
        }
      },
      "outputs": [
        {
          "output_type": "execute_result",
          "data": {
            "text/plain": [
              "(6052, 48)"
            ]
          },
          "metadata": {},
          "execution_count": 7
        }
      ],
      "source": [
        "# O resultado deste comando nos diz que quantas linhas e colunas temos antes do filtro\n",
        "df.shape"
      ]
    },
    {
      "cell_type": "code",
      "execution_count": 8,
      "id": "145c639e",
      "metadata": {
        "id": "145c639e"
      },
      "outputs": [],
      "source": [
        "# Preencha o campo os espaços abaixo com o nome da coluna e o valor desejado para nosso filtro\n",
        "df_final = df[df[\"TP_PRESTACAO_CONTAS\"] == \"Parcial\"].copy()"
      ]
    },
    {
      "cell_type": "code",
      "execution_count": 9,
      "id": "947b303c",
      "metadata": {
        "id": "947b303c",
        "outputId": "35606d45-b75a-4dd7-ae9e-25cbe0588a49",
        "colab": {
          "base_uri": "https://localhost:8080/"
        }
      },
      "outputs": [
        {
          "output_type": "execute_result",
          "data": {
            "text/plain": [
              "(38, 48)"
            ]
          },
          "metadata": {},
          "execution_count": 9
        }
      ],
      "source": [
        "# Rode o comando shape no novo dataframe criado e confira se o número de linhas foi reduzido\n",
        "df_final.shape"
      ]
    },
    {
      "cell_type": "markdown",
      "id": "4fbec4e0",
      "metadata": {
        "id": "4fbec4e0"
      },
      "source": [
        "**negrito**## Qual foi a maior doação de pessoa física e pessoa jurídica em cada estado?\n",
        "\n",
        "Vamos usar o método `value_counts` para não só listar cada valor único da coluna `CD_CNAE_DOADOR`, como também mostrar quantos registros temos em cada um."
      ]
    },
    {
      "cell_type": "code",
      "execution_count": 10,
      "id": "df59e78a",
      "metadata": {
        "id": "df59e78a",
        "outputId": "cae9da29-03ec-4b56-a228-653dd44584d2",
        "colab": {
          "base_uri": "https://localhost:8080/"
        }
      },
      "outputs": [
        {
          "output_type": "execute_result",
          "data": {
            "text/plain": [
              "94928.0    10\n",
              "Name: CD_CNAE_DOADOR, dtype: int64"
            ]
          },
          "metadata": {},
          "execution_count": 10
        }
      ],
      "source": [
        "# Preencha o nome da coluna abaixo\n",
        "df_final[\"CD_CNAE_DOADOR\"].value_counts()"
      ]
    },
    {
      "cell_type": "code",
      "execution_count": 11,
      "id": "093485ce",
      "metadata": {
        "id": "093485ce",
        "outputId": "6dcee0e1-646f-49c6-8e2e-8bc0e6ddcd42",
        "colab": {
          "base_uri": "https://localhost:8080/"
        }
      },
      "outputs": [
        {
          "output_type": "execute_result",
          "data": {
            "text/plain": [
              "94928.0    1.0\n",
              "Name: CD_CNAE_DOADOR, dtype: float64"
            ]
          },
          "metadata": {},
          "execution_count": 11
        }
      ],
      "source": [
        "# Para ver os resultados em percentuais é fácil! Basta falarmos para o value_counts que queremos os resultados normalizados\n",
        "df_final[\"CD_CNAE_DOADOR\"].value_counts(normalize=True)"
      ]
    },
    {
      "cell_type": "markdown",
      "id": "623a777d",
      "metadata": {
        "id": "623a777d"
      },
      "source": [
        "Se o doador for pessoa jurídica, temos seu respectivo código CNAE. Se for pessoa física, então temos o valor `-1`.\n",
        "\n",
        "Qual conclusão podemos tirar a respeito dos comandos acima?\n",
        "\n",
        "Escreva um **comentário** na célula abaixo com a resposta."
      ]
    },
    {
      "cell_type": "code",
      "execution_count": null,
      "id": "ddf6f70e",
      "metadata": {
        "id": "ddf6f70e"
      },
      "outputs": [],
      "source": [
        "# Mais da metade dos registros são de pessoas físicas."
      ]
    },
    {
      "cell_type": "markdown",
      "id": "40404b7d",
      "metadata": {
        "id": "40404b7d"
      },
      "source": [
        "Agora, vamos duplicar a coluna `CD_CNAE_DOADOR` e deixar esta nova coluna apenas com 2 categorias: física (representada pelo valor -1) ou jurídica (que vamos representar inicialmente com 1)."
      ]
    },
    {
      "cell_type": "code",
      "execution_count": 20,
      "id": "e7007008",
      "metadata": {
        "id": "e7007008"
      },
      "outputs": [],
      "source": [
        "# Vamos criar uma nova coluna que seja uma cópia exata da coluna CD_CNAE_DOADOR\n",
        "df_final['TIPO_DOADOR'] = df_final[\"CD_CNAE_DOADOR\"]\n"
      ]
    },
    {
      "cell_type": "code",
      "source": [
        "df_final.head(3)"
      ],
      "metadata": {
        "id": "Z0XYb7OMbLw2",
        "outputId": "ab5804f3-61fc-4ae4-f787-16d1b78fe051",
        "colab": {
          "base_uri": "https://localhost:8080/",
          "height": 358
        }
      },
      "id": "Z0XYb7OMbLw2",
      "execution_count": 21,
      "outputs": [
        {
          "output_type": "execute_result",
          "data": {
            "text/plain": [
              "     DT_GERACAO HH_GERACAO  ANO_ELEICAO  CD_TIPO_ELEICAO NM_TIPO_ELEICAO  \\\n",
              "15   13/05/2023   23:23:30         2020                2       Ordinária   \n",
              "268  13/05/2023   23:23:30         2020                2       Ordinária   \n",
              "286  13/05/2023   23:23:30         2020                2       Ordinária   \n",
              "\n",
              "    TP_PRESTACAO_CONTAS DT_PRESTACAO_CONTAS  SQ_PRESTADOR_CONTAS  \\\n",
              "15              Parcial          25/10/2020           1219898277   \n",
              "268             Parcial          24/10/2020           1219892697   \n",
              "286             Parcial          25/10/2020           1443147824   \n",
              "\n",
              "    CD_ESFERA_PARTIDARIA          DS_ESFERA_PARTIDARIA  ... NR_PARTIDO_DOADOR  \\\n",
              "15                     M                     Municipal  ...              15.0   \n",
              "268                    F  Federal (Estadual/Distrital)  ...              40.0   \n",
              "286                    F  Federal (Estadual/Distrital)  ...              13.0   \n",
              "\n",
              "     SG_PARTIDO_DOADOR                 NM_PARTIDO_DOADOR  \\\n",
              "15                 MDB  Movimento Democrático Brasileiro   \n",
              "268                PSB     Partido Socialista Brasileiro   \n",
              "286                 PT         Partido dos Trabalhadores   \n",
              "\n",
              "          NR_RECIBO_DOACAO  NR_DOCUMENTO_DOACAO SQ_RECEITA  DT_RECEITA  \\\n",
              "15   P15000406050AP000001A                  NaN   13771298  19/10/2020   \n",
              "268  P40000306050AP000102A      553596000412232   13454522  19/10/2020   \n",
              "286  P13000200000BR000001A      553344000008546   13955466  02/10/2020   \n",
              "\n",
              "                                            DS_RECEITA VR_RECEITA  TIPO_DOADOR  \n",
              "15   PRESTAÇÃO DE SERVIÇO DE ASSESSORIA CONTABIL E ...    1000,00      94928.0  \n",
              "268                                                NaN  305000,00      94928.0  \n",
              "286                                                NaN   57000,00      94928.0  \n",
              "\n",
              "[3 rows x 49 columns]"
            ],
            "text/html": [
              "\n",
              "  <div id=\"df-118a7078-4d1c-4410-9159-8fa099f77cef\">\n",
              "    <div class=\"colab-df-container\">\n",
              "      <div>\n",
              "<style scoped>\n",
              "    .dataframe tbody tr th:only-of-type {\n",
              "        vertical-align: middle;\n",
              "    }\n",
              "\n",
              "    .dataframe tbody tr th {\n",
              "        vertical-align: top;\n",
              "    }\n",
              "\n",
              "    .dataframe thead th {\n",
              "        text-align: right;\n",
              "    }\n",
              "</style>\n",
              "<table border=\"1\" class=\"dataframe\">\n",
              "  <thead>\n",
              "    <tr style=\"text-align: right;\">\n",
              "      <th></th>\n",
              "      <th>DT_GERACAO</th>\n",
              "      <th>HH_GERACAO</th>\n",
              "      <th>ANO_ELEICAO</th>\n",
              "      <th>CD_TIPO_ELEICAO</th>\n",
              "      <th>NM_TIPO_ELEICAO</th>\n",
              "      <th>TP_PRESTACAO_CONTAS</th>\n",
              "      <th>DT_PRESTACAO_CONTAS</th>\n",
              "      <th>SQ_PRESTADOR_CONTAS</th>\n",
              "      <th>CD_ESFERA_PARTIDARIA</th>\n",
              "      <th>DS_ESFERA_PARTIDARIA</th>\n",
              "      <th>...</th>\n",
              "      <th>NR_PARTIDO_DOADOR</th>\n",
              "      <th>SG_PARTIDO_DOADOR</th>\n",
              "      <th>NM_PARTIDO_DOADOR</th>\n",
              "      <th>NR_RECIBO_DOACAO</th>\n",
              "      <th>NR_DOCUMENTO_DOACAO</th>\n",
              "      <th>SQ_RECEITA</th>\n",
              "      <th>DT_RECEITA</th>\n",
              "      <th>DS_RECEITA</th>\n",
              "      <th>VR_RECEITA</th>\n",
              "      <th>TIPO_DOADOR</th>\n",
              "    </tr>\n",
              "  </thead>\n",
              "  <tbody>\n",
              "    <tr>\n",
              "      <th>15</th>\n",
              "      <td>13/05/2023</td>\n",
              "      <td>23:23:30</td>\n",
              "      <td>2020</td>\n",
              "      <td>2</td>\n",
              "      <td>Ordinária</td>\n",
              "      <td>Parcial</td>\n",
              "      <td>25/10/2020</td>\n",
              "      <td>1219898277</td>\n",
              "      <td>M</td>\n",
              "      <td>Municipal</td>\n",
              "      <td>...</td>\n",
              "      <td>15.0</td>\n",
              "      <td>MDB</td>\n",
              "      <td>Movimento Democrático Brasileiro</td>\n",
              "      <td>P15000406050AP000001A</td>\n",
              "      <td>NaN</td>\n",
              "      <td>13771298</td>\n",
              "      <td>19/10/2020</td>\n",
              "      <td>PRESTAÇÃO DE SERVIÇO DE ASSESSORIA CONTABIL E ...</td>\n",
              "      <td>1000,00</td>\n",
              "      <td>94928.0</td>\n",
              "    </tr>\n",
              "    <tr>\n",
              "      <th>268</th>\n",
              "      <td>13/05/2023</td>\n",
              "      <td>23:23:30</td>\n",
              "      <td>2020</td>\n",
              "      <td>2</td>\n",
              "      <td>Ordinária</td>\n",
              "      <td>Parcial</td>\n",
              "      <td>24/10/2020</td>\n",
              "      <td>1219892697</td>\n",
              "      <td>F</td>\n",
              "      <td>Federal (Estadual/Distrital)</td>\n",
              "      <td>...</td>\n",
              "      <td>40.0</td>\n",
              "      <td>PSB</td>\n",
              "      <td>Partido Socialista Brasileiro</td>\n",
              "      <td>P40000306050AP000102A</td>\n",
              "      <td>553596000412232</td>\n",
              "      <td>13454522</td>\n",
              "      <td>19/10/2020</td>\n",
              "      <td>NaN</td>\n",
              "      <td>305000,00</td>\n",
              "      <td>94928.0</td>\n",
              "    </tr>\n",
              "    <tr>\n",
              "      <th>286</th>\n",
              "      <td>13/05/2023</td>\n",
              "      <td>23:23:30</td>\n",
              "      <td>2020</td>\n",
              "      <td>2</td>\n",
              "      <td>Ordinária</td>\n",
              "      <td>Parcial</td>\n",
              "      <td>25/10/2020</td>\n",
              "      <td>1443147824</td>\n",
              "      <td>F</td>\n",
              "      <td>Federal (Estadual/Distrital)</td>\n",
              "      <td>...</td>\n",
              "      <td>13.0</td>\n",
              "      <td>PT</td>\n",
              "      <td>Partido dos Trabalhadores</td>\n",
              "      <td>P13000200000BR000001A</td>\n",
              "      <td>553344000008546</td>\n",
              "      <td>13955466</td>\n",
              "      <td>02/10/2020</td>\n",
              "      <td>NaN</td>\n",
              "      <td>57000,00</td>\n",
              "      <td>94928.0</td>\n",
              "    </tr>\n",
              "  </tbody>\n",
              "</table>\n",
              "<p>3 rows × 49 columns</p>\n",
              "</div>\n",
              "      <button class=\"colab-df-convert\" onclick=\"convertToInteractive('df-118a7078-4d1c-4410-9159-8fa099f77cef')\"\n",
              "              title=\"Convert this dataframe to an interactive table.\"\n",
              "              style=\"display:none;\">\n",
              "        \n",
              "  <svg xmlns=\"http://www.w3.org/2000/svg\" height=\"24px\"viewBox=\"0 0 24 24\"\n",
              "       width=\"24px\">\n",
              "    <path d=\"M0 0h24v24H0V0z\" fill=\"none\"/>\n",
              "    <path d=\"M18.56 5.44l.94 2.06.94-2.06 2.06-.94-2.06-.94-.94-2.06-.94 2.06-2.06.94zm-11 1L8.5 8.5l.94-2.06 2.06-.94-2.06-.94L8.5 2.5l-.94 2.06-2.06.94zm10 10l.94 2.06.94-2.06 2.06-.94-2.06-.94-.94-2.06-.94 2.06-2.06.94z\"/><path d=\"M17.41 7.96l-1.37-1.37c-.4-.4-.92-.59-1.43-.59-.52 0-1.04.2-1.43.59L10.3 9.45l-7.72 7.72c-.78.78-.78 2.05 0 2.83L4 21.41c.39.39.9.59 1.41.59.51 0 1.02-.2 1.41-.59l7.78-7.78 2.81-2.81c.8-.78.8-2.07 0-2.86zM5.41 20L4 18.59l7.72-7.72 1.47 1.35L5.41 20z\"/>\n",
              "  </svg>\n",
              "      </button>\n",
              "      \n",
              "  <style>\n",
              "    .colab-df-container {\n",
              "      display:flex;\n",
              "      flex-wrap:wrap;\n",
              "      gap: 12px;\n",
              "    }\n",
              "\n",
              "    .colab-df-convert {\n",
              "      background-color: #E8F0FE;\n",
              "      border: none;\n",
              "      border-radius: 50%;\n",
              "      cursor: pointer;\n",
              "      display: none;\n",
              "      fill: #1967D2;\n",
              "      height: 32px;\n",
              "      padding: 0 0 0 0;\n",
              "      width: 32px;\n",
              "    }\n",
              "\n",
              "    .colab-df-convert:hover {\n",
              "      background-color: #E2EBFA;\n",
              "      box-shadow: 0px 1px 2px rgba(60, 64, 67, 0.3), 0px 1px 3px 1px rgba(60, 64, 67, 0.15);\n",
              "      fill: #174EA6;\n",
              "    }\n",
              "\n",
              "    [theme=dark] .colab-df-convert {\n",
              "      background-color: #3B4455;\n",
              "      fill: #D2E3FC;\n",
              "    }\n",
              "\n",
              "    [theme=dark] .colab-df-convert:hover {\n",
              "      background-color: #434B5C;\n",
              "      box-shadow: 0px 1px 3px 1px rgba(0, 0, 0, 0.15);\n",
              "      filter: drop-shadow(0px 1px 2px rgba(0, 0, 0, 0.3));\n",
              "      fill: #FFFFFF;\n",
              "    }\n",
              "  </style>\n",
              "\n",
              "      <script>\n",
              "        const buttonEl =\n",
              "          document.querySelector('#df-118a7078-4d1c-4410-9159-8fa099f77cef button.colab-df-convert');\n",
              "        buttonEl.style.display =\n",
              "          google.colab.kernel.accessAllowed ? 'block' : 'none';\n",
              "\n",
              "        async function convertToInteractive(key) {\n",
              "          const element = document.querySelector('#df-118a7078-4d1c-4410-9159-8fa099f77cef');\n",
              "          const dataTable =\n",
              "            await google.colab.kernel.invokeFunction('convertToInteractive',\n",
              "                                                     [key], {});\n",
              "          if (!dataTable) return;\n",
              "\n",
              "          const docLinkHtml = 'Like what you see? Visit the ' +\n",
              "            '<a target=\"_blank\" href=https://colab.research.google.com/notebooks/data_table.ipynb>data table notebook</a>'\n",
              "            + ' to learn more about interactive tables.';\n",
              "          element.innerHTML = '';\n",
              "          dataTable['output_type'] = 'display_data';\n",
              "          await google.colab.output.renderOutput(dataTable, element);\n",
              "          const docLink = document.createElement('div');\n",
              "          docLink.innerHTML = docLinkHtml;\n",
              "          element.appendChild(docLink);\n",
              "        }\n",
              "      </script>\n",
              "    </div>\n",
              "  </div>\n",
              "  "
            ]
          },
          "metadata": {},
          "execution_count": 21
        }
      ]
    },
    {
      "cell_type": "code",
      "source": [
        "# Visualizando as colunas do dataframe df_final ( A coluna nova TIPO_DOADOR está no final do dataframe )\n",
        "df_final.columns"
      ],
      "metadata": {
        "id": "tMMcxQn5ZJZF"
      },
      "id": "tMMcxQn5ZJZF",
      "execution_count": null,
      "outputs": []
    },
    {
      "cell_type": "markdown",
      "id": "f326c53a",
      "metadata": {
        "id": "f326c53a"
      },
      "source": [
        "## Substituição condicional (conditional replacing)\n",
        "\n",
        "Agora, vamos usar o método where do pacote NumPy (carinhosamente chamado de np abaixo).\n",
        "\n",
        "Esta função recebe três parâmetros:\n",
        "\n",
        "* Uma condição: no nosso caso, queremos que filtrar as coluna do CNAE onde os valores sejam -1\n",
        "* Um valor: caso a condição acima seja verdadeira, qual valor deverá ser retornado?\n",
        "* Outro valor: se a condição for falsa, então, qual outro valor deverá ser retornado?\n"
      ]
    },
    {
      "cell_type": "code",
      "execution_count": 33,
      "id": "78622d22",
      "metadata": {
        "id": "78622d22"
      },
      "outputs": [],
      "source": [
        "df_final['TIPO_DOADOR'] = np.where(df_final[\"CD_CNAE_DOADOR\"] == -1, 'fisica', 'juridica')"
      ]
    },
    {
      "cell_type": "code",
      "source": [
        "df_final.head()"
      ],
      "metadata": {
        "id": "CHZqFrYRb-fF"
      },
      "id": "CHZqFrYRb-fF",
      "execution_count": null,
      "outputs": []
    },
    {
      "cell_type": "markdown",
      "id": "47a9b47f",
      "metadata": {
        "id": "47a9b47f"
      },
      "source": [
        "## Agrupando (group by)"
      ]
    },
    {
      "cell_type": "code",
      "execution_count": null,
      "id": "fdd9b8bb",
      "metadata": {
        "id": "fdd9b8bb"
      },
      "outputs": [],
      "source": [
        "# Preencha abaixo primeiro uma lista com as 3 colunas que precisamos utilizar para responder à pergunta. E depois o nome das 2 colunas que precisamos agrupar.\n",
        "# Qual foi a maior doação de pessoa física e pessoa jurídica em cada estado?\n",
        "df_final[].groupby(by=______).max()"
      ]
    },
    {
      "cell_type": "code",
      "execution_count": null,
      "id": "95e8e533",
      "metadata": {
        "id": "95e8e533"
      },
      "outputs": [],
      "source": [
        "# Para repetir o valor da coluna TIPO_DOADOR nas linhas, coloque o parâmetro as_index=False no método groupby do comando acima\n",
        "\n"
      ]
    },
    {
      "cell_type": "markdown",
      "id": "63d35bb6",
      "metadata": {
        "id": "63d35bb6"
      },
      "source": [
        "## Qual o total de doações recebidas por partido?"
      ]
    },
    {
      "cell_type": "code",
      "execution_count": null,
      "id": "b24a3736",
      "metadata": {
        "id": "b24a3736"
      },
      "outputs": [],
      "source": [
        "df_final[__________].groupby(by=_____).___()"
      ]
    },
    {
      "cell_type": "markdown",
      "id": "c5d33b84",
      "metadata": {
        "id": "c5d33b84"
      },
      "source": [
        "## Qual é o top 10?\n",
        "\n",
        "Crie um novo dataframe com os 10 partidos com mais doações. Você precisa primeiro ordenar os resultados e depois selecionar apenas os 10 primeiros.\n",
        "\n"
      ]
    },
    {
      "cell_type": "code",
      "execution_count": null,
      "id": "8144f9e5",
      "metadata": {
        "id": "8144f9e5"
      },
      "outputs": [],
      "source": [
        "df_final[__________].groupby(by=_____).___().sort_values(by='____',ascending=______).head(___)"
      ]
    },
    {
      "cell_type": "markdown",
      "id": "0ca424ec",
      "metadata": {
        "id": "0ca424ec"
      },
      "source": [
        "# Vamos visualizar os resultados?\n",
        "Na aula, nós vimos como usar o matplotlib para gerar gráficos. Agora, vamos descobrir uma nova forma de fazer o mesmo usando um método nativo Pandas. Experimente colocar `.plot(kind='barh')` após a consulta ou dataframe anterior.\n",
        "\n",
        "Com este comando, podemos produzir um gráfico (plot) do tipo (kind) de barras horizontais (barh)."
      ]
    },
    {
      "cell_type": "code",
      "execution_count": null,
      "id": "db7c17b2",
      "metadata": {
        "id": "db7c17b2"
      },
      "outputs": [],
      "source": [
        "df_final[__________].groupby(by=_____).___().sort_values(by='____',ascending=______).head(___).plot(kind='barh')"
      ]
    },
    {
      "cell_type": "markdown",
      "id": "1eef3d90",
      "metadata": {
        "id": "1eef3d90"
      },
      "source": [
        "## Qual o valor médio das doações por tipo de doador?\n",
        "\n",
        "Agora é sua vez! A partir dos comandos anteriores, faça uma nova consulta para descobrir a mediana de acordo com o tipo de doador."
      ]
    },
    {
      "cell_type": "code",
      "execution_count": null,
      "id": "e0385ed3",
      "metadata": {
        "id": "e0385ed3"
      },
      "outputs": [],
      "source": []
    },
    {
      "cell_type": "markdown",
      "id": "6e4ae02a",
      "metadata": {
        "id": "6e4ae02a"
      },
      "source": [
        "## Qual o valor mais alto de doação por tipo de doador?"
      ]
    },
    {
      "cell_type": "code",
      "execution_count": null,
      "id": "a4530329",
      "metadata": {
        "id": "a4530329"
      },
      "outputs": [],
      "source": []
    },
    {
      "cell_type": "markdown",
      "id": "6c0e02b3",
      "metadata": {
        "id": "6c0e02b3"
      },
      "source": [
        "## Crie uma tabela com valor máximo, mínimo e a mediana, por estado e tipo de doador"
      ]
    },
    {
      "cell_type": "code",
      "execution_count": null,
      "id": "766c9df8",
      "metadata": {
        "id": "766c9df8"
      },
      "outputs": [],
      "source": []
    },
    {
      "cell_type": "markdown",
      "id": "34e11ca6",
      "metadata": {
        "id": "34e11ca6"
      },
      "source": [
        "# Entreviste você mesmo"
      ]
    },
    {
      "cell_type": "markdown",
      "id": "4b17ac41",
      "metadata": {
        "id": "4b17ac41"
      },
      "source": [
        "Escreva abaixo pelo menos outras três perguntas que podem ser feitas à base de dados. Escreva a pergunta como um comentário acima do código com a consulta em Python."
      ]
    },
    {
      "cell_type": "markdown",
      "id": "67e605e5",
      "metadata": {
        "id": "67e605e5"
      },
      "source": []
    }
  ],
  "metadata": {
    "interpreter": {
      "hash": "916dbcbb3f70747c44a77c7bcd40155683ae19c65e1c03b4aa3499c5328201f1"
    },
    "kernelspec": {
      "display_name": "Python 3 (ipykernel)",
      "language": "python",
      "name": "python3"
    },
    "language_info": {
      "codemirror_mode": {
        "name": "ipython",
        "version": 3
      },
      "file_extension": ".py",
      "mimetype": "text/x-python",
      "name": "python",
      "nbconvert_exporter": "python",
      "pygments_lexer": "ipython3",
      "version": "3.10.6"
    },
    "colab": {
      "provenance": []
    }
  },
  "nbformat": 4,
  "nbformat_minor": 5
}