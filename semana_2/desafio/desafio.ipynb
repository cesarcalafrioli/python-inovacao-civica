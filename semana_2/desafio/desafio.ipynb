{
  "cells": [
    {
      "cell_type": "markdown",
      "id": "0badcac0",
      "metadata": {
        "id": "0badcac0"
      },
      "source": [
        "# Limpeza de dados e estatística descritiva\n",
        "\n",
        "Neste desafio colocaremos em prática alguns conceitos apresentado nas aulas. Para isso, usaremos o conjunto de dados [Prestação de contas eleitorais - 2020](https://dadosabertos.tse.jus.br/dataset/prestacao-de-contas-eleitorais-2020) disponível no Portal de Dados Abertos do Tribunal Superior Eleitoral.\n",
        "\n",
        "Os dados também podem ser encontrados na pasta \"Dados\" deste repositório.\n",
        "\n",
        "Preencha as lacunas abaixo para completar o desafio."
      ]
    },
    {
      "cell_type": "markdown",
      "id": "0c16060f",
      "metadata": {
        "id": "0c16060f"
      },
      "source": [
        "# Importe os pacotes necessários"
      ]
    },
    {
      "cell_type": "code",
      "source": [
        "!pip install matplotlib"
      ],
      "metadata": {
        "id": "eYzI_fTFDeip",
        "outputId": "3e499031-b06c-47ed-8447-28301f22bdb0",
        "colab": {
          "base_uri": "https://localhost:8080/"
        }
      },
      "id": "eYzI_fTFDeip",
      "execution_count": 121,
      "outputs": [
        {
          "output_type": "stream",
          "name": "stdout",
          "text": [
            "Requirement already satisfied: matplotlib in /usr/local/lib/python3.10/dist-packages (3.7.1)\n",
            "Requirement already satisfied: contourpy>=1.0.1 in /usr/local/lib/python3.10/dist-packages (from matplotlib) (1.1.0)\n",
            "Requirement already satisfied: cycler>=0.10 in /usr/local/lib/python3.10/dist-packages (from matplotlib) (0.11.0)\n",
            "Requirement already satisfied: fonttools>=4.22.0 in /usr/local/lib/python3.10/dist-packages (from matplotlib) (4.40.0)\n",
            "Requirement already satisfied: kiwisolver>=1.0.1 in /usr/local/lib/python3.10/dist-packages (from matplotlib) (1.4.4)\n",
            "Requirement already satisfied: numpy>=1.20 in /usr/local/lib/python3.10/dist-packages (from matplotlib) (1.22.4)\n",
            "Requirement already satisfied: packaging>=20.0 in /usr/local/lib/python3.10/dist-packages (from matplotlib) (23.1)\n",
            "Requirement already satisfied: pillow>=6.2.0 in /usr/local/lib/python3.10/dist-packages (from matplotlib) (8.4.0)\n",
            "Requirement already satisfied: pyparsing>=2.3.1 in /usr/local/lib/python3.10/dist-packages (from matplotlib) (3.1.0)\n",
            "Requirement already satisfied: python-dateutil>=2.7 in /usr/local/lib/python3.10/dist-packages (from matplotlib) (2.8.2)\n",
            "Requirement already satisfied: six>=1.5 in /usr/local/lib/python3.10/dist-packages (from python-dateutil>=2.7->matplotlib) (1.16.0)\n"
          ]
        }
      ]
    },
    {
      "cell_type": "code",
      "execution_count": 122,
      "id": "4e8e21b1",
      "metadata": {
        "id": "4e8e21b1"
      },
      "outputs": [],
      "source": [
        "import pandas as pd\n",
        "import numpy as np\n",
        "import matplotlib.pyplot as plt"
      ]
    },
    {
      "cell_type": "markdown",
      "id": "bf75d21a",
      "metadata": {
        "id": "bf75d21a"
      },
      "source": [
        "# Leia o arquivo \"receitas_orgaos_partidarios_2020_NORTE.csv\" que está na pasta dados desse repositório, usando o Pandas\n",
        "\n",
        "Na aula `1.10 - Outliers e valores faltantes`, vimos como utilizar o método `replace` para substituir valores em certos colunas do nosso dataframe e trocar o texto (string) `#NULO#` pela representação padrão do Pandas para valores nulos.\n",
        "\n",
        "Aqui, vamos utilizar um outro método, onde definimos quais strings serão considerados valores nulos já na importação do arquivo.\n",
        "\n",
        "Edite as células abaixo e inclua:\n",
        "\n",
        "* O nome do arquivo que queremos importar\n",
        "* O separador utilizado\n",
        "* Insira uma lista no parâmetro `na_values` que contenha o texto a ser ignorado.\n",
        "\n",
        "Experimente rodar os comandos primeiro sem e depois com o parâmetro `na_values`, então, compare a diferença. Observe, por exemplo, o campo `CD_CNAE_DOADOR`."
      ]
    },
    {
      "cell_type": "code",
      "execution_count": 123,
      "id": "0b8e6b56",
      "metadata": {
        "id": "0b8e6b56",
        "outputId": "9e993afa-34c8-4ec9-d1fa-9a309158c472",
        "colab": {
          "base_uri": "https://localhost:8080/"
        }
      },
      "outputs": [
        {
          "output_type": "stream",
          "name": "stdout",
          "text": [
            "<class 'pandas.core.frame.DataFrame'>\n",
            "RangeIndex: 6052 entries, 0 to 6051\n",
            "Data columns (total 48 columns):\n",
            " #   Column                       Non-Null Count  Dtype  \n",
            "---  ------                       --------------  -----  \n",
            " 0   DT_GERACAO                   6052 non-null   object \n",
            " 1   HH_GERACAO                   6052 non-null   object \n",
            " 2   ANO_ELEICAO                  6052 non-null   int64  \n",
            " 3   CD_TIPO_ELEICAO              6052 non-null   int64  \n",
            " 4   NM_TIPO_ELEICAO              6052 non-null   object \n",
            " 5   TP_PRESTACAO_CONTAS          6052 non-null   object \n",
            " 6   DT_PRESTACAO_CONTAS          6052 non-null   object \n",
            " 7   SQ_PRESTADOR_CONTAS          6052 non-null   int64  \n",
            " 8   CD_ESFERA_PARTIDARIA         6052 non-null   object \n",
            " 9   DS_ESFERA_PARTIDARIA         6052 non-null   object \n",
            " 10  SG_UF                        6052 non-null   object \n",
            " 11  CD_MUNICIPIO                 5043 non-null   float64\n",
            " 12  NM_MUNICIPIO                 5043 non-null   object \n",
            " 13  NR_CNPJ_PRESTADOR_CONTA      6052 non-null   int64  \n",
            " 14  NR_PARTIDO                   6052 non-null   int64  \n",
            " 15  SG_PARTIDO                   6052 non-null   object \n",
            " 16  NM_PARTIDO                   6052 non-null   object \n",
            " 17  CD_FONTE_RECEITA             6052 non-null   int64  \n",
            " 18  DS_FONTE_RECEITA             6052 non-null   object \n",
            " 19  CD_ORIGEM_RECEITA            6052 non-null   int64  \n",
            " 20  DS_ORIGEM_RECEITA            6052 non-null   object \n",
            " 21  CD_NATUREZA_RECEITA          6052 non-null   int64  \n",
            " 22  DS_NATUREZA_RECEITA          6052 non-null   object \n",
            " 23  CD_ESPECIE_RECEITA           6052 non-null   int64  \n",
            " 24  DS_ESPECIE_RECEITA           6052 non-null   object \n",
            " 25  CD_CNAE_DOADOR               3033 non-null   float64\n",
            " 26  DS_CNAE_DOADOR               3033 non-null   object \n",
            " 27  NR_CPF_CNPJ_DOADOR           6016 non-null   float64\n",
            " 28  NM_DOADOR                    6016 non-null   object \n",
            " 29  NM_DOADOR_RFB                6016 non-null   object \n",
            " 30  CD_ESFERA_PARTIDARIA_DOADOR  2071 non-null   object \n",
            " 31  DS_ESFERA_PARTIDARIA_DOADOR  2071 non-null   object \n",
            " 32  SG_UF_DOADOR                 3033 non-null   object \n",
            " 33  CD_MUNICIPIO_DOADOR          1092 non-null   float64\n",
            " 34  NM_MUNICIPIO_DOADOR          1092 non-null   object \n",
            " 35  SQ_CANDIDATO_DOADOR          886 non-null    float64\n",
            " 36  NR_CANDIDATO_DOADOR          962 non-null    float64\n",
            " 37  CD_CARGO_CANDIDATO_DOADOR    962 non-null    float64\n",
            " 38  DS_CARGO_CANDIDATO_DOADOR    962 non-null    object \n",
            " 39  NR_PARTIDO_DOADOR            3033 non-null   float64\n",
            " 40  SG_PARTIDO_DOADOR            3033 non-null   object \n",
            " 41  NM_PARTIDO_DOADOR            3033 non-null   object \n",
            " 42  NR_RECIBO_DOACAO             5623 non-null   object \n",
            " 43  NR_DOCUMENTO_DOACAO          3924 non-null   object \n",
            " 44  SQ_RECEITA                   6052 non-null   int64  \n",
            " 45  DT_RECEITA                   6052 non-null   object \n",
            " 46  DS_RECEITA                   1933 non-null   object \n",
            " 47  VR_RECEITA                   6052 non-null   object \n",
            "dtypes: float64(8), int64(10), object(30)\n",
            "memory usage: 2.2+ MB\n"
          ]
        }
      ],
      "source": [
        "filename = \"receitas_orgaos_partidarios_2020_NORTE.csv\"\n",
        "df = pd.read_csv(filename,sep=\";\")\n",
        "\n",
        "df.info()"
      ]
    },
    {
      "cell_type": "code",
      "execution_count": 124,
      "id": "a81ccab4",
      "metadata": {
        "id": "a81ccab4",
        "outputId": "93300783-82b8-42c5-ad52-7bb69c1d803f",
        "colab": {
          "base_uri": "https://localhost:8080/"
        }
      },
      "outputs": [
        {
          "output_type": "stream",
          "name": "stdout",
          "text": [
            "<class 'pandas.core.frame.DataFrame'>\n",
            "RangeIndex: 6052 entries, 0 to 6051\n",
            "Data columns (total 48 columns):\n",
            " #   Column                       Non-Null Count  Dtype  \n",
            "---  ------                       --------------  -----  \n",
            " 0   DT_GERACAO                   6052 non-null   object \n",
            " 1   HH_GERACAO                   6052 non-null   object \n",
            " 2   ANO_ELEICAO                  6052 non-null   int64  \n",
            " 3   CD_TIPO_ELEICAO              6052 non-null   int64  \n",
            " 4   NM_TIPO_ELEICAO              6052 non-null   object \n",
            " 5   TP_PRESTACAO_CONTAS          6052 non-null   object \n",
            " 6   DT_PRESTACAO_CONTAS          6052 non-null   object \n",
            " 7   SQ_PRESTADOR_CONTAS          6052 non-null   int64  \n",
            " 8   CD_ESFERA_PARTIDARIA         6052 non-null   object \n",
            " 9   DS_ESFERA_PARTIDARIA         6052 non-null   object \n",
            " 10  SG_UF                        6052 non-null   object \n",
            " 11  CD_MUNICIPIO                 5043 non-null   float64\n",
            " 12  NM_MUNICIPIO                 5043 non-null   object \n",
            " 13  NR_CNPJ_PRESTADOR_CONTA      6052 non-null   int64  \n",
            " 14  NR_PARTIDO                   6052 non-null   int64  \n",
            " 15  SG_PARTIDO                   6052 non-null   object \n",
            " 16  NM_PARTIDO                   6052 non-null   object \n",
            " 17  CD_FONTE_RECEITA             6052 non-null   int64  \n",
            " 18  DS_FONTE_RECEITA             6052 non-null   object \n",
            " 19  CD_ORIGEM_RECEITA            6052 non-null   int64  \n",
            " 20  DS_ORIGEM_RECEITA            6052 non-null   object \n",
            " 21  CD_NATUREZA_RECEITA          6052 non-null   int64  \n",
            " 22  DS_NATUREZA_RECEITA          6052 non-null   object \n",
            " 23  CD_ESPECIE_RECEITA           6052 non-null   int64  \n",
            " 24  DS_ESPECIE_RECEITA           6052 non-null   object \n",
            " 25  CD_CNAE_DOADOR               3033 non-null   float64\n",
            " 26  DS_CNAE_DOADOR               3033 non-null   object \n",
            " 27  NR_CPF_CNPJ_DOADOR           6016 non-null   float64\n",
            " 28  NM_DOADOR                    6016 non-null   object \n",
            " 29  NM_DOADOR_RFB                6016 non-null   object \n",
            " 30  CD_ESFERA_PARTIDARIA_DOADOR  2071 non-null   object \n",
            " 31  DS_ESFERA_PARTIDARIA_DOADOR  2071 non-null   object \n",
            " 32  SG_UF_DOADOR                 3033 non-null   object \n",
            " 33  CD_MUNICIPIO_DOADOR          1092 non-null   float64\n",
            " 34  NM_MUNICIPIO_DOADOR          1092 non-null   object \n",
            " 35  SQ_CANDIDATO_DOADOR          886 non-null    float64\n",
            " 36  NR_CANDIDATO_DOADOR          962 non-null    float64\n",
            " 37  CD_CARGO_CANDIDATO_DOADOR    962 non-null    float64\n",
            " 38  DS_CARGO_CANDIDATO_DOADOR    962 non-null    object \n",
            " 39  NR_PARTIDO_DOADOR            3033 non-null   float64\n",
            " 40  SG_PARTIDO_DOADOR            3033 non-null   object \n",
            " 41  NM_PARTIDO_DOADOR            3033 non-null   object \n",
            " 42  NR_RECIBO_DOACAO             5623 non-null   object \n",
            " 43  NR_DOCUMENTO_DOACAO          3924 non-null   object \n",
            " 44  SQ_RECEITA                   6052 non-null   int64  \n",
            " 45  DT_RECEITA                   6052 non-null   object \n",
            " 46  DS_RECEITA                   1933 non-null   object \n",
            " 47  VR_RECEITA                   6052 non-null   object \n",
            "dtypes: float64(8), int64(10), object(30)\n",
            "memory usage: 2.2+ MB\n"
          ]
        }
      ],
      "source": [
        "filename = \"receitas_orgaos_partidarios_2020_NORTE.csv\"\n",
        "df = pd.read_csv(filename,sep=\";\",na_values=[\"#NULO#\", \"#NULO\", -1, ''])\n",
        "\n",
        "df.info()"
      ]
    },
    {
      "cell_type": "markdown",
      "id": "aec7cfce",
      "metadata": {
        "id": "aec7cfce"
      },
      "source": [
        "# Filtre apenas os registros que sejam da prestação de contas final\n"
      ]
    },
    {
      "cell_type": "code",
      "execution_count": 125,
      "id": "110f8562",
      "metadata": {
        "id": "110f8562",
        "outputId": "77061941-54de-4f3f-ae90-8734028611cf",
        "colab": {
          "base_uri": "https://localhost:8080/"
        }
      },
      "outputs": [
        {
          "output_type": "execute_result",
          "data": {
            "text/plain": [
              "array(['Final', 'Parcial', 'Relatório Financeiro',\n",
              "       'Regularização da Omissão'], dtype=object)"
            ]
          },
          "metadata": {},
          "execution_count": 125
        }
      ],
      "source": [
        "# Primeiro vamos ver os valores únicos da coluna TP_PRESTACAO_CONTAS\n",
        "df[\"TP_PRESTACAO_CONTAS\"].unique()"
      ]
    },
    {
      "cell_type": "code",
      "execution_count": 126,
      "id": "60f1ce27",
      "metadata": {
        "id": "60f1ce27",
        "outputId": "c9c58beb-9209-4f12-b073-0a05fe2c8370",
        "colab": {
          "base_uri": "https://localhost:8080/"
        }
      },
      "outputs": [
        {
          "output_type": "execute_result",
          "data": {
            "text/plain": [
              "(6052, 48)"
            ]
          },
          "metadata": {},
          "execution_count": 126
        }
      ],
      "source": [
        "# O resultado deste comando nos diz que quantas linhas e colunas temos antes do filtro\n",
        "df.shape"
      ]
    },
    {
      "cell_type": "code",
      "execution_count": 127,
      "id": "145c639e",
      "metadata": {
        "id": "145c639e"
      },
      "outputs": [],
      "source": [
        "# Preencha o campo os espaços abaixo com o nome da coluna e o valor desejado para nosso filtro\n",
        "df_final = df[df[\"TP_PRESTACAO_CONTAS\"] == \"Final\"].copy()"
      ]
    },
    {
      "cell_type": "code",
      "execution_count": 128,
      "id": "947b303c",
      "metadata": {
        "id": "947b303c",
        "outputId": "e433c4ce-0dd7-4d4f-9bbb-59e2025f7e89",
        "colab": {
          "base_uri": "https://localhost:8080/"
        }
      },
      "outputs": [
        {
          "output_type": "execute_result",
          "data": {
            "text/plain": [
              "(5912, 48)"
            ]
          },
          "metadata": {},
          "execution_count": 128
        }
      ],
      "source": [
        "# Rode o comando shape no novo dataframe criado e confira se o número de linhas foi reduzido\n",
        "df_final.shape"
      ]
    },
    {
      "cell_type": "markdown",
      "id": "4fbec4e0",
      "metadata": {
        "id": "4fbec4e0"
      },
      "source": [
        "## Qual foi a maior doação de pessoa física e pessoa jurídica em cada estado?\n",
        "\n",
        "Vamos usar o método `value_counts` para não só listar cada valor único da coluna `CD_CNAE_DOADOR`, como também mostrar quantos registros temos em cada um."
      ]
    },
    {
      "cell_type": "code",
      "execution_count": 129,
      "id": "df59e78a",
      "metadata": {
        "id": "df59e78a",
        "outputId": "2b80c608-17fc-477d-b083-71966086a198",
        "colab": {
          "base_uri": "https://localhost:8080/"
        }
      },
      "outputs": [
        {
          "output_type": "execute_result",
          "data": {
            "text/plain": [
              "94928.0    2957\n",
              "47814.0       2\n",
              "59120.0       1\n",
              "85996.0       1\n",
              "Name: CD_CNAE_DOADOR, dtype: int64"
            ]
          },
          "metadata": {},
          "execution_count": 129
        }
      ],
      "source": [
        "# Preencha o nome da coluna abaixo\n",
        "df_final[\"CD_CNAE_DOADOR\"].value_counts()"
      ]
    },
    {
      "cell_type": "code",
      "execution_count": 130,
      "id": "093485ce",
      "metadata": {
        "id": "093485ce",
        "outputId": "c6181558-3625-4c0c-a98f-34d9ccc8c108",
        "colab": {
          "base_uri": "https://localhost:8080/"
        }
      },
      "outputs": [
        {
          "output_type": "execute_result",
          "data": {
            "text/plain": [
              "94928.0    0.998649\n",
              "47814.0    0.000675\n",
              "59120.0    0.000338\n",
              "85996.0    0.000338\n",
              "Name: CD_CNAE_DOADOR, dtype: float64"
            ]
          },
          "metadata": {},
          "execution_count": 130
        }
      ],
      "source": [
        "# Para ver os resultados em percentuais é fácil! Basta falarmos para o value_counts que queremos os resultados normalizados\n",
        "df_final[\"CD_CNAE_DOADOR\"].value_counts(normalize=True)"
      ]
    },
    {
      "cell_type": "code",
      "source": [
        "df_final['DS_CNAE_DOADOR'].unique()"
      ],
      "metadata": {
        "id": "61ASpfFWIKG7",
        "outputId": "f450e610-9c31-4bd8-a2d8-8bd26dce8a0f",
        "colab": {
          "base_uri": "https://localhost:8080/"
        }
      },
      "id": "61ASpfFWIKG7",
      "execution_count": 131,
      "outputs": [
        {
          "output_type": "execute_result",
          "data": {
            "text/plain": [
              "array(['Atividades de organizações políticas', nan,\n",
              "       'Atividades de pós-produção cinematográfica, de vídeos e de programas de televisão',\n",
              "       'Atividades de ensino não especificadas anteriormente',\n",
              "       'Comércio varejista de artigos do vestuário e acessórios'],\n",
              "      dtype=object)"
            ]
          },
          "metadata": {},
          "execution_count": 131
        }
      ]
    },
    {
      "cell_type": "code",
      "source": [
        "df_final['CD_CNAE_DOADOR'].unique()"
      ],
      "metadata": {
        "id": "z3-0wXJNIRTx",
        "outputId": "b2900cb7-d1e7-4bf6-acc2-94e46969ad2f",
        "colab": {
          "base_uri": "https://localhost:8080/"
        }
      },
      "id": "z3-0wXJNIRTx",
      "execution_count": 132,
      "outputs": [
        {
          "output_type": "execute_result",
          "data": {
            "text/plain": [
              "array([94928.,    nan, 59120., 85996., 47814.])"
            ]
          },
          "metadata": {},
          "execution_count": 132
        }
      ]
    },
    {
      "cell_type": "code",
      "source": [
        "df_final['TIPLO_DOADOR'] = df_final.loc[:, 'CD_CNAE_DOADOR']"
      ],
      "metadata": {
        "id": "LjpNsmlVIWaa"
      },
      "id": "LjpNsmlVIWaa",
      "execution_count": 133,
      "outputs": []
    },
    {
      "cell_type": "code",
      "source": [
        "df_final['TIPLO_DOADOR'] = df_final.loc[:, 'CD_CNAE_DOADOR'].replace(np.nan, -1)"
      ],
      "metadata": {
        "id": "5zT-pfEePG8k"
      },
      "id": "5zT-pfEePG8k",
      "execution_count": 134,
      "outputs": []
    },
    {
      "cell_type": "code",
      "source": [
        "df_final.sample()"
      ],
      "metadata": {
        "id": "FNrlc6cfI4_8",
        "outputId": "94a93fdc-b0d0-4b1f-dfa4-97bfa6db9fab",
        "colab": {
          "base_uri": "https://localhost:8080/",
          "height": 174
        }
      },
      "id": "FNrlc6cfI4_8",
      "execution_count": 135,
      "outputs": [
        {
          "output_type": "execute_result",
          "data": {
            "text/plain": [
              "      DT_GERACAO HH_GERACAO  ANO_ELEICAO  CD_TIPO_ELEICAO NM_TIPO_ELEICAO  \\\n",
              "3673  13/05/2023   23:23:30         2020                2       Ordinária   \n",
              "\n",
              "     TP_PRESTACAO_CONTAS DT_PRESTACAO_CONTAS  SQ_PRESTADOR_CONTAS  \\\n",
              "3673               Final          22/12/2020           1220380102   \n",
              "\n",
              "     CD_ESFERA_PARTIDARIA DS_ESFERA_PARTIDARIA  ... NR_PARTIDO_DOADOR  \\\n",
              "3673                    M            Municipal  ...              22.0   \n",
              "\n",
              "      SG_PARTIDO_DOADOR NM_PARTIDO_DOADOR       NR_RECIBO_DOACAO  \\\n",
              "3673                 PL   Partido Liberal  P22000405177PA000023A   \n",
              "\n",
              "      NR_DOCUMENTO_DOACAO SQ_RECEITA  DT_RECEITA  DS_RECEITA VR_RECEITA  \\\n",
              "3673               126000   19509836  26/11/2020         NaN      25,00   \n",
              "\n",
              "      TIPLO_DOADOR  \n",
              "3673       94928.0  \n",
              "\n",
              "[1 rows x 49 columns]"
            ],
            "text/html": [
              "\n",
              "  <div id=\"df-41c5536c-71b0-48ef-aff4-bfe6f7ab9a29\">\n",
              "    <div class=\"colab-df-container\">\n",
              "      <div>\n",
              "<style scoped>\n",
              "    .dataframe tbody tr th:only-of-type {\n",
              "        vertical-align: middle;\n",
              "    }\n",
              "\n",
              "    .dataframe tbody tr th {\n",
              "        vertical-align: top;\n",
              "    }\n",
              "\n",
              "    .dataframe thead th {\n",
              "        text-align: right;\n",
              "    }\n",
              "</style>\n",
              "<table border=\"1\" class=\"dataframe\">\n",
              "  <thead>\n",
              "    <tr style=\"text-align: right;\">\n",
              "      <th></th>\n",
              "      <th>DT_GERACAO</th>\n",
              "      <th>HH_GERACAO</th>\n",
              "      <th>ANO_ELEICAO</th>\n",
              "      <th>CD_TIPO_ELEICAO</th>\n",
              "      <th>NM_TIPO_ELEICAO</th>\n",
              "      <th>TP_PRESTACAO_CONTAS</th>\n",
              "      <th>DT_PRESTACAO_CONTAS</th>\n",
              "      <th>SQ_PRESTADOR_CONTAS</th>\n",
              "      <th>CD_ESFERA_PARTIDARIA</th>\n",
              "      <th>DS_ESFERA_PARTIDARIA</th>\n",
              "      <th>...</th>\n",
              "      <th>NR_PARTIDO_DOADOR</th>\n",
              "      <th>SG_PARTIDO_DOADOR</th>\n",
              "      <th>NM_PARTIDO_DOADOR</th>\n",
              "      <th>NR_RECIBO_DOACAO</th>\n",
              "      <th>NR_DOCUMENTO_DOACAO</th>\n",
              "      <th>SQ_RECEITA</th>\n",
              "      <th>DT_RECEITA</th>\n",
              "      <th>DS_RECEITA</th>\n",
              "      <th>VR_RECEITA</th>\n",
              "      <th>TIPLO_DOADOR</th>\n",
              "    </tr>\n",
              "  </thead>\n",
              "  <tbody>\n",
              "    <tr>\n",
              "      <th>3673</th>\n",
              "      <td>13/05/2023</td>\n",
              "      <td>23:23:30</td>\n",
              "      <td>2020</td>\n",
              "      <td>2</td>\n",
              "      <td>Ordinária</td>\n",
              "      <td>Final</td>\n",
              "      <td>22/12/2020</td>\n",
              "      <td>1220380102</td>\n",
              "      <td>M</td>\n",
              "      <td>Municipal</td>\n",
              "      <td>...</td>\n",
              "      <td>22.0</td>\n",
              "      <td>PL</td>\n",
              "      <td>Partido Liberal</td>\n",
              "      <td>P22000405177PA000023A</td>\n",
              "      <td>126000</td>\n",
              "      <td>19509836</td>\n",
              "      <td>26/11/2020</td>\n",
              "      <td>NaN</td>\n",
              "      <td>25,00</td>\n",
              "      <td>94928.0</td>\n",
              "    </tr>\n",
              "  </tbody>\n",
              "</table>\n",
              "<p>1 rows × 49 columns</p>\n",
              "</div>\n",
              "      <button class=\"colab-df-convert\" onclick=\"convertToInteractive('df-41c5536c-71b0-48ef-aff4-bfe6f7ab9a29')\"\n",
              "              title=\"Convert this dataframe to an interactive table.\"\n",
              "              style=\"display:none;\">\n",
              "        \n",
              "  <svg xmlns=\"http://www.w3.org/2000/svg\" height=\"24px\"viewBox=\"0 0 24 24\"\n",
              "       width=\"24px\">\n",
              "    <path d=\"M0 0h24v24H0V0z\" fill=\"none\"/>\n",
              "    <path d=\"M18.56 5.44l.94 2.06.94-2.06 2.06-.94-2.06-.94-.94-2.06-.94 2.06-2.06.94zm-11 1L8.5 8.5l.94-2.06 2.06-.94-2.06-.94L8.5 2.5l-.94 2.06-2.06.94zm10 10l.94 2.06.94-2.06 2.06-.94-2.06-.94-.94-2.06-.94 2.06-2.06.94z\"/><path d=\"M17.41 7.96l-1.37-1.37c-.4-.4-.92-.59-1.43-.59-.52 0-1.04.2-1.43.59L10.3 9.45l-7.72 7.72c-.78.78-.78 2.05 0 2.83L4 21.41c.39.39.9.59 1.41.59.51 0 1.02-.2 1.41-.59l7.78-7.78 2.81-2.81c.8-.78.8-2.07 0-2.86zM5.41 20L4 18.59l7.72-7.72 1.47 1.35L5.41 20z\"/>\n",
              "  </svg>\n",
              "      </button>\n",
              "      \n",
              "  <style>\n",
              "    .colab-df-container {\n",
              "      display:flex;\n",
              "      flex-wrap:wrap;\n",
              "      gap: 12px;\n",
              "    }\n",
              "\n",
              "    .colab-df-convert {\n",
              "      background-color: #E8F0FE;\n",
              "      border: none;\n",
              "      border-radius: 50%;\n",
              "      cursor: pointer;\n",
              "      display: none;\n",
              "      fill: #1967D2;\n",
              "      height: 32px;\n",
              "      padding: 0 0 0 0;\n",
              "      width: 32px;\n",
              "    }\n",
              "\n",
              "    .colab-df-convert:hover {\n",
              "      background-color: #E2EBFA;\n",
              "      box-shadow: 0px 1px 2px rgba(60, 64, 67, 0.3), 0px 1px 3px 1px rgba(60, 64, 67, 0.15);\n",
              "      fill: #174EA6;\n",
              "    }\n",
              "\n",
              "    [theme=dark] .colab-df-convert {\n",
              "      background-color: #3B4455;\n",
              "      fill: #D2E3FC;\n",
              "    }\n",
              "\n",
              "    [theme=dark] .colab-df-convert:hover {\n",
              "      background-color: #434B5C;\n",
              "      box-shadow: 0px 1px 3px 1px rgba(0, 0, 0, 0.15);\n",
              "      filter: drop-shadow(0px 1px 2px rgba(0, 0, 0, 0.3));\n",
              "      fill: #FFFFFF;\n",
              "    }\n",
              "  </style>\n",
              "\n",
              "      <script>\n",
              "        const buttonEl =\n",
              "          document.querySelector('#df-41c5536c-71b0-48ef-aff4-bfe6f7ab9a29 button.colab-df-convert');\n",
              "        buttonEl.style.display =\n",
              "          google.colab.kernel.accessAllowed ? 'block' : 'none';\n",
              "\n",
              "        async function convertToInteractive(key) {\n",
              "          const element = document.querySelector('#df-41c5536c-71b0-48ef-aff4-bfe6f7ab9a29');\n",
              "          const dataTable =\n",
              "            await google.colab.kernel.invokeFunction('convertToInteractive',\n",
              "                                                     [key], {});\n",
              "          if (!dataTable) return;\n",
              "\n",
              "          const docLinkHtml = 'Like what you see? Visit the ' +\n",
              "            '<a target=\"_blank\" href=https://colab.research.google.com/notebooks/data_table.ipynb>data table notebook</a>'\n",
              "            + ' to learn more about interactive tables.';\n",
              "          element.innerHTML = '';\n",
              "          dataTable['output_type'] = 'display_data';\n",
              "          await google.colab.output.renderOutput(dataTable, element);\n",
              "          const docLink = document.createElement('div');\n",
              "          docLink.innerHTML = docLinkHtml;\n",
              "          element.appendChild(docLink);\n",
              "        }\n",
              "      </script>\n",
              "    </div>\n",
              "  </div>\n",
              "  "
            ]
          },
          "metadata": {},
          "execution_count": 135
        }
      ]
    },
    {
      "cell_type": "markdown",
      "id": "623a777d",
      "metadata": {
        "id": "623a777d"
      },
      "source": [
        "Se o doador for pessoa jurídica, temos seu respectivo código CNAE. Se for pessoa física, então temos o valor `-1`.\n",
        "\n",
        "Qual conclusão podemos tirar a respeito dos comandos acima?\n",
        "\n",
        "Escreva um **comentário** na célula abaixo com a resposta."
      ]
    },
    {
      "cell_type": "code",
      "execution_count": 136,
      "id": "ddf6f70e",
      "metadata": {
        "id": "ddf6f70e"
      },
      "outputs": [],
      "source": [
        "# Mais da metade dos registros são de pessoas físicas."
      ]
    },
    {
      "cell_type": "markdown",
      "id": "40404b7d",
      "metadata": {
        "id": "40404b7d"
      },
      "source": [
        "Agora, vamos duplicar a coluna `CD_CNAE_DOADOR` e deixar esta nova coluna apenas com 2 categorias: física (representada pelo valor -1) ou jurídica (que vamos representar inicialmente com 1)."
      ]
    },
    {
      "cell_type": "code",
      "execution_count": 137,
      "id": "e7007008",
      "metadata": {
        "id": "e7007008"
      },
      "outputs": [],
      "source": [
        "# Vamos criar uma nova coluna que seja uma cópia exata da coluna CD_CNAE_DOADOR\n",
        "df_final['TIPO_DOADOR'] = df_final[\"CD_CNAE_DOADOR\"]\n"
      ]
    },
    {
      "cell_type": "code",
      "source": [
        "df_final.sample(5)"
      ],
      "metadata": {
        "id": "Z0XYb7OMbLw2",
        "outputId": "3aea8bed-f0c4-4e5f-846e-2dcfb708aa9d",
        "colab": {
          "base_uri": "https://localhost:8080/",
          "height": 351
        }
      },
      "id": "Z0XYb7OMbLw2",
      "execution_count": 138,
      "outputs": [
        {
          "output_type": "execute_result",
          "data": {
            "text/plain": [
              "      DT_GERACAO HH_GERACAO  ANO_ELEICAO  CD_TIPO_ELEICAO NM_TIPO_ELEICAO  \\\n",
              "1807  13/05/2023   23:23:30         2020                2       Ordinária   \n",
              "3560  13/05/2023   23:23:30         2020                2       Ordinária   \n",
              "3100  13/05/2023   23:23:30         2020                2       Ordinária   \n",
              "233   13/05/2023   23:23:30         2020                2       Ordinária   \n",
              "1453  13/05/2023   23:23:30         2020                2       Ordinária   \n",
              "\n",
              "     TP_PRESTACAO_CONTAS DT_PRESTACAO_CONTAS  SQ_PRESTADOR_CONTAS  \\\n",
              "1807               Final          06/12/2020           1219828497   \n",
              "3560               Final          15/12/2020           1220376315   \n",
              "3100               Final          01/06/2021           1403293571   \n",
              "233                Final          20/07/2021           1440684500   \n",
              "1453               Final          24/02/2021           1220300567   \n",
              "\n",
              "     CD_ESFERA_PARTIDARIA          DS_ESFERA_PARTIDARIA  ...  \\\n",
              "1807                    F  Federal (Estadual/Distrital)  ...   \n",
              "3560                    M                     Municipal  ...   \n",
              "3100                    M                     Municipal  ...   \n",
              "233                     M                     Municipal  ...   \n",
              "1453                    F  Federal (Estadual/Distrital)  ...   \n",
              "\n",
              "     SG_PARTIDO_DOADOR                 NM_PARTIDO_DOADOR  \\\n",
              "1807               MDB  Movimento Democrático Brasileiro   \n",
              "3560               NaN                               NaN   \n",
              "3100                PL                   Partido Liberal   \n",
              "233                DEM                        Democratas   \n",
              "1453              PODE                           Podemos   \n",
              "\n",
              "           NR_RECIBO_DOACAO  NR_DOCUMENTO_DOACAO  SQ_RECEITA  DT_RECEITA  \\\n",
              "1807  P15000303018RR000102A     A8D220AAB6F24411    17355367  14/10/2020   \n",
              "3560  P22000404421PA000001A      604547000005324    19239911  10/12/2020   \n",
              "3100  P22000404715PA000013A      610754000051476    19895663  14/12/2020   \n",
              "233   P25000406173AP000007A                   01    19945289  21/12/2020   \n",
              "1453  P19000300035RO000018A      550386000090930    19751165  02/10/2020   \n",
              "\n",
              "     DS_RECEITA  VR_RECEITA TIPLO_DOADOR  TIPO_DOADOR  \n",
              "1807        NaN   155113,87      94928.0      94928.0  \n",
              "3560        NaN    13000,00         -1.0          NaN  \n",
              "3100        NaN        2,40      94928.0      94928.0  \n",
              "233         NaN     3600,00      94928.0      94928.0  \n",
              "1453        NaN   930000,00      94928.0      94928.0  \n",
              "\n",
              "[5 rows x 50 columns]"
            ],
            "text/html": [
              "\n",
              "  <div id=\"df-245911f4-ee2d-4b0b-8bc9-8412f787ee1a\">\n",
              "    <div class=\"colab-df-container\">\n",
              "      <div>\n",
              "<style scoped>\n",
              "    .dataframe tbody tr th:only-of-type {\n",
              "        vertical-align: middle;\n",
              "    }\n",
              "\n",
              "    .dataframe tbody tr th {\n",
              "        vertical-align: top;\n",
              "    }\n",
              "\n",
              "    .dataframe thead th {\n",
              "        text-align: right;\n",
              "    }\n",
              "</style>\n",
              "<table border=\"1\" class=\"dataframe\">\n",
              "  <thead>\n",
              "    <tr style=\"text-align: right;\">\n",
              "      <th></th>\n",
              "      <th>DT_GERACAO</th>\n",
              "      <th>HH_GERACAO</th>\n",
              "      <th>ANO_ELEICAO</th>\n",
              "      <th>CD_TIPO_ELEICAO</th>\n",
              "      <th>NM_TIPO_ELEICAO</th>\n",
              "      <th>TP_PRESTACAO_CONTAS</th>\n",
              "      <th>DT_PRESTACAO_CONTAS</th>\n",
              "      <th>SQ_PRESTADOR_CONTAS</th>\n",
              "      <th>CD_ESFERA_PARTIDARIA</th>\n",
              "      <th>DS_ESFERA_PARTIDARIA</th>\n",
              "      <th>...</th>\n",
              "      <th>SG_PARTIDO_DOADOR</th>\n",
              "      <th>NM_PARTIDO_DOADOR</th>\n",
              "      <th>NR_RECIBO_DOACAO</th>\n",
              "      <th>NR_DOCUMENTO_DOACAO</th>\n",
              "      <th>SQ_RECEITA</th>\n",
              "      <th>DT_RECEITA</th>\n",
              "      <th>DS_RECEITA</th>\n",
              "      <th>VR_RECEITA</th>\n",
              "      <th>TIPLO_DOADOR</th>\n",
              "      <th>TIPO_DOADOR</th>\n",
              "    </tr>\n",
              "  </thead>\n",
              "  <tbody>\n",
              "    <tr>\n",
              "      <th>1807</th>\n",
              "      <td>13/05/2023</td>\n",
              "      <td>23:23:30</td>\n",
              "      <td>2020</td>\n",
              "      <td>2</td>\n",
              "      <td>Ordinária</td>\n",
              "      <td>Final</td>\n",
              "      <td>06/12/2020</td>\n",
              "      <td>1219828497</td>\n",
              "      <td>F</td>\n",
              "      <td>Federal (Estadual/Distrital)</td>\n",
              "      <td>...</td>\n",
              "      <td>MDB</td>\n",
              "      <td>Movimento Democrático Brasileiro</td>\n",
              "      <td>P15000303018RR000102A</td>\n",
              "      <td>A8D220AAB6F24411</td>\n",
              "      <td>17355367</td>\n",
              "      <td>14/10/2020</td>\n",
              "      <td>NaN</td>\n",
              "      <td>155113,87</td>\n",
              "      <td>94928.0</td>\n",
              "      <td>94928.0</td>\n",
              "    </tr>\n",
              "    <tr>\n",
              "      <th>3560</th>\n",
              "      <td>13/05/2023</td>\n",
              "      <td>23:23:30</td>\n",
              "      <td>2020</td>\n",
              "      <td>2</td>\n",
              "      <td>Ordinária</td>\n",
              "      <td>Final</td>\n",
              "      <td>15/12/2020</td>\n",
              "      <td>1220376315</td>\n",
              "      <td>M</td>\n",
              "      <td>Municipal</td>\n",
              "      <td>...</td>\n",
              "      <td>NaN</td>\n",
              "      <td>NaN</td>\n",
              "      <td>P22000404421PA000001A</td>\n",
              "      <td>604547000005324</td>\n",
              "      <td>19239911</td>\n",
              "      <td>10/12/2020</td>\n",
              "      <td>NaN</td>\n",
              "      <td>13000,00</td>\n",
              "      <td>-1.0</td>\n",
              "      <td>NaN</td>\n",
              "    </tr>\n",
              "    <tr>\n",
              "      <th>3100</th>\n",
              "      <td>13/05/2023</td>\n",
              "      <td>23:23:30</td>\n",
              "      <td>2020</td>\n",
              "      <td>2</td>\n",
              "      <td>Ordinária</td>\n",
              "      <td>Final</td>\n",
              "      <td>01/06/2021</td>\n",
              "      <td>1403293571</td>\n",
              "      <td>M</td>\n",
              "      <td>Municipal</td>\n",
              "      <td>...</td>\n",
              "      <td>PL</td>\n",
              "      <td>Partido Liberal</td>\n",
              "      <td>P22000404715PA000013A</td>\n",
              "      <td>610754000051476</td>\n",
              "      <td>19895663</td>\n",
              "      <td>14/12/2020</td>\n",
              "      <td>NaN</td>\n",
              "      <td>2,40</td>\n",
              "      <td>94928.0</td>\n",
              "      <td>94928.0</td>\n",
              "    </tr>\n",
              "    <tr>\n",
              "      <th>233</th>\n",
              "      <td>13/05/2023</td>\n",
              "      <td>23:23:30</td>\n",
              "      <td>2020</td>\n",
              "      <td>2</td>\n",
              "      <td>Ordinária</td>\n",
              "      <td>Final</td>\n",
              "      <td>20/07/2021</td>\n",
              "      <td>1440684500</td>\n",
              "      <td>M</td>\n",
              "      <td>Municipal</td>\n",
              "      <td>...</td>\n",
              "      <td>DEM</td>\n",
              "      <td>Democratas</td>\n",
              "      <td>P25000406173AP000007A</td>\n",
              "      <td>01</td>\n",
              "      <td>19945289</td>\n",
              "      <td>21/12/2020</td>\n",
              "      <td>NaN</td>\n",
              "      <td>3600,00</td>\n",
              "      <td>94928.0</td>\n",
              "      <td>94928.0</td>\n",
              "    </tr>\n",
              "    <tr>\n",
              "      <th>1453</th>\n",
              "      <td>13/05/2023</td>\n",
              "      <td>23:23:30</td>\n",
              "      <td>2020</td>\n",
              "      <td>2</td>\n",
              "      <td>Ordinária</td>\n",
              "      <td>Final</td>\n",
              "      <td>24/02/2021</td>\n",
              "      <td>1220300567</td>\n",
              "      <td>F</td>\n",
              "      <td>Federal (Estadual/Distrital)</td>\n",
              "      <td>...</td>\n",
              "      <td>PODE</td>\n",
              "      <td>Podemos</td>\n",
              "      <td>P19000300035RO000018A</td>\n",
              "      <td>550386000090930</td>\n",
              "      <td>19751165</td>\n",
              "      <td>02/10/2020</td>\n",
              "      <td>NaN</td>\n",
              "      <td>930000,00</td>\n",
              "      <td>94928.0</td>\n",
              "      <td>94928.0</td>\n",
              "    </tr>\n",
              "  </tbody>\n",
              "</table>\n",
              "<p>5 rows × 50 columns</p>\n",
              "</div>\n",
              "      <button class=\"colab-df-convert\" onclick=\"convertToInteractive('df-245911f4-ee2d-4b0b-8bc9-8412f787ee1a')\"\n",
              "              title=\"Convert this dataframe to an interactive table.\"\n",
              "              style=\"display:none;\">\n",
              "        \n",
              "  <svg xmlns=\"http://www.w3.org/2000/svg\" height=\"24px\"viewBox=\"0 0 24 24\"\n",
              "       width=\"24px\">\n",
              "    <path d=\"M0 0h24v24H0V0z\" fill=\"none\"/>\n",
              "    <path d=\"M18.56 5.44l.94 2.06.94-2.06 2.06-.94-2.06-.94-.94-2.06-.94 2.06-2.06.94zm-11 1L8.5 8.5l.94-2.06 2.06-.94-2.06-.94L8.5 2.5l-.94 2.06-2.06.94zm10 10l.94 2.06.94-2.06 2.06-.94-2.06-.94-.94-2.06-.94 2.06-2.06.94z\"/><path d=\"M17.41 7.96l-1.37-1.37c-.4-.4-.92-.59-1.43-.59-.52 0-1.04.2-1.43.59L10.3 9.45l-7.72 7.72c-.78.78-.78 2.05 0 2.83L4 21.41c.39.39.9.59 1.41.59.51 0 1.02-.2 1.41-.59l7.78-7.78 2.81-2.81c.8-.78.8-2.07 0-2.86zM5.41 20L4 18.59l7.72-7.72 1.47 1.35L5.41 20z\"/>\n",
              "  </svg>\n",
              "      </button>\n",
              "      \n",
              "  <style>\n",
              "    .colab-df-container {\n",
              "      display:flex;\n",
              "      flex-wrap:wrap;\n",
              "      gap: 12px;\n",
              "    }\n",
              "\n",
              "    .colab-df-convert {\n",
              "      background-color: #E8F0FE;\n",
              "      border: none;\n",
              "      border-radius: 50%;\n",
              "      cursor: pointer;\n",
              "      display: none;\n",
              "      fill: #1967D2;\n",
              "      height: 32px;\n",
              "      padding: 0 0 0 0;\n",
              "      width: 32px;\n",
              "    }\n",
              "\n",
              "    .colab-df-convert:hover {\n",
              "      background-color: #E2EBFA;\n",
              "      box-shadow: 0px 1px 2px rgba(60, 64, 67, 0.3), 0px 1px 3px 1px rgba(60, 64, 67, 0.15);\n",
              "      fill: #174EA6;\n",
              "    }\n",
              "\n",
              "    [theme=dark] .colab-df-convert {\n",
              "      background-color: #3B4455;\n",
              "      fill: #D2E3FC;\n",
              "    }\n",
              "\n",
              "    [theme=dark] .colab-df-convert:hover {\n",
              "      background-color: #434B5C;\n",
              "      box-shadow: 0px 1px 3px 1px rgba(0, 0, 0, 0.15);\n",
              "      filter: drop-shadow(0px 1px 2px rgba(0, 0, 0, 0.3));\n",
              "      fill: #FFFFFF;\n",
              "    }\n",
              "  </style>\n",
              "\n",
              "      <script>\n",
              "        const buttonEl =\n",
              "          document.querySelector('#df-245911f4-ee2d-4b0b-8bc9-8412f787ee1a button.colab-df-convert');\n",
              "        buttonEl.style.display =\n",
              "          google.colab.kernel.accessAllowed ? 'block' : 'none';\n",
              "\n",
              "        async function convertToInteractive(key) {\n",
              "          const element = document.querySelector('#df-245911f4-ee2d-4b0b-8bc9-8412f787ee1a');\n",
              "          const dataTable =\n",
              "            await google.colab.kernel.invokeFunction('convertToInteractive',\n",
              "                                                     [key], {});\n",
              "          if (!dataTable) return;\n",
              "\n",
              "          const docLinkHtml = 'Like what you see? Visit the ' +\n",
              "            '<a target=\"_blank\" href=https://colab.research.google.com/notebooks/data_table.ipynb>data table notebook</a>'\n",
              "            + ' to learn more about interactive tables.';\n",
              "          element.innerHTML = '';\n",
              "          dataTable['output_type'] = 'display_data';\n",
              "          await google.colab.output.renderOutput(dataTable, element);\n",
              "          const docLink = document.createElement('div');\n",
              "          docLink.innerHTML = docLinkHtml;\n",
              "          element.appendChild(docLink);\n",
              "        }\n",
              "      </script>\n",
              "    </div>\n",
              "  </div>\n",
              "  "
            ]
          },
          "metadata": {},
          "execution_count": 138
        }
      ]
    },
    {
      "cell_type": "code",
      "source": [
        "# Visualizando as colunas do dataframe df_final ( A coluna nova TIPO_DOADOR está no final do dataframe )\n",
        "df_final.columns"
      ],
      "metadata": {
        "id": "tMMcxQn5ZJZF",
        "outputId": "b1f533ef-0459-4ad7-a95e-95787389dc6e",
        "colab": {
          "base_uri": "https://localhost:8080/"
        }
      },
      "id": "tMMcxQn5ZJZF",
      "execution_count": 139,
      "outputs": [
        {
          "output_type": "execute_result",
          "data": {
            "text/plain": [
              "Index(['DT_GERACAO', 'HH_GERACAO', 'ANO_ELEICAO', 'CD_TIPO_ELEICAO',\n",
              "       'NM_TIPO_ELEICAO', 'TP_PRESTACAO_CONTAS', 'DT_PRESTACAO_CONTAS',\n",
              "       'SQ_PRESTADOR_CONTAS', 'CD_ESFERA_PARTIDARIA', 'DS_ESFERA_PARTIDARIA',\n",
              "       'SG_UF', 'CD_MUNICIPIO', 'NM_MUNICIPIO', 'NR_CNPJ_PRESTADOR_CONTA',\n",
              "       'NR_PARTIDO', 'SG_PARTIDO', 'NM_PARTIDO', 'CD_FONTE_RECEITA',\n",
              "       'DS_FONTE_RECEITA', 'CD_ORIGEM_RECEITA', 'DS_ORIGEM_RECEITA',\n",
              "       'CD_NATUREZA_RECEITA', 'DS_NATUREZA_RECEITA', 'CD_ESPECIE_RECEITA',\n",
              "       'DS_ESPECIE_RECEITA', 'CD_CNAE_DOADOR', 'DS_CNAE_DOADOR',\n",
              "       'NR_CPF_CNPJ_DOADOR', 'NM_DOADOR', 'NM_DOADOR_RFB',\n",
              "       'CD_ESFERA_PARTIDARIA_DOADOR', 'DS_ESFERA_PARTIDARIA_DOADOR',\n",
              "       'SG_UF_DOADOR', 'CD_MUNICIPIO_DOADOR', 'NM_MUNICIPIO_DOADOR',\n",
              "       'SQ_CANDIDATO_DOADOR', 'NR_CANDIDATO_DOADOR',\n",
              "       'CD_CARGO_CANDIDATO_DOADOR', 'DS_CARGO_CANDIDATO_DOADOR',\n",
              "       'NR_PARTIDO_DOADOR', 'SG_PARTIDO_DOADOR', 'NM_PARTIDO_DOADOR',\n",
              "       'NR_RECIBO_DOACAO', 'NR_DOCUMENTO_DOACAO', 'SQ_RECEITA', 'DT_RECEITA',\n",
              "       'DS_RECEITA', 'VR_RECEITA', 'TIPLO_DOADOR', 'TIPO_DOADOR'],\n",
              "      dtype='object')"
            ]
          },
          "metadata": {},
          "execution_count": 139
        }
      ]
    },
    {
      "cell_type": "markdown",
      "id": "f326c53a",
      "metadata": {
        "id": "f326c53a"
      },
      "source": [
        "## Substituição condicional (conditional replacing)\n",
        "\n",
        "Agora, vamos usar o método where do pacote NumPy (carinhosamente chamado de np abaixo).\n",
        "\n",
        "Esta função recebe três parâmetros:\n",
        "\n",
        "* Uma condição: no nosso caso, queremos que filtrar as coluna do CNAE onde os valores sejam -1\n",
        "* Um valor: caso a condição acima seja verdadeira, qual valor deverá ser retornado?\n",
        "* Outro valor: se a condição for falsa, então, qual outro valor deverá ser retornado?\n"
      ]
    },
    {
      "cell_type": "code",
      "source": [
        "df = df_final[df_final['TIPO_DOADOR'] == False]\n",
        "df"
      ],
      "metadata": {
        "id": "V3_nROpxKtUy",
        "outputId": "5705ddab-ff94-461b-fe85-20e0de603f2f",
        "colab": {
          "base_uri": "https://localhost:8080/",
          "height": 143
        }
      },
      "id": "V3_nROpxKtUy",
      "execution_count": 140,
      "outputs": [
        {
          "output_type": "execute_result",
          "data": {
            "text/plain": [
              "Empty DataFrame\n",
              "Columns: [DT_GERACAO, HH_GERACAO, ANO_ELEICAO, CD_TIPO_ELEICAO, NM_TIPO_ELEICAO, TP_PRESTACAO_CONTAS, DT_PRESTACAO_CONTAS, SQ_PRESTADOR_CONTAS, CD_ESFERA_PARTIDARIA, DS_ESFERA_PARTIDARIA, SG_UF, CD_MUNICIPIO, NM_MUNICIPIO, NR_CNPJ_PRESTADOR_CONTA, NR_PARTIDO, SG_PARTIDO, NM_PARTIDO, CD_FONTE_RECEITA, DS_FONTE_RECEITA, CD_ORIGEM_RECEITA, DS_ORIGEM_RECEITA, CD_NATUREZA_RECEITA, DS_NATUREZA_RECEITA, CD_ESPECIE_RECEITA, DS_ESPECIE_RECEITA, CD_CNAE_DOADOR, DS_CNAE_DOADOR, NR_CPF_CNPJ_DOADOR, NM_DOADOR, NM_DOADOR_RFB, CD_ESFERA_PARTIDARIA_DOADOR, DS_ESFERA_PARTIDARIA_DOADOR, SG_UF_DOADOR, CD_MUNICIPIO_DOADOR, NM_MUNICIPIO_DOADOR, SQ_CANDIDATO_DOADOR, NR_CANDIDATO_DOADOR, CD_CARGO_CANDIDATO_DOADOR, DS_CARGO_CANDIDATO_DOADOR, NR_PARTIDO_DOADOR, SG_PARTIDO_DOADOR, NM_PARTIDO_DOADOR, NR_RECIBO_DOACAO, NR_DOCUMENTO_DOACAO, SQ_RECEITA, DT_RECEITA, DS_RECEITA, VR_RECEITA, TIPLO_DOADOR, TIPO_DOADOR]\n",
              "Index: []\n",
              "\n",
              "[0 rows x 50 columns]"
            ],
            "text/html": [
              "\n",
              "  <div id=\"df-b3a65436-46fc-43ea-aa05-e97dd0aa5d7a\">\n",
              "    <div class=\"colab-df-container\">\n",
              "      <div>\n",
              "<style scoped>\n",
              "    .dataframe tbody tr th:only-of-type {\n",
              "        vertical-align: middle;\n",
              "    }\n",
              "\n",
              "    .dataframe tbody tr th {\n",
              "        vertical-align: top;\n",
              "    }\n",
              "\n",
              "    .dataframe thead th {\n",
              "        text-align: right;\n",
              "    }\n",
              "</style>\n",
              "<table border=\"1\" class=\"dataframe\">\n",
              "  <thead>\n",
              "    <tr style=\"text-align: right;\">\n",
              "      <th></th>\n",
              "      <th>DT_GERACAO</th>\n",
              "      <th>HH_GERACAO</th>\n",
              "      <th>ANO_ELEICAO</th>\n",
              "      <th>CD_TIPO_ELEICAO</th>\n",
              "      <th>NM_TIPO_ELEICAO</th>\n",
              "      <th>TP_PRESTACAO_CONTAS</th>\n",
              "      <th>DT_PRESTACAO_CONTAS</th>\n",
              "      <th>SQ_PRESTADOR_CONTAS</th>\n",
              "      <th>CD_ESFERA_PARTIDARIA</th>\n",
              "      <th>DS_ESFERA_PARTIDARIA</th>\n",
              "      <th>...</th>\n",
              "      <th>SG_PARTIDO_DOADOR</th>\n",
              "      <th>NM_PARTIDO_DOADOR</th>\n",
              "      <th>NR_RECIBO_DOACAO</th>\n",
              "      <th>NR_DOCUMENTO_DOACAO</th>\n",
              "      <th>SQ_RECEITA</th>\n",
              "      <th>DT_RECEITA</th>\n",
              "      <th>DS_RECEITA</th>\n",
              "      <th>VR_RECEITA</th>\n",
              "      <th>TIPLO_DOADOR</th>\n",
              "      <th>TIPO_DOADOR</th>\n",
              "    </tr>\n",
              "  </thead>\n",
              "  <tbody>\n",
              "  </tbody>\n",
              "</table>\n",
              "<p>0 rows × 50 columns</p>\n",
              "</div>\n",
              "      <button class=\"colab-df-convert\" onclick=\"convertToInteractive('df-b3a65436-46fc-43ea-aa05-e97dd0aa5d7a')\"\n",
              "              title=\"Convert this dataframe to an interactive table.\"\n",
              "              style=\"display:none;\">\n",
              "        \n",
              "  <svg xmlns=\"http://www.w3.org/2000/svg\" height=\"24px\"viewBox=\"0 0 24 24\"\n",
              "       width=\"24px\">\n",
              "    <path d=\"M0 0h24v24H0V0z\" fill=\"none\"/>\n",
              "    <path d=\"M18.56 5.44l.94 2.06.94-2.06 2.06-.94-2.06-.94-.94-2.06-.94 2.06-2.06.94zm-11 1L8.5 8.5l.94-2.06 2.06-.94-2.06-.94L8.5 2.5l-.94 2.06-2.06.94zm10 10l.94 2.06.94-2.06 2.06-.94-2.06-.94-.94-2.06-.94 2.06-2.06.94z\"/><path d=\"M17.41 7.96l-1.37-1.37c-.4-.4-.92-.59-1.43-.59-.52 0-1.04.2-1.43.59L10.3 9.45l-7.72 7.72c-.78.78-.78 2.05 0 2.83L4 21.41c.39.39.9.59 1.41.59.51 0 1.02-.2 1.41-.59l7.78-7.78 2.81-2.81c.8-.78.8-2.07 0-2.86zM5.41 20L4 18.59l7.72-7.72 1.47 1.35L5.41 20z\"/>\n",
              "  </svg>\n",
              "      </button>\n",
              "      \n",
              "  <style>\n",
              "    .colab-df-container {\n",
              "      display:flex;\n",
              "      flex-wrap:wrap;\n",
              "      gap: 12px;\n",
              "    }\n",
              "\n",
              "    .colab-df-convert {\n",
              "      background-color: #E8F0FE;\n",
              "      border: none;\n",
              "      border-radius: 50%;\n",
              "      cursor: pointer;\n",
              "      display: none;\n",
              "      fill: #1967D2;\n",
              "      height: 32px;\n",
              "      padding: 0 0 0 0;\n",
              "      width: 32px;\n",
              "    }\n",
              "\n",
              "    .colab-df-convert:hover {\n",
              "      background-color: #E2EBFA;\n",
              "      box-shadow: 0px 1px 2px rgba(60, 64, 67, 0.3), 0px 1px 3px 1px rgba(60, 64, 67, 0.15);\n",
              "      fill: #174EA6;\n",
              "    }\n",
              "\n",
              "    [theme=dark] .colab-df-convert {\n",
              "      background-color: #3B4455;\n",
              "      fill: #D2E3FC;\n",
              "    }\n",
              "\n",
              "    [theme=dark] .colab-df-convert:hover {\n",
              "      background-color: #434B5C;\n",
              "      box-shadow: 0px 1px 3px 1px rgba(0, 0, 0, 0.15);\n",
              "      filter: drop-shadow(0px 1px 2px rgba(0, 0, 0, 0.3));\n",
              "      fill: #FFFFFF;\n",
              "    }\n",
              "  </style>\n",
              "\n",
              "      <script>\n",
              "        const buttonEl =\n",
              "          document.querySelector('#df-b3a65436-46fc-43ea-aa05-e97dd0aa5d7a button.colab-df-convert');\n",
              "        buttonEl.style.display =\n",
              "          google.colab.kernel.accessAllowed ? 'block' : 'none';\n",
              "\n",
              "        async function convertToInteractive(key) {\n",
              "          const element = document.querySelector('#df-b3a65436-46fc-43ea-aa05-e97dd0aa5d7a');\n",
              "          const dataTable =\n",
              "            await google.colab.kernel.invokeFunction('convertToInteractive',\n",
              "                                                     [key], {});\n",
              "          if (!dataTable) return;\n",
              "\n",
              "          const docLinkHtml = 'Like what you see? Visit the ' +\n",
              "            '<a target=\"_blank\" href=https://colab.research.google.com/notebooks/data_table.ipynb>data table notebook</a>'\n",
              "            + ' to learn more about interactive tables.';\n",
              "          element.innerHTML = '';\n",
              "          dataTable['output_type'] = 'display_data';\n",
              "          await google.colab.output.renderOutput(dataTable, element);\n",
              "          const docLink = document.createElement('div');\n",
              "          docLink.innerHTML = docLinkHtml;\n",
              "          element.appendChild(docLink);\n",
              "        }\n",
              "      </script>\n",
              "    </div>\n",
              "  </div>\n",
              "  "
            ]
          },
          "metadata": {},
          "execution_count": 140
        }
      ]
    },
    {
      "cell_type": "code",
      "source": [
        "df_final['TIPO_DOADOR'] = df_final['TIPO_DOADOR'].fillna(-1)"
      ],
      "metadata": {
        "id": "eJI8DvrsLHoj"
      },
      "id": "eJI8DvrsLHoj",
      "execution_count": 141,
      "outputs": []
    },
    {
      "cell_type": "code",
      "execution_count": 142,
      "id": "78622d22",
      "metadata": {
        "id": "78622d22"
      },
      "outputs": [],
      "source": [
        "df_final['TIPO_DOADOR'] = np.where(df_final['TIPO_DOADOR'] == -1, 'física', 'jurídica')"
      ]
    },
    {
      "cell_type": "code",
      "source": [
        "# Lista os valores presentes na coluna TIPO_DOADOR\n",
        "df_final['TIPO_DOADOR'].unique()"
      ],
      "metadata": {
        "id": "CHZqFrYRb-fF",
        "outputId": "864e005d-64f9-4735-93cb-606d1808ad2d",
        "colab": {
          "base_uri": "https://localhost:8080/"
        }
      },
      "id": "CHZqFrYRb-fF",
      "execution_count": 143,
      "outputs": [
        {
          "output_type": "execute_result",
          "data": {
            "text/plain": [
              "array(['jurídica', 'física'], dtype=object)"
            ]
          },
          "metadata": {},
          "execution_count": 143
        }
      ]
    },
    {
      "cell_type": "markdown",
      "id": "47a9b47f",
      "metadata": {
        "id": "47a9b47f"
      },
      "source": [
        "## Agrupando (group by)"
      ]
    },
    {
      "cell_type": "code",
      "execution_count": 144,
      "id": "fdd9b8bb",
      "metadata": {
        "id": "fdd9b8bb",
        "outputId": "9b1b729b-d5c5-49d8-95d4-43ca264d26b0",
        "colab": {
          "base_uri": "https://localhost:8080/"
        }
      },
      "outputs": [
        {
          "output_type": "execute_result",
          "data": {
            "text/plain": [
              "pandas.core.series.Series"
            ]
          },
          "metadata": {},
          "execution_count": 144
        }
      ],
      "source": [
        "# Preencha abaixo primeiro uma lista com as 3 colunas que precisamos utilizar para responder à pergunta. E depois o nome das 2 colunas que precisamos agrupar.\n",
        "type(df_final['VR_RECEITA'])"
      ]
    },
    {
      "cell_type": "code",
      "source": [
        "df_final['VR_RECEITA'] = df_final['VR_RECEITA'].str.replace(',', '.')"
      ],
      "metadata": {
        "id": "PZRV3-EfNNBM"
      },
      "id": "PZRV3-EfNNBM",
      "execution_count": 145,
      "outputs": []
    },
    {
      "cell_type": "code",
      "source": [
        "df_final.head()"
      ],
      "metadata": {
        "id": "6SiIQ2vWNtsE",
        "outputId": "7b71aae8-da5a-46cc-be1d-c4c2ddb0d21e",
        "colab": {
          "base_uri": "https://localhost:8080/",
          "height": 473
        }
      },
      "id": "6SiIQ2vWNtsE",
      "execution_count": 146,
      "outputs": [
        {
          "output_type": "execute_result",
          "data": {
            "text/plain": [
              "   DT_GERACAO HH_GERACAO  ANO_ELEICAO  CD_TIPO_ELEICAO NM_TIPO_ELEICAO  \\\n",
              "0  13/05/2023   23:23:30         2020                2       Ordinária   \n",
              "1  13/05/2023   23:23:30         2020                2       Ordinária   \n",
              "2  13/05/2023   23:23:30         2020                2       Ordinária   \n",
              "3  13/05/2023   23:23:30         2020                2       Ordinária   \n",
              "4  13/05/2023   23:23:30         2020                2       Ordinária   \n",
              "\n",
              "  TP_PRESTACAO_CONTAS DT_PRESTACAO_CONTAS  SQ_PRESTADOR_CONTAS  \\\n",
              "0               Final          25/12/2020           2021442465   \n",
              "1               Final          29/09/2021           2021442455   \n",
              "2               Final          14/05/2021           2021442514   \n",
              "3               Final          25/12/2020           2021442465   \n",
              "4               Final          24/12/2020           2021442457   \n",
              "\n",
              "  CD_ESFERA_PARTIDARIA DS_ESFERA_PARTIDARIA  ... SG_PARTIDO_DOADOR  \\\n",
              "0                    M            Municipal  ...               MDB   \n",
              "1                    M            Municipal  ...      REPUBLICANOS   \n",
              "2                    M            Municipal  ...               DEM   \n",
              "3                    M            Municipal  ...               MDB   \n",
              "4                    M            Municipal  ...                PP   \n",
              "\n",
              "                  NM_PARTIDO_DOADOR       NR_RECIBO_DOACAO  \\\n",
              "0  Movimento Democrático Brasileiro  P15000406050AP000001A   \n",
              "1                      REPUBLICANOS  P10000406050AP000001A   \n",
              "2                        Democratas  P90000406050AP000010A   \n",
              "3  Movimento Democrático Brasileiro  P15000406050AP000002A   \n",
              "4                     PROGRESSISTAS  P11000406050AP000001A   \n",
              "\n",
              "   NR_DOCUMENTO_DOACAO  SQ_RECEITA  DT_RECEITA  \\\n",
              "0                  NaN    19516003  19/10/2020   \n",
              "1               850004    20034477  21/12/2020   \n",
              "2                  NaN    19877474  05/10/2020   \n",
              "3      614544000054449    19516004  14/11/2020   \n",
              "4    00000887169000105    19515403  14/10/2020   \n",
              "\n",
              "                                          DS_RECEITA  VR_RECEITA TIPLO_DOADOR  \\\n",
              "0  PRESTAÇÃO DE SERVIÇO DE ASSESSORIA CONTABIL E ...     1000.00      94928.0   \n",
              "1                                                NaN       36.00      94928.0   \n",
              "2                PRODUÇÃO E INSERCAO PARA RADIO E TV    15000.00      94928.0   \n",
              "3                                                NaN   210000.00      94928.0   \n",
              "4                                                NaN   482400.00      94928.0   \n",
              "\n",
              "   TIPO_DOADOR  \n",
              "0     jurídica  \n",
              "1     jurídica  \n",
              "2     jurídica  \n",
              "3     jurídica  \n",
              "4     jurídica  \n",
              "\n",
              "[5 rows x 50 columns]"
            ],
            "text/html": [
              "\n",
              "  <div id=\"df-4d8c1f82-c412-4c4d-a0ce-4c3f699b9c20\">\n",
              "    <div class=\"colab-df-container\">\n",
              "      <div>\n",
              "<style scoped>\n",
              "    .dataframe tbody tr th:only-of-type {\n",
              "        vertical-align: middle;\n",
              "    }\n",
              "\n",
              "    .dataframe tbody tr th {\n",
              "        vertical-align: top;\n",
              "    }\n",
              "\n",
              "    .dataframe thead th {\n",
              "        text-align: right;\n",
              "    }\n",
              "</style>\n",
              "<table border=\"1\" class=\"dataframe\">\n",
              "  <thead>\n",
              "    <tr style=\"text-align: right;\">\n",
              "      <th></th>\n",
              "      <th>DT_GERACAO</th>\n",
              "      <th>HH_GERACAO</th>\n",
              "      <th>ANO_ELEICAO</th>\n",
              "      <th>CD_TIPO_ELEICAO</th>\n",
              "      <th>NM_TIPO_ELEICAO</th>\n",
              "      <th>TP_PRESTACAO_CONTAS</th>\n",
              "      <th>DT_PRESTACAO_CONTAS</th>\n",
              "      <th>SQ_PRESTADOR_CONTAS</th>\n",
              "      <th>CD_ESFERA_PARTIDARIA</th>\n",
              "      <th>DS_ESFERA_PARTIDARIA</th>\n",
              "      <th>...</th>\n",
              "      <th>SG_PARTIDO_DOADOR</th>\n",
              "      <th>NM_PARTIDO_DOADOR</th>\n",
              "      <th>NR_RECIBO_DOACAO</th>\n",
              "      <th>NR_DOCUMENTO_DOACAO</th>\n",
              "      <th>SQ_RECEITA</th>\n",
              "      <th>DT_RECEITA</th>\n",
              "      <th>DS_RECEITA</th>\n",
              "      <th>VR_RECEITA</th>\n",
              "      <th>TIPLO_DOADOR</th>\n",
              "      <th>TIPO_DOADOR</th>\n",
              "    </tr>\n",
              "  </thead>\n",
              "  <tbody>\n",
              "    <tr>\n",
              "      <th>0</th>\n",
              "      <td>13/05/2023</td>\n",
              "      <td>23:23:30</td>\n",
              "      <td>2020</td>\n",
              "      <td>2</td>\n",
              "      <td>Ordinária</td>\n",
              "      <td>Final</td>\n",
              "      <td>25/12/2020</td>\n",
              "      <td>2021442465</td>\n",
              "      <td>M</td>\n",
              "      <td>Municipal</td>\n",
              "      <td>...</td>\n",
              "      <td>MDB</td>\n",
              "      <td>Movimento Democrático Brasileiro</td>\n",
              "      <td>P15000406050AP000001A</td>\n",
              "      <td>NaN</td>\n",
              "      <td>19516003</td>\n",
              "      <td>19/10/2020</td>\n",
              "      <td>PRESTAÇÃO DE SERVIÇO DE ASSESSORIA CONTABIL E ...</td>\n",
              "      <td>1000.00</td>\n",
              "      <td>94928.0</td>\n",
              "      <td>jurídica</td>\n",
              "    </tr>\n",
              "    <tr>\n",
              "      <th>1</th>\n",
              "      <td>13/05/2023</td>\n",
              "      <td>23:23:30</td>\n",
              "      <td>2020</td>\n",
              "      <td>2</td>\n",
              "      <td>Ordinária</td>\n",
              "      <td>Final</td>\n",
              "      <td>29/09/2021</td>\n",
              "      <td>2021442455</td>\n",
              "      <td>M</td>\n",
              "      <td>Municipal</td>\n",
              "      <td>...</td>\n",
              "      <td>REPUBLICANOS</td>\n",
              "      <td>REPUBLICANOS</td>\n",
              "      <td>P10000406050AP000001A</td>\n",
              "      <td>850004</td>\n",
              "      <td>20034477</td>\n",
              "      <td>21/12/2020</td>\n",
              "      <td>NaN</td>\n",
              "      <td>36.00</td>\n",
              "      <td>94928.0</td>\n",
              "      <td>jurídica</td>\n",
              "    </tr>\n",
              "    <tr>\n",
              "      <th>2</th>\n",
              "      <td>13/05/2023</td>\n",
              "      <td>23:23:30</td>\n",
              "      <td>2020</td>\n",
              "      <td>2</td>\n",
              "      <td>Ordinária</td>\n",
              "      <td>Final</td>\n",
              "      <td>14/05/2021</td>\n",
              "      <td>2021442514</td>\n",
              "      <td>M</td>\n",
              "      <td>Municipal</td>\n",
              "      <td>...</td>\n",
              "      <td>DEM</td>\n",
              "      <td>Democratas</td>\n",
              "      <td>P90000406050AP000010A</td>\n",
              "      <td>NaN</td>\n",
              "      <td>19877474</td>\n",
              "      <td>05/10/2020</td>\n",
              "      <td>PRODUÇÃO E INSERCAO PARA RADIO E TV</td>\n",
              "      <td>15000.00</td>\n",
              "      <td>94928.0</td>\n",
              "      <td>jurídica</td>\n",
              "    </tr>\n",
              "    <tr>\n",
              "      <th>3</th>\n",
              "      <td>13/05/2023</td>\n",
              "      <td>23:23:30</td>\n",
              "      <td>2020</td>\n",
              "      <td>2</td>\n",
              "      <td>Ordinária</td>\n",
              "      <td>Final</td>\n",
              "      <td>25/12/2020</td>\n",
              "      <td>2021442465</td>\n",
              "      <td>M</td>\n",
              "      <td>Municipal</td>\n",
              "      <td>...</td>\n",
              "      <td>MDB</td>\n",
              "      <td>Movimento Democrático Brasileiro</td>\n",
              "      <td>P15000406050AP000002A</td>\n",
              "      <td>614544000054449</td>\n",
              "      <td>19516004</td>\n",
              "      <td>14/11/2020</td>\n",
              "      <td>NaN</td>\n",
              "      <td>210000.00</td>\n",
              "      <td>94928.0</td>\n",
              "      <td>jurídica</td>\n",
              "    </tr>\n",
              "    <tr>\n",
              "      <th>4</th>\n",
              "      <td>13/05/2023</td>\n",
              "      <td>23:23:30</td>\n",
              "      <td>2020</td>\n",
              "      <td>2</td>\n",
              "      <td>Ordinária</td>\n",
              "      <td>Final</td>\n",
              "      <td>24/12/2020</td>\n",
              "      <td>2021442457</td>\n",
              "      <td>M</td>\n",
              "      <td>Municipal</td>\n",
              "      <td>...</td>\n",
              "      <td>PP</td>\n",
              "      <td>PROGRESSISTAS</td>\n",
              "      <td>P11000406050AP000001A</td>\n",
              "      <td>00000887169000105</td>\n",
              "      <td>19515403</td>\n",
              "      <td>14/10/2020</td>\n",
              "      <td>NaN</td>\n",
              "      <td>482400.00</td>\n",
              "      <td>94928.0</td>\n",
              "      <td>jurídica</td>\n",
              "    </tr>\n",
              "  </tbody>\n",
              "</table>\n",
              "<p>5 rows × 50 columns</p>\n",
              "</div>\n",
              "      <button class=\"colab-df-convert\" onclick=\"convertToInteractive('df-4d8c1f82-c412-4c4d-a0ce-4c3f699b9c20')\"\n",
              "              title=\"Convert this dataframe to an interactive table.\"\n",
              "              style=\"display:none;\">\n",
              "        \n",
              "  <svg xmlns=\"http://www.w3.org/2000/svg\" height=\"24px\"viewBox=\"0 0 24 24\"\n",
              "       width=\"24px\">\n",
              "    <path d=\"M0 0h24v24H0V0z\" fill=\"none\"/>\n",
              "    <path d=\"M18.56 5.44l.94 2.06.94-2.06 2.06-.94-2.06-.94-.94-2.06-.94 2.06-2.06.94zm-11 1L8.5 8.5l.94-2.06 2.06-.94-2.06-.94L8.5 2.5l-.94 2.06-2.06.94zm10 10l.94 2.06.94-2.06 2.06-.94-2.06-.94-.94-2.06-.94 2.06-2.06.94z\"/><path d=\"M17.41 7.96l-1.37-1.37c-.4-.4-.92-.59-1.43-.59-.52 0-1.04.2-1.43.59L10.3 9.45l-7.72 7.72c-.78.78-.78 2.05 0 2.83L4 21.41c.39.39.9.59 1.41.59.51 0 1.02-.2 1.41-.59l7.78-7.78 2.81-2.81c.8-.78.8-2.07 0-2.86zM5.41 20L4 18.59l7.72-7.72 1.47 1.35L5.41 20z\"/>\n",
              "  </svg>\n",
              "      </button>\n",
              "      \n",
              "  <style>\n",
              "    .colab-df-container {\n",
              "      display:flex;\n",
              "      flex-wrap:wrap;\n",
              "      gap: 12px;\n",
              "    }\n",
              "\n",
              "    .colab-df-convert {\n",
              "      background-color: #E8F0FE;\n",
              "      border: none;\n",
              "      border-radius: 50%;\n",
              "      cursor: pointer;\n",
              "      display: none;\n",
              "      fill: #1967D2;\n",
              "      height: 32px;\n",
              "      padding: 0 0 0 0;\n",
              "      width: 32px;\n",
              "    }\n",
              "\n",
              "    .colab-df-convert:hover {\n",
              "      background-color: #E2EBFA;\n",
              "      box-shadow: 0px 1px 2px rgba(60, 64, 67, 0.3), 0px 1px 3px 1px rgba(60, 64, 67, 0.15);\n",
              "      fill: #174EA6;\n",
              "    }\n",
              "\n",
              "    [theme=dark] .colab-df-convert {\n",
              "      background-color: #3B4455;\n",
              "      fill: #D2E3FC;\n",
              "    }\n",
              "\n",
              "    [theme=dark] .colab-df-convert:hover {\n",
              "      background-color: #434B5C;\n",
              "      box-shadow: 0px 1px 3px 1px rgba(0, 0, 0, 0.15);\n",
              "      filter: drop-shadow(0px 1px 2px rgba(0, 0, 0, 0.3));\n",
              "      fill: #FFFFFF;\n",
              "    }\n",
              "  </style>\n",
              "\n",
              "      <script>\n",
              "        const buttonEl =\n",
              "          document.querySelector('#df-4d8c1f82-c412-4c4d-a0ce-4c3f699b9c20 button.colab-df-convert');\n",
              "        buttonEl.style.display =\n",
              "          google.colab.kernel.accessAllowed ? 'block' : 'none';\n",
              "\n",
              "        async function convertToInteractive(key) {\n",
              "          const element = document.querySelector('#df-4d8c1f82-c412-4c4d-a0ce-4c3f699b9c20');\n",
              "          const dataTable =\n",
              "            await google.colab.kernel.invokeFunction('convertToInteractive',\n",
              "                                                     [key], {});\n",
              "          if (!dataTable) return;\n",
              "\n",
              "          const docLinkHtml = 'Like what you see? Visit the ' +\n",
              "            '<a target=\"_blank\" href=https://colab.research.google.com/notebooks/data_table.ipynb>data table notebook</a>'\n",
              "            + ' to learn more about interactive tables.';\n",
              "          element.innerHTML = '';\n",
              "          dataTable['output_type'] = 'display_data';\n",
              "          await google.colab.output.renderOutput(dataTable, element);\n",
              "          const docLink = document.createElement('div');\n",
              "          docLink.innerHTML = docLinkHtml;\n",
              "          element.appendChild(docLink);\n",
              "        }\n",
              "      </script>\n",
              "    </div>\n",
              "  </div>\n",
              "  "
            ]
          },
          "metadata": {},
          "execution_count": 146
        }
      ]
    },
    {
      "cell_type": "code",
      "source": [
        "df_final['VR_RECEITA'] = df_final['VR_RECEITA'].astype(float)"
      ],
      "metadata": {
        "id": "yz273otqNM-e"
      },
      "id": "yz273otqNM-e",
      "execution_count": 147,
      "outputs": []
    },
    {
      "cell_type": "code",
      "source": [
        "df_final[['TIPO_DOADOR', 'SG_UF','VR_RECEITA']].groupby(by=['TIPO_DOADOR','SG_UF']).max()"
      ],
      "metadata": {
        "id": "aPlbSleqNM7s",
        "outputId": "6d0553cc-f49d-4653-b54f-2327babb09e3",
        "colab": {
          "base_uri": "https://localhost:8080/",
          "height": 519
        }
      },
      "id": "aPlbSleqNM7s",
      "execution_count": 148,
      "outputs": [
        {
          "output_type": "execute_result",
          "data": {
            "text/plain": [
              "                   VR_RECEITA\n",
              "TIPO_DOADOR SG_UF            \n",
              "física      AC        40560.0\n",
              "            AM        35000.0\n",
              "            AP        12000.0\n",
              "            PA       200000.0\n",
              "            RO       110000.0\n",
              "            RR        30000.0\n",
              "            TO        30000.0\n",
              "jurídica    AC      4900000.0\n",
              "            AM      6900000.0\n",
              "            AP      4900000.0\n",
              "            PA      4400000.0\n",
              "            RO      2900000.0\n",
              "            RR      2900000.0\n",
              "            TO      4900000.0"
            ],
            "text/html": [
              "\n",
              "  <div id=\"df-f333e9dd-99d2-4857-8ef2-4cf3cca3916e\">\n",
              "    <div class=\"colab-df-container\">\n",
              "      <div>\n",
              "<style scoped>\n",
              "    .dataframe tbody tr th:only-of-type {\n",
              "        vertical-align: middle;\n",
              "    }\n",
              "\n",
              "    .dataframe tbody tr th {\n",
              "        vertical-align: top;\n",
              "    }\n",
              "\n",
              "    .dataframe thead th {\n",
              "        text-align: right;\n",
              "    }\n",
              "</style>\n",
              "<table border=\"1\" class=\"dataframe\">\n",
              "  <thead>\n",
              "    <tr style=\"text-align: right;\">\n",
              "      <th></th>\n",
              "      <th></th>\n",
              "      <th>VR_RECEITA</th>\n",
              "    </tr>\n",
              "    <tr>\n",
              "      <th>TIPO_DOADOR</th>\n",
              "      <th>SG_UF</th>\n",
              "      <th></th>\n",
              "    </tr>\n",
              "  </thead>\n",
              "  <tbody>\n",
              "    <tr>\n",
              "      <th rowspan=\"7\" valign=\"top\">física</th>\n",
              "      <th>AC</th>\n",
              "      <td>40560.0</td>\n",
              "    </tr>\n",
              "    <tr>\n",
              "      <th>AM</th>\n",
              "      <td>35000.0</td>\n",
              "    </tr>\n",
              "    <tr>\n",
              "      <th>AP</th>\n",
              "      <td>12000.0</td>\n",
              "    </tr>\n",
              "    <tr>\n",
              "      <th>PA</th>\n",
              "      <td>200000.0</td>\n",
              "    </tr>\n",
              "    <tr>\n",
              "      <th>RO</th>\n",
              "      <td>110000.0</td>\n",
              "    </tr>\n",
              "    <tr>\n",
              "      <th>RR</th>\n",
              "      <td>30000.0</td>\n",
              "    </tr>\n",
              "    <tr>\n",
              "      <th>TO</th>\n",
              "      <td>30000.0</td>\n",
              "    </tr>\n",
              "    <tr>\n",
              "      <th rowspan=\"7\" valign=\"top\">jurídica</th>\n",
              "      <th>AC</th>\n",
              "      <td>4900000.0</td>\n",
              "    </tr>\n",
              "    <tr>\n",
              "      <th>AM</th>\n",
              "      <td>6900000.0</td>\n",
              "    </tr>\n",
              "    <tr>\n",
              "      <th>AP</th>\n",
              "      <td>4900000.0</td>\n",
              "    </tr>\n",
              "    <tr>\n",
              "      <th>PA</th>\n",
              "      <td>4400000.0</td>\n",
              "    </tr>\n",
              "    <tr>\n",
              "      <th>RO</th>\n",
              "      <td>2900000.0</td>\n",
              "    </tr>\n",
              "    <tr>\n",
              "      <th>RR</th>\n",
              "      <td>2900000.0</td>\n",
              "    </tr>\n",
              "    <tr>\n",
              "      <th>TO</th>\n",
              "      <td>4900000.0</td>\n",
              "    </tr>\n",
              "  </tbody>\n",
              "</table>\n",
              "</div>\n",
              "      <button class=\"colab-df-convert\" onclick=\"convertToInteractive('df-f333e9dd-99d2-4857-8ef2-4cf3cca3916e')\"\n",
              "              title=\"Convert this dataframe to an interactive table.\"\n",
              "              style=\"display:none;\">\n",
              "        \n",
              "  <svg xmlns=\"http://www.w3.org/2000/svg\" height=\"24px\"viewBox=\"0 0 24 24\"\n",
              "       width=\"24px\">\n",
              "    <path d=\"M0 0h24v24H0V0z\" fill=\"none\"/>\n",
              "    <path d=\"M18.56 5.44l.94 2.06.94-2.06 2.06-.94-2.06-.94-.94-2.06-.94 2.06-2.06.94zm-11 1L8.5 8.5l.94-2.06 2.06-.94-2.06-.94L8.5 2.5l-.94 2.06-2.06.94zm10 10l.94 2.06.94-2.06 2.06-.94-2.06-.94-.94-2.06-.94 2.06-2.06.94z\"/><path d=\"M17.41 7.96l-1.37-1.37c-.4-.4-.92-.59-1.43-.59-.52 0-1.04.2-1.43.59L10.3 9.45l-7.72 7.72c-.78.78-.78 2.05 0 2.83L4 21.41c.39.39.9.59 1.41.59.51 0 1.02-.2 1.41-.59l7.78-7.78 2.81-2.81c.8-.78.8-2.07 0-2.86zM5.41 20L4 18.59l7.72-7.72 1.47 1.35L5.41 20z\"/>\n",
              "  </svg>\n",
              "      </button>\n",
              "      \n",
              "  <style>\n",
              "    .colab-df-container {\n",
              "      display:flex;\n",
              "      flex-wrap:wrap;\n",
              "      gap: 12px;\n",
              "    }\n",
              "\n",
              "    .colab-df-convert {\n",
              "      background-color: #E8F0FE;\n",
              "      border: none;\n",
              "      border-radius: 50%;\n",
              "      cursor: pointer;\n",
              "      display: none;\n",
              "      fill: #1967D2;\n",
              "      height: 32px;\n",
              "      padding: 0 0 0 0;\n",
              "      width: 32px;\n",
              "    }\n",
              "\n",
              "    .colab-df-convert:hover {\n",
              "      background-color: #E2EBFA;\n",
              "      box-shadow: 0px 1px 2px rgba(60, 64, 67, 0.3), 0px 1px 3px 1px rgba(60, 64, 67, 0.15);\n",
              "      fill: #174EA6;\n",
              "    }\n",
              "\n",
              "    [theme=dark] .colab-df-convert {\n",
              "      background-color: #3B4455;\n",
              "      fill: #D2E3FC;\n",
              "    }\n",
              "\n",
              "    [theme=dark] .colab-df-convert:hover {\n",
              "      background-color: #434B5C;\n",
              "      box-shadow: 0px 1px 3px 1px rgba(0, 0, 0, 0.15);\n",
              "      filter: drop-shadow(0px 1px 2px rgba(0, 0, 0, 0.3));\n",
              "      fill: #FFFFFF;\n",
              "    }\n",
              "  </style>\n",
              "\n",
              "      <script>\n",
              "        const buttonEl =\n",
              "          document.querySelector('#df-f333e9dd-99d2-4857-8ef2-4cf3cca3916e button.colab-df-convert');\n",
              "        buttonEl.style.display =\n",
              "          google.colab.kernel.accessAllowed ? 'block' : 'none';\n",
              "\n",
              "        async function convertToInteractive(key) {\n",
              "          const element = document.querySelector('#df-f333e9dd-99d2-4857-8ef2-4cf3cca3916e');\n",
              "          const dataTable =\n",
              "            await google.colab.kernel.invokeFunction('convertToInteractive',\n",
              "                                                     [key], {});\n",
              "          if (!dataTable) return;\n",
              "\n",
              "          const docLinkHtml = 'Like what you see? Visit the ' +\n",
              "            '<a target=\"_blank\" href=https://colab.research.google.com/notebooks/data_table.ipynb>data table notebook</a>'\n",
              "            + ' to learn more about interactive tables.';\n",
              "          element.innerHTML = '';\n",
              "          dataTable['output_type'] = 'display_data';\n",
              "          await google.colab.output.renderOutput(dataTable, element);\n",
              "          const docLink = document.createElement('div');\n",
              "          docLink.innerHTML = docLinkHtml;\n",
              "          element.appendChild(docLink);\n",
              "        }\n",
              "      </script>\n",
              "    </div>\n",
              "  </div>\n",
              "  "
            ]
          },
          "metadata": {},
          "execution_count": 148
        }
      ]
    },
    {
      "cell_type": "code",
      "source": [
        "# ou\n",
        "df_final[['TIPO_DOADOR', 'SG_UF','VR_RECEITA']].groupby(by=['TIPO_DOADOR','SG_UF']).sum()"
      ],
      "metadata": {
        "id": "TkXrUW3pNM4S",
        "outputId": "266176dd-5958-479f-d22c-8a019e1bfd7d",
        "colab": {
          "base_uri": "https://localhost:8080/",
          "height": 519
        }
      },
      "id": "TkXrUW3pNM4S",
      "execution_count": 149,
      "outputs": [
        {
          "output_type": "execute_result",
          "data": {
            "text/plain": [
              "                    VR_RECEITA\n",
              "TIPO_DOADOR SG_UF             \n",
              "física      AC       516688.26\n",
              "            AM       491585.92\n",
              "            AP        82687.88\n",
              "            PA      4532569.87\n",
              "            RO       815877.84\n",
              "            RR       170414.95\n",
              "            TO       414676.35\n",
              "jurídica    AC     22585542.95\n",
              "            AM     35625509.00\n",
              "            AP     33073470.04\n",
              "            PA     42454506.85\n",
              "            RO     22978320.93\n",
              "            RR     20868194.74\n",
              "            TO     24682986.39"
            ],
            "text/html": [
              "\n",
              "  <div id=\"df-9bf0fb10-3f08-4dd4-9bdd-a25e1e832680\">\n",
              "    <div class=\"colab-df-container\">\n",
              "      <div>\n",
              "<style scoped>\n",
              "    .dataframe tbody tr th:only-of-type {\n",
              "        vertical-align: middle;\n",
              "    }\n",
              "\n",
              "    .dataframe tbody tr th {\n",
              "        vertical-align: top;\n",
              "    }\n",
              "\n",
              "    .dataframe thead th {\n",
              "        text-align: right;\n",
              "    }\n",
              "</style>\n",
              "<table border=\"1\" class=\"dataframe\">\n",
              "  <thead>\n",
              "    <tr style=\"text-align: right;\">\n",
              "      <th></th>\n",
              "      <th></th>\n",
              "      <th>VR_RECEITA</th>\n",
              "    </tr>\n",
              "    <tr>\n",
              "      <th>TIPO_DOADOR</th>\n",
              "      <th>SG_UF</th>\n",
              "      <th></th>\n",
              "    </tr>\n",
              "  </thead>\n",
              "  <tbody>\n",
              "    <tr>\n",
              "      <th rowspan=\"7\" valign=\"top\">física</th>\n",
              "      <th>AC</th>\n",
              "      <td>516688.26</td>\n",
              "    </tr>\n",
              "    <tr>\n",
              "      <th>AM</th>\n",
              "      <td>491585.92</td>\n",
              "    </tr>\n",
              "    <tr>\n",
              "      <th>AP</th>\n",
              "      <td>82687.88</td>\n",
              "    </tr>\n",
              "    <tr>\n",
              "      <th>PA</th>\n",
              "      <td>4532569.87</td>\n",
              "    </tr>\n",
              "    <tr>\n",
              "      <th>RO</th>\n",
              "      <td>815877.84</td>\n",
              "    </tr>\n",
              "    <tr>\n",
              "      <th>RR</th>\n",
              "      <td>170414.95</td>\n",
              "    </tr>\n",
              "    <tr>\n",
              "      <th>TO</th>\n",
              "      <td>414676.35</td>\n",
              "    </tr>\n",
              "    <tr>\n",
              "      <th rowspan=\"7\" valign=\"top\">jurídica</th>\n",
              "      <th>AC</th>\n",
              "      <td>22585542.95</td>\n",
              "    </tr>\n",
              "    <tr>\n",
              "      <th>AM</th>\n",
              "      <td>35625509.00</td>\n",
              "    </tr>\n",
              "    <tr>\n",
              "      <th>AP</th>\n",
              "      <td>33073470.04</td>\n",
              "    </tr>\n",
              "    <tr>\n",
              "      <th>PA</th>\n",
              "      <td>42454506.85</td>\n",
              "    </tr>\n",
              "    <tr>\n",
              "      <th>RO</th>\n",
              "      <td>22978320.93</td>\n",
              "    </tr>\n",
              "    <tr>\n",
              "      <th>RR</th>\n",
              "      <td>20868194.74</td>\n",
              "    </tr>\n",
              "    <tr>\n",
              "      <th>TO</th>\n",
              "      <td>24682986.39</td>\n",
              "    </tr>\n",
              "  </tbody>\n",
              "</table>\n",
              "</div>\n",
              "      <button class=\"colab-df-convert\" onclick=\"convertToInteractive('df-9bf0fb10-3f08-4dd4-9bdd-a25e1e832680')\"\n",
              "              title=\"Convert this dataframe to an interactive table.\"\n",
              "              style=\"display:none;\">\n",
              "        \n",
              "  <svg xmlns=\"http://www.w3.org/2000/svg\" height=\"24px\"viewBox=\"0 0 24 24\"\n",
              "       width=\"24px\">\n",
              "    <path d=\"M0 0h24v24H0V0z\" fill=\"none\"/>\n",
              "    <path d=\"M18.56 5.44l.94 2.06.94-2.06 2.06-.94-2.06-.94-.94-2.06-.94 2.06-2.06.94zm-11 1L8.5 8.5l.94-2.06 2.06-.94-2.06-.94L8.5 2.5l-.94 2.06-2.06.94zm10 10l.94 2.06.94-2.06 2.06-.94-2.06-.94-.94-2.06-.94 2.06-2.06.94z\"/><path d=\"M17.41 7.96l-1.37-1.37c-.4-.4-.92-.59-1.43-.59-.52 0-1.04.2-1.43.59L10.3 9.45l-7.72 7.72c-.78.78-.78 2.05 0 2.83L4 21.41c.39.39.9.59 1.41.59.51 0 1.02-.2 1.41-.59l7.78-7.78 2.81-2.81c.8-.78.8-2.07 0-2.86zM5.41 20L4 18.59l7.72-7.72 1.47 1.35L5.41 20z\"/>\n",
              "  </svg>\n",
              "      </button>\n",
              "      \n",
              "  <style>\n",
              "    .colab-df-container {\n",
              "      display:flex;\n",
              "      flex-wrap:wrap;\n",
              "      gap: 12px;\n",
              "    }\n",
              "\n",
              "    .colab-df-convert {\n",
              "      background-color: #E8F0FE;\n",
              "      border: none;\n",
              "      border-radius: 50%;\n",
              "      cursor: pointer;\n",
              "      display: none;\n",
              "      fill: #1967D2;\n",
              "      height: 32px;\n",
              "      padding: 0 0 0 0;\n",
              "      width: 32px;\n",
              "    }\n",
              "\n",
              "    .colab-df-convert:hover {\n",
              "      background-color: #E2EBFA;\n",
              "      box-shadow: 0px 1px 2px rgba(60, 64, 67, 0.3), 0px 1px 3px 1px rgba(60, 64, 67, 0.15);\n",
              "      fill: #174EA6;\n",
              "    }\n",
              "\n",
              "    [theme=dark] .colab-df-convert {\n",
              "      background-color: #3B4455;\n",
              "      fill: #D2E3FC;\n",
              "    }\n",
              "\n",
              "    [theme=dark] .colab-df-convert:hover {\n",
              "      background-color: #434B5C;\n",
              "      box-shadow: 0px 1px 3px 1px rgba(0, 0, 0, 0.15);\n",
              "      filter: drop-shadow(0px 1px 2px rgba(0, 0, 0, 0.3));\n",
              "      fill: #FFFFFF;\n",
              "    }\n",
              "  </style>\n",
              "\n",
              "      <script>\n",
              "        const buttonEl =\n",
              "          document.querySelector('#df-9bf0fb10-3f08-4dd4-9bdd-a25e1e832680 button.colab-df-convert');\n",
              "        buttonEl.style.display =\n",
              "          google.colab.kernel.accessAllowed ? 'block' : 'none';\n",
              "\n",
              "        async function convertToInteractive(key) {\n",
              "          const element = document.querySelector('#df-9bf0fb10-3f08-4dd4-9bdd-a25e1e832680');\n",
              "          const dataTable =\n",
              "            await google.colab.kernel.invokeFunction('convertToInteractive',\n",
              "                                                     [key], {});\n",
              "          if (!dataTable) return;\n",
              "\n",
              "          const docLinkHtml = 'Like what you see? Visit the ' +\n",
              "            '<a target=\"_blank\" href=https://colab.research.google.com/notebooks/data_table.ipynb>data table notebook</a>'\n",
              "            + ' to learn more about interactive tables.';\n",
              "          element.innerHTML = '';\n",
              "          dataTable['output_type'] = 'display_data';\n",
              "          await google.colab.output.renderOutput(dataTable, element);\n",
              "          const docLink = document.createElement('div');\n",
              "          docLink.innerHTML = docLinkHtml;\n",
              "          element.appendChild(docLink);\n",
              "        }\n",
              "      </script>\n",
              "    </div>\n",
              "  </div>\n",
              "  "
            ]
          },
          "metadata": {},
          "execution_count": 149
        }
      ]
    },
    {
      "cell_type": "code",
      "execution_count": 152,
      "id": "95e8e533",
      "metadata": {
        "id": "95e8e533"
      },
      "outputs": [],
      "source": [
        "# Para repetir o valor da coluna TIPO_DOADOR nas linhas, coloque o parâmetro as_index=False no método groupby do comando acima"
      ]
    },
    {
      "cell_type": "markdown",
      "id": "63d35bb6",
      "metadata": {
        "id": "63d35bb6"
      },
      "source": [
        "## Qual o total de doações recebidas por partido?"
      ]
    },
    {
      "cell_type": "code",
      "execution_count": 159,
      "id": "b24a3736",
      "metadata": {
        "id": "b24a3736"
      },
      "outputs": [],
      "source": [
        "total_doacoes = df_final[['SG_PARTIDO','NM_PARTIDO', 'VR_RECEITA']].groupby(by=['SG_PARTIDO','NM_PARTIDO'], as_index=False).sum()"
      ]
    },
    {
      "cell_type": "code",
      "source": [
        "total_doacoes.tail()"
      ],
      "metadata": {
        "id": "CUIpsm3VRyVM",
        "outputId": "7ed40e0b-862c-49ca-fa58-e18d50699d98",
        "colab": {
          "base_uri": "https://localhost:8080/",
          "height": 206
        }
      },
      "id": "CUIpsm3VRyVM",
      "execution_count": 160,
      "outputs": [
        {
          "output_type": "execute_result",
          "data": {
            "text/plain": [
              "       SG_PARTIDO             NM_PARTIDO   VR_RECEITA\n",
              "26             PV          Partido Verde   4670590.87\n",
              "27           REDE  Rede Sustentabilidade  10416744.67\n",
              "28   REPUBLICANOS           REPUBLICANOS   9731257.47\n",
              "29  SOLIDARIEDADE          Solidariedade  10855671.17\n",
              "30             UP        Unidade Popular     15200.00"
            ],
            "text/html": [
              "\n",
              "  <div id=\"df-b46ea891-7dc1-4a99-8470-6c755db00592\">\n",
              "    <div class=\"colab-df-container\">\n",
              "      <div>\n",
              "<style scoped>\n",
              "    .dataframe tbody tr th:only-of-type {\n",
              "        vertical-align: middle;\n",
              "    }\n",
              "\n",
              "    .dataframe tbody tr th {\n",
              "        vertical-align: top;\n",
              "    }\n",
              "\n",
              "    .dataframe thead th {\n",
              "        text-align: right;\n",
              "    }\n",
              "</style>\n",
              "<table border=\"1\" class=\"dataframe\">\n",
              "  <thead>\n",
              "    <tr style=\"text-align: right;\">\n",
              "      <th></th>\n",
              "      <th>SG_PARTIDO</th>\n",
              "      <th>NM_PARTIDO</th>\n",
              "      <th>VR_RECEITA</th>\n",
              "    </tr>\n",
              "  </thead>\n",
              "  <tbody>\n",
              "    <tr>\n",
              "      <th>26</th>\n",
              "      <td>PV</td>\n",
              "      <td>Partido Verde</td>\n",
              "      <td>4670590.87</td>\n",
              "    </tr>\n",
              "    <tr>\n",
              "      <th>27</th>\n",
              "      <td>REDE</td>\n",
              "      <td>Rede Sustentabilidade</td>\n",
              "      <td>10416744.67</td>\n",
              "    </tr>\n",
              "    <tr>\n",
              "      <th>28</th>\n",
              "      <td>REPUBLICANOS</td>\n",
              "      <td>REPUBLICANOS</td>\n",
              "      <td>9731257.47</td>\n",
              "    </tr>\n",
              "    <tr>\n",
              "      <th>29</th>\n",
              "      <td>SOLIDARIEDADE</td>\n",
              "      <td>Solidariedade</td>\n",
              "      <td>10855671.17</td>\n",
              "    </tr>\n",
              "    <tr>\n",
              "      <th>30</th>\n",
              "      <td>UP</td>\n",
              "      <td>Unidade Popular</td>\n",
              "      <td>15200.00</td>\n",
              "    </tr>\n",
              "  </tbody>\n",
              "</table>\n",
              "</div>\n",
              "      <button class=\"colab-df-convert\" onclick=\"convertToInteractive('df-b46ea891-7dc1-4a99-8470-6c755db00592')\"\n",
              "              title=\"Convert this dataframe to an interactive table.\"\n",
              "              style=\"display:none;\">\n",
              "        \n",
              "  <svg xmlns=\"http://www.w3.org/2000/svg\" height=\"24px\"viewBox=\"0 0 24 24\"\n",
              "       width=\"24px\">\n",
              "    <path d=\"M0 0h24v24H0V0z\" fill=\"none\"/>\n",
              "    <path d=\"M18.56 5.44l.94 2.06.94-2.06 2.06-.94-2.06-.94-.94-2.06-.94 2.06-2.06.94zm-11 1L8.5 8.5l.94-2.06 2.06-.94-2.06-.94L8.5 2.5l-.94 2.06-2.06.94zm10 10l.94 2.06.94-2.06 2.06-.94-2.06-.94-.94-2.06-.94 2.06-2.06.94z\"/><path d=\"M17.41 7.96l-1.37-1.37c-.4-.4-.92-.59-1.43-.59-.52 0-1.04.2-1.43.59L10.3 9.45l-7.72 7.72c-.78.78-.78 2.05 0 2.83L4 21.41c.39.39.9.59 1.41.59.51 0 1.02-.2 1.41-.59l7.78-7.78 2.81-2.81c.8-.78.8-2.07 0-2.86zM5.41 20L4 18.59l7.72-7.72 1.47 1.35L5.41 20z\"/>\n",
              "  </svg>\n",
              "      </button>\n",
              "      \n",
              "  <style>\n",
              "    .colab-df-container {\n",
              "      display:flex;\n",
              "      flex-wrap:wrap;\n",
              "      gap: 12px;\n",
              "    }\n",
              "\n",
              "    .colab-df-convert {\n",
              "      background-color: #E8F0FE;\n",
              "      border: none;\n",
              "      border-radius: 50%;\n",
              "      cursor: pointer;\n",
              "      display: none;\n",
              "      fill: #1967D2;\n",
              "      height: 32px;\n",
              "      padding: 0 0 0 0;\n",
              "      width: 32px;\n",
              "    }\n",
              "\n",
              "    .colab-df-convert:hover {\n",
              "      background-color: #E2EBFA;\n",
              "      box-shadow: 0px 1px 2px rgba(60, 64, 67, 0.3), 0px 1px 3px 1px rgba(60, 64, 67, 0.15);\n",
              "      fill: #174EA6;\n",
              "    }\n",
              "\n",
              "    [theme=dark] .colab-df-convert {\n",
              "      background-color: #3B4455;\n",
              "      fill: #D2E3FC;\n",
              "    }\n",
              "\n",
              "    [theme=dark] .colab-df-convert:hover {\n",
              "      background-color: #434B5C;\n",
              "      box-shadow: 0px 1px 3px 1px rgba(0, 0, 0, 0.15);\n",
              "      filter: drop-shadow(0px 1px 2px rgba(0, 0, 0, 0.3));\n",
              "      fill: #FFFFFF;\n",
              "    }\n",
              "  </style>\n",
              "\n",
              "      <script>\n",
              "        const buttonEl =\n",
              "          document.querySelector('#df-b46ea891-7dc1-4a99-8470-6c755db00592 button.colab-df-convert');\n",
              "        buttonEl.style.display =\n",
              "          google.colab.kernel.accessAllowed ? 'block' : 'none';\n",
              "\n",
              "        async function convertToInteractive(key) {\n",
              "          const element = document.querySelector('#df-b46ea891-7dc1-4a99-8470-6c755db00592');\n",
              "          const dataTable =\n",
              "            await google.colab.kernel.invokeFunction('convertToInteractive',\n",
              "                                                     [key], {});\n",
              "          if (!dataTable) return;\n",
              "\n",
              "          const docLinkHtml = 'Like what you see? Visit the ' +\n",
              "            '<a target=\"_blank\" href=https://colab.research.google.com/notebooks/data_table.ipynb>data table notebook</a>'\n",
              "            + ' to learn more about interactive tables.';\n",
              "          element.innerHTML = '';\n",
              "          dataTable['output_type'] = 'display_data';\n",
              "          await google.colab.output.renderOutput(dataTable, element);\n",
              "          const docLink = document.createElement('div');\n",
              "          docLink.innerHTML = docLinkHtml;\n",
              "          element.appendChild(docLink);\n",
              "        }\n",
              "      </script>\n",
              "    </div>\n",
              "  </div>\n",
              "  "
            ]
          },
          "metadata": {},
          "execution_count": 160
        }
      ]
    },
    {
      "cell_type": "markdown",
      "id": "c5d33b84",
      "metadata": {
        "id": "c5d33b84"
      },
      "source": [
        "## Qual é o top 10?\n",
        "\n",
        "Crie um novo dataframe com os 10 partidos com mais doações. Você precisa primeiro ordenar os resultados e depois selecionar apenas os 10 primeiros.\n",
        "\n"
      ]
    },
    {
      "cell_type": "code",
      "execution_count": 168,
      "id": "8144f9e5",
      "metadata": {
        "id": "8144f9e5"
      },
      "outputs": [],
      "source": [
        "total_doacoes_decrescente = total_doacoes.sort_values(by='VR_RECEITA', ascending=False)"
      ]
    },
    {
      "cell_type": "code",
      "source": [
        "total_doacoes_decrescente.head(10)"
      ],
      "metadata": {
        "id": "xJrUDwdUScZj"
      },
      "id": "xJrUDwdUScZj",
      "execution_count": null,
      "outputs": []
    },
    {
      "cell_type": "markdown",
      "id": "0ca424ec",
      "metadata": {
        "id": "0ca424ec"
      },
      "source": [
        "# Vamos visualizar os resultados?\n",
        "Na aula, nós vimos como usar o matplotlib para gerar gráficos. Agora, vamos descobrir uma nova forma de fazer o mesmo usando um método nativo Pandas. Experimente colocar `.plot(kind='barh')` após a consulta ou dataframe anterior.\n",
        "\n",
        "Com este comando, podemos produzir um gráfico (plot) do tipo (kind) de barras horizontais (barh)."
      ]
    },
    {
      "cell_type": "code",
      "execution_count": null,
      "id": "db7c17b2",
      "metadata": {
        "id": "db7c17b2"
      },
      "outputs": [],
      "source": [
        "df_final[__________].groupby(by=_____).___().sort_values(by='____',ascending=______).head(___).plot(kind='barh')"
      ]
    },
    {
      "cell_type": "markdown",
      "id": "1eef3d90",
      "metadata": {
        "id": "1eef3d90"
      },
      "source": [
        "## Qual o valor médio das doações por tipo de doador?\n",
        "\n",
        "Agora é sua vez! A partir dos comandos anteriores, faça uma nova consulta para descobrir a mediana de acordo com o tipo de doador."
      ]
    },
    {
      "cell_type": "code",
      "execution_count": null,
      "id": "e0385ed3",
      "metadata": {
        "id": "e0385ed3"
      },
      "outputs": [],
      "source": []
    },
    {
      "cell_type": "markdown",
      "id": "6e4ae02a",
      "metadata": {
        "id": "6e4ae02a"
      },
      "source": [
        "## Qual o valor mais alto de doação por tipo de doador?"
      ]
    },
    {
      "cell_type": "code",
      "execution_count": null,
      "id": "a4530329",
      "metadata": {
        "id": "a4530329"
      },
      "outputs": [],
      "source": []
    },
    {
      "cell_type": "markdown",
      "id": "6c0e02b3",
      "metadata": {
        "id": "6c0e02b3"
      },
      "source": [
        "## Crie uma tabela com valor máximo, mínimo e a mediana, por estado e tipo de doador"
      ]
    },
    {
      "cell_type": "code",
      "execution_count": null,
      "id": "766c9df8",
      "metadata": {
        "id": "766c9df8"
      },
      "outputs": [],
      "source": []
    },
    {
      "cell_type": "markdown",
      "id": "34e11ca6",
      "metadata": {
        "id": "34e11ca6"
      },
      "source": [
        "# Entreviste você mesmo"
      ]
    },
    {
      "cell_type": "markdown",
      "id": "4b17ac41",
      "metadata": {
        "id": "4b17ac41"
      },
      "source": [
        "Escreva abaixo pelo menos outras três perguntas que podem ser feitas à base de dados. Escreva a pergunta como um comentário acima do código com a consulta em Python."
      ]
    },
    {
      "cell_type": "markdown",
      "id": "67e605e5",
      "metadata": {
        "id": "67e605e5"
      },
      "source": []
    }
  ],
  "metadata": {
    "interpreter": {
      "hash": "916dbcbb3f70747c44a77c7bcd40155683ae19c65e1c03b4aa3499c5328201f1"
    },
    "kernelspec": {
      "display_name": "Python 3 (ipykernel)",
      "language": "python",
      "name": "python3"
    },
    "language_info": {
      "codemirror_mode": {
        "name": "ipython",
        "version": 3
      },
      "file_extension": ".py",
      "mimetype": "text/x-python",
      "name": "python",
      "nbconvert_exporter": "python",
      "pygments_lexer": "ipython3",
      "version": "3.10.6"
    },
    "colab": {
      "provenance": []
    }
  },
  "nbformat": 4,
  "nbformat_minor": 5
}