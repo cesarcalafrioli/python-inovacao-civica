{
  "cells": [
    {
      "cell_type": "markdown",
      "id": "0badcac0",
      "metadata": {
        "id": "0badcac0"
      },
      "source": [
        "# Limpeza de dados e estatística descritiva\n",
        "\n",
        "Neste desafio colocaremos em prática alguns conceitos apresentado nas aulas. Para isso, usaremos o conjunto de dados [Prestação de contas eleitorais - 2020](https://dadosabertos.tse.jus.br/dataset/prestacao-de-contas-eleitorais-2020) disponível no Portal de Dados Abertos do Tribunal Superior Eleitoral.\n",
        "\n",
        "Os dados também podem ser encontrados na pasta \"Dados\" deste repositório.\n",
        "\n",
        "Preencha as lacunas abaixo para completar o desafio."
      ]
    },
    {
      "cell_type": "markdown",
      "id": "0c16060f",
      "metadata": {
        "id": "0c16060f"
      },
      "source": [
        "# Importe os pacotes necessários"
      ]
    },
    {
      "cell_type": "code",
      "execution_count": 1,
      "id": "4e8e21b1",
      "metadata": {
        "id": "4e8e21b1"
      },
      "outputs": [],
      "source": [
        "import pandas as pd\n",
        "import numpy as np"
      ]
    },
    {
      "cell_type": "markdown",
      "id": "bf75d21a",
      "metadata": {
        "id": "bf75d21a"
      },
      "source": [
        "# Leia o arquivo \"receitas_orgaos_partidarios_2020_NORTE.csv\" que está na pasta dados desse repositório, usando o Pandas\n",
        "\n",
        "Na aula `1.10 - Outliers e valores faltantes`, vimos como utilizar o método `replace` para substituir valores em certos colunas do nosso dataframe e trocar o texto (string) `#NULO#` pela representação padrão do Pandas para valores nulos.\n",
        "\n",
        "Aqui, vamos utilizar um outro método, onde definimos quais strings serão considerados valores nulos já na importação do arquivo.\n",
        "\n",
        "Edite as células abaixo e inclua:\n",
        "\n",
        "* O nome do arquivo que queremos importar\n",
        "* O separador utilizado\n",
        "* Insira uma lista no parâmetro `na_values` que contenha o texto a ser ignorado.\n",
        "\n",
        "Experimente rodar os comandos primeiro sem e depois com o parâmetro `na_values`, então, compare a diferença. Observe, por exemplo, o campo `CD_CNAE_DOADOR`."
      ]
    },
    {
      "cell_type": "code",
      "execution_count": 2,
      "id": "0b8e6b56",
      "metadata": {
        "id": "0b8e6b56",
        "outputId": "b95d24a6-7fc8-476d-8570-a631849acace",
        "colab": {
          "base_uri": "https://localhost:8080/"
        }
      },
      "outputs": [
        {
          "output_type": "stream",
          "name": "stdout",
          "text": [
            "<class 'pandas.core.frame.DataFrame'>\n",
            "RangeIndex: 6052 entries, 0 to 6051\n",
            "Data columns (total 48 columns):\n",
            " #   Column                       Non-Null Count  Dtype  \n",
            "---  ------                       --------------  -----  \n",
            " 0   DT_GERACAO                   6052 non-null   object \n",
            " 1   HH_GERACAO                   6052 non-null   object \n",
            " 2   ANO_ELEICAO                  6052 non-null   int64  \n",
            " 3   CD_TIPO_ELEICAO              6052 non-null   int64  \n",
            " 4   NM_TIPO_ELEICAO              6052 non-null   object \n",
            " 5   TP_PRESTACAO_CONTAS          6052 non-null   object \n",
            " 6   DT_PRESTACAO_CONTAS          6052 non-null   object \n",
            " 7   SQ_PRESTADOR_CONTAS          6052 non-null   int64  \n",
            " 8   CD_ESFERA_PARTIDARIA         6052 non-null   object \n",
            " 9   DS_ESFERA_PARTIDARIA         6052 non-null   object \n",
            " 10  SG_UF                        6052 non-null   object \n",
            " 11  CD_MUNICIPIO                 5043 non-null   float64\n",
            " 12  NM_MUNICIPIO                 5043 non-null   object \n",
            " 13  NR_CNPJ_PRESTADOR_CONTA      6052 non-null   int64  \n",
            " 14  NR_PARTIDO                   6052 non-null   int64  \n",
            " 15  SG_PARTIDO                   6052 non-null   object \n",
            " 16  NM_PARTIDO                   6052 non-null   object \n",
            " 17  CD_FONTE_RECEITA             6052 non-null   int64  \n",
            " 18  DS_FONTE_RECEITA             6052 non-null   object \n",
            " 19  CD_ORIGEM_RECEITA            6052 non-null   int64  \n",
            " 20  DS_ORIGEM_RECEITA            6052 non-null   object \n",
            " 21  CD_NATUREZA_RECEITA          6052 non-null   int64  \n",
            " 22  DS_NATUREZA_RECEITA          6052 non-null   object \n",
            " 23  CD_ESPECIE_RECEITA           6052 non-null   int64  \n",
            " 24  DS_ESPECIE_RECEITA           6052 non-null   object \n",
            " 25  CD_CNAE_DOADOR               3033 non-null   float64\n",
            " 26  DS_CNAE_DOADOR               3033 non-null   object \n",
            " 27  NR_CPF_CNPJ_DOADOR           6016 non-null   float64\n",
            " 28  NM_DOADOR                    6016 non-null   object \n",
            " 29  NM_DOADOR_RFB                6016 non-null   object \n",
            " 30  CD_ESFERA_PARTIDARIA_DOADOR  2071 non-null   object \n",
            " 31  DS_ESFERA_PARTIDARIA_DOADOR  2071 non-null   object \n",
            " 32  SG_UF_DOADOR                 3033 non-null   object \n",
            " 33  CD_MUNICIPIO_DOADOR          1092 non-null   float64\n",
            " 34  NM_MUNICIPIO_DOADOR          1092 non-null   object \n",
            " 35  SQ_CANDIDATO_DOADOR          886 non-null    float64\n",
            " 36  NR_CANDIDATO_DOADOR          962 non-null    float64\n",
            " 37  CD_CARGO_CANDIDATO_DOADOR    962 non-null    float64\n",
            " 38  DS_CARGO_CANDIDATO_DOADOR    962 non-null    object \n",
            " 39  NR_PARTIDO_DOADOR            3033 non-null   float64\n",
            " 40  SG_PARTIDO_DOADOR            3033 non-null   object \n",
            " 41  NM_PARTIDO_DOADOR            3033 non-null   object \n",
            " 42  NR_RECIBO_DOACAO             5623 non-null   object \n",
            " 43  NR_DOCUMENTO_DOACAO          3924 non-null   object \n",
            " 44  SQ_RECEITA                   6052 non-null   int64  \n",
            " 45  DT_RECEITA                   6052 non-null   object \n",
            " 46  DS_RECEITA                   1933 non-null   object \n",
            " 47  VR_RECEITA                   6052 non-null   object \n",
            "dtypes: float64(8), int64(10), object(30)\n",
            "memory usage: 2.2+ MB\n"
          ]
        }
      ],
      "source": [
        "filename = \"receitas_orgaos_partidarios_2020_NORTE.csv\"\n",
        "df = pd.read_csv(filename,sep=\";\")\n",
        "\n",
        "df.info()"
      ]
    },
    {
      "cell_type": "code",
      "execution_count": 4,
      "id": "a81ccab4",
      "metadata": {
        "id": "a81ccab4",
        "outputId": "2b1d65e9-f9cb-4804-f1aa-76977c4ad663",
        "colab": {
          "base_uri": "https://localhost:8080/"
        }
      },
      "outputs": [
        {
          "output_type": "stream",
          "name": "stdout",
          "text": [
            "<class 'pandas.core.frame.DataFrame'>\n",
            "RangeIndex: 6052 entries, 0 to 6051\n",
            "Data columns (total 48 columns):\n",
            " #   Column                       Non-Null Count  Dtype  \n",
            "---  ------                       --------------  -----  \n",
            " 0   DT_GERACAO                   6052 non-null   object \n",
            " 1   HH_GERACAO                   6052 non-null   object \n",
            " 2   ANO_ELEICAO                  6052 non-null   int64  \n",
            " 3   CD_TIPO_ELEICAO              6052 non-null   int64  \n",
            " 4   NM_TIPO_ELEICAO              6052 non-null   object \n",
            " 5   TP_PRESTACAO_CONTAS          6052 non-null   object \n",
            " 6   DT_PRESTACAO_CONTAS          6052 non-null   object \n",
            " 7   SQ_PRESTADOR_CONTAS          6052 non-null   int64  \n",
            " 8   CD_ESFERA_PARTIDARIA         6052 non-null   object \n",
            " 9   DS_ESFERA_PARTIDARIA         6052 non-null   object \n",
            " 10  SG_UF                        6052 non-null   object \n",
            " 11  CD_MUNICIPIO                 5043 non-null   float64\n",
            " 12  NM_MUNICIPIO                 5043 non-null   object \n",
            " 13  NR_CNPJ_PRESTADOR_CONTA      6052 non-null   int64  \n",
            " 14  NR_PARTIDO                   6052 non-null   int64  \n",
            " 15  SG_PARTIDO                   6052 non-null   object \n",
            " 16  NM_PARTIDO                   6052 non-null   object \n",
            " 17  CD_FONTE_RECEITA             6052 non-null   int64  \n",
            " 18  DS_FONTE_RECEITA             6052 non-null   object \n",
            " 19  CD_ORIGEM_RECEITA            6052 non-null   int64  \n",
            " 20  DS_ORIGEM_RECEITA            6052 non-null   object \n",
            " 21  CD_NATUREZA_RECEITA          6052 non-null   int64  \n",
            " 22  DS_NATUREZA_RECEITA          6052 non-null   object \n",
            " 23  CD_ESPECIE_RECEITA           6052 non-null   int64  \n",
            " 24  DS_ESPECIE_RECEITA           6052 non-null   object \n",
            " 25  CD_CNAE_DOADOR               3033 non-null   float64\n",
            " 26  DS_CNAE_DOADOR               3033 non-null   object \n",
            " 27  NR_CPF_CNPJ_DOADOR           6016 non-null   float64\n",
            " 28  NM_DOADOR                    6016 non-null   object \n",
            " 29  NM_DOADOR_RFB                6016 non-null   object \n",
            " 30  CD_ESFERA_PARTIDARIA_DOADOR  2071 non-null   object \n",
            " 31  DS_ESFERA_PARTIDARIA_DOADOR  2071 non-null   object \n",
            " 32  SG_UF_DOADOR                 3033 non-null   object \n",
            " 33  CD_MUNICIPIO_DOADOR          1092 non-null   float64\n",
            " 34  NM_MUNICIPIO_DOADOR          1092 non-null   object \n",
            " 35  SQ_CANDIDATO_DOADOR          886 non-null    float64\n",
            " 36  NR_CANDIDATO_DOADOR          962 non-null    float64\n",
            " 37  CD_CARGO_CANDIDATO_DOADOR    962 non-null    float64\n",
            " 38  DS_CARGO_CANDIDATO_DOADOR    962 non-null    object \n",
            " 39  NR_PARTIDO_DOADOR            3033 non-null   float64\n",
            " 40  SG_PARTIDO_DOADOR            3033 non-null   object \n",
            " 41  NM_PARTIDO_DOADOR            3033 non-null   object \n",
            " 42  NR_RECIBO_DOACAO             5623 non-null   object \n",
            " 43  NR_DOCUMENTO_DOACAO          3924 non-null   object \n",
            " 44  SQ_RECEITA                   6052 non-null   int64  \n",
            " 45  DT_RECEITA                   6052 non-null   object \n",
            " 46  DS_RECEITA                   1933 non-null   object \n",
            " 47  VR_RECEITA                   6052 non-null   object \n",
            "dtypes: float64(8), int64(10), object(30)\n",
            "memory usage: 2.2+ MB\n"
          ]
        }
      ],
      "source": [
        "filename = \"receitas_orgaos_partidarios_2020_NORTE.csv\"\n",
        "df = pd.read_csv(filename,sep=\";\",na_values=\"#NULO#\")\n",
        "\n",
        "df.info()"
      ]
    },
    {
      "cell_type": "markdown",
      "id": "aec7cfce",
      "metadata": {
        "id": "aec7cfce"
      },
      "source": [
        "# Filtre apenas os registros que sejam da prestação de contas final\n"
      ]
    },
    {
      "cell_type": "code",
      "execution_count": 7,
      "id": "110f8562",
      "metadata": {
        "id": "110f8562",
        "outputId": "e70adf6f-4b4b-4019-f3dd-3c09426efd23",
        "colab": {
          "base_uri": "https://localhost:8080/"
        }
      },
      "outputs": [
        {
          "output_type": "execute_result",
          "data": {
            "text/plain": [
              "array(['Final', 'Parcial', 'Relatório Financeiro',\n",
              "       'Regularização da Omissão'], dtype=object)"
            ]
          },
          "metadata": {},
          "execution_count": 7
        }
      ],
      "source": [
        "# Primeiro vamos ver os valores únicos da coluna TP_PRESTACAO_CONTAS\n",
        "df[\"TP_PRESTACAO_CONTAS\"].unique()"
      ]
    },
    {
      "cell_type": "code",
      "execution_count": 12,
      "id": "60f1ce27",
      "metadata": {
        "id": "60f1ce27",
        "outputId": "2b888712-25fd-4829-96b6-180f0526b471",
        "colab": {
          "base_uri": "https://localhost:8080/"
        }
      },
      "outputs": [
        {
          "output_type": "execute_result",
          "data": {
            "text/plain": [
              "(6052, 48)"
            ]
          },
          "metadata": {},
          "execution_count": 12
        }
      ],
      "source": [
        "# O resultado deste comando nos diz que quantas linhas e colunas temos antes do filtro\n",
        "df.shape"
      ]
    },
    {
      "cell_type": "code",
      "execution_count": 9,
      "id": "145c639e",
      "metadata": {
        "id": "145c639e"
      },
      "outputs": [],
      "source": [
        "# Preencha o campo os espaços abaixo com o nome da coluna e o valor desejado para nosso filtro\n",
        "df_final = df[df[\"TP_PRESTACAO_CONTAS\"] == \"Parcial\"].copy()"
      ]
    },
    {
      "cell_type": "code",
      "execution_count": 13,
      "id": "947b303c",
      "metadata": {
        "id": "947b303c",
        "outputId": "3f11350d-bd7c-4dee-c445-5440802eca3b",
        "colab": {
          "base_uri": "https://localhost:8080/"
        }
      },
      "outputs": [
        {
          "output_type": "execute_result",
          "data": {
            "text/plain": [
              "(38, 48)"
            ]
          },
          "metadata": {},
          "execution_count": 13
        }
      ],
      "source": [
        "# Rode o comando shape no novo dataframe criado e confira se o número de linhas foi reduzido\n",
        "df_final.shape"
      ]
    },
    {
      "cell_type": "markdown",
      "id": "4fbec4e0",
      "metadata": {
        "id": "4fbec4e0"
      },
      "source": [
        "## Qual foi a maior doação de pessoa física e pessoa jurídica em cada estado?\n",
        "\n",
        "Vamos usar o método `value_counts` para não só listar cada valor único da coluna `CD_CNAE_DOADOR`, como também mostrar quantos registros temos em cada um."
      ]
    },
    {
      "cell_type": "code",
      "execution_count": 14,
      "id": "df59e78a",
      "metadata": {
        "id": "df59e78a",
        "outputId": "e9e410da-6623-4050-fbb7-569c451185d2",
        "colab": {
          "base_uri": "https://localhost:8080/"
        }
      },
      "outputs": [
        {
          "output_type": "execute_result",
          "data": {
            "text/plain": [
              "94928.0    10\n",
              "Name: CD_CNAE_DOADOR, dtype: int64"
            ]
          },
          "metadata": {},
          "execution_count": 14
        }
      ],
      "source": [
        "# Preencha o nome da coluna abaixo\n",
        "df_final[\"CD_CNAE_DOADOR\"].value_counts()"
      ]
    },
    {
      "cell_type": "code",
      "execution_count": 15,
      "id": "093485ce",
      "metadata": {
        "id": "093485ce",
        "outputId": "67b50652-8fea-41a6-dc45-e3f82e843630",
        "colab": {
          "base_uri": "https://localhost:8080/"
        }
      },
      "outputs": [
        {
          "output_type": "execute_result",
          "data": {
            "text/plain": [
              "94928.0    1.0\n",
              "Name: CD_CNAE_DOADOR, dtype: float64"
            ]
          },
          "metadata": {},
          "execution_count": 15
        }
      ],
      "source": [
        "# Para ver os resultados em percentuais é fácil! Basta falarmos para o value_counts que queremos os resultados normalizados\n",
        "df_final[\"CD_CNAE_DOADOR\"].value_counts(normalize=True)"
      ]
    },
    {
      "cell_type": "markdown",
      "id": "623a777d",
      "metadata": {
        "id": "623a777d"
      },
      "source": [
        "Se o doador for pessoa jurídica, temos seu respectivo código CNAE. Se for pessoa física, então temos o valor `-1`.\n",
        "\n",
        "Qual conclusão podemos tirar a respeito dos comandos acima?\n",
        "\n",
        "Escreva um **comentário** na célula abaixo com a resposta."
      ]
    },
    {
      "cell_type": "code",
      "execution_count": null,
      "id": "ddf6f70e",
      "metadata": {
        "id": "ddf6f70e"
      },
      "outputs": [],
      "source": [
        "# Mais da metade dos registros são de pessoas físicas."
      ]
    },
    {
      "cell_type": "markdown",
      "id": "40404b7d",
      "metadata": {
        "id": "40404b7d"
      },
      "source": [
        "Agora, vamos duplicar a coluna `CD_CNAE_DOADOR` e deixar esta nova coluna apenas com 2 categorias: física (representada pelo valor -1) ou jurídica (que vamos representar inicialmente com 1)."
      ]
    },
    {
      "cell_type": "code",
      "execution_count": null,
      "id": "e7007008",
      "metadata": {
        "id": "e7007008"
      },
      "outputs": [],
      "source": [
        "# Vamos criar uma nova coluna que seja uma cópia exata da coluna CD_CNAE_DOADOR\n",
        "df_final['TIPO_DOADOR'] = df_final[_______]\n"
      ]
    },
    {
      "cell_type": "markdown",
      "id": "f326c53a",
      "metadata": {
        "id": "f326c53a"
      },
      "source": [
        "## Substituição condicional (conditional replacing)\n",
        "\n",
        "Agora, vamos usar o método where do pacote NumPy (carinhosamente chamado de np abaixo).\n",
        "\n",
        "Esta função recebe três parâmetros:\n",
        "\n",
        "* Uma condição: no nosso caso, queremos que filtrar as coluna do CNAE onde os valores sejam -1\n",
        "* Um valor: caso a condição acima seja verdadeira, qual valor deverá ser retornado?\n",
        "* Outro valor: se a condição for falsa, então, qual outro valor deverá ser retornado?\n"
      ]
    },
    {
      "cell_type": "code",
      "execution_count": null,
      "id": "78622d22",
      "metadata": {
        "id": "78622d22"
      },
      "outputs": [],
      "source": [
        "df_final['TIPO_DOADOR'] = np.where(df_final[______]==___, 'fisica', 'juridica')"
      ]
    },
    {
      "cell_type": "markdown",
      "id": "47a9b47f",
      "metadata": {
        "id": "47a9b47f"
      },
      "source": [
        "## Agrupando (group by)"
      ]
    },
    {
      "cell_type": "code",
      "execution_count": null,
      "id": "fdd9b8bb",
      "metadata": {
        "id": "fdd9b8bb"
      },
      "outputs": [],
      "source": [
        "# Preencha abaixo primeiro uma lista com as 3 colunas que precisamos utilizar para responder à pergunta. E depois o nome das 2 colunas que precisamos agrupar.\n",
        "\n",
        "df_final[______].groupby(by=______).max()"
      ]
    },
    {
      "cell_type": "code",
      "execution_count": null,
      "id": "95e8e533",
      "metadata": {
        "id": "95e8e533"
      },
      "outputs": [],
      "source": [
        "# Para repetir o valor da coluna TIPO_DOADOR nas linhas, coloque o parâmetro as_index=False no método groupby do comando acima\n",
        "\n"
      ]
    },
    {
      "cell_type": "markdown",
      "id": "63d35bb6",
      "metadata": {
        "id": "63d35bb6"
      },
      "source": [
        "## Qual o total de doações recebidas por partido?"
      ]
    },
    {
      "cell_type": "code",
      "execution_count": null,
      "id": "b24a3736",
      "metadata": {
        "id": "b24a3736"
      },
      "outputs": [],
      "source": [
        "df_final[__________].groupby(by=_____).___()"
      ]
    },
    {
      "cell_type": "markdown",
      "id": "c5d33b84",
      "metadata": {
        "id": "c5d33b84"
      },
      "source": [
        "## Qual é o top 10?\n",
        "\n",
        "Crie um novo dataframe com os 10 partidos com mais doações. Você precisa primeiro ordenar os resultados e depois selecionar apenas os 10 primeiros.\n",
        "\n"
      ]
    },
    {
      "cell_type": "code",
      "execution_count": null,
      "id": "8144f9e5",
      "metadata": {
        "id": "8144f9e5"
      },
      "outputs": [],
      "source": [
        "df_final[__________].groupby(by=_____).___().sort_values(by='____',ascending=______).head(___)"
      ]
    },
    {
      "cell_type": "markdown",
      "id": "0ca424ec",
      "metadata": {
        "id": "0ca424ec"
      },
      "source": [
        "# Vamos visualizar os resultados?\n",
        "Na aula, nós vimos como usar o matplotlib para gerar gráficos. Agora, vamos descobrir uma nova forma de fazer o mesmo usando um método nativo Pandas. Experimente colocar `.plot(kind='barh')` após a consulta ou dataframe anterior.\n",
        "\n",
        "Com este comando, podemos produzir um gráfico (plot) do tipo (kind) de barras horizontais (barh)."
      ]
    },
    {
      "cell_type": "code",
      "execution_count": null,
      "id": "db7c17b2",
      "metadata": {
        "id": "db7c17b2"
      },
      "outputs": [],
      "source": [
        "df_final[__________].groupby(by=_____).___().sort_values(by='____',ascending=______).head(___).plot(kind='barh')"
      ]
    },
    {
      "cell_type": "markdown",
      "id": "1eef3d90",
      "metadata": {
        "id": "1eef3d90"
      },
      "source": [
        "## Qual o valor médio das doações por tipo de doador?\n",
        "\n",
        "Agora é sua vez! A partir dos comandos anteriores, faça uma nova consulta para descobrir a mediana de acordo com o tipo de doador."
      ]
    },
    {
      "cell_type": "code",
      "execution_count": null,
      "id": "e0385ed3",
      "metadata": {
        "id": "e0385ed3"
      },
      "outputs": [],
      "source": []
    },
    {
      "cell_type": "markdown",
      "id": "6e4ae02a",
      "metadata": {
        "id": "6e4ae02a"
      },
      "source": [
        "## Qual o valor mais alto de doação por tipo de doador?"
      ]
    },
    {
      "cell_type": "code",
      "execution_count": null,
      "id": "a4530329",
      "metadata": {
        "id": "a4530329"
      },
      "outputs": [],
      "source": []
    },
    {
      "cell_type": "markdown",
      "id": "6c0e02b3",
      "metadata": {
        "id": "6c0e02b3"
      },
      "source": [
        "## Crie uma tabela com valor máximo, mínimo e a mediana, por estado e tipo de doador"
      ]
    },
    {
      "cell_type": "code",
      "execution_count": null,
      "id": "766c9df8",
      "metadata": {
        "id": "766c9df8"
      },
      "outputs": [],
      "source": []
    },
    {
      "cell_type": "markdown",
      "id": "34e11ca6",
      "metadata": {
        "id": "34e11ca6"
      },
      "source": [
        "# Entreviste você mesmo"
      ]
    },
    {
      "cell_type": "markdown",
      "id": "4b17ac41",
      "metadata": {
        "id": "4b17ac41"
      },
      "source": [
        "Escreva abaixo pelo menos outras três perguntas que podem ser feitas à base de dados. Escreva a pergunta como um comentário acima do código com a consulta em Python."
      ]
    },
    {
      "cell_type": "markdown",
      "id": "67e605e5",
      "metadata": {
        "id": "67e605e5"
      },
      "source": []
    }
  ],
  "metadata": {
    "interpreter": {
      "hash": "916dbcbb3f70747c44a77c7bcd40155683ae19c65e1c03b4aa3499c5328201f1"
    },
    "kernelspec": {
      "display_name": "Python 3 (ipykernel)",
      "language": "python",
      "name": "python3"
    },
    "language_info": {
      "codemirror_mode": {
        "name": "ipython",
        "version": 3
      },
      "file_extension": ".py",
      "mimetype": "text/x-python",
      "name": "python",
      "nbconvert_exporter": "python",
      "pygments_lexer": "ipython3",
      "version": "3.10.6"
    },
    "colab": {
      "provenance": []
    }
  },
  "nbformat": 4,
  "nbformat_minor": 5
}