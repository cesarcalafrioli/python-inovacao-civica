{
  "cells": [
    {
      "cell_type": "markdown",
      "id": "7734693e",
      "metadata": {
        "id": "7734693e"
      },
      "source": [
        "# Escola de Dados - Python para inovação cívica\n",
        "## Módulo 1: Noções básicas de estatística descritiva e pré-processamento\n",
        "\n",
        "- [Aula 8](#Aula-8:-Introdução-a-estatística)\n",
        "- [Aula 9](#Aula-9:-Medidas-de-tendência-central-e-dispersão)\n",
        "- [Aula 10](#Aula-10:-Outliers-e-valores-faltantes)\n",
        "- [Aula 12](#Aula-12:-Operações-básicas-com-python)\n",
        "- [Aula 13](#Aula-13:-Métodos-`filter`-e-`sort_values`)\n",
        "- [Aula 14](#Aula-14:-Operações-com-dados-e-método-`apply`)\n",
        "- [Aula 15](#Aula-15:-Operações-com-dados-e-método-`groupby`)\n",
        "\n",
        "\n",
        "### Aula 8: Introdução a estatística\n",
        "\n",
        "Os dados que usaremos nesse notebook pode ser encontrado em: [TSE. Candidaturas em 2020](https://www.tse.jus.br/eleicoes/estatisticas/repositorio-de-dados-eleitorais-1).\n",
        "\n",
        "Trabalharemos com os dados referentes as candidaturas nos estados de Amapá e Pará.\n"
      ]
    },
    {
      "cell_type": "code",
      "execution_count": 36,
      "id": "2d8c10dc",
      "metadata": {
        "tags": [],
        "id": "2d8c10dc"
      },
      "outputs": [],
      "source": [
        "import pandas as pd\n",
        "import glob"
      ]
    },
    {
      "cell_type": "code",
      "execution_count": 37,
      "id": "23db38e0",
      "metadata": {
        "tags": [],
        "id": "23db38e0"
      },
      "outputs": [],
      "source": [
        "dados_ap_pa = ['consulta_cand_2020_AP.csv', 'consulta_cand_2020_PA.csv']"
      ]
    },
    {
      "cell_type": "code",
      "execution_count": 38,
      "id": "d6c44eef",
      "metadata": {
        "tags": [],
        "id": "d6c44eef"
      },
      "outputs": [],
      "source": [
        "lista_df = []\n",
        "\n",
        "for dados_estado in dados_ap_pa:\n",
        "    df_estado = pd.read_csv(dados_estado, sep=';', encoding='latin_1',  on_bad_lines='skip')\n",
        "    lista_df.append(df_estado)"
      ]
    },
    {
      "cell_type": "code",
      "source": [
        "lista_df"
      ],
      "metadata": {
        "id": "OTUpA0FP4x5w"
      },
      "id": "OTUpA0FP4x5w",
      "execution_count": null,
      "outputs": []
    },
    {
      "cell_type": "code",
      "execution_count": 39,
      "id": "31ddff3b",
      "metadata": {
        "tags": [],
        "id": "31ddff3b"
      },
      "outputs": [],
      "source": [
        "df_completo = pd.concat(lista_df, axis=0, ignore_index=True)"
      ]
    },
    {
      "cell_type": "code",
      "source": [
        "# Listando a coluna dos dataframes\n",
        "df_completo.columns"
      ],
      "metadata": {
        "id": "Y5d_N5In8C0g",
        "outputId": "16822c71-47a8-42d8-a529-ee782a034685",
        "colab": {
          "base_uri": "https://localhost:8080/"
        }
      },
      "id": "Y5d_N5In8C0g",
      "execution_count": 45,
      "outputs": [
        {
          "output_type": "execute_result",
          "data": {
            "text/plain": [
              "Index(['DT_GERACAO', 'HH_GERACAO', 'ANO_ELEICAO', 'CD_TIPO_ELEICAO',\n",
              "       'NM_TIPO_ELEICAO', 'NR_TURNO', 'CD_ELEICAO', 'DS_ELEICAO', 'DT_ELEICAO',\n",
              "       'TP_ABRANGENCIA', 'SG_UF', 'SG_UE', 'NM_UE', 'CD_CARGO', 'DS_CARGO',\n",
              "       'SQ_CANDIDATO', 'NR_CANDIDATO', 'NM_CANDIDATO', 'NM_URNA_CANDIDATO',\n",
              "       'NM_SOCIAL_CANDIDATO', 'NR_CPF_CANDIDATO', 'NM_EMAIL',\n",
              "       'CD_SITUACAO_CANDIDATURA', 'DS_SITUACAO_CANDIDATURA',\n",
              "       'CD_DETALHE_SITUACAO_CAND', 'DS_DETALHE_SITUACAO_CAND', 'TP_AGREMIACAO',\n",
              "       'NR_PARTIDO', 'SG_PARTIDO', 'NM_PARTIDO', 'NR_FEDERACAO',\n",
              "       'NM_FEDERACAO', 'SG_FEDERACAO', 'DS_COMPOSICAO_FEDERACAO',\n",
              "       'SQ_COLIGACAO', 'NM_COLIGACAO', 'DS_COMPOSICAO_COLIGACAO',\n",
              "       'CD_NACIONALIDADE', 'DS_NACIONALIDADE', 'SG_UF_NASCIMENTO',\n",
              "       'CD_MUNICIPIO_NASCIMENTO', 'NM_MUNICIPIO_NASCIMENTO', 'DT_NASCIMENTO',\n",
              "       'NR_IDADE_DATA_POSSE', 'NR_TITULO_ELEITORAL_CANDIDATO', 'CD_GENERO',\n",
              "       'DS_GENERO', 'CD_GRAU_INSTRUCAO', 'DS_GRAU_INSTRUCAO',\n",
              "       'CD_ESTADO_CIVIL', 'DS_ESTADO_CIVIL', 'CD_COR_RACA', 'DS_COR_RACA',\n",
              "       'CD_OCUPACAO', 'DS_OCUPACAO', 'VR_DESPESA_MAX_CAMPANHA',\n",
              "       'CD_SIT_TOT_TURNO', 'DS_SIT_TOT_TURNO', 'ST_REELEICAO',\n",
              "       'ST_DECLARAR_BENS', 'NR_PROTOCOLO_CANDIDATURA', 'NR_PROCESSO',\n",
              "       'CD_SITUACAO_CANDIDATO_PLEITO', 'DS_SITUACAO_CANDIDATO_PLEITO',\n",
              "       'CD_SITUACAO_CANDIDATO_URNA', 'DS_SITUACAO_CANDIDATO_URNA',\n",
              "       'ST_CANDIDATO_INSERIDO_URNA', 'NM_TIPO_DESTINACAO_VOTOS',\n",
              "       'CD_SITUACAO_CANDIDATO_TOT', 'DS_SITUACAO_CANDIDATO_TOT',\n",
              "       'ST_PREST_CONTAS'],\n",
              "      dtype='object')"
            ]
          },
          "metadata": {},
          "execution_count": 45
        }
      ]
    },
    {
      "cell_type": "markdown",
      "id": "d4cc48d0",
      "metadata": {
        "id": "d4cc48d0"
      },
      "source": [
        "É possível criar um dataframe apenas com os dados de candidaturas para as Câmeras de Vereados dos estados."
      ]
    },
    {
      "cell_type": "code",
      "source": [
        "df_completo.head()"
      ],
      "metadata": {
        "id": "TcJqIa9RSu2x"
      },
      "id": "TcJqIa9RSu2x",
      "execution_count": null,
      "outputs": []
    },
    {
      "cell_type": "code",
      "source": [
        "df_completo['CD_CARGO'].value_counts()"
      ],
      "metadata": {
        "id": "NYYTrxQg5vzn",
        "outputId": "1ec1da42-6d40-4ef1-c62f-fd3f21158dfc",
        "colab": {
          "base_uri": "https://localhost:8080/"
        }
      },
      "id": "NYYTrxQg5vzn",
      "execution_count": 65,
      "outputs": [
        {
          "output_type": "execute_result",
          "data": {
            "text/plain": [
              "13    24583\n",
              "12      800\n",
              "11      770\n",
              "Name: CD_CARGO, dtype: int64"
            ]
          },
          "metadata": {},
          "execution_count": 65
        }
      ]
    },
    {
      "cell_type": "code",
      "execution_count": 42,
      "id": "4e05d8d6",
      "metadata": {
        "tags": [],
        "id": "4e05d8d6"
      },
      "outputs": [],
      "source": [
        "df_vereadores = df_completo[df_completo['CD_CARGO'] == 13].copy()"
      ]
    },
    {
      "cell_type": "code",
      "execution_count": 46,
      "id": "2c80d4c0",
      "metadata": {
        "tags": [],
        "id": "2c80d4c0",
        "outputId": "18fad137-8088-49c7-ad98-f20f7009660c",
        "colab": {
          "base_uri": "https://localhost:8080/"
        }
      },
      "outputs": [
        {
          "output_type": "execute_result",
          "data": {
            "text/plain": [
              "Index(['DT_GERACAO', 'HH_GERACAO', 'ANO_ELEICAO', 'CD_TIPO_ELEICAO',\n",
              "       'NM_TIPO_ELEICAO', 'NR_TURNO', 'CD_ELEICAO', 'DS_ELEICAO', 'DT_ELEICAO',\n",
              "       'TP_ABRANGENCIA', 'SG_UF', 'SG_UE', 'NM_UE', 'CD_CARGO', 'DS_CARGO',\n",
              "       'SQ_CANDIDATO', 'NR_CANDIDATO', 'NM_CANDIDATO', 'NM_URNA_CANDIDATO',\n",
              "       'NM_SOCIAL_CANDIDATO', 'NR_CPF_CANDIDATO', 'NM_EMAIL',\n",
              "       'CD_SITUACAO_CANDIDATURA', 'DS_SITUACAO_CANDIDATURA',\n",
              "       'CD_DETALHE_SITUACAO_CAND', 'DS_DETALHE_SITUACAO_CAND', 'TP_AGREMIACAO',\n",
              "       'NR_PARTIDO', 'SG_PARTIDO', 'NM_PARTIDO', 'NR_FEDERACAO',\n",
              "       'NM_FEDERACAO', 'SG_FEDERACAO', 'DS_COMPOSICAO_FEDERACAO',\n",
              "       'SQ_COLIGACAO', 'NM_COLIGACAO', 'DS_COMPOSICAO_COLIGACAO',\n",
              "       'CD_NACIONALIDADE', 'DS_NACIONALIDADE', 'SG_UF_NASCIMENTO',\n",
              "       'CD_MUNICIPIO_NASCIMENTO', 'NM_MUNICIPIO_NASCIMENTO', 'DT_NASCIMENTO',\n",
              "       'NR_IDADE_DATA_POSSE', 'NR_TITULO_ELEITORAL_CANDIDATO', 'CD_GENERO',\n",
              "       'DS_GENERO', 'CD_GRAU_INSTRUCAO', 'DS_GRAU_INSTRUCAO',\n",
              "       'CD_ESTADO_CIVIL', 'DS_ESTADO_CIVIL', 'CD_COR_RACA', 'DS_COR_RACA',\n",
              "       'CD_OCUPACAO', 'DS_OCUPACAO', 'VR_DESPESA_MAX_CAMPANHA',\n",
              "       'CD_SIT_TOT_TURNO', 'DS_SIT_TOT_TURNO', 'ST_REELEICAO',\n",
              "       'ST_DECLARAR_BENS', 'NR_PROTOCOLO_CANDIDATURA', 'NR_PROCESSO',\n",
              "       'CD_SITUACAO_CANDIDATO_PLEITO', 'DS_SITUACAO_CANDIDATO_PLEITO',\n",
              "       'CD_SITUACAO_CANDIDATO_URNA', 'DS_SITUACAO_CANDIDATO_URNA',\n",
              "       'ST_CANDIDATO_INSERIDO_URNA', 'NM_TIPO_DESTINACAO_VOTOS',\n",
              "       'CD_SITUACAO_CANDIDATO_TOT', 'DS_SITUACAO_CANDIDATO_TOT',\n",
              "       'ST_PREST_CONTAS'],\n",
              "      dtype='object')"
            ]
          },
          "metadata": {},
          "execution_count": 46
        }
      ],
      "source": [
        "# Listando a coluna dos dataframes\n",
        "df_vereadores.columns"
      ]
    },
    {
      "cell_type": "markdown",
      "id": "5dca9125",
      "metadata": {
        "id": "5dca9125"
      },
      "source": [
        "O método `pd.describe` traz um quadro com algumas medidas da estatística descritiva, como as medidas de tendência central, medidas de dispersão e quartis, excluindo os valores NaN (not a number)."
      ]
    },
    {
      "cell_type": "code",
      "execution_count": 9,
      "id": "468e4929-6fbc-4f1e-b44a-033411a5f8a1",
      "metadata": {
        "tags": [],
        "id": "468e4929-6fbc-4f1e-b44a-033411a5f8a1",
        "outputId": "ef080b95-63cd-44ae-f97a-464ce5f16ae1",
        "colab": {
          "base_uri": "https://localhost:8080/"
        }
      },
      "outputs": [
        {
          "output_type": "execute_result",
          "data": {
            "text/plain": [
              "(24583, 71)"
            ]
          },
          "metadata": {},
          "execution_count": 9
        }
      ],
      "source": [
        "df_vereadores.shape"
      ]
    },
    {
      "cell_type": "code",
      "execution_count": 10,
      "id": "979940fa",
      "metadata": {
        "tags": [],
        "id": "979940fa",
        "outputId": "d0028112-e622-4580-a4d7-afc200bde690",
        "colab": {
          "base_uri": "https://localhost:8080/",
          "height": 394
        }
      },
      "outputs": [
        {
          "output_type": "execute_result",
          "data": {
            "text/plain": [
              "       ANO_ELEICAO  CD_TIPO_ELEICAO  NR_TURNO    CD_ELEICAO         SG_UE  \\\n",
              "count      24583.0          24583.0   24583.0  24583.000000  24583.000000   \n",
              "mean        2020.0              2.0       1.0    426.408860   4934.148314   \n",
              "std            0.0              0.0       0.0      2.757078    663.648303   \n",
              "min         2020.0              2.0       1.0    426.000000   4006.000000   \n",
              "25%         2020.0              2.0       1.0    426.000000   4332.000000   \n",
              "50%         2020.0              2.0       1.0    426.000000   4774.000000   \n",
              "75%         2020.0              2.0       1.0    426.000000   5517.000000   \n",
              "max         2020.0              2.0       1.0    445.000000   6173.000000   \n",
              "\n",
              "       CD_CARGO  SQ_CANDIDATO  NR_CANDIDATO  NR_CPF_CANDIDATO  \\\n",
              "count   24583.0  2.458300e+04  24583.000000      2.458300e+04   \n",
              "mean       13.0  1.296959e+11  31086.054875      4.780648e+10   \n",
              "std         0.0  3.205320e+10  20829.576759      3.104649e+10   \n",
              "min        13.0  3.000063e+10  10000.000000     -4.000000e+00   \n",
              "25%        13.0  1.400008e+11  15015.000000      1.955834e+10   \n",
              "50%        13.0  1.400009e+11  22300.000000      5.162824e+10   \n",
              "75%        13.0  1.400011e+11  45133.000000      7.379923e+10   \n",
              "max        13.0  1.400013e+11  90999.000000      9.998375e+10   \n",
              "\n",
              "       CD_SITUACAO_CANDIDATURA  ...  CD_ESTADO_CIVIL   CD_COR_RACA  \\\n",
              "count             24583.000000  ...     24583.000000  24583.000000   \n",
              "mean                 11.494773  ...         2.224952      2.596022   \n",
              "std                   2.071706  ...         1.837225      0.888529   \n",
              "min                   3.000000  ...        -4.000000     -4.000000   \n",
              "25%                  12.000000  ...         1.000000      2.000000   \n",
              "50%                  12.000000  ...         1.000000      3.000000   \n",
              "75%                  12.000000  ...         3.000000      3.000000   \n",
              "max                  12.000000  ...         9.000000      6.000000   \n",
              "\n",
              "        CD_OCUPACAO  VR_DESPESA_MAX_CAMPANHA  CD_SIT_TOT_TURNO  \\\n",
              "count  24583.000000             24583.000000      24583.000000   \n",
              "mean     552.461376             59365.732494          4.288614   \n",
              "std      326.046922             93041.750641          1.283715   \n",
              "min       -4.000000                -4.000000         -1.000000   \n",
              "25%      265.000000             15568.960000          4.000000   \n",
              "50%      541.000000             24713.500000          5.000000   \n",
              "75%      999.000000             53698.780000          5.000000   \n",
              "max      999.000000            438043.030000          5.000000   \n",
              "\n",
              "       NR_PROTOCOLO_CANDIDATURA   NR_PROCESSO  CD_SITUACAO_CANDIDATO_PLEITO  \\\n",
              "count                   24583.0  2.458300e+04                  24583.000000   \n",
              "mean                       -1.0  6.002713e+18                      2.055974   \n",
              "std                         0.0  1.704343e+15                      1.468889   \n",
              "min                        -1.0  6.000168e+18                     -1.000000   \n",
              "25%                        -1.0  6.001442e+18                      2.000000   \n",
              "50%                        -1.0  6.002299e+18                      2.000000   \n",
              "75%                        -1.0  6.003640e+18                      2.000000   \n",
              "max                        -1.0  6.016571e+18                     20.000000   \n",
              "\n",
              "       CD_SITUACAO_CANDIDATO_URNA  CD_SITUACAO_CANDIDATO_TOT  \n",
              "count                24583.000000               24583.000000  \n",
              "mean                     2.088679                   2.106374  \n",
              "std                      1.624685                   1.618616  \n",
              "min                     -1.000000                  -1.000000  \n",
              "25%                      2.000000                   2.000000  \n",
              "50%                      2.000000                   2.000000  \n",
              "75%                      2.000000                   2.000000  \n",
              "max                     20.000000                  20.000000  \n",
              "\n",
              "[8 rows x 30 columns]"
            ],
            "text/html": [
              "\n",
              "  <div id=\"df-7737d170-8bad-405e-8133-57bee3cf746f\">\n",
              "    <div class=\"colab-df-container\">\n",
              "      <div>\n",
              "<style scoped>\n",
              "    .dataframe tbody tr th:only-of-type {\n",
              "        vertical-align: middle;\n",
              "    }\n",
              "\n",
              "    .dataframe tbody tr th {\n",
              "        vertical-align: top;\n",
              "    }\n",
              "\n",
              "    .dataframe thead th {\n",
              "        text-align: right;\n",
              "    }\n",
              "</style>\n",
              "<table border=\"1\" class=\"dataframe\">\n",
              "  <thead>\n",
              "    <tr style=\"text-align: right;\">\n",
              "      <th></th>\n",
              "      <th>ANO_ELEICAO</th>\n",
              "      <th>CD_TIPO_ELEICAO</th>\n",
              "      <th>NR_TURNO</th>\n",
              "      <th>CD_ELEICAO</th>\n",
              "      <th>SG_UE</th>\n",
              "      <th>CD_CARGO</th>\n",
              "      <th>SQ_CANDIDATO</th>\n",
              "      <th>NR_CANDIDATO</th>\n",
              "      <th>NR_CPF_CANDIDATO</th>\n",
              "      <th>CD_SITUACAO_CANDIDATURA</th>\n",
              "      <th>...</th>\n",
              "      <th>CD_ESTADO_CIVIL</th>\n",
              "      <th>CD_COR_RACA</th>\n",
              "      <th>CD_OCUPACAO</th>\n",
              "      <th>VR_DESPESA_MAX_CAMPANHA</th>\n",
              "      <th>CD_SIT_TOT_TURNO</th>\n",
              "      <th>NR_PROTOCOLO_CANDIDATURA</th>\n",
              "      <th>NR_PROCESSO</th>\n",
              "      <th>CD_SITUACAO_CANDIDATO_PLEITO</th>\n",
              "      <th>CD_SITUACAO_CANDIDATO_URNA</th>\n",
              "      <th>CD_SITUACAO_CANDIDATO_TOT</th>\n",
              "    </tr>\n",
              "  </thead>\n",
              "  <tbody>\n",
              "    <tr>\n",
              "      <th>count</th>\n",
              "      <td>24583.0</td>\n",
              "      <td>24583.0</td>\n",
              "      <td>24583.0</td>\n",
              "      <td>24583.000000</td>\n",
              "      <td>24583.000000</td>\n",
              "      <td>24583.0</td>\n",
              "      <td>2.458300e+04</td>\n",
              "      <td>24583.000000</td>\n",
              "      <td>2.458300e+04</td>\n",
              "      <td>24583.000000</td>\n",
              "      <td>...</td>\n",
              "      <td>24583.000000</td>\n",
              "      <td>24583.000000</td>\n",
              "      <td>24583.000000</td>\n",
              "      <td>24583.000000</td>\n",
              "      <td>24583.000000</td>\n",
              "      <td>24583.0</td>\n",
              "      <td>2.458300e+04</td>\n",
              "      <td>24583.000000</td>\n",
              "      <td>24583.000000</td>\n",
              "      <td>24583.000000</td>\n",
              "    </tr>\n",
              "    <tr>\n",
              "      <th>mean</th>\n",
              "      <td>2020.0</td>\n",
              "      <td>2.0</td>\n",
              "      <td>1.0</td>\n",
              "      <td>426.408860</td>\n",
              "      <td>4934.148314</td>\n",
              "      <td>13.0</td>\n",
              "      <td>1.296959e+11</td>\n",
              "      <td>31086.054875</td>\n",
              "      <td>4.780648e+10</td>\n",
              "      <td>11.494773</td>\n",
              "      <td>...</td>\n",
              "      <td>2.224952</td>\n",
              "      <td>2.596022</td>\n",
              "      <td>552.461376</td>\n",
              "      <td>59365.732494</td>\n",
              "      <td>4.288614</td>\n",
              "      <td>-1.0</td>\n",
              "      <td>6.002713e+18</td>\n",
              "      <td>2.055974</td>\n",
              "      <td>2.088679</td>\n",
              "      <td>2.106374</td>\n",
              "    </tr>\n",
              "    <tr>\n",
              "      <th>std</th>\n",
              "      <td>0.0</td>\n",
              "      <td>0.0</td>\n",
              "      <td>0.0</td>\n",
              "      <td>2.757078</td>\n",
              "      <td>663.648303</td>\n",
              "      <td>0.0</td>\n",
              "      <td>3.205320e+10</td>\n",
              "      <td>20829.576759</td>\n",
              "      <td>3.104649e+10</td>\n",
              "      <td>2.071706</td>\n",
              "      <td>...</td>\n",
              "      <td>1.837225</td>\n",
              "      <td>0.888529</td>\n",
              "      <td>326.046922</td>\n",
              "      <td>93041.750641</td>\n",
              "      <td>1.283715</td>\n",
              "      <td>0.0</td>\n",
              "      <td>1.704343e+15</td>\n",
              "      <td>1.468889</td>\n",
              "      <td>1.624685</td>\n",
              "      <td>1.618616</td>\n",
              "    </tr>\n",
              "    <tr>\n",
              "      <th>min</th>\n",
              "      <td>2020.0</td>\n",
              "      <td>2.0</td>\n",
              "      <td>1.0</td>\n",
              "      <td>426.000000</td>\n",
              "      <td>4006.000000</td>\n",
              "      <td>13.0</td>\n",
              "      <td>3.000063e+10</td>\n",
              "      <td>10000.000000</td>\n",
              "      <td>-4.000000e+00</td>\n",
              "      <td>3.000000</td>\n",
              "      <td>...</td>\n",
              "      <td>-4.000000</td>\n",
              "      <td>-4.000000</td>\n",
              "      <td>-4.000000</td>\n",
              "      <td>-4.000000</td>\n",
              "      <td>-1.000000</td>\n",
              "      <td>-1.0</td>\n",
              "      <td>6.000168e+18</td>\n",
              "      <td>-1.000000</td>\n",
              "      <td>-1.000000</td>\n",
              "      <td>-1.000000</td>\n",
              "    </tr>\n",
              "    <tr>\n",
              "      <th>25%</th>\n",
              "      <td>2020.0</td>\n",
              "      <td>2.0</td>\n",
              "      <td>1.0</td>\n",
              "      <td>426.000000</td>\n",
              "      <td>4332.000000</td>\n",
              "      <td>13.0</td>\n",
              "      <td>1.400008e+11</td>\n",
              "      <td>15015.000000</td>\n",
              "      <td>1.955834e+10</td>\n",
              "      <td>12.000000</td>\n",
              "      <td>...</td>\n",
              "      <td>1.000000</td>\n",
              "      <td>2.000000</td>\n",
              "      <td>265.000000</td>\n",
              "      <td>15568.960000</td>\n",
              "      <td>4.000000</td>\n",
              "      <td>-1.0</td>\n",
              "      <td>6.001442e+18</td>\n",
              "      <td>2.000000</td>\n",
              "      <td>2.000000</td>\n",
              "      <td>2.000000</td>\n",
              "    </tr>\n",
              "    <tr>\n",
              "      <th>50%</th>\n",
              "      <td>2020.0</td>\n",
              "      <td>2.0</td>\n",
              "      <td>1.0</td>\n",
              "      <td>426.000000</td>\n",
              "      <td>4774.000000</td>\n",
              "      <td>13.0</td>\n",
              "      <td>1.400009e+11</td>\n",
              "      <td>22300.000000</td>\n",
              "      <td>5.162824e+10</td>\n",
              "      <td>12.000000</td>\n",
              "      <td>...</td>\n",
              "      <td>1.000000</td>\n",
              "      <td>3.000000</td>\n",
              "      <td>541.000000</td>\n",
              "      <td>24713.500000</td>\n",
              "      <td>5.000000</td>\n",
              "      <td>-1.0</td>\n",
              "      <td>6.002299e+18</td>\n",
              "      <td>2.000000</td>\n",
              "      <td>2.000000</td>\n",
              "      <td>2.000000</td>\n",
              "    </tr>\n",
              "    <tr>\n",
              "      <th>75%</th>\n",
              "      <td>2020.0</td>\n",
              "      <td>2.0</td>\n",
              "      <td>1.0</td>\n",
              "      <td>426.000000</td>\n",
              "      <td>5517.000000</td>\n",
              "      <td>13.0</td>\n",
              "      <td>1.400011e+11</td>\n",
              "      <td>45133.000000</td>\n",
              "      <td>7.379923e+10</td>\n",
              "      <td>12.000000</td>\n",
              "      <td>...</td>\n",
              "      <td>3.000000</td>\n",
              "      <td>3.000000</td>\n",
              "      <td>999.000000</td>\n",
              "      <td>53698.780000</td>\n",
              "      <td>5.000000</td>\n",
              "      <td>-1.0</td>\n",
              "      <td>6.003640e+18</td>\n",
              "      <td>2.000000</td>\n",
              "      <td>2.000000</td>\n",
              "      <td>2.000000</td>\n",
              "    </tr>\n",
              "    <tr>\n",
              "      <th>max</th>\n",
              "      <td>2020.0</td>\n",
              "      <td>2.0</td>\n",
              "      <td>1.0</td>\n",
              "      <td>445.000000</td>\n",
              "      <td>6173.000000</td>\n",
              "      <td>13.0</td>\n",
              "      <td>1.400013e+11</td>\n",
              "      <td>90999.000000</td>\n",
              "      <td>9.998375e+10</td>\n",
              "      <td>12.000000</td>\n",
              "      <td>...</td>\n",
              "      <td>9.000000</td>\n",
              "      <td>6.000000</td>\n",
              "      <td>999.000000</td>\n",
              "      <td>438043.030000</td>\n",
              "      <td>5.000000</td>\n",
              "      <td>-1.0</td>\n",
              "      <td>6.016571e+18</td>\n",
              "      <td>20.000000</td>\n",
              "      <td>20.000000</td>\n",
              "      <td>20.000000</td>\n",
              "    </tr>\n",
              "  </tbody>\n",
              "</table>\n",
              "<p>8 rows × 30 columns</p>\n",
              "</div>\n",
              "      <button class=\"colab-df-convert\" onclick=\"convertToInteractive('df-7737d170-8bad-405e-8133-57bee3cf746f')\"\n",
              "              title=\"Convert this dataframe to an interactive table.\"\n",
              "              style=\"display:none;\">\n",
              "        \n",
              "  <svg xmlns=\"http://www.w3.org/2000/svg\" height=\"24px\"viewBox=\"0 0 24 24\"\n",
              "       width=\"24px\">\n",
              "    <path d=\"M0 0h24v24H0V0z\" fill=\"none\"/>\n",
              "    <path d=\"M18.56 5.44l.94 2.06.94-2.06 2.06-.94-2.06-.94-.94-2.06-.94 2.06-2.06.94zm-11 1L8.5 8.5l.94-2.06 2.06-.94-2.06-.94L8.5 2.5l-.94 2.06-2.06.94zm10 10l.94 2.06.94-2.06 2.06-.94-2.06-.94-.94-2.06-.94 2.06-2.06.94z\"/><path d=\"M17.41 7.96l-1.37-1.37c-.4-.4-.92-.59-1.43-.59-.52 0-1.04.2-1.43.59L10.3 9.45l-7.72 7.72c-.78.78-.78 2.05 0 2.83L4 21.41c.39.39.9.59 1.41.59.51 0 1.02-.2 1.41-.59l7.78-7.78 2.81-2.81c.8-.78.8-2.07 0-2.86zM5.41 20L4 18.59l7.72-7.72 1.47 1.35L5.41 20z\"/>\n",
              "  </svg>\n",
              "      </button>\n",
              "      \n",
              "  <style>\n",
              "    .colab-df-container {\n",
              "      display:flex;\n",
              "      flex-wrap:wrap;\n",
              "      gap: 12px;\n",
              "    }\n",
              "\n",
              "    .colab-df-convert {\n",
              "      background-color: #E8F0FE;\n",
              "      border: none;\n",
              "      border-radius: 50%;\n",
              "      cursor: pointer;\n",
              "      display: none;\n",
              "      fill: #1967D2;\n",
              "      height: 32px;\n",
              "      padding: 0 0 0 0;\n",
              "      width: 32px;\n",
              "    }\n",
              "\n",
              "    .colab-df-convert:hover {\n",
              "      background-color: #E2EBFA;\n",
              "      box-shadow: 0px 1px 2px rgba(60, 64, 67, 0.3), 0px 1px 3px 1px rgba(60, 64, 67, 0.15);\n",
              "      fill: #174EA6;\n",
              "    }\n",
              "\n",
              "    [theme=dark] .colab-df-convert {\n",
              "      background-color: #3B4455;\n",
              "      fill: #D2E3FC;\n",
              "    }\n",
              "\n",
              "    [theme=dark] .colab-df-convert:hover {\n",
              "      background-color: #434B5C;\n",
              "      box-shadow: 0px 1px 3px 1px rgba(0, 0, 0, 0.15);\n",
              "      filter: drop-shadow(0px 1px 2px rgba(0, 0, 0, 0.3));\n",
              "      fill: #FFFFFF;\n",
              "    }\n",
              "  </style>\n",
              "\n",
              "      <script>\n",
              "        const buttonEl =\n",
              "          document.querySelector('#df-7737d170-8bad-405e-8133-57bee3cf746f button.colab-df-convert');\n",
              "        buttonEl.style.display =\n",
              "          google.colab.kernel.accessAllowed ? 'block' : 'none';\n",
              "\n",
              "        async function convertToInteractive(key) {\n",
              "          const element = document.querySelector('#df-7737d170-8bad-405e-8133-57bee3cf746f');\n",
              "          const dataTable =\n",
              "            await google.colab.kernel.invokeFunction('convertToInteractive',\n",
              "                                                     [key], {});\n",
              "          if (!dataTable) return;\n",
              "\n",
              "          const docLinkHtml = 'Like what you see? Visit the ' +\n",
              "            '<a target=\"_blank\" href=https://colab.research.google.com/notebooks/data_table.ipynb>data table notebook</a>'\n",
              "            + ' to learn more about interactive tables.';\n",
              "          element.innerHTML = '';\n",
              "          dataTable['output_type'] = 'display_data';\n",
              "          await google.colab.output.renderOutput(dataTable, element);\n",
              "          const docLink = document.createElement('div');\n",
              "          docLink.innerHTML = docLinkHtml;\n",
              "          element.appendChild(docLink);\n",
              "        }\n",
              "      </script>\n",
              "    </div>\n",
              "  </div>\n",
              "  "
            ]
          },
          "metadata": {},
          "execution_count": 10
        }
      ],
      "source": [
        "df_vereadores.describe()"
      ]
    },
    {
      "cell_type": "markdown",
      "id": "5fb2032f",
      "metadata": {
        "id": "5fb2032f"
      },
      "source": [
        "Para gerar relatórios interativos em HTML a partir de um dataframe do pandas usaremos a biblioteca Pandas Profiling, com ele para cada coluna será apresentado estatístico correspondente ao tipo de dado."
      ]
    },
    {
      "cell_type": "code",
      "source": [
        "!pip install pandas_profiling"
      ],
      "metadata": {
        "id": "tpFGMPy1SHlc"
      },
      "id": "tpFGMPy1SHlc",
      "execution_count": 48,
      "outputs": []
    },
    {
      "cell_type": "code",
      "execution_count": 49,
      "id": "7add4172",
      "metadata": {
        "tags": [],
        "id": "7add4172",
        "colab": {
          "base_uri": "https://localhost:8080/"
        },
        "outputId": "1bb84095-4a8b-463e-d695-482ee163d67b"
      },
      "outputs": [
        {
          "output_type": "stream",
          "name": "stderr",
          "text": [
            "<ipython-input-49-d8b5cb9fc015>:2: DeprecationWarning: `import pandas_profiling` is going to be deprecated by April 1st. Please use `import ydata_profiling` instead.\n",
            "  from pandas_profiling import ProfileReport\n"
          ]
        }
      ],
      "source": [
        "import numpy as np\n",
        "from pandas_profiling import ProfileReport"
      ]
    },
    {
      "cell_type": "code",
      "execution_count": 50,
      "id": "adc73219",
      "metadata": {
        "tags": [],
        "id": "adc73219"
      },
      "outputs": [],
      "source": [
        "profile = ProfileReport(df_vereadores, title=\"Introdução - Pandas Profiling Report\")"
      ]
    },
    {
      "cell_type": "code",
      "execution_count": 51,
      "id": "4c530b6f",
      "metadata": {
        "scrolled": true,
        "tags": [],
        "id": "4c530b6f",
        "outputId": "32cbc812-72bc-4a10-ff43-5981062c17bc",
        "colab": {
          "base_uri": "https://localhost:8080/",
          "height": 145,
          "referenced_widgets": [
            "b5f95bf9f8aa4177be36243b5308ac7f",
            "d4b19619fc8b4566a68dc3bd05561a96",
            "eaef90bcc7d6475c9b2c7e0f0f12f979",
            "3e0688846a8b4d868b9cecd92ddd74c9",
            "244df2f5b64646bc8551eb6f582cb3c8",
            "32b35dd4993648018a57612e9c0a2dff",
            "f4661c97613f49a6aca47e909fa0718a",
            "f21fcac2074648cc949cc562582cc961",
            "46148a5f0ab24ca4918a311b89e9a197",
            "efdfb479b64e4d548a8ec2123828c7a9",
            "bb87f7a7e6224b24a714006984082663",
            "77d25b1df7b74864b0d5f060fb9860ef",
            "675bc562731342c88f58281c63d410fe",
            "7a929b45a9f04394abe745bbca2d7b6e",
            "dbf41ba8ae064ac98fe858c7ffd9f239",
            "187efe73784d4ff3aed4338bd188a025",
            "998a4c5481134f0399b8883922c30505",
            "fa2cbe37bf7d49cbb6d9fea2f3a63199",
            "4d66b6ff46cd4840b955d2730ecc8830",
            "cc890b4bbcd94994bbad9f0e63236000",
            "1609362477c24643ae22f46f72aa2077",
            "8564e57b942048d2a3e421b031ab7710",
            "f8b3189813a745c19c2b73b1aae65839",
            "8e3390a70e59418cb7a2b14ed1133340",
            "9c843effdc994226b4bb85001cdac89a",
            "dd8a22c30cb648209aa89d95dc684c17",
            "c15b9dd8c3cf4f1aa9a8ada30b493ad8",
            "c3ab093706014da79d416b4dfa02c31b",
            "bfb5a95d767b47f280794bd781dd19cd",
            "66cf85f1d1be47d6b7781b8e78e14a09",
            "05ce03295f53476492e84e98ab59ffdc",
            "da309faf676a444695f65254ace70ed1",
            "4d0af096196f4b25abda2a4c1fe54314",
            "848b41a104334f50aa3c47d923f10aa3",
            "1f982433600446349dfc4ba0163be063",
            "9a59fc79fbef4d1aa7414b9e71ae5714",
            "79d19ce4f01245ec98053fd3e29e06f6",
            "9c4ba1d87c8044e4b167309d9f2f00dd",
            "2359a821cd9f4bac9bebacaf0db5a7db",
            "fdf4878116b941778f44c522a4065f20",
            "b365d9e4165847f3ad998764b1b3e8b4",
            "42eb91a904434b0ba1ae4f509f95dfaa",
            "4324aabe44b244cf9b05a45a173a2b12",
            "deb8822557e74f3ea6dbb9151dbc0c13"
          ]
        }
      },
      "outputs": [
        {
          "output_type": "display_data",
          "data": {
            "text/plain": [
              "Summarize dataset:   0%|          | 0/5 [00:00<?, ?it/s]"
            ],
            "application/vnd.jupyter.widget-view+json": {
              "version_major": 2,
              "version_minor": 0,
              "model_id": "b5f95bf9f8aa4177be36243b5308ac7f"
            }
          },
          "metadata": {}
        },
        {
          "output_type": "display_data",
          "data": {
            "text/plain": [
              "Generate report structure:   0%|          | 0/1 [00:00<?, ?it/s]"
            ],
            "application/vnd.jupyter.widget-view+json": {
              "version_major": 2,
              "version_minor": 0,
              "model_id": "77d25b1df7b74864b0d5f060fb9860ef"
            }
          },
          "metadata": {}
        },
        {
          "output_type": "display_data",
          "data": {
            "text/plain": [
              "Render HTML:   0%|          | 0/1 [00:00<?, ?it/s]"
            ],
            "application/vnd.jupyter.widget-view+json": {
              "version_major": 2,
              "version_minor": 0,
              "model_id": "f8b3189813a745c19c2b73b1aae65839"
            }
          },
          "metadata": {}
        },
        {
          "output_type": "display_data",
          "data": {
            "text/plain": [
              "Export report to file:   0%|          | 0/1 [00:00<?, ?it/s]"
            ],
            "application/vnd.jupyter.widget-view+json": {
              "version_major": 2,
              "version_minor": 0,
              "model_id": "848b41a104334f50aa3c47d923f10aa3"
            }
          },
          "metadata": {}
        }
      ],
      "source": [
        "profile.to_file(output_file=\"relatorio_eleicoes_vereadores_2020_ap_pa.html\")"
      ]
    },
    {
      "cell_type": "markdown",
      "id": "ea1dbad2",
      "metadata": {
        "id": "ea1dbad2"
      },
      "source": [
        "## Em AP e PA, houveram quantas candidaturas para a prefeitura?"
      ]
    },
    {
      "cell_type": "code",
      "execution_count": 69,
      "id": "a7ae5dad",
      "metadata": {
        "id": "a7ae5dad",
        "outputId": "24517a4f-fb10-445c-c299-76f4c14a65d1",
        "colab": {
          "base_uri": "https://localhost:8080/"
        }
      },
      "outputs": [
        {
          "output_type": "execute_result",
          "data": {
            "text/plain": [
              "13    24583\n",
              "Name: CD_CARGO, dtype: int64"
            ]
          },
          "metadata": {},
          "execution_count": 69
        }
      ],
      "source": [
        "df_vereadores['CD_CARGO'].value_counts()"
      ]
    },
    {
      "cell_type": "markdown",
      "id": "c18681a1",
      "metadata": {
        "id": "c18681a1"
      },
      "source": [
        "### Aula 9: medidas de tendência central e dispersão\n",
        "\n",
        "As medidas de tendência central servem para determinar o valor central de uma distribuição. Vamos explorar mais um pouco nosso dataframe e descobrir qual a moda (valor que mais se repete) da colina 'SG_PARTIDO'"
      ]
    },
    {
      "cell_type": "code",
      "source": [
        "df_vereadores['SG_PARTIDO'].value_counts()"
      ],
      "metadata": {
        "id": "Ad77CuawEQRA",
        "outputId": "57fa26ac-f79e-432d-d3ea-19d593aef73d",
        "colab": {
          "base_uri": "https://localhost:8080/"
        }
      },
      "id": "Ad77CuawEQRA",
      "execution_count": 74,
      "outputs": [
        {
          "output_type": "execute_result",
          "data": {
            "text/plain": [
              "MDB              2234\n",
              "PSC              1700\n",
              "PL               1669\n",
              "PSD              1613\n",
              "PSDB             1539\n",
              "PT               1473\n",
              "REPUBLICANOS     1462\n",
              "DEM              1246\n",
              "PDT              1229\n",
              "PSB              1171\n",
              "PTB              1025\n",
              "PODE              839\n",
              "PROS              762\n",
              "PP                752\n",
              "CIDADANIA         735\n",
              "PATRIOTA          638\n",
              "AVANTE            626\n",
              "SOLIDARIEDADE     594\n",
              "PSL               523\n",
              "PC do B           488\n",
              "PRTB              464\n",
              "PV                461\n",
              "PSOL              364\n",
              "PTC               320\n",
              "REDE              203\n",
              "DC                186\n",
              "PMN               127\n",
              "PMB               127\n",
              "NOVO                8\n",
              "PSTU                3\n",
              "UP                  2\n",
              "Name: SG_PARTIDO, dtype: int64"
            ]
          },
          "metadata": {},
          "execution_count": 74
        }
      ]
    },
    {
      "cell_type": "code",
      "execution_count": 70,
      "id": "a1896ac0",
      "metadata": {
        "tags": [],
        "id": "a1896ac0",
        "outputId": "a2d159be-4635-49a8-cb8f-4c1b77728c6c",
        "colab": {
          "base_uri": "https://localhost:8080/"
        }
      },
      "outputs": [
        {
          "output_type": "execute_result",
          "data": {
            "text/plain": [
              "0    MDB\n",
              "Name: SG_PARTIDO, dtype: object"
            ]
          },
          "metadata": {},
          "execution_count": 70
        }
      ],
      "source": [
        "df_vereadores['SG_PARTIDO'].mode()"
      ]
    },
    {
      "cell_type": "markdown",
      "id": "9760d49a",
      "metadata": {
        "id": "9760d49a"
      },
      "source": [
        "A média aritmética da coluna 'NR_IDADE_DATA_POSSE' é:"
      ]
    },
    {
      "cell_type": "code",
      "execution_count": 75,
      "id": "525f59a3",
      "metadata": {
        "tags": [],
        "id": "525f59a3",
        "outputId": "d777897c-2084-4c99-c051-308cef44dce6",
        "colab": {
          "base_uri": "https://localhost:8080/"
        }
      },
      "outputs": [
        {
          "output_type": "execute_result",
          "data": {
            "text/plain": [
              "43.164185176145146"
            ]
          },
          "metadata": {},
          "execution_count": 75
        }
      ],
      "source": [
        "df_vereadores['NR_IDADE_DATA_POSSE'].mean()"
      ]
    },
    {
      "cell_type": "markdown",
      "id": "11f8b9cb",
      "metadata": {
        "id": "11f8b9cb"
      },
      "source": [
        "Continuando a explorar a idade das pessoas candidatas na data da posse, queremos saber qual é o valor que ocupa a posição central do conjunto de dados, após a ordenação dos valores (mediana).\n"
      ]
    },
    {
      "cell_type": "code",
      "execution_count": 76,
      "id": "3db873c0",
      "metadata": {
        "tags": [],
        "id": "3db873c0",
        "outputId": "7d54f4b5-5db4-4688-c355-b484c3df3f37",
        "colab": {
          "base_uri": "https://localhost:8080/"
        }
      },
      "outputs": [
        {
          "output_type": "execute_result",
          "data": {
            "text/plain": [
              "43.0"
            ]
          },
          "metadata": {},
          "execution_count": 76
        }
      ],
      "source": [
        "df_vereadores['NR_IDADE_DATA_POSSE'].median()"
      ]
    },
    {
      "cell_type": "markdown",
      "id": "5e26e703",
      "metadata": {
        "id": "5e26e703"
      },
      "source": [
        "Qual a variância do dado 'NR_IDADE_DATA_POSSE'?"
      ]
    },
    {
      "cell_type": "code",
      "execution_count": 77,
      "id": "e4241393",
      "metadata": {
        "tags": [],
        "id": "e4241393",
        "outputId": "b14fd2e4-2293-4801-f565-c2e984231c86",
        "colab": {
          "base_uri": "https://localhost:8080/"
        }
      },
      "outputs": [
        {
          "output_type": "execute_result",
          "data": {
            "text/plain": [
              "118.23389400874976"
            ]
          },
          "metadata": {},
          "execution_count": 77
        }
      ],
      "source": [
        "df_vereadores['NR_IDADE_DATA_POSSE'].var()"
      ]
    },
    {
      "cell_type": "markdown",
      "id": "880c407e",
      "metadata": {
        "id": "880c407e"
      },
      "source": [
        "Qual o desvio padrão do dado 'NR_IDADE_DATA_POSSE'?"
      ]
    },
    {
      "cell_type": "code",
      "execution_count": 78,
      "id": "5031f1f4",
      "metadata": {
        "tags": [],
        "id": "5031f1f4",
        "outputId": "fd13e165-beba-468d-ff80-dfd3d673fcda",
        "colab": {
          "base_uri": "https://localhost:8080/"
        }
      },
      "outputs": [
        {
          "output_type": "execute_result",
          "data": {
            "text/plain": [
              "10.873541005980975"
            ]
          },
          "metadata": {},
          "execution_count": 78
        }
      ],
      "source": [
        "df_vereadores['NR_IDADE_DATA_POSSE'].std()"
      ]
    },
    {
      "cell_type": "markdown",
      "id": "c6fbfb0b",
      "metadata": {
        "id": "c6fbfb0b"
      },
      "source": [
        "## Qual a média, moda e mediana do 'VR_DESPESA_MAX_CAMPANHA'?"
      ]
    },
    {
      "cell_type": "code",
      "execution_count": 17,
      "id": "6c0154e6",
      "metadata": {
        "id": "6c0154e6",
        "colab": {
          "base_uri": "https://localhost:8080/"
        },
        "outputId": "4d7715ec-1f5e-4248-da1a-1dcb294cb0ea"
      },
      "outputs": [
        {
          "output_type": "execute_result",
          "data": {
            "text/plain": [
              "59365.73249399992"
            ]
          },
          "metadata": {},
          "execution_count": 17
        }
      ],
      "source": [
        "# Média\n",
        "df_vereadores['VR_DESPESA_MAX_CAMPANHA'].mean()"
      ]
    },
    {
      "cell_type": "code",
      "source": [
        "# Mediana\n",
        "df_vereadores['VR_DESPESA_MAX_CAMPANHA'].median()"
      ],
      "metadata": {
        "id": "jWhfYFmpd39v",
        "colab": {
          "base_uri": "https://localhost:8080/"
        },
        "outputId": "5134e4e3-ef5c-42dc-e67f-76f718b3952e"
      },
      "id": "jWhfYFmpd39v",
      "execution_count": 18,
      "outputs": [
        {
          "output_type": "execute_result",
          "data": {
            "text/plain": [
              "24713.5"
            ]
          },
          "metadata": {},
          "execution_count": 18
        }
      ]
    },
    {
      "cell_type": "code",
      "source": [
        "# Mode\n",
        "df_vereadores['VR_DESPESA_MAX_CAMPANHA'].mode()"
      ],
      "metadata": {
        "id": "R3SZdP43d6zf",
        "colab": {
          "base_uri": "https://localhost:8080/"
        },
        "outputId": "02e40c70-a49b-44da-eb96-0f5f1ff03adf"
      },
      "id": "R3SZdP43d6zf",
      "execution_count": 19,
      "outputs": [
        {
          "output_type": "execute_result",
          "data": {
            "text/plain": [
              "0    12307.75\n",
              "Name: VR_DESPESA_MAX_CAMPANHA, dtype: float64"
            ]
          },
          "metadata": {},
          "execution_count": 19
        }
      ]
    },
    {
      "cell_type": "markdown",
      "id": "818a2d50",
      "metadata": {
        "id": "818a2d50"
      },
      "source": [
        "### Aula 10: Outliers e valores faltantes\n",
        "\n",
        "\n",
        "De acordo com o dicionário de dados do conjunto de dados do TSE, os valores faltantes estão preenchidos com #NULO#, no entanto o Pandas não reconhece essa palavra como um missing. Faremos a substituição da string \"#NULO#\" pelo valor `None` nas colunas com valores categóricos."
      ]
    },
    {
      "cell_type": "code",
      "execution_count": 82,
      "id": "273c6db3",
      "metadata": {
        "tags": [],
        "id": "273c6db3"
      },
      "outputs": [],
      "source": [
        "colunas_categoricas = ['NM_TIPO_ELEICAO', 'DS_ELEICAO', 'TP_ABRANGENCIA', 'SG_UF', 'NM_UE', 'DS_CARGO',\n",
        "                       'NM_CANDIDATO', 'NM_URNA_CANDIDATO', 'NM_SOCIAL_CANDIDATO', 'NM_EMAIL',\n",
        "                       'DS_SITUACAO_CANDIDATURA', 'DS_DETALHE_SITUACAO_CAND', 'TP_AGREMIACAO', 'SG_PARTIDO',\n",
        "                       'NM_PARTIDO', 'NM_COLIGACAO', 'DS_COMPOSICAO_COLIGACAO', 'DS_NACIONALIDADE',\n",
        "                       'SG_UF_NASCIMENTO', 'NM_MUNICIPIO_NASCIMENTO', 'DS_GENERO', 'DS_GRAU_INSTRUCAO',\n",
        "                       'DS_ESTADO_CIVIL', 'DS_COR_RACA', 'DS_OCUPACAO', 'VR_DESPESA_MAX_CAMPANHA',\n",
        "                       'DS_SIT_TOT_TURNO', 'ST_REELEICAO', 'ST_DECLARAR_BENS', 'DS_SITUACAO_CANDIDATO_PLEITO',\n",
        "                       'DS_SITUACAO_CANDIDATO_URNA', 'ST_CANDIDATO_INSERIDO_URNA'\n",
        "                      ]\n"
      ]
    },
    {
      "cell_type": "code",
      "execution_count": 83,
      "id": "ee7060d4",
      "metadata": {
        "tags": [],
        "id": "ee7060d4"
      },
      "outputs": [],
      "source": [
        "df_vereadores[colunas_categoricas] = df_vereadores.loc[:, colunas_categoricas].replace({'#NULO#': None})"
      ]
    },
    {
      "cell_type": "code",
      "execution_count": null,
      "id": "3a263f5b",
      "metadata": {
        "tags": [],
        "id": "3a263f5b"
      },
      "outputs": [],
      "source": [
        "df_vereadores.info()"
      ]
    },
    {
      "cell_type": "markdown",
      "id": "a770540f",
      "metadata": {
        "id": "a770540f"
      },
      "source": [
        "Geraremos um novo relatório usando o Pandas Profiling para visualizar as mudanças."
      ]
    },
    {
      "cell_type": "code",
      "execution_count": 66,
      "id": "b3642341",
      "metadata": {
        "tags": [],
        "id": "b3642341",
        "outputId": "527c5188-a4f2-4182-909c-b171256ea09b",
        "colab": {
          "base_uri": "https://localhost:8080/",
          "height": 145,
          "referenced_widgets": [
            "09639e16889e42bdbd67fea0f2f02e60",
            "99e61dd57847457995caad19a2c92b42",
            "4ab6abeec37c4a27874bfe01a189c119",
            "825ed3a04c2641ce89adbbec553be56e",
            "9db6b7b539d44e23b23560383cd20a59",
            "54d74feddaa34b9493afb18dbf1f4788",
            "d4f4fe3d11de4a2a8427b95abd6bd9ab",
            "24d227710ff240dd9036a1cddb8fe1f8",
            "121edb90a914425fa9eb41d5e3421d04",
            "99c21c10c60947398991135c808a55d9",
            "1c4981c89aec488e9461b3378b1db0bc",
            "34b628d0297a49798b6e161929d7369f",
            "3b36fc2f48f64ee999a9d39dedb200bb",
            "426ab72a9c354099a21370eed5c2a7ca",
            "1418f8913c094c67aa4a94088f0288ac",
            "879a8f5fbdf247e7aa44aa77c9e4f670",
            "0e6f7dd2d17646d19bc91045ddbe0be7",
            "57216214c1a140c986923ec5cb870254",
            "ea64749c8b0c4422b793f7110792e066",
            "551c04658c4344d2941cacfe17aaa4dc",
            "6b7f2e47a3f94b71abe1043c6c1c80f3",
            "894adfbc47ca4781bc1f68e84caa0f8f",
            "55d102646d124454bc1f0dc34641e87b",
            "be83ac44d8ee48f097a19d86233488b1",
            "e01904a025ab49a0a2582935ea387ad7",
            "7a82c84fcf3e426fb4838acb0d3b710d",
            "742422eb3db747cdbfac22636e478fbb",
            "0454a1c9a8a0495b85720204cebcedb0",
            "3ef8160220394a1c8548a5e8106aee5d",
            "ff259cfde7da443884b483a2d6c1be8a",
            "e7cbc7903bd34c7f9728923ed56416bd",
            "62f6ea2df206447489eddb403d5c9cf3",
            "ec1fd78843de4d189ec47d72bef89e15",
            "1c7b3f9036d34bf1b9a8bedb16b0e56c",
            "0a46fc8904e0487590c738376ebc4941",
            "a816491a3283442fb68c64b8198976b2",
            "bc5c7917204a44b5a715f7c2868688d9",
            "aa93b6ea59444f17b467f08f89ce8627",
            "6b2104449ff74a34a48689d4a5005abe",
            "bf5fd2ec075a454cbf1c1964a490e47e",
            "0832d439cf2646f08e61d1bbdc7bd5dc",
            "e92da93cc2e14a3b82fdfa423cb46b8f",
            "8a0362dc41014c97823189cb2a0b5e66",
            "6c096f56eedf438182b04d713f69ea00"
          ]
        }
      },
      "outputs": [
        {
          "output_type": "display_data",
          "data": {
            "text/plain": [
              "Summarize dataset:   0%|          | 0/5 [00:00<?, ?it/s]"
            ],
            "application/vnd.jupyter.widget-view+json": {
              "version_major": 2,
              "version_minor": 0,
              "model_id": "09639e16889e42bdbd67fea0f2f02e60"
            }
          },
          "metadata": {}
        },
        {
          "output_type": "display_data",
          "data": {
            "text/plain": [
              "Generate report structure:   0%|          | 0/1 [00:00<?, ?it/s]"
            ],
            "application/vnd.jupyter.widget-view+json": {
              "version_major": 2,
              "version_minor": 0,
              "model_id": "34b628d0297a49798b6e161929d7369f"
            }
          },
          "metadata": {}
        },
        {
          "output_type": "display_data",
          "data": {
            "text/plain": [
              "Render HTML:   0%|          | 0/1 [00:00<?, ?it/s]"
            ],
            "application/vnd.jupyter.widget-view+json": {
              "version_major": 2,
              "version_minor": 0,
              "model_id": "55d102646d124454bc1f0dc34641e87b"
            }
          },
          "metadata": {}
        },
        {
          "output_type": "display_data",
          "data": {
            "text/plain": [
              "Export report to file:   0%|          | 0/1 [00:00<?, ?it/s]"
            ],
            "application/vnd.jupyter.widget-view+json": {
              "version_major": 2,
              "version_minor": 0,
              "model_id": "1c7b3f9036d34bf1b9a8bedb16b0e56c"
            }
          },
          "metadata": {}
        }
      ],
      "source": [
        "profile = ProfileReport(df_vereadores, title=\"Limpeza dos dados - Pandas Profiling Report\")\n",
        "profile.to_file(output_file=\"relatorio_eleicoes_vereadores_2020_ap_pa_limpo.html\")"
      ]
    },
    {
      "cell_type": "markdown",
      "id": "afe7637c",
      "metadata": {
        "id": "afe7637c"
      },
      "source": [
        "### Aula 12: Operações básicas com dados\n",
        "\n",
        "Costumamos construir um subdataframe apenas com as colunas que usaremos na nossa análise. Existem várias formas de filtrar as linhas e colunas. Vamos aprender como fazer isso separadamente:\n",
        "\n",
        "Filtrar as 26 colunas pertinentes para nosso estudo."
      ]
    },
    {
      "cell_type": "code",
      "execution_count": 85,
      "id": "a0aaec5a",
      "metadata": {
        "tags": [],
        "id": "a0aaec5a"
      },
      "outputs": [],
      "source": [
        "df_vereadores_ap_pa_reduzido = df_vereadores[\n",
        "    ['ANO_ELEICAO','TP_ABRANGENCIA', 'SG_UF', 'SG_UE', 'NM_UE', 'CD_CARGO', 'DS_CARGO',\n",
        "     'NR_CANDIDATO', 'NM_CANDIDATO', 'NM_URNA_CANDIDATO','NM_SOCIAL_CANDIDATO', 'NR_PARTIDO',\n",
        "     'SG_PARTIDO', 'NR_IDADE_DATA_POSSE','CD_GENERO', 'DS_GENERO', 'CD_COR_RACA', 'DS_COR_RACA',\n",
        "     'VR_DESPESA_MAX_CAMPANHA', 'CD_SIT_TOT_TURNO','DS_SIT_TOT_TURNO', 'ST_REELEICAO', 'CD_SITUACAO_CANDIDATURA',\n",
        "     'DS_SITUACAO_CANDIDATURA', 'CD_DETALHE_SITUACAO_CAND', 'DS_DETALHE_SITUACAO_CAND']\n",
        "].copy()"
      ]
    },
    {
      "cell_type": "code",
      "execution_count": 86,
      "id": "2b693814",
      "metadata": {
        "tags": [],
        "id": "2b693814",
        "outputId": "93287d6a-01c1-4252-fb8e-e7aa17c68ebf",
        "colab": {
          "base_uri": "https://localhost:8080/"
        }
      },
      "outputs": [
        {
          "output_type": "execute_result",
          "data": {
            "text/plain": [
              "(24583, 26)"
            ]
          },
          "metadata": {},
          "execution_count": 86
        }
      ],
      "source": [
        "df_vereadores_ap_pa_reduzido.shape"
      ]
    },
    {
      "cell_type": "markdown",
      "id": "a6f5d4fd",
      "metadata": {
        "id": "a6f5d4fd"
      },
      "source": [
        "Agora selecionaremos apenas as pessoas que tem sua candidaturas \"apto\", \"deferido\" e \"deferido com recurso\"."
      ]
    },
    {
      "cell_type": "code",
      "execution_count": 87,
      "id": "ab7dd4bc",
      "metadata": {
        "tags": [],
        "id": "ab7dd4bc"
      },
      "outputs": [],
      "source": [
        "df_vereadores_ap_pa_reduzido_aptas = df_vereadores_ap_pa_reduzido[\n",
        "    df_vereadores_ap_pa_reduzido['CD_SITUACAO_CANDIDATURA'] == 12\n",
        "]"
      ]
    },
    {
      "cell_type": "code",
      "source": [
        "df_vereadores_ap_pa_reduzido_aptas"
      ],
      "metadata": {
        "id": "u59ouaelUASw"
      },
      "id": "u59ouaelUASw",
      "execution_count": null,
      "outputs": []
    },
    {
      "cell_type": "code",
      "execution_count": 89,
      "id": "b7b13b2e",
      "metadata": {
        "tags": [],
        "id": "b7b13b2e"
      },
      "outputs": [],
      "source": [
        "df_vereadores_ap_pa_reduzido_aptas_deferidas = df_vereadores_ap_pa_reduzido_aptas[\n",
        "    (df_vereadores_ap_pa_reduzido_aptas['DS_DETALHE_SITUACAO_CAND'] == 'DEFERIDO') |\n",
        "    (df_vereadores_ap_pa_reduzido_aptas['DS_DETALHE_SITUACAO_CAND'] == 'DEFERIDO COM RECURSO')\n",
        "]"
      ]
    },
    {
      "cell_type": "code",
      "execution_count": 90,
      "id": "971ac4c8",
      "metadata": {
        "tags": [],
        "id": "971ac4c8",
        "outputId": "f4f70f79-26d3-4d99-a0fe-7741567ffaa5",
        "colab": {
          "base_uri": "https://localhost:8080/"
        }
      },
      "outputs": [
        {
          "output_type": "execute_result",
          "data": {
            "text/plain": [
              "(23089, 26)"
            ]
          },
          "metadata": {},
          "execution_count": 90
        }
      ],
      "source": [
        "df_vereadores_ap_pa_reduzido_aptas_deferidas.shape"
      ]
    },
    {
      "cell_type": "markdown",
      "id": "708c26c6",
      "metadata": {
        "id": "708c26c6"
      },
      "source": [
        "Agora, aprenderemos a filtrar usando a função `pd.loc`:"
      ]
    },
    {
      "cell_type": "code",
      "execution_count": 26,
      "id": "159a5a64",
      "metadata": {
        "tags": [],
        "id": "159a5a64"
      },
      "outputs": [],
      "source": [
        "colunas_desejadas = ['ANO_ELEICAO','TP_ABRANGENCIA', 'SG_UF', 'SG_UE', 'NM_UE', 'CD_CARGO', 'DS_CARGO',\n",
        "     'NR_CANDIDATO', 'NM_CANDIDATO', 'NM_URNA_CANDIDATO','NM_SOCIAL_CANDIDATO', 'NR_PARTIDO',\n",
        "     'SG_PARTIDO', 'NR_IDADE_DATA_POSSE','CD_GENERO', 'DS_GENERO', 'CD_COR_RACA', 'DS_COR_RACA',\n",
        "     'VR_DESPESA_MAX_CAMPANHA', 'CD_SIT_TOT_TURNO','DS_SIT_TOT_TURNO', 'ST_REELEICAO', 'CD_SITUACAO_CANDIDATURA',\n",
        "     'DS_SITUACAO_CANDIDATURA', 'CD_DETALHE_SITUACAO_CAND', 'DS_DETALHE_SITUACAO_CAND']"
      ]
    },
    {
      "cell_type": "code",
      "execution_count": 28,
      "id": "eaf24bfe",
      "metadata": {
        "tags": [],
        "id": "eaf24bfe"
      },
      "outputs": [],
      "source": [
        "filtro_linhas = (df_vereadores['CD_SITUACAO_CANDIDATURA'] == 12) & (\n",
        "    (df_vereadores['DS_DETALHE_SITUACAO_CAND'] == 'DEFERIDO') |\n",
        "    (df_vereadores['DS_DETALHE_SITUACAO_CAND'] == 'DEFERIDO COM RECURSO')\n",
        ")"
      ]
    },
    {
      "cell_type": "code",
      "source": [
        "filtro_linhas"
      ],
      "metadata": {
        "id": "WEMkp_raUyAX"
      },
      "id": "WEMkp_raUyAX",
      "execution_count": null,
      "outputs": []
    },
    {
      "cell_type": "code",
      "execution_count": 92,
      "id": "5b46534a",
      "metadata": {
        "tags": [],
        "id": "5b46534a"
      },
      "outputs": [],
      "source": [
        "df_vereadores_ap_pa_reduzido_aptas_deferidas_2 = df_vereadores.loc[filtro_linhas, colunas_desejadas]"
      ]
    },
    {
      "cell_type": "code",
      "execution_count": 93,
      "id": "1a71d793",
      "metadata": {
        "tags": [],
        "id": "1a71d793",
        "outputId": "40c90ae0-a206-46b7-e8c6-5245cb22dd72",
        "colab": {
          "base_uri": "https://localhost:8080/"
        }
      },
      "outputs": [
        {
          "output_type": "execute_result",
          "data": {
            "text/plain": [
              "(23089, 26)"
            ]
          },
          "metadata": {},
          "execution_count": 93
        }
      ],
      "source": [
        "df_vereadores_ap_pa_reduzido_aptas_deferidas_2.shape"
      ]
    },
    {
      "cell_type": "code",
      "execution_count": 94,
      "id": "a345bdfc",
      "metadata": {
        "tags": [],
        "id": "a345bdfc"
      },
      "outputs": [],
      "source": [
        "df_vereadores_ap_pa = df_vereadores_ap_pa_reduzido_aptas_deferidas_2.copy()"
      ]
    },
    {
      "cell_type": "markdown",
      "id": "bee75b32",
      "metadata": {
        "id": "bee75b32"
      },
      "source": [
        "## Sua vez, crie um dataframe com apenas os nomes e partidos das pessoas candidatas que se autodeclararam como 'PARDA', 'PRETA' e 'INDÍGENA'"
      ]
    },
    {
      "cell_type": "code",
      "source": [
        "colunas_desejadas = []"
      ],
      "metadata": {
        "id": "z8Fepv_8VfSJ"
      },
      "id": "z8Fepv_8VfSJ",
      "execution_count": 101,
      "outputs": []
    },
    {
      "cell_type": "code",
      "execution_count": 103,
      "id": "2c0c506f",
      "metadata": {
        "id": "2c0c506f"
      },
      "outputs": [],
      "source": [
        "colunas_desejadas = ['NM_CANDIDATO','NM_PARTIDO']"
      ]
    },
    {
      "cell_type": "code",
      "source": [
        "colunas_desejadas"
      ],
      "metadata": {
        "id": "WP5621ssVW4R",
        "outputId": "ff98792d-1bb0-4e87-8f5c-d880df1e2512",
        "colab": {
          "base_uri": "https://localhost:8080/"
        }
      },
      "id": "WP5621ssVW4R",
      "execution_count": 104,
      "outputs": [
        {
          "output_type": "execute_result",
          "data": {
            "text/plain": [
              "['NM_CANDIDATO', 'NM_PARTIDO']"
            ]
          },
          "metadata": {},
          "execution_count": 104
        }
      ]
    },
    {
      "cell_type": "code",
      "source": [
        "filtro_linhas = (( df_vereadores['DS_COR_RACA'] == 'PARDA') | ( df_vereadores['DS_COR_RACA'] == 'PRETA') | ( df_vereadores['DS_COR_RACA'] == 'INDIGENA'))"
      ],
      "metadata": {
        "id": "2SbbAotRVTJy"
      },
      "id": "2SbbAotRVTJy",
      "execution_count": 105,
      "outputs": []
    },
    {
      "cell_type": "code",
      "source": [
        "filtro_linhas"
      ],
      "metadata": {
        "id": "yVS03BblVO0_"
      },
      "id": "yVS03BblVO0_",
      "execution_count": null,
      "outputs": []
    },
    {
      "cell_type": "code",
      "source": [
        "df_vereadores_declaradas_cota = df_vereadores.loc[filtro_linhas, colunas_desejadas]"
      ],
      "metadata": {
        "id": "wzixHqEIWMwG"
      },
      "id": "wzixHqEIWMwG",
      "execution_count": 109,
      "outputs": []
    },
    {
      "cell_type": "code",
      "source": [
        "df_vereadores_declaradas_cota"
      ],
      "metadata": {
        "id": "UcqkS_LpWZG_"
      },
      "id": "UcqkS_LpWZG_",
      "execution_count": null,
      "outputs": []
    },
    {
      "cell_type": "markdown",
      "id": "31117422",
      "metadata": {
        "id": "31117422"
      },
      "source": [
        "### Aula 13: Métodos `filter` e `sort_values`\n",
        "\n",
        "Vamos filtrar todas as colunas que possuam as letras \"DIDATO\" no seu título:"
      ]
    },
    {
      "cell_type": "code",
      "execution_count": null,
      "id": "ae91a3eb",
      "metadata": {
        "tags": [],
        "id": "ae91a3eb"
      },
      "outputs": [],
      "source": [
        "df_vereadores_ap_pa_nomes = df_vereadores_ap_pa.filter(like='DIDATO', axis=1)\n",
        "df_vereadores_ap_pa_nomes.head()"
      ]
    },
    {
      "cell_type": "markdown",
      "id": "a4061a52",
      "metadata": {
        "id": "a4061a52"
      },
      "source": [
        "Para ordenar as linhas a partir das colunas 'NM_SOCIAL_CANDIDATO' e 'NM_CANDIDATO, usamos o método df.sort_values:"
      ]
    },
    {
      "cell_type": "code",
      "execution_count": null,
      "id": "5deb367b",
      "metadata": {
        "tags": [],
        "id": "5deb367b"
      },
      "outputs": [],
      "source": [
        "# sort_values ordena valores no eixo desejado\n",
        "df_vereadores_ap_pa_nomes.sort_values(by=['NM_SOCIAL_CANDIDATO', 'NM_CANDIDATO'], # coluna ou lista de colunas usada para ordenação dos dados. A ordem informa a prioridade na ordenação\n",
        "                                      ascending=True, # Define a ordem dos valores ( crescente ( True ), ou decrescente ( False))\n",
        "                                      na_position='last', # Define se os valores faltantes estarão no topo ( 'first' ) ou final da linha ( 'las' )\n",
        "                                      ignore_index=False, # Estabelece se haverá reindexação das linhas ( True ) ou não ( False )\n",
        ")"
      ]
    },
    {
      "cell_type": "markdown",
      "id": "1b2e273a",
      "metadata": {
        "id": "1b2e273a"
      },
      "source": [
        "## Selecione apenas as colunas cujo o título possua \"DS\" e organize em ordem descrescente. Qual o gênero das candidaturas das 3 primeiras linhas?"
      ]
    },
    {
      "cell_type": "code",
      "execution_count": null,
      "id": "7803da95",
      "metadata": {
        "id": "7803da95"
      },
      "outputs": [],
      "source": [
        "df_vereadores_ap_pa_generos = df_vereadores_ap_pa.filter(like='DS', axis=1 )"
      ]
    },
    {
      "cell_type": "code",
      "source": [
        "df_vereadores_ap_pa_generos.sort_values(by=['DS_GENERO'],\n",
        "                                        ascending = False,\n",
        "                                        ignore_index=False\n",
        "                                        ).head(3)"
      ],
      "metadata": {
        "id": "q6xJis8gYa6f",
        "outputId": "cf30d35c-1ec5-4653-9bd1-1969cbe55d4a",
        "colab": {
          "base_uri": "https://localhost:8080/",
          "height": 143
        }
      },
      "id": "q6xJis8gYa6f",
      "execution_count": 116,
      "outputs": [
        {
          "output_type": "execute_result",
          "data": {
            "text/plain": [
              "       DS_CARGO  DS_GENERO DS_COR_RACA DS_SIT_TOT_TURNO  \\\n",
              "0      VEREADOR  MASCULINO       PRETA         SUPLENTE   \n",
              "15669  VEREADOR  MASCULINO      BRANCA       NÃO ELEITO   \n",
              "15682  VEREADOR  MASCULINO       PARDA       NÃO ELEITO   \n",
              "\n",
              "      DS_SITUACAO_CANDIDATURA DS_DETALHE_SITUACAO_CAND  \n",
              "0                        APTO                 DEFERIDO  \n",
              "15669                    APTO                 DEFERIDO  \n",
              "15682                    APTO                 DEFERIDO  "
            ],
            "text/html": [
              "\n",
              "  <div id=\"df-9b39af35-32d2-4595-aeb3-da812108b90f\">\n",
              "    <div class=\"colab-df-container\">\n",
              "      <div>\n",
              "<style scoped>\n",
              "    .dataframe tbody tr th:only-of-type {\n",
              "        vertical-align: middle;\n",
              "    }\n",
              "\n",
              "    .dataframe tbody tr th {\n",
              "        vertical-align: top;\n",
              "    }\n",
              "\n",
              "    .dataframe thead th {\n",
              "        text-align: right;\n",
              "    }\n",
              "</style>\n",
              "<table border=\"1\" class=\"dataframe\">\n",
              "  <thead>\n",
              "    <tr style=\"text-align: right;\">\n",
              "      <th></th>\n",
              "      <th>DS_CARGO</th>\n",
              "      <th>DS_GENERO</th>\n",
              "      <th>DS_COR_RACA</th>\n",
              "      <th>DS_SIT_TOT_TURNO</th>\n",
              "      <th>DS_SITUACAO_CANDIDATURA</th>\n",
              "      <th>DS_DETALHE_SITUACAO_CAND</th>\n",
              "    </tr>\n",
              "  </thead>\n",
              "  <tbody>\n",
              "    <tr>\n",
              "      <th>0</th>\n",
              "      <td>VEREADOR</td>\n",
              "      <td>MASCULINO</td>\n",
              "      <td>PRETA</td>\n",
              "      <td>SUPLENTE</td>\n",
              "      <td>APTO</td>\n",
              "      <td>DEFERIDO</td>\n",
              "    </tr>\n",
              "    <tr>\n",
              "      <th>15669</th>\n",
              "      <td>VEREADOR</td>\n",
              "      <td>MASCULINO</td>\n",
              "      <td>BRANCA</td>\n",
              "      <td>NÃO ELEITO</td>\n",
              "      <td>APTO</td>\n",
              "      <td>DEFERIDO</td>\n",
              "    </tr>\n",
              "    <tr>\n",
              "      <th>15682</th>\n",
              "      <td>VEREADOR</td>\n",
              "      <td>MASCULINO</td>\n",
              "      <td>PARDA</td>\n",
              "      <td>NÃO ELEITO</td>\n",
              "      <td>APTO</td>\n",
              "      <td>DEFERIDO</td>\n",
              "    </tr>\n",
              "  </tbody>\n",
              "</table>\n",
              "</div>\n",
              "      <button class=\"colab-df-convert\" onclick=\"convertToInteractive('df-9b39af35-32d2-4595-aeb3-da812108b90f')\"\n",
              "              title=\"Convert this dataframe to an interactive table.\"\n",
              "              style=\"display:none;\">\n",
              "        \n",
              "  <svg xmlns=\"http://www.w3.org/2000/svg\" height=\"24px\"viewBox=\"0 0 24 24\"\n",
              "       width=\"24px\">\n",
              "    <path d=\"M0 0h24v24H0V0z\" fill=\"none\"/>\n",
              "    <path d=\"M18.56 5.44l.94 2.06.94-2.06 2.06-.94-2.06-.94-.94-2.06-.94 2.06-2.06.94zm-11 1L8.5 8.5l.94-2.06 2.06-.94-2.06-.94L8.5 2.5l-.94 2.06-2.06.94zm10 10l.94 2.06.94-2.06 2.06-.94-2.06-.94-.94-2.06-.94 2.06-2.06.94z\"/><path d=\"M17.41 7.96l-1.37-1.37c-.4-.4-.92-.59-1.43-.59-.52 0-1.04.2-1.43.59L10.3 9.45l-7.72 7.72c-.78.78-.78 2.05 0 2.83L4 21.41c.39.39.9.59 1.41.59.51 0 1.02-.2 1.41-.59l7.78-7.78 2.81-2.81c.8-.78.8-2.07 0-2.86zM5.41 20L4 18.59l7.72-7.72 1.47 1.35L5.41 20z\"/>\n",
              "  </svg>\n",
              "      </button>\n",
              "      \n",
              "  <style>\n",
              "    .colab-df-container {\n",
              "      display:flex;\n",
              "      flex-wrap:wrap;\n",
              "      gap: 12px;\n",
              "    }\n",
              "\n",
              "    .colab-df-convert {\n",
              "      background-color: #E8F0FE;\n",
              "      border: none;\n",
              "      border-radius: 50%;\n",
              "      cursor: pointer;\n",
              "      display: none;\n",
              "      fill: #1967D2;\n",
              "      height: 32px;\n",
              "      padding: 0 0 0 0;\n",
              "      width: 32px;\n",
              "    }\n",
              "\n",
              "    .colab-df-convert:hover {\n",
              "      background-color: #E2EBFA;\n",
              "      box-shadow: 0px 1px 2px rgba(60, 64, 67, 0.3), 0px 1px 3px 1px rgba(60, 64, 67, 0.15);\n",
              "      fill: #174EA6;\n",
              "    }\n",
              "\n",
              "    [theme=dark] .colab-df-convert {\n",
              "      background-color: #3B4455;\n",
              "      fill: #D2E3FC;\n",
              "    }\n",
              "\n",
              "    [theme=dark] .colab-df-convert:hover {\n",
              "      background-color: #434B5C;\n",
              "      box-shadow: 0px 1px 3px 1px rgba(0, 0, 0, 0.15);\n",
              "      filter: drop-shadow(0px 1px 2px rgba(0, 0, 0, 0.3));\n",
              "      fill: #FFFFFF;\n",
              "    }\n",
              "  </style>\n",
              "\n",
              "      <script>\n",
              "        const buttonEl =\n",
              "          document.querySelector('#df-9b39af35-32d2-4595-aeb3-da812108b90f button.colab-df-convert');\n",
              "        buttonEl.style.display =\n",
              "          google.colab.kernel.accessAllowed ? 'block' : 'none';\n",
              "\n",
              "        async function convertToInteractive(key) {\n",
              "          const element = document.querySelector('#df-9b39af35-32d2-4595-aeb3-da812108b90f');\n",
              "          const dataTable =\n",
              "            await google.colab.kernel.invokeFunction('convertToInteractive',\n",
              "                                                     [key], {});\n",
              "          if (!dataTable) return;\n",
              "\n",
              "          const docLinkHtml = 'Like what you see? Visit the ' +\n",
              "            '<a target=\"_blank\" href=https://colab.research.google.com/notebooks/data_table.ipynb>data table notebook</a>'\n",
              "            + ' to learn more about interactive tables.';\n",
              "          element.innerHTML = '';\n",
              "          dataTable['output_type'] = 'display_data';\n",
              "          await google.colab.output.renderOutput(dataTable, element);\n",
              "          const docLink = document.createElement('div');\n",
              "          docLink.innerHTML = docLinkHtml;\n",
              "          element.appendChild(docLink);\n",
              "        }\n",
              "      </script>\n",
              "    </div>\n",
              "  </div>\n",
              "  "
            ]
          },
          "metadata": {},
          "execution_count": 116
        }
      ]
    },
    {
      "cell_type": "markdown",
      "id": "60791f6c",
      "metadata": {
        "id": "60791f6c"
      },
      "source": [
        "### Aula 14: Operações com dados e método `apply`\n",
        "\n",
        "Podemos criar uma nova coluna a partir de operações sobre outras colunas. No exemplo abaixo vamos descobrir o gasto médio diário declarado por cada candidatura."
      ]
    },
    {
      "cell_type": "code",
      "execution_count": null,
      "id": "eed7e75d",
      "metadata": {
        "tags": [],
        "id": "eed7e75d"
      },
      "outputs": [],
      "source": [
        "total_dias_campanha = 45\n",
        "df_vereadores_ap_pa['GASTO_DIARIO'] = df_vereadores_ap_pa['VR_DESPESA_MAX_CAMPANHA'] / total_dias_campanha"
      ]
    },
    {
      "cell_type": "code",
      "execution_count": null,
      "id": "a136009c",
      "metadata": {
        "tags": [],
        "id": "a136009c",
        "outputId": "8864bcd7-005b-4a7d-a229-40d8fe370a5d"
      },
      "outputs": [
        {
          "data": {
            "text/html": [
              "<div>\n",
              "<style scoped>\n",
              "    .dataframe tbody tr th:only-of-type {\n",
              "        vertical-align: middle;\n",
              "    }\n",
              "\n",
              "    .dataframe tbody tr th {\n",
              "        vertical-align: top;\n",
              "    }\n",
              "\n",
              "    .dataframe thead th {\n",
              "        text-align: right;\n",
              "    }\n",
              "</style>\n",
              "<table border=\"1\" class=\"dataframe\">\n",
              "  <thead>\n",
              "    <tr style=\"text-align: right;\">\n",
              "      <th></th>\n",
              "      <th>ANO_ELEICAO</th>\n",
              "      <th>TP_ABRANGENCIA</th>\n",
              "      <th>SG_UF</th>\n",
              "      <th>SG_UE</th>\n",
              "      <th>NM_UE</th>\n",
              "      <th>CD_CARGO</th>\n",
              "      <th>DS_CARGO</th>\n",
              "      <th>NR_CANDIDATO</th>\n",
              "      <th>NM_CANDIDATO</th>\n",
              "      <th>NM_URNA_CANDIDATO</th>\n",
              "      <th>...</th>\n",
              "      <th>DS_COR_RACA</th>\n",
              "      <th>VR_DESPESA_MAX_CAMPANHA</th>\n",
              "      <th>CD_SIT_TOT_TURNO</th>\n",
              "      <th>DS_SIT_TOT_TURNO</th>\n",
              "      <th>ST_REELEICAO</th>\n",
              "      <th>CD_SITUACAO_CANDIDATURA</th>\n",
              "      <th>DS_SITUACAO_CANDIDATURA</th>\n",
              "      <th>CD_DETALHE_SITUACAO_CAND</th>\n",
              "      <th>DS_DETALHE_SITUACAO_CAND</th>\n",
              "      <th>GASTO_DIARIO</th>\n",
              "    </tr>\n",
              "  </thead>\n",
              "  <tbody>\n",
              "    <tr>\n",
              "      <th>0</th>\n",
              "      <td>2020</td>\n",
              "      <td>MUNICIPAL</td>\n",
              "      <td>AP</td>\n",
              "      <td>6114</td>\n",
              "      <td>FERREIRA GOMES</td>\n",
              "      <td>13</td>\n",
              "      <td>VEREADOR</td>\n",
              "      <td>11369</td>\n",
              "      <td>RAIMUNDO MESQUITA FERREIRA DOS SANTOS</td>\n",
              "      <td>GOIABA</td>\n",
              "      <td>...</td>\n",
              "      <td>PRETA</td>\n",
              "      <td>12307.75</td>\n",
              "      <td>5</td>\n",
              "      <td>SUPLENTE</td>\n",
              "      <td>N</td>\n",
              "      <td>12</td>\n",
              "      <td>APTO</td>\n",
              "      <td>2</td>\n",
              "      <td>DEFERIDO</td>\n",
              "      <td>273.505556</td>\n",
              "    </tr>\n",
              "    <tr>\n",
              "      <th>1</th>\n",
              "      <td>2020</td>\n",
              "      <td>MUNICIPAL</td>\n",
              "      <td>AP</td>\n",
              "      <td>6076</td>\n",
              "      <td>MAZAGÃO</td>\n",
              "      <td>13</td>\n",
              "      <td>VEREADOR</td>\n",
              "      <td>13000</td>\n",
              "      <td>MAURICIO DEL CASTILLO RAIOL</td>\n",
              "      <td>MAURICIO DA SAÚDE</td>\n",
              "      <td>...</td>\n",
              "      <td>PARDA</td>\n",
              "      <td>24149.88</td>\n",
              "      <td>4</td>\n",
              "      <td>NÃO ELEITO</td>\n",
              "      <td>N</td>\n",
              "      <td>12</td>\n",
              "      <td>APTO</td>\n",
              "      <td>2</td>\n",
              "      <td>DEFERIDO</td>\n",
              "      <td>536.664000</td>\n",
              "    </tr>\n",
              "    <tr>\n",
              "      <th>2</th>\n",
              "      <td>2020</td>\n",
              "      <td>MUNICIPAL</td>\n",
              "      <td>AP</td>\n",
              "      <td>6106</td>\n",
              "      <td>SERRA DO NAVIO</td>\n",
              "      <td>13</td>\n",
              "      <td>VEREADOR</td>\n",
              "      <td>55123</td>\n",
              "      <td>KENNAS DE OLIVEIRA DOS SANTOS</td>\n",
              "      <td>NEGUINHO DO TAXI</td>\n",
              "      <td>...</td>\n",
              "      <td>PRETA</td>\n",
              "      <td>12307.75</td>\n",
              "      <td>5</td>\n",
              "      <td>SUPLENTE</td>\n",
              "      <td>N</td>\n",
              "      <td>12</td>\n",
              "      <td>APTO</td>\n",
              "      <td>2</td>\n",
              "      <td>DEFERIDO</td>\n",
              "      <td>273.505556</td>\n",
              "    </tr>\n",
              "    <tr>\n",
              "      <th>4</th>\n",
              "      <td>2020</td>\n",
              "      <td>MUNICIPAL</td>\n",
              "      <td>AP</td>\n",
              "      <td>6017</td>\n",
              "      <td>AMAPÁ</td>\n",
              "      <td>13</td>\n",
              "      <td>VEREADOR</td>\n",
              "      <td>12111</td>\n",
              "      <td>MAURÍCIO DE OLIVEIRA SUCUPIRA</td>\n",
              "      <td>MAURÍCIO SUCUPIRA</td>\n",
              "      <td>...</td>\n",
              "      <td>PARDA</td>\n",
              "      <td>12307.75</td>\n",
              "      <td>2</td>\n",
              "      <td>ELEITO POR QP</td>\n",
              "      <td>N</td>\n",
              "      <td>12</td>\n",
              "      <td>APTO</td>\n",
              "      <td>2</td>\n",
              "      <td>DEFERIDO</td>\n",
              "      <td>273.505556</td>\n",
              "    </tr>\n",
              "    <tr>\n",
              "      <th>5</th>\n",
              "      <td>2020</td>\n",
              "      <td>MUNICIPAL</td>\n",
              "      <td>AP</td>\n",
              "      <td>6050</td>\n",
              "      <td>MACAPÁ</td>\n",
              "      <td>13</td>\n",
              "      <td>VEREADOR</td>\n",
              "      <td>17222</td>\n",
              "      <td>ADRIANO DOS SANTOS SILVA</td>\n",
              "      <td>ADRIANO SILVA</td>\n",
              "      <td>...</td>\n",
              "      <td>PARDA</td>\n",
              "      <td>151743.76</td>\n",
              "      <td>5</td>\n",
              "      <td>SUPLENTE</td>\n",
              "      <td>N</td>\n",
              "      <td>12</td>\n",
              "      <td>APTO</td>\n",
              "      <td>2</td>\n",
              "      <td>DEFERIDO</td>\n",
              "      <td>3372.083556</td>\n",
              "    </tr>\n",
              "  </tbody>\n",
              "</table>\n",
              "<p>5 rows × 27 columns</p>\n",
              "</div>"
            ],
            "text/plain": [
              "   ANO_ELEICAO TP_ABRANGENCIA SG_UF  SG_UE           NM_UE  CD_CARGO   \n",
              "0         2020      MUNICIPAL    AP   6114  FERREIRA GOMES        13  \\\n",
              "1         2020      MUNICIPAL    AP   6076         MAZAGÃO        13   \n",
              "2         2020      MUNICIPAL    AP   6106  SERRA DO NAVIO        13   \n",
              "4         2020      MUNICIPAL    AP   6017           AMAPÁ        13   \n",
              "5         2020      MUNICIPAL    AP   6050          MACAPÁ        13   \n",
              "\n",
              "   DS_CARGO  NR_CANDIDATO                           NM_CANDIDATO   \n",
              "0  VEREADOR         11369  RAIMUNDO MESQUITA FERREIRA DOS SANTOS  \\\n",
              "1  VEREADOR         13000            MAURICIO DEL CASTILLO RAIOL   \n",
              "2  VEREADOR         55123          KENNAS DE OLIVEIRA DOS SANTOS   \n",
              "4  VEREADOR         12111          MAURÍCIO DE OLIVEIRA SUCUPIRA   \n",
              "5  VEREADOR         17222               ADRIANO DOS SANTOS SILVA   \n",
              "\n",
              "   NM_URNA_CANDIDATO  ... DS_COR_RACA  VR_DESPESA_MAX_CAMPANHA   \n",
              "0             GOIABA  ...       PRETA                 12307.75  \\\n",
              "1  MAURICIO DA SAÚDE  ...       PARDA                 24149.88   \n",
              "2   NEGUINHO DO TAXI  ...       PRETA                 12307.75   \n",
              "4  MAURÍCIO SUCUPIRA  ...       PARDA                 12307.75   \n",
              "5      ADRIANO SILVA  ...       PARDA                151743.76   \n",
              "\n",
              "  CD_SIT_TOT_TURNO  DS_SIT_TOT_TURNO  ST_REELEICAO CD_SITUACAO_CANDIDATURA   \n",
              "0                5          SUPLENTE             N                      12  \\\n",
              "1                4        NÃO ELEITO             N                      12   \n",
              "2                5          SUPLENTE             N                      12   \n",
              "4                2     ELEITO POR QP             N                      12   \n",
              "5                5          SUPLENTE             N                      12   \n",
              "\n",
              "   DS_SITUACAO_CANDIDATURA CD_DETALHE_SITUACAO_CAND  DS_DETALHE_SITUACAO_CAND   \n",
              "0                     APTO                        2                  DEFERIDO  \\\n",
              "1                     APTO                        2                  DEFERIDO   \n",
              "2                     APTO                        2                  DEFERIDO   \n",
              "4                     APTO                        2                  DEFERIDO   \n",
              "5                     APTO                        2                  DEFERIDO   \n",
              "\n",
              "   GASTO_DIARIO  \n",
              "0    273.505556  \n",
              "1    536.664000  \n",
              "2    273.505556  \n",
              "4    273.505556  \n",
              "5   3372.083556  \n",
              "\n",
              "[5 rows x 27 columns]"
            ]
          },
          "execution_count": 63,
          "metadata": {},
          "output_type": "execute_result"
        }
      ],
      "source": [
        "df_vereadores_ap_pa.head()"
      ]
    },
    {
      "cell_type": "markdown",
      "id": "488c750e",
      "metadata": {
        "id": "488c750e"
      },
      "source": [
        "Explorando mais um pouco esses dados, trabalharemos apenas com os dados das candidaturas de Pernambuco e classificaremos os gastos médios diários de acordo com os conceitos de quartil e valores discrepantes que vimos nos vídeos sobre estatística:"
      ]
    },
    {
      "cell_type": "code",
      "execution_count": null,
      "id": "c133044e",
      "metadata": {
        "tags": [],
        "id": "c133044e"
      },
      "outputs": [],
      "source": [
        "df_vereadores_pa = df_vereadores_ap_pa[df_vereadores_ap_pa['SG_UF'] == 'PA'].copy()"
      ]
    },
    {
      "cell_type": "code",
      "execution_count": null,
      "id": "d0ed61f0",
      "metadata": {
        "tags": [],
        "id": "d0ed61f0"
      },
      "outputs": [],
      "source": [
        "primeiro_quartil = df_vereadores_pa['GASTO_DIARIO'].quantile(0.25)\n",
        "terceiro_quartil = df_vereadores_pa['GASTO_DIARIO'].quantile(0.75)"
      ]
    },
    {
      "cell_type": "code",
      "execution_count": null,
      "id": "f1418707",
      "metadata": {
        "tags": [],
        "id": "f1418707"
      },
      "outputs": [],
      "source": [
        "intervalo_interquartil = terceiro_quartil - primeiro_quartil"
      ]
    },
    {
      "cell_type": "code",
      "execution_count": null,
      "id": "7089b366",
      "metadata": {
        "tags": [],
        "id": "7089b366"
      },
      "outputs": [],
      "source": [
        "limite_inferior = primeiro_quartil - (intervalo_interquartil * 1.5)\n",
        "limite_superior = terceiro_quartil + (intervalo_interquartil * 1.5)"
      ]
    },
    {
      "cell_type": "code",
      "execution_count": null,
      "id": "75bb43a9",
      "metadata": {
        "tags": [],
        "id": "75bb43a9"
      },
      "outputs": [],
      "source": [
        "def classificacao_gasto(row):\n",
        "    if row < limite_inferior:\n",
        "        return 'muito abaixo da média'\n",
        "    elif row >= limite_inferior and row < primeiro_quartil:\n",
        "        return 'abaixo da média'\n",
        "    elif row >= primeiro_quartil and row <= terceiro_quartil:\n",
        "        return 'na média'\n",
        "    elif row > terceiro_quartil and row <= limite_superior:\n",
        "        return 'acima da média'\n",
        "    else:\n",
        "        return 'muito acima da média'"
      ]
    },
    {
      "cell_type": "code",
      "execution_count": null,
      "id": "ed50a728",
      "metadata": {
        "tags": [],
        "id": "ed50a728"
      },
      "outputs": [],
      "source": [
        "df_vereadores_pa['CLASSIFICACAO_GASTO_DIARIO'] = df_vereadores_pa['GASTO_DIARIO'].apply(classificacao_gasto)"
      ]
    },
    {
      "cell_type": "code",
      "execution_count": null,
      "id": "13da289a",
      "metadata": {
        "tags": [],
        "id": "13da289a",
        "outputId": "2173c40d-acee-4475-fc61-579cb15aaaea"
      },
      "outputs": [
        {
          "data": {
            "text/html": [
              "<div>\n",
              "<style scoped>\n",
              "    .dataframe tbody tr th:only-of-type {\n",
              "        vertical-align: middle;\n",
              "    }\n",
              "\n",
              "    .dataframe tbody tr th {\n",
              "        vertical-align: top;\n",
              "    }\n",
              "\n",
              "    .dataframe thead th {\n",
              "        text-align: right;\n",
              "    }\n",
              "</style>\n",
              "<table border=\"1\" class=\"dataframe\">\n",
              "  <thead>\n",
              "    <tr style=\"text-align: right;\">\n",
              "      <th></th>\n",
              "      <th>ANO_ELEICAO</th>\n",
              "      <th>TP_ABRANGENCIA</th>\n",
              "      <th>SG_UF</th>\n",
              "      <th>SG_UE</th>\n",
              "      <th>NM_UE</th>\n",
              "      <th>CD_CARGO</th>\n",
              "      <th>DS_CARGO</th>\n",
              "      <th>NR_CANDIDATO</th>\n",
              "      <th>NM_CANDIDATO</th>\n",
              "      <th>NM_URNA_CANDIDATO</th>\n",
              "      <th>...</th>\n",
              "      <th>VR_DESPESA_MAX_CAMPANHA</th>\n",
              "      <th>CD_SIT_TOT_TURNO</th>\n",
              "      <th>DS_SIT_TOT_TURNO</th>\n",
              "      <th>ST_REELEICAO</th>\n",
              "      <th>CD_SITUACAO_CANDIDATURA</th>\n",
              "      <th>DS_SITUACAO_CANDIDATURA</th>\n",
              "      <th>CD_DETALHE_SITUACAO_CAND</th>\n",
              "      <th>DS_DETALHE_SITUACAO_CAND</th>\n",
              "      <th>GASTO_DIARIO</th>\n",
              "      <th>CLASSIFICACAO_GASTO_DIARIO</th>\n",
              "    </tr>\n",
              "  </thead>\n",
              "  <tbody>\n",
              "    <tr>\n",
              "      <th>2498</th>\n",
              "      <td>2020</td>\n",
              "      <td>MUNICIPAL</td>\n",
              "      <td>PA</td>\n",
              "      <td>5851</td>\n",
              "      <td>CURIONÓPOLIS</td>\n",
              "      <td>13</td>\n",
              "      <td>VEREADOR</td>\n",
              "      <td>15999</td>\n",
              "      <td>LUCAS HENRIQUE NASCIMENTO SILVA</td>\n",
              "      <td>LUCAS MARANHENSE</td>\n",
              "      <td>...</td>\n",
              "      <td>25848.36</td>\n",
              "      <td>5</td>\n",
              "      <td>SUPLENTE</td>\n",
              "      <td>N</td>\n",
              "      <td>12</td>\n",
              "      <td>APTO</td>\n",
              "      <td>2</td>\n",
              "      <td>DEFERIDO</td>\n",
              "      <td>574.408000</td>\n",
              "      <td>na média</td>\n",
              "    </tr>\n",
              "    <tr>\n",
              "      <th>2499</th>\n",
              "      <td>2020</td>\n",
              "      <td>MUNICIPAL</td>\n",
              "      <td>PA</td>\n",
              "      <td>4472</td>\n",
              "      <td>CASTANHAL</td>\n",
              "      <td>13</td>\n",
              "      <td>VEREADOR</td>\n",
              "      <td>13535</td>\n",
              "      <td>RITA DO SOCORRO DOS SANTOS PEREIRA</td>\n",
              "      <td>DONA RITA</td>\n",
              "      <td>...</td>\n",
              "      <td>53698.78</td>\n",
              "      <td>4</td>\n",
              "      <td>NÃO ELEITO</td>\n",
              "      <td>N</td>\n",
              "      <td>12</td>\n",
              "      <td>APTO</td>\n",
              "      <td>2</td>\n",
              "      <td>DEFERIDO</td>\n",
              "      <td>1193.306222</td>\n",
              "      <td>acima da média</td>\n",
              "    </tr>\n",
              "    <tr>\n",
              "      <th>2500</th>\n",
              "      <td>2020</td>\n",
              "      <td>MUNICIPAL</td>\n",
              "      <td>PA</td>\n",
              "      <td>4278</td>\n",
              "      <td>BELÉM</td>\n",
              "      <td>13</td>\n",
              "      <td>VEREADOR</td>\n",
              "      <td>19990</td>\n",
              "      <td>MAXIMILIANO MORAES CARDOSO</td>\n",
              "      <td>NEGO DUBA</td>\n",
              "      <td>...</td>\n",
              "      <td>438043.03</td>\n",
              "      <td>5</td>\n",
              "      <td>SUPLENTE</td>\n",
              "      <td>N</td>\n",
              "      <td>12</td>\n",
              "      <td>APTO</td>\n",
              "      <td>2</td>\n",
              "      <td>DEFERIDO</td>\n",
              "      <td>9734.289556</td>\n",
              "      <td>muito acima da média</td>\n",
              "    </tr>\n",
              "    <tr>\n",
              "      <th>2501</th>\n",
              "      <td>2020</td>\n",
              "      <td>MUNICIPAL</td>\n",
              "      <td>PA</td>\n",
              "      <td>5355</td>\n",
              "      <td>SANTARÉM</td>\n",
              "      <td>13</td>\n",
              "      <td>VEREADOR</td>\n",
              "      <td>22789</td>\n",
              "      <td>JOSAFA DA COSTA GONÇALVES</td>\n",
              "      <td>PROF. JOSAFA DO SINPROSAN</td>\n",
              "      <td>...</td>\n",
              "      <td>83396.64</td>\n",
              "      <td>3</td>\n",
              "      <td>ELEITO POR MÉDIA</td>\n",
              "      <td>N</td>\n",
              "      <td>12</td>\n",
              "      <td>APTO</td>\n",
              "      <td>2</td>\n",
              "      <td>DEFERIDO</td>\n",
              "      <td>1853.258667</td>\n",
              "      <td>acima da média</td>\n",
              "    </tr>\n",
              "    <tr>\n",
              "      <th>2502</th>\n",
              "      <td>2020</td>\n",
              "      <td>MUNICIPAL</td>\n",
              "      <td>PA</td>\n",
              "      <td>4316</td>\n",
              "      <td>BONITO</td>\n",
              "      <td>13</td>\n",
              "      <td>VEREADOR</td>\n",
              "      <td>14234</td>\n",
              "      <td>EDIVALDO DA COSTA CRUZ</td>\n",
              "      <td>BOFÓ</td>\n",
              "      <td>...</td>\n",
              "      <td>12307.75</td>\n",
              "      <td>5</td>\n",
              "      <td>SUPLENTE</td>\n",
              "      <td>N</td>\n",
              "      <td>12</td>\n",
              "      <td>APTO</td>\n",
              "      <td>2</td>\n",
              "      <td>DEFERIDO</td>\n",
              "      <td>273.505556</td>\n",
              "      <td>abaixo da média</td>\n",
              "    </tr>\n",
              "  </tbody>\n",
              "</table>\n",
              "<p>5 rows × 28 columns</p>\n",
              "</div>"
            ],
            "text/plain": [
              "      ANO_ELEICAO TP_ABRANGENCIA SG_UF  SG_UE         NM_UE  CD_CARGO   \n",
              "2498         2020      MUNICIPAL    PA   5851  CURIONÓPOLIS        13  \\\n",
              "2499         2020      MUNICIPAL    PA   4472     CASTANHAL        13   \n",
              "2500         2020      MUNICIPAL    PA   4278         BELÉM        13   \n",
              "2501         2020      MUNICIPAL    PA   5355      SANTARÉM        13   \n",
              "2502         2020      MUNICIPAL    PA   4316        BONITO        13   \n",
              "\n",
              "      DS_CARGO  NR_CANDIDATO                        NM_CANDIDATO   \n",
              "2498  VEREADOR         15999     LUCAS HENRIQUE NASCIMENTO SILVA  \\\n",
              "2499  VEREADOR         13535  RITA DO SOCORRO DOS SANTOS PEREIRA   \n",
              "2500  VEREADOR         19990          MAXIMILIANO MORAES CARDOSO   \n",
              "2501  VEREADOR         22789           JOSAFA DA COSTA GONÇALVES   \n",
              "2502  VEREADOR         14234              EDIVALDO DA COSTA CRUZ   \n",
              "\n",
              "              NM_URNA_CANDIDATO  ... VR_DESPESA_MAX_CAMPANHA   \n",
              "2498           LUCAS MARANHENSE  ...                25848.36  \\\n",
              "2499                  DONA RITA  ...                53698.78   \n",
              "2500                  NEGO DUBA  ...               438043.03   \n",
              "2501  PROF. JOSAFA DO SINPROSAN  ...                83396.64   \n",
              "2502                       BOFÓ  ...                12307.75   \n",
              "\n",
              "      CD_SIT_TOT_TURNO  DS_SIT_TOT_TURNO  ST_REELEICAO   \n",
              "2498                 5          SUPLENTE             N  \\\n",
              "2499                 4        NÃO ELEITO             N   \n",
              "2500                 5          SUPLENTE             N   \n",
              "2501                 3  ELEITO POR MÉDIA             N   \n",
              "2502                 5          SUPLENTE             N   \n",
              "\n",
              "      CD_SITUACAO_CANDIDATURA DS_SITUACAO_CANDIDATURA   \n",
              "2498                       12                    APTO  \\\n",
              "2499                       12                    APTO   \n",
              "2500                       12                    APTO   \n",
              "2501                       12                    APTO   \n",
              "2502                       12                    APTO   \n",
              "\n",
              "      CD_DETALHE_SITUACAO_CAND DS_DETALHE_SITUACAO_CAND  GASTO_DIARIO   \n",
              "2498                         2                 DEFERIDO    574.408000  \\\n",
              "2499                         2                 DEFERIDO   1193.306222   \n",
              "2500                         2                 DEFERIDO   9734.289556   \n",
              "2501                         2                 DEFERIDO   1853.258667   \n",
              "2502                         2                 DEFERIDO    273.505556   \n",
              "\n",
              "      CLASSIFICACAO_GASTO_DIARIO  \n",
              "2498                    na média  \n",
              "2499              acima da média  \n",
              "2500        muito acima da média  \n",
              "2501              acima da média  \n",
              "2502             abaixo da média  \n",
              "\n",
              "[5 rows x 28 columns]"
            ]
          },
          "execution_count": 70,
          "metadata": {},
          "output_type": "execute_result"
        }
      ],
      "source": [
        "df_vereadores_pa.head()"
      ]
    },
    {
      "cell_type": "markdown",
      "id": "8b96f806",
      "metadata": {
        "id": "8b96f806"
      },
      "source": [
        "Para facilitar a visualização faremos um gráfico de barras usando a biblioteca matplotlib:"
      ]
    },
    {
      "cell_type": "code",
      "execution_count": null,
      "id": "c9d2cf02",
      "metadata": {
        "tags": [],
        "id": "c9d2cf02"
      },
      "outputs": [],
      "source": [
        "from matplotlib import pyplot as plt"
      ]
    },
    {
      "cell_type": "code",
      "execution_count": null,
      "id": "9a2afa00",
      "metadata": {
        "tags": [],
        "id": "9a2afa00"
      },
      "outputs": [],
      "source": [
        "# guarda na variável \"classificacao\" uma lista com os rótulos usados para classificar os gastos\n",
        "classificacao = df_vereadores_pa['CLASSIFICACAO_GASTO_DIARIO'].unique().tolist()"
      ]
    },
    {
      "cell_type": "code",
      "execution_count": null,
      "id": "216ca920",
      "metadata": {
        "tags": [],
        "id": "216ca920"
      },
      "outputs": [],
      "source": [
        "#guarda na variável \"total_por_classificacao\" uma lista a quantidade de ocorrência de cada rótulo\n",
        "total_por_classificacao = df_vereadores_pa['CLASSIFICACAO_GASTO_DIARIO'].value_counts().to_list()"
      ]
    },
    {
      "cell_type": "code",
      "execution_count": null,
      "id": "30b26e0c",
      "metadata": {
        "tags": [],
        "id": "30b26e0c",
        "outputId": "6a5048e2-e0f6-4789-b639-410cb4bc64d7"
      },
      "outputs": [
        {
          "name": "stderr",
          "output_type": "stream",
          "text": [
            "/tmp/ipykernel_19778/4275048101.py:5: UserWarning: Matplotlib is currently using module://matplotlib_inline.backend_inline, which is a non-GUI backend, so cannot show the figure.\n",
            "  plt.show()\n"
          ]
        }
      ],
      "source": [
        "plt.bar(classificacao, total_por_classificacao)\n",
        "plt.title('Gastos diários declarados por candidatura')\n",
        "plt.ylabel('Quantitativo de municípios por classificação')\n",
        "\n",
        "plt.show()"
      ]
    },
    {
      "cell_type": "markdown",
      "id": "827e1acf",
      "metadata": {
        "id": "827e1acf"
      },
      "source": [
        "### Aula 15: Operações com dados e método `groupby`\n",
        "\n",
        "Usando o método groupby podemos agrupar dados segundo informações de uma coluna e fazer operações com o agrupamento.\n",
        "\n",
        "As perguntas que queremos responder são: quantas mulheres são candidatas? Qual a distribuição de pessoas por grupo racial? Quantidade de mulheres por grupo racial? E qual partido tem mais mulheres em cada grupo racial?\n"
      ]
    },
    {
      "cell_type": "code",
      "execution_count": null,
      "id": "6b9b70e3",
      "metadata": {
        "tags": [],
        "id": "6b9b70e3"
      },
      "outputs": [],
      "source": [
        "colunas_desejadas = ['SG_PARTIDO', 'DS_GENERO', 'DS_COR_RACA']\n",
        "filtro = df_vereadores_ap_pa['SG_UF'] == 'AP'"
      ]
    },
    {
      "cell_type": "code",
      "execution_count": null,
      "id": "b003a30a",
      "metadata": {
        "tags": [],
        "id": "b003a30a"
      },
      "outputs": [],
      "source": [
        "df_vereadores_ap_sexo_raca = df_vereadores_ap_pa.loc[filtro, colunas_desejadas]"
      ]
    },
    {
      "cell_type": "code",
      "execution_count": null,
      "id": "a036411d",
      "metadata": {
        "tags": [],
        "id": "a036411d",
        "outputId": "46b6346a-6315-4e23-99fa-3de9ebd95461"
      },
      "outputs": [
        {
          "data": {
            "text/html": [
              "<div>\n",
              "<style scoped>\n",
              "    .dataframe tbody tr th:only-of-type {\n",
              "        vertical-align: middle;\n",
              "    }\n",
              "\n",
              "    .dataframe tbody tr th {\n",
              "        vertical-align: top;\n",
              "    }\n",
              "\n",
              "    .dataframe thead th {\n",
              "        text-align: right;\n",
              "    }\n",
              "</style>\n",
              "<table border=\"1\" class=\"dataframe\">\n",
              "  <thead>\n",
              "    <tr style=\"text-align: right;\">\n",
              "      <th></th>\n",
              "      <th>SG_PARTIDO</th>\n",
              "      <th>DS_GENERO</th>\n",
              "      <th>DS_COR_RACA</th>\n",
              "    </tr>\n",
              "  </thead>\n",
              "  <tbody>\n",
              "    <tr>\n",
              "      <th>0</th>\n",
              "      <td>PP</td>\n",
              "      <td>MASCULINO</td>\n",
              "      <td>PRETA</td>\n",
              "    </tr>\n",
              "    <tr>\n",
              "      <th>1</th>\n",
              "      <td>PT</td>\n",
              "      <td>MASCULINO</td>\n",
              "      <td>PARDA</td>\n",
              "    </tr>\n",
              "    <tr>\n",
              "      <th>2</th>\n",
              "      <td>PSD</td>\n",
              "      <td>MASCULINO</td>\n",
              "      <td>PRETA</td>\n",
              "    </tr>\n",
              "    <tr>\n",
              "      <th>4</th>\n",
              "      <td>PDT</td>\n",
              "      <td>MASCULINO</td>\n",
              "      <td>PARDA</td>\n",
              "    </tr>\n",
              "    <tr>\n",
              "      <th>5</th>\n",
              "      <td>PSL</td>\n",
              "      <td>MASCULINO</td>\n",
              "      <td>PARDA</td>\n",
              "    </tr>\n",
              "  </tbody>\n",
              "</table>\n",
              "</div>"
            ],
            "text/plain": [
              "  SG_PARTIDO  DS_GENERO DS_COR_RACA\n",
              "0         PP  MASCULINO       PRETA\n",
              "1         PT  MASCULINO       PARDA\n",
              "2        PSD  MASCULINO       PRETA\n",
              "4        PDT  MASCULINO       PARDA\n",
              "5        PSL  MASCULINO       PARDA"
            ]
          },
          "execution_count": 77,
          "metadata": {},
          "output_type": "execute_result"
        }
      ],
      "source": [
        "df_vereadores_ap_sexo_raca.head()"
      ]
    },
    {
      "cell_type": "markdown",
      "id": "9fc3e4f7",
      "metadata": {
        "id": "9fc3e4f7"
      },
      "source": [
        "Agrupando por gênero, quantas candidaturas temos em cada um?"
      ]
    },
    {
      "cell_type": "code",
      "execution_count": null,
      "id": "69e9046f",
      "metadata": {
        "tags": [],
        "id": "69e9046f",
        "outputId": "976b5d45-5b44-4cb4-af9b-93065fe3f351"
      },
      "outputs": [
        {
          "data": {
            "text/html": [
              "<div>\n",
              "<style scoped>\n",
              "    .dataframe tbody tr th:only-of-type {\n",
              "        vertical-align: middle;\n",
              "    }\n",
              "\n",
              "    .dataframe tbody tr th {\n",
              "        vertical-align: top;\n",
              "    }\n",
              "\n",
              "    .dataframe thead th {\n",
              "        text-align: right;\n",
              "    }\n",
              "</style>\n",
              "<table border=\"1\" class=\"dataframe\">\n",
              "  <thead>\n",
              "    <tr style=\"text-align: right;\">\n",
              "      <th></th>\n",
              "      <th>SG_PARTIDO</th>\n",
              "      <th>DS_COR_RACA</th>\n",
              "    </tr>\n",
              "    <tr>\n",
              "      <th>DS_GENERO</th>\n",
              "      <th></th>\n",
              "      <th></th>\n",
              "    </tr>\n",
              "  </thead>\n",
              "  <tbody>\n",
              "    <tr>\n",
              "      <th>FEMININO</th>\n",
              "      <td>765</td>\n",
              "      <td>765</td>\n",
              "    </tr>\n",
              "    <tr>\n",
              "      <th>MASCULINO</th>\n",
              "      <td>1349</td>\n",
              "      <td>1349</td>\n",
              "    </tr>\n",
              "  </tbody>\n",
              "</table>\n",
              "</div>"
            ],
            "text/plain": [
              "           SG_PARTIDO  DS_COR_RACA\n",
              "DS_GENERO                         \n",
              "FEMININO          765          765\n",
              "MASCULINO        1349         1349"
            ]
          },
          "execution_count": 78,
          "metadata": {},
          "output_type": "execute_result"
        }
      ],
      "source": [
        "df_vereadores_ap_sexo_raca.groupby(['DS_GENERO']).count()"
      ]
    },
    {
      "cell_type": "markdown",
      "id": "2f01e94e",
      "metadata": {
        "id": "2f01e94e"
      },
      "source": [
        "E por raça?"
      ]
    },
    {
      "cell_type": "code",
      "execution_count": null,
      "id": "3f5cefbc",
      "metadata": {
        "tags": [],
        "id": "3f5cefbc",
        "outputId": "1fda6fad-0a9c-40d6-e367-6804f9a4a6c3"
      },
      "outputs": [
        {
          "data": {
            "text/html": [
              "<div>\n",
              "<style scoped>\n",
              "    .dataframe tbody tr th:only-of-type {\n",
              "        vertical-align: middle;\n",
              "    }\n",
              "\n",
              "    .dataframe tbody tr th {\n",
              "        vertical-align: top;\n",
              "    }\n",
              "\n",
              "    .dataframe thead th {\n",
              "        text-align: right;\n",
              "    }\n",
              "</style>\n",
              "<table border=\"1\" class=\"dataframe\">\n",
              "  <thead>\n",
              "    <tr style=\"text-align: right;\">\n",
              "      <th></th>\n",
              "      <th>SG_PARTIDO</th>\n",
              "      <th>DS_GENERO</th>\n",
              "    </tr>\n",
              "    <tr>\n",
              "      <th>DS_COR_RACA</th>\n",
              "      <th></th>\n",
              "      <th></th>\n",
              "    </tr>\n",
              "  </thead>\n",
              "  <tbody>\n",
              "    <tr>\n",
              "      <th>AMARELA</th>\n",
              "      <td>3</td>\n",
              "      <td>3</td>\n",
              "    </tr>\n",
              "    <tr>\n",
              "      <th>BRANCA</th>\n",
              "      <td>300</td>\n",
              "      <td>300</td>\n",
              "    </tr>\n",
              "    <tr>\n",
              "      <th>INDÍGENA</th>\n",
              "      <td>22</td>\n",
              "      <td>22</td>\n",
              "    </tr>\n",
              "    <tr>\n",
              "      <th>NÃO INFORMADO</th>\n",
              "      <td>4</td>\n",
              "      <td>4</td>\n",
              "    </tr>\n",
              "    <tr>\n",
              "      <th>PARDA</th>\n",
              "      <td>1544</td>\n",
              "      <td>1544</td>\n",
              "    </tr>\n",
              "    <tr>\n",
              "      <th>PRETA</th>\n",
              "      <td>241</td>\n",
              "      <td>241</td>\n",
              "    </tr>\n",
              "  </tbody>\n",
              "</table>\n",
              "</div>"
            ],
            "text/plain": [
              "               SG_PARTIDO  DS_GENERO\n",
              "DS_COR_RACA                         \n",
              "AMARELA                 3          3\n",
              "BRANCA                300        300\n",
              "INDÍGENA               22         22\n",
              "NÃO INFORMADO           4          4\n",
              "PARDA                1544       1544\n",
              "PRETA                 241        241"
            ]
          },
          "execution_count": 79,
          "metadata": {},
          "output_type": "execute_result"
        }
      ],
      "source": [
        "df_vereadores_ap_sexo_raca.groupby(['DS_COR_RACA']).count()"
      ]
    },
    {
      "cell_type": "markdown",
      "id": "6347022c",
      "metadata": {
        "id": "6347022c"
      },
      "source": [
        "Da candidaturas do gênero feminino, quantas temos em cada grupo racial?"
      ]
    },
    {
      "cell_type": "code",
      "execution_count": null,
      "id": "0ebe9c99",
      "metadata": {
        "tags": [],
        "id": "0ebe9c99",
        "outputId": "4cd36ec5-ecc3-4c96-e7bc-2e0a20c28bf2"
      },
      "outputs": [
        {
          "data": {
            "text/html": [
              "<div>\n",
              "<style scoped>\n",
              "    .dataframe tbody tr th:only-of-type {\n",
              "        vertical-align: middle;\n",
              "    }\n",
              "\n",
              "    .dataframe tbody tr th {\n",
              "        vertical-align: top;\n",
              "    }\n",
              "\n",
              "    .dataframe thead th {\n",
              "        text-align: right;\n",
              "    }\n",
              "</style>\n",
              "<table border=\"1\" class=\"dataframe\">\n",
              "  <thead>\n",
              "    <tr style=\"text-align: right;\">\n",
              "      <th></th>\n",
              "      <th></th>\n",
              "      <th>SG_PARTIDO</th>\n",
              "    </tr>\n",
              "    <tr>\n",
              "      <th>DS_GENERO</th>\n",
              "      <th>DS_COR_RACA</th>\n",
              "      <th></th>\n",
              "    </tr>\n",
              "  </thead>\n",
              "  <tbody>\n",
              "    <tr>\n",
              "      <th rowspan=\"6\" valign=\"top\">FEMININO</th>\n",
              "      <th>AMARELA</th>\n",
              "      <td>2</td>\n",
              "    </tr>\n",
              "    <tr>\n",
              "      <th>BRANCA</th>\n",
              "      <td>103</td>\n",
              "    </tr>\n",
              "    <tr>\n",
              "      <th>INDÍGENA</th>\n",
              "      <td>5</td>\n",
              "    </tr>\n",
              "    <tr>\n",
              "      <th>NÃO INFORMADO</th>\n",
              "      <td>1</td>\n",
              "    </tr>\n",
              "    <tr>\n",
              "      <th>PARDA</th>\n",
              "      <td>575</td>\n",
              "    </tr>\n",
              "    <tr>\n",
              "      <th>PRETA</th>\n",
              "      <td>79</td>\n",
              "    </tr>\n",
              "  </tbody>\n",
              "</table>\n",
              "</div>"
            ],
            "text/plain": [
              "                         SG_PARTIDO\n",
              "DS_GENERO DS_COR_RACA              \n",
              "FEMININO  AMARELA                 2\n",
              "          BRANCA                103\n",
              "          INDÍGENA                5\n",
              "          NÃO INFORMADO           1\n",
              "          PARDA                 575\n",
              "          PRETA                  79"
            ]
          },
          "execution_count": 80,
          "metadata": {},
          "output_type": "execute_result"
        }
      ],
      "source": [
        "df_vereadores_ap_sexo_raca[df_vereadores_ap_sexo_raca['DS_GENERO'] == 'FEMININO'].groupby(\n",
        "    ['DS_GENERO', 'DS_COR_RACA']).count()"
      ]
    },
    {
      "cell_type": "markdown",
      "id": "be3ec27a",
      "metadata": {
        "id": "be3ec27a"
      },
      "source": [
        "Entre as candidaturas do gênero feminino, quais os partidos com maior número de representação em cada grupo racial?"
      ]
    },
    {
      "cell_type": "code",
      "execution_count": null,
      "id": "65e886b4",
      "metadata": {
        "tags": [],
        "id": "65e886b4",
        "outputId": "7afbfb48-041f-42b5-ed32-b1dfdebdbb83"
      },
      "outputs": [
        {
          "data": {
            "text/html": [
              "<div>\n",
              "<style scoped>\n",
              "    .dataframe tbody tr th:only-of-type {\n",
              "        vertical-align: middle;\n",
              "    }\n",
              "\n",
              "    .dataframe tbody tr th {\n",
              "        vertical-align: top;\n",
              "    }\n",
              "\n",
              "    .dataframe thead th {\n",
              "        text-align: right;\n",
              "    }\n",
              "</style>\n",
              "<table border=\"1\" class=\"dataframe\">\n",
              "  <thead>\n",
              "    <tr style=\"text-align: right;\">\n",
              "      <th></th>\n",
              "      <th></th>\n",
              "      <th>SG_PARTIDO</th>\n",
              "    </tr>\n",
              "    <tr>\n",
              "      <th>DS_GENERO</th>\n",
              "      <th>DS_COR_RACA</th>\n",
              "      <th></th>\n",
              "    </tr>\n",
              "  </thead>\n",
              "  <tbody>\n",
              "    <tr>\n",
              "      <th rowspan=\"6\" valign=\"top\">FEMININO</th>\n",
              "      <th>AMARELA</th>\n",
              "      <td>PTB</td>\n",
              "    </tr>\n",
              "    <tr>\n",
              "      <th>BRANCA</th>\n",
              "      <td>SOLIDARIEDADE</td>\n",
              "    </tr>\n",
              "    <tr>\n",
              "      <th>INDÍGENA</th>\n",
              "      <td>REPUBLICANOS</td>\n",
              "    </tr>\n",
              "    <tr>\n",
              "      <th>NÃO INFORMADO</th>\n",
              "      <td>PDT</td>\n",
              "    </tr>\n",
              "    <tr>\n",
              "      <th>PARDA</th>\n",
              "      <td>SOLIDARIEDADE</td>\n",
              "    </tr>\n",
              "    <tr>\n",
              "      <th>PRETA</th>\n",
              "      <td>REPUBLICANOS</td>\n",
              "    </tr>\n",
              "  </tbody>\n",
              "</table>\n",
              "</div>"
            ],
            "text/plain": [
              "                            SG_PARTIDO\n",
              "DS_GENERO DS_COR_RACA                 \n",
              "FEMININO  AMARELA                  PTB\n",
              "          BRANCA         SOLIDARIEDADE\n",
              "          INDÍGENA        REPUBLICANOS\n",
              "          NÃO INFORMADO            PDT\n",
              "          PARDA          SOLIDARIEDADE\n",
              "          PRETA           REPUBLICANOS"
            ]
          },
          "execution_count": 81,
          "metadata": {},
          "output_type": "execute_result"
        }
      ],
      "source": [
        "df_vereadores_ap_sexo_raca[df_vereadores_ap_sexo_raca['DS_GENERO'] == 'FEMININO'].groupby(\n",
        "    ['DS_GENERO', 'DS_COR_RACA']).max()"
      ]
    },
    {
      "cell_type": "markdown",
      "id": "c3522222",
      "metadata": {
        "id": "c3522222"
      },
      "source": [
        "## Agora é a sua vez, entre as candidaturas do sexo masculino, quais os partidos com o menor número de representantes em cada grupo racial?"
      ]
    },
    {
      "cell_type": "code",
      "execution_count": null,
      "id": "b32635b9",
      "metadata": {
        "id": "b32635b9"
      },
      "outputs": [],
      "source": []
    }
  ],
  "metadata": {
    "kernelspec": {
      "display_name": "Python 3 (ipykernel)",
      "language": "python",
      "name": "python3"
    },
    "language_info": {
      "codemirror_mode": {
        "name": "ipython",
        "version": 3
      },
      "file_extension": ".py",
      "mimetype": "text/x-python",
      "name": "python",
      "nbconvert_exporter": "python",
      "pygments_lexer": "ipython3",
      "version": "3.10.6"
    },
    "colab": {
      "provenance": []
    },
    "widgets": {
      "application/vnd.jupyter.widget-state+json": {
        "b5f95bf9f8aa4177be36243b5308ac7f": {
          "model_module": "@jupyter-widgets/controls",
          "model_name": "HBoxModel",
          "model_module_version": "1.5.0",
          "state": {
            "_dom_classes": [],
            "_model_module": "@jupyter-widgets/controls",
            "_model_module_version": "1.5.0",
            "_model_name": "HBoxModel",
            "_view_count": null,
            "_view_module": "@jupyter-widgets/controls",
            "_view_module_version": "1.5.0",
            "_view_name": "HBoxView",
            "box_style": "",
            "children": [
              "IPY_MODEL_d4b19619fc8b4566a68dc3bd05561a96",
              "IPY_MODEL_eaef90bcc7d6475c9b2c7e0f0f12f979",
              "IPY_MODEL_3e0688846a8b4d868b9cecd92ddd74c9"
            ],
            "layout": "IPY_MODEL_244df2f5b64646bc8551eb6f582cb3c8"
          }
        },
        "d4b19619fc8b4566a68dc3bd05561a96": {
          "model_module": "@jupyter-widgets/controls",
          "model_name": "HTMLModel",
          "model_module_version": "1.5.0",
          "state": {
            "_dom_classes": [],
            "_model_module": "@jupyter-widgets/controls",
            "_model_module_version": "1.5.0",
            "_model_name": "HTMLModel",
            "_view_count": null,
            "_view_module": "@jupyter-widgets/controls",
            "_view_module_version": "1.5.0",
            "_view_name": "HTMLView",
            "description": "",
            "description_tooltip": null,
            "layout": "IPY_MODEL_32b35dd4993648018a57612e9c0a2dff",
            "placeholder": "​",
            "style": "IPY_MODEL_f4661c97613f49a6aca47e909fa0718a",
            "value": "Summarize dataset: 100%"
          }
        },
        "eaef90bcc7d6475c9b2c7e0f0f12f979": {
          "model_module": "@jupyter-widgets/controls",
          "model_name": "FloatProgressModel",
          "model_module_version": "1.5.0",
          "state": {
            "_dom_classes": [],
            "_model_module": "@jupyter-widgets/controls",
            "_model_module_version": "1.5.0",
            "_model_name": "FloatProgressModel",
            "_view_count": null,
            "_view_module": "@jupyter-widgets/controls",
            "_view_module_version": "1.5.0",
            "_view_name": "ProgressView",
            "bar_style": "success",
            "description": "",
            "description_tooltip": null,
            "layout": "IPY_MODEL_f21fcac2074648cc949cc562582cc961",
            "max": 5,
            "min": 0,
            "orientation": "horizontal",
            "style": "IPY_MODEL_46148a5f0ab24ca4918a311b89e9a197",
            "value": 5
          }
        },
        "3e0688846a8b4d868b9cecd92ddd74c9": {
          "model_module": "@jupyter-widgets/controls",
          "model_name": "HTMLModel",
          "model_module_version": "1.5.0",
          "state": {
            "_dom_classes": [],
            "_model_module": "@jupyter-widgets/controls",
            "_model_module_version": "1.5.0",
            "_model_name": "HTMLModel",
            "_view_count": null,
            "_view_module": "@jupyter-widgets/controls",
            "_view_module_version": "1.5.0",
            "_view_name": "HTMLView",
            "description": "",
            "description_tooltip": null,
            "layout": "IPY_MODEL_efdfb479b64e4d548a8ec2123828c7a9",
            "placeholder": "​",
            "style": "IPY_MODEL_bb87f7a7e6224b24a714006984082663",
            "value": " 405/405 [02:17&lt;00:00,  2.08it/s, Completed]"
          }
        },
        "244df2f5b64646bc8551eb6f582cb3c8": {
          "model_module": "@jupyter-widgets/base",
          "model_name": "LayoutModel",
          "model_module_version": "1.2.0",
          "state": {
            "_model_module": "@jupyter-widgets/base",
            "_model_module_version": "1.2.0",
            "_model_name": "LayoutModel",
            "_view_count": null,
            "_view_module": "@jupyter-widgets/base",
            "_view_module_version": "1.2.0",
            "_view_name": "LayoutView",
            "align_content": null,
            "align_items": null,
            "align_self": null,
            "border": null,
            "bottom": null,
            "display": null,
            "flex": null,
            "flex_flow": null,
            "grid_area": null,
            "grid_auto_columns": null,
            "grid_auto_flow": null,
            "grid_auto_rows": null,
            "grid_column": null,
            "grid_gap": null,
            "grid_row": null,
            "grid_template_areas": null,
            "grid_template_columns": null,
            "grid_template_rows": null,
            "height": null,
            "justify_content": null,
            "justify_items": null,
            "left": null,
            "margin": null,
            "max_height": null,
            "max_width": null,
            "min_height": null,
            "min_width": null,
            "object_fit": null,
            "object_position": null,
            "order": null,
            "overflow": null,
            "overflow_x": null,
            "overflow_y": null,
            "padding": null,
            "right": null,
            "top": null,
            "visibility": null,
            "width": null
          }
        },
        "32b35dd4993648018a57612e9c0a2dff": {
          "model_module": "@jupyter-widgets/base",
          "model_name": "LayoutModel",
          "model_module_version": "1.2.0",
          "state": {
            "_model_module": "@jupyter-widgets/base",
            "_model_module_version": "1.2.0",
            "_model_name": "LayoutModel",
            "_view_count": null,
            "_view_module": "@jupyter-widgets/base",
            "_view_module_version": "1.2.0",
            "_view_name": "LayoutView",
            "align_content": null,
            "align_items": null,
            "align_self": null,
            "border": null,
            "bottom": null,
            "display": null,
            "flex": null,
            "flex_flow": null,
            "grid_area": null,
            "grid_auto_columns": null,
            "grid_auto_flow": null,
            "grid_auto_rows": null,
            "grid_column": null,
            "grid_gap": null,
            "grid_row": null,
            "grid_template_areas": null,
            "grid_template_columns": null,
            "grid_template_rows": null,
            "height": null,
            "justify_content": null,
            "justify_items": null,
            "left": null,
            "margin": null,
            "max_height": null,
            "max_width": null,
            "min_height": null,
            "min_width": null,
            "object_fit": null,
            "object_position": null,
            "order": null,
            "overflow": null,
            "overflow_x": null,
            "overflow_y": null,
            "padding": null,
            "right": null,
            "top": null,
            "visibility": null,
            "width": null
          }
        },
        "f4661c97613f49a6aca47e909fa0718a": {
          "model_module": "@jupyter-widgets/controls",
          "model_name": "DescriptionStyleModel",
          "model_module_version": "1.5.0",
          "state": {
            "_model_module": "@jupyter-widgets/controls",
            "_model_module_version": "1.5.0",
            "_model_name": "DescriptionStyleModel",
            "_view_count": null,
            "_view_module": "@jupyter-widgets/base",
            "_view_module_version": "1.2.0",
            "_view_name": "StyleView",
            "description_width": ""
          }
        },
        "f21fcac2074648cc949cc562582cc961": {
          "model_module": "@jupyter-widgets/base",
          "model_name": "LayoutModel",
          "model_module_version": "1.2.0",
          "state": {
            "_model_module": "@jupyter-widgets/base",
            "_model_module_version": "1.2.0",
            "_model_name": "LayoutModel",
            "_view_count": null,
            "_view_module": "@jupyter-widgets/base",
            "_view_module_version": "1.2.0",
            "_view_name": "LayoutView",
            "align_content": null,
            "align_items": null,
            "align_self": null,
            "border": null,
            "bottom": null,
            "display": null,
            "flex": null,
            "flex_flow": null,
            "grid_area": null,
            "grid_auto_columns": null,
            "grid_auto_flow": null,
            "grid_auto_rows": null,
            "grid_column": null,
            "grid_gap": null,
            "grid_row": null,
            "grid_template_areas": null,
            "grid_template_columns": null,
            "grid_template_rows": null,
            "height": null,
            "justify_content": null,
            "justify_items": null,
            "left": null,
            "margin": null,
            "max_height": null,
            "max_width": null,
            "min_height": null,
            "min_width": null,
            "object_fit": null,
            "object_position": null,
            "order": null,
            "overflow": null,
            "overflow_x": null,
            "overflow_y": null,
            "padding": null,
            "right": null,
            "top": null,
            "visibility": null,
            "width": null
          }
        },
        "46148a5f0ab24ca4918a311b89e9a197": {
          "model_module": "@jupyter-widgets/controls",
          "model_name": "ProgressStyleModel",
          "model_module_version": "1.5.0",
          "state": {
            "_model_module": "@jupyter-widgets/controls",
            "_model_module_version": "1.5.0",
            "_model_name": "ProgressStyleModel",
            "_view_count": null,
            "_view_module": "@jupyter-widgets/base",
            "_view_module_version": "1.2.0",
            "_view_name": "StyleView",
            "bar_color": null,
            "description_width": ""
          }
        },
        "efdfb479b64e4d548a8ec2123828c7a9": {
          "model_module": "@jupyter-widgets/base",
          "model_name": "LayoutModel",
          "model_module_version": "1.2.0",
          "state": {
            "_model_module": "@jupyter-widgets/base",
            "_model_module_version": "1.2.0",
            "_model_name": "LayoutModel",
            "_view_count": null,
            "_view_module": "@jupyter-widgets/base",
            "_view_module_version": "1.2.0",
            "_view_name": "LayoutView",
            "align_content": null,
            "align_items": null,
            "align_self": null,
            "border": null,
            "bottom": null,
            "display": null,
            "flex": null,
            "flex_flow": null,
            "grid_area": null,
            "grid_auto_columns": null,
            "grid_auto_flow": null,
            "grid_auto_rows": null,
            "grid_column": null,
            "grid_gap": null,
            "grid_row": null,
            "grid_template_areas": null,
            "grid_template_columns": null,
            "grid_template_rows": null,
            "height": null,
            "justify_content": null,
            "justify_items": null,
            "left": null,
            "margin": null,
            "max_height": null,
            "max_width": null,
            "min_height": null,
            "min_width": null,
            "object_fit": null,
            "object_position": null,
            "order": null,
            "overflow": null,
            "overflow_x": null,
            "overflow_y": null,
            "padding": null,
            "right": null,
            "top": null,
            "visibility": null,
            "width": null
          }
        },
        "bb87f7a7e6224b24a714006984082663": {
          "model_module": "@jupyter-widgets/controls",
          "model_name": "DescriptionStyleModel",
          "model_module_version": "1.5.0",
          "state": {
            "_model_module": "@jupyter-widgets/controls",
            "_model_module_version": "1.5.0",
            "_model_name": "DescriptionStyleModel",
            "_view_count": null,
            "_view_module": "@jupyter-widgets/base",
            "_view_module_version": "1.2.0",
            "_view_name": "StyleView",
            "description_width": ""
          }
        },
        "77d25b1df7b74864b0d5f060fb9860ef": {
          "model_module": "@jupyter-widgets/controls",
          "model_name": "HBoxModel",
          "model_module_version": "1.5.0",
          "state": {
            "_dom_classes": [],
            "_model_module": "@jupyter-widgets/controls",
            "_model_module_version": "1.5.0",
            "_model_name": "HBoxModel",
            "_view_count": null,
            "_view_module": "@jupyter-widgets/controls",
            "_view_module_version": "1.5.0",
            "_view_name": "HBoxView",
            "box_style": "",
            "children": [
              "IPY_MODEL_675bc562731342c88f58281c63d410fe",
              "IPY_MODEL_7a929b45a9f04394abe745bbca2d7b6e",
              "IPY_MODEL_dbf41ba8ae064ac98fe858c7ffd9f239"
            ],
            "layout": "IPY_MODEL_187efe73784d4ff3aed4338bd188a025"
          }
        },
        "675bc562731342c88f58281c63d410fe": {
          "model_module": "@jupyter-widgets/controls",
          "model_name": "HTMLModel",
          "model_module_version": "1.5.0",
          "state": {
            "_dom_classes": [],
            "_model_module": "@jupyter-widgets/controls",
            "_model_module_version": "1.5.0",
            "_model_name": "HTMLModel",
            "_view_count": null,
            "_view_module": "@jupyter-widgets/controls",
            "_view_module_version": "1.5.0",
            "_view_name": "HTMLView",
            "description": "",
            "description_tooltip": null,
            "layout": "IPY_MODEL_998a4c5481134f0399b8883922c30505",
            "placeholder": "​",
            "style": "IPY_MODEL_fa2cbe37bf7d49cbb6d9fea2f3a63199",
            "value": "Generate report structure: 100%"
          }
        },
        "7a929b45a9f04394abe745bbca2d7b6e": {
          "model_module": "@jupyter-widgets/controls",
          "model_name": "FloatProgressModel",
          "model_module_version": "1.5.0",
          "state": {
            "_dom_classes": [],
            "_model_module": "@jupyter-widgets/controls",
            "_model_module_version": "1.5.0",
            "_model_name": "FloatProgressModel",
            "_view_count": null,
            "_view_module": "@jupyter-widgets/controls",
            "_view_module_version": "1.5.0",
            "_view_name": "ProgressView",
            "bar_style": "success",
            "description": "",
            "description_tooltip": null,
            "layout": "IPY_MODEL_4d66b6ff46cd4840b955d2730ecc8830",
            "max": 1,
            "min": 0,
            "orientation": "horizontal",
            "style": "IPY_MODEL_cc890b4bbcd94994bbad9f0e63236000",
            "value": 1
          }
        },
        "dbf41ba8ae064ac98fe858c7ffd9f239": {
          "model_module": "@jupyter-widgets/controls",
          "model_name": "HTMLModel",
          "model_module_version": "1.5.0",
          "state": {
            "_dom_classes": [],
            "_model_module": "@jupyter-widgets/controls",
            "_model_module_version": "1.5.0",
            "_model_name": "HTMLModel",
            "_view_count": null,
            "_view_module": "@jupyter-widgets/controls",
            "_view_module_version": "1.5.0",
            "_view_name": "HTMLView",
            "description": "",
            "description_tooltip": null,
            "layout": "IPY_MODEL_1609362477c24643ae22f46f72aa2077",
            "placeholder": "​",
            "style": "IPY_MODEL_8564e57b942048d2a3e421b031ab7710",
            "value": " 1/1 [00:44&lt;00:00, 44.54s/it]"
          }
        },
        "187efe73784d4ff3aed4338bd188a025": {
          "model_module": "@jupyter-widgets/base",
          "model_name": "LayoutModel",
          "model_module_version": "1.2.0",
          "state": {
            "_model_module": "@jupyter-widgets/base",
            "_model_module_version": "1.2.0",
            "_model_name": "LayoutModel",
            "_view_count": null,
            "_view_module": "@jupyter-widgets/base",
            "_view_module_version": "1.2.0",
            "_view_name": "LayoutView",
            "align_content": null,
            "align_items": null,
            "align_self": null,
            "border": null,
            "bottom": null,
            "display": null,
            "flex": null,
            "flex_flow": null,
            "grid_area": null,
            "grid_auto_columns": null,
            "grid_auto_flow": null,
            "grid_auto_rows": null,
            "grid_column": null,
            "grid_gap": null,
            "grid_row": null,
            "grid_template_areas": null,
            "grid_template_columns": null,
            "grid_template_rows": null,
            "height": null,
            "justify_content": null,
            "justify_items": null,
            "left": null,
            "margin": null,
            "max_height": null,
            "max_width": null,
            "min_height": null,
            "min_width": null,
            "object_fit": null,
            "object_position": null,
            "order": null,
            "overflow": null,
            "overflow_x": null,
            "overflow_y": null,
            "padding": null,
            "right": null,
            "top": null,
            "visibility": null,
            "width": null
          }
        },
        "998a4c5481134f0399b8883922c30505": {
          "model_module": "@jupyter-widgets/base",
          "model_name": "LayoutModel",
          "model_module_version": "1.2.0",
          "state": {
            "_model_module": "@jupyter-widgets/base",
            "_model_module_version": "1.2.0",
            "_model_name": "LayoutModel",
            "_view_count": null,
            "_view_module": "@jupyter-widgets/base",
            "_view_module_version": "1.2.0",
            "_view_name": "LayoutView",
            "align_content": null,
            "align_items": null,
            "align_self": null,
            "border": null,
            "bottom": null,
            "display": null,
            "flex": null,
            "flex_flow": null,
            "grid_area": null,
            "grid_auto_columns": null,
            "grid_auto_flow": null,
            "grid_auto_rows": null,
            "grid_column": null,
            "grid_gap": null,
            "grid_row": null,
            "grid_template_areas": null,
            "grid_template_columns": null,
            "grid_template_rows": null,
            "height": null,
            "justify_content": null,
            "justify_items": null,
            "left": null,
            "margin": null,
            "max_height": null,
            "max_width": null,
            "min_height": null,
            "min_width": null,
            "object_fit": null,
            "object_position": null,
            "order": null,
            "overflow": null,
            "overflow_x": null,
            "overflow_y": null,
            "padding": null,
            "right": null,
            "top": null,
            "visibility": null,
            "width": null
          }
        },
        "fa2cbe37bf7d49cbb6d9fea2f3a63199": {
          "model_module": "@jupyter-widgets/controls",
          "model_name": "DescriptionStyleModel",
          "model_module_version": "1.5.0",
          "state": {
            "_model_module": "@jupyter-widgets/controls",
            "_model_module_version": "1.5.0",
            "_model_name": "DescriptionStyleModel",
            "_view_count": null,
            "_view_module": "@jupyter-widgets/base",
            "_view_module_version": "1.2.0",
            "_view_name": "StyleView",
            "description_width": ""
          }
        },
        "4d66b6ff46cd4840b955d2730ecc8830": {
          "model_module": "@jupyter-widgets/base",
          "model_name": "LayoutModel",
          "model_module_version": "1.2.0",
          "state": {
            "_model_module": "@jupyter-widgets/base",
            "_model_module_version": "1.2.0",
            "_model_name": "LayoutModel",
            "_view_count": null,
            "_view_module": "@jupyter-widgets/base",
            "_view_module_version": "1.2.0",
            "_view_name": "LayoutView",
            "align_content": null,
            "align_items": null,
            "align_self": null,
            "border": null,
            "bottom": null,
            "display": null,
            "flex": null,
            "flex_flow": null,
            "grid_area": null,
            "grid_auto_columns": null,
            "grid_auto_flow": null,
            "grid_auto_rows": null,
            "grid_column": null,
            "grid_gap": null,
            "grid_row": null,
            "grid_template_areas": null,
            "grid_template_columns": null,
            "grid_template_rows": null,
            "height": null,
            "justify_content": null,
            "justify_items": null,
            "left": null,
            "margin": null,
            "max_height": null,
            "max_width": null,
            "min_height": null,
            "min_width": null,
            "object_fit": null,
            "object_position": null,
            "order": null,
            "overflow": null,
            "overflow_x": null,
            "overflow_y": null,
            "padding": null,
            "right": null,
            "top": null,
            "visibility": null,
            "width": null
          }
        },
        "cc890b4bbcd94994bbad9f0e63236000": {
          "model_module": "@jupyter-widgets/controls",
          "model_name": "ProgressStyleModel",
          "model_module_version": "1.5.0",
          "state": {
            "_model_module": "@jupyter-widgets/controls",
            "_model_module_version": "1.5.0",
            "_model_name": "ProgressStyleModel",
            "_view_count": null,
            "_view_module": "@jupyter-widgets/base",
            "_view_module_version": "1.2.0",
            "_view_name": "StyleView",
            "bar_color": null,
            "description_width": ""
          }
        },
        "1609362477c24643ae22f46f72aa2077": {
          "model_module": "@jupyter-widgets/base",
          "model_name": "LayoutModel",
          "model_module_version": "1.2.0",
          "state": {
            "_model_module": "@jupyter-widgets/base",
            "_model_module_version": "1.2.0",
            "_model_name": "LayoutModel",
            "_view_count": null,
            "_view_module": "@jupyter-widgets/base",
            "_view_module_version": "1.2.0",
            "_view_name": "LayoutView",
            "align_content": null,
            "align_items": null,
            "align_self": null,
            "border": null,
            "bottom": null,
            "display": null,
            "flex": null,
            "flex_flow": null,
            "grid_area": null,
            "grid_auto_columns": null,
            "grid_auto_flow": null,
            "grid_auto_rows": null,
            "grid_column": null,
            "grid_gap": null,
            "grid_row": null,
            "grid_template_areas": null,
            "grid_template_columns": null,
            "grid_template_rows": null,
            "height": null,
            "justify_content": null,
            "justify_items": null,
            "left": null,
            "margin": null,
            "max_height": null,
            "max_width": null,
            "min_height": null,
            "min_width": null,
            "object_fit": null,
            "object_position": null,
            "order": null,
            "overflow": null,
            "overflow_x": null,
            "overflow_y": null,
            "padding": null,
            "right": null,
            "top": null,
            "visibility": null,
            "width": null
          }
        },
        "8564e57b942048d2a3e421b031ab7710": {
          "model_module": "@jupyter-widgets/controls",
          "model_name": "DescriptionStyleModel",
          "model_module_version": "1.5.0",
          "state": {
            "_model_module": "@jupyter-widgets/controls",
            "_model_module_version": "1.5.0",
            "_model_name": "DescriptionStyleModel",
            "_view_count": null,
            "_view_module": "@jupyter-widgets/base",
            "_view_module_version": "1.2.0",
            "_view_name": "StyleView",
            "description_width": ""
          }
        },
        "f8b3189813a745c19c2b73b1aae65839": {
          "model_module": "@jupyter-widgets/controls",
          "model_name": "HBoxModel",
          "model_module_version": "1.5.0",
          "state": {
            "_dom_classes": [],
            "_model_module": "@jupyter-widgets/controls",
            "_model_module_version": "1.5.0",
            "_model_name": "HBoxModel",
            "_view_count": null,
            "_view_module": "@jupyter-widgets/controls",
            "_view_module_version": "1.5.0",
            "_view_name": "HBoxView",
            "box_style": "",
            "children": [
              "IPY_MODEL_8e3390a70e59418cb7a2b14ed1133340",
              "IPY_MODEL_9c843effdc994226b4bb85001cdac89a",
              "IPY_MODEL_dd8a22c30cb648209aa89d95dc684c17"
            ],
            "layout": "IPY_MODEL_c15b9dd8c3cf4f1aa9a8ada30b493ad8"
          }
        },
        "8e3390a70e59418cb7a2b14ed1133340": {
          "model_module": "@jupyter-widgets/controls",
          "model_name": "HTMLModel",
          "model_module_version": "1.5.0",
          "state": {
            "_dom_classes": [],
            "_model_module": "@jupyter-widgets/controls",
            "_model_module_version": "1.5.0",
            "_model_name": "HTMLModel",
            "_view_count": null,
            "_view_module": "@jupyter-widgets/controls",
            "_view_module_version": "1.5.0",
            "_view_name": "HTMLView",
            "description": "",
            "description_tooltip": null,
            "layout": "IPY_MODEL_c3ab093706014da79d416b4dfa02c31b",
            "placeholder": "​",
            "style": "IPY_MODEL_bfb5a95d767b47f280794bd781dd19cd",
            "value": "Render HTML: 100%"
          }
        },
        "9c843effdc994226b4bb85001cdac89a": {
          "model_module": "@jupyter-widgets/controls",
          "model_name": "FloatProgressModel",
          "model_module_version": "1.5.0",
          "state": {
            "_dom_classes": [],
            "_model_module": "@jupyter-widgets/controls",
            "_model_module_version": "1.5.0",
            "_model_name": "FloatProgressModel",
            "_view_count": null,
            "_view_module": "@jupyter-widgets/controls",
            "_view_module_version": "1.5.0",
            "_view_name": "ProgressView",
            "bar_style": "success",
            "description": "",
            "description_tooltip": null,
            "layout": "IPY_MODEL_66cf85f1d1be47d6b7781b8e78e14a09",
            "max": 1,
            "min": 0,
            "orientation": "horizontal",
            "style": "IPY_MODEL_05ce03295f53476492e84e98ab59ffdc",
            "value": 1
          }
        },
        "dd8a22c30cb648209aa89d95dc684c17": {
          "model_module": "@jupyter-widgets/controls",
          "model_name": "HTMLModel",
          "model_module_version": "1.5.0",
          "state": {
            "_dom_classes": [],
            "_model_module": "@jupyter-widgets/controls",
            "_model_module_version": "1.5.0",
            "_model_name": "HTMLModel",
            "_view_count": null,
            "_view_module": "@jupyter-widgets/controls",
            "_view_module_version": "1.5.0",
            "_view_name": "HTMLView",
            "description": "",
            "description_tooltip": null,
            "layout": "IPY_MODEL_da309faf676a444695f65254ace70ed1",
            "placeholder": "​",
            "style": "IPY_MODEL_4d0af096196f4b25abda2a4c1fe54314",
            "value": " 1/1 [00:15&lt;00:00, 15.09s/it]"
          }
        },
        "c15b9dd8c3cf4f1aa9a8ada30b493ad8": {
          "model_module": "@jupyter-widgets/base",
          "model_name": "LayoutModel",
          "model_module_version": "1.2.0",
          "state": {
            "_model_module": "@jupyter-widgets/base",
            "_model_module_version": "1.2.0",
            "_model_name": "LayoutModel",
            "_view_count": null,
            "_view_module": "@jupyter-widgets/base",
            "_view_module_version": "1.2.0",
            "_view_name": "LayoutView",
            "align_content": null,
            "align_items": null,
            "align_self": null,
            "border": null,
            "bottom": null,
            "display": null,
            "flex": null,
            "flex_flow": null,
            "grid_area": null,
            "grid_auto_columns": null,
            "grid_auto_flow": null,
            "grid_auto_rows": null,
            "grid_column": null,
            "grid_gap": null,
            "grid_row": null,
            "grid_template_areas": null,
            "grid_template_columns": null,
            "grid_template_rows": null,
            "height": null,
            "justify_content": null,
            "justify_items": null,
            "left": null,
            "margin": null,
            "max_height": null,
            "max_width": null,
            "min_height": null,
            "min_width": null,
            "object_fit": null,
            "object_position": null,
            "order": null,
            "overflow": null,
            "overflow_x": null,
            "overflow_y": null,
            "padding": null,
            "right": null,
            "top": null,
            "visibility": null,
            "width": null
          }
        },
        "c3ab093706014da79d416b4dfa02c31b": {
          "model_module": "@jupyter-widgets/base",
          "model_name": "LayoutModel",
          "model_module_version": "1.2.0",
          "state": {
            "_model_module": "@jupyter-widgets/base",
            "_model_module_version": "1.2.0",
            "_model_name": "LayoutModel",
            "_view_count": null,
            "_view_module": "@jupyter-widgets/base",
            "_view_module_version": "1.2.0",
            "_view_name": "LayoutView",
            "align_content": null,
            "align_items": null,
            "align_self": null,
            "border": null,
            "bottom": null,
            "display": null,
            "flex": null,
            "flex_flow": null,
            "grid_area": null,
            "grid_auto_columns": null,
            "grid_auto_flow": null,
            "grid_auto_rows": null,
            "grid_column": null,
            "grid_gap": null,
            "grid_row": null,
            "grid_template_areas": null,
            "grid_template_columns": null,
            "grid_template_rows": null,
            "height": null,
            "justify_content": null,
            "justify_items": null,
            "left": null,
            "margin": null,
            "max_height": null,
            "max_width": null,
            "min_height": null,
            "min_width": null,
            "object_fit": null,
            "object_position": null,
            "order": null,
            "overflow": null,
            "overflow_x": null,
            "overflow_y": null,
            "padding": null,
            "right": null,
            "top": null,
            "visibility": null,
            "width": null
          }
        },
        "bfb5a95d767b47f280794bd781dd19cd": {
          "model_module": "@jupyter-widgets/controls",
          "model_name": "DescriptionStyleModel",
          "model_module_version": "1.5.0",
          "state": {
            "_model_module": "@jupyter-widgets/controls",
            "_model_module_version": "1.5.0",
            "_model_name": "DescriptionStyleModel",
            "_view_count": null,
            "_view_module": "@jupyter-widgets/base",
            "_view_module_version": "1.2.0",
            "_view_name": "StyleView",
            "description_width": ""
          }
        },
        "66cf85f1d1be47d6b7781b8e78e14a09": {
          "model_module": "@jupyter-widgets/base",
          "model_name": "LayoutModel",
          "model_module_version": "1.2.0",
          "state": {
            "_model_module": "@jupyter-widgets/base",
            "_model_module_version": "1.2.0",
            "_model_name": "LayoutModel",
            "_view_count": null,
            "_view_module": "@jupyter-widgets/base",
            "_view_module_version": "1.2.0",
            "_view_name": "LayoutView",
            "align_content": null,
            "align_items": null,
            "align_self": null,
            "border": null,
            "bottom": null,
            "display": null,
            "flex": null,
            "flex_flow": null,
            "grid_area": null,
            "grid_auto_columns": null,
            "grid_auto_flow": null,
            "grid_auto_rows": null,
            "grid_column": null,
            "grid_gap": null,
            "grid_row": null,
            "grid_template_areas": null,
            "grid_template_columns": null,
            "grid_template_rows": null,
            "height": null,
            "justify_content": null,
            "justify_items": null,
            "left": null,
            "margin": null,
            "max_height": null,
            "max_width": null,
            "min_height": null,
            "min_width": null,
            "object_fit": null,
            "object_position": null,
            "order": null,
            "overflow": null,
            "overflow_x": null,
            "overflow_y": null,
            "padding": null,
            "right": null,
            "top": null,
            "visibility": null,
            "width": null
          }
        },
        "05ce03295f53476492e84e98ab59ffdc": {
          "model_module": "@jupyter-widgets/controls",
          "model_name": "ProgressStyleModel",
          "model_module_version": "1.5.0",
          "state": {
            "_model_module": "@jupyter-widgets/controls",
            "_model_module_version": "1.5.0",
            "_model_name": "ProgressStyleModel",
            "_view_count": null,
            "_view_module": "@jupyter-widgets/base",
            "_view_module_version": "1.2.0",
            "_view_name": "StyleView",
            "bar_color": null,
            "description_width": ""
          }
        },
        "da309faf676a444695f65254ace70ed1": {
          "model_module": "@jupyter-widgets/base",
          "model_name": "LayoutModel",
          "model_module_version": "1.2.0",
          "state": {
            "_model_module": "@jupyter-widgets/base",
            "_model_module_version": "1.2.0",
            "_model_name": "LayoutModel",
            "_view_count": null,
            "_view_module": "@jupyter-widgets/base",
            "_view_module_version": "1.2.0",
            "_view_name": "LayoutView",
            "align_content": null,
            "align_items": null,
            "align_self": null,
            "border": null,
            "bottom": null,
            "display": null,
            "flex": null,
            "flex_flow": null,
            "grid_area": null,
            "grid_auto_columns": null,
            "grid_auto_flow": null,
            "grid_auto_rows": null,
            "grid_column": null,
            "grid_gap": null,
            "grid_row": null,
            "grid_template_areas": null,
            "grid_template_columns": null,
            "grid_template_rows": null,
            "height": null,
            "justify_content": null,
            "justify_items": null,
            "left": null,
            "margin": null,
            "max_height": null,
            "max_width": null,
            "min_height": null,
            "min_width": null,
            "object_fit": null,
            "object_position": null,
            "order": null,
            "overflow": null,
            "overflow_x": null,
            "overflow_y": null,
            "padding": null,
            "right": null,
            "top": null,
            "visibility": null,
            "width": null
          }
        },
        "4d0af096196f4b25abda2a4c1fe54314": {
          "model_module": "@jupyter-widgets/controls",
          "model_name": "DescriptionStyleModel",
          "model_module_version": "1.5.0",
          "state": {
            "_model_module": "@jupyter-widgets/controls",
            "_model_module_version": "1.5.0",
            "_model_name": "DescriptionStyleModel",
            "_view_count": null,
            "_view_module": "@jupyter-widgets/base",
            "_view_module_version": "1.2.0",
            "_view_name": "StyleView",
            "description_width": ""
          }
        },
        "848b41a104334f50aa3c47d923f10aa3": {
          "model_module": "@jupyter-widgets/controls",
          "model_name": "HBoxModel",
          "model_module_version": "1.5.0",
          "state": {
            "_dom_classes": [],
            "_model_module": "@jupyter-widgets/controls",
            "_model_module_version": "1.5.0",
            "_model_name": "HBoxModel",
            "_view_count": null,
            "_view_module": "@jupyter-widgets/controls",
            "_view_module_version": "1.5.0",
            "_view_name": "HBoxView",
            "box_style": "",
            "children": [
              "IPY_MODEL_1f982433600446349dfc4ba0163be063",
              "IPY_MODEL_9a59fc79fbef4d1aa7414b9e71ae5714",
              "IPY_MODEL_79d19ce4f01245ec98053fd3e29e06f6"
            ],
            "layout": "IPY_MODEL_9c4ba1d87c8044e4b167309d9f2f00dd"
          }
        },
        "1f982433600446349dfc4ba0163be063": {
          "model_module": "@jupyter-widgets/controls",
          "model_name": "HTMLModel",
          "model_module_version": "1.5.0",
          "state": {
            "_dom_classes": [],
            "_model_module": "@jupyter-widgets/controls",
            "_model_module_version": "1.5.0",
            "_model_name": "HTMLModel",
            "_view_count": null,
            "_view_module": "@jupyter-widgets/controls",
            "_view_module_version": "1.5.0",
            "_view_name": "HTMLView",
            "description": "",
            "description_tooltip": null,
            "layout": "IPY_MODEL_2359a821cd9f4bac9bebacaf0db5a7db",
            "placeholder": "​",
            "style": "IPY_MODEL_fdf4878116b941778f44c522a4065f20",
            "value": "Export report to file: 100%"
          }
        },
        "9a59fc79fbef4d1aa7414b9e71ae5714": {
          "model_module": "@jupyter-widgets/controls",
          "model_name": "FloatProgressModel",
          "model_module_version": "1.5.0",
          "state": {
            "_dom_classes": [],
            "_model_module": "@jupyter-widgets/controls",
            "_model_module_version": "1.5.0",
            "_model_name": "FloatProgressModel",
            "_view_count": null,
            "_view_module": "@jupyter-widgets/controls",
            "_view_module_version": "1.5.0",
            "_view_name": "ProgressView",
            "bar_style": "success",
            "description": "",
            "description_tooltip": null,
            "layout": "IPY_MODEL_b365d9e4165847f3ad998764b1b3e8b4",
            "max": 1,
            "min": 0,
            "orientation": "horizontal",
            "style": "IPY_MODEL_42eb91a904434b0ba1ae4f509f95dfaa",
            "value": 1
          }
        },
        "79d19ce4f01245ec98053fd3e29e06f6": {
          "model_module": "@jupyter-widgets/controls",
          "model_name": "HTMLModel",
          "model_module_version": "1.5.0",
          "state": {
            "_dom_classes": [],
            "_model_module": "@jupyter-widgets/controls",
            "_model_module_version": "1.5.0",
            "_model_name": "HTMLModel",
            "_view_count": null,
            "_view_module": "@jupyter-widgets/controls",
            "_view_module_version": "1.5.0",
            "_view_name": "HTMLView",
            "description": "",
            "description_tooltip": null,
            "layout": "IPY_MODEL_4324aabe44b244cf9b05a45a173a2b12",
            "placeholder": "​",
            "style": "IPY_MODEL_deb8822557e74f3ea6dbb9151dbc0c13",
            "value": " 1/1 [00:00&lt;00:00,  7.36it/s]"
          }
        },
        "9c4ba1d87c8044e4b167309d9f2f00dd": {
          "model_module": "@jupyter-widgets/base",
          "model_name": "LayoutModel",
          "model_module_version": "1.2.0",
          "state": {
            "_model_module": "@jupyter-widgets/base",
            "_model_module_version": "1.2.0",
            "_model_name": "LayoutModel",
            "_view_count": null,
            "_view_module": "@jupyter-widgets/base",
            "_view_module_version": "1.2.0",
            "_view_name": "LayoutView",
            "align_content": null,
            "align_items": null,
            "align_self": null,
            "border": null,
            "bottom": null,
            "display": null,
            "flex": null,
            "flex_flow": null,
            "grid_area": null,
            "grid_auto_columns": null,
            "grid_auto_flow": null,
            "grid_auto_rows": null,
            "grid_column": null,
            "grid_gap": null,
            "grid_row": null,
            "grid_template_areas": null,
            "grid_template_columns": null,
            "grid_template_rows": null,
            "height": null,
            "justify_content": null,
            "justify_items": null,
            "left": null,
            "margin": null,
            "max_height": null,
            "max_width": null,
            "min_height": null,
            "min_width": null,
            "object_fit": null,
            "object_position": null,
            "order": null,
            "overflow": null,
            "overflow_x": null,
            "overflow_y": null,
            "padding": null,
            "right": null,
            "top": null,
            "visibility": null,
            "width": null
          }
        },
        "2359a821cd9f4bac9bebacaf0db5a7db": {
          "model_module": "@jupyter-widgets/base",
          "model_name": "LayoutModel",
          "model_module_version": "1.2.0",
          "state": {
            "_model_module": "@jupyter-widgets/base",
            "_model_module_version": "1.2.0",
            "_model_name": "LayoutModel",
            "_view_count": null,
            "_view_module": "@jupyter-widgets/base",
            "_view_module_version": "1.2.0",
            "_view_name": "LayoutView",
            "align_content": null,
            "align_items": null,
            "align_self": null,
            "border": null,
            "bottom": null,
            "display": null,
            "flex": null,
            "flex_flow": null,
            "grid_area": null,
            "grid_auto_columns": null,
            "grid_auto_flow": null,
            "grid_auto_rows": null,
            "grid_column": null,
            "grid_gap": null,
            "grid_row": null,
            "grid_template_areas": null,
            "grid_template_columns": null,
            "grid_template_rows": null,
            "height": null,
            "justify_content": null,
            "justify_items": null,
            "left": null,
            "margin": null,
            "max_height": null,
            "max_width": null,
            "min_height": null,
            "min_width": null,
            "object_fit": null,
            "object_position": null,
            "order": null,
            "overflow": null,
            "overflow_x": null,
            "overflow_y": null,
            "padding": null,
            "right": null,
            "top": null,
            "visibility": null,
            "width": null
          }
        },
        "fdf4878116b941778f44c522a4065f20": {
          "model_module": "@jupyter-widgets/controls",
          "model_name": "DescriptionStyleModel",
          "model_module_version": "1.5.0",
          "state": {
            "_model_module": "@jupyter-widgets/controls",
            "_model_module_version": "1.5.0",
            "_model_name": "DescriptionStyleModel",
            "_view_count": null,
            "_view_module": "@jupyter-widgets/base",
            "_view_module_version": "1.2.0",
            "_view_name": "StyleView",
            "description_width": ""
          }
        },
        "b365d9e4165847f3ad998764b1b3e8b4": {
          "model_module": "@jupyter-widgets/base",
          "model_name": "LayoutModel",
          "model_module_version": "1.2.0",
          "state": {
            "_model_module": "@jupyter-widgets/base",
            "_model_module_version": "1.2.0",
            "_model_name": "LayoutModel",
            "_view_count": null,
            "_view_module": "@jupyter-widgets/base",
            "_view_module_version": "1.2.0",
            "_view_name": "LayoutView",
            "align_content": null,
            "align_items": null,
            "align_self": null,
            "border": null,
            "bottom": null,
            "display": null,
            "flex": null,
            "flex_flow": null,
            "grid_area": null,
            "grid_auto_columns": null,
            "grid_auto_flow": null,
            "grid_auto_rows": null,
            "grid_column": null,
            "grid_gap": null,
            "grid_row": null,
            "grid_template_areas": null,
            "grid_template_columns": null,
            "grid_template_rows": null,
            "height": null,
            "justify_content": null,
            "justify_items": null,
            "left": null,
            "margin": null,
            "max_height": null,
            "max_width": null,
            "min_height": null,
            "min_width": null,
            "object_fit": null,
            "object_position": null,
            "order": null,
            "overflow": null,
            "overflow_x": null,
            "overflow_y": null,
            "padding": null,
            "right": null,
            "top": null,
            "visibility": null,
            "width": null
          }
        },
        "42eb91a904434b0ba1ae4f509f95dfaa": {
          "model_module": "@jupyter-widgets/controls",
          "model_name": "ProgressStyleModel",
          "model_module_version": "1.5.0",
          "state": {
            "_model_module": "@jupyter-widgets/controls",
            "_model_module_version": "1.5.0",
            "_model_name": "ProgressStyleModel",
            "_view_count": null,
            "_view_module": "@jupyter-widgets/base",
            "_view_module_version": "1.2.0",
            "_view_name": "StyleView",
            "bar_color": null,
            "description_width": ""
          }
        },
        "4324aabe44b244cf9b05a45a173a2b12": {
          "model_module": "@jupyter-widgets/base",
          "model_name": "LayoutModel",
          "model_module_version": "1.2.0",
          "state": {
            "_model_module": "@jupyter-widgets/base",
            "_model_module_version": "1.2.0",
            "_model_name": "LayoutModel",
            "_view_count": null,
            "_view_module": "@jupyter-widgets/base",
            "_view_module_version": "1.2.0",
            "_view_name": "LayoutView",
            "align_content": null,
            "align_items": null,
            "align_self": null,
            "border": null,
            "bottom": null,
            "display": null,
            "flex": null,
            "flex_flow": null,
            "grid_area": null,
            "grid_auto_columns": null,
            "grid_auto_flow": null,
            "grid_auto_rows": null,
            "grid_column": null,
            "grid_gap": null,
            "grid_row": null,
            "grid_template_areas": null,
            "grid_template_columns": null,
            "grid_template_rows": null,
            "height": null,
            "justify_content": null,
            "justify_items": null,
            "left": null,
            "margin": null,
            "max_height": null,
            "max_width": null,
            "min_height": null,
            "min_width": null,
            "object_fit": null,
            "object_position": null,
            "order": null,
            "overflow": null,
            "overflow_x": null,
            "overflow_y": null,
            "padding": null,
            "right": null,
            "top": null,
            "visibility": null,
            "width": null
          }
        },
        "deb8822557e74f3ea6dbb9151dbc0c13": {
          "model_module": "@jupyter-widgets/controls",
          "model_name": "DescriptionStyleModel",
          "model_module_version": "1.5.0",
          "state": {
            "_model_module": "@jupyter-widgets/controls",
            "_model_module_version": "1.5.0",
            "_model_name": "DescriptionStyleModel",
            "_view_count": null,
            "_view_module": "@jupyter-widgets/base",
            "_view_module_version": "1.2.0",
            "_view_name": "StyleView",
            "description_width": ""
          }
        },
        "09639e16889e42bdbd67fea0f2f02e60": {
          "model_module": "@jupyter-widgets/controls",
          "model_name": "HBoxModel",
          "model_module_version": "1.5.0",
          "state": {
            "_dom_classes": [],
            "_model_module": "@jupyter-widgets/controls",
            "_model_module_version": "1.5.0",
            "_model_name": "HBoxModel",
            "_view_count": null,
            "_view_module": "@jupyter-widgets/controls",
            "_view_module_version": "1.5.0",
            "_view_name": "HBoxView",
            "box_style": "",
            "children": [
              "IPY_MODEL_99e61dd57847457995caad19a2c92b42",
              "IPY_MODEL_4ab6abeec37c4a27874bfe01a189c119",
              "IPY_MODEL_825ed3a04c2641ce89adbbec553be56e"
            ],
            "layout": "IPY_MODEL_9db6b7b539d44e23b23560383cd20a59"
          }
        },
        "99e61dd57847457995caad19a2c92b42": {
          "model_module": "@jupyter-widgets/controls",
          "model_name": "HTMLModel",
          "model_module_version": "1.5.0",
          "state": {
            "_dom_classes": [],
            "_model_module": "@jupyter-widgets/controls",
            "_model_module_version": "1.5.0",
            "_model_name": "HTMLModel",
            "_view_count": null,
            "_view_module": "@jupyter-widgets/controls",
            "_view_module_version": "1.5.0",
            "_view_name": "HTMLView",
            "description": "",
            "description_tooltip": null,
            "layout": "IPY_MODEL_54d74feddaa34b9493afb18dbf1f4788",
            "placeholder": "​",
            "style": "IPY_MODEL_d4f4fe3d11de4a2a8427b95abd6bd9ab",
            "value": "Summarize dataset: 100%"
          }
        },
        "4ab6abeec37c4a27874bfe01a189c119": {
          "model_module": "@jupyter-widgets/controls",
          "model_name": "FloatProgressModel",
          "model_module_version": "1.5.0",
          "state": {
            "_dom_classes": [],
            "_model_module": "@jupyter-widgets/controls",
            "_model_module_version": "1.5.0",
            "_model_name": "FloatProgressModel",
            "_view_count": null,
            "_view_module": "@jupyter-widgets/controls",
            "_view_module_version": "1.5.0",
            "_view_name": "ProgressView",
            "bar_style": "success",
            "description": "",
            "description_tooltip": null,
            "layout": "IPY_MODEL_24d227710ff240dd9036a1cddb8fe1f8",
            "max": 5,
            "min": 0,
            "orientation": "horizontal",
            "style": "IPY_MODEL_121edb90a914425fa9eb41d5e3421d04",
            "value": 5
          }
        },
        "825ed3a04c2641ce89adbbec553be56e": {
          "model_module": "@jupyter-widgets/controls",
          "model_name": "HTMLModel",
          "model_module_version": "1.5.0",
          "state": {
            "_dom_classes": [],
            "_model_module": "@jupyter-widgets/controls",
            "_model_module_version": "1.5.0",
            "_model_name": "HTMLModel",
            "_view_count": null,
            "_view_module": "@jupyter-widgets/controls",
            "_view_module_version": "1.5.0",
            "_view_name": "HTMLView",
            "description": "",
            "description_tooltip": null,
            "layout": "IPY_MODEL_99c21c10c60947398991135c808a55d9",
            "placeholder": "​",
            "style": "IPY_MODEL_1c4981c89aec488e9461b3378b1db0bc",
            "value": " 405/405 [02:10&lt;00:00,  2.01it/s, Completed]"
          }
        },
        "9db6b7b539d44e23b23560383cd20a59": {
          "model_module": "@jupyter-widgets/base",
          "model_name": "LayoutModel",
          "model_module_version": "1.2.0",
          "state": {
            "_model_module": "@jupyter-widgets/base",
            "_model_module_version": "1.2.0",
            "_model_name": "LayoutModel",
            "_view_count": null,
            "_view_module": "@jupyter-widgets/base",
            "_view_module_version": "1.2.0",
            "_view_name": "LayoutView",
            "align_content": null,
            "align_items": null,
            "align_self": null,
            "border": null,
            "bottom": null,
            "display": null,
            "flex": null,
            "flex_flow": null,
            "grid_area": null,
            "grid_auto_columns": null,
            "grid_auto_flow": null,
            "grid_auto_rows": null,
            "grid_column": null,
            "grid_gap": null,
            "grid_row": null,
            "grid_template_areas": null,
            "grid_template_columns": null,
            "grid_template_rows": null,
            "height": null,
            "justify_content": null,
            "justify_items": null,
            "left": null,
            "margin": null,
            "max_height": null,
            "max_width": null,
            "min_height": null,
            "min_width": null,
            "object_fit": null,
            "object_position": null,
            "order": null,
            "overflow": null,
            "overflow_x": null,
            "overflow_y": null,
            "padding": null,
            "right": null,
            "top": null,
            "visibility": null,
            "width": null
          }
        },
        "54d74feddaa34b9493afb18dbf1f4788": {
          "model_module": "@jupyter-widgets/base",
          "model_name": "LayoutModel",
          "model_module_version": "1.2.0",
          "state": {
            "_model_module": "@jupyter-widgets/base",
            "_model_module_version": "1.2.0",
            "_model_name": "LayoutModel",
            "_view_count": null,
            "_view_module": "@jupyter-widgets/base",
            "_view_module_version": "1.2.0",
            "_view_name": "LayoutView",
            "align_content": null,
            "align_items": null,
            "align_self": null,
            "border": null,
            "bottom": null,
            "display": null,
            "flex": null,
            "flex_flow": null,
            "grid_area": null,
            "grid_auto_columns": null,
            "grid_auto_flow": null,
            "grid_auto_rows": null,
            "grid_column": null,
            "grid_gap": null,
            "grid_row": null,
            "grid_template_areas": null,
            "grid_template_columns": null,
            "grid_template_rows": null,
            "height": null,
            "justify_content": null,
            "justify_items": null,
            "left": null,
            "margin": null,
            "max_height": null,
            "max_width": null,
            "min_height": null,
            "min_width": null,
            "object_fit": null,
            "object_position": null,
            "order": null,
            "overflow": null,
            "overflow_x": null,
            "overflow_y": null,
            "padding": null,
            "right": null,
            "top": null,
            "visibility": null,
            "width": null
          }
        },
        "d4f4fe3d11de4a2a8427b95abd6bd9ab": {
          "model_module": "@jupyter-widgets/controls",
          "model_name": "DescriptionStyleModel",
          "model_module_version": "1.5.0",
          "state": {
            "_model_module": "@jupyter-widgets/controls",
            "_model_module_version": "1.5.0",
            "_model_name": "DescriptionStyleModel",
            "_view_count": null,
            "_view_module": "@jupyter-widgets/base",
            "_view_module_version": "1.2.0",
            "_view_name": "StyleView",
            "description_width": ""
          }
        },
        "24d227710ff240dd9036a1cddb8fe1f8": {
          "model_module": "@jupyter-widgets/base",
          "model_name": "LayoutModel",
          "model_module_version": "1.2.0",
          "state": {
            "_model_module": "@jupyter-widgets/base",
            "_model_module_version": "1.2.0",
            "_model_name": "LayoutModel",
            "_view_count": null,
            "_view_module": "@jupyter-widgets/base",
            "_view_module_version": "1.2.0",
            "_view_name": "LayoutView",
            "align_content": null,
            "align_items": null,
            "align_self": null,
            "border": null,
            "bottom": null,
            "display": null,
            "flex": null,
            "flex_flow": null,
            "grid_area": null,
            "grid_auto_columns": null,
            "grid_auto_flow": null,
            "grid_auto_rows": null,
            "grid_column": null,
            "grid_gap": null,
            "grid_row": null,
            "grid_template_areas": null,
            "grid_template_columns": null,
            "grid_template_rows": null,
            "height": null,
            "justify_content": null,
            "justify_items": null,
            "left": null,
            "margin": null,
            "max_height": null,
            "max_width": null,
            "min_height": null,
            "min_width": null,
            "object_fit": null,
            "object_position": null,
            "order": null,
            "overflow": null,
            "overflow_x": null,
            "overflow_y": null,
            "padding": null,
            "right": null,
            "top": null,
            "visibility": null,
            "width": null
          }
        },
        "121edb90a914425fa9eb41d5e3421d04": {
          "model_module": "@jupyter-widgets/controls",
          "model_name": "ProgressStyleModel",
          "model_module_version": "1.5.0",
          "state": {
            "_model_module": "@jupyter-widgets/controls",
            "_model_module_version": "1.5.0",
            "_model_name": "ProgressStyleModel",
            "_view_count": null,
            "_view_module": "@jupyter-widgets/base",
            "_view_module_version": "1.2.0",
            "_view_name": "StyleView",
            "bar_color": null,
            "description_width": ""
          }
        },
        "99c21c10c60947398991135c808a55d9": {
          "model_module": "@jupyter-widgets/base",
          "model_name": "LayoutModel",
          "model_module_version": "1.2.0",
          "state": {
            "_model_module": "@jupyter-widgets/base",
            "_model_module_version": "1.2.0",
            "_model_name": "LayoutModel",
            "_view_count": null,
            "_view_module": "@jupyter-widgets/base",
            "_view_module_version": "1.2.0",
            "_view_name": "LayoutView",
            "align_content": null,
            "align_items": null,
            "align_self": null,
            "border": null,
            "bottom": null,
            "display": null,
            "flex": null,
            "flex_flow": null,
            "grid_area": null,
            "grid_auto_columns": null,
            "grid_auto_flow": null,
            "grid_auto_rows": null,
            "grid_column": null,
            "grid_gap": null,
            "grid_row": null,
            "grid_template_areas": null,
            "grid_template_columns": null,
            "grid_template_rows": null,
            "height": null,
            "justify_content": null,
            "justify_items": null,
            "left": null,
            "margin": null,
            "max_height": null,
            "max_width": null,
            "min_height": null,
            "min_width": null,
            "object_fit": null,
            "object_position": null,
            "order": null,
            "overflow": null,
            "overflow_x": null,
            "overflow_y": null,
            "padding": null,
            "right": null,
            "top": null,
            "visibility": null,
            "width": null
          }
        },
        "1c4981c89aec488e9461b3378b1db0bc": {
          "model_module": "@jupyter-widgets/controls",
          "model_name": "DescriptionStyleModel",
          "model_module_version": "1.5.0",
          "state": {
            "_model_module": "@jupyter-widgets/controls",
            "_model_module_version": "1.5.0",
            "_model_name": "DescriptionStyleModel",
            "_view_count": null,
            "_view_module": "@jupyter-widgets/base",
            "_view_module_version": "1.2.0",
            "_view_name": "StyleView",
            "description_width": ""
          }
        },
        "34b628d0297a49798b6e161929d7369f": {
          "model_module": "@jupyter-widgets/controls",
          "model_name": "HBoxModel",
          "model_module_version": "1.5.0",
          "state": {
            "_dom_classes": [],
            "_model_module": "@jupyter-widgets/controls",
            "_model_module_version": "1.5.0",
            "_model_name": "HBoxModel",
            "_view_count": null,
            "_view_module": "@jupyter-widgets/controls",
            "_view_module_version": "1.5.0",
            "_view_name": "HBoxView",
            "box_style": "",
            "children": [
              "IPY_MODEL_3b36fc2f48f64ee999a9d39dedb200bb",
              "IPY_MODEL_426ab72a9c354099a21370eed5c2a7ca",
              "IPY_MODEL_1418f8913c094c67aa4a94088f0288ac"
            ],
            "layout": "IPY_MODEL_879a8f5fbdf247e7aa44aa77c9e4f670"
          }
        },
        "3b36fc2f48f64ee999a9d39dedb200bb": {
          "model_module": "@jupyter-widgets/controls",
          "model_name": "HTMLModel",
          "model_module_version": "1.5.0",
          "state": {
            "_dom_classes": [],
            "_model_module": "@jupyter-widgets/controls",
            "_model_module_version": "1.5.0",
            "_model_name": "HTMLModel",
            "_view_count": null,
            "_view_module": "@jupyter-widgets/controls",
            "_view_module_version": "1.5.0",
            "_view_name": "HTMLView",
            "description": "",
            "description_tooltip": null,
            "layout": "IPY_MODEL_0e6f7dd2d17646d19bc91045ddbe0be7",
            "placeholder": "​",
            "style": "IPY_MODEL_57216214c1a140c986923ec5cb870254",
            "value": "Generate report structure: 100%"
          }
        },
        "426ab72a9c354099a21370eed5c2a7ca": {
          "model_module": "@jupyter-widgets/controls",
          "model_name": "FloatProgressModel",
          "model_module_version": "1.5.0",
          "state": {
            "_dom_classes": [],
            "_model_module": "@jupyter-widgets/controls",
            "_model_module_version": "1.5.0",
            "_model_name": "FloatProgressModel",
            "_view_count": null,
            "_view_module": "@jupyter-widgets/controls",
            "_view_module_version": "1.5.0",
            "_view_name": "ProgressView",
            "bar_style": "success",
            "description": "",
            "description_tooltip": null,
            "layout": "IPY_MODEL_ea64749c8b0c4422b793f7110792e066",
            "max": 1,
            "min": 0,
            "orientation": "horizontal",
            "style": "IPY_MODEL_551c04658c4344d2941cacfe17aaa4dc",
            "value": 1
          }
        },
        "1418f8913c094c67aa4a94088f0288ac": {
          "model_module": "@jupyter-widgets/controls",
          "model_name": "HTMLModel",
          "model_module_version": "1.5.0",
          "state": {
            "_dom_classes": [],
            "_model_module": "@jupyter-widgets/controls",
            "_model_module_version": "1.5.0",
            "_model_name": "HTMLModel",
            "_view_count": null,
            "_view_module": "@jupyter-widgets/controls",
            "_view_module_version": "1.5.0",
            "_view_name": "HTMLView",
            "description": "",
            "description_tooltip": null,
            "layout": "IPY_MODEL_6b7f2e47a3f94b71abe1043c6c1c80f3",
            "placeholder": "​",
            "style": "IPY_MODEL_894adfbc47ca4781bc1f68e84caa0f8f",
            "value": " 1/1 [00:38&lt;00:00, 38.24s/it]"
          }
        },
        "879a8f5fbdf247e7aa44aa77c9e4f670": {
          "model_module": "@jupyter-widgets/base",
          "model_name": "LayoutModel",
          "model_module_version": "1.2.0",
          "state": {
            "_model_module": "@jupyter-widgets/base",
            "_model_module_version": "1.2.0",
            "_model_name": "LayoutModel",
            "_view_count": null,
            "_view_module": "@jupyter-widgets/base",
            "_view_module_version": "1.2.0",
            "_view_name": "LayoutView",
            "align_content": null,
            "align_items": null,
            "align_self": null,
            "border": null,
            "bottom": null,
            "display": null,
            "flex": null,
            "flex_flow": null,
            "grid_area": null,
            "grid_auto_columns": null,
            "grid_auto_flow": null,
            "grid_auto_rows": null,
            "grid_column": null,
            "grid_gap": null,
            "grid_row": null,
            "grid_template_areas": null,
            "grid_template_columns": null,
            "grid_template_rows": null,
            "height": null,
            "justify_content": null,
            "justify_items": null,
            "left": null,
            "margin": null,
            "max_height": null,
            "max_width": null,
            "min_height": null,
            "min_width": null,
            "object_fit": null,
            "object_position": null,
            "order": null,
            "overflow": null,
            "overflow_x": null,
            "overflow_y": null,
            "padding": null,
            "right": null,
            "top": null,
            "visibility": null,
            "width": null
          }
        },
        "0e6f7dd2d17646d19bc91045ddbe0be7": {
          "model_module": "@jupyter-widgets/base",
          "model_name": "LayoutModel",
          "model_module_version": "1.2.0",
          "state": {
            "_model_module": "@jupyter-widgets/base",
            "_model_module_version": "1.2.0",
            "_model_name": "LayoutModel",
            "_view_count": null,
            "_view_module": "@jupyter-widgets/base",
            "_view_module_version": "1.2.0",
            "_view_name": "LayoutView",
            "align_content": null,
            "align_items": null,
            "align_self": null,
            "border": null,
            "bottom": null,
            "display": null,
            "flex": null,
            "flex_flow": null,
            "grid_area": null,
            "grid_auto_columns": null,
            "grid_auto_flow": null,
            "grid_auto_rows": null,
            "grid_column": null,
            "grid_gap": null,
            "grid_row": null,
            "grid_template_areas": null,
            "grid_template_columns": null,
            "grid_template_rows": null,
            "height": null,
            "justify_content": null,
            "justify_items": null,
            "left": null,
            "margin": null,
            "max_height": null,
            "max_width": null,
            "min_height": null,
            "min_width": null,
            "object_fit": null,
            "object_position": null,
            "order": null,
            "overflow": null,
            "overflow_x": null,
            "overflow_y": null,
            "padding": null,
            "right": null,
            "top": null,
            "visibility": null,
            "width": null
          }
        },
        "57216214c1a140c986923ec5cb870254": {
          "model_module": "@jupyter-widgets/controls",
          "model_name": "DescriptionStyleModel",
          "model_module_version": "1.5.0",
          "state": {
            "_model_module": "@jupyter-widgets/controls",
            "_model_module_version": "1.5.0",
            "_model_name": "DescriptionStyleModel",
            "_view_count": null,
            "_view_module": "@jupyter-widgets/base",
            "_view_module_version": "1.2.0",
            "_view_name": "StyleView",
            "description_width": ""
          }
        },
        "ea64749c8b0c4422b793f7110792e066": {
          "model_module": "@jupyter-widgets/base",
          "model_name": "LayoutModel",
          "model_module_version": "1.2.0",
          "state": {
            "_model_module": "@jupyter-widgets/base",
            "_model_module_version": "1.2.0",
            "_model_name": "LayoutModel",
            "_view_count": null,
            "_view_module": "@jupyter-widgets/base",
            "_view_module_version": "1.2.0",
            "_view_name": "LayoutView",
            "align_content": null,
            "align_items": null,
            "align_self": null,
            "border": null,
            "bottom": null,
            "display": null,
            "flex": null,
            "flex_flow": null,
            "grid_area": null,
            "grid_auto_columns": null,
            "grid_auto_flow": null,
            "grid_auto_rows": null,
            "grid_column": null,
            "grid_gap": null,
            "grid_row": null,
            "grid_template_areas": null,
            "grid_template_columns": null,
            "grid_template_rows": null,
            "height": null,
            "justify_content": null,
            "justify_items": null,
            "left": null,
            "margin": null,
            "max_height": null,
            "max_width": null,
            "min_height": null,
            "min_width": null,
            "object_fit": null,
            "object_position": null,
            "order": null,
            "overflow": null,
            "overflow_x": null,
            "overflow_y": null,
            "padding": null,
            "right": null,
            "top": null,
            "visibility": null,
            "width": null
          }
        },
        "551c04658c4344d2941cacfe17aaa4dc": {
          "model_module": "@jupyter-widgets/controls",
          "model_name": "ProgressStyleModel",
          "model_module_version": "1.5.0",
          "state": {
            "_model_module": "@jupyter-widgets/controls",
            "_model_module_version": "1.5.0",
            "_model_name": "ProgressStyleModel",
            "_view_count": null,
            "_view_module": "@jupyter-widgets/base",
            "_view_module_version": "1.2.0",
            "_view_name": "StyleView",
            "bar_color": null,
            "description_width": ""
          }
        },
        "6b7f2e47a3f94b71abe1043c6c1c80f3": {
          "model_module": "@jupyter-widgets/base",
          "model_name": "LayoutModel",
          "model_module_version": "1.2.0",
          "state": {
            "_model_module": "@jupyter-widgets/base",
            "_model_module_version": "1.2.0",
            "_model_name": "LayoutModel",
            "_view_count": null,
            "_view_module": "@jupyter-widgets/base",
            "_view_module_version": "1.2.0",
            "_view_name": "LayoutView",
            "align_content": null,
            "align_items": null,
            "align_self": null,
            "border": null,
            "bottom": null,
            "display": null,
            "flex": null,
            "flex_flow": null,
            "grid_area": null,
            "grid_auto_columns": null,
            "grid_auto_flow": null,
            "grid_auto_rows": null,
            "grid_column": null,
            "grid_gap": null,
            "grid_row": null,
            "grid_template_areas": null,
            "grid_template_columns": null,
            "grid_template_rows": null,
            "height": null,
            "justify_content": null,
            "justify_items": null,
            "left": null,
            "margin": null,
            "max_height": null,
            "max_width": null,
            "min_height": null,
            "min_width": null,
            "object_fit": null,
            "object_position": null,
            "order": null,
            "overflow": null,
            "overflow_x": null,
            "overflow_y": null,
            "padding": null,
            "right": null,
            "top": null,
            "visibility": null,
            "width": null
          }
        },
        "894adfbc47ca4781bc1f68e84caa0f8f": {
          "model_module": "@jupyter-widgets/controls",
          "model_name": "DescriptionStyleModel",
          "model_module_version": "1.5.0",
          "state": {
            "_model_module": "@jupyter-widgets/controls",
            "_model_module_version": "1.5.0",
            "_model_name": "DescriptionStyleModel",
            "_view_count": null,
            "_view_module": "@jupyter-widgets/base",
            "_view_module_version": "1.2.0",
            "_view_name": "StyleView",
            "description_width": ""
          }
        },
        "55d102646d124454bc1f0dc34641e87b": {
          "model_module": "@jupyter-widgets/controls",
          "model_name": "HBoxModel",
          "model_module_version": "1.5.0",
          "state": {
            "_dom_classes": [],
            "_model_module": "@jupyter-widgets/controls",
            "_model_module_version": "1.5.0",
            "_model_name": "HBoxModel",
            "_view_count": null,
            "_view_module": "@jupyter-widgets/controls",
            "_view_module_version": "1.5.0",
            "_view_name": "HBoxView",
            "box_style": "",
            "children": [
              "IPY_MODEL_be83ac44d8ee48f097a19d86233488b1",
              "IPY_MODEL_e01904a025ab49a0a2582935ea387ad7",
              "IPY_MODEL_7a82c84fcf3e426fb4838acb0d3b710d"
            ],
            "layout": "IPY_MODEL_742422eb3db747cdbfac22636e478fbb"
          }
        },
        "be83ac44d8ee48f097a19d86233488b1": {
          "model_module": "@jupyter-widgets/controls",
          "model_name": "HTMLModel",
          "model_module_version": "1.5.0",
          "state": {
            "_dom_classes": [],
            "_model_module": "@jupyter-widgets/controls",
            "_model_module_version": "1.5.0",
            "_model_name": "HTMLModel",
            "_view_count": null,
            "_view_module": "@jupyter-widgets/controls",
            "_view_module_version": "1.5.0",
            "_view_name": "HTMLView",
            "description": "",
            "description_tooltip": null,
            "layout": "IPY_MODEL_0454a1c9a8a0495b85720204cebcedb0",
            "placeholder": "​",
            "style": "IPY_MODEL_3ef8160220394a1c8548a5e8106aee5d",
            "value": "Render HTML: 100%"
          }
        },
        "e01904a025ab49a0a2582935ea387ad7": {
          "model_module": "@jupyter-widgets/controls",
          "model_name": "FloatProgressModel",
          "model_module_version": "1.5.0",
          "state": {
            "_dom_classes": [],
            "_model_module": "@jupyter-widgets/controls",
            "_model_module_version": "1.5.0",
            "_model_name": "FloatProgressModel",
            "_view_count": null,
            "_view_module": "@jupyter-widgets/controls",
            "_view_module_version": "1.5.0",
            "_view_name": "ProgressView",
            "bar_style": "success",
            "description": "",
            "description_tooltip": null,
            "layout": "IPY_MODEL_ff259cfde7da443884b483a2d6c1be8a",
            "max": 1,
            "min": 0,
            "orientation": "horizontal",
            "style": "IPY_MODEL_e7cbc7903bd34c7f9728923ed56416bd",
            "value": 1
          }
        },
        "7a82c84fcf3e426fb4838acb0d3b710d": {
          "model_module": "@jupyter-widgets/controls",
          "model_name": "HTMLModel",
          "model_module_version": "1.5.0",
          "state": {
            "_dom_classes": [],
            "_model_module": "@jupyter-widgets/controls",
            "_model_module_version": "1.5.0",
            "_model_name": "HTMLModel",
            "_view_count": null,
            "_view_module": "@jupyter-widgets/controls",
            "_view_module_version": "1.5.0",
            "_view_name": "HTMLView",
            "description": "",
            "description_tooltip": null,
            "layout": "IPY_MODEL_62f6ea2df206447489eddb403d5c9cf3",
            "placeholder": "​",
            "style": "IPY_MODEL_ec1fd78843de4d189ec47d72bef89e15",
            "value": " 1/1 [00:12&lt;00:00, 12.90s/it]"
          }
        },
        "742422eb3db747cdbfac22636e478fbb": {
          "model_module": "@jupyter-widgets/base",
          "model_name": "LayoutModel",
          "model_module_version": "1.2.0",
          "state": {
            "_model_module": "@jupyter-widgets/base",
            "_model_module_version": "1.2.0",
            "_model_name": "LayoutModel",
            "_view_count": null,
            "_view_module": "@jupyter-widgets/base",
            "_view_module_version": "1.2.0",
            "_view_name": "LayoutView",
            "align_content": null,
            "align_items": null,
            "align_self": null,
            "border": null,
            "bottom": null,
            "display": null,
            "flex": null,
            "flex_flow": null,
            "grid_area": null,
            "grid_auto_columns": null,
            "grid_auto_flow": null,
            "grid_auto_rows": null,
            "grid_column": null,
            "grid_gap": null,
            "grid_row": null,
            "grid_template_areas": null,
            "grid_template_columns": null,
            "grid_template_rows": null,
            "height": null,
            "justify_content": null,
            "justify_items": null,
            "left": null,
            "margin": null,
            "max_height": null,
            "max_width": null,
            "min_height": null,
            "min_width": null,
            "object_fit": null,
            "object_position": null,
            "order": null,
            "overflow": null,
            "overflow_x": null,
            "overflow_y": null,
            "padding": null,
            "right": null,
            "top": null,
            "visibility": null,
            "width": null
          }
        },
        "0454a1c9a8a0495b85720204cebcedb0": {
          "model_module": "@jupyter-widgets/base",
          "model_name": "LayoutModel",
          "model_module_version": "1.2.0",
          "state": {
            "_model_module": "@jupyter-widgets/base",
            "_model_module_version": "1.2.0",
            "_model_name": "LayoutModel",
            "_view_count": null,
            "_view_module": "@jupyter-widgets/base",
            "_view_module_version": "1.2.0",
            "_view_name": "LayoutView",
            "align_content": null,
            "align_items": null,
            "align_self": null,
            "border": null,
            "bottom": null,
            "display": null,
            "flex": null,
            "flex_flow": null,
            "grid_area": null,
            "grid_auto_columns": null,
            "grid_auto_flow": null,
            "grid_auto_rows": null,
            "grid_column": null,
            "grid_gap": null,
            "grid_row": null,
            "grid_template_areas": null,
            "grid_template_columns": null,
            "grid_template_rows": null,
            "height": null,
            "justify_content": null,
            "justify_items": null,
            "left": null,
            "margin": null,
            "max_height": null,
            "max_width": null,
            "min_height": null,
            "min_width": null,
            "object_fit": null,
            "object_position": null,
            "order": null,
            "overflow": null,
            "overflow_x": null,
            "overflow_y": null,
            "padding": null,
            "right": null,
            "top": null,
            "visibility": null,
            "width": null
          }
        },
        "3ef8160220394a1c8548a5e8106aee5d": {
          "model_module": "@jupyter-widgets/controls",
          "model_name": "DescriptionStyleModel",
          "model_module_version": "1.5.0",
          "state": {
            "_model_module": "@jupyter-widgets/controls",
            "_model_module_version": "1.5.0",
            "_model_name": "DescriptionStyleModel",
            "_view_count": null,
            "_view_module": "@jupyter-widgets/base",
            "_view_module_version": "1.2.0",
            "_view_name": "StyleView",
            "description_width": ""
          }
        },
        "ff259cfde7da443884b483a2d6c1be8a": {
          "model_module": "@jupyter-widgets/base",
          "model_name": "LayoutModel",
          "model_module_version": "1.2.0",
          "state": {
            "_model_module": "@jupyter-widgets/base",
            "_model_module_version": "1.2.0",
            "_model_name": "LayoutModel",
            "_view_count": null,
            "_view_module": "@jupyter-widgets/base",
            "_view_module_version": "1.2.0",
            "_view_name": "LayoutView",
            "align_content": null,
            "align_items": null,
            "align_self": null,
            "border": null,
            "bottom": null,
            "display": null,
            "flex": null,
            "flex_flow": null,
            "grid_area": null,
            "grid_auto_columns": null,
            "grid_auto_flow": null,
            "grid_auto_rows": null,
            "grid_column": null,
            "grid_gap": null,
            "grid_row": null,
            "grid_template_areas": null,
            "grid_template_columns": null,
            "grid_template_rows": null,
            "height": null,
            "justify_content": null,
            "justify_items": null,
            "left": null,
            "margin": null,
            "max_height": null,
            "max_width": null,
            "min_height": null,
            "min_width": null,
            "object_fit": null,
            "object_position": null,
            "order": null,
            "overflow": null,
            "overflow_x": null,
            "overflow_y": null,
            "padding": null,
            "right": null,
            "top": null,
            "visibility": null,
            "width": null
          }
        },
        "e7cbc7903bd34c7f9728923ed56416bd": {
          "model_module": "@jupyter-widgets/controls",
          "model_name": "ProgressStyleModel",
          "model_module_version": "1.5.0",
          "state": {
            "_model_module": "@jupyter-widgets/controls",
            "_model_module_version": "1.5.0",
            "_model_name": "ProgressStyleModel",
            "_view_count": null,
            "_view_module": "@jupyter-widgets/base",
            "_view_module_version": "1.2.0",
            "_view_name": "StyleView",
            "bar_color": null,
            "description_width": ""
          }
        },
        "62f6ea2df206447489eddb403d5c9cf3": {
          "model_module": "@jupyter-widgets/base",
          "model_name": "LayoutModel",
          "model_module_version": "1.2.0",
          "state": {
            "_model_module": "@jupyter-widgets/base",
            "_model_module_version": "1.2.0",
            "_model_name": "LayoutModel",
            "_view_count": null,
            "_view_module": "@jupyter-widgets/base",
            "_view_module_version": "1.2.0",
            "_view_name": "LayoutView",
            "align_content": null,
            "align_items": null,
            "align_self": null,
            "border": null,
            "bottom": null,
            "display": null,
            "flex": null,
            "flex_flow": null,
            "grid_area": null,
            "grid_auto_columns": null,
            "grid_auto_flow": null,
            "grid_auto_rows": null,
            "grid_column": null,
            "grid_gap": null,
            "grid_row": null,
            "grid_template_areas": null,
            "grid_template_columns": null,
            "grid_template_rows": null,
            "height": null,
            "justify_content": null,
            "justify_items": null,
            "left": null,
            "margin": null,
            "max_height": null,
            "max_width": null,
            "min_height": null,
            "min_width": null,
            "object_fit": null,
            "object_position": null,
            "order": null,
            "overflow": null,
            "overflow_x": null,
            "overflow_y": null,
            "padding": null,
            "right": null,
            "top": null,
            "visibility": null,
            "width": null
          }
        },
        "ec1fd78843de4d189ec47d72bef89e15": {
          "model_module": "@jupyter-widgets/controls",
          "model_name": "DescriptionStyleModel",
          "model_module_version": "1.5.0",
          "state": {
            "_model_module": "@jupyter-widgets/controls",
            "_model_module_version": "1.5.0",
            "_model_name": "DescriptionStyleModel",
            "_view_count": null,
            "_view_module": "@jupyter-widgets/base",
            "_view_module_version": "1.2.0",
            "_view_name": "StyleView",
            "description_width": ""
          }
        },
        "1c7b3f9036d34bf1b9a8bedb16b0e56c": {
          "model_module": "@jupyter-widgets/controls",
          "model_name": "HBoxModel",
          "model_module_version": "1.5.0",
          "state": {
            "_dom_classes": [],
            "_model_module": "@jupyter-widgets/controls",
            "_model_module_version": "1.5.0",
            "_model_name": "HBoxModel",
            "_view_count": null,
            "_view_module": "@jupyter-widgets/controls",
            "_view_module_version": "1.5.0",
            "_view_name": "HBoxView",
            "box_style": "",
            "children": [
              "IPY_MODEL_0a46fc8904e0487590c738376ebc4941",
              "IPY_MODEL_a816491a3283442fb68c64b8198976b2",
              "IPY_MODEL_bc5c7917204a44b5a715f7c2868688d9"
            ],
            "layout": "IPY_MODEL_aa93b6ea59444f17b467f08f89ce8627"
          }
        },
        "0a46fc8904e0487590c738376ebc4941": {
          "model_module": "@jupyter-widgets/controls",
          "model_name": "HTMLModel",
          "model_module_version": "1.5.0",
          "state": {
            "_dom_classes": [],
            "_model_module": "@jupyter-widgets/controls",
            "_model_module_version": "1.5.0",
            "_model_name": "HTMLModel",
            "_view_count": null,
            "_view_module": "@jupyter-widgets/controls",
            "_view_module_version": "1.5.0",
            "_view_name": "HTMLView",
            "description": "",
            "description_tooltip": null,
            "layout": "IPY_MODEL_6b2104449ff74a34a48689d4a5005abe",
            "placeholder": "​",
            "style": "IPY_MODEL_bf5fd2ec075a454cbf1c1964a490e47e",
            "value": "Export report to file: 100%"
          }
        },
        "a816491a3283442fb68c64b8198976b2": {
          "model_module": "@jupyter-widgets/controls",
          "model_name": "FloatProgressModel",
          "model_module_version": "1.5.0",
          "state": {
            "_dom_classes": [],
            "_model_module": "@jupyter-widgets/controls",
            "_model_module_version": "1.5.0",
            "_model_name": "FloatProgressModel",
            "_view_count": null,
            "_view_module": "@jupyter-widgets/controls",
            "_view_module_version": "1.5.0",
            "_view_name": "ProgressView",
            "bar_style": "success",
            "description": "",
            "description_tooltip": null,
            "layout": "IPY_MODEL_0832d439cf2646f08e61d1bbdc7bd5dc",
            "max": 1,
            "min": 0,
            "orientation": "horizontal",
            "style": "IPY_MODEL_e92da93cc2e14a3b82fdfa423cb46b8f",
            "value": 1
          }
        },
        "bc5c7917204a44b5a715f7c2868688d9": {
          "model_module": "@jupyter-widgets/controls",
          "model_name": "HTMLModel",
          "model_module_version": "1.5.0",
          "state": {
            "_dom_classes": [],
            "_model_module": "@jupyter-widgets/controls",
            "_model_module_version": "1.5.0",
            "_model_name": "HTMLModel",
            "_view_count": null,
            "_view_module": "@jupyter-widgets/controls",
            "_view_module_version": "1.5.0",
            "_view_name": "HTMLView",
            "description": "",
            "description_tooltip": null,
            "layout": "IPY_MODEL_8a0362dc41014c97823189cb2a0b5e66",
            "placeholder": "​",
            "style": "IPY_MODEL_6c096f56eedf438182b04d713f69ea00",
            "value": " 1/1 [00:00&lt;00:00,  9.37it/s]"
          }
        },
        "aa93b6ea59444f17b467f08f89ce8627": {
          "model_module": "@jupyter-widgets/base",
          "model_name": "LayoutModel",
          "model_module_version": "1.2.0",
          "state": {
            "_model_module": "@jupyter-widgets/base",
            "_model_module_version": "1.2.0",
            "_model_name": "LayoutModel",
            "_view_count": null,
            "_view_module": "@jupyter-widgets/base",
            "_view_module_version": "1.2.0",
            "_view_name": "LayoutView",
            "align_content": null,
            "align_items": null,
            "align_self": null,
            "border": null,
            "bottom": null,
            "display": null,
            "flex": null,
            "flex_flow": null,
            "grid_area": null,
            "grid_auto_columns": null,
            "grid_auto_flow": null,
            "grid_auto_rows": null,
            "grid_column": null,
            "grid_gap": null,
            "grid_row": null,
            "grid_template_areas": null,
            "grid_template_columns": null,
            "grid_template_rows": null,
            "height": null,
            "justify_content": null,
            "justify_items": null,
            "left": null,
            "margin": null,
            "max_height": null,
            "max_width": null,
            "min_height": null,
            "min_width": null,
            "object_fit": null,
            "object_position": null,
            "order": null,
            "overflow": null,
            "overflow_x": null,
            "overflow_y": null,
            "padding": null,
            "right": null,
            "top": null,
            "visibility": null,
            "width": null
          }
        },
        "6b2104449ff74a34a48689d4a5005abe": {
          "model_module": "@jupyter-widgets/base",
          "model_name": "LayoutModel",
          "model_module_version": "1.2.0",
          "state": {
            "_model_module": "@jupyter-widgets/base",
            "_model_module_version": "1.2.0",
            "_model_name": "LayoutModel",
            "_view_count": null,
            "_view_module": "@jupyter-widgets/base",
            "_view_module_version": "1.2.0",
            "_view_name": "LayoutView",
            "align_content": null,
            "align_items": null,
            "align_self": null,
            "border": null,
            "bottom": null,
            "display": null,
            "flex": null,
            "flex_flow": null,
            "grid_area": null,
            "grid_auto_columns": null,
            "grid_auto_flow": null,
            "grid_auto_rows": null,
            "grid_column": null,
            "grid_gap": null,
            "grid_row": null,
            "grid_template_areas": null,
            "grid_template_columns": null,
            "grid_template_rows": null,
            "height": null,
            "justify_content": null,
            "justify_items": null,
            "left": null,
            "margin": null,
            "max_height": null,
            "max_width": null,
            "min_height": null,
            "min_width": null,
            "object_fit": null,
            "object_position": null,
            "order": null,
            "overflow": null,
            "overflow_x": null,
            "overflow_y": null,
            "padding": null,
            "right": null,
            "top": null,
            "visibility": null,
            "width": null
          }
        },
        "bf5fd2ec075a454cbf1c1964a490e47e": {
          "model_module": "@jupyter-widgets/controls",
          "model_name": "DescriptionStyleModel",
          "model_module_version": "1.5.0",
          "state": {
            "_model_module": "@jupyter-widgets/controls",
            "_model_module_version": "1.5.0",
            "_model_name": "DescriptionStyleModel",
            "_view_count": null,
            "_view_module": "@jupyter-widgets/base",
            "_view_module_version": "1.2.0",
            "_view_name": "StyleView",
            "description_width": ""
          }
        },
        "0832d439cf2646f08e61d1bbdc7bd5dc": {
          "model_module": "@jupyter-widgets/base",
          "model_name": "LayoutModel",
          "model_module_version": "1.2.0",
          "state": {
            "_model_module": "@jupyter-widgets/base",
            "_model_module_version": "1.2.0",
            "_model_name": "LayoutModel",
            "_view_count": null,
            "_view_module": "@jupyter-widgets/base",
            "_view_module_version": "1.2.0",
            "_view_name": "LayoutView",
            "align_content": null,
            "align_items": null,
            "align_self": null,
            "border": null,
            "bottom": null,
            "display": null,
            "flex": null,
            "flex_flow": null,
            "grid_area": null,
            "grid_auto_columns": null,
            "grid_auto_flow": null,
            "grid_auto_rows": null,
            "grid_column": null,
            "grid_gap": null,
            "grid_row": null,
            "grid_template_areas": null,
            "grid_template_columns": null,
            "grid_template_rows": null,
            "height": null,
            "justify_content": null,
            "justify_items": null,
            "left": null,
            "margin": null,
            "max_height": null,
            "max_width": null,
            "min_height": null,
            "min_width": null,
            "object_fit": null,
            "object_position": null,
            "order": null,
            "overflow": null,
            "overflow_x": null,
            "overflow_y": null,
            "padding": null,
            "right": null,
            "top": null,
            "visibility": null,
            "width": null
          }
        },
        "e92da93cc2e14a3b82fdfa423cb46b8f": {
          "model_module": "@jupyter-widgets/controls",
          "model_name": "ProgressStyleModel",
          "model_module_version": "1.5.0",
          "state": {
            "_model_module": "@jupyter-widgets/controls",
            "_model_module_version": "1.5.0",
            "_model_name": "ProgressStyleModel",
            "_view_count": null,
            "_view_module": "@jupyter-widgets/base",
            "_view_module_version": "1.2.0",
            "_view_name": "StyleView",
            "bar_color": null,
            "description_width": ""
          }
        },
        "8a0362dc41014c97823189cb2a0b5e66": {
          "model_module": "@jupyter-widgets/base",
          "model_name": "LayoutModel",
          "model_module_version": "1.2.0",
          "state": {
            "_model_module": "@jupyter-widgets/base",
            "_model_module_version": "1.2.0",
            "_model_name": "LayoutModel",
            "_view_count": null,
            "_view_module": "@jupyter-widgets/base",
            "_view_module_version": "1.2.0",
            "_view_name": "LayoutView",
            "align_content": null,
            "align_items": null,
            "align_self": null,
            "border": null,
            "bottom": null,
            "display": null,
            "flex": null,
            "flex_flow": null,
            "grid_area": null,
            "grid_auto_columns": null,
            "grid_auto_flow": null,
            "grid_auto_rows": null,
            "grid_column": null,
            "grid_gap": null,
            "grid_row": null,
            "grid_template_areas": null,
            "grid_template_columns": null,
            "grid_template_rows": null,
            "height": null,
            "justify_content": null,
            "justify_items": null,
            "left": null,
            "margin": null,
            "max_height": null,
            "max_width": null,
            "min_height": null,
            "min_width": null,
            "object_fit": null,
            "object_position": null,
            "order": null,
            "overflow": null,
            "overflow_x": null,
            "overflow_y": null,
            "padding": null,
            "right": null,
            "top": null,
            "visibility": null,
            "width": null
          }
        },
        "6c096f56eedf438182b04d713f69ea00": {
          "model_module": "@jupyter-widgets/controls",
          "model_name": "DescriptionStyleModel",
          "model_module_version": "1.5.0",
          "state": {
            "_model_module": "@jupyter-widgets/controls",
            "_model_module_version": "1.5.0",
            "_model_name": "DescriptionStyleModel",
            "_view_count": null,
            "_view_module": "@jupyter-widgets/base",
            "_view_module_version": "1.2.0",
            "_view_name": "StyleView",
            "description_width": ""
          }
        }
      }
    }
  },
  "nbformat": 4,
  "nbformat_minor": 5
}