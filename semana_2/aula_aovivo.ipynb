{
  "cells": [
    {
      "cell_type": "markdown",
      "id": "7187e3e9",
      "metadata": {
        "id": "7187e3e9"
      },
      "source": [
        "# Escola de Dados - Python para inovação cívica\n",
        "\n",
        "Os dados que usaremos nesse notebook pode ser encontrado em: [Candidatos - 2016](https://dadosabertos.tse.jus.br/dataset/candidatos-2016) e [Candidatos - 2020](https://dadosabertos.tse.jus.br/dataset/candidatos-2020-subtemas) disponível no Portal de Dados Abertos do Tribunal Superior Eleitoral.\n",
        "\n",
        "\n",
        "Os dados também podem ser encontrados na pasta \"Dados\" deste repositório.\n",
        "\n",
        "\n",
        "------\n",
        "Pontos para aula:\n",
        "\n",
        "- Quantas candidaturas para a Câmara de Vereadores houveram em cada ano agrupado por gênero ?\n",
        "- Qual a faixa etária média das pessoas candidatas para a Câmara de Vereadores?\n",
        "- Há correlação entre idade, gênero e custo da campanha?\n",
        "- Visualização gráfica da distribuição da variável DS_COR_RACA em 2020"
      ]
    },
    {
      "cell_type": "code",
      "source": [
        "import matplotlib.pyplot as plt\n",
        "import pandas as pd\n",
        "import glob"
      ],
      "metadata": {
        "id": "R8vpSneEwKMN"
      },
      "id": "R8vpSneEwKMN",
      "execution_count": 25,
      "outputs": []
    },
    {
      "cell_type": "code",
      "source": [
        "dados_ap_pa = glob.glob('consulta*.csv')"
      ],
      "metadata": {
        "id": "rlmaIwcgwUCl"
      },
      "id": "rlmaIwcgwUCl",
      "execution_count": 28,
      "outputs": []
    },
    {
      "cell_type": "code",
      "source": [
        "print(dados_ap_pa)"
      ],
      "metadata": {
        "id": "-71NRQAHwpic"
      },
      "id": "-71NRQAHwpic",
      "execution_count": null,
      "outputs": []
    },
    {
      "cell_type": "code",
      "source": [
        "lista_df = []"
      ],
      "metadata": {
        "id": "_nsliY07w0ks"
      },
      "id": "_nsliY07w0ks",
      "execution_count": 30,
      "outputs": []
    },
    {
      "cell_type": "code",
      "source": [
        "for dados_estado in dados_ap_pa:\n",
        "  df_estado  = pd.read_csv( dados_estado, sep=';', encoding='latin_1', na_values=[\"#NULO#\"] )\n",
        "  lista_df.append(df_estado)"
      ],
      "metadata": {
        "id": "_5CzxW1xw-OE"
      },
      "id": "_5CzxW1xw-OE",
      "execution_count": null,
      "outputs": []
    },
    {
      "cell_type": "code",
      "source": [
        "# compara colunas entre dois dataframes\n",
        "lista_df[0].columns == lista_df[3].columns"
      ],
      "metadata": {
        "colab": {
          "base_uri": "https://localhost:8080/"
        },
        "id": "JnohKbA1yCZ0",
        "outputId": "c3b5f37b-1a4a-4fd4-b885-a0ceb73ebfed"
      },
      "id": "JnohKbA1yCZ0",
      "execution_count": 37,
      "outputs": [
        {
          "output_type": "execute_result",
          "data": {
            "text/plain": [
              "array([ True,  True,  True,  True,  True,  True,  True,  True,  True,\n",
              "        True,  True,  True,  True,  True,  True,  True,  True,  True,\n",
              "        True,  True,  True,  True,  True,  True,  True,  True,  True,\n",
              "        True,  True,  True,  True,  True,  True,  True,  True,  True,\n",
              "        True,  True,  True,  True,  True,  True,  True,  True,  True,\n",
              "        True,  True,  True,  True,  True,  True,  True,  True,  True,\n",
              "        True,  True,  True,  True,  True,  True,  True,  True,  True,\n",
              "        True,  True,  True,  True,  True,  True,  True,  True])"
            ]
          },
          "metadata": {},
          "execution_count": 37
        }
      ]
    },
    {
      "cell_type": "code",
      "source": [
        "len(lista_df)"
      ],
      "metadata": {
        "id": "_37bBoKO0gol"
      },
      "id": "_37bBoKO0gol",
      "execution_count": null,
      "outputs": []
    },
    {
      "cell_type": "code",
      "source": [
        "# Soma a informação de todas as planilhas listadas acima\n",
        "df_completo = pd.concat(lista_df, axis=0, ignore_index=True)"
      ],
      "metadata": {
        "id": "a9k5Dgqp08tF"
      },
      "id": "a9k5Dgqp08tF",
      "execution_count": 45,
      "outputs": []
    },
    {
      "cell_type": "code",
      "source": [
        "# Total de linhas\n",
        "df_completo.shape"
      ],
      "metadata": {
        "colab": {
          "base_uri": "https://localhost:8080/"
        },
        "id": "RUNH1qXZ1aN2",
        "outputId": "e79d55cd-30b9-4a49-cf1f-4c500dbeb6f4"
      },
      "id": "RUNH1qXZ1aN2",
      "execution_count": 48,
      "outputs": [
        {
          "output_type": "execute_result",
          "data": {
            "text/plain": [
              "(48682, 71)"
            ]
          },
          "metadata": {},
          "execution_count": 48
        }
      ]
    },
    {
      "cell_type": "code",
      "source": [
        "# Informações do dataframe\n",
        "df_completo.info()"
      ],
      "metadata": {
        "id": "CHERQRZ11jll"
      },
      "id": "CHERQRZ11jll",
      "execution_count": null,
      "outputs": []
    },
    {
      "cell_type": "code",
      "source": [
        "# Lista de cargos\n",
        "df_completo['DS_CARGO'].unique()"
      ],
      "metadata": {
        "id": "9mJuKJnz2Gdl"
      },
      "id": "9mJuKJnz2Gdl",
      "execution_count": null,
      "outputs": []
    },
    {
      "cell_type": "code",
      "source": [
        "# Lista de situação de candidatos\n",
        "df_completo['DS_DETALHE_SITUACAO_CAND'].unique()"
      ],
      "metadata": {
        "id": "Y0arr0B92fn4"
      },
      "id": "Y0arr0B92fn4",
      "execution_count": null,
      "outputs": []
    },
    {
      "cell_type": "code",
      "source": [
        "# Listando cargos de verador\n",
        "filtro_cargo = df_completo['DS_CARGO'] == 'VEREADOR'"
      ],
      "metadata": {
        "id": "zR2bJ37f3FEt"
      },
      "id": "zR2bJ37f3FEt",
      "execution_count": 61,
      "outputs": []
    },
    {
      "cell_type": "code",
      "source": [
        "filtro_cargo"
      ],
      "metadata": {
        "id": "iBuZjvJv3ne2"
      },
      "id": "iBuZjvJv3ne2",
      "execution_count": null,
      "outputs": []
    },
    {
      "cell_type": "code",
      "source": [
        "# Apenas pedidos deferidos\n",
        "filtro_deferimento_1 = df_completo['DS_DETALHE_SITUACAO_CAND'] == 'DEFERIDO'"
      ],
      "metadata": {
        "id": "AbReo5LC3TkA"
      },
      "id": "AbReo5LC3TkA",
      "execution_count": 62,
      "outputs": []
    },
    {
      "cell_type": "code",
      "source": [
        "# Apenas pedidos deferidos com recurso\n",
        "filtro_deferimento_2 = df_completo['DS_DETALHE_SITUACAO_CAND'] == 'DEFERIDO COM RECURSO'"
      ],
      "metadata": {
        "id": "a0jgdBaw3p52"
      },
      "id": "a0jgdBaw3p52",
      "execution_count": 64,
      "outputs": []
    },
    {
      "cell_type": "code",
      "source": [
        "# Filtrando vereadores com pedidos deferidos ou deferidos com recurso\n",
        "df_vereadores = df_completo[filtro_cargo & ( filtro_deferimento_1 | filtro_deferimento_2 )].copy()"
      ],
      "metadata": {
        "id": "T1uCnmtq30Pu"
      },
      "id": "T1uCnmtq30Pu",
      "execution_count": 70,
      "outputs": []
    },
    {
      "cell_type": "code",
      "source": [
        "# Total de linhas\n",
        "df_vereadores.shape"
      ],
      "metadata": {
        "id": "jNxfsWV14YfO"
      },
      "id": "jNxfsWV14YfO",
      "execution_count": null,
      "outputs": []
    },
    {
      "cell_type": "code",
      "source": [
        "df_vereadores.head()"
      ],
      "metadata": {
        "id": "JNKQMjs85cN3"
      },
      "id": "JNKQMjs85cN3",
      "execution_count": null,
      "outputs": []
    },
    {
      "cell_type": "markdown",
      "id": "d2aa52d3",
      "metadata": {
        "id": "d2aa52d3"
      },
      "source": [
        "# Quantas candidaturas, para Câmara de Vereadores, houveram em cada ano agrupado por gênero ?"
      ]
    },
    {
      "cell_type": "code",
      "source": [
        "# Podando o dataframe vereadores com colunas necessárias\n",
        "df_raca_genero = df_vereadores[['ANO_ELEICAO','CD_CARGO', 'SG_UF', 'NR_PARTIDO', 'SG_PARTIDO', 'CD_GENERO', 'DS_GENERO', 'CD_COR_RACA', 'DS_COR_RACA', 'NR_IDADE_DATA_POSSE','VR_DESPESA_MAX_CAMPANHA']].copy()"
      ],
      "metadata": {
        "id": "jWWsL5Ym5mFm"
      },
      "id": "jWWsL5Ym5mFm",
      "execution_count": 74,
      "outputs": []
    },
    {
      "cell_type": "code",
      "execution_count": null,
      "id": "32b4107b",
      "metadata": {
        "id": "32b4107b"
      },
      "outputs": [],
      "source": [
        "df_raca_genero.shape"
      ]
    },
    {
      "cell_type": "code",
      "source": [
        "df_raca_genero.head()"
      ],
      "metadata": {
        "colab": {
          "base_uri": "https://localhost:8080/",
          "height": 206
        },
        "id": "lIbYFM1_6eWn",
        "outputId": "33b1df7a-14ad-492f-da90-b644d1d54162"
      },
      "id": "lIbYFM1_6eWn",
      "execution_count": 79,
      "outputs": [
        {
          "output_type": "execute_result",
          "data": {
            "text/plain": [
              "   ANO_ELEICAO  CD_CARGO SG_UF  NR_PARTIDO SG_PARTIDO  CD_GENERO  DS_GENERO  \\\n",
              "0         2020        13    AP          11         PP          2  MASCULINO   \n",
              "1         2020        13    AP          13         PT          2  MASCULINO   \n",
              "2         2020        13    AP          55        PSD          2  MASCULINO   \n",
              "4         2020        13    AP          12        PDT          2  MASCULINO   \n",
              "5         2020        13    AP          17        PSL          2  MASCULINO   \n",
              "\n",
              "   CD_COR_RACA DS_COR_RACA  NR_IDADE_DATA_POSSE  VR_DESPESA_MAX_CAMPANHA  \n",
              "0            2       PRETA                 44.0                 12307.75  \n",
              "1            3       PARDA                 63.0                 24149.88  \n",
              "2            2       PRETA                 42.0                 12307.75  \n",
              "4            3       PARDA                 42.0                 12307.75  \n",
              "5            3       PARDA                 25.0                151743.76  "
            ],
            "text/html": [
              "\n",
              "  <div id=\"df-1406dddd-247b-4edd-9a2e-96bfb8069708\">\n",
              "    <div class=\"colab-df-container\">\n",
              "      <div>\n",
              "<style scoped>\n",
              "    .dataframe tbody tr th:only-of-type {\n",
              "        vertical-align: middle;\n",
              "    }\n",
              "\n",
              "    .dataframe tbody tr th {\n",
              "        vertical-align: top;\n",
              "    }\n",
              "\n",
              "    .dataframe thead th {\n",
              "        text-align: right;\n",
              "    }\n",
              "</style>\n",
              "<table border=\"1\" class=\"dataframe\">\n",
              "  <thead>\n",
              "    <tr style=\"text-align: right;\">\n",
              "      <th></th>\n",
              "      <th>ANO_ELEICAO</th>\n",
              "      <th>CD_CARGO</th>\n",
              "      <th>SG_UF</th>\n",
              "      <th>NR_PARTIDO</th>\n",
              "      <th>SG_PARTIDO</th>\n",
              "      <th>CD_GENERO</th>\n",
              "      <th>DS_GENERO</th>\n",
              "      <th>CD_COR_RACA</th>\n",
              "      <th>DS_COR_RACA</th>\n",
              "      <th>NR_IDADE_DATA_POSSE</th>\n",
              "      <th>VR_DESPESA_MAX_CAMPANHA</th>\n",
              "    </tr>\n",
              "  </thead>\n",
              "  <tbody>\n",
              "    <tr>\n",
              "      <th>0</th>\n",
              "      <td>2020</td>\n",
              "      <td>13</td>\n",
              "      <td>AP</td>\n",
              "      <td>11</td>\n",
              "      <td>PP</td>\n",
              "      <td>2</td>\n",
              "      <td>MASCULINO</td>\n",
              "      <td>2</td>\n",
              "      <td>PRETA</td>\n",
              "      <td>44.0</td>\n",
              "      <td>12307.75</td>\n",
              "    </tr>\n",
              "    <tr>\n",
              "      <th>1</th>\n",
              "      <td>2020</td>\n",
              "      <td>13</td>\n",
              "      <td>AP</td>\n",
              "      <td>13</td>\n",
              "      <td>PT</td>\n",
              "      <td>2</td>\n",
              "      <td>MASCULINO</td>\n",
              "      <td>3</td>\n",
              "      <td>PARDA</td>\n",
              "      <td>63.0</td>\n",
              "      <td>24149.88</td>\n",
              "    </tr>\n",
              "    <tr>\n",
              "      <th>2</th>\n",
              "      <td>2020</td>\n",
              "      <td>13</td>\n",
              "      <td>AP</td>\n",
              "      <td>55</td>\n",
              "      <td>PSD</td>\n",
              "      <td>2</td>\n",
              "      <td>MASCULINO</td>\n",
              "      <td>2</td>\n",
              "      <td>PRETA</td>\n",
              "      <td>42.0</td>\n",
              "      <td>12307.75</td>\n",
              "    </tr>\n",
              "    <tr>\n",
              "      <th>4</th>\n",
              "      <td>2020</td>\n",
              "      <td>13</td>\n",
              "      <td>AP</td>\n",
              "      <td>12</td>\n",
              "      <td>PDT</td>\n",
              "      <td>2</td>\n",
              "      <td>MASCULINO</td>\n",
              "      <td>3</td>\n",
              "      <td>PARDA</td>\n",
              "      <td>42.0</td>\n",
              "      <td>12307.75</td>\n",
              "    </tr>\n",
              "    <tr>\n",
              "      <th>5</th>\n",
              "      <td>2020</td>\n",
              "      <td>13</td>\n",
              "      <td>AP</td>\n",
              "      <td>17</td>\n",
              "      <td>PSL</td>\n",
              "      <td>2</td>\n",
              "      <td>MASCULINO</td>\n",
              "      <td>3</td>\n",
              "      <td>PARDA</td>\n",
              "      <td>25.0</td>\n",
              "      <td>151743.76</td>\n",
              "    </tr>\n",
              "  </tbody>\n",
              "</table>\n",
              "</div>\n",
              "      <button class=\"colab-df-convert\" onclick=\"convertToInteractive('df-1406dddd-247b-4edd-9a2e-96bfb8069708')\"\n",
              "              title=\"Convert this dataframe to an interactive table.\"\n",
              "              style=\"display:none;\">\n",
              "        \n",
              "  <svg xmlns=\"http://www.w3.org/2000/svg\" height=\"24px\"viewBox=\"0 0 24 24\"\n",
              "       width=\"24px\">\n",
              "    <path d=\"M0 0h24v24H0V0z\" fill=\"none\"/>\n",
              "    <path d=\"M18.56 5.44l.94 2.06.94-2.06 2.06-.94-2.06-.94-.94-2.06-.94 2.06-2.06.94zm-11 1L8.5 8.5l.94-2.06 2.06-.94-2.06-.94L8.5 2.5l-.94 2.06-2.06.94zm10 10l.94 2.06.94-2.06 2.06-.94-2.06-.94-.94-2.06-.94 2.06-2.06.94z\"/><path d=\"M17.41 7.96l-1.37-1.37c-.4-.4-.92-.59-1.43-.59-.52 0-1.04.2-1.43.59L10.3 9.45l-7.72 7.72c-.78.78-.78 2.05 0 2.83L4 21.41c.39.39.9.59 1.41.59.51 0 1.02-.2 1.41-.59l7.78-7.78 2.81-2.81c.8-.78.8-2.07 0-2.86zM5.41 20L4 18.59l7.72-7.72 1.47 1.35L5.41 20z\"/>\n",
              "  </svg>\n",
              "      </button>\n",
              "      \n",
              "  <style>\n",
              "    .colab-df-container {\n",
              "      display:flex;\n",
              "      flex-wrap:wrap;\n",
              "      gap: 12px;\n",
              "    }\n",
              "\n",
              "    .colab-df-convert {\n",
              "      background-color: #E8F0FE;\n",
              "      border: none;\n",
              "      border-radius: 50%;\n",
              "      cursor: pointer;\n",
              "      display: none;\n",
              "      fill: #1967D2;\n",
              "      height: 32px;\n",
              "      padding: 0 0 0 0;\n",
              "      width: 32px;\n",
              "    }\n",
              "\n",
              "    .colab-df-convert:hover {\n",
              "      background-color: #E2EBFA;\n",
              "      box-shadow: 0px 1px 2px rgba(60, 64, 67, 0.3), 0px 1px 3px 1px rgba(60, 64, 67, 0.15);\n",
              "      fill: #174EA6;\n",
              "    }\n",
              "\n",
              "    [theme=dark] .colab-df-convert {\n",
              "      background-color: #3B4455;\n",
              "      fill: #D2E3FC;\n",
              "    }\n",
              "\n",
              "    [theme=dark] .colab-df-convert:hover {\n",
              "      background-color: #434B5C;\n",
              "      box-shadow: 0px 1px 3px 1px rgba(0, 0, 0, 0.15);\n",
              "      filter: drop-shadow(0px 1px 2px rgba(0, 0, 0, 0.3));\n",
              "      fill: #FFFFFF;\n",
              "    }\n",
              "  </style>\n",
              "\n",
              "      <script>\n",
              "        const buttonEl =\n",
              "          document.querySelector('#df-1406dddd-247b-4edd-9a2e-96bfb8069708 button.colab-df-convert');\n",
              "        buttonEl.style.display =\n",
              "          google.colab.kernel.accessAllowed ? 'block' : 'none';\n",
              "\n",
              "        async function convertToInteractive(key) {\n",
              "          const element = document.querySelector('#df-1406dddd-247b-4edd-9a2e-96bfb8069708');\n",
              "          const dataTable =\n",
              "            await google.colab.kernel.invokeFunction('convertToInteractive',\n",
              "                                                     [key], {});\n",
              "          if (!dataTable) return;\n",
              "\n",
              "          const docLinkHtml = 'Like what you see? Visit the ' +\n",
              "            '<a target=\"_blank\" href=https://colab.research.google.com/notebooks/data_table.ipynb>data table notebook</a>'\n",
              "            + ' to learn more about interactive tables.';\n",
              "          element.innerHTML = '';\n",
              "          dataTable['output_type'] = 'display_data';\n",
              "          await google.colab.output.renderOutput(dataTable, element);\n",
              "          const docLink = document.createElement('div');\n",
              "          docLink.innerHTML = docLinkHtml;\n",
              "          element.appendChild(docLink);\n",
              "        }\n",
              "      </script>\n",
              "    </div>\n",
              "  </div>\n",
              "  "
            ]
          },
          "metadata": {},
          "execution_count": 79
        }
      ]
    },
    {
      "cell_type": "code",
      "source": [
        "# Resultado\n",
        "# Equivale à select count(ANO_ELEICAO), count(DS_GENERO), count(CD_CARGO) from df_raca_genero group by ANO_ELEICAO, DS_GENERO\n",
        "agrupamento_ano_genero = df_raca_genero[['ANO_ELEICAO', 'DS_GENERO', 'CD_CARGO']].groupby(by=['ANO_ELEICAO','DS_GENERO']).count()"
      ],
      "metadata": {
        "id": "-MmYzBm562i9"
      },
      "id": "-MmYzBm562i9",
      "execution_count": 92,
      "outputs": []
    },
    {
      "cell_type": "code",
      "source": [
        "agrupamento_ano_genero"
      ],
      "metadata": {
        "colab": {
          "base_uri": "https://localhost:8080/",
          "height": 206
        },
        "id": "Ui_Va9xE911m",
        "outputId": "c27ff149-8ca4-45c0-85e9-8f29a89382e2"
      },
      "id": "Ui_Va9xE911m",
      "execution_count": 93,
      "outputs": [
        {
          "output_type": "execute_result",
          "data": {
            "text/plain": [
              "                       CD_CARGO\n",
              "ANO_ELEICAO DS_GENERO          \n",
              "2016        FEMININO       6305\n",
              "            MASCULINO     13348\n",
              "2020        FEMININO       8021\n",
              "            MASCULINO     15068"
            ],
            "text/html": [
              "\n",
              "  <div id=\"df-7ef641f5-b7ff-4091-90f7-89ac4b6d867b\">\n",
              "    <div class=\"colab-df-container\">\n",
              "      <div>\n",
              "<style scoped>\n",
              "    .dataframe tbody tr th:only-of-type {\n",
              "        vertical-align: middle;\n",
              "    }\n",
              "\n",
              "    .dataframe tbody tr th {\n",
              "        vertical-align: top;\n",
              "    }\n",
              "\n",
              "    .dataframe thead th {\n",
              "        text-align: right;\n",
              "    }\n",
              "</style>\n",
              "<table border=\"1\" class=\"dataframe\">\n",
              "  <thead>\n",
              "    <tr style=\"text-align: right;\">\n",
              "      <th></th>\n",
              "      <th></th>\n",
              "      <th>CD_CARGO</th>\n",
              "    </tr>\n",
              "    <tr>\n",
              "      <th>ANO_ELEICAO</th>\n",
              "      <th>DS_GENERO</th>\n",
              "      <th></th>\n",
              "    </tr>\n",
              "  </thead>\n",
              "  <tbody>\n",
              "    <tr>\n",
              "      <th rowspan=\"2\" valign=\"top\">2016</th>\n",
              "      <th>FEMININO</th>\n",
              "      <td>6305</td>\n",
              "    </tr>\n",
              "    <tr>\n",
              "      <th>MASCULINO</th>\n",
              "      <td>13348</td>\n",
              "    </tr>\n",
              "    <tr>\n",
              "      <th rowspan=\"2\" valign=\"top\">2020</th>\n",
              "      <th>FEMININO</th>\n",
              "      <td>8021</td>\n",
              "    </tr>\n",
              "    <tr>\n",
              "      <th>MASCULINO</th>\n",
              "      <td>15068</td>\n",
              "    </tr>\n",
              "  </tbody>\n",
              "</table>\n",
              "</div>\n",
              "      <button class=\"colab-df-convert\" onclick=\"convertToInteractive('df-7ef641f5-b7ff-4091-90f7-89ac4b6d867b')\"\n",
              "              title=\"Convert this dataframe to an interactive table.\"\n",
              "              style=\"display:none;\">\n",
              "        \n",
              "  <svg xmlns=\"http://www.w3.org/2000/svg\" height=\"24px\"viewBox=\"0 0 24 24\"\n",
              "       width=\"24px\">\n",
              "    <path d=\"M0 0h24v24H0V0z\" fill=\"none\"/>\n",
              "    <path d=\"M18.56 5.44l.94 2.06.94-2.06 2.06-.94-2.06-.94-.94-2.06-.94 2.06-2.06.94zm-11 1L8.5 8.5l.94-2.06 2.06-.94-2.06-.94L8.5 2.5l-.94 2.06-2.06.94zm10 10l.94 2.06.94-2.06 2.06-.94-2.06-.94-.94-2.06-.94 2.06-2.06.94z\"/><path d=\"M17.41 7.96l-1.37-1.37c-.4-.4-.92-.59-1.43-.59-.52 0-1.04.2-1.43.59L10.3 9.45l-7.72 7.72c-.78.78-.78 2.05 0 2.83L4 21.41c.39.39.9.59 1.41.59.51 0 1.02-.2 1.41-.59l7.78-7.78 2.81-2.81c.8-.78.8-2.07 0-2.86zM5.41 20L4 18.59l7.72-7.72 1.47 1.35L5.41 20z\"/>\n",
              "  </svg>\n",
              "      </button>\n",
              "      \n",
              "  <style>\n",
              "    .colab-df-container {\n",
              "      display:flex;\n",
              "      flex-wrap:wrap;\n",
              "      gap: 12px;\n",
              "    }\n",
              "\n",
              "    .colab-df-convert {\n",
              "      background-color: #E8F0FE;\n",
              "      border: none;\n",
              "      border-radius: 50%;\n",
              "      cursor: pointer;\n",
              "      display: none;\n",
              "      fill: #1967D2;\n",
              "      height: 32px;\n",
              "      padding: 0 0 0 0;\n",
              "      width: 32px;\n",
              "    }\n",
              "\n",
              "    .colab-df-convert:hover {\n",
              "      background-color: #E2EBFA;\n",
              "      box-shadow: 0px 1px 2px rgba(60, 64, 67, 0.3), 0px 1px 3px 1px rgba(60, 64, 67, 0.15);\n",
              "      fill: #174EA6;\n",
              "    }\n",
              "\n",
              "    [theme=dark] .colab-df-convert {\n",
              "      background-color: #3B4455;\n",
              "      fill: #D2E3FC;\n",
              "    }\n",
              "\n",
              "    [theme=dark] .colab-df-convert:hover {\n",
              "      background-color: #434B5C;\n",
              "      box-shadow: 0px 1px 3px 1px rgba(0, 0, 0, 0.15);\n",
              "      filter: drop-shadow(0px 1px 2px rgba(0, 0, 0, 0.3));\n",
              "      fill: #FFFFFF;\n",
              "    }\n",
              "  </style>\n",
              "\n",
              "      <script>\n",
              "        const buttonEl =\n",
              "          document.querySelector('#df-7ef641f5-b7ff-4091-90f7-89ac4b6d867b button.colab-df-convert');\n",
              "        buttonEl.style.display =\n",
              "          google.colab.kernel.accessAllowed ? 'block' : 'none';\n",
              "\n",
              "        async function convertToInteractive(key) {\n",
              "          const element = document.querySelector('#df-7ef641f5-b7ff-4091-90f7-89ac4b6d867b');\n",
              "          const dataTable =\n",
              "            await google.colab.kernel.invokeFunction('convertToInteractive',\n",
              "                                                     [key], {});\n",
              "          if (!dataTable) return;\n",
              "\n",
              "          const docLinkHtml = 'Like what you see? Visit the ' +\n",
              "            '<a target=\"_blank\" href=https://colab.research.google.com/notebooks/data_table.ipynb>data table notebook</a>'\n",
              "            + ' to learn more about interactive tables.';\n",
              "          element.innerHTML = '';\n",
              "          dataTable['output_type'] = 'display_data';\n",
              "          await google.colab.output.renderOutput(dataTable, element);\n",
              "          const docLink = document.createElement('div');\n",
              "          docLink.innerHTML = docLinkHtml;\n",
              "          element.appendChild(docLink);\n",
              "        }\n",
              "      </script>\n",
              "    </div>\n",
              "  </div>\n",
              "  "
            ]
          },
          "metadata": {},
          "execution_count": 93
        }
      ]
    },
    {
      "cell_type": "code",
      "source": [
        "# Usando matplotlib para imprimir resultados em forma de gráfico de barra\n",
        "df_raca_genero.groupby(['ANO_ELEICAO', 'DS_GENERO']).sum().unstack(0).plot(kind='bar')"
      ],
      "metadata": {
        "id": "hmr1J7SR-VS5"
      },
      "id": "hmr1J7SR-VS5",
      "execution_count": null,
      "outputs": []
    },
    {
      "cell_type": "markdown",
      "id": "aaeb951e",
      "metadata": {
        "id": "aaeb951e"
      },
      "source": [
        "# Qual a faixa etária média das pessoas candidatas para a Câmara de Vereadores?"
      ]
    },
    {
      "cell_type": "code",
      "execution_count": 109,
      "id": "170e36ba",
      "metadata": {
        "id": "170e36ba"
      },
      "outputs": [],
      "source": [
        "cortes = [18,25,35,45,55,65,100]"
      ]
    },
    {
      "cell_type": "code",
      "source": [
        "categorias = ['18 a 24 anos', '25 a 34 anos', '35 a 44 anos', '45 a 54 anos', '55 a 64 anos', 'acima de 64 anos']"
      ],
      "metadata": {
        "id": "2d9faPZ1_GYJ"
      },
      "id": "2d9faPZ1_GYJ",
      "execution_count": 103,
      "outputs": []
    },
    {
      "cell_type": "code",
      "source": [
        "df_raca_genero['FAIXA_ETARIA'] = pd.cut(df_raca_genero['NR_IDADE_DATA_POSSE'], cortes, labels=categorias)"
      ],
      "metadata": {
        "id": "vWStlJ-t_TtW"
      },
      "id": "vWStlJ-t_TtW",
      "execution_count": 110,
      "outputs": []
    },
    {
      "cell_type": "code",
      "source": [
        "df_raca_genero['FAIXA_ETARIA'].mode()"
      ],
      "metadata": {
        "id": "y5q64XmB__NW"
      },
      "id": "y5q64XmB__NW",
      "execution_count": null,
      "outputs": []
    },
    {
      "cell_type": "markdown",
      "id": "173e6e5f",
      "metadata": {
        "id": "173e6e5f"
      },
      "source": [
        "# Visualize graficamente a distribuição da variável DS_COR_RACA em 2020"
      ]
    },
    {
      "cell_type": "code",
      "execution_count": 118,
      "id": "add56a8b",
      "metadata": {
        "id": "add56a8b"
      },
      "outputs": [],
      "source": [
        "df_raca_2020 = df_raca_genero[df_raca_genero['ANO_ELEICAO'] == 2020].copy()"
      ]
    },
    {
      "cell_type": "code",
      "source": [
        "df_raca_2020[['CD_COR_RACA','DS_COR_RACA']].groupby(('DS_COR_RACA')).count()"
      ],
      "metadata": {
        "id": "sf9cEBsKBSXe"
      },
      "id": "sf9cEBsKBSXe",
      "execution_count": null,
      "outputs": []
    },
    {
      "cell_type": "code",
      "source": [
        "# Listando as raças existentes\n",
        "raca = df_raca_2020['DS_COR_RACA'].unique().tolist()\n",
        "raca"
      ],
      "metadata": {
        "id": "bCWK4UINBgS_"
      },
      "id": "bCWK4UINBgS_",
      "execution_count": 121,
      "outputs": []
    },
    {
      "cell_type": "code",
      "source": [
        "# Listando a quantidade de candidatos por raça\n",
        "frequencia = df_raca_2020['DS_COR_RACA'].value_counts(sort=False).tolist()\n",
        "frequencia"
      ],
      "metadata": {
        "id": "z6ZZ-xzsBoYO"
      },
      "id": "z6ZZ-xzsBoYO",
      "execution_count": null,
      "outputs": []
    },
    {
      "cell_type": "code",
      "source": [
        "plt.bar(raca, frequencia)\n",
        "plt.xticks()\n",
        "plt.title('Distribuição por raça em 2020 no PA e AM')\n",
        "plt.ylabel('Quantidade de candidaturas')\n",
        "plt.show()"
      ],
      "metadata": {
        "colab": {
          "base_uri": "https://localhost:8080/",
          "height": 452
        },
        "id": "twFpC7fICDu4",
        "outputId": "54da0107-c609-458e-9b29-904c07fd5524"
      },
      "id": "twFpC7fICDu4",
      "execution_count": 132,
      "outputs": [
        {
          "output_type": "display_data",
          "data": {
            "text/plain": [
              "<Figure size 640x480 with 1 Axes>"
            ],
            "image/png": "[encoded data removed]"
          },
          "metadata": {}
        }
      ]
    },
    {
      "cell_type": "markdown",
      "id": "85ffe243",
      "metadata": {
        "id": "85ffe243"
      },
      "source": [
        "# Há correlação entre idade, gênero e custo da campanha?"
      ]
    },
    {
      "cell_type": "code",
      "execution_count": 135,
      "id": "6f656742",
      "metadata": {
        "colab": {
          "base_uri": "https://localhost:8080/",
          "height": 143
        },
        "id": "6f656742",
        "outputId": "efe67411-2880-4d3a-db20-a1a0c8d0a627"
      },
      "outputs": [
        {
          "output_type": "execute_result",
          "data": {
            "text/plain": [
              "                         NR_IDADE_DATA_POSSE  CD_GENERO  \\\n",
              "NR_IDADE_DATA_POSSE                 1.000000  -0.091149   \n",
              "CD_GENERO                          -0.091149   1.000000   \n",
              "VR_DESPESA_MAX_CAMPANHA             0.071978  -0.014853   \n",
              "\n",
              "                         VR_DESPESA_MAX_CAMPANHA  \n",
              "NR_IDADE_DATA_POSSE                     0.071978  \n",
              "CD_GENERO                              -0.014853  \n",
              "VR_DESPESA_MAX_CAMPANHA                 1.000000  "
            ],
            "text/html": [
              "\n",
              "  <div id=\"df-1781af3c-d4c8-4779-b1ce-33b72bc2aec4\">\n",
              "    <div class=\"colab-df-container\">\n",
              "      <div>\n",
              "<style scoped>\n",
              "    .dataframe tbody tr th:only-of-type {\n",
              "        vertical-align: middle;\n",
              "    }\n",
              "\n",
              "    .dataframe tbody tr th {\n",
              "        vertical-align: top;\n",
              "    }\n",
              "\n",
              "    .dataframe thead th {\n",
              "        text-align: right;\n",
              "    }\n",
              "</style>\n",
              "<table border=\"1\" class=\"dataframe\">\n",
              "  <thead>\n",
              "    <tr style=\"text-align: right;\">\n",
              "      <th></th>\n",
              "      <th>NR_IDADE_DATA_POSSE</th>\n",
              "      <th>CD_GENERO</th>\n",
              "      <th>VR_DESPESA_MAX_CAMPANHA</th>\n",
              "    </tr>\n",
              "  </thead>\n",
              "  <tbody>\n",
              "    <tr>\n",
              "      <th>NR_IDADE_DATA_POSSE</th>\n",
              "      <td>1.000000</td>\n",
              "      <td>-0.091149</td>\n",
              "      <td>0.071978</td>\n",
              "    </tr>\n",
              "    <tr>\n",
              "      <th>CD_GENERO</th>\n",
              "      <td>-0.091149</td>\n",
              "      <td>1.000000</td>\n",
              "      <td>-0.014853</td>\n",
              "    </tr>\n",
              "    <tr>\n",
              "      <th>VR_DESPESA_MAX_CAMPANHA</th>\n",
              "      <td>0.071978</td>\n",
              "      <td>-0.014853</td>\n",
              "      <td>1.000000</td>\n",
              "    </tr>\n",
              "  </tbody>\n",
              "</table>\n",
              "</div>\n",
              "      <button class=\"colab-df-convert\" onclick=\"convertToInteractive('df-1781af3c-d4c8-4779-b1ce-33b72bc2aec4')\"\n",
              "              title=\"Convert this dataframe to an interactive table.\"\n",
              "              style=\"display:none;\">\n",
              "        \n",
              "  <svg xmlns=\"http://www.w3.org/2000/svg\" height=\"24px\"viewBox=\"0 0 24 24\"\n",
              "       width=\"24px\">\n",
              "    <path d=\"M0 0h24v24H0V0z\" fill=\"none\"/>\n",
              "    <path d=\"M18.56 5.44l.94 2.06.94-2.06 2.06-.94-2.06-.94-.94-2.06-.94 2.06-2.06.94zm-11 1L8.5 8.5l.94-2.06 2.06-.94-2.06-.94L8.5 2.5l-.94 2.06-2.06.94zm10 10l.94 2.06.94-2.06 2.06-.94-2.06-.94-.94-2.06-.94 2.06-2.06.94z\"/><path d=\"M17.41 7.96l-1.37-1.37c-.4-.4-.92-.59-1.43-.59-.52 0-1.04.2-1.43.59L10.3 9.45l-7.72 7.72c-.78.78-.78 2.05 0 2.83L4 21.41c.39.39.9.59 1.41.59.51 0 1.02-.2 1.41-.59l7.78-7.78 2.81-2.81c.8-.78.8-2.07 0-2.86zM5.41 20L4 18.59l7.72-7.72 1.47 1.35L5.41 20z\"/>\n",
              "  </svg>\n",
              "      </button>\n",
              "      \n",
              "  <style>\n",
              "    .colab-df-container {\n",
              "      display:flex;\n",
              "      flex-wrap:wrap;\n",
              "      gap: 12px;\n",
              "    }\n",
              "\n",
              "    .colab-df-convert {\n",
              "      background-color: #E8F0FE;\n",
              "      border: none;\n",
              "      border-radius: 50%;\n",
              "      cursor: pointer;\n",
              "      display: none;\n",
              "      fill: #1967D2;\n",
              "      height: 32px;\n",
              "      padding: 0 0 0 0;\n",
              "      width: 32px;\n",
              "    }\n",
              "\n",
              "    .colab-df-convert:hover {\n",
              "      background-color: #E2EBFA;\n",
              "      box-shadow: 0px 1px 2px rgba(60, 64, 67, 0.3), 0px 1px 3px 1px rgba(60, 64, 67, 0.15);\n",
              "      fill: #174EA6;\n",
              "    }\n",
              "\n",
              "    [theme=dark] .colab-df-convert {\n",
              "      background-color: #3B4455;\n",
              "      fill: #D2E3FC;\n",
              "    }\n",
              "\n",
              "    [theme=dark] .colab-df-convert:hover {\n",
              "      background-color: #434B5C;\n",
              "      box-shadow: 0px 1px 3px 1px rgba(0, 0, 0, 0.15);\n",
              "      filter: drop-shadow(0px 1px 2px rgba(0, 0, 0, 0.3));\n",
              "      fill: #FFFFFF;\n",
              "    }\n",
              "  </style>\n",
              "\n",
              "      <script>\n",
              "        const buttonEl =\n",
              "          document.querySelector('#df-1781af3c-d4c8-4779-b1ce-33b72bc2aec4 button.colab-df-convert');\n",
              "        buttonEl.style.display =\n",
              "          google.colab.kernel.accessAllowed ? 'block' : 'none';\n",
              "\n",
              "        async function convertToInteractive(key) {\n",
              "          const element = document.querySelector('#df-1781af3c-d4c8-4779-b1ce-33b72bc2aec4');\n",
              "          const dataTable =\n",
              "            await google.colab.kernel.invokeFunction('convertToInteractive',\n",
              "                                                     [key], {});\n",
              "          if (!dataTable) return;\n",
              "\n",
              "          const docLinkHtml = 'Like what you see? Visit the ' +\n",
              "            '<a target=\"_blank\" href=https://colab.research.google.com/notebooks/data_table.ipynb>data table notebook</a>'\n",
              "            + ' to learn more about interactive tables.';\n",
              "          element.innerHTML = '';\n",
              "          dataTable['output_type'] = 'display_data';\n",
              "          await google.colab.output.renderOutput(dataTable, element);\n",
              "          const docLink = document.createElement('div');\n",
              "          docLink.innerHTML = docLinkHtml;\n",
              "          element.appendChild(docLink);\n",
              "        }\n",
              "      </script>\n",
              "    </div>\n",
              "  </div>\n",
              "  "
            ]
          },
          "metadata": {},
          "execution_count": 135
        }
      ],
      "source": [
        "# Utilizamos o método de pearson\n",
        "df_raca_genero[['NR_IDADE_DATA_POSSE', 'CD_GENERO', 'VR_DESPESA_MAX_CAMPANHA']].corr(method='pearson')"
      ]
    },
    {
      "cell_type": "code",
      "source": [
        "# Não existe correlação"
      ],
      "metadata": {
        "id": "EXGB6w8IEAYs"
      },
      "id": "EXGB6w8IEAYs",
      "execution_count": null,
      "outputs": []
    }
  ],
  "metadata": {
    "colab": {
      "name": "aula_aovivo.ipynb",
      "provenance": []
    },
    "kernelspec": {
      "display_name": "Python 3 (ipykernel)",
      "language": "python",
      "name": "python3"
    },
    "language_info": {
      "codemirror_mode": {
        "name": "ipython",
        "version": 3
      },
      "file_extension": ".py",
      "mimetype": "text/x-python",
      "name": "python",
      "nbconvert_exporter": "python",
      "pygments_lexer": "ipython3",
      "version": "3.10.6"
    }
  },
  "nbformat": 4,
  "nbformat_minor": 5
}