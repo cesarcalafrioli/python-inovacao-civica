{
  "cells": [
    {
      "cell_type": "markdown",
      "id": "32600998",
      "metadata": {
        "id": "32600998"
      },
      "source": [
        "# Exercício\n",
        "\n",
        "Construa um programa que:\n",
        " - Pergunte a usuária 2 números inteiros;\n",
        " - Crie uma lista numérica do intervalo;\n",
        " - Se o número for divisível por 3, substitua-o por \"Tecnologia\";\n",
        " - Se o número for divisível por 5, substitua-o por \"Cívica\";\n",
        " - Se o número for divisível por 3 e 5, substitua-o por \"Tecnologia Cívica\"."
      ]
    },
    {
      "cell_type": "code",
      "source": [
        "numero_1 = int(input('Informe um número inteiro : '))"
      ],
      "metadata": {
        "colab": {
          "base_uri": "https://localhost:8080/",
          "height": 311
        },
        "id": "btuTV4L7uFD5",
        "outputId": "d70bafb2-0929-48a0-f473-1c7860121c04"
      },
      "id": "btuTV4L7uFD5",
      "execution_count": 14,
      "outputs": [
        {
          "output_type": "error",
          "ename": "KeyboardInterrupt",
          "evalue": "ignored",
          "traceback": [
            "\u001b[0;31m---------------------------------------------------------------------------\u001b[0m",
            "\u001b[0;31mKeyboardInterrupt\u001b[0m                         Traceback (most recent call last)",
            "\u001b[0;32m<ipython-input-14-abe368b618ff>\u001b[0m in \u001b[0;36m<cell line: 1>\u001b[0;34m()\u001b[0m\n\u001b[0;32m----> 1\u001b[0;31m \u001b[0mnumero_1\u001b[0m \u001b[0;34m=\u001b[0m \u001b[0mint\u001b[0m\u001b[0;34m(\u001b[0m\u001b[0minput\u001b[0m\u001b[0;34m(\u001b[0m\u001b[0;34m'Informe um número inteiro : '\u001b[0m\u001b[0;34m)\u001b[0m\u001b[0;34m)\u001b[0m\u001b[0;34m\u001b[0m\u001b[0;34m\u001b[0m\u001b[0m\n\u001b[0m",
            "\u001b[0;32m/usr/local/lib/python3.10/dist-packages/ipykernel/kernelbase.py\u001b[0m in \u001b[0;36mraw_input\u001b[0;34m(self, prompt)\u001b[0m\n\u001b[1;32m    849\u001b[0m                 \u001b[0;34m\"raw_input was called, but this frontend does not support input requests.\"\u001b[0m\u001b[0;34m\u001b[0m\u001b[0;34m\u001b[0m\u001b[0m\n\u001b[1;32m    850\u001b[0m             )\n\u001b[0;32m--> 851\u001b[0;31m         return self._input_request(str(prompt),\n\u001b[0m\u001b[1;32m    852\u001b[0m             \u001b[0mself\u001b[0m\u001b[0;34m.\u001b[0m\u001b[0m_parent_ident\u001b[0m\u001b[0;34m,\u001b[0m\u001b[0;34m\u001b[0m\u001b[0;34m\u001b[0m\u001b[0m\n\u001b[1;32m    853\u001b[0m             \u001b[0mself\u001b[0m\u001b[0;34m.\u001b[0m\u001b[0m_parent_header\u001b[0m\u001b[0;34m,\u001b[0m\u001b[0;34m\u001b[0m\u001b[0;34m\u001b[0m\u001b[0m\n",
            "\u001b[0;32m/usr/local/lib/python3.10/dist-packages/ipykernel/kernelbase.py\u001b[0m in \u001b[0;36m_input_request\u001b[0;34m(self, prompt, ident, parent, password)\u001b[0m\n\u001b[1;32m    893\u001b[0m             \u001b[0;32mexcept\u001b[0m \u001b[0mKeyboardInterrupt\u001b[0m\u001b[0;34m:\u001b[0m\u001b[0;34m\u001b[0m\u001b[0;34m\u001b[0m\u001b[0m\n\u001b[1;32m    894\u001b[0m                 \u001b[0;31m# re-raise KeyboardInterrupt, to truncate traceback\u001b[0m\u001b[0;34m\u001b[0m\u001b[0;34m\u001b[0m\u001b[0m\n\u001b[0;32m--> 895\u001b[0;31m                 \u001b[0;32mraise\u001b[0m \u001b[0mKeyboardInterrupt\u001b[0m\u001b[0;34m(\u001b[0m\u001b[0;34m\"Interrupted by user\"\u001b[0m\u001b[0;34m)\u001b[0m \u001b[0;32mfrom\u001b[0m \u001b[0;32mNone\u001b[0m\u001b[0;34m\u001b[0m\u001b[0;34m\u001b[0m\u001b[0m\n\u001b[0m\u001b[1;32m    896\u001b[0m             \u001b[0;32mexcept\u001b[0m \u001b[0mException\u001b[0m \u001b[0;32mas\u001b[0m \u001b[0me\u001b[0m\u001b[0;34m:\u001b[0m\u001b[0;34m\u001b[0m\u001b[0;34m\u001b[0m\u001b[0m\n\u001b[1;32m    897\u001b[0m                 \u001b[0mself\u001b[0m\u001b[0;34m.\u001b[0m\u001b[0mlog\u001b[0m\u001b[0;34m.\u001b[0m\u001b[0mwarning\u001b[0m\u001b[0;34m(\u001b[0m\u001b[0;34m\"Invalid Message:\"\u001b[0m\u001b[0;34m,\u001b[0m \u001b[0mexc_info\u001b[0m\u001b[0;34m=\u001b[0m\u001b[0;32mTrue\u001b[0m\u001b[0;34m)\u001b[0m\u001b[0;34m\u001b[0m\u001b[0;34m\u001b[0m\u001b[0m\n",
            "\u001b[0;31mKeyboardInterrupt\u001b[0m: Interrupted by user"
          ]
        }
      ]
    },
    {
      "cell_type": "code",
      "source": [
        "numero_1"
      ],
      "metadata": {
        "colab": {
          "base_uri": "https://localhost:8080/"
        },
        "id": "Zom1cxpcujrW",
        "outputId": "5fac02c8-7d76-42fe-d75d-acc32cc281ea"
      },
      "id": "Zom1cxpcujrW",
      "execution_count": 12,
      "outputs": [
        {
          "output_type": "execute_result",
          "data": {
            "text/plain": [
              "2"
            ]
          },
          "metadata": {},
          "execution_count": 12
        }
      ]
    },
    {
      "cell_type": "code",
      "source": [
        "numero_2 = int(input('Informe outro número inteiro maior que o anterior : '))"
      ],
      "metadata": {
        "id": "YzH4ghSeuz6t"
      },
      "id": "YzH4ghSeuz6t",
      "execution_count": null,
      "outputs": []
    },
    {
      "cell_type": "code",
      "source": [
        "numero_2"
      ],
      "metadata": {
        "colab": {
          "base_uri": "https://localhost:8080/"
        },
        "id": "nZcFEBlMu9Rd",
        "outputId": "b9598d56-5d3b-4a15-9220-e8f95bbdcd3a"
      },
      "id": "nZcFEBlMu9Rd",
      "execution_count": 4,
      "outputs": [
        {
          "output_type": "execute_result",
          "data": {
            "text/plain": [
              "18"
            ]
          },
          "metadata": {},
          "execution_count": 4
        }
      ]
    },
    {
      "cell_type": "code",
      "source": [
        "range(numero_1, numero_2)"
      ],
      "metadata": {
        "colab": {
          "base_uri": "https://localhost:8080/"
        },
        "id": "p-Ylw5rbu-5D",
        "outputId": "9e6881ed-48dd-4eb1-f0b7-c4fb6763637f"
      },
      "id": "p-Ylw5rbu-5D",
      "execution_count": 6,
      "outputs": [
        {
          "output_type": "execute_result",
          "data": {
            "text/plain": [
              "range(2, 18)"
            ]
          },
          "metadata": {},
          "execution_count": 6
        }
      ]
    },
    {
      "cell_type": "code",
      "source": [
        "list(range(numero_1, numero_2))"
      ],
      "metadata": {
        "colab": {
          "base_uri": "https://localhost:8080/"
        },
        "id": "mCP5yCaEvnvg",
        "outputId": "e353f55d-de13-4060-8635-8679478e2e59"
      },
      "id": "mCP5yCaEvnvg",
      "execution_count": 9,
      "outputs": [
        {
          "output_type": "execute_result",
          "data": {
            "text/plain": [
              "[2, 3, 4, 5, 6, 7, 8, 9, 10, 11, 12, 13, 14, 15, 16, 17]"
            ]
          },
          "metadata": {},
          "execution_count": 9
        }
      ]
    },
    {
      "cell_type": "code",
      "source": [
        "list(range(numero_1, numero_2, 4))"
      ],
      "metadata": {
        "colab": {
          "base_uri": "https://localhost:8080/"
        },
        "id": "b3S3HHHgv1um",
        "outputId": "1d091980-4bc4-4b57-b344-df143838249b"
      },
      "id": "b3S3HHHgv1um",
      "execution_count": 11,
      "outputs": [
        {
          "output_type": "execute_result",
          "data": {
            "text/plain": [
              "[2, 6, 10, 14]"
            ]
          },
          "metadata": {},
          "execution_count": 11
        }
      ]
    },
    {
      "cell_type": "code",
      "source": [
        "lista_numero = list(range(numero_1, numero_2))"
      ],
      "metadata": {
        "id": "hp5ZuFrnxNmJ"
      },
      "id": "hp5ZuFrnxNmJ",
      "execution_count": 16,
      "outputs": []
    },
    {
      "cell_type": "code",
      "source": [
        "for item in lista_numero:\n",
        "  print(item)"
      ],
      "metadata": {
        "id": "0iBjqPDmw-NO"
      },
      "id": "0iBjqPDmw-NO",
      "execution_count": null,
      "outputs": []
    },
    {
      "cell_type": "code",
      "source": [
        "print(item)"
      ],
      "metadata": {
        "colab": {
          "base_uri": "https://localhost:8080/"
        },
        "id": "lHbilDJyxXhw",
        "outputId": "abc3a102-5429-45aa-c17a-6b273f2754bb"
      },
      "id": "lHbilDJyxXhw",
      "execution_count": 18,
      "outputs": [
        {
          "output_type": "stream",
          "name": "stdout",
          "text": [
            "17\n"
          ]
        }
      ]
    },
    {
      "cell_type": "code",
      "source": [
        "lista_numero = list(range(numero_1, numero_2))"
      ],
      "metadata": {
        "id": "4Ktm9Jh-0iCr"
      },
      "id": "4Ktm9Jh-0iCr",
      "execution_count": 46,
      "outputs": []
    },
    {
      "cell_type": "code",
      "source": [
        "lista_vazia = []"
      ],
      "metadata": {
        "id": "-wH05UGKxZhb"
      },
      "id": "-wH05UGKxZhb",
      "execution_count": 47,
      "outputs": []
    },
    {
      "cell_type": "code",
      "source": [
        "for item in lista_numero:\n",
        "  if item % 3 == 0 and item % 5 == 0:\n",
        "    lista_vazia.append(['Tecnologia Cívica', item])\n",
        "  elif item % 3 == 0:\n",
        "    lista_vazia.append(['Tecnologia', item])\n",
        "  elif item % 5 == 0:\n",
        "    lista_vazia.append(['Cívica', item])\n",
        "  else:\n",
        "    lista_vazia.append(item)\n",
        "\n",
        "\n",
        "print(lista_vazia)"
      ],
      "metadata": {
        "colab": {
          "base_uri": "https://localhost:8080/"
        },
        "id": "frVpOKQ2y7n3",
        "outputId": "3958d34e-afef-4a51-9f57-b453d39d2c24"
      },
      "id": "frVpOKQ2y7n3",
      "execution_count": 48,
      "outputs": [
        {
          "output_type": "stream",
          "name": "stdout",
          "text": [
            "[2, ['Tecnologia', 3], 4, ['Cívica', 5], ['Tecnologia', 6], 7, 8, ['Tecnologia', 9], ['Cívica', 10], 11, ['Tecnologia', 12], 13, 14, ['Tecnologia Cívica', 15], 16, 17]\n"
          ]
        }
      ]
    },
    {
      "cell_type": "code",
      "source": [
        "print(item)"
      ],
      "metadata": {
        "id": "_sbnaSnkz2bS"
      },
      "id": "_sbnaSnkz2bS",
      "execution_count": null,
      "outputs": []
    },
    {
      "cell_type": "code",
      "source": [
        "print(lista_numero)"
      ],
      "metadata": {
        "id": "MnsNKAfM2QUY"
      },
      "id": "MnsNKAfM2QUY",
      "execution_count": null,
      "outputs": []
    }
  ],
  "metadata": {
    "kernelspec": {
      "display_name": "Python 3 (ipykernel)",
      "language": "python",
      "name": "python3"
    },
    "language_info": {
      "codemirror_mode": {
        "name": "ipython",
        "version": 3
      },
      "file_extension": ".py",
      "mimetype": "text/x-python",
      "name": "python",
      "nbconvert_exporter": "python",
      "pygments_lexer": "ipython3",
      "version": "3.10.6"
    },
    "colab": {
      "provenance": []
    }
  },
  "nbformat": 4,
  "nbformat_minor": 5
}