{
  "cells": [
    {
      "cell_type": "markdown",
      "id": "b0c02ae8-da85-499a-99c9-8c3da9e1ae05",
      "metadata": {
        "id": "b0c02ae8-da85-499a-99c9-8c3da9e1ae05"
      },
      "source": [
        "# Explorando dados\n",
        "\n",
        "Neste desafio colocaremos em prática alguns conceitos apresentado nas aulas. Para isso, usaremos o conjunto de dados [Candidatos - 2022](https://dadosabertos.tse.jus.br/dataset/candidatos-2022) disponível no Portal de Dados Abertos do Tribunal Superior Eleitoral.\n",
        "\n",
        "Os dados também podem ser encontrados na pasta \"Dados\" deste repositório.\n",
        "\n",
        "Siga as orientações abaixo para completar o desafio:"
      ]
    },
    {
      "cell_type": "markdown",
      "id": "d2bf34dd-2879-4dd6-b65b-4944a34c03d4",
      "metadata": {
        "id": "d2bf34dd-2879-4dd6-b65b-4944a34c03d4"
      },
      "source": [
        "# Importe os pacotes necessários"
      ]
    },
    {
      "cell_type": "code",
      "execution_count": 1,
      "id": "b286617f-43b9-4c20-8b0e-5ae0da7e4a9f",
      "metadata": {
        "id": "b286617f-43b9-4c20-8b0e-5ae0da7e4a9f"
      },
      "outputs": [],
      "source": [
        "import pandas as pd\n",
        "import glob as gb"
      ]
    },
    {
      "cell_type": "markdown",
      "id": "ced62f05-5e3c-4565-b13c-f359fb8c35bf",
      "metadata": {
        "id": "ced62f05-5e3c-4565-b13c-f359fb8c35bf"
      },
      "source": [
        "# Crie uma lista com o título dos arquivos usando a biblioteca Gloob"
      ]
    },
    {
      "cell_type": "code",
      "execution_count": 27,
      "id": "45b0cb8f-d567-4274-877f-53e8faa7d1be",
      "metadata": {
        "id": "45b0cb8f-d567-4274-877f-53e8faa7d1be"
      },
      "outputs": [],
      "source": [
        "arquivos = gb.glob('consulta_*A?.csv')"
      ]
    },
    {
      "cell_type": "code",
      "source": [
        "arquivos"
      ],
      "metadata": {
        "id": "-ugRbrIQEWRH",
        "outputId": "c82960f8-dee7-43b1-dc71-61168902810c",
        "colab": {
          "base_uri": "https://localhost:8080/"
        }
      },
      "id": "-ugRbrIQEWRH",
      "execution_count": 28,
      "outputs": [
        {
          "output_type": "execute_result",
          "data": {
            "text/plain": [
              "['consulta_cand_2022_AP.csv']"
            ]
          },
          "metadata": {},
          "execution_count": 28
        }
      ]
    },
    {
      "cell_type": "code",
      "source": [
        "arquivos = gb.glob('consulta_*.csv')"
      ],
      "metadata": {
        "id": "N_BBIG-oMNBM"
      },
      "id": "N_BBIG-oMNBM",
      "execution_count": 29,
      "outputs": []
    },
    {
      "cell_type": "code",
      "source": [
        "arquivos"
      ],
      "metadata": {
        "id": "oclwuz_kMP-f",
        "outputId": "f9973b37-46b8-40df-e471-1d48ff1d2347",
        "colab": {
          "base_uri": "https://localhost:8080/"
        }
      },
      "id": "oclwuz_kMP-f",
      "execution_count": 30,
      "outputs": [
        {
          "output_type": "execute_result",
          "data": {
            "text/plain": [
              "['consulta_cand_2022_AP.csv', 'consulta_cand_2022_PA.csv']"
            ]
          },
          "metadata": {},
          "execution_count": 30
        }
      ]
    },
    {
      "cell_type": "markdown",
      "id": "cf29db73-447b-4375-bad5-2df7aa7c4743",
      "metadata": {
        "id": "cf29db73-447b-4375-bad5-2df7aa7c4743"
      },
      "source": [
        "# Crie um laço (loop) para ler todos os arquivos da lista (usando a biblioteca Pandas) e armazenar os dataframes em uma lista"
      ]
    },
    {
      "cell_type": "code",
      "source": [
        "lista_df = []"
      ],
      "metadata": {
        "id": "DbtxfQyFGtN6"
      },
      "id": "DbtxfQyFGtN6",
      "execution_count": 32,
      "outputs": []
    },
    {
      "cell_type": "code",
      "execution_count": 33,
      "id": "dd63f03d-147e-4fda-ba61-9edb0bdee254",
      "metadata": {
        "id": "dd63f03d-147e-4fda-ba61-9edb0bdee254"
      },
      "outputs": [],
      "source": [
        "for dados_estado in arquivos:\n",
        "  df_estado = pd.read_csv(dados_estado, sep=';', encoding='latin_1', na_values=['#NULO', -1, '#NE', -3])\n",
        "  lista_df.append(df_estado)"
      ]
    },
    {
      "cell_type": "code",
      "source": [
        "lista_df"
      ],
      "metadata": {
        "id": "9YSNnopzHYcM"
      },
      "id": "9YSNnopzHYcM",
      "execution_count": null,
      "outputs": []
    },
    {
      "cell_type": "code",
      "source": [
        "lista_df[0].info()"
      ],
      "metadata": {
        "id": "iDfDOTxoKt_n",
        "outputId": "5a2b779d-d5c2-4f75-9d48-c996a341cbe6",
        "colab": {
          "base_uri": "https://localhost:8080/"
        }
      },
      "id": "iDfDOTxoKt_n",
      "execution_count": 35,
      "outputs": [
        {
          "output_type": "stream",
          "name": "stdout",
          "text": [
            "<class 'pandas.core.frame.DataFrame'>\n",
            "RangeIndex: 557 entries, 0 to 556\n",
            "Data columns (total 71 columns):\n",
            " #   Column                         Non-Null Count  Dtype  \n",
            "---  ------                         --------------  -----  \n",
            " 0   DT_GERACAO                     557 non-null    object \n",
            " 1   HH_GERACAO                     557 non-null    object \n",
            " 2   ANO_ELEICAO                    557 non-null    int64  \n",
            " 3   CD_TIPO_ELEICAO                557 non-null    int64  \n",
            " 4   NM_TIPO_ELEICAO                557 non-null    object \n",
            " 5   NR_TURNO                       557 non-null    int64  \n",
            " 6   CD_ELEICAO                     557 non-null    int64  \n",
            " 7   DS_ELEICAO                     557 non-null    object \n",
            " 8   DT_ELEICAO                     557 non-null    object \n",
            " 9   TP_ABRANGENCIA                 557 non-null    object \n",
            " 10  SG_UF                          557 non-null    object \n",
            " 11  SG_UE                          557 non-null    object \n",
            " 12  NM_UE                          557 non-null    object \n",
            " 13  CD_CARGO                       557 non-null    int64  \n",
            " 14  DS_CARGO                       557 non-null    object \n",
            " 15  SQ_CANDIDATO                   557 non-null    int64  \n",
            " 16  NR_CANDIDATO                   557 non-null    int64  \n",
            " 17  NM_CANDIDATO                   557 non-null    object \n",
            " 18  NM_URNA_CANDIDATO              557 non-null    object \n",
            " 19  NM_SOCIAL_CANDIDATO            557 non-null    object \n",
            " 20  NR_CPF_CANDIDATO               557 non-null    int64  \n",
            " 21  NM_EMAIL                       557 non-null    object \n",
            " 22  CD_SITUACAO_CANDIDATURA        557 non-null    int64  \n",
            " 23  DS_SITUACAO_CANDIDATURA        557 non-null    object \n",
            " 24  CD_DETALHE_SITUACAO_CAND       557 non-null    int64  \n",
            " 25  DS_DETALHE_SITUACAO_CAND       557 non-null    object \n",
            " 26  TP_AGREMIACAO                  557 non-null    object \n",
            " 27  NR_PARTIDO                     557 non-null    int64  \n",
            " 28  SG_PARTIDO                     557 non-null    object \n",
            " 29  NM_PARTIDO                     557 non-null    object \n",
            " 30  NR_FEDERACAO                   88 non-null     float64\n",
            " 31  NM_FEDERACAO                   557 non-null    object \n",
            " 32  SG_FEDERACAO                   557 non-null    object \n",
            " 33  DS_COMPOSICAO_FEDERACAO        557 non-null    object \n",
            " 34  SQ_COLIGACAO                   557 non-null    int64  \n",
            " 35  NM_COLIGACAO                   557 non-null    object \n",
            " 36  DS_COMPOSICAO_COLIGACAO        557 non-null    object \n",
            " 37  CD_NACIONALIDADE               557 non-null    int64  \n",
            " 38  DS_NACIONALIDADE               557 non-null    object \n",
            " 39  SG_UF_NASCIMENTO               557 non-null    object \n",
            " 40  CD_MUNICIPIO_NASCIMENTO        0 non-null      float64\n",
            " 41  NM_MUNICIPIO_NASCIMENTO        557 non-null    object \n",
            " 42  DT_NASCIMENTO                  557 non-null    object \n",
            " 43  NR_IDADE_DATA_POSSE            557 non-null    int64  \n",
            " 44  NR_TITULO_ELEITORAL_CANDIDATO  557 non-null    int64  \n",
            " 45  CD_GENERO                      557 non-null    int64  \n",
            " 46  DS_GENERO                      557 non-null    object \n",
            " 47  CD_GRAU_INSTRUCAO              557 non-null    int64  \n",
            " 48  DS_GRAU_INSTRUCAO              557 non-null    object \n",
            " 49  CD_ESTADO_CIVIL                557 non-null    int64  \n",
            " 50  DS_ESTADO_CIVIL                557 non-null    object \n",
            " 51  CD_COR_RACA                    557 non-null    int64  \n",
            " 52  DS_COR_RACA                    557 non-null    object \n",
            " 53  CD_OCUPACAO                    557 non-null    int64  \n",
            " 54  DS_OCUPACAO                    557 non-null    object \n",
            " 55  VR_DESPESA_MAX_CAMPANHA        532 non-null    float64\n",
            " 56  CD_SIT_TOT_TURNO               517 non-null    float64\n",
            " 57  DS_SIT_TOT_TURNO               557 non-null    object \n",
            " 58  ST_REELEICAO                   557 non-null    object \n",
            " 59  ST_DECLARAR_BENS               557 non-null    object \n",
            " 60  NR_PROTOCOLO_CANDIDATURA       0 non-null      float64\n",
            " 61  NR_PROCESSO                    557 non-null    int64  \n",
            " 62  CD_SITUACAO_CANDIDATO_PLEITO   517 non-null    float64\n",
            " 63  DS_SITUACAO_CANDIDATO_PLEITO   557 non-null    object \n",
            " 64  CD_SITUACAO_CANDIDATO_URNA     517 non-null    float64\n",
            " 65  DS_SITUACAO_CANDIDATO_URNA     557 non-null    object \n",
            " 66  ST_CANDIDATO_INSERIDO_URNA     557 non-null    object \n",
            " 67  NM_TIPO_DESTINACAO_VOTOS       557 non-null    object \n",
            " 68  CD_SITUACAO_CANDIDATO_TOT      517 non-null    float64\n",
            " 69  DS_SITUACAO_CANDIDATO_TOT      557 non-null    object \n",
            " 70  ST_PREST_CONTAS                557 non-null    object \n",
            "dtypes: float64(8), int64(21), object(42)\n",
            "memory usage: 309.1+ KB\n"
          ]
        }
      ]
    },
    {
      "cell_type": "markdown",
      "id": "310bca4e-c1c2-4030-a427-ecda54601106",
      "metadata": {
        "id": "310bca4e-c1c2-4030-a427-ecda54601106"
      },
      "source": [
        "# Concatene todos os dataframes da lista"
      ]
    },
    {
      "cell_type": "code",
      "execution_count": 36,
      "id": "997a08ff-f355-40c1-9257-cf4a196517bd",
      "metadata": {
        "id": "997a08ff-f355-40c1-9257-cf4a196517bd"
      },
      "outputs": [],
      "source": [
        "candidaturas = pd.concat(lista_df, axis=0, ignore_index=True)"
      ]
    },
    {
      "cell_type": "code",
      "source": [
        "candidaturas.shape"
      ],
      "metadata": {
        "id": "9C3yVaYPL6ki",
        "outputId": "0ca404c2-b9c4-4e9c-c138-20dab9681c29",
        "colab": {
          "base_uri": "https://localhost:8080/"
        }
      },
      "id": "9C3yVaYPL6ki",
      "execution_count": 37,
      "outputs": [
        {
          "output_type": "execute_result",
          "data": {
            "text/plain": [
              "(1600, 71)"
            ]
          },
          "metadata": {},
          "execution_count": 37
        }
      ]
    },
    {
      "cell_type": "markdown",
      "id": "0c1bee1c-a55d-4152-98cd-471028d2d73a",
      "metadata": {
        "id": "0c1bee1c-a55d-4152-98cd-471028d2d73a"
      },
      "source": [
        "# Apresente 5 linhas aleatórias do dataframe"
      ]
    },
    {
      "cell_type": "code",
      "execution_count": 40,
      "id": "b7b7124c-f6fa-4d90-b157-88678e82076e",
      "metadata": {
        "id": "b7b7124c-f6fa-4d90-b157-88678e82076e",
        "outputId": "e8d15cf8-84be-4bf8-fbba-b98d19717179",
        "colab": {
          "base_uri": "https://localhost:8080/",
          "height": 560
        }
      },
      "outputs": [
        {
          "output_type": "execute_result",
          "data": {
            "text/plain": [
              "      DT_GERACAO HH_GERACAO  ANO_ELEICAO  CD_TIPO_ELEICAO    NM_TIPO_ELEICAO  \\\n",
              "1308  13/05/2023   19:32:48         2022                2  ELEIÇÃO ORDINÁRIA   \n",
              "1547  13/05/2023   19:32:48         2022                2  ELEIÇÃO ORDINÁRIA   \n",
              "1038  13/05/2023   19:32:48         2022                2  ELEIÇÃO ORDINÁRIA   \n",
              "406   13/05/2023   19:32:48         2022                2  ELEIÇÃO ORDINÁRIA   \n",
              "364   13/05/2023   19:32:48         2022                2  ELEIÇÃO ORDINÁRIA   \n",
              "\n",
              "      NR_TURNO  CD_ELEICAO                      DS_ELEICAO  DT_ELEICAO  \\\n",
              "1308         1         546  Eleições Gerais Estaduais 2022  02/10/2022   \n",
              "1547         1         546  Eleições Gerais Estaduais 2022  02/10/2022   \n",
              "1038         1         546  Eleições Gerais Estaduais 2022  02/10/2022   \n",
              "406          1         546  Eleições Gerais Estaduais 2022  02/10/2022   \n",
              "364          1         546  Eleições Gerais Estaduais 2022  02/10/2022   \n",
              "\n",
              "     TP_ABRANGENCIA  ...          NR_PROCESSO CD_SITUACAO_CANDIDATO_PLEITO  \\\n",
              "1308       ESTADUAL  ...  6010686820226140000                          2.0   \n",
              "1547       ESTADUAL  ...  6011319320226140000                          2.0   \n",
              "1038       ESTADUAL  ...  6008885220226140000                          2.0   \n",
              "406        ESTADUAL  ...  6002858220226030000                          2.0   \n",
              "364        ESTADUAL  ...  6005680820226030000                          2.0   \n",
              "\n",
              "     DS_SITUACAO_CANDIDATO_PLEITO  CD_SITUACAO_CANDIDATO_URNA  \\\n",
              "1308                     DEFERIDO                         2.0   \n",
              "1547                     DEFERIDO                         2.0   \n",
              "1038                     DEFERIDO                         2.0   \n",
              "406                      DEFERIDO                         2.0   \n",
              "364                      DEFERIDO                         2.0   \n",
              "\n",
              "     DS_SITUACAO_CANDIDATO_URNA  ST_CANDIDATO_INSERIDO_URNA  \\\n",
              "1308                   DEFERIDO                         SIM   \n",
              "1547                   DEFERIDO                         SIM   \n",
              "1038                   DEFERIDO                         SIM   \n",
              "406                    DEFERIDO                         SIM   \n",
              "364                    DEFERIDO                         SIM   \n",
              "\n",
              "      NM_TIPO_DESTINACAO_VOTOS CD_SITUACAO_CANDIDATO_TOT  \\\n",
              "1308                    Válido                       2.0   \n",
              "1547                    Válido                       2.0   \n",
              "1038                    Válido                       2.0   \n",
              "406                     Válido                       2.0   \n",
              "364                     Válido                       2.0   \n",
              "\n",
              "     DS_SITUACAO_CANDIDATO_TOT ST_PREST_CONTAS  \n",
              "1308                  Deferido               S  \n",
              "1547                  Deferido               S  \n",
              "1038                  Deferido               S  \n",
              "406                   Deferido               S  \n",
              "364                   Deferido               S  \n",
              "\n",
              "[5 rows x 71 columns]"
            ],
            "text/html": [
              "\n",
              "  <div id=\"df-37d2c29f-c2a4-4ec7-8f7a-f39f751f9fa2\">\n",
              "    <div class=\"colab-df-container\">\n",
              "      <div>\n",
              "<style scoped>\n",
              "    .dataframe tbody tr th:only-of-type {\n",
              "        vertical-align: middle;\n",
              "    }\n",
              "\n",
              "    .dataframe tbody tr th {\n",
              "        vertical-align: top;\n",
              "    }\n",
              "\n",
              "    .dataframe thead th {\n",
              "        text-align: right;\n",
              "    }\n",
              "</style>\n",
              "<table border=\"1\" class=\"dataframe\">\n",
              "  <thead>\n",
              "    <tr style=\"text-align: right;\">\n",
              "      <th></th>\n",
              "      <th>DT_GERACAO</th>\n",
              "      <th>HH_GERACAO</th>\n",
              "      <th>ANO_ELEICAO</th>\n",
              "      <th>CD_TIPO_ELEICAO</th>\n",
              "      <th>NM_TIPO_ELEICAO</th>\n",
              "      <th>NR_TURNO</th>\n",
              "      <th>CD_ELEICAO</th>\n",
              "      <th>DS_ELEICAO</th>\n",
              "      <th>DT_ELEICAO</th>\n",
              "      <th>TP_ABRANGENCIA</th>\n",
              "      <th>...</th>\n",
              "      <th>NR_PROCESSO</th>\n",
              "      <th>CD_SITUACAO_CANDIDATO_PLEITO</th>\n",
              "      <th>DS_SITUACAO_CANDIDATO_PLEITO</th>\n",
              "      <th>CD_SITUACAO_CANDIDATO_URNA</th>\n",
              "      <th>DS_SITUACAO_CANDIDATO_URNA</th>\n",
              "      <th>ST_CANDIDATO_INSERIDO_URNA</th>\n",
              "      <th>NM_TIPO_DESTINACAO_VOTOS</th>\n",
              "      <th>CD_SITUACAO_CANDIDATO_TOT</th>\n",
              "      <th>DS_SITUACAO_CANDIDATO_TOT</th>\n",
              "      <th>ST_PREST_CONTAS</th>\n",
              "    </tr>\n",
              "  </thead>\n",
              "  <tbody>\n",
              "    <tr>\n",
              "      <th>1308</th>\n",
              "      <td>13/05/2023</td>\n",
              "      <td>19:32:48</td>\n",
              "      <td>2022</td>\n",
              "      <td>2</td>\n",
              "      <td>ELEIÇÃO ORDINÁRIA</td>\n",
              "      <td>1</td>\n",
              "      <td>546</td>\n",
              "      <td>Eleições Gerais Estaduais 2022</td>\n",
              "      <td>02/10/2022</td>\n",
              "      <td>ESTADUAL</td>\n",
              "      <td>...</td>\n",
              "      <td>6010686820226140000</td>\n",
              "      <td>2.0</td>\n",
              "      <td>DEFERIDO</td>\n",
              "      <td>2.0</td>\n",
              "      <td>DEFERIDO</td>\n",
              "      <td>SIM</td>\n",
              "      <td>Válido</td>\n",
              "      <td>2.0</td>\n",
              "      <td>Deferido</td>\n",
              "      <td>S</td>\n",
              "    </tr>\n",
              "    <tr>\n",
              "      <th>1547</th>\n",
              "      <td>13/05/2023</td>\n",
              "      <td>19:32:48</td>\n",
              "      <td>2022</td>\n",
              "      <td>2</td>\n",
              "      <td>ELEIÇÃO ORDINÁRIA</td>\n",
              "      <td>1</td>\n",
              "      <td>546</td>\n",
              "      <td>Eleições Gerais Estaduais 2022</td>\n",
              "      <td>02/10/2022</td>\n",
              "      <td>ESTADUAL</td>\n",
              "      <td>...</td>\n",
              "      <td>6011319320226140000</td>\n",
              "      <td>2.0</td>\n",
              "      <td>DEFERIDO</td>\n",
              "      <td>2.0</td>\n",
              "      <td>DEFERIDO</td>\n",
              "      <td>SIM</td>\n",
              "      <td>Válido</td>\n",
              "      <td>2.0</td>\n",
              "      <td>Deferido</td>\n",
              "      <td>S</td>\n",
              "    </tr>\n",
              "    <tr>\n",
              "      <th>1038</th>\n",
              "      <td>13/05/2023</td>\n",
              "      <td>19:32:48</td>\n",
              "      <td>2022</td>\n",
              "      <td>2</td>\n",
              "      <td>ELEIÇÃO ORDINÁRIA</td>\n",
              "      <td>1</td>\n",
              "      <td>546</td>\n",
              "      <td>Eleições Gerais Estaduais 2022</td>\n",
              "      <td>02/10/2022</td>\n",
              "      <td>ESTADUAL</td>\n",
              "      <td>...</td>\n",
              "      <td>6008885220226140000</td>\n",
              "      <td>2.0</td>\n",
              "      <td>DEFERIDO</td>\n",
              "      <td>2.0</td>\n",
              "      <td>DEFERIDO</td>\n",
              "      <td>SIM</td>\n",
              "      <td>Válido</td>\n",
              "      <td>2.0</td>\n",
              "      <td>Deferido</td>\n",
              "      <td>S</td>\n",
              "    </tr>\n",
              "    <tr>\n",
              "      <th>406</th>\n",
              "      <td>13/05/2023</td>\n",
              "      <td>19:32:48</td>\n",
              "      <td>2022</td>\n",
              "      <td>2</td>\n",
              "      <td>ELEIÇÃO ORDINÁRIA</td>\n",
              "      <td>1</td>\n",
              "      <td>546</td>\n",
              "      <td>Eleições Gerais Estaduais 2022</td>\n",
              "      <td>02/10/2022</td>\n",
              "      <td>ESTADUAL</td>\n",
              "      <td>...</td>\n",
              "      <td>6002858220226030000</td>\n",
              "      <td>2.0</td>\n",
              "      <td>DEFERIDO</td>\n",
              "      <td>2.0</td>\n",
              "      <td>DEFERIDO</td>\n",
              "      <td>SIM</td>\n",
              "      <td>Válido</td>\n",
              "      <td>2.0</td>\n",
              "      <td>Deferido</td>\n",
              "      <td>S</td>\n",
              "    </tr>\n",
              "    <tr>\n",
              "      <th>364</th>\n",
              "      <td>13/05/2023</td>\n",
              "      <td>19:32:48</td>\n",
              "      <td>2022</td>\n",
              "      <td>2</td>\n",
              "      <td>ELEIÇÃO ORDINÁRIA</td>\n",
              "      <td>1</td>\n",
              "      <td>546</td>\n",
              "      <td>Eleições Gerais Estaduais 2022</td>\n",
              "      <td>02/10/2022</td>\n",
              "      <td>ESTADUAL</td>\n",
              "      <td>...</td>\n",
              "      <td>6005680820226030000</td>\n",
              "      <td>2.0</td>\n",
              "      <td>DEFERIDO</td>\n",
              "      <td>2.0</td>\n",
              "      <td>DEFERIDO</td>\n",
              "      <td>SIM</td>\n",
              "      <td>Válido</td>\n",
              "      <td>2.0</td>\n",
              "      <td>Deferido</td>\n",
              "      <td>S</td>\n",
              "    </tr>\n",
              "  </tbody>\n",
              "</table>\n",
              "<p>5 rows × 71 columns</p>\n",
              "</div>\n",
              "      <button class=\"colab-df-convert\" onclick=\"convertToInteractive('df-37d2c29f-c2a4-4ec7-8f7a-f39f751f9fa2')\"\n",
              "              title=\"Convert this dataframe to an interactive table.\"\n",
              "              style=\"display:none;\">\n",
              "        \n",
              "  <svg xmlns=\"http://www.w3.org/2000/svg\" height=\"24px\"viewBox=\"0 0 24 24\"\n",
              "       width=\"24px\">\n",
              "    <path d=\"M0 0h24v24H0V0z\" fill=\"none\"/>\n",
              "    <path d=\"M18.56 5.44l.94 2.06.94-2.06 2.06-.94-2.06-.94-.94-2.06-.94 2.06-2.06.94zm-11 1L8.5 8.5l.94-2.06 2.06-.94-2.06-.94L8.5 2.5l-.94 2.06-2.06.94zm10 10l.94 2.06.94-2.06 2.06-.94-2.06-.94-.94-2.06-.94 2.06-2.06.94z\"/><path d=\"M17.41 7.96l-1.37-1.37c-.4-.4-.92-.59-1.43-.59-.52 0-1.04.2-1.43.59L10.3 9.45l-7.72 7.72c-.78.78-.78 2.05 0 2.83L4 21.41c.39.39.9.59 1.41.59.51 0 1.02-.2 1.41-.59l7.78-7.78 2.81-2.81c.8-.78.8-2.07 0-2.86zM5.41 20L4 18.59l7.72-7.72 1.47 1.35L5.41 20z\"/>\n",
              "  </svg>\n",
              "      </button>\n",
              "      \n",
              "  <style>\n",
              "    .colab-df-container {\n",
              "      display:flex;\n",
              "      flex-wrap:wrap;\n",
              "      gap: 12px;\n",
              "    }\n",
              "\n",
              "    .colab-df-convert {\n",
              "      background-color: #E8F0FE;\n",
              "      border: none;\n",
              "      border-radius: 50%;\n",
              "      cursor: pointer;\n",
              "      display: none;\n",
              "      fill: #1967D2;\n",
              "      height: 32px;\n",
              "      padding: 0 0 0 0;\n",
              "      width: 32px;\n",
              "    }\n",
              "\n",
              "    .colab-df-convert:hover {\n",
              "      background-color: #E2EBFA;\n",
              "      box-shadow: 0px 1px 2px rgba(60, 64, 67, 0.3), 0px 1px 3px 1px rgba(60, 64, 67, 0.15);\n",
              "      fill: #174EA6;\n",
              "    }\n",
              "\n",
              "    [theme=dark] .colab-df-convert {\n",
              "      background-color: #3B4455;\n",
              "      fill: #D2E3FC;\n",
              "    }\n",
              "\n",
              "    [theme=dark] .colab-df-convert:hover {\n",
              "      background-color: #434B5C;\n",
              "      box-shadow: 0px 1px 3px 1px rgba(0, 0, 0, 0.15);\n",
              "      filter: drop-shadow(0px 1px 2px rgba(0, 0, 0, 0.3));\n",
              "      fill: #FFFFFF;\n",
              "    }\n",
              "  </style>\n",
              "\n",
              "      <script>\n",
              "        const buttonEl =\n",
              "          document.querySelector('#df-37d2c29f-c2a4-4ec7-8f7a-f39f751f9fa2 button.colab-df-convert');\n",
              "        buttonEl.style.display =\n",
              "          google.colab.kernel.accessAllowed ? 'block' : 'none';\n",
              "\n",
              "        async function convertToInteractive(key) {\n",
              "          const element = document.querySelector('#df-37d2c29f-c2a4-4ec7-8f7a-f39f751f9fa2');\n",
              "          const dataTable =\n",
              "            await google.colab.kernel.invokeFunction('convertToInteractive',\n",
              "                                                     [key], {});\n",
              "          if (!dataTable) return;\n",
              "\n",
              "          const docLinkHtml = 'Like what you see? Visit the ' +\n",
              "            '<a target=\"_blank\" href=https://colab.research.google.com/notebooks/data_table.ipynb>data table notebook</a>'\n",
              "            + ' to learn more about interactive tables.';\n",
              "          element.innerHTML = '';\n",
              "          dataTable['output_type'] = 'display_data';\n",
              "          await google.colab.output.renderOutput(dataTable, element);\n",
              "          const docLink = document.createElement('div');\n",
              "          docLink.innerHTML = docLinkHtml;\n",
              "          element.appendChild(docLink);\n",
              "        }\n",
              "      </script>\n",
              "    </div>\n",
              "  </div>\n",
              "  "
            ]
          },
          "metadata": {},
          "execution_count": 40
        }
      ],
      "source": [
        "candidaturas.sample(5)"
      ]
    },
    {
      "cell_type": "markdown",
      "id": "a8238419-ff3d-4f00-bc36-ad1f4da01920",
      "metadata": {
        "id": "a8238419-ff3d-4f00-bc36-ad1f4da01920"
      },
      "source": [
        "# Quantas candidaturas estão em situação de reeleição?"
      ]
    },
    {
      "cell_type": "code",
      "execution_count": null,
      "id": "28055dde-c74b-403e-bcc3-deb82a828084",
      "metadata": {
        "id": "28055dde-c74b-403e-bcc3-deb82a828084"
      },
      "outputs": [],
      "source": [
        "candidaturas['ST_REELEICAO'].unique()"
      ]
    },
    {
      "cell_type": "code",
      "source": [
        "candidaturas['ST_REELEICAO'].value_counts()"
      ],
      "metadata": {
        "id": "ILRDk78oNwww",
        "outputId": "79532168-4a66-441e-cafd-5e90f193cd48",
        "colab": {
          "base_uri": "https://localhost:8080/"
        }
      },
      "id": "ILRDk78oNwww",
      "execution_count": 49,
      "outputs": [
        {
          "output_type": "execute_result",
          "data": {
            "text/plain": [
              "N                 1518\n",
              "S                   81\n",
              "Não divulgável       1\n",
              "Name: ST_REELEICAO, dtype: int64"
            ]
          },
          "metadata": {},
          "execution_count": 49
        }
      ]
    },
    {
      "cell_type": "code",
      "source": [
        "candidaturas['ST_REELEICAO'].value_counts('S')"
      ],
      "metadata": {
        "id": "0D-c6oA5N7A9",
        "outputId": "da5e7a01-6e30-4071-e1fe-face37ffcc22",
        "colab": {
          "base_uri": "https://localhost:8080/"
        }
      },
      "id": "0D-c6oA5N7A9",
      "execution_count": 45,
      "outputs": [
        {
          "output_type": "execute_result",
          "data": {
            "text/plain": [
              "N                 0.948750\n",
              "S                 0.050625\n",
              "Não divulgável    0.000625\n",
              "Name: ST_REELEICAO, dtype: float64"
            ]
          },
          "metadata": {},
          "execution_count": 45
        }
      ]
    },
    {
      "cell_type": "code",
      "source": [
        "candidaturas.column"
      ],
      "metadata": {
        "id": "7Pe7wdjNOq2N"
      },
      "id": "7Pe7wdjNOq2N",
      "execution_count": null,
      "outputs": []
    },
    {
      "cell_type": "code",
      "source": [],
      "metadata": {
        "id": "XBdvO_R8Ok6m"
      },
      "id": "XBdvO_R8Ok6m",
      "execution_count": null,
      "outputs": []
    },
    {
      "cell_type": "markdown",
      "id": "7cd5434f-9c0d-4fb6-a3ef-ce44498fea2e",
      "metadata": {
        "id": "7cd5434f-9c0d-4fb6-a3ef-ce44498fea2e"
      },
      "source": [
        "# Liste todas a ocupações declaradas pelas candidaturas"
      ]
    },
    {
      "cell_type": "code",
      "source": [
        "candidaturas['DS_CARGO'].unique()"
      ],
      "metadata": {
        "id": "MTwj1yzRNUGj",
        "outputId": "e62e76b9-5fa8-4c23-8ebf-e7806a624170",
        "colab": {
          "base_uri": "https://localhost:8080/"
        }
      },
      "id": "MTwj1yzRNUGj",
      "execution_count": 50,
      "outputs": [
        {
          "output_type": "execute_result",
          "data": {
            "text/plain": [
              "array(['DEPUTADO ESTADUAL', 'DEPUTADO FEDERAL', 'VICE-GOVERNADOR',\n",
              "       'SENADOR', 'GOVERNADOR', '1º SUPLENTE', '2º SUPLENTE'],\n",
              "      dtype=object)"
            ]
          },
          "metadata": {},
          "execution_count": 50
        }
      ]
    },
    {
      "cell_type": "code",
      "execution_count": 53,
      "id": "ef30c1ab-703f-4c65-8ba5-1cde6c183f88",
      "metadata": {
        "id": "ef30c1ab-703f-4c65-8ba5-1cde6c183f88"
      },
      "outputs": [],
      "source": [
        "candidaturas_dep_fed = candidaturas[\n",
        "    candidaturas['DS_CARGO'] == \"DEPUTADO FEDERAL\"\n",
        "].copy()"
      ]
    },
    {
      "cell_type": "code",
      "source": [
        "candidaturas_dep_fed['DS_CARGO'].unique()"
      ],
      "metadata": {
        "id": "U6dksVn1Pwv6",
        "outputId": "d41879f5-c093-49b8-e9b4-1f96ee5b4136",
        "colab": {
          "base_uri": "https://localhost:8080/"
        }
      },
      "id": "U6dksVn1Pwv6",
      "execution_count": 54,
      "outputs": [
        {
          "output_type": "execute_result",
          "data": {
            "text/plain": [
              "array(['DEPUTADO FEDERAL'], dtype=object)"
            ]
          },
          "metadata": {},
          "execution_count": 54
        }
      ]
    },
    {
      "cell_type": "code",
      "source": [
        "candidaturas_dep_fed['DS_OCUPACAO'].unique()"
      ],
      "metadata": {
        "id": "pBJ69PWPP9CJ"
      },
      "id": "pBJ69PWPP9CJ",
      "execution_count": null,
      "outputs": []
    },
    {
      "cell_type": "markdown",
      "id": "f92cd033-7c9a-47ac-acad-d5db0035e6ff",
      "metadata": {
        "id": "f92cd033-7c9a-47ac-acad-d5db0035e6ff"
      },
      "source": [
        "# Quantos anos tem a pessoa candidata mais velha?"
      ]
    },
    {
      "cell_type": "code",
      "execution_count": 60,
      "id": "53b023a1-812e-4587-897d-703bf0a2a746",
      "metadata": {
        "id": "53b023a1-812e-4587-897d-703bf0a2a746",
        "outputId": "4eb37606-a81c-4ec8-e373-4c8bf79a0407",
        "colab": {
          "base_uri": "https://localhost:8080/"
        }
      },
      "outputs": [
        {
          "output_type": "execute_result",
          "data": {
            "text/plain": [
              "Index(['DT_GERACAO', 'HH_GERACAO', 'ANO_ELEICAO', 'CD_TIPO_ELEICAO',\n",
              "       'NM_TIPO_ELEICAO', 'NR_TURNO', 'CD_ELEICAO', 'DS_ELEICAO', 'DT_ELEICAO',\n",
              "       'TP_ABRANGENCIA', 'SG_UF', 'SG_UE', 'NM_UE', 'CD_CARGO', 'DS_CARGO',\n",
              "       'SQ_CANDIDATO', 'NR_CANDIDATO', 'NM_CANDIDATO', 'NM_URNA_CANDIDATO',\n",
              "       'NM_SOCIAL_CANDIDATO', 'NR_CPF_CANDIDATO', 'NM_EMAIL',\n",
              "       'CD_SITUACAO_CANDIDATURA', 'DS_SITUACAO_CANDIDATURA',\n",
              "       'CD_DETALHE_SITUACAO_CAND', 'DS_DETALHE_SITUACAO_CAND', 'TP_AGREMIACAO',\n",
              "       'NR_PARTIDO', 'SG_PARTIDO', 'NM_PARTIDO', 'NR_FEDERACAO',\n",
              "       'NM_FEDERACAO', 'SG_FEDERACAO', 'DS_COMPOSICAO_FEDERACAO',\n",
              "       'SQ_COLIGACAO', 'NM_COLIGACAO', 'DS_COMPOSICAO_COLIGACAO',\n",
              "       'CD_NACIONALIDADE', 'DS_NACIONALIDADE', 'SG_UF_NASCIMENTO',\n",
              "       'CD_MUNICIPIO_NASCIMENTO', 'NM_MUNICIPIO_NASCIMENTO', 'DT_NASCIMENTO',\n",
              "       'NR_IDADE_DATA_POSSE', 'NR_TITULO_ELEITORAL_CANDIDATO', 'CD_GENERO',\n",
              "       'DS_GENERO', 'CD_GRAU_INSTRUCAO', 'DS_GRAU_INSTRUCAO',\n",
              "       'CD_ESTADO_CIVIL', 'DS_ESTADO_CIVIL', 'CD_COR_RACA', 'DS_COR_RACA',\n",
              "       'CD_OCUPACAO', 'DS_OCUPACAO', 'VR_DESPESA_MAX_CAMPANHA',\n",
              "       'CD_SIT_TOT_TURNO', 'DS_SIT_TOT_TURNO', 'ST_REELEICAO',\n",
              "       'ST_DECLARAR_BENS', 'NR_PROTOCOLO_CANDIDATURA', 'NR_PROCESSO',\n",
              "       'CD_SITUACAO_CANDIDATO_PLEITO', 'DS_SITUACAO_CANDIDATO_PLEITO',\n",
              "       'CD_SITUACAO_CANDIDATO_URNA', 'DS_SITUACAO_CANDIDATO_URNA',\n",
              "       'ST_CANDIDATO_INSERIDO_URNA', 'NM_TIPO_DESTINACAO_VOTOS',\n",
              "       'CD_SITUACAO_CANDIDATO_TOT', 'DS_SITUACAO_CANDIDATO_TOT',\n",
              "       'ST_PREST_CONTAS'],\n",
              "      dtype='object')"
            ]
          },
          "metadata": {},
          "execution_count": 60
        }
      ],
      "source": [
        "candidaturas_dep_fed.columns"
      ]
    },
    {
      "cell_type": "code",
      "source": [
        "candidaturas_dep_fed['NR_IDADE_DATA_POSSE'].max()"
      ],
      "metadata": {
        "id": "K46PKTUwQRhV",
        "outputId": "1db97439-05b3-425d-9a8d-1c9ff48c65ce",
        "colab": {
          "base_uri": "https://localhost:8080/"
        }
      },
      "id": "K46PKTUwQRhV",
      "execution_count": 58,
      "outputs": [
        {
          "output_type": "execute_result",
          "data": {
            "text/plain": [
              "81.0"
            ]
          },
          "metadata": {},
          "execution_count": 58
        }
      ]
    },
    {
      "cell_type": "markdown",
      "id": "de5c48c3-c0b9-418c-bba2-bb20c5312bd8",
      "metadata": {
        "id": "de5c48c3-c0b9-418c-bba2-bb20c5312bd8"
      },
      "source": [
        "# Quantos anos tem a pessoa candidata mais jovem?"
      ]
    },
    {
      "cell_type": "code",
      "execution_count": 59,
      "id": "19c454cb-784f-48ab-8a82-61343b045bb8",
      "metadata": {
        "id": "19c454cb-784f-48ab-8a82-61343b045bb8",
        "outputId": "118f909f-5fa1-45fd-cf91-a5e568dfa6bd",
        "colab": {
          "base_uri": "https://localhost:8080/"
        }
      },
      "outputs": [
        {
          "output_type": "execute_result",
          "data": {
            "text/plain": [
              "22.0"
            ]
          },
          "metadata": {},
          "execution_count": 59
        }
      ],
      "source": [
        "candidaturas_dep_fed['NR_IDADE_DATA_POSSE'].min()"
      ]
    },
    {
      "cell_type": "markdown",
      "id": "f18ae4e7-ccca-4152-9971-65c543847936",
      "metadata": {
        "id": "f18ae4e7-ccca-4152-9971-65c543847936"
      },
      "source": [
        "# Qual é o nome da pessoa candidata mais velha?"
      ]
    },
    {
      "cell_type": "code",
      "execution_count": 67,
      "id": "c7059bae-72e9-4c4b-ae70-71c9085b2a1f",
      "metadata": {
        "id": "c7059bae-72e9-4c4b-ae70-71c9085b2a1f"
      },
      "outputs": [],
      "source": [
        "candidata_mais_velha = candidaturas_dep_fed[\n",
        "    candidaturas_dep_fed['NR_IDADE_DATA_POSSE'] == candidaturas_dep_fed['NR_IDADE_DATA_POSSE'].max()\n",
        "]['NM_CANDIDATO']"
      ]
    },
    {
      "cell_type": "code",
      "source": [
        "candidaturas_dep_fed[]"
      ],
      "metadata": {
        "id": "zmZPwZ6aUsgc"
      },
      "id": "zmZPwZ6aUsgc",
      "execution_count": null,
      "outputs": []
    },
    {
      "cell_type": "code",
      "source": [
        "candidata_mais_velha"
      ],
      "metadata": {
        "id": "SNjmcnFlULg5",
        "outputId": "52433867-b324-41fa-bfb2-4235436aea8f",
        "colab": {
          "base_uri": "https://localhost:8080/"
        }
      },
      "id": "SNjmcnFlULg5",
      "execution_count": 68,
      "outputs": [
        {
          "output_type": "execute_result",
          "data": {
            "text/plain": [
              "606    MARIA DE LOURDES PEREIRA DE FARIAS\n",
              "Name: NM_CANDIDATO, dtype: object"
            ]
          },
          "metadata": {},
          "execution_count": 68
        }
      ]
    },
    {
      "cell_type": "markdown",
      "id": "f6ddfb4c-7012-4f0b-befb-f44cde4c06a8",
      "metadata": {
        "id": "f6ddfb4c-7012-4f0b-befb-f44cde4c06a8"
      },
      "source": [
        "# Quantas candidaturas existem para \"Deputado federal\" seu estado?"
      ]
    },
    {
      "cell_type": "code",
      "execution_count": 71,
      "id": "ae815f6f-7403-4067-af0b-175b21f45172",
      "metadata": {
        "id": "ae815f6f-7403-4067-af0b-175b21f45172",
        "outputId": "a2154698-6f64-42a1-f409-b04b9bfefde4",
        "colab": {
          "base_uri": "https://localhost:8080/"
        }
      },
      "outputs": [
        {
          "output_type": "execute_result",
          "data": {
            "text/plain": [
              "477"
            ]
          },
          "metadata": {},
          "execution_count": 71
        }
      ],
      "source": [
        "candidaturas_dep_fed.shape[0]"
      ]
    },
    {
      "cell_type": "markdown",
      "id": "6658e4f9-9271-4f0e-b6f8-575e33e5d8c9",
      "metadata": {
        "id": "6658e4f9-9271-4f0e-b6f8-575e33e5d8c9"
      },
      "source": [
        "# Qual é a média do valor máximo de despesas de campanha?"
      ]
    },
    {
      "cell_type": "code",
      "execution_count": 75,
      "id": "1b8283db-c218-44cd-908b-e4a2f041a435",
      "metadata": {
        "id": "1b8283db-c218-44cd-908b-e4a2f041a435"
      },
      "outputs": [],
      "source": [
        "media = candidaturas_dep_fed['VR_DESPESA_MAX_CAMPANHA'].mean()"
      ]
    },
    {
      "cell_type": "code",
      "source": [
        "round(media, 1)"
      ],
      "metadata": {
        "id": "sqbdaBxdV179",
        "outputId": "46f84115-bc69-40f2-d0cd-03c90056c95f",
        "colab": {
          "base_uri": "https://localhost:8080/"
        }
      },
      "id": "sqbdaBxdV179",
      "execution_count": 77,
      "outputs": [
        {
          "output_type": "execute_result",
          "data": {
            "text/plain": [
              "3176572.5"
            ]
          },
          "metadata": {},
          "execution_count": 77
        }
      ]
    }
  ],
  "metadata": {
    "kernelspec": {
      "display_name": "Python 3 (ipykernel)",
      "language": "python",
      "name": "python3"
    },
    "language_info": {
      "codemirror_mode": {
        "name": "ipython",
        "version": 3
      },
      "file_extension": ".py",
      "mimetype": "text/x-python",
      "name": "python",
      "nbconvert_exporter": "python",
      "pygments_lexer": "ipython3",
      "version": "3.10.6"
    },
    "colab": {
      "provenance": []
    }
  },
  "nbformat": 4,
  "nbformat_minor": 5
}